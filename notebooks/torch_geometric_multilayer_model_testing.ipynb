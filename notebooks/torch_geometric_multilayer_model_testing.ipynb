{
 "cells": [
  {
   "cell_type": "code",
   "execution_count": 1,
   "metadata": {},
   "outputs": [],
   "source": [
    "# Let's start learning\n",
    "import torch\n",
    "from torch_geometric.datasets import Planetoid\n",
    "from cora_loader import CitationNetwork,CocitationNetwork,ConfigurationModelCitationNetwork\n",
    "from torch.utils.data import DataLoader\n",
    "from torch_geometric.nn import GCNConv,SAGEConv,GATConv,GraphConv,SGConv\n",
    "\n",
    "\n",
    "from torch_geometric_node2vec import Node2Vec\n",
    "\n",
    "# from models import MonoModel,BiModel,TriModel\n",
    "from multi_layered_model import MonoModel,BiModel,TriModel\n",
    "import numpy as np"
   ]
  },
  {
   "cell_type": "code",
   "execution_count": 6,
   "metadata": {},
   "outputs": [],
   "source": [
    "import time\n",
    "import torch.nn.functional as F\n",
    "\n",
    "def run_and_eval_model(dataset,channels,modelType,architecture=MonoModel,epochs=200):\n",
    "    # training process (without batches/transforms)\n",
    "    device = torch.device('cuda' if torch.cuda.is_available() else 'cpu')\n",
    "    model = architecture(modelType,dataset,channels).to(device)\n",
    "#     print(model)\n",
    "    data = dataset[0].to(device)\n",
    "    optimizer = torch.optim.Adam(model.parameters(),lr=0.01,weight_decay=5e-4)\n",
    "    model.train() # to enter training phase\n",
    "    for epoch in range(epochs):\n",
    "        optimizer.zero_grad() # saw this a lot in the beginning, maybe resetting gradients (not to accumulate)\n",
    "        out = model(data) # this calls the forward method apparently\n",
    "        loss = F.nll_loss(out[data.train_mask],data.y[data.train_mask]) # nice indexing, easy and short\n",
    "        loss.backward() # magic: real back propagation step, takes care of the gradients and stuff\n",
    "        optimizer.step() # maybe updates the params to be optimized\n",
    "    model.eval() # enter eval phase\n",
    "    _,pred = model(data).max(dim=1) # take prediction out of softmax\n",
    "    correct = float(pred[data.test_mask].eq(data.y[data.test_mask]).sum().item())\n",
    "    acc = correct / data.test_mask.sum().item()\n",
    "    return acc\n",
    "\n",
    "def eval_multiple(dataset,channels,modelType,architecture=MonoModel,runs=100,epochs=50):\n",
    "    start = time.time()\n",
    "    accs = []\n",
    "    for i in range(runs):\n",
    "        accs.append(run_and_eval_model(dataset,channels,modelType,architecture,epochs))\n",
    "    elapsed_time = time.time() - start\n",
    "    print('Elaplsed {}'.format(time.strftime(\"%H:%M:%S\", time.gmtime(elapsed_time))))\n",
    "    return sum(accs)/len(accs),np.std(np.array(accs)),accs"
   ]
  },
  {
   "cell_type": "code",
   "execution_count": 4,
   "metadata": {},
   "outputs": [],
   "source": [
    "cocit = CitationNetwork('/tmp/CoCit0','CoCit',directed=False)"
   ]
  },
  {
   "cell_type": "code",
   "execution_count": 5,
   "metadata": {},
   "outputs": [
    {
     "name": "stdout",
     "output_type": "stream",
     "text": [
      "Elaplsed 00:00:41\n",
      "cocit accuracy: 0.0900\n",
      "Elaplsed 00:00:40\n",
      "cocit accuracy: 0.0900\n",
      "Elaplsed 00:01:19\n",
      "cocit accuracy: 0.0720\n"
     ]
    }
   ],
   "source": [
    "print('cocit accuracy: {:.4f}'.format(\n",
    "    eval_multiple(cocit,[128],GCNConv,runs=1,epochs=200)[0]))\n",
    "print('cocit accuracy: {:.4f}'.format(\n",
    "    eval_multiple(cocit,[64],GCNConv,architecture=BiModel,runs=1,epochs=200)[0]))\n",
    "print('cocit accuracy: {:.4f}'.format(\n",
    "    eval_multiple(cocit,[42],GCNConv,architecture=TriModel,runs=1,epochs=200)[0]))"
   ]
  },
  {
   "cell_type": "code",
   "execution_count": 3,
   "metadata": {},
   "outputs": [],
   "source": [
    "cora = CitationNetwork('/tmp/cora','cora',directed=False)"
   ]
  },
  {
   "cell_type": "code",
   "execution_count": 4,
   "metadata": {},
   "outputs": [],
   "source": [
    "citeseer = CitationNetwork('/tmp/citeseer','citeseer',directed=False)"
   ]
  },
  {
   "cell_type": "code",
   "execution_count": 5,
   "metadata": {},
   "outputs": [],
   "source": [
    "PubMed = CitationNetwork('/tmp/PubMed','PubMed',directed=False)"
   ]
  },
  {
   "cell_type": "code",
   "execution_count": 12,
   "metadata": {
    "scrolled": true
   },
   "outputs": [],
   "source": [
    "coraDirected = CitationNetwork('/tmp/coraDirected','cora',directed=True)\n",
    "coraReversed = CitationNetwork('/tmp/coraReversed','cora',directed=True,reverse=True)\n",
    "citeseerDirected = CitationNetwork('/tmp/citeseerDirected','citeseer',directed=True)\n",
    "citeseerReversed = CitationNetwork('/tmp/citeseerReversed','citeseer',directed=True,reverse=True)"
   ]
  },
  {
   "cell_type": "markdown",
   "metadata": {},
   "source": [
    "## Accuracy on normal network"
   ]
  },
  {
   "cell_type": "code",
   "execution_count": 18,
   "metadata": {},
   "outputs": [
    {
     "name": "stdout",
     "output_type": "stream",
     "text": [
      "Elaplsed 00:01:19\n",
      "cora accuracy: 0.7991\n",
      "Elaplsed 00:01:51\n",
      "cora accuracy: 0.7968\n",
      "Elaplsed 00:02:19\n",
      "cora accuracy: 0.8004\n"
     ]
    }
   ],
   "source": [
    "print('cora accuracy: {:.4f}'.format(\n",
    "    eval_multiple(cora,[32],GCNConv,runs=100,epochs=200)[0]))\n",
    "print('cora accuracy: {:.4f}'.format(\n",
    "    eval_multiple(cora,[16],GCNConv,architecture=BiModel,runs=100,epochs=200)[0]))\n",
    "print('cora accuracy: {:.4f}'.format(\n",
    "    eval_multiple(cora,[12],GCNConv,architecture=TriModel,runs=100,epochs=200)[0]))"
   ]
  },
  {
   "cell_type": "code",
   "execution_count": 20,
   "metadata": {},
   "outputs": [
    {
     "name": "stdout",
     "output_type": "stream",
     "text": [
      "Elaplsed 00:02:13\n",
      "cora accuracy: 0.7593\n",
      "Elaplsed 00:03:20\n",
      "cora accuracy: 0.7756\n",
      "Elaplsed 00:04:10\n",
      "cora accuracy: 0.7830\n"
     ]
    }
   ],
   "source": [
    "print('cora accuracy: {:.4f}'.format(\n",
    "    eval_multiple(cora,[32],GATConv,runs=100,epochs=200)[0]))\n",
    "print('cora accuracy: {:.4f}'.format(\n",
    "    eval_multiple(cora,[16],GATConv,architecture=BiModel,runs=100,epochs=200)[0]))\n",
    "print('cora accuracy: {:.4f}'.format(\n",
    "    eval_multiple(cora,[12],GATConv,architecture=TriModel,runs=100,epochs=200)[0]))"
   ]
  },
  {
   "cell_type": "code",
   "execution_count": 13,
   "metadata": {},
   "outputs": [
    {
     "name": "stdout",
     "output_type": "stream",
     "text": [
      "Elaplsed 00:01:30\n",
      "cora accuracy: 0.8016\n",
      "Elaplsed 00:02:02\n",
      "cora accuracy: 0.8072\n",
      "Elaplsed 00:02:37\n",
      "cora accuracy: 0.8067\n"
     ]
    }
   ],
   "source": [
    "print('cora accuracy: {:.4f}'.format(\n",
    "    eval_multiple(cora,[128],GCNConv,runs=100,epochs=200)[0]))\n",
    "print('cora accuracy: {:.4f}'.format(\n",
    "    eval_multiple(cora,[64],GCNConv,architecture=BiModel,runs=100,epochs=200)[0]))\n",
    "print('cora accuracy: {:.4f}'.format(\n",
    "    eval_multiple(cora,[42],GCNConv,architecture=TriModel,runs=100,epochs=200)[0]))"
   ]
  },
  {
   "cell_type": "code",
   "execution_count": 14,
   "metadata": {},
   "outputs": [
    {
     "name": "stdout",
     "output_type": "stream",
     "text": [
      "Elaplsed 00:02:22\n",
      "cora accuracy: 0.7430\n",
      "Elaplsed 00:03:22\n",
      "cora accuracy: 0.7675\n",
      "Elaplsed 00:04:13\n",
      "cora accuracy: 0.7763\n"
     ]
    }
   ],
   "source": [
    "print('cora accuracy: {:.4f}'.format(\n",
    "    eval_multiple(cora,[128],GATConv,runs=100,epochs=200)[0]))\n",
    "print('cora accuracy: {:.4f}'.format(\n",
    "    eval_multiple(cora,[64],GATConv,architecture=BiModel,runs=100,epochs=200)[0]))\n",
    "print('cora accuracy: {:.4f}'.format(\n",
    "    eval_multiple(cora,[42],GATConv,architecture=TriModel,runs=100,epochs=200)[0]))"
   ]
  },
  {
   "cell_type": "markdown",
   "metadata": {},
   "source": []
  },
  {
   "cell_type": "code",
   "execution_count": 15,
   "metadata": {},
   "outputs": [
    {
     "name": "stdout",
     "output_type": "stream",
     "text": [
      "Elaplsed 00:01:32\n",
      "citeseer accuracy: 0.7224\n",
      "Elaplsed 00:02:09\n",
      "citeseer accuracy: 0.7195\n",
      "Elaplsed 00:02:35\n",
      "citeseer accuracy: 0.7193\n"
     ]
    }
   ],
   "source": [
    "print('citeseer accuracy: {:.4f}'.format(\n",
    "    eval_multiple(citeseer,[128],GCNConv,runs=100,epochs=200)[0]))\n",
    "print('citeseer accuracy: {:.4f}'.format(\n",
    "    eval_multiple(citeseer,[64],GCNConv,architecture=BiModel,runs=100,epochs=200)[0]))\n",
    "print('citeseer accuracy: {:.4f}'.format(\n",
    "    eval_multiple(citeseer,[42],GCNConv,architecture=TriModel,runs=100,epochs=200)[0]))"
   ]
  },
  {
   "cell_type": "code",
   "execution_count": 25,
   "metadata": {},
   "outputs": [
    {
     "name": "stdout",
     "output_type": "stream",
     "text": [
      "Elaplsed 00:02:17\n",
      "citeseer accuracy: 0.6981\n",
      "Elaplsed 00:03:14\n",
      "citeseer accuracy: 0.7195\n",
      "Elaplsed 00:04:14\n",
      "citeseer accuracy: 0.7232\n"
     ]
    }
   ],
   "source": [
    "print('citeseer accuracy: {:.4f}'.format(\n",
    "    eval_multiple(citeseer,[128],GATConvConv,runs=100,epochs=200)[0]))\n",
    "print('citeseer accuracy: {:.4f}'.format(\n",
    "    eval_multiple(citeseer,[64],GATConv,architecture=BiModel,runs=100,epochs=200)[0]))\n",
    "print('citeseer accuracy: {:.4f}'.format(\n",
    "    eval_multiple(citeseer,[42],GATConv,architecture=TriModel,runs=100,epochs=200)[0]))"
   ]
  },
  {
   "cell_type": "markdown",
   "metadata": {},
   "source": []
  },
  {
   "cell_type": "code",
   "execution_count": 19,
   "metadata": {},
   "outputs": [
    {
     "name": "stdout",
     "output_type": "stream",
     "text": [
      "Elaplsed 00:05:07\n",
      "cora accuracy: 0.7867\n"
     ]
    }
   ],
   "source": [
    "print('cora accuracy: {:.4f}'.format(\n",
    "    eval_multiple(cora,[128,128],GCNConv,runs=100,epochs=500)[0]))"
   ]
  },
  {
   "cell_type": "code",
   "execution_count": 20,
   "metadata": {},
   "outputs": [
    {
     "name": "stdout",
     "output_type": "stream",
     "text": [
      "Elaplsed 00:07:22\n",
      "cora accuracy: 0.7862\n"
     ]
    }
   ],
   "source": [
    "print('cora accuracy: {:.4f}'.format(\n",
    "    eval_multiple(cora,[64,64],GCNConv,architecture=BiModel,runs=100,epochs=500)[0]))"
   ]
  },
  {
   "cell_type": "code",
   "execution_count": 22,
   "metadata": {},
   "outputs": [
    {
     "name": "stdout",
     "output_type": "stream",
     "text": [
      "Elaplsed 00:10:10\n",
      "cora accuracy: 0.7837\n"
     ]
    }
   ],
   "source": [
    "print('cora accuracy: {:.4f}'.format(\n",
    "    eval_multiple(cora,[42,42],GCNConv,architecture=TriModel,runs=100,epochs=500)[0]))"
   ]
  },
  {
   "cell_type": "markdown",
   "metadata": {},
   "source": []
  },
  {
   "cell_type": "code",
   "execution_count": 28,
   "metadata": {},
   "outputs": [
    {
     "name": "stdout",
     "output_type": "stream",
     "text": [
      "Elaplsed 00:03:07\n",
      "cora accuracy: 0.7736\n"
     ]
    }
   ],
   "source": [
    "print('cora accuracy: {:.4f}'.format(\n",
    "    eval_multiple(cora,[128,64,32,16],GCNConv,runs=100,epochs=200)[0]))"
   ]
  },
  {
   "cell_type": "code",
   "execution_count": 29,
   "metadata": {},
   "outputs": [
    {
     "name": "stdout",
     "output_type": "stream",
     "text": [
      "Elaplsed 00:05:14\n",
      "cora accuracy: 0.7648\n"
     ]
    }
   ],
   "source": [
    "print('cora accuracy: {:.4f}'.format(\n",
    "    eval_multiple(cora,[64,32,16,8],GCNConv,architecture=BiModel,runs=100,epochs=200)[0]))"
   ]
  },
  {
   "cell_type": "code",
   "execution_count": null,
   "metadata": {},
   "outputs": [],
   "source": [
    "print('cora accuracy: {:.4f}'.format(\n",
    "    eval_multiple(cora,[42,21,10,5],GCNConv,architecture=BiModel,runs=100,epochs=200)[0]))"
   ]
  },
  {
   "cell_type": "markdown",
   "metadata": {},
   "source": [
    "## Accuracy on configuration model"
   ]
  },
  {
   "cell_type": "markdown",
   "metadata": {},
   "source": [
    "### Directed Case"
   ]
  },
  {
   "cell_type": "code",
   "execution_count": 11,
   "metadata": {},
   "outputs": [],
   "source": [
    "coraConfDirected = ConfigurationModelCitationNetwork('/tmp/coraConfDirected','cora',directed=True)\n",
    "citeseerConfDirected = ConfigurationModelCitationNetwork('/tmp/citeseerConfDirected','citeseer',directed=True)\n",
    "PubMedConfDirected = ConfigurationModelCitationNetwork('/tmp/PubMedConfDirected','PubMed',directed=True)"
   ]
  },
  {
   "cell_type": "code",
   "execution_count": 13,
   "metadata": {},
   "outputs": [
    {
     "name": "stdout",
     "output_type": "stream",
     "text": [
      "Elaplsed 00:01:27\n",
      "cora accuracy: 0.2449+-(0.0153)\n"
     ]
    }
   ],
   "source": [
    "meanAcc,stdAcc,acc = eval_multiple(coraConfDirected,[128],GCNConv,runs=100,epochs=200)\n",
    "print('cora accuracy: {:.4f}+-({:.4f})'.format(\n",
    "    meanAcc,stdAcc))"
   ]
  },
  {
   "cell_type": "code",
   "execution_count": 15,
   "metadata": {},
   "outputs": [
    {
     "name": "stdout",
     "output_type": "stream",
     "text": [
      "Elaplsed 00:01:36\n",
      "citeseer accuracy: 0.3261+-(0.0162)\n"
     ]
    }
   ],
   "source": [
    "meanAcc,stdAcc,acc = eval_multiple(citeseerConfDirected,[128],GCNConv,runs=100,epochs=200)\n",
    "print('citeseer accuracy: {:.4f}+-({:.4f})'.format(\n",
    "    meanAcc,stdAcc))"
   ]
  },
  {
   "cell_type": "code",
   "execution_count": 16,
   "metadata": {},
   "outputs": [
    {
     "name": "stdout",
     "output_type": "stream",
     "text": [
      "Elaplsed 00:01:50\n",
      "PubMed accuracy: 0.4953+-(0.0165)\n"
     ]
    }
   ],
   "source": [
    "meanAcc,stdAcc,acc = eval_multiple(PubMedConfDirected,[128],GCNConv,runs=100,epochs=200)\n",
    "print('PubMed accuracy: {:.4f}+-({:.4f})'.format(\n",
    "    meanAcc,stdAcc))"
   ]
  },
  {
   "cell_type": "code",
   "execution_count": 12,
   "metadata": {},
   "outputs": [
    {
     "name": "stdout",
     "output_type": "stream",
     "text": [
      "Elaplsed 00:01:14\n",
      "cora accuracy: 0.1729+-(0.0097)\n",
      "Elaplsed 00:01:32\n",
      "citeseer accuracy: 0.2572+-(0.0098)\n",
      "Elaplsed 00:02:20\n",
      "PubMed accuracy: 0.3578+-(0.0239)\n"
     ]
    }
   ],
   "source": [
    "meanAcc,stdAcc,acc = eval_multiple(coraConfDirected,[128],SAGEConv,runs=100,epochs=200)\n",
    "print('cora accuracy: {:.4f}+-({:.4f})'.format(\n",
    "    meanAcc,stdAcc))\n",
    "meanAcc,stdAcc,acc = eval_multiple(citeseerConfDirected,[128],SAGEConv,runs=100,epochs=200)\n",
    "print('citeseer accuracy: {:.4f}+-({:.4f})'.format(\n",
    "    meanAcc,stdAcc))\n",
    "meanAcc,stdAcc,acc = eval_multiple(PubMedConfDirected,[128],SAGEConv,runs=100,epochs=200)\n",
    "print('PubMed accuracy: {:.4f}+-({:.4f})'.format(\n",
    "    meanAcc,stdAcc))"
   ]
  },
  {
   "cell_type": "markdown",
   "metadata": {},
   "source": [
    "### Reversed Case"
   ]
  },
  {
   "cell_type": "code",
   "execution_count": 4,
   "metadata": {},
   "outputs": [],
   "source": [
    "coraConfReversed = ConfigurationModelCitationNetwork('/tmp/coraConfReversed','cora',directed=True,reverse=True)\n",
    "citeseerConfReversed = ConfigurationModelCitationNetwork('/tmp/citeseerConfReversed','citeseer',directed=True,reverse=True)\n",
    "PubMedConfReversed = ConfigurationModelCitationNetwork('/tmp/PubMedConfReversed','PubMed',directed=True,reverse=True)"
   ]
  },
  {
   "cell_type": "code",
   "execution_count": 7,
   "metadata": {},
   "outputs": [
    {
     "name": "stdout",
     "output_type": "stream",
     "text": [
      "Elaplsed 00:01:34\n",
      "cora accuracy: 0.3067+-(0.0127)\n"
     ]
    }
   ],
   "source": [
    "meanAcc,stdAcc,acc = eval_multiple(coraConfReversed,[128],GCNConv,runs=100,epochs=200)\n",
    "print('cora accuracy: {:.4f}+-({:.4f})'.format(\n",
    "    meanAcc,stdAcc))"
   ]
  },
  {
   "cell_type": "code",
   "execution_count": 8,
   "metadata": {},
   "outputs": [
    {
     "name": "stdout",
     "output_type": "stream",
     "text": [
      "Elaplsed 00:01:47\n",
      "citeseer accuracy: 0.3278+-(0.0142)\n"
     ]
    }
   ],
   "source": [
    "meanAcc,stdAcc,acc = eval_multiple(citeseerConfReversed,[128],GCNConv,runs=100,epochs=200)\n",
    "print('citeseer accuracy: {:.4f}+-({:.4f})'.format(\n",
    "    meanAcc,stdAcc))"
   ]
  },
  {
   "cell_type": "code",
   "execution_count": 9,
   "metadata": {},
   "outputs": [
    {
     "name": "stdout",
     "output_type": "stream",
     "text": [
      "Elaplsed 00:02:10\n",
      "PubMed accuracy: 0.5947+-(0.0056)\n"
     ]
    }
   ],
   "source": [
    "meanAcc,stdAcc,acc = eval_multiple(PubMedConfReversed,[128],GCNConv,runs=100,epochs=200)\n",
    "print('PubMed accuracy: {:.4f}+-({:.4f})'.format(\n",
    "    meanAcc,stdAcc))"
   ]
  },
  {
   "cell_type": "code",
   "execution_count": 10,
   "metadata": {},
   "outputs": [
    {
     "name": "stdout",
     "output_type": "stream",
     "text": [
      "Elaplsed 00:01:17\n",
      "cora accuracy: 0.2274+-(0.0116)\n",
      "Elaplsed 00:01:31\n",
      "citeseer accuracy: 0.2688+-(0.0143)\n",
      "Elaplsed 00:02:07\n",
      "PubMed accuracy: 0.5722+-(0.0161)\n"
     ]
    }
   ],
   "source": [
    "meanAcc,stdAcc,acc = eval_multiple(coraConfReversed,[128],SAGEConv,runs=100,epochs=200)\n",
    "print('cora accuracy: {:.4f}+-({:.4f})'.format(\n",
    "    meanAcc,stdAcc))\n",
    "meanAcc,stdAcc,acc = eval_multiple(citeseerConfReversed,[128],SAGEConv,runs=100,epochs=200)\n",
    "print('citeseer accuracy: {:.4f}+-({:.4f})'.format(\n",
    "    meanAcc,stdAcc))\n",
    "meanAcc,stdAcc,acc = eval_multiple(PubMedConfReversed,[128],SAGEConv,runs=100,epochs=200)\n",
    "print('PubMed accuracy: {:.4f}+-({:.4f})'.format(\n",
    "    meanAcc,stdAcc))"
   ]
  },
  {
   "cell_type": "markdown",
   "metadata": {},
   "source": [
    "### Undirected Case"
   ]
  },
  {
   "cell_type": "code",
   "execution_count": 6,
   "metadata": {},
   "outputs": [],
   "source": [
    "coraConf = ConfigurationModelCitationNetwork('/tmp/coraConf','cora',directed=False)\n",
    "citeseerConf = ConfigurationModelCitationNetwork('/tmp/citeseerConf','citeseer',directed=False)\n",
    "PubMedConf = ConfigurationModelCitationNetwork('/tmp/PubMedConf','PubMed',directed=False)"
   ]
  },
  {
   "cell_type": "code",
   "execution_count": 10,
   "metadata": {},
   "outputs": [
    {
     "name": "stdout",
     "output_type": "stream",
     "text": [
      "Elaplsed 00:01:20\n",
      "cora accuracy: 0.3145\n",
      "Elaplsed 00:01:51\n",
      "cora accuracy: 0.3079\n",
      "Elaplsed 00:02:29\n",
      "cora accuracy: 0.3088\n"
     ]
    }
   ],
   "source": [
    "print('cora accuracy: {:.4f}'.format(\n",
    "    eval_multiple(coraConf,[128],GCNConv,runs=100,epochs=200)[0]))\n",
    "print('cora accuracy: {:.4f}'.format(\n",
    "    eval_multiple(coraConf,[64],GCNConv,architecture=BiModel,runs=100,epochs=200)[0]))\n",
    "print('cora accuracy: {:.4f}'.format(\n",
    "    eval_multiple(coraConf,[42],GCNConv,architecture=TriModel,runs=100,epochs=200)[0]))"
   ]
  },
  {
   "cell_type": "code",
   "execution_count": 9,
   "metadata": {},
   "outputs": [
    {
     "name": "stdout",
     "output_type": "stream",
     "text": [
      "Elaplsed 00:01:33\n",
      "citeseer accuracy: 0.3533\n",
      "Elaplsed 00:02:05\n",
      "citeseer accuracy: 0.3401\n",
      "Elaplsed 00:02:40\n",
      "citeseer accuracy: 0.3423\n"
     ]
    }
   ],
   "source": [
    "print('citeseer accuracy: {:.4f}'.format(\n",
    "    eval_multiple(citeseerConf,[128],GCNConv,runs=100,epochs=200)[0]))\n",
    "print('citeseer accuracy: {:.4f}'.format(\n",
    "    eval_multiple(citeseerConf,[64],GCNConv,architecture=BiModel,runs=100,epochs=200)[0]))\n",
    "print('citeseer accuracy: {:.4f}'.format(\n",
    "    eval_multiple(citeseerConf,[42],GCNConv,architecture=TriModel,runs=100,epochs=200)[0]))"
   ]
  },
  {
   "cell_type": "code",
   "execution_count": 4,
   "metadata": {
    "scrolled": true
   },
   "outputs": [
    {
     "name": "stdout",
     "output_type": "stream",
     "text": [
      "Elaplsed 00:05:39\n",
      "PubMed accuracy: 0.5221\n",
      "Elaplsed 00:08:18\n",
      "PubMed accuracy: 0.5223\n",
      "Elaplsed 00:11:27\n",
      "PubMed accuracy: 0.5228\n"
     ]
    }
   ],
   "source": [
    "print('PubMed accuracy: {:.4f}'.format(\n",
    "    eval_multiple(PubMedConf,[128],GCNConv,runs=100,epochs=200)[0]))\n",
    "print('PubMed accuracy: {:.4f}'.format(\n",
    "    eval_multiple(PubMedConf,[64],GCNConv,architecture=BiModel,runs=100,epochs=200)[0]))\n",
    "print('PubMed accuracy: {:.4f}'.format(\n",
    "    eval_multiple(PubMedConf,[42],GCNConv,architecture=TriModel,runs=100,epochs=200)[0]))"
   ]
  },
  {
   "cell_type": "code",
   "execution_count": 9,
   "metadata": {},
   "outputs": [
    {
     "name": "stdout",
     "output_type": "stream",
     "text": [
      "Elaplsed 00:01:18\n",
      "cora accuracy: 0.2237\n",
      "Elaplsed 00:01:56\n",
      "cora accuracy: 0.2172\n",
      "Elaplsed 00:02:15\n",
      "cora accuracy: 0.2206\n"
     ]
    }
   ],
   "source": [
    "print('cora accuracy: {:.4f}'.format(\n",
    "    eval_multiple(coraConf,[128],SAGEConv,runs=100,epochs=200)[0]))\n",
    "print('cora accuracy: {:.4f}'.format(\n",
    "    eval_multiple(coraConf,[64],SAGEConv,architecture=BiModel,runs=100,epochs=200)[0]))\n",
    "print('cora accuracy: {:.4f}'.format(\n",
    "    eval_multiple(coraConf,[42],SAGEConv,architecture=TriModel,runs=100,epochs=200)[0]))"
   ]
  },
  {
   "cell_type": "code",
   "execution_count": 10,
   "metadata": {},
   "outputs": [
    {
     "name": "stdout",
     "output_type": "stream",
     "text": [
      "Elaplsed 00:01:44\n",
      "citeseer accuracy: 0.2866\n",
      "Elaplsed 00:02:03\n",
      "citeseer accuracy: 0.2605\n",
      "Elaplsed 00:02:35\n",
      "citeseer accuracy: 0.2736\n"
     ]
    }
   ],
   "source": [
    "print('citeseer accuracy: {:.4f}'.format(\n",
    "    eval_multiple(citeseerConf,[128],SAGEConv,runs=100,epochs=200)[0]))\n",
    "print('citeseer accuracy: {:.4f}'.format(\n",
    "    eval_multiple(citeseerConf,[64],SAGEConv,architecture=BiModel,runs=100,epochs=200)[0]))\n",
    "print('citeseer accuracy: {:.4f}'.format(\n",
    "    eval_multiple(citeseerConf,[42],SAGEConv,architecture=TriModel,runs=100,epochs=200)[0]))"
   ]
  },
  {
   "cell_type": "code",
   "execution_count": 11,
   "metadata": {},
   "outputs": [
    {
     "name": "stdout",
     "output_type": "stream",
     "text": [
      "Elaplsed 00:02:41\n",
      "PubMed accuracy: 0.4473\n",
      "Elaplsed 00:02:46\n",
      "PubMed accuracy: 0.4507\n",
      "Elaplsed 00:03:03\n",
      "PubMed accuracy: 0.4414\n"
     ]
    }
   ],
   "source": [
    "print('PubMed accuracy: {:.4f}'.format(\n",
    "    eval_multiple(PubMedConf,[128],SAGEConv,runs=100,epochs=200)[0]))\n",
    "print('PubMed accuracy: {:.4f}'.format(\n",
    "    eval_multiple(PubMedConf,[64],SAGEConv,architecture=BiModel,runs=100,epochs=200)[0]))\n",
    "print('PubMed accuracy: {:.4f}'.format(\n",
    "    eval_multiple(PubMedConf,[42],SAGEConv,architecture=TriModel,runs=100,epochs=200)[0]))"
   ]
  },
  {
   "cell_type": "markdown",
   "metadata": {},
   "source": [
    "## BibCo"
   ]
  },
  {
   "cell_type": "code",
   "execution_count": 4,
   "metadata": {},
   "outputs": [],
   "source": [
    "bib_cora = CocitationNetwork('/tmp/bib_cora','cora','bibcoupling')"
   ]
  },
  {
   "cell_type": "code",
   "execution_count": 5,
   "metadata": {},
   "outputs": [],
   "source": [
    "coc_cora = CocitationNetwork('/tmp/coc_cora','cora','cocitation')"
   ]
  },
  {
   "cell_type": "code",
   "execution_count": 6,
   "metadata": {},
   "outputs": [],
   "source": [
    "coc_citeseer = CocitationNetwork('/tmp/coc_citeseer','citeseer','cocitation')\n",
    "bib_citeseer = CocitationNetwork('/tmp/bib_citeseer','citeseer','bibcoupling')"
   ]
  },
  {
   "cell_type": "code",
   "execution_count": 4,
   "metadata": {},
   "outputs": [],
   "source": [
    "def eval_all(conv,data,runs = 100,epochs=50):\n",
    "    monogcn,monogcns = eval_multiple(data,128,conv,runs=runs,epochs=epochs)\n",
    "    print('Mono accuracy: {:.4f}'.format(monogcn))\n",
    "    bigcn,bigcns = eval_multiple_bi(data,64,64,conv,runs=runs,epochs=epochs)\n",
    "    print('Bi   accuracy: {:.4f}'.format(bigcn))\n",
    "    trigcn,trigcns = eval_multiple_tri(data,64,32,32,conv,runs=runs,epochs=epochs)\n",
    "    print('Tri  accuracy: {:.4f}'.format(trigcn))"
   ]
  },
  {
   "cell_type": "code",
   "execution_count": 5,
   "metadata": {},
   "outputs": [
    {
     "name": "stdout",
     "output_type": "stream",
     "text": [
      "Elaplsed 00:01:33\n",
      "cora accuracy: 0.8013\n"
     ]
    }
   ],
   "source": [
    "print('cora accuracy: {:.4f}'.format(\n",
    "    eval_multiple(cora,128,GCNConv,runs=100,epochs=200)[0]))"
   ]
  },
  {
   "cell_type": "code",
   "execution_count": 7,
   "metadata": {},
   "outputs": [
    {
     "name": "stdout",
     "output_type": "stream",
     "text": [
      "Elaplsed 00:01:13\n",
      "cora accuracy: 0.7640\n"
     ]
    }
   ],
   "source": [
    "print('cora accuracy: {:.4f}'.format(\n",
    "    eval_multiple(cora,128,SAGEConv,runs=100,epochs=200)[0]))"
   ]
  },
  {
   "cell_type": "code",
   "execution_count": null,
   "metadata": {},
   "outputs": [],
   "source": [
    "print('cora accuracy: {:.4f}'.format(\n",
    "    eval_multiple(cora,128,GCNConv,runs=100,epochs=200)[0]))"
   ]
  },
  {
   "cell_type": "markdown",
   "metadata": {},
   "source": [
    "## Directed"
   ]
  },
  {
   "cell_type": "code",
   "execution_count": 13,
   "metadata": {
    "scrolled": true
   },
   "outputs": [
    {
     "name": "stdout",
     "output_type": "stream",
     "text": [
      "Elaplsed 00:01:42\n",
      "coraDirected accuracy: 0.5709\n"
     ]
    }
   ],
   "source": [
    "print('coraDirected accuracy: {:.4f}'.format(\n",
    "    eval_multiple(coraDirected,128,GCNConv,runs=100,epochs=200)[0]))"
   ]
  },
  {
   "cell_type": "code",
   "execution_count": 14,
   "metadata": {},
   "outputs": [
    {
     "name": "stdout",
     "output_type": "stream",
     "text": [
      "Elaplsed 00:02:04\n",
      "citeseerDirected accuracy: 0.5881\n"
     ]
    }
   ],
   "source": [
    "print('citeseerDirected accuracy: {:.4f}'.format(\n",
    "    eval_multiple(citeseerDirected,128,GCNConv,runs=100,epochs=200)[0]))"
   ]
  },
  {
   "cell_type": "markdown",
   "metadata": {},
   "source": [
    "## Reversed"
   ]
  },
  {
   "cell_type": "code",
   "execution_count": 15,
   "metadata": {},
   "outputs": [
    {
     "name": "stdout",
     "output_type": "stream",
     "text": [
      "Elaplsed 00:05:32\n",
      "coraReversed accuracy: 0.5970\n"
     ]
    }
   ],
   "source": [
    "print('coraReversed accuracy: {:.4f}'.format(\n",
    "    eval_multiple(coraReversed,128,GCNConv,runs=100,epochs=200)[0]))"
   ]
  },
  {
   "cell_type": "code",
   "execution_count": 16,
   "metadata": {},
   "outputs": [
    {
     "name": "stdout",
     "output_type": "stream",
     "text": [
      "Elaplsed 00:01:39\n",
      "citeseerReversed accuracy: 0.5547\n"
     ]
    }
   ],
   "source": [
    "print('citeseerReversed accuracy: {:.4f}'.format(\n",
    "    eval_multiple(citeseerReversed,128,GCNConv,runs=100,epochs=200)[0]))"
   ]
  },
  {
   "cell_type": "markdown",
   "metadata": {},
   "source": [
    "## Undirected"
   ]
  },
  {
   "cell_type": "code",
   "execution_count": 15,
   "metadata": {
    "scrolled": false
   },
   "outputs": [
    {
     "name": "stdout",
     "output_type": "stream",
     "text": [
      "Elaplsed 00:01:17\n",
      "Mono accuracy: 0.8011\n",
      "Elaplsed 00:01:50\n",
      "Bi   accuracy: 0.8071\n",
      "Elaplsed 00:02:19\n",
      "Tri  accuracy: 0.8061\n"
     ]
    }
   ],
   "source": [
    "eval_all(GCNConv,cora,100,200)"
   ]
  },
  {
   "cell_type": "code",
   "execution_count": 16,
   "metadata": {
    "scrolled": false
   },
   "outputs": [
    {
     "name": "stdout",
     "output_type": "stream",
     "text": [
      "Elaplsed 00:01:31\n",
      "Mono accuracy: 0.7223\n",
      "Elaplsed 00:02:02\n",
      "Bi   accuracy: 0.7184\n",
      "Elaplsed 00:02:25\n",
      "Tri  accuracy: 0.7201\n"
     ]
    }
   ],
   "source": [
    "eval_all(GCNConv,citeseer,100,200)"
   ]
  },
  {
   "cell_type": "markdown",
   "metadata": {},
   "source": [
    "## Cocitation"
   ]
  },
  {
   "cell_type": "code",
   "execution_count": 10,
   "metadata": {
    "scrolled": true
   },
   "outputs": [
    {
     "name": "stdout",
     "output_type": "stream",
     "text": [
      "Elaplsed 00:00:10\n",
      "Mono accuracy: 0.7045\n",
      "Elaplsed 00:00:11\n",
      "Bi   accuracy: 0.7111\n",
      "Elaplsed 00:00:14\n",
      "Tri  accuracy: 0.7072\n"
     ]
    }
   ],
   "source": [
    "eval_all(GCNConv,coc_cora,10,200)"
   ]
  },
  {
   "cell_type": "code",
   "execution_count": 13,
   "metadata": {
    "scrolled": true
   },
   "outputs": [
    {
     "name": "stdout",
     "output_type": "stream",
     "text": [
      "Elaplsed 00:00:10\n",
      "Mono accuracy: 0.6969\n",
      "Elaplsed 00:00:11\n",
      "Bi   accuracy: 0.6998\n",
      "Elaplsed 00:00:14\n",
      "Tri  accuracy: 0.7015\n"
     ]
    }
   ],
   "source": [
    "eval_all(GCNConv,coc_citeseer,10,200)"
   ]
  },
  {
   "cell_type": "markdown",
   "metadata": {},
   "source": [
    "## Bibliographic coupling"
   ]
  },
  {
   "cell_type": "code",
   "execution_count": 11,
   "metadata": {
    "scrolled": true
   },
   "outputs": [
    {
     "name": "stdout",
     "output_type": "stream",
     "text": [
      "Elaplsed 00:00:08\n",
      "Mono accuracy: 0.6882\n",
      "Elaplsed 00:00:10\n",
      "Bi   accuracy: 0.6809\n",
      "Elaplsed 00:00:13\n",
      "Tri  accuracy: 0.6887\n"
     ]
    }
   ],
   "source": [
    "eval_all(GCNConv,bib_cora,10,200)"
   ]
  },
  {
   "cell_type": "code",
   "execution_count": 14,
   "metadata": {
    "scrolled": true
   },
   "outputs": [
    {
     "name": "stdout",
     "output_type": "stream",
     "text": [
      "Elaplsed 00:00:09\n",
      "Mono accuracy: 0.6721\n",
      "Elaplsed 00:00:11\n",
      "Bi   accuracy: 0.6674\n",
      "Elaplsed 00:00:14\n",
      "Tri  accuracy: 0.6664\n"
     ]
    }
   ],
   "source": [
    "eval_all(GCNConv,bib_citeseer,10,200)"
   ]
  },
  {
   "cell_type": "markdown",
   "metadata": {},
   "source": [
    "## More epochs"
   ]
  },
  {
   "cell_type": "code",
   "execution_count": 18,
   "metadata": {
    "scrolled": false
   },
   "outputs": [
    {
     "name": "stdout",
     "output_type": "stream",
     "text": [
      "Elaplsed 00:03:21\n",
      "Mono accuracy: 0.7991\n",
      "Elaplsed 00:04:34\n",
      "Bi   accuracy: 0.8029\n",
      "Elaplsed 00:05:44\n",
      "Tri  accuracy: 0.8033\n"
     ]
    }
   ],
   "source": [
    "eval_all(GCNConv,cora,100,500)"
   ]
  },
  {
   "cell_type": "code",
   "execution_count": 19,
   "metadata": {},
   "outputs": [
    {
     "name": "stdout",
     "output_type": "stream",
     "text": [
      "Elaplsed 00:03:46\n",
      "Mono accuracy: 0.7203\n",
      "Elaplsed 00:04:57\n",
      "Bi   accuracy: 0.7163\n",
      "Elaplsed 00:05:57\n",
      "Tri  accuracy: 0.7162\n"
     ]
    }
   ],
   "source": [
    "eval_all(GCNConv,citeseer,100,500)"
   ]
  },
  {
   "cell_type": "markdown",
   "metadata": {},
   "source": [
    "## Other models"
   ]
  },
  {
   "cell_type": "code",
   "execution_count": 28,
   "metadata": {
    "scrolled": true
   },
   "outputs": [
    {
     "name": "stdout",
     "output_type": "stream",
     "text": [
      "Elaplsed 00:00:17\n",
      "Mono accuracy: 0.7814\n",
      "Elaplsed 00:00:24\n",
      "Bi   accuracy: 0.7728\n",
      "Elaplsed 00:00:30\n",
      "Tri  accuracy: 0.7774\n"
     ]
    }
   ],
   "source": [
    "eval_all(SAGEConv,100)"
   ]
  },
  {
   "cell_type": "code",
   "execution_count": 33,
   "metadata": {},
   "outputs": [
    {
     "name": "stdout",
     "output_type": "stream",
     "text": [
      "Elaplsed 00:00:56\n",
      "Mono accuracy: 0.7532\n",
      "Elaplsed 00:01:23\n",
      "Bi   accuracy: 0.7680\n",
      "Elaplsed 00:01:47\n",
      "Tri  accuracy: 0.7707\n"
     ]
    }
   ],
   "source": [
    "eval_all(GATConv,100)"
   ]
  },
  {
   "cell_type": "code",
   "execution_count": 30,
   "metadata": {},
   "outputs": [
    {
     "name": "stdout",
     "output_type": "stream",
     "text": [
      "Elaplsed 00:00:13\n",
      "Mono accuracy: 0.7496\n",
      "Elaplsed 00:00:20\n",
      "Bi   accuracy: 0.7304\n",
      "Elaplsed 00:00:34\n",
      "Tri  accuracy: 0.7425\n"
     ]
    }
   ],
   "source": [
    "eval_all(GraphConv,100)"
   ]
  },
  {
   "cell_type": "code",
   "execution_count": 32,
   "metadata": {},
   "outputs": [
    {
     "name": "stdout",
     "output_type": "stream",
     "text": [
      "Elaplsed 00:00:32\n",
      "Mono accuracy: 0.7960\n",
      "Elaplsed 00:00:47\n",
      "Bi   accuracy: 0.7823\n",
      "Elaplsed 00:00:58\n",
      "Tri  accuracy: 0.7865\n"
     ]
    }
   ],
   "source": [
    "eval_all(SGConv,100)"
   ]
  },
  {
   "cell_type": "code",
   "execution_count": 40,
   "metadata": {
    "scrolled": true
   },
   "outputs": [
    {
     "name": "stdout",
     "output_type": "stream",
     "text": [
      "Elaplsed 00:00:34\n",
      "Mono accuracy: 0.7978\n",
      "Elaplsed 00:00:59\n",
      "Tri  accuracy: 0.7970\n",
      "Elaplsed 00:00:58\n",
      "Tri  accuracy: 0.7973\n"
     ]
    }
   ],
   "source": [
    "monogcn,monogcns = eval_multiple(coraUndirected,128,GCNConv,runs=100)\n",
    "print('Mono accuracy: {:.4f}'.format(monogcn))\n",
    "trigcn,trigcns = eval_multiple_tri(coraUndirected,128,8,8,GCNConv,runs=100)\n",
    "print('Tri  accuracy: {:.4f}'.format(trigcn))\n",
    "trigcn,trigcns = eval_multiple_tri(coraUndirected,128,1,1,GCNConv,runs=100)\n",
    "print('Tri  accuracy: {:.4f}'.format(trigcn))"
   ]
  },
  {
   "cell_type": "code",
   "execution_count": 42,
   "metadata": {},
   "outputs": [
    {
     "name": "stdout",
     "output_type": "stream",
     "text": [
      "Elaplsed 00:00:59\n",
      "Tri  accuracy: 0.7978\n"
     ]
    }
   ],
   "source": [
    "trigcn,trigcns = eval_multiple_tri(coraUndirected,112,8,8,GCNConv,runs=100)\n",
    "print('Tri  accuracy: {:.4f}'.format(trigcn))"
   ]
  },
  {
   "cell_type": "code",
   "execution_count": 43,
   "metadata": {},
   "outputs": [
    {
     "name": "stdout",
     "output_type": "stream",
     "text": [
      "Elaplsed 00:00:59\n",
      "Tri  accuracy: 0.7977\n"
     ]
    }
   ],
   "source": [
    "trigcn,trigcns = eval_multiple_tri(coraUndirected,64,32,32,GCNConv,runs=100)\n",
    "print('Tri  accuracy: {:.4f}'.format(trigcn))"
   ]
  },
  {
   "cell_type": "code",
   "execution_count": null,
   "metadata": {},
   "outputs": [],
   "source": []
  }
 ],
 "metadata": {
  "kernelspec": {
   "display_name": "Python 3",
   "language": "python",
   "name": "python3"
  },
  "language_info": {
   "codemirror_mode": {
    "name": "ipython",
    "version": 3
   },
   "file_extension": ".py",
   "mimetype": "text/x-python",
   "name": "python",
   "nbconvert_exporter": "python",
   "pygments_lexer": "ipython3",
   "version": "3.7.3"
  }
 },
 "nbformat": 4,
 "nbformat_minor": 2
}
