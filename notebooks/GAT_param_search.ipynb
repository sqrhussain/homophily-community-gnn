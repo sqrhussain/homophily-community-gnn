{
 "cells": [
  {
   "cell_type": "code",
   "execution_count": 1,
   "metadata": {},
   "outputs": [],
   "source": [
    "import torch\n",
    "from cora_loader import CitationNetwork,CocitationNetwork,ConfigurationModelCitationNetwork\n",
    "from multi_layered_model import MonoModel,BiModel,TriModel\n",
    "from torch_geometric.nn import GATConv\n",
    "import time\n",
    "import torch.nn.functional as F\n",
    "import copy"
   ]
  },
  {
   "cell_type": "code",
   "execution_count": 2,
   "metadata": {},
   "outputs": [],
   "source": [
    "cora = CitationNetwork('/tmp/cora','cora',directed=False)\n",
    "citeseer = CitationNetwork('/tmp/citeseer','citeseer',directed=False)\n",
    "PubMed = CitationNetwork('/tmp/PubMed','PubMed',directed=False)"
   ]
  },
  {
   "cell_type": "code",
   "execution_count": 4,
   "metadata": {},
   "outputs": [],
   "source": [
    "class MonoGAT(torch.nn.Module):\n",
    "    def __init__(self,dataset,channels,heads=1):\n",
    "        super(MonoGAT,self).__init__()\n",
    "        channels = [dataset.num_node_features] + channels + [dataset.num_classes]\n",
    "        self.conv = []\n",
    "        for i in range(1,len(channels)):\n",
    "            if i == 1:\n",
    "                conv = GATConv(channels[i-1],channels[i],heads=heads)\n",
    "            elif i == len(channels)-1:\n",
    "                if dataset.name=='PubMed':\n",
    "                    conv = GATConv(channels[i-1]*heads,channels[i],heads=heads,concat=False)\n",
    "                else:\n",
    "                    conv = GATConv(channels[i-1]*heads,channels[i])\n",
    "            else:\n",
    "                conv = GATConv(channels[i-1]*heads,channels[i],heads=heads)\n",
    "            self.add_module(str(i),conv)\n",
    "            self.conv.append(conv)\n",
    "        \n",
    "        \n",
    "    def forward(self, data): \n",
    "        x, edge_index = data.x, data.edge_index \n",
    "        \n",
    "        for conv in self.conv[:-1]:\n",
    "            x = conv(x,edge_index)\n",
    "            x = F.elu(x)\n",
    "            x = F.dropout(x,p=0.6,training=self.training) # YOU MUST UNDERSTAND DROPOUT\n",
    "        \n",
    "        # Last layer\n",
    "        x = self.conv[-1](x,edge_index)\n",
    "        x = F.softmax(x,dim=1)\n",
    "        \n",
    "        return x\n",
    "    \n",
    "\n",
    "class BiGAT(torch.nn.Module):\n",
    "    def __init__(self,dataset,channels,heads=1):\n",
    "        super(BiGAT,self).__init__()\n",
    "        self.conv_st = []\n",
    "        self.conv_ts = []\n",
    "        channels_output = [dataset.num_node_features] + [c*2*heads for c in channels]\n",
    "        channels = [dataset.num_node_features] + channels\n",
    "        for i in range(len(channels)-1):\n",
    "            conv_st = GATConv(channels_output[i], channels[i+1],heads=heads)\n",
    "            self.add_module('conv_st'+str(i),conv_st)\n",
    "            self.conv_st.append(conv_st)\n",
    "            \n",
    "            conv_ts = GATConv(channels_output[i], channels[i+1],heads=heads)\n",
    "            self.add_module('conv_ts'+str(i),conv_ts)\n",
    "            self.conv_ts.append(conv_ts)\n",
    "        \n",
    "        if dataset.name=='PubMed':\n",
    "            self.last = GATConv(channels_output[-1], dataset.num_classes,heads=heads,concat=False)\n",
    "        else:\n",
    "            self.last = GATConv(channels_output[-1], dataset.num_classes)\n",
    "        \n",
    "    def forward(self, data): \n",
    "        x, edge_index = data.x, data.edge_index\n",
    "        st_edges = data.edge_index.t()[1-data.is_reversed].t()\n",
    "        ts_edges = data.edge_index.t()[data.is_reversed].t()\n",
    "#         print(ts_edges.shape)\n",
    "        for i in range(len(self.conv_st)):\n",
    "            x1 = F.elu(self.conv_st[i](x,st_edges))\n",
    "            x2 = F.elu(self.conv_ts[i](x,ts_edges))\n",
    "            x = torch.cat((x1,x2),dim=1)\n",
    "            x = F.dropout(x,p=0.6,training=self.training)\n",
    "        \n",
    "        # last layer\n",
    "        x = self.last(x,edge_index)\n",
    "        x = F.softmax(x,dim=1) \n",
    "        \n",
    "        return x\n",
    "    \n",
    "class TriGAT(torch.nn.Module):\n",
    "    def __init__(self,dataset,channels,heads=1):\n",
    "        super(TriGAT,self).__init__()\n",
    "        self.conv_st = []\n",
    "        self.conv_ts = []\n",
    "        self.conv = []\n",
    "        channels_output = [dataset.num_node_features] + [c*3*heads for c in channels]\n",
    "        channels = [dataset.num_node_features] + channels\n",
    "        for i in range(len(channels)-1):\n",
    "            conv_st = GATConv(channels_output[i], channels[i+1],heads=heads)\n",
    "            self.add_module('conv_st'+str(i),conv_st)\n",
    "            self.conv_st.append(conv_st)\n",
    "            \n",
    "            conv_ts = GATConv(channels_output[i], channels[i+1],heads=heads)\n",
    "            self.add_module('conv_ts'+str(i),conv_ts)\n",
    "            self.conv_ts.append(conv_ts)\n",
    "            \n",
    "            conv = GATConv(channels_output[i],channels[i+1],heads=heads)\n",
    "            self.add_module('conv'+str(i),conv)\n",
    "            self.conv.append(conv)\n",
    "        \n",
    "        if dataset.name=='PubMed':\n",
    "            self.last = GATConv(channels_output[-1], dataset.num_classes,heads=heads,concat=False)\n",
    "        else:\n",
    "            self.last = GATConv(channels_output[-1], dataset.num_classes)\n",
    "        \n",
    "    def forward(self, data): \n",
    "        x, edge_index = data.x, data.edge_index\n",
    "        st_edges = data.edge_index.t()[1-data.is_reversed].t()\n",
    "        ts_edges = data.edge_index.t()[data.is_reversed].t()\n",
    "#         print(ts_edges.shape)\n",
    "        for i in range(len(self.conv_st)):\n",
    "            x1 = F.elu(self.conv_st[i](x,st_edges))\n",
    "            x2 = F.elu(self.conv_ts[i](x,ts_edges))\n",
    "            x3 = F.elu(self.conv[i](x,edge_index))\n",
    "            x = torch.cat((x1,x2,x3),dim=1)\n",
    "            x = F.dropout(x,training=self.training)\n",
    "        \n",
    "        # last layer\n",
    "        x = self.last(x,edge_index)\n",
    "        x = F.softmax(x,dim=1) \n",
    "        \n",
    "        return x"
   ]
  },
  {
   "cell_type": "code",
   "execution_count": 19,
   "metadata": {},
   "outputs": [],
   "source": [
    "def run_and_eval_model(dataset,channels,architecture,lr,wd,heads=1,epochs=200):\n",
    "    # training process (without batches/transforms)\n",
    "    device = torch.device('cuda' if torch.cuda.is_available() else 'cpu')\n",
    "    model = architecture(dataset,channels,heads).to(device)\n",
    "#     print(model)\n",
    "    data = dataset[0].to(device)\n",
    "    optimizer = torch.optim.Adam(model.parameters(),lr=lr,weight_decay=wd)\n",
    "    model.train() # to enter training phase\n",
    "    maxacc = 0\n",
    "    chosen = None\n",
    "    for epoch in range(epochs):\n",
    "        optimizer.zero_grad() # saw this a lot in the beginning, maybe resetting gradients (not to accumulate)\n",
    "        out = model(data) # this calls the forward method apparently\n",
    "        loss = F.nll_loss(out[data.train_mask],data.y[data.train_mask]) # nice indexing, easy and short\n",
    "        loss.backward() # magic: real back propagation step, takes care of the gradients and stuff\n",
    "        optimizer.step() # maybe updates the params to be optimized\n",
    "        \n",
    "        model.eval()\n",
    "        _,pred = model(data).max(dim=1) # take prediction out of softmax\n",
    "        correct = float(pred[data.val_mask].eq(data.y[data.val_mask]).sum().item())\n",
    "        acc = correct / data.val_mask.sum().item()\n",
    "        if acc > maxacc:\n",
    "            maxacc = acc\n",
    "            chosen=copy.deepcopy(model)\n",
    "        model.train()\n",
    "    chosen.eval() # enter eval phase\n",
    "    _,pred = chosen(data).max(dim=1) # take prediction out of softmax\n",
    "    correct = float(pred[data.test_mask].eq(data.y[data.test_mask]).sum().item())\n",
    "    acc = correct / data.test_mask.sum().item()\n",
    "    return acc\n",
    "\n",
    "def eval_multiple(dataset,channels,architecture=MonoGAT,heads=1,runs=100,epochs=200):\n",
    "    best_acc = 0\n",
    "    start = time.time()\n",
    "    for lr in [1,1e-1,1e-2]:\n",
    "        for wd in [1e-3,1e-4,1e-5]:\n",
    "            accs = []\n",
    "            for i in range(runs):\n",
    "                accs.append(run_and_eval_model(dataset,channels,architecture,lr,wd,heads=heads,epochs=epochs))\n",
    "            acc = sum(accs)/len(accs)\n",
    "            print(\"lr={:.4f}\\twd={:.5f}\\t{:.2f}\".format(lr,wd,acc*100))\n",
    "            if acc > best_acc:\n",
    "                best_lr = lr\n",
    "                best_wd = wd\n",
    "                best_acc =acc\n",
    "            elapsed_time = time.time() - start\n",
    "    print('Elaplsed {}'.format(time.strftime(\"%H:%M:%S\", time.gmtime(elapsed_time))))\n",
    "    return best_lr,best_wd"
   ]
  },
  {
   "cell_type": "code",
   "execution_count": 16,
   "metadata": {},
   "outputs": [],
   "source": [
    "def param_search(data,channels1,channels2,channels3,outFile,heads=1,runs = 10,epochs=200):\n",
    "    with open(outFile,'w') as out:\n",
    "        lr,wd = eval_multiple(data,channels1,architecture=MonoGAT,heads=heads,runs=runs,epochs=epochs)\n",
    "        out.write('Mono lr={:.4f}\\twd={:.5f}\\n'.format(lr,wd))\n",
    "        lr,wd = eval_multiple(data,channels2,architecture=BiGAT,heads=heads,runs=runs,epochs=epochs)\n",
    "        out.write('Bi   lr={:.4f}\\twd={:.5f}\\n'.format(lr,wd))\n",
    "        lr,wd = eval_multiple(data,channels3,architecture=TriGAT,heads=heads,runs=runs,epochs=epochs)\n",
    "        out.write('Tri  lr={:.4f}\\twd={:.5f}\\n'.format(lr,wd))"
   ]
  },
  {
   "cell_type": "code",
   "execution_count": 30,
   "metadata": {},
   "outputs": [
    {
     "name": "stdout",
     "output_type": "stream",
     "text": [
      "lr=0.0100\twd=0.01000\t81.41\n",
      "Elaplsed 00:08:22\n",
      "lr=0.0100\twd=0.01000\t80.92\n",
      "Elaplsed 00:06:34\n",
      "lr=0.0100\twd=0.01000\t81.41\n",
      "Elaplsed 00:06:28\n"
     ]
    }
   ],
   "source": [
    "param_search(cora,[16],[8],[5],'GAT_param_search_8.out',heads=8,runs=100,epochs=200)"
   ]
  },
  {
   "cell_type": "code",
   "execution_count": 6,
   "metadata": {},
   "outputs": [
    {
     "name": "stdout",
     "output_type": "stream",
     "text": [
      "lr=0.0100\twd=0.01000\t81.29\n",
      "Elaplsed 00:07:42\n",
      "lr=0.0100\twd=0.01000\t81.16\n",
      "Elaplsed 00:18:43\n",
      "lr=0.0100\twd=0.01000\t81.41\n",
      "Elaplsed 00:15:00\n"
     ]
    }
   ],
   "source": [
    "param_search(cora,[32],[16],[10],'GAT_param_search_4.out',heads=4,runs=100,epochs=200)"
   ]
  },
  {
   "cell_type": "code",
   "execution_count": 7,
   "metadata": {},
   "outputs": [
    {
     "name": "stdout",
     "output_type": "stream",
     "text": [
      "lr=0.0100\twd=0.01000\t81.39\n",
      "Elaplsed 00:04:50\n",
      "lr=0.0100\twd=0.01000\t81.13\n",
      "Elaplsed 00:05:59\n",
      "lr=0.0100\twd=0.01000\t81.52\n",
      "Elaplsed 00:05:39\n"
     ]
    }
   ],
   "source": [
    "param_search(cora,[64],[32],[20],'GAT_param_search_2.out',heads=2,runs=100,epochs=200)"
   ]
  },
  {
   "cell_type": "code",
   "execution_count": 8,
   "metadata": {},
   "outputs": [
    {
     "name": "stdout",
     "output_type": "stream",
     "text": [
      "lr=0.0100\twd=0.01000\t80.54\n",
      "Elaplsed 00:02:57\n",
      "lr=0.0100\twd=0.01000\t80.72\n",
      "Elaplsed 00:12:50\n",
      "lr=0.0100\twd=0.01000\t81.52\n",
      "Elaplsed 00:15:19\n"
     ]
    }
   ],
   "source": [
    "param_search(cora,[128],[64],[42],'GAT_param_search_1.out',heads=1,runs=100,epochs=200)"
   ]
  },
  {
   "cell_type": "code",
   "execution_count": null,
   "metadata": {},
   "outputs": [],
   "source": []
  },
  {
   "cell_type": "code",
   "execution_count": 26,
   "metadata": {
    "scrolled": true
   },
   "outputs": [
    {
     "name": "stdout",
     "output_type": "stream",
     "text": [
      "lr=0.0100\twd=0.01000\t77.61\n",
      "Elaplsed 00:03:06\n",
      "lr=0.0100\twd=0.01000\t79.49\n",
      "Elaplsed 00:04:42\n",
      "lr=0.0100\twd=0.01000\t79.83\n",
      "Elaplsed 00:08:49\n"
     ]
    }
   ],
   "source": [
    "param_search(cora,[16],[8],[5],'GAT_param_search_1.out',heads=1,runs=100,epochs=200)"
   ]
  },
  {
   "cell_type": "code",
   "execution_count": null,
   "metadata": {},
   "outputs": [],
   "source": []
  },
  {
   "cell_type": "code",
   "execution_count": 13,
   "metadata": {
    "collapsed": true
   },
   "outputs": [
    {
     "name": "stdout",
     "output_type": "stream",
     "text": [
      "lr=0.1000\twd=0.10000\t47.70\n",
      "lr=0.1000\twd=0.01000\t55.90\n",
      "lr=0.1000\twd=0.00100\t75.00\n",
      "lr=0.1000\twd=0.00010\t75.40\n",
      "lr=0.1000\twd=0.00001\t74.70\n",
      "lr=0.0100\twd=0.10000\t51.40\n",
      "lr=0.0100\twd=0.01000\t59.30\n",
      "lr=0.0100\twd=0.00100\t76.10\n",
      "lr=0.0100\twd=0.00010\t76.10\n",
      "lr=0.0100\twd=0.00001\t76.00\n",
      "lr=0.0010\twd=0.10000\t71.90\n",
      "lr=0.0010\twd=0.01000\t51.30\n",
      "lr=0.0010\twd=0.00100\t74.70\n",
      "lr=0.0010\twd=0.00010\t75.00\n",
      "lr=0.0010\twd=0.00001\t73.70\n",
      "lr=0.0001\twd=0.10000\t38.10\n",
      "lr=0.0001\twd=0.01000\t48.90\n",
      "lr=0.0001\twd=0.00100\t54.30\n",
      "lr=0.0001\twd=0.00010\t67.30\n",
      "lr=0.0001\twd=0.00001\t67.40\n",
      "lr=0.0000\twd=0.10000\t25.80\n",
      "lr=0.0000\twd=0.01000\t33.10\n",
      "lr=0.0000\twd=0.00100\t37.00\n",
      "lr=0.0000\twd=0.00010\t44.50\n",
      "lr=0.0000\twd=0.00001\t49.30\n",
      "Elaplsed 00:01:59\n",
      "lr=0.1000\twd=0.10000\t43.20\n",
      "lr=0.1000\twd=0.01000\t52.20\n",
      "lr=0.1000\twd=0.00100\t72.20\n",
      "lr=0.1000\twd=0.00010\t74.40\n",
      "lr=0.1000\twd=0.00001\t73.40\n",
      "lr=0.0100\twd=0.10000\t48.20\n",
      "lr=0.0100\twd=0.01000\t57.30\n",
      "lr=0.0100\twd=0.00100\t74.40\n",
      "lr=0.0100\twd=0.00010\t75.10\n",
      "lr=0.0100\twd=0.00001\t74.20\n",
      "lr=0.0010\twd=0.10000\t70.30\n",
      "lr=0.0010\twd=0.01000\t52.30\n",
      "lr=0.0010\twd=0.00100\t72.30\n",
      "lr=0.0010\twd=0.00010\t72.70\n",
      "lr=0.0010\twd=0.00001\t73.70\n",
      "lr=0.0001\twd=0.10000\t38.80\n",
      "lr=0.0001\twd=0.01000\t40.70\n",
      "lr=0.0001\twd=0.00100\t53.50\n",
      "lr=0.0001\twd=0.00010\t58.90\n",
      "lr=0.0001\twd=0.00001\t61.50\n",
      "lr=0.0000\twd=0.10000\t32.60\n",
      "lr=0.0000\twd=0.01000\t37.50\n",
      "lr=0.0000\twd=0.00100\t46.50\n",
      "lr=0.0000\twd=0.00010\t47.40\n",
      "lr=0.0000\twd=0.00001\t46.50\n",
      "Elaplsed 00:01:45\n",
      "lr=0.1000\twd=0.10000\t44.90\n",
      "lr=0.1000\twd=0.01000\t60.30\n"
     ]
    },
    {
     "ename": "KeyboardInterrupt",
     "evalue": "",
     "output_type": "error",
     "traceback": [
      "\u001b[0;31m---------------------------------------------------------------------------\u001b[0m",
      "\u001b[0;31mKeyboardInterrupt\u001b[0m                         Traceback (most recent call last)",
      "\u001b[0;32m<ipython-input-13-d0b6c43656b9>\u001b[0m in \u001b[0;36m<module>\u001b[0;34m\u001b[0m\n\u001b[0;32m----> 1\u001b[0;31m \u001b[0mparam_search\u001b[0m\u001b[0;34m(\u001b[0m\u001b[0mPubMed\u001b[0m\u001b[0;34m,\u001b[0m\u001b[0;34m[\u001b[0m\u001b[0;36m64\u001b[0m\u001b[0;34m]\u001b[0m\u001b[0;34m,\u001b[0m\u001b[0;34m[\u001b[0m\u001b[0;36m32\u001b[0m\u001b[0;34m]\u001b[0m\u001b[0;34m,\u001b[0m\u001b[0;34m[\u001b[0m\u001b[0;36m10\u001b[0m\u001b[0;34m]\u001b[0m\u001b[0;34m,\u001b[0m\u001b[0;34m'GAT_param_search_2_pubmed.out'\u001b[0m\u001b[0;34m,\u001b[0m\u001b[0mheads\u001b[0m\u001b[0;34m=\u001b[0m\u001b[0;36m2\u001b[0m\u001b[0;34m,\u001b[0m\u001b[0mruns\u001b[0m\u001b[0;34m=\u001b[0m\u001b[0;36m1\u001b[0m\u001b[0;34m,\u001b[0m\u001b[0mepochs\u001b[0m\u001b[0;34m=\u001b[0m\u001b[0;36m200\u001b[0m\u001b[0;34m)\u001b[0m\u001b[0;34m\u001b[0m\u001b[0;34m\u001b[0m\u001b[0m\n\u001b[0m",
      "\u001b[0;32m<ipython-input-6-305c4e0b33cf>\u001b[0m in \u001b[0;36mparam_search\u001b[0;34m(data, channels1, channels2, channels3, outFile, heads, runs, epochs)\u001b[0m\n\u001b[1;32m      5\u001b[0m         \u001b[0mlr\u001b[0m\u001b[0;34m,\u001b[0m\u001b[0mwd\u001b[0m \u001b[0;34m=\u001b[0m \u001b[0meval_multiple\u001b[0m\u001b[0;34m(\u001b[0m\u001b[0mdata\u001b[0m\u001b[0;34m,\u001b[0m\u001b[0mchannels2\u001b[0m\u001b[0;34m,\u001b[0m\u001b[0marchitecture\u001b[0m\u001b[0;34m=\u001b[0m\u001b[0mBiGAT\u001b[0m\u001b[0;34m,\u001b[0m\u001b[0mheads\u001b[0m\u001b[0;34m=\u001b[0m\u001b[0mheads\u001b[0m\u001b[0;34m,\u001b[0m\u001b[0mruns\u001b[0m\u001b[0;34m=\u001b[0m\u001b[0mruns\u001b[0m\u001b[0;34m,\u001b[0m\u001b[0mepochs\u001b[0m\u001b[0;34m=\u001b[0m\u001b[0mepochs\u001b[0m\u001b[0;34m)\u001b[0m\u001b[0;34m\u001b[0m\u001b[0;34m\u001b[0m\u001b[0m\n\u001b[1;32m      6\u001b[0m \u001b[0;31m#        out.write('Bi   lr={:.4f}\\twd={:.5f}\\n'.format(lr,wd))\u001b[0m\u001b[0;34m\u001b[0m\u001b[0;34m\u001b[0m\u001b[0;34m\u001b[0m\u001b[0m\n\u001b[0;32m----> 7\u001b[0;31m         \u001b[0mlr\u001b[0m\u001b[0;34m,\u001b[0m\u001b[0mwd\u001b[0m \u001b[0;34m=\u001b[0m \u001b[0meval_multiple\u001b[0m\u001b[0;34m(\u001b[0m\u001b[0mdata\u001b[0m\u001b[0;34m,\u001b[0m\u001b[0mchannels3\u001b[0m\u001b[0;34m,\u001b[0m\u001b[0marchitecture\u001b[0m\u001b[0;34m=\u001b[0m\u001b[0mTriGAT\u001b[0m\u001b[0;34m,\u001b[0m\u001b[0mheads\u001b[0m\u001b[0;34m=\u001b[0m\u001b[0mheads\u001b[0m\u001b[0;34m,\u001b[0m\u001b[0mruns\u001b[0m\u001b[0;34m=\u001b[0m\u001b[0mruns\u001b[0m\u001b[0;34m,\u001b[0m\u001b[0mepochs\u001b[0m\u001b[0;34m=\u001b[0m\u001b[0mepochs\u001b[0m\u001b[0;34m)\u001b[0m\u001b[0;34m\u001b[0m\u001b[0;34m\u001b[0m\u001b[0m\n\u001b[0m\u001b[1;32m      8\u001b[0m \u001b[0;31m#        out.write('Tri  lr={:.4f}\\twd={:.5f}\\n'.format(lr,wd))\u001b[0m\u001b[0;34m\u001b[0m\u001b[0;34m\u001b[0m\u001b[0;34m\u001b[0m\u001b[0m\n",
      "\u001b[0;32m<ipython-input-12-c6ea37910c70>\u001b[0m in \u001b[0;36meval_multiple\u001b[0;34m(dataset, channels, architecture, heads, runs, epochs)\u001b[0m\n\u001b[1;32m     37\u001b[0m             \u001b[0maccs\u001b[0m \u001b[0;34m=\u001b[0m \u001b[0;34m[\u001b[0m\u001b[0;34m]\u001b[0m\u001b[0;34m\u001b[0m\u001b[0;34m\u001b[0m\u001b[0m\n\u001b[1;32m     38\u001b[0m             \u001b[0;32mfor\u001b[0m \u001b[0mi\u001b[0m \u001b[0;32min\u001b[0m \u001b[0mrange\u001b[0m\u001b[0;34m(\u001b[0m\u001b[0mruns\u001b[0m\u001b[0;34m)\u001b[0m\u001b[0;34m:\u001b[0m\u001b[0;34m\u001b[0m\u001b[0;34m\u001b[0m\u001b[0m\n\u001b[0;32m---> 39\u001b[0;31m                 \u001b[0maccs\u001b[0m\u001b[0;34m.\u001b[0m\u001b[0mappend\u001b[0m\u001b[0;34m(\u001b[0m\u001b[0mrun_and_eval_model\u001b[0m\u001b[0;34m(\u001b[0m\u001b[0mdataset\u001b[0m\u001b[0;34m,\u001b[0m\u001b[0mchannels\u001b[0m\u001b[0;34m,\u001b[0m\u001b[0marchitecture\u001b[0m\u001b[0;34m,\u001b[0m\u001b[0mlr\u001b[0m\u001b[0;34m,\u001b[0m\u001b[0mwd\u001b[0m\u001b[0;34m,\u001b[0m\u001b[0mheads\u001b[0m\u001b[0;34m=\u001b[0m\u001b[0mheads\u001b[0m\u001b[0;34m,\u001b[0m\u001b[0mepochs\u001b[0m\u001b[0;34m=\u001b[0m\u001b[0mepochs\u001b[0m\u001b[0;34m)\u001b[0m\u001b[0;34m)\u001b[0m\u001b[0;34m\u001b[0m\u001b[0;34m\u001b[0m\u001b[0m\n\u001b[0m\u001b[1;32m     40\u001b[0m             \u001b[0macc\u001b[0m \u001b[0;34m=\u001b[0m \u001b[0msum\u001b[0m\u001b[0;34m(\u001b[0m\u001b[0maccs\u001b[0m\u001b[0;34m)\u001b[0m\u001b[0;34m/\u001b[0m\u001b[0mlen\u001b[0m\u001b[0;34m(\u001b[0m\u001b[0maccs\u001b[0m\u001b[0;34m)\u001b[0m\u001b[0;34m\u001b[0m\u001b[0;34m\u001b[0m\u001b[0m\n\u001b[1;32m     41\u001b[0m             \u001b[0mprint\u001b[0m\u001b[0;34m(\u001b[0m\u001b[0;34m\"lr={:.4f}\\twd={:.5f}\\t{:.2f}\"\u001b[0m\u001b[0;34m.\u001b[0m\u001b[0mformat\u001b[0m\u001b[0;34m(\u001b[0m\u001b[0mlr\u001b[0m\u001b[0;34m,\u001b[0m\u001b[0mwd\u001b[0m\u001b[0;34m,\u001b[0m\u001b[0macc\u001b[0m\u001b[0;34m*\u001b[0m\u001b[0;36m100\u001b[0m\u001b[0;34m)\u001b[0m\u001b[0;34m)\u001b[0m\u001b[0;34m\u001b[0m\u001b[0;34m\u001b[0m\u001b[0m\n",
      "\u001b[0;32m<ipython-input-12-c6ea37910c70>\u001b[0m in \u001b[0;36mrun_and_eval_model\u001b[0;34m(dataset, channels, architecture, lr, wd, heads, epochs)\u001b[0m\n\u001b[1;32m     11\u001b[0m     \u001b[0;32mfor\u001b[0m \u001b[0mepoch\u001b[0m \u001b[0;32min\u001b[0m \u001b[0mrange\u001b[0m\u001b[0;34m(\u001b[0m\u001b[0mepochs\u001b[0m\u001b[0;34m)\u001b[0m\u001b[0;34m:\u001b[0m\u001b[0;34m\u001b[0m\u001b[0;34m\u001b[0m\u001b[0m\n\u001b[1;32m     12\u001b[0m         \u001b[0moptimizer\u001b[0m\u001b[0;34m.\u001b[0m\u001b[0mzero_grad\u001b[0m\u001b[0;34m(\u001b[0m\u001b[0;34m)\u001b[0m \u001b[0;31m# saw this a lot in the beginning, maybe resetting gradients (not to accumulate)\u001b[0m\u001b[0;34m\u001b[0m\u001b[0;34m\u001b[0m\u001b[0m\n\u001b[0;32m---> 13\u001b[0;31m         \u001b[0mout\u001b[0m \u001b[0;34m=\u001b[0m \u001b[0mmodel\u001b[0m\u001b[0;34m(\u001b[0m\u001b[0mdata\u001b[0m\u001b[0;34m)\u001b[0m \u001b[0;31m# this calls the forward method apparently\u001b[0m\u001b[0;34m\u001b[0m\u001b[0;34m\u001b[0m\u001b[0m\n\u001b[0m\u001b[1;32m     14\u001b[0m         \u001b[0mloss\u001b[0m \u001b[0;34m=\u001b[0m \u001b[0mF\u001b[0m\u001b[0;34m.\u001b[0m\u001b[0mnll_loss\u001b[0m\u001b[0;34m(\u001b[0m\u001b[0mout\u001b[0m\u001b[0;34m[\u001b[0m\u001b[0mdata\u001b[0m\u001b[0;34m.\u001b[0m\u001b[0mtrain_mask\u001b[0m\u001b[0;34m]\u001b[0m\u001b[0;34m,\u001b[0m\u001b[0mdata\u001b[0m\u001b[0;34m.\u001b[0m\u001b[0my\u001b[0m\u001b[0;34m[\u001b[0m\u001b[0mdata\u001b[0m\u001b[0;34m.\u001b[0m\u001b[0mtrain_mask\u001b[0m\u001b[0;34m]\u001b[0m\u001b[0;34m)\u001b[0m \u001b[0;31m# nice indexing, easy and short\u001b[0m\u001b[0;34m\u001b[0m\u001b[0;34m\u001b[0m\u001b[0m\n\u001b[1;32m     15\u001b[0m         \u001b[0mloss\u001b[0m\u001b[0;34m.\u001b[0m\u001b[0mbackward\u001b[0m\u001b[0;34m(\u001b[0m\u001b[0;34m)\u001b[0m \u001b[0;31m# magic: real back propagation step, takes care of the gradients and stuff\u001b[0m\u001b[0;34m\u001b[0m\u001b[0;34m\u001b[0m\u001b[0m\n",
      "\u001b[0;32m~/anaconda3/lib/python3.7/site-packages/torch/nn/modules/module.py\u001b[0m in \u001b[0;36m__call__\u001b[0;34m(self, *input, **kwargs)\u001b[0m\n\u001b[1;32m    491\u001b[0m             \u001b[0mresult\u001b[0m \u001b[0;34m=\u001b[0m \u001b[0mself\u001b[0m\u001b[0;34m.\u001b[0m\u001b[0m_slow_forward\u001b[0m\u001b[0;34m(\u001b[0m\u001b[0;34m*\u001b[0m\u001b[0minput\u001b[0m\u001b[0;34m,\u001b[0m \u001b[0;34m**\u001b[0m\u001b[0mkwargs\u001b[0m\u001b[0;34m)\u001b[0m\u001b[0;34m\u001b[0m\u001b[0;34m\u001b[0m\u001b[0m\n\u001b[1;32m    492\u001b[0m         \u001b[0;32melse\u001b[0m\u001b[0;34m:\u001b[0m\u001b[0;34m\u001b[0m\u001b[0;34m\u001b[0m\u001b[0m\n\u001b[0;32m--> 493\u001b[0;31m             \u001b[0mresult\u001b[0m \u001b[0;34m=\u001b[0m \u001b[0mself\u001b[0m\u001b[0;34m.\u001b[0m\u001b[0mforward\u001b[0m\u001b[0;34m(\u001b[0m\u001b[0;34m*\u001b[0m\u001b[0minput\u001b[0m\u001b[0;34m,\u001b[0m \u001b[0;34m**\u001b[0m\u001b[0mkwargs\u001b[0m\u001b[0;34m)\u001b[0m\u001b[0;34m\u001b[0m\u001b[0;34m\u001b[0m\u001b[0m\n\u001b[0m\u001b[1;32m    494\u001b[0m         \u001b[0;32mfor\u001b[0m \u001b[0mhook\u001b[0m \u001b[0;32min\u001b[0m \u001b[0mself\u001b[0m\u001b[0;34m.\u001b[0m\u001b[0m_forward_hooks\u001b[0m\u001b[0;34m.\u001b[0m\u001b[0mvalues\u001b[0m\u001b[0;34m(\u001b[0m\u001b[0;34m)\u001b[0m\u001b[0;34m:\u001b[0m\u001b[0;34m\u001b[0m\u001b[0;34m\u001b[0m\u001b[0m\n\u001b[1;32m    495\u001b[0m             \u001b[0mhook_result\u001b[0m \u001b[0;34m=\u001b[0m \u001b[0mhook\u001b[0m\u001b[0;34m(\u001b[0m\u001b[0mself\u001b[0m\u001b[0;34m,\u001b[0m \u001b[0minput\u001b[0m\u001b[0;34m,\u001b[0m \u001b[0mresult\u001b[0m\u001b[0;34m)\u001b[0m\u001b[0;34m\u001b[0m\u001b[0;34m\u001b[0m\u001b[0m\n",
      "\u001b[0;32m<ipython-input-4-d44eac6ac1b2>\u001b[0m in \u001b[0;36mforward\u001b[0;34m(self, data)\u001b[0m\n\u001b[1;32m     99\u001b[0m     \u001b[0;32mdef\u001b[0m \u001b[0mforward\u001b[0m\u001b[0;34m(\u001b[0m\u001b[0mself\u001b[0m\u001b[0;34m,\u001b[0m \u001b[0mdata\u001b[0m\u001b[0;34m)\u001b[0m\u001b[0;34m:\u001b[0m\u001b[0;34m\u001b[0m\u001b[0;34m\u001b[0m\u001b[0m\n\u001b[1;32m    100\u001b[0m         \u001b[0mx\u001b[0m\u001b[0;34m,\u001b[0m \u001b[0medge_index\u001b[0m \u001b[0;34m=\u001b[0m \u001b[0mdata\u001b[0m\u001b[0;34m.\u001b[0m\u001b[0mx\u001b[0m\u001b[0;34m,\u001b[0m \u001b[0mdata\u001b[0m\u001b[0;34m.\u001b[0m\u001b[0medge_index\u001b[0m\u001b[0;34m\u001b[0m\u001b[0;34m\u001b[0m\u001b[0m\n\u001b[0;32m--> 101\u001b[0;31m         \u001b[0mst_edges\u001b[0m \u001b[0;34m=\u001b[0m \u001b[0mdata\u001b[0m\u001b[0;34m.\u001b[0m\u001b[0medge_index\u001b[0m\u001b[0;34m.\u001b[0m\u001b[0mt\u001b[0m\u001b[0;34m(\u001b[0m\u001b[0;34m)\u001b[0m\u001b[0;34m[\u001b[0m\u001b[0;36m1\u001b[0m\u001b[0;34m-\u001b[0m\u001b[0mdata\u001b[0m\u001b[0;34m.\u001b[0m\u001b[0mis_reversed\u001b[0m\u001b[0;34m]\u001b[0m\u001b[0;34m.\u001b[0m\u001b[0mt\u001b[0m\u001b[0;34m(\u001b[0m\u001b[0;34m)\u001b[0m\u001b[0;34m\u001b[0m\u001b[0;34m\u001b[0m\u001b[0m\n\u001b[0m\u001b[1;32m    102\u001b[0m         \u001b[0mts_edges\u001b[0m \u001b[0;34m=\u001b[0m \u001b[0mdata\u001b[0m\u001b[0;34m.\u001b[0m\u001b[0medge_index\u001b[0m\u001b[0;34m.\u001b[0m\u001b[0mt\u001b[0m\u001b[0;34m(\u001b[0m\u001b[0;34m)\u001b[0m\u001b[0;34m[\u001b[0m\u001b[0mdata\u001b[0m\u001b[0;34m.\u001b[0m\u001b[0mis_reversed\u001b[0m\u001b[0;34m]\u001b[0m\u001b[0;34m.\u001b[0m\u001b[0mt\u001b[0m\u001b[0;34m(\u001b[0m\u001b[0;34m)\u001b[0m\u001b[0;34m\u001b[0m\u001b[0;34m\u001b[0m\u001b[0m\n\u001b[1;32m    103\u001b[0m \u001b[0;31m#         print(ts_edges.shape)\u001b[0m\u001b[0;34m\u001b[0m\u001b[0;34m\u001b[0m\u001b[0;34m\u001b[0m\u001b[0m\n",
      "\u001b[0;31mKeyboardInterrupt\u001b[0m: "
     ]
    }
   ],
   "source": [
    "param_search(PubMed,[64],[32],[10],'GAT_param_search_2_pubmed.out',heads=2,runs=1,epochs=200)"
   ]
  },
  {
   "cell_type": "code",
   "execution_count": 14,
   "metadata": {
    "collapsed": true
   },
   "outputs": [
    {
     "name": "stdout",
     "output_type": "stream",
     "text": [
      "lr=0.1000\twd=0.10000\t46.31\n",
      "lr=0.1000\twd=0.01000\t55.26\n",
      "lr=0.1000\twd=0.00100\t75.81\n",
      "lr=0.1000\twd=0.00010\t75.66\n",
      "lr=0.1000\twd=0.00001\t74.56\n",
      "lr=0.0100\twd=0.10000\t49.75\n",
      "lr=0.0100\twd=0.01000\t59.01\n",
      "lr=0.0100\twd=0.00100\t76.84\n",
      "lr=0.0100\twd=0.00010\t76.74\n",
      "lr=0.0100\twd=0.00001\t75.82\n",
      "lr=0.0010\twd=0.10000\t61.71\n",
      "lr=0.0010\twd=0.01000\t45.97\n",
      "lr=0.0010\twd=0.00100\t74.03\n",
      "lr=0.0010\twd=0.00010\t74.45\n",
      "lr=0.0010\twd=0.00001\t74.60\n",
      "lr=0.0001\twd=0.10000\t36.63\n",
      "lr=0.0001\twd=0.01000\t43.49\n",
      "lr=0.0001\twd=0.00100\t55.27\n",
      "lr=0.0001\twd=0.00010\t62.88\n",
      "lr=0.0001\twd=0.00001\t60.94\n",
      "lr=0.0000\twd=0.10000\t31.92\n",
      "lr=0.0000\twd=0.01000\t36.63\n",
      "lr=0.0000\twd=0.00100\t40.97\n",
      "lr=0.0000\twd=0.00010\t44.81\n",
      "lr=0.0000\twd=0.00001\t49.92\n",
      "Elaplsed 00:21:13\n",
      "lr=0.1000\twd=0.10000\t46.43\n",
      "lr=0.1000\twd=0.01000\t51.83\n",
      "lr=0.1000\twd=0.00100\t73.98\n",
      "lr=0.1000\twd=0.00010\t74.99\n",
      "lr=0.1000\twd=0.00001\t75.02\n",
      "lr=0.0100\twd=0.10000\t50.13\n",
      "lr=0.0100\twd=0.01000\t58.83\n",
      "lr=0.0100\twd=0.00100\t74.90\n",
      "lr=0.0100\twd=0.00010\t74.79\n",
      "lr=0.0100\twd=0.00001\t74.58\n",
      "lr=0.0010\twd=0.10000\t63.66\n",
      "lr=0.0010\twd=0.01000\t47.48\n",
      "lr=0.0010\twd=0.00100\t72.98\n",
      "lr=0.0010\twd=0.00010\t73.95\n",
      "lr=0.0010\twd=0.00001\t73.31\n",
      "lr=0.0001\twd=0.10000\t36.23\n",
      "lr=0.0001\twd=0.01000\t37.25\n",
      "lr=0.0001\twd=0.00100\t56.02\n",
      "lr=0.0001\twd=0.00010\t59.94\n",
      "lr=0.0001\twd=0.00001\t63.73\n",
      "lr=0.0000\twd=0.10000\t29.74\n",
      "lr=0.0000\twd=0.01000\t35.57\n",
      "lr=0.0000\twd=0.00100\t41.49\n",
      "lr=0.0000\twd=0.00010\t44.81\n",
      "lr=0.0000\twd=0.00001\t48.06\n",
      "Elaplsed 00:17:17\n",
      "lr=0.1000\twd=0.10000\t46.71\n",
      "lr=0.1000\twd=0.01000\t62.76\n",
      "lr=0.1000\twd=0.00100\t75.40\n",
      "lr=0.1000\twd=0.00010\t75.58\n",
      "lr=0.1000\twd=0.00001\t74.90\n",
      "lr=0.0100\twd=0.10000\t53.98\n",
      "lr=0.0100\twd=0.01000\t58.47\n",
      "lr=0.0100\twd=0.00100\t75.97\n",
      "lr=0.0100\twd=0.00010\t75.53\n",
      "lr=0.0100\twd=0.00001\t75.48\n",
      "lr=0.0010\twd=0.10000\t62.81\n",
      "lr=0.0010\twd=0.01000\t49.94\n",
      "lr=0.0010\twd=0.00100\t71.31\n",
      "lr=0.0010\twd=0.00010\t71.89\n",
      "lr=0.0010\twd=0.00001\t71.98\n",
      "lr=0.0001\twd=0.10000\t34.82\n",
      "lr=0.0001\twd=0.01000\t41.42\n",
      "lr=0.0001\twd=0.00100\t54.75\n",
      "lr=0.0001\twd=0.00010\t57.72\n",
      "lr=0.0001\twd=0.00001\t58.51\n",
      "lr=0.0000\twd=0.10000\t31.10\n",
      "lr=0.0000\twd=0.01000\t38.34\n",
      "lr=0.0000\twd=0.00100\t40.14\n",
      "lr=0.0000\twd=0.00010\t43.07\n",
      "lr=0.0000\twd=0.00001\t43.31\n",
      "Elaplsed 00:16:44\n"
     ]
    }
   ],
   "source": [
    "param_search(PubMed,[64],[32],[10],'GAT_param_search_2_pubmed.out',heads=2,runs=10,epochs=200)"
   ]
  },
  {
   "cell_type": "code",
   "execution_count": 15,
   "metadata": {
    "collapsed": true
   },
   "outputs": [
    {
     "name": "stdout",
     "output_type": "stream",
     "text": [
      "lr=0.1000\twd=0.10000\t44.10\n",
      "lr=0.1000\twd=0.01000\t47.60\n",
      "lr=0.1000\twd=0.00100\t77.60\n",
      "lr=0.1000\twd=0.00010\t78.40\n",
      "lr=0.1000\twd=0.00001\t79.30\n",
      "lr=0.0100\twd=0.10000\t50.00\n",
      "lr=0.0100\twd=0.01000\t59.10\n",
      "lr=0.0100\twd=0.00100\t77.00\n",
      "lr=0.0100\twd=0.00010\t76.60\n",
      "lr=0.0100\twd=0.00001\t76.30\n",
      "lr=0.0010\twd=0.10000\t67.20\n",
      "lr=0.0010\twd=0.01000\t46.20\n",
      "lr=0.0010\twd=0.00100\t51.90\n",
      "lr=0.0010\twd=0.00010\t72.40\n",
      "lr=0.0010\twd=0.00001\t72.10\n",
      "lr=0.0001\twd=0.10000\t35.90\n",
      "lr=0.0001\twd=0.01000\t48.00\n",
      "lr=0.0001\twd=0.00100\t47.50\n",
      "lr=0.0001\twd=0.00010\t48.20\n",
      "lr=0.0001\twd=0.00001\t51.50\n",
      "lr=0.0000\twd=0.10000\t29.50\n",
      "lr=0.0000\twd=0.01000\t44.20\n",
      "lr=0.0000\twd=0.00100\t39.00\n",
      "lr=0.0000\twd=0.00010\t43.30\n",
      "lr=0.0000\twd=0.00001\t42.90\n",
      "Elaplsed 00:01:58\n",
      "lr=0.1000\twd=0.10000\t41.90\n",
      "lr=0.1000\twd=0.01000\t51.00\n",
      "lr=0.1000\twd=0.00100\t75.50\n",
      "lr=0.1000\twd=0.00010\t76.70\n",
      "lr=0.1000\twd=0.00001\t75.70\n",
      "lr=0.0100\twd=0.10000\t47.00\n",
      "lr=0.0100\twd=0.01000\t51.60\n",
      "lr=0.0100\twd=0.00100\t75.20\n",
      "lr=0.0100\twd=0.00010\t74.20\n",
      "lr=0.0100\twd=0.00001\t74.90\n",
      "lr=0.0010\twd=0.10000\t51.50\n",
      "lr=0.0010\twd=0.01000\t45.70\n",
      "lr=0.0010\twd=0.00100\t53.40\n",
      "lr=0.0010\twd=0.00010\t71.60\n",
      "lr=0.0010\twd=0.00001\t70.80\n",
      "lr=0.0001\twd=0.10000\t28.90\n",
      "lr=0.0001\twd=0.01000\t31.40\n",
      "lr=0.0001\twd=0.00100\t54.90\n",
      "lr=0.0001\twd=0.00010\t45.40\n",
      "lr=0.0001\twd=0.00001\t53.20\n",
      "lr=0.0000\twd=0.10000\t37.90\n",
      "lr=0.0000\twd=0.01000\t24.20\n",
      "lr=0.0000\twd=0.00100\t42.80\n",
      "lr=0.0000\twd=0.00010\t38.20\n",
      "lr=0.0000\twd=0.00001\t49.00\n",
      "Elaplsed 00:01:54\n",
      "lr=0.1000\twd=0.10000\t41.90\n",
      "lr=0.1000\twd=0.01000\t51.30\n",
      "lr=0.1000\twd=0.00100\t77.30\n",
      "lr=0.1000\twd=0.00010\t76.30\n",
      "lr=0.1000\twd=0.00001\t75.60\n",
      "lr=0.0100\twd=0.10000\t40.70\n",
      "lr=0.0100\twd=0.01000\t51.20\n",
      "lr=0.0100\twd=0.00100\t74.90\n",
      "lr=0.0100\twd=0.00010\t76.00\n",
      "lr=0.0100\twd=0.00001\t75.70\n",
      "lr=0.0010\twd=0.10000\t64.30\n",
      "lr=0.0010\twd=0.01000\t48.40\n",
      "lr=0.0010\twd=0.00100\t59.30\n",
      "lr=0.0010\twd=0.00010\t72.20\n",
      "lr=0.0010\twd=0.00001\t70.80\n",
      "lr=0.0001\twd=0.10000\t27.00\n",
      "lr=0.0001\twd=0.01000\t31.30\n",
      "lr=0.0001\twd=0.00100\t45.40\n",
      "lr=0.0001\twd=0.00010\t48.00\n",
      "lr=0.0001\twd=0.00001\t51.40\n",
      "lr=0.0000\twd=0.10000\t35.00\n",
      "lr=0.0000\twd=0.01000\t28.40\n",
      "lr=0.0000\twd=0.00100\t41.00\n",
      "lr=0.0000\twd=0.00010\t36.10\n",
      "lr=0.0000\twd=0.00001\t38.70\n",
      "Elaplsed 00:02:18\n"
     ]
    }
   ],
   "source": [
    "param_search(PubMed,[8],[4],[2],'GAT_param_search_8_pubmed.out',heads=8,runs=1,epochs=200)"
   ]
  },
  {
   "cell_type": "code",
   "execution_count": 18,
   "metadata": {
    "collapsed": true
   },
   "outputs": [
    {
     "name": "stdout",
     "output_type": "stream",
     "text": [
      "lr=0.1000\twd=0.10000\t43.00\n",
      "lr=0.1000\twd=0.01000\t53.96\n",
      "lr=0.1000\twd=0.00100\t77.00\n",
      "lr=0.1000\twd=0.00010\t78.15\n",
      "lr=0.1000\twd=0.00001\t76.59\n",
      "lr=0.0100\twd=0.10000\t48.02\n",
      "lr=0.0100\twd=0.01000\t52.84\n",
      "lr=0.0100\twd=0.00100\t77.11\n",
      "lr=0.0100\twd=0.00010\t77.04\n",
      "lr=0.0100\twd=0.00001\t75.97\n",
      "lr=0.0010\twd=0.10000\t61.59\n"
     ]
    },
    {
     "ename": "KeyboardInterrupt",
     "evalue": "",
     "output_type": "error",
     "traceback": [
      "\u001b[0;31m---------------------------------------------------------------------------\u001b[0m",
      "\u001b[0;31mKeyboardInterrupt\u001b[0m                         Traceback (most recent call last)",
      "\u001b[0;32m<ipython-input-18-6b6f4f6d4b21>\u001b[0m in \u001b[0;36m<module>\u001b[0;34m\u001b[0m\n\u001b[0;32m----> 1\u001b[0;31m \u001b[0mparam_search\u001b[0m\u001b[0;34m(\u001b[0m\u001b[0mPubMed\u001b[0m\u001b[0;34m,\u001b[0m\u001b[0;34m[\u001b[0m\u001b[0;36m8\u001b[0m\u001b[0;34m]\u001b[0m\u001b[0;34m,\u001b[0m\u001b[0;34m[\u001b[0m\u001b[0;36m4\u001b[0m\u001b[0;34m]\u001b[0m\u001b[0;34m,\u001b[0m\u001b[0;34m[\u001b[0m\u001b[0;36m2\u001b[0m\u001b[0;34m]\u001b[0m\u001b[0;34m,\u001b[0m\u001b[0;34m'GAT_param_search_8_pubmed.out'\u001b[0m\u001b[0;34m,\u001b[0m\u001b[0mheads\u001b[0m\u001b[0;34m=\u001b[0m\u001b[0;36m8\u001b[0m\u001b[0;34m,\u001b[0m\u001b[0mruns\u001b[0m\u001b[0;34m=\u001b[0m\u001b[0;36m10\u001b[0m\u001b[0;34m,\u001b[0m\u001b[0mepochs\u001b[0m\u001b[0;34m=\u001b[0m\u001b[0;36m200\u001b[0m\u001b[0;34m)\u001b[0m\u001b[0;34m\u001b[0m\u001b[0;34m\u001b[0m\u001b[0m\n\u001b[0m",
      "\u001b[0;32m<ipython-input-16-c8293eafcdff>\u001b[0m in \u001b[0;36mparam_search\u001b[0;34m(data, channels1, channels2, channels3, outFile, heads, runs, epochs)\u001b[0m\n\u001b[1;32m      1\u001b[0m \u001b[0;32mdef\u001b[0m \u001b[0mparam_search\u001b[0m\u001b[0;34m(\u001b[0m\u001b[0mdata\u001b[0m\u001b[0;34m,\u001b[0m\u001b[0mchannels1\u001b[0m\u001b[0;34m,\u001b[0m\u001b[0mchannels2\u001b[0m\u001b[0;34m,\u001b[0m\u001b[0mchannels3\u001b[0m\u001b[0;34m,\u001b[0m\u001b[0moutFile\u001b[0m\u001b[0;34m,\u001b[0m\u001b[0mheads\u001b[0m\u001b[0;34m=\u001b[0m\u001b[0;36m1\u001b[0m\u001b[0;34m,\u001b[0m\u001b[0mruns\u001b[0m \u001b[0;34m=\u001b[0m \u001b[0;36m10\u001b[0m\u001b[0;34m,\u001b[0m\u001b[0mepochs\u001b[0m\u001b[0;34m=\u001b[0m\u001b[0;36m200\u001b[0m\u001b[0;34m)\u001b[0m\u001b[0;34m:\u001b[0m\u001b[0;34m\u001b[0m\u001b[0;34m\u001b[0m\u001b[0m\n\u001b[1;32m      2\u001b[0m     \u001b[0;32mwith\u001b[0m \u001b[0mopen\u001b[0m\u001b[0;34m(\u001b[0m\u001b[0moutFile\u001b[0m\u001b[0;34m,\u001b[0m\u001b[0;34m'w'\u001b[0m\u001b[0;34m)\u001b[0m \u001b[0;32mas\u001b[0m \u001b[0mout\u001b[0m\u001b[0;34m:\u001b[0m\u001b[0;34m\u001b[0m\u001b[0;34m\u001b[0m\u001b[0m\n\u001b[0;32m----> 3\u001b[0;31m         \u001b[0mlr\u001b[0m\u001b[0;34m,\u001b[0m\u001b[0mwd\u001b[0m \u001b[0;34m=\u001b[0m \u001b[0meval_multiple\u001b[0m\u001b[0;34m(\u001b[0m\u001b[0mdata\u001b[0m\u001b[0;34m,\u001b[0m\u001b[0mchannels1\u001b[0m\u001b[0;34m,\u001b[0m\u001b[0marchitecture\u001b[0m\u001b[0;34m=\u001b[0m\u001b[0mMonoGAT\u001b[0m\u001b[0;34m,\u001b[0m\u001b[0mheads\u001b[0m\u001b[0;34m=\u001b[0m\u001b[0mheads\u001b[0m\u001b[0;34m,\u001b[0m\u001b[0mruns\u001b[0m\u001b[0;34m=\u001b[0m\u001b[0mruns\u001b[0m\u001b[0;34m,\u001b[0m\u001b[0mepochs\u001b[0m\u001b[0;34m=\u001b[0m\u001b[0mepochs\u001b[0m\u001b[0;34m)\u001b[0m\u001b[0;34m\u001b[0m\u001b[0;34m\u001b[0m\u001b[0m\n\u001b[0m\u001b[1;32m      4\u001b[0m         \u001b[0mout\u001b[0m\u001b[0;34m.\u001b[0m\u001b[0mwrite\u001b[0m\u001b[0;34m(\u001b[0m\u001b[0;34m'Mono lr={:.4f}\\twd={:.5f}\\n'\u001b[0m\u001b[0;34m.\u001b[0m\u001b[0mformat\u001b[0m\u001b[0;34m(\u001b[0m\u001b[0mlr\u001b[0m\u001b[0;34m,\u001b[0m\u001b[0mwd\u001b[0m\u001b[0;34m)\u001b[0m\u001b[0;34m)\u001b[0m\u001b[0;34m\u001b[0m\u001b[0;34m\u001b[0m\u001b[0m\n\u001b[1;32m      5\u001b[0m         \u001b[0mlr\u001b[0m\u001b[0;34m,\u001b[0m\u001b[0mwd\u001b[0m \u001b[0;34m=\u001b[0m \u001b[0meval_multiple\u001b[0m\u001b[0;34m(\u001b[0m\u001b[0mdata\u001b[0m\u001b[0;34m,\u001b[0m\u001b[0mchannels2\u001b[0m\u001b[0;34m,\u001b[0m\u001b[0marchitecture\u001b[0m\u001b[0;34m=\u001b[0m\u001b[0mBiGAT\u001b[0m\u001b[0;34m,\u001b[0m\u001b[0mheads\u001b[0m\u001b[0;34m=\u001b[0m\u001b[0mheads\u001b[0m\u001b[0;34m,\u001b[0m\u001b[0mruns\u001b[0m\u001b[0;34m=\u001b[0m\u001b[0mruns\u001b[0m\u001b[0;34m,\u001b[0m\u001b[0mepochs\u001b[0m\u001b[0;34m=\u001b[0m\u001b[0mepochs\u001b[0m\u001b[0;34m)\u001b[0m\u001b[0;34m\u001b[0m\u001b[0;34m\u001b[0m\u001b[0m\n",
      "\u001b[0;32m<ipython-input-12-c6ea37910c70>\u001b[0m in \u001b[0;36meval_multiple\u001b[0;34m(dataset, channels, architecture, heads, runs, epochs)\u001b[0m\n\u001b[1;32m     37\u001b[0m             \u001b[0maccs\u001b[0m \u001b[0;34m=\u001b[0m \u001b[0;34m[\u001b[0m\u001b[0;34m]\u001b[0m\u001b[0;34m\u001b[0m\u001b[0;34m\u001b[0m\u001b[0m\n\u001b[1;32m     38\u001b[0m             \u001b[0;32mfor\u001b[0m \u001b[0mi\u001b[0m \u001b[0;32min\u001b[0m \u001b[0mrange\u001b[0m\u001b[0;34m(\u001b[0m\u001b[0mruns\u001b[0m\u001b[0;34m)\u001b[0m\u001b[0;34m:\u001b[0m\u001b[0;34m\u001b[0m\u001b[0;34m\u001b[0m\u001b[0m\n\u001b[0;32m---> 39\u001b[0;31m                 \u001b[0maccs\u001b[0m\u001b[0;34m.\u001b[0m\u001b[0mappend\u001b[0m\u001b[0;34m(\u001b[0m\u001b[0mrun_and_eval_model\u001b[0m\u001b[0;34m(\u001b[0m\u001b[0mdataset\u001b[0m\u001b[0;34m,\u001b[0m\u001b[0mchannels\u001b[0m\u001b[0;34m,\u001b[0m\u001b[0marchitecture\u001b[0m\u001b[0;34m,\u001b[0m\u001b[0mlr\u001b[0m\u001b[0;34m,\u001b[0m\u001b[0mwd\u001b[0m\u001b[0;34m,\u001b[0m\u001b[0mheads\u001b[0m\u001b[0;34m=\u001b[0m\u001b[0mheads\u001b[0m\u001b[0;34m,\u001b[0m\u001b[0mepochs\u001b[0m\u001b[0;34m=\u001b[0m\u001b[0mepochs\u001b[0m\u001b[0;34m)\u001b[0m\u001b[0;34m)\u001b[0m\u001b[0;34m\u001b[0m\u001b[0;34m\u001b[0m\u001b[0m\n\u001b[0m\u001b[1;32m     40\u001b[0m             \u001b[0macc\u001b[0m \u001b[0;34m=\u001b[0m \u001b[0msum\u001b[0m\u001b[0;34m(\u001b[0m\u001b[0maccs\u001b[0m\u001b[0;34m)\u001b[0m\u001b[0;34m/\u001b[0m\u001b[0mlen\u001b[0m\u001b[0;34m(\u001b[0m\u001b[0maccs\u001b[0m\u001b[0;34m)\u001b[0m\u001b[0;34m\u001b[0m\u001b[0;34m\u001b[0m\u001b[0m\n\u001b[1;32m     41\u001b[0m             \u001b[0mprint\u001b[0m\u001b[0;34m(\u001b[0m\u001b[0;34m\"lr={:.4f}\\twd={:.5f}\\t{:.2f}\"\u001b[0m\u001b[0;34m.\u001b[0m\u001b[0mformat\u001b[0m\u001b[0;34m(\u001b[0m\u001b[0mlr\u001b[0m\u001b[0;34m,\u001b[0m\u001b[0mwd\u001b[0m\u001b[0;34m,\u001b[0m\u001b[0macc\u001b[0m\u001b[0;34m*\u001b[0m\u001b[0;36m100\u001b[0m\u001b[0;34m)\u001b[0m\u001b[0;34m)\u001b[0m\u001b[0;34m\u001b[0m\u001b[0;34m\u001b[0m\u001b[0m\n",
      "\u001b[0;32m<ipython-input-12-c6ea37910c70>\u001b[0m in \u001b[0;36mrun_and_eval_model\u001b[0;34m(dataset, channels, architecture, lr, wd, heads, epochs)\u001b[0m\n\u001b[1;32m     13\u001b[0m         \u001b[0mout\u001b[0m \u001b[0;34m=\u001b[0m \u001b[0mmodel\u001b[0m\u001b[0;34m(\u001b[0m\u001b[0mdata\u001b[0m\u001b[0;34m)\u001b[0m \u001b[0;31m# this calls the forward method apparently\u001b[0m\u001b[0;34m\u001b[0m\u001b[0;34m\u001b[0m\u001b[0m\n\u001b[1;32m     14\u001b[0m         \u001b[0mloss\u001b[0m \u001b[0;34m=\u001b[0m \u001b[0mF\u001b[0m\u001b[0;34m.\u001b[0m\u001b[0mnll_loss\u001b[0m\u001b[0;34m(\u001b[0m\u001b[0mout\u001b[0m\u001b[0;34m[\u001b[0m\u001b[0mdata\u001b[0m\u001b[0;34m.\u001b[0m\u001b[0mtrain_mask\u001b[0m\u001b[0;34m]\u001b[0m\u001b[0;34m,\u001b[0m\u001b[0mdata\u001b[0m\u001b[0;34m.\u001b[0m\u001b[0my\u001b[0m\u001b[0;34m[\u001b[0m\u001b[0mdata\u001b[0m\u001b[0;34m.\u001b[0m\u001b[0mtrain_mask\u001b[0m\u001b[0;34m]\u001b[0m\u001b[0;34m)\u001b[0m \u001b[0;31m# nice indexing, easy and short\u001b[0m\u001b[0;34m\u001b[0m\u001b[0;34m\u001b[0m\u001b[0m\n\u001b[0;32m---> 15\u001b[0;31m         \u001b[0mloss\u001b[0m\u001b[0;34m.\u001b[0m\u001b[0mbackward\u001b[0m\u001b[0;34m(\u001b[0m\u001b[0;34m)\u001b[0m \u001b[0;31m# magic: real back propagation step, takes care of the gradients and stuff\u001b[0m\u001b[0;34m\u001b[0m\u001b[0;34m\u001b[0m\u001b[0m\n\u001b[0m\u001b[1;32m     16\u001b[0m         \u001b[0moptimizer\u001b[0m\u001b[0;34m.\u001b[0m\u001b[0mstep\u001b[0m\u001b[0;34m(\u001b[0m\u001b[0;34m)\u001b[0m \u001b[0;31m# maybe updates the params to be optimized\u001b[0m\u001b[0;34m\u001b[0m\u001b[0;34m\u001b[0m\u001b[0m\n\u001b[1;32m     17\u001b[0m \u001b[0;34m\u001b[0m\u001b[0m\n",
      "\u001b[0;32m~/anaconda3/lib/python3.7/site-packages/torch/tensor.py\u001b[0m in \u001b[0;36mbackward\u001b[0;34m(self, gradient, retain_graph, create_graph)\u001b[0m\n\u001b[1;32m    105\u001b[0m                 \u001b[0mproducts\u001b[0m\u001b[0;34m.\u001b[0m \u001b[0mDefaults\u001b[0m \u001b[0mto\u001b[0m\u001b[0;31m \u001b[0m\u001b[0;31m`\u001b[0m\u001b[0;31m`\u001b[0m\u001b[0;32mFalse\u001b[0m\u001b[0;31m`\u001b[0m\u001b[0;31m`\u001b[0m\u001b[0;34m.\u001b[0m\u001b[0;34m\u001b[0m\u001b[0;34m\u001b[0m\u001b[0m\n\u001b[1;32m    106\u001b[0m         \"\"\"\n\u001b[0;32m--> 107\u001b[0;31m         \u001b[0mtorch\u001b[0m\u001b[0;34m.\u001b[0m\u001b[0mautograd\u001b[0m\u001b[0;34m.\u001b[0m\u001b[0mbackward\u001b[0m\u001b[0;34m(\u001b[0m\u001b[0mself\u001b[0m\u001b[0;34m,\u001b[0m \u001b[0mgradient\u001b[0m\u001b[0;34m,\u001b[0m \u001b[0mretain_graph\u001b[0m\u001b[0;34m,\u001b[0m \u001b[0mcreate_graph\u001b[0m\u001b[0;34m)\u001b[0m\u001b[0;34m\u001b[0m\u001b[0;34m\u001b[0m\u001b[0m\n\u001b[0m\u001b[1;32m    108\u001b[0m \u001b[0;34m\u001b[0m\u001b[0m\n\u001b[1;32m    109\u001b[0m     \u001b[0;32mdef\u001b[0m \u001b[0mregister_hook\u001b[0m\u001b[0;34m(\u001b[0m\u001b[0mself\u001b[0m\u001b[0;34m,\u001b[0m \u001b[0mhook\u001b[0m\u001b[0;34m)\u001b[0m\u001b[0;34m:\u001b[0m\u001b[0;34m\u001b[0m\u001b[0;34m\u001b[0m\u001b[0m\n",
      "\u001b[0;32m~/anaconda3/lib/python3.7/site-packages/torch/autograd/__init__.py\u001b[0m in \u001b[0;36mbackward\u001b[0;34m(tensors, grad_tensors, retain_graph, create_graph, grad_variables)\u001b[0m\n\u001b[1;32m     91\u001b[0m     Variable._execution_engine.run_backward(\n\u001b[1;32m     92\u001b[0m         \u001b[0mtensors\u001b[0m\u001b[0;34m,\u001b[0m \u001b[0mgrad_tensors\u001b[0m\u001b[0;34m,\u001b[0m \u001b[0mretain_graph\u001b[0m\u001b[0;34m,\u001b[0m \u001b[0mcreate_graph\u001b[0m\u001b[0;34m,\u001b[0m\u001b[0;34m\u001b[0m\u001b[0;34m\u001b[0m\u001b[0m\n\u001b[0;32m---> 93\u001b[0;31m         allow_unreachable=True)  # allow_unreachable flag\n\u001b[0m\u001b[1;32m     94\u001b[0m \u001b[0;34m\u001b[0m\u001b[0m\n\u001b[1;32m     95\u001b[0m \u001b[0;34m\u001b[0m\u001b[0m\n",
      "\u001b[0;31mKeyboardInterrupt\u001b[0m: "
     ]
    }
   ],
   "source": [
    "param_search(PubMed,[8],[4],[2],'GAT_param_search_8_pubmed.out',heads=8,runs=10,epochs=200)"
   ]
  },
  {
   "cell_type": "code",
   "execution_count": 20,
   "metadata": {},
   "outputs": [
    {
     "name": "stdout",
     "output_type": "stream",
     "text": [
      "lr=1.0000\twd=0.00100\t54.95\n",
      "lr=1.0000\twd=0.00010\t47.85\n",
      "lr=1.0000\twd=0.00001\t54.04\n",
      "lr=0.1000\twd=0.00100\t77.30\n",
      "lr=0.1000\twd=0.00010\t77.25\n",
      "lr=0.1000\twd=0.00001\t76.83\n",
      "lr=0.0100\twd=0.00100\t77.12\n",
      "lr=0.0100\twd=0.00010\t77.20\n",
      "lr=0.0100\twd=0.00001\t76.49\n",
      "Elaplsed 00:08:30\n",
      "lr=1.0000\twd=0.00100\t52.21\n",
      "lr=1.0000\twd=0.00010\t50.15\n",
      "lr=1.0000\twd=0.00001\t54.00\n",
      "lr=0.1000\twd=0.00100\t74.82\n",
      "lr=0.1000\twd=0.00010\t76.10\n",
      "lr=0.1000\twd=0.00001\t75.83\n",
      "lr=0.0100\twd=0.00100\t74.51\n",
      "lr=0.0100\twd=0.00010\t74.35\n",
      "lr=0.0100\twd=0.00001\t75.05\n",
      "Elaplsed 00:06:53\n",
      "lr=1.0000\twd=0.00100\t56.03\n",
      "lr=1.0000\twd=0.00010\t53.81\n",
      "lr=1.0000\twd=0.00001\t52.92\n",
      "lr=0.1000\twd=0.00100\t75.81\n",
      "lr=0.1000\twd=0.00010\t76.33\n",
      "lr=0.1000\twd=0.00001\t76.19\n",
      "lr=0.0100\twd=0.00100\t75.56\n",
      "lr=0.0100\twd=0.00010\t75.66\n",
      "lr=0.0100\twd=0.00001\t75.72\n",
      "Elaplsed 00:08:22\n"
     ]
    }
   ],
   "source": [
    "param_search(PubMed,[8],[4],[2],'GAT_param_search_8_pubmed.out',heads=8,runs=10,epochs=200)"
   ]
  },
  {
   "cell_type": "code",
   "execution_count": null,
   "metadata": {},
   "outputs": [],
   "source": []
  }
 ],
 "metadata": {
  "kernelspec": {
   "display_name": "Python 3",
   "language": "python",
   "name": "python3"
  },
  "language_info": {
   "codemirror_mode": {
    "name": "ipython",
    "version": 3
   },
   "file_extension": ".py",
   "mimetype": "text/x-python",
   "name": "python",
   "nbconvert_exporter": "python",
   "pygments_lexer": "ipython3",
   "version": "3.7.3"
  }
 },
 "nbformat": 4,
 "nbformat_minor": 2
}
