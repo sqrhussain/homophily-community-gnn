{
 "cells": [
  {
   "cell_type": "code",
   "execution_count": 8,
   "metadata": {},
   "outputs": [],
   "source": [
    "from embedding_evaluation_framework import EmbeddingData, eval_n2v\n",
    "import pandas as pd\n",
    "import numpy as np\n",
    "import os\n",
    "import seaborn as sns\n",
    "import matplotlib.pyplot as plt"
   ]
  },
  {
   "cell_type": "code",
   "execution_count": 9,
   "metadata": {},
   "outputs": [],
   "source": [
    "ps = [0.25,0.75,1,1.25,1.75]"
   ]
  },
  {
   "cell_type": "code",
   "execution_count": 10,
   "metadata": {},
   "outputs": [],
   "source": [
    "inits = 20\n",
    "splits = 100"
   ]
  },
  {
   "cell_type": "code",
   "execution_count": 11,
   "metadata": {},
   "outputs": [],
   "source": [
    "val_out = 'eval/n2v.csv'"
   ]
  },
  {
   "cell_type": "code",
   "execution_count": 12,
   "metadata": {},
   "outputs": [],
   "source": [
    "if os.path.exists(val_out):\n",
    "    df_n2v = pd.read_csv(val_out)\n",
    "else:\n",
    "    df_n2v = pd.DataFrame(columns='splits inits p q val_acc val_avg val_std'.split())\n",
    "# df_n2v"
   ]
  },
  {
   "cell_type": "code",
   "execution_count": 13,
   "metadata": {},
   "outputs": [],
   "source": [
    "def contains(df_val,p,q):\n",
    "    return ((df_val['p']==p) & (df_val['q']==q)).any()"
   ]
  },
  {
   "cell_type": "code",
   "execution_count": 14,
   "metadata": {},
   "outputs": [
    {
     "name": "stdout",
     "output_type": "stream",
     "text": [
      "already calculated!\n",
      "already calculated!\n",
      "already calculated!\n",
      "already calculated!\n",
      "already calculated!\n",
      "already calculated!\n",
      "already calculated!\n",
      "already calculated!\n",
      "already calculated!\n",
      "already calculated!\n",
      "already calculated!\n",
      "already calculated!\n",
      "already calculated!\n",
      "already calculated!\n",
      "already calculated!\n",
      "already calculated!\n",
      "already calculated!\n",
      "already calculated!\n",
      "already calculated!\n",
      "already calculated!\n",
      "already calculated!\n",
      "already calculated!\n",
      "already calculated!\n",
      "already calculated!\n",
      "already calculated!\n"
     ]
    }
   ],
   "source": [
    "for p in ps:\n",
    "    for q in ps:\n",
    "        if contains(df_n2v,p,q):\n",
    "            print('already calculated!')\n",
    "            continue\n",
    "        print(f'evaluating p={p},q={q}')\n",
    "        vals = []\n",
    "        tests = []\n",
    "        for init in range(inits):\n",
    "            print(f' init {init}')\n",
    "            emb = EmbeddingData(f'/tmp/n2vUndp{p}q{q}EmbCoraInit{init}','cora',f'node2vec_rw_{p:0.2f}_{q:0.2f}',directed=False,initialization=f'node2vec/{init}')\n",
    "            val = eval_n2v(emb[0],num_splits=splits)\n",
    "            vals = vals + val\n",
    "#             tests = tests + test\n",
    "        df_n2v = df_n2v.append({'p':p, 'q':q,\n",
    "                                'val_acc':vals, 'val_avg':np.mean(vals), 'val_std':np.std(vals),\n",
    "#                                 'test_acc':tests, 'test_avg':np.mean(tests), 'test_std':np.std(tests)\n",
    "                               },ignore_index=True)\n",
    "        df_n2v.to_csv(val_out,index=False)"
   ]
  },
  {
   "cell_type": "code",
   "execution_count": 16,
   "metadata": {},
   "outputs": [
    {
     "data": {
      "text/html": [
       "<div>\n",
       "<style scoped>\n",
       "    .dataframe tbody tr th:only-of-type {\n",
       "        vertical-align: middle;\n",
       "    }\n",
       "\n",
       "    .dataframe tbody tr th {\n",
       "        vertical-align: top;\n",
       "    }\n",
       "\n",
       "    .dataframe thead th {\n",
       "        text-align: right;\n",
       "    }\n",
       "</style>\n",
       "<table border=\"1\" class=\"dataframe\">\n",
       "  <thead>\n",
       "    <tr style=\"text-align: right;\">\n",
       "      <th></th>\n",
       "      <th>splits</th>\n",
       "      <th>inits</th>\n",
       "      <th>p</th>\n",
       "      <th>q</th>\n",
       "      <th>val_acc</th>\n",
       "      <th>val_avg</th>\n",
       "      <th>val_std</th>\n",
       "    </tr>\n",
       "  </thead>\n",
       "  <tbody>\n",
       "    <tr>\n",
       "      <th>0</th>\n",
       "      <td>NaN</td>\n",
       "      <td>NaN</td>\n",
       "      <td>0.25</td>\n",
       "      <td>0.25</td>\n",
       "      <td>[0.719047619047619, 0.6523809523809524, 0.7238...</td>\n",
       "      <td>0.723119</td>\n",
       "      <td>0.034130</td>\n",
       "    </tr>\n",
       "    <tr>\n",
       "      <th>1</th>\n",
       "      <td>NaN</td>\n",
       "      <td>NaN</td>\n",
       "      <td>0.25</td>\n",
       "      <td>0.75</td>\n",
       "      <td>[0.7095238095238096, 0.7, 0.7380952380952381, ...</td>\n",
       "      <td>0.719840</td>\n",
       "      <td>0.034346</td>\n",
       "    </tr>\n",
       "    <tr>\n",
       "      <th>2</th>\n",
       "      <td>NaN</td>\n",
       "      <td>NaN</td>\n",
       "      <td>0.25</td>\n",
       "      <td>1.25</td>\n",
       "      <td>[0.6952380952380952, 0.6476190476190476, 0.723...</td>\n",
       "      <td>0.716671</td>\n",
       "      <td>0.034457</td>\n",
       "    </tr>\n",
       "    <tr>\n",
       "      <th>3</th>\n",
       "      <td>NaN</td>\n",
       "      <td>NaN</td>\n",
       "      <td>0.25</td>\n",
       "      <td>1.75</td>\n",
       "      <td>[0.6761904761904762, 0.680952380952381, 0.7238...</td>\n",
       "      <td>0.716631</td>\n",
       "      <td>0.035283</td>\n",
       "    </tr>\n",
       "    <tr>\n",
       "      <th>4</th>\n",
       "      <td>NaN</td>\n",
       "      <td>NaN</td>\n",
       "      <td>0.75</td>\n",
       "      <td>0.25</td>\n",
       "      <td>[0.719047619047619, 0.6428571428571429, 0.7476...</td>\n",
       "      <td>0.724264</td>\n",
       "      <td>0.036025</td>\n",
       "    </tr>\n",
       "    <tr>\n",
       "      <th>5</th>\n",
       "      <td>NaN</td>\n",
       "      <td>NaN</td>\n",
       "      <td>0.75</td>\n",
       "      <td>0.75</td>\n",
       "      <td>[0.7380952380952381, 0.6714285714285714, 0.733...</td>\n",
       "      <td>0.729755</td>\n",
       "      <td>0.034183</td>\n",
       "    </tr>\n",
       "    <tr>\n",
       "      <th>6</th>\n",
       "      <td>NaN</td>\n",
       "      <td>NaN</td>\n",
       "      <td>0.75</td>\n",
       "      <td>1.25</td>\n",
       "      <td>[0.6904761904761905, 0.680952380952381, 0.7095...</td>\n",
       "      <td>0.729162</td>\n",
       "      <td>0.034468</td>\n",
       "    </tr>\n",
       "    <tr>\n",
       "      <th>7</th>\n",
       "      <td>NaN</td>\n",
       "      <td>NaN</td>\n",
       "      <td>0.75</td>\n",
       "      <td>1.75</td>\n",
       "      <td>[0.7428571428571429, 0.680952380952381, 0.7380...</td>\n",
       "      <td>0.723233</td>\n",
       "      <td>0.034018</td>\n",
       "    </tr>\n",
       "    <tr>\n",
       "      <th>8</th>\n",
       "      <td>NaN</td>\n",
       "      <td>NaN</td>\n",
       "      <td>1.25</td>\n",
       "      <td>0.25</td>\n",
       "      <td>[0.7, 0.6571428571428571, 0.7333333333333333, ...</td>\n",
       "      <td>0.724940</td>\n",
       "      <td>0.034820</td>\n",
       "    </tr>\n",
       "    <tr>\n",
       "      <th>9</th>\n",
       "      <td>NaN</td>\n",
       "      <td>NaN</td>\n",
       "      <td>1.25</td>\n",
       "      <td>0.75</td>\n",
       "      <td>[0.719047619047619, 0.6857142857142857, 0.7428...</td>\n",
       "      <td>0.724129</td>\n",
       "      <td>0.034853</td>\n",
       "    </tr>\n",
       "    <tr>\n",
       "      <th>10</th>\n",
       "      <td>NaN</td>\n",
       "      <td>NaN</td>\n",
       "      <td>1.25</td>\n",
       "      <td>1.25</td>\n",
       "      <td>[0.7238095238095238, 0.6857142857142857, 0.733...</td>\n",
       "      <td>0.728976</td>\n",
       "      <td>0.033566</td>\n",
       "    </tr>\n",
       "    <tr>\n",
       "      <th>11</th>\n",
       "      <td>NaN</td>\n",
       "      <td>NaN</td>\n",
       "      <td>1.25</td>\n",
       "      <td>1.75</td>\n",
       "      <td>[0.7238095238095238, 0.6571428571428571, 0.757...</td>\n",
       "      <td>0.725450</td>\n",
       "      <td>0.032767</td>\n",
       "    </tr>\n",
       "    <tr>\n",
       "      <th>12</th>\n",
       "      <td>NaN</td>\n",
       "      <td>NaN</td>\n",
       "      <td>1.75</td>\n",
       "      <td>0.25</td>\n",
       "      <td>[0.7, 0.6666666666666666, 0.7142857142857143, ...</td>\n",
       "      <td>0.724029</td>\n",
       "      <td>0.035639</td>\n",
       "    </tr>\n",
       "    <tr>\n",
       "      <th>13</th>\n",
       "      <td>NaN</td>\n",
       "      <td>NaN</td>\n",
       "      <td>1.75</td>\n",
       "      <td>0.75</td>\n",
       "      <td>[0.7285714285714285, 0.680952380952381, 0.7476...</td>\n",
       "      <td>0.730412</td>\n",
       "      <td>0.033786</td>\n",
       "    </tr>\n",
       "    <tr>\n",
       "      <th>14</th>\n",
       "      <td>NaN</td>\n",
       "      <td>NaN</td>\n",
       "      <td>1.75</td>\n",
       "      <td>1.25</td>\n",
       "      <td>[0.7333333333333333, 0.6714285714285714, 0.719...</td>\n",
       "      <td>0.723538</td>\n",
       "      <td>0.035259</td>\n",
       "    </tr>\n",
       "    <tr>\n",
       "      <th>15</th>\n",
       "      <td>NaN</td>\n",
       "      <td>NaN</td>\n",
       "      <td>1.75</td>\n",
       "      <td>1.75</td>\n",
       "      <td>[0.719047619047619, 0.6523809523809524, 0.7285...</td>\n",
       "      <td>0.724110</td>\n",
       "      <td>0.035138</td>\n",
       "    </tr>\n",
       "    <tr>\n",
       "      <th>16</th>\n",
       "      <td>NaN</td>\n",
       "      <td>NaN</td>\n",
       "      <td>0.25</td>\n",
       "      <td>1.00</td>\n",
       "      <td>[0.7, 0.6666666666666666, 0.7047619047619048, ...</td>\n",
       "      <td>0.718948</td>\n",
       "      <td>0.033762</td>\n",
       "    </tr>\n",
       "    <tr>\n",
       "      <th>17</th>\n",
       "      <td>NaN</td>\n",
       "      <td>NaN</td>\n",
       "      <td>0.75</td>\n",
       "      <td>1.00</td>\n",
       "      <td>[0.7285714285714285, 0.7142857142857143, 0.738...</td>\n",
       "      <td>0.726329</td>\n",
       "      <td>0.033011</td>\n",
       "    </tr>\n",
       "    <tr>\n",
       "      <th>18</th>\n",
       "      <td>NaN</td>\n",
       "      <td>NaN</td>\n",
       "      <td>1.00</td>\n",
       "      <td>0.25</td>\n",
       "      <td>[0.7142857142857143, 0.680952380952381, 0.7428...</td>\n",
       "      <td>0.721371</td>\n",
       "      <td>0.033049</td>\n",
       "    </tr>\n",
       "    <tr>\n",
       "      <th>19</th>\n",
       "      <td>NaN</td>\n",
       "      <td>NaN</td>\n",
       "      <td>1.00</td>\n",
       "      <td>0.75</td>\n",
       "      <td>[0.7142857142857143, 0.6904761904761905, 0.742...</td>\n",
       "      <td>0.724033</td>\n",
       "      <td>0.033382</td>\n",
       "    </tr>\n",
       "    <tr>\n",
       "      <th>20</th>\n",
       "      <td>NaN</td>\n",
       "      <td>NaN</td>\n",
       "      <td>1.00</td>\n",
       "      <td>1.00</td>\n",
       "      <td>[0.7333333333333333, 0.6619047619047619, 0.733...</td>\n",
       "      <td>0.728890</td>\n",
       "      <td>0.032719</td>\n",
       "    </tr>\n",
       "    <tr>\n",
       "      <th>21</th>\n",
       "      <td>NaN</td>\n",
       "      <td>NaN</td>\n",
       "      <td>1.00</td>\n",
       "      <td>1.25</td>\n",
       "      <td>[0.6952380952380952, 0.6476190476190476, 0.728...</td>\n",
       "      <td>0.722314</td>\n",
       "      <td>0.033580</td>\n",
       "    </tr>\n",
       "    <tr>\n",
       "      <th>22</th>\n",
       "      <td>NaN</td>\n",
       "      <td>NaN</td>\n",
       "      <td>1.00</td>\n",
       "      <td>1.75</td>\n",
       "      <td>[0.7142857142857143, 0.6619047619047619, 0.742...</td>\n",
       "      <td>0.720202</td>\n",
       "      <td>0.034197</td>\n",
       "    </tr>\n",
       "    <tr>\n",
       "      <th>23</th>\n",
       "      <td>NaN</td>\n",
       "      <td>NaN</td>\n",
       "      <td>1.25</td>\n",
       "      <td>1.00</td>\n",
       "      <td>[0.7285714285714285, 0.6952380952380952, 0.752...</td>\n",
       "      <td>0.729393</td>\n",
       "      <td>0.032234</td>\n",
       "    </tr>\n",
       "    <tr>\n",
       "      <th>24</th>\n",
       "      <td>NaN</td>\n",
       "      <td>NaN</td>\n",
       "      <td>1.75</td>\n",
       "      <td>1.00</td>\n",
       "      <td>[0.7, 0.6714285714285714, 0.7428571428571429, ...</td>\n",
       "      <td>0.724898</td>\n",
       "      <td>0.033154</td>\n",
       "    </tr>\n",
       "  </tbody>\n",
       "</table>\n",
       "</div>"
      ],
      "text/plain": [
       "    splits  inits     p     q  \\\n",
       "0      NaN    NaN  0.25  0.25   \n",
       "1      NaN    NaN  0.25  0.75   \n",
       "2      NaN    NaN  0.25  1.25   \n",
       "3      NaN    NaN  0.25  1.75   \n",
       "4      NaN    NaN  0.75  0.25   \n",
       "5      NaN    NaN  0.75  0.75   \n",
       "6      NaN    NaN  0.75  1.25   \n",
       "7      NaN    NaN  0.75  1.75   \n",
       "8      NaN    NaN  1.25  0.25   \n",
       "9      NaN    NaN  1.25  0.75   \n",
       "10     NaN    NaN  1.25  1.25   \n",
       "11     NaN    NaN  1.25  1.75   \n",
       "12     NaN    NaN  1.75  0.25   \n",
       "13     NaN    NaN  1.75  0.75   \n",
       "14     NaN    NaN  1.75  1.25   \n",
       "15     NaN    NaN  1.75  1.75   \n",
       "16     NaN    NaN  0.25  1.00   \n",
       "17     NaN    NaN  0.75  1.00   \n",
       "18     NaN    NaN  1.00  0.25   \n",
       "19     NaN    NaN  1.00  0.75   \n",
       "20     NaN    NaN  1.00  1.00   \n",
       "21     NaN    NaN  1.00  1.25   \n",
       "22     NaN    NaN  1.00  1.75   \n",
       "23     NaN    NaN  1.25  1.00   \n",
       "24     NaN    NaN  1.75  1.00   \n",
       "\n",
       "                                              val_acc   val_avg   val_std  \n",
       "0   [0.719047619047619, 0.6523809523809524, 0.7238...  0.723119  0.034130  \n",
       "1   [0.7095238095238096, 0.7, 0.7380952380952381, ...  0.719840  0.034346  \n",
       "2   [0.6952380952380952, 0.6476190476190476, 0.723...  0.716671  0.034457  \n",
       "3   [0.6761904761904762, 0.680952380952381, 0.7238...  0.716631  0.035283  \n",
       "4   [0.719047619047619, 0.6428571428571429, 0.7476...  0.724264  0.036025  \n",
       "5   [0.7380952380952381, 0.6714285714285714, 0.733...  0.729755  0.034183  \n",
       "6   [0.6904761904761905, 0.680952380952381, 0.7095...  0.729162  0.034468  \n",
       "7   [0.7428571428571429, 0.680952380952381, 0.7380...  0.723233  0.034018  \n",
       "8   [0.7, 0.6571428571428571, 0.7333333333333333, ...  0.724940  0.034820  \n",
       "9   [0.719047619047619, 0.6857142857142857, 0.7428...  0.724129  0.034853  \n",
       "10  [0.7238095238095238, 0.6857142857142857, 0.733...  0.728976  0.033566  \n",
       "11  [0.7238095238095238, 0.6571428571428571, 0.757...  0.725450  0.032767  \n",
       "12  [0.7, 0.6666666666666666, 0.7142857142857143, ...  0.724029  0.035639  \n",
       "13  [0.7285714285714285, 0.680952380952381, 0.7476...  0.730412  0.033786  \n",
       "14  [0.7333333333333333, 0.6714285714285714, 0.719...  0.723538  0.035259  \n",
       "15  [0.719047619047619, 0.6523809523809524, 0.7285...  0.724110  0.035138  \n",
       "16  [0.7, 0.6666666666666666, 0.7047619047619048, ...  0.718948  0.033762  \n",
       "17  [0.7285714285714285, 0.7142857142857143, 0.738...  0.726329  0.033011  \n",
       "18  [0.7142857142857143, 0.680952380952381, 0.7428...  0.721371  0.033049  \n",
       "19  [0.7142857142857143, 0.6904761904761905, 0.742...  0.724033  0.033382  \n",
       "20  [0.7333333333333333, 0.6619047619047619, 0.733...  0.728890  0.032719  \n",
       "21  [0.6952380952380952, 0.6476190476190476, 0.728...  0.722314  0.033580  \n",
       "22  [0.7142857142857143, 0.6619047619047619, 0.742...  0.720202  0.034197  \n",
       "23  [0.7285714285714285, 0.6952380952380952, 0.752...  0.729393  0.032234  \n",
       "24  [0.7, 0.6714285714285714, 0.7428571428571429, ...  0.724898  0.033154  "
      ]
     },
     "execution_count": 16,
     "metadata": {},
     "output_type": "execute_result"
    }
   ],
   "source": [
    "df_n2v"
   ]
  },
  {
   "cell_type": "code",
   "execution_count": 28,
   "metadata": {},
   "outputs": [
    {
     "name": "stdout",
     "output_type": "stream",
     "text": [
      "gat_val_48_0.005.csv\n",
      "gat_val_96.csv\n",
      "gat_val_24.csv\n",
      "gat_val_96_0.01.csv\n",
      "gat_val.csv\n",
      "gat_val_48.csv\n",
      "gat_val_96_0.005.csv\n",
      "gat_val_12_0.01.csv\n",
      "gat_val_24_0.005.csv\n",
      "gat_val_24_0.01.csv\n"
     ]
    }
   ],
   "source": [
    "for f in os.listdir('eval'):\n",
    "    if f.startswith('gat') and f.endswith('csv'):\n",
    "        print(f)"
   ]
  },
  {
   "cell_type": "code",
   "execution_count": 20,
   "metadata": {},
   "outputs": [
    {
     "data": {
      "text/plain": [
       "<matplotlib.axes._subplots.AxesSubplot at 0x7f955076ee50>"
      ]
     },
     "execution_count": 20,
     "metadata": {},
     "output_type": "execute_result"
    },
    {
     "data": {
      "image/png": "[encoded data removed]",
      "text/plain": [
       "<Figure size 432x288 with 2 Axes>"
      ]
     },
     "metadata": {
      "needs_background": "light"
     },
     "output_type": "display_data"
    }
   ],
   "source": [
    "plt.figure()\n",
    "pvt = df_n2v.pivot(\"p\",\"q\",\"val_avg\")\n",
    "sns.heatmap(pvt, annot=True, fmt=\".4f\")"
   ]
  },
  {
   "cell_type": "code",
   "execution_count": 18,
   "metadata": {},
   "outputs": [
    {
     "name": "stderr",
     "output_type": "stream",
     "text": [
      "/home/hhussain/anaconda3/envs/nips2/lib/python3.7/site-packages/scipy/stats/stats.py:1713: FutureWarning: Using a non-tuple sequence for multidimensional indexing is deprecated; use `arr[tuple(seq)]` instead of `arr[seq]`. In the future this will be interpreted as an array index, `arr[np.array(seq)]`, which will result either in an error or a different result.\n",
      "  return np.add.reduce(sorted[indexer] * weights, axis=axis) / sumval\n"
     ]
    },
    {
     "data": {
      "text/plain": [
       "<matplotlib.axes._subplots.AxesSubplot at 0x7f9550e23610>"
      ]
     },
     "execution_count": 18,
     "metadata": {},
     "output_type": "execute_result"
    },
    {
     "data": {
      "image/png": "[encoded data removed]",
      "text/plain": [
       "<Figure size 432x288 with 1 Axes>"
      ]
     },
     "metadata": {
      "needs_background": "light"
     },
     "output_type": "display_data"
    }
   ],
   "source": [
    "plt.figure()\n",
    "plt.grid()\n",
    "sns.lineplot(data=df_n2v,x='p',y='val_avg')"
   ]
  },
  {
   "cell_type": "code",
   "execution_count": 19,
   "metadata": {},
   "outputs": [
    {
     "data": {
      "text/plain": [
       "<matplotlib.axes._subplots.AxesSubplot at 0x7f949d3d26d0>"
      ]
     },
     "execution_count": 19,
     "metadata": {},
     "output_type": "execute_result"
    },
    {
     "data": {
      "image/png": "[encoded data removed]",
      "text/plain": [
       "<Figure size 432x288 with 1 Axes>"
      ]
     },
     "metadata": {
      "needs_background": "light"
     },
     "output_type": "display_data"
    }
   ],
   "source": [
    "plt.figure()\n",
    "plt.grid()\n",
    "sns.lineplot(data=df_n2v,x='q',y='val_avg')"
   ]
  },
  {
   "cell_type": "code",
   "execution_count": null,
   "metadata": {},
   "outputs": [],
   "source": []
  }
 ],
 "metadata": {
  "kernelspec": {
   "display_name": "Python 3",
   "language": "python",
   "name": "python3"
  },
  "language_info": {
   "codemirror_mode": {
    "name": "ipython",
    "version": 3
   },
   "file_extension": ".py",
   "mimetype": "text/x-python",
   "name": "python",
   "nbconvert_exporter": "python",
   "pygments_lexer": "ipython3",
   "version": "3.7.5"
  }
 },
 "nbformat": 4,
 "nbformat_minor": 4
}
