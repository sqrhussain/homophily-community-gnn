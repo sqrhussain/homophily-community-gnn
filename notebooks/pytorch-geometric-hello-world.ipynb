{
 "cells": [
  {
   "cell_type": "code",
   "execution_count": 1,
   "metadata": {},
   "outputs": [],
   "source": [
    "# Let's start learning\n",
    "import torch\n",
    "from torch_geometric.datasets import Planetoid\n",
    "from cora_loader import CitationNetwork\n",
    "from torch.utils.data import DataLoader\n",
    "\n",
    "from torch_geometric_node2vec import Node2Vec\n",
    "import time\n",
    "\n",
    "# from models import GCN,BiGCN,TriGCN\n",
    "# TODO autoencoders"
   ]
  },
  {
   "cell_type": "code",
   "execution_count": 2,
   "metadata": {},
   "outputs": [
    {
     "data": {
      "text/plain": [
       "'\\n    root (string): Root directory where the dataset should be saved.\\n    name (string): The name of the dataset (:obj:`\"Cora\"`,\\n                                            :obj:`\"CiteSeer\"`,\\n                                            :obj:`\"PubMed\"`).\\n \\n'"
      ]
     },
     "execution_count": 2,
     "metadata": {},
     "output_type": "execute_result"
    }
   ],
   "source": [
    "'''\n",
    "    root (string): Root directory where the dataset should be saved.\n",
    "    name (string): The name of the dataset (:obj:`\"Cora\"`,\n",
    "                                            :obj:`\"CiteSeer\"`,\n",
    "                                            :obj:`\"PubMed\"`).\n",
    " \n",
    "'''\n",
    "#cora = Planetoid(root='/tmp/Cora',name='Cora')"
   ]
  },
  {
   "cell_type": "code",
   "execution_count": 3,
   "metadata": {},
   "outputs": [],
   "source": [
    "coraDirected = CitationNetwork('/tmp/coraDirected','cora',directed=True)\n",
    "coraReversed = CitationNetwork('/tmp/coraReversed','cora',directed=True,reverse=True)\n",
    "coraUndirected = CitationNetwork('/tmp/coraUndirected','cora',directed=False)"
   ]
  },
  {
   "cell_type": "code",
   "execution_count": 4,
   "metadata": {},
   "outputs": [],
   "source": [
    "citeseer = CitationNetwork('/tmp/citeseer','citeseer',directed=False)\n",
    "citeseerDirected = CitationNetwork('/tmp/citeseerDirected','citeseer',directed=True)\n",
    "citeseerReversed = CitationNetwork('/tmp/citeseerReversed','citeseer',directed=True,reverse=True)"
   ]
  },
  {
   "cell_type": "code",
   "execution_count": 5,
   "metadata": {},
   "outputs": [],
   "source": [
    "PubMed = CitationNetwork('/tmp/PubMed','PubMed',directed=False)\n",
    "PubMedDirected = CitationNetwork('/tmp/PubMedDirected','PubMed',directed=True)\n",
    "PubMedReversed = CitationNetwork('/tmp/PubMedReversed','PubMed',directed=True,reverse=True)"
   ]
  },
  {
   "cell_type": "code",
   "execution_count": null,
   "metadata": {},
   "outputs": [],
   "source": []
  },
  {
   "cell_type": "code",
   "execution_count": 50,
   "metadata": {},
   "outputs": [
    {
     "name": "stdout",
     "output_type": "stream",
     "text": [
      "Elaplsed 00:00:37\n",
      "Accuracy: 0.7868\n"
     ]
    }
   ],
   "source": [
    "tri,tris = eval_multiple_tri(coraUndirected,16,8,8,TriGCN,runs=100)\n",
    "print('Accuracy: {:.4f}'.format(tri))"
   ]
  },
  {
   "cell_type": "code",
   "execution_count": null,
   "metadata": {},
   "outputs": [],
   "source": []
  },
  {
   "cell_type": "code",
   "execution_count": 21,
   "metadata": {
    "scrolled": true
   },
   "outputs": [
    {
     "name": "stdout",
     "output_type": "stream",
     "text": [
      "Elaplsed 00:00:29\n",
      "Accuracy: 0.7803\n"
     ]
    }
   ],
   "source": [
    "undirectedGCN,undirectedGCNs = eval_multiple_bi(coraUndirected,16,16,BiGCN,runs=100)\n",
    "print('Accuracy: {:.4f}'.format(undirectedGCN))"
   ]
  },
  {
   "cell_type": "code",
   "execution_count": 25,
   "metadata": {},
   "outputs": [
    {
     "name": "stdout",
     "output_type": "stream",
     "text": [
      "Elaplsed 00:00:28\n",
      "Accuracy: 0.7752\n"
     ]
    }
   ],
   "source": [
    "biGrahpSAGE_acc,biGrahpSAGE_accs = eval_multiple_bi(coraUndirected,16,16,BiGraphSAGE,runs=100)\n",
    "print('Accuracy: {:.4f}'.format(biGrahpSAGE_acc))"
   ]
  },
  {
   "cell_type": "code",
   "execution_count": 26,
   "metadata": {},
   "outputs": [
    {
     "name": "stdout",
     "output_type": "stream",
     "text": [
      "Elaplsed 00:00:21\n",
      "Accuracy: 0.7930\n",
      "Elaplsed 00:00:18\n",
      "Accuracy: 0.7738\n"
     ]
    }
   ],
   "source": [
    "undirectedGCN,undirectedGCNs = eval_multiple(coraUndirected,32,GCN,runs=100)\n",
    "print('Accuracy: {:.4f}'.format(undirectedGCN))\n",
    "undirectedGraphSAGE,undirectedGraphSAGEs = eval_multiple(coraUndirected,32,GraphSAGE,runs=100)\n",
    "print('Accuracy: {:.4f}'.format(undirectedGraphSAGE))"
   ]
  },
  {
   "cell_type": "code",
   "execution_count": 13,
   "metadata": {},
   "outputs": [
    {
     "name": "stdout",
     "output_type": "stream",
     "text": [
      "Elaplsed 00:00:24\n",
      "Accuracy: 0.7893\n",
      "Elaplsed 00:00:39\n",
      "Accuracy: 0.7341\n",
      "Elaplsed 00:00:17\n",
      "Accuracy: 0.7724\n",
      "Elaplsed 00:00:36\n",
      "Accuracy: 0.7447\n"
     ]
    }
   ],
   "source": []
  },
  {
   "cell_type": "code",
   "execution_count": 21,
   "metadata": {},
   "outputs": [
    {
     "name": "stdout",
     "output_type": "stream",
     "text": [
      "Elaplsed 00:00:19\n",
      "Accuracy: 0.6174\n",
      "Elaplsed 00:00:17\n",
      "Accuracy: 0.6821\n"
     ]
    }
   ],
   "source": [
    "directedGCN,directedGCNs = eval_multiple(coraDirected,16,GCN,runs=100)\n",
    "print('Accuracy: {:.4f}'.format(directedGCN))\n",
    "directedGraphSAGE,directedGraphSAGEs = eval_multiple(coraDirected,16,GraphSAGE,runs=100)\n",
    "print('Accuracy: {:.4f}'.format(directedGraphSAGE))"
   ]
  },
  {
   "cell_type": "code",
   "execution_count": 64,
   "metadata": {
    "scrolled": false
   },
   "outputs": [
    {
     "name": "stdout",
     "output_type": "stream",
     "text": [
      "Elaplsed 00:02:36\n",
      "Accuracy: 0.7941\n"
     ]
    }
   ],
   "source": [
    "biGCN_acc = eval_multiple_bi(coraUndirected,64,64,BiGCN)\n",
    "print('Accuracy: {:.4f}'.format(biGCN_acc))"
   ]
  },
  {
   "cell_type": "code",
   "execution_count": 65,
   "metadata": {},
   "outputs": [
    {
     "name": "stdout",
     "output_type": "stream",
     "text": [
      "Elaplsed 00:02:25\n",
      "Accuracy: 0.7582\n"
     ]
    }
   ],
   "source": [
    "biGrahpSAGE_acc = eval_multiple_bi(coraUndirected,64,64,BiGraphSAGE)\n",
    "print('Accuracy: {:.4f}'.format(biGrahpSAGE_acc))"
   ]
  },
  {
   "cell_type": "code",
   "execution_count": 72,
   "metadata": {},
   "outputs": [
    {
     "name": "stdout",
     "output_type": "stream",
     "text": [
      "Elaplsed 00:01:21\n",
      "Accuracy: 0.7896\n",
      "Elaplsed 00:01:14\n",
      "Accuracy: 0.7946\n"
     ]
    }
   ],
   "source": [
    "undirectedGCN = eval_multiple(coraUndirected,128,GCN)\n",
    "print('Accuracy: {:.4f}'.format(undirectedGCN))\n",
    "undirectedGraphSAGE = eval_multiple(coraUndirected,128,GraphSAGE)\n",
    "print('Accuracy: {:.4f}'.format(undirectedGraphSAGE))"
   ]
  },
  {
   "cell_type": "code",
   "execution_count": 74,
   "metadata": {},
   "outputs": [
    {
     "name": "stdout",
     "output_type": "stream",
     "text": [
      "Elaplsed 00:01:22\n",
      "Accuracy: 0.6359\n",
      "Elaplsed 00:01:12\n",
      "Accuracy: 0.7553\n"
     ]
    }
   ],
   "source": [
    "reversedGCN = eval_multiple(coraReversed,128,GCN)\n",
    "print('Accuracy: {:.4f}'.format(reversedGCN))\n",
    "reversedGraphSAGE = eval_multiple(coraReversed,128,GraphSAGE)\n",
    "print('Accuracy: {:.4f}'.format(reversedGraphSAGE))"
   ]
  },
  {
   "cell_type": "code",
   "execution_count": 1,
   "metadata": {},
   "outputs": [],
   "source": [
    "import torch.nn.functional as F"
   ]
  },
  {
   "cell_type": "code",
   "execution_count": 5,
   "metadata": {},
   "outputs": [],
   "source": [
    "class FeatureNNClassifier(torch.nn.Module):\n",
    "    def __init__(self, n_in, n_h, n_out):\n",
    "        super(FeatureNNClassifier, self).__init__()\n",
    "        self.linear1 = torch.nn.Linear(n_in, n_h)\n",
    "        self.linear2 = torch.nn.Linear(n_h, n_out)\n",
    "\n",
    "    def forward(self, x):\n",
    "        x = self.linear1(x)\n",
    "        x = F.relu(x)\n",
    "        x = self.linear2(x)\n",
    "        x = F.log_softmax(x,dim=1)\n",
    "        return x\n"
   ]
  },
  {
   "cell_type": "code",
   "execution_count": 9,
   "metadata": {},
   "outputs": [],
   "source": [
    "# Define a baseline\n",
    "def eval_baseline_run(dataset,data,n_h=128,n_out=7):\n",
    "    n_in = dataset.num_features\n",
    "#     n_out = dataset.num_classes\n",
    "    baseline = FeatureNNClassifier(n_in,n_h,n_out)\n",
    "    device = torch.device('cpu')\n",
    "    data = dataset[0].x.to(device)\n",
    "    optimizer = torch.optim.Adam(baseline.parameters(),lr=0.01,weight_decay=5e-4)\n",
    "    baseline.train() # to enter training phase\n",
    "    for epoch in range(200):\n",
    "        optimizer.zero_grad() # saw this a lot in the beginning, maybe resetting gradients (not to accumulate)\n",
    "        out = baseline(data) # this calls the forward method apparently\n",
    "        loss = F.nll_loss(out[dataset[0].train_mask],dataset[0].y[dataset[0].train_mask]) # nice indexing, easy and short\n",
    "        loss.backward() # magic: real back propagation step, takes care of the gradients and stuff\n",
    "        optimizer.step() # maybe updates the params to be optimized\n",
    "    baseline.eval() # enter eval phase\n",
    "    _,pred = baseline(data).max(dim=1) # take prediction out of softmax\n",
    "    correct = float(pred[dataset[0].test_mask].eq(dataset[0].y[dataset[0].test_mask]).sum().item())\n",
    "    acc = correct / dataset[0].test_mask.sum().item()\n",
    "    return acc\n",
    "def eval_baseline(dataset,n_out,n_h=128,runs=100):\n",
    "    accs = []\n",
    "    for i in range(runs):\n",
    "        accs.append(eval_baseline_run(dataset,n_h,n_out))\n",
    "    return sum(accs)/len(accs),accs"
   ]
  },
  {
   "cell_type": "code",
   "execution_count": 23,
   "metadata": {},
   "outputs": [
    {
     "name": "stdout",
     "output_type": "stream",
     "text": [
      "Accuracy: 0.5581\n"
     ]
    }
   ],
   "source": [
    "baselineAcc,baselineAccs = eval_baseline(coraDirected,n_h=16,n_out=coraDirected.num_classes)\n",
    "print('Accuracy: {:.4f}'.format(baselineAcc))"
   ]
  },
  {
   "cell_type": "code",
   "execution_count": 41,
   "metadata": {},
   "outputs": [
    {
     "name": "stdout",
     "output_type": "stream",
     "text": [
      "Accuracy: 0.6123\n"
     ]
    }
   ],
   "source": [
    "baselineAcc,baselineAccs = eval_baseline(citeseerDirected,n_h=16,n_out=citeseerDirected.num_classes)\n",
    "print('Accuracy: {:.4f}'.format(baselineAcc))"
   ]
  },
  {
   "cell_type": "code",
   "execution_count": 10,
   "metadata": {},
   "outputs": [
    {
     "name": "stdout",
     "output_type": "stream",
     "text": [
      "Accuracy: 0.6127\n"
     ]
    }
   ],
   "source": [
    "baselineAcc,baselineAccs = eval_baseline(PubMed,n_h=16,n_out=PubMed.num_classes)\n",
    "print('Accuracy: {:.4f}'.format(baselineAcc))"
   ]
  },
  {
   "cell_type": "code",
   "execution_count": 11,
   "metadata": {},
   "outputs": [],
   "source": [
    "\n",
    "\n",
    "def train_n2v(n2v,data,loader,optimizer,device):\n",
    "    n2v.train()\n",
    "    total_loss = 0\n",
    "    for subset in loader:\n",
    "        optimizer.zero_grad()\n",
    "        loss = n2v.loss(data.edge_index, subset.to(device))\n",
    "        loss.backward()\n",
    "        optimizer.step()\n",
    "        total_loss += loss.item()\n",
    "    return total_loss / len(loader)\n",
    "\n",
    "\n",
    "def test_n2v(n2v,data,device):\n",
    "    n2v.eval()\n",
    "    z = n2v(torch.arange(data.num_nodes, device=device))\n",
    "    x = data.x\n",
    "    z = torch.cat((z,x),dim=1)\n",
    "    \n",
    "#     acc = eval_baseline_run(data,z,n_h=16)\n",
    "    acc = n2v.test(z[data.train_mask], data.y[data.train_mask],\n",
    "                     z[data.test_mask], data.y[data.test_mask], max_iter=150)\n",
    "    return acc\n",
    "\n",
    "def run_n2v(data,embedding_dim=128,p=1,q=1):\n",
    "    loader = DataLoader(torch.arange(data[0].num_nodes), batch_size=128, shuffle=True)\n",
    "    device = 'cpu' #'cuda' if torch.cuda.is_available() else 'cpu'\n",
    "    n2v = Node2Vec(num_nodes=data[0].num_nodes,\n",
    "              embedding_dim=embedding_dim,\n",
    "              walk_length=80,\n",
    "              context_size=10,\n",
    "              walks_per_node=10,\n",
    "              p=p,q=q)\n",
    "    n2v = n2v.to(device)\n",
    "    data =  data[0].to(device)\n",
    "    optimizer = torch.optim.Adam(n2v.parameters(), lr=0.01)\n",
    "\n",
    "    for epoch in range(1, 100):\n",
    "        loss = train_n2v(n2v,data,loader,optimizer,device)\n",
    "        if epoch % 10 == 0:\n",
    "            print('Epoch: {:02d}, Loss: {:.4f}'.format(epoch, loss))\n",
    "    acc = test_n2v(n2v,data,device)\n",
    "    return acc,n2v"
   ]
  },
  {
   "cell_type": "code",
   "execution_count": 8,
   "metadata": {
    "scrolled": true
   },
   "outputs": [
    {
     "name": "stdout",
     "output_type": "stream",
     "text": [
      "Epoch: 10, Loss: 1.2064\n",
      "Epoch: 20, Loss: 0.8939\n",
      "Epoch: 30, Loss: 0.8566\n",
      "Epoch: 40, Loss: 0.8463\n",
      "Epoch: 50, Loss: 0.8422\n",
      "Epoch: 60, Loss: 0.8395\n",
      "Epoch: 70, Loss: 0.8390\n",
      "Epoch: 80, Loss: 0.8383\n",
      "Epoch: 90, Loss: 0.8379\n",
      "Accuracy: 0.7670\n"
     ]
    }
   ],
   "source": [
    "n2v_acc,n2v_model = run_n2v(coraUndirected)\n",
    "print('Accuracy: {:.4f}'.format(n2v_acc))"
   ]
  },
  {
   "cell_type": "code",
   "execution_count": 8,
   "metadata": {},
   "outputs": [
    {
     "name": "stdout",
     "output_type": "stream",
     "text": [
      "Epoch: 10, Loss: 1.2281\n",
      "Epoch: 20, Loss: 0.8759\n",
      "Epoch: 30, Loss: 0.8157\n",
      "Epoch: 40, Loss: 0.7921\n",
      "Epoch: 50, Loss: 0.7794\n",
      "Epoch: 60, Loss: 0.7714\n",
      "Epoch: 70, Loss: 0.7664\n",
      "Epoch: 80, Loss: 0.7629\n",
      "Epoch: 90, Loss: 0.7603\n",
      "Accuracy: 0.6770\n"
     ]
    }
   ],
   "source": [
    "n2v_acc,n2v_model = run_n2v(citeseer)\n",
    "print('Accuracy: {:.4f}'.format(n2v_acc))"
   ]
  },
  {
   "cell_type": "code",
   "execution_count": 14,
   "metadata": {},
   "outputs": [
    {
     "name": "stdout",
     "output_type": "stream",
     "text": [
      "Epoch: 10, Loss: 0.8200\n",
      "Epoch: 20, Loss: 0.8185\n",
      "Epoch: 30, Loss: 0.8190\n",
      "Epoch: 40, Loss: 0.8189\n",
      "Epoch: 50, Loss: 0.8187\n",
      "Epoch: 60, Loss: 0.8188\n",
      "Epoch: 70, Loss: 0.8187\n",
      "Epoch: 80, Loss: 0.8185\n",
      "Epoch: 90, Loss: 0.8185\n",
      "Accuracy: 0.7060\n"
     ]
    }
   ],
   "source": [
    "n2vDirected_acc,n2vDirected_model = run_n2v(PubMed)\n",
    "print('Accuracy: {:.4f}'.format(n2vDirected_acc))"
   ]
  },
  {
   "cell_type": "code",
   "execution_count": 9,
   "metadata": {
    "scrolled": true
   },
   "outputs": [
    {
     "name": "stdout",
     "output_type": "stream",
     "text": [
      "Epoch: 10, Loss: 1.0266\n",
      "Epoch: 20, Loss: 0.6763\n",
      "Epoch: 30, Loss: 0.5729\n",
      "Epoch: 40, Loss: 0.5402\n",
      "Epoch: 50, Loss: 0.5274\n",
      "Epoch: 60, Loss: 0.5116\n",
      "Epoch: 70, Loss: 0.5037\n",
      "Epoch: 80, Loss: 0.4917\n",
      "Epoch: 90, Loss: 0.4880\n",
      "Accuracy: 0.4770\n"
     ]
    }
   ],
   "source": [
    "n2vDirected_acc,n2vDirected_model = run_n2v(coraDirected)\n",
    "print('Accuracy: {:.4f}'.format(n2vDirected_acc))"
   ]
  },
  {
   "cell_type": "code",
   "execution_count": 8,
   "metadata": {
    "scrolled": true
   },
   "outputs": [
    {
     "name": "stdout",
     "output_type": "stream",
     "text": [
      "Epoch: 10, Loss: 0.8204\n",
      "Epoch: 20, Loss: 0.8185\n",
      "Epoch: 30, Loss: 0.8191\n",
      "Epoch: 40, Loss: 0.8191\n",
      "Epoch: 50, Loss: 0.8189\n",
      "Epoch: 60, Loss: 0.8187\n",
      "Epoch: 70, Loss: 0.8188\n",
      "Epoch: 80, Loss: 0.8187\n",
      "Epoch: 90, Loss: 0.8184\n",
      "Accuracy: 0.6990\n"
     ]
    }
   ],
   "source": [
    "n2v_acc,n2v_model = run_n2v(PubMed)\n",
    "print('Accuracy: {:.4f}'.format(n2v_acc))"
   ]
  },
  {
   "cell_type": "code",
   "execution_count": 9,
   "metadata": {},
   "outputs": [
    {
     "name": "stdout",
     "output_type": "stream",
     "text": [
      "Epoch: 10, Loss: 0.3298\n",
      "Epoch: 20, Loss: 0.3147\n",
      "Epoch: 30, Loss: 0.3079\n",
      "Epoch: 40, Loss: 0.3024\n",
      "Epoch: 50, Loss: 0.2994\n",
      "Epoch: 60, Loss: 0.2965\n",
      "Epoch: 70, Loss: 0.2945\n",
      "Epoch: 80, Loss: 0.2916\n",
      "Epoch: 90, Loss: 0.2890\n",
      "Accuracy: 0.3740\n"
     ]
    }
   ],
   "source": [
    "n2v_acc,n2v_model = run_n2v(PubMedDirected)\n",
    "print('Accuracy: {:.4f}'.format(n2v_acc))"
   ]
  },
  {
   "cell_type": "code",
   "execution_count": 10,
   "metadata": {},
   "outputs": [
    {
     "ename": "RuntimeError",
     "evalue": "merge_sort: failed to synchronize: an illegal memory access was encountered",
     "output_type": "error",
     "traceback": [
      "\u001b[0;31m---------------------------------------------------------------------------\u001b[0m",
      "\u001b[0;31mRuntimeError\u001b[0m                              Traceback (most recent call last)",
      "\u001b[0;32m<ipython-input-10-ea32f062a37c>\u001b[0m in \u001b[0;36m<module>\u001b[0;34m\u001b[0m\n\u001b[0;32m----> 1\u001b[0;31m \u001b[0mn2v_acc\u001b[0m\u001b[0;34m,\u001b[0m\u001b[0mn2v_model\u001b[0m \u001b[0;34m=\u001b[0m \u001b[0mrun_n2v\u001b[0m\u001b[0;34m(\u001b[0m\u001b[0mPubMedReversed\u001b[0m\u001b[0;34m)\u001b[0m\u001b[0;34m\u001b[0m\u001b[0;34m\u001b[0m\u001b[0m\n\u001b[0m\u001b[1;32m      2\u001b[0m \u001b[0mprint\u001b[0m\u001b[0;34m(\u001b[0m\u001b[0;34m'Accuracy: {:.4f}'\u001b[0m\u001b[0;34m.\u001b[0m\u001b[0mformat\u001b[0m\u001b[0;34m(\u001b[0m\u001b[0mn2v_acc\u001b[0m\u001b[0;34m)\u001b[0m\u001b[0;34m)\u001b[0m\u001b[0;34m\u001b[0m\u001b[0;34m\u001b[0m\u001b[0m\n",
      "\u001b[0;32m<ipython-input-7-50090408f9bc>\u001b[0m in \u001b[0;36mrun_n2v\u001b[0;34m(data, embedding_dim, p, q)\u001b[0m\n\u001b[1;32m     38\u001b[0m \u001b[0;34m\u001b[0m\u001b[0m\n\u001b[1;32m     39\u001b[0m     \u001b[0;32mfor\u001b[0m \u001b[0mepoch\u001b[0m \u001b[0;32min\u001b[0m \u001b[0mrange\u001b[0m\u001b[0;34m(\u001b[0m\u001b[0;36m1\u001b[0m\u001b[0;34m,\u001b[0m \u001b[0;36m100\u001b[0m\u001b[0;34m)\u001b[0m\u001b[0;34m:\u001b[0m\u001b[0;34m\u001b[0m\u001b[0;34m\u001b[0m\u001b[0m\n\u001b[0;32m---> 40\u001b[0;31m         \u001b[0mloss\u001b[0m \u001b[0;34m=\u001b[0m \u001b[0mtrain_n2v\u001b[0m\u001b[0;34m(\u001b[0m\u001b[0mn2v\u001b[0m\u001b[0;34m,\u001b[0m\u001b[0mdata\u001b[0m\u001b[0;34m,\u001b[0m\u001b[0mloader\u001b[0m\u001b[0;34m,\u001b[0m\u001b[0moptimizer\u001b[0m\u001b[0;34m,\u001b[0m\u001b[0mdevice\u001b[0m\u001b[0;34m)\u001b[0m\u001b[0;34m\u001b[0m\u001b[0;34m\u001b[0m\u001b[0m\n\u001b[0m\u001b[1;32m     41\u001b[0m         \u001b[0;32mif\u001b[0m \u001b[0mepoch\u001b[0m \u001b[0;34m%\u001b[0m \u001b[0;36m10\u001b[0m \u001b[0;34m==\u001b[0m \u001b[0;36m0\u001b[0m\u001b[0;34m:\u001b[0m\u001b[0;34m\u001b[0m\u001b[0;34m\u001b[0m\u001b[0m\n\u001b[1;32m     42\u001b[0m             \u001b[0mprint\u001b[0m\u001b[0;34m(\u001b[0m\u001b[0;34m'Epoch: {:02d}, Loss: {:.4f}'\u001b[0m\u001b[0;34m.\u001b[0m\u001b[0mformat\u001b[0m\u001b[0;34m(\u001b[0m\u001b[0mepoch\u001b[0m\u001b[0;34m,\u001b[0m \u001b[0mloss\u001b[0m\u001b[0;34m)\u001b[0m\u001b[0;34m)\u001b[0m\u001b[0;34m\u001b[0m\u001b[0;34m\u001b[0m\u001b[0m\n",
      "\u001b[0;32m<ipython-input-7-50090408f9bc>\u001b[0m in \u001b[0;36mtrain_n2v\u001b[0;34m(n2v, data, loader, optimizer, device)\u001b[0m\n\u001b[1;32m      7\u001b[0m         \u001b[0moptimizer\u001b[0m\u001b[0;34m.\u001b[0m\u001b[0mzero_grad\u001b[0m\u001b[0;34m(\u001b[0m\u001b[0;34m)\u001b[0m\u001b[0;34m\u001b[0m\u001b[0;34m\u001b[0m\u001b[0m\n\u001b[1;32m      8\u001b[0m         \u001b[0mloss\u001b[0m \u001b[0;34m=\u001b[0m \u001b[0mn2v\u001b[0m\u001b[0;34m.\u001b[0m\u001b[0mloss\u001b[0m\u001b[0;34m(\u001b[0m\u001b[0mdata\u001b[0m\u001b[0;34m.\u001b[0m\u001b[0medge_index\u001b[0m\u001b[0;34m,\u001b[0m \u001b[0msubset\u001b[0m\u001b[0;34m.\u001b[0m\u001b[0mto\u001b[0m\u001b[0;34m(\u001b[0m\u001b[0mdevice\u001b[0m\u001b[0;34m)\u001b[0m\u001b[0;34m)\u001b[0m\u001b[0;34m\u001b[0m\u001b[0;34m\u001b[0m\u001b[0m\n\u001b[0;32m----> 9\u001b[0;31m         \u001b[0mloss\u001b[0m\u001b[0;34m.\u001b[0m\u001b[0mbackward\u001b[0m\u001b[0;34m(\u001b[0m\u001b[0;34m)\u001b[0m\u001b[0;34m\u001b[0m\u001b[0;34m\u001b[0m\u001b[0m\n\u001b[0m\u001b[1;32m     10\u001b[0m         \u001b[0moptimizer\u001b[0m\u001b[0;34m.\u001b[0m\u001b[0mstep\u001b[0m\u001b[0;34m(\u001b[0m\u001b[0;34m)\u001b[0m\u001b[0;34m\u001b[0m\u001b[0;34m\u001b[0m\u001b[0m\n\u001b[1;32m     11\u001b[0m         \u001b[0mtotal_loss\u001b[0m \u001b[0;34m+=\u001b[0m \u001b[0mloss\u001b[0m\u001b[0;34m.\u001b[0m\u001b[0mitem\u001b[0m\u001b[0;34m(\u001b[0m\u001b[0;34m)\u001b[0m\u001b[0;34m\u001b[0m\u001b[0;34m\u001b[0m\u001b[0m\n",
      "\u001b[0;32m~/anaconda3/lib/python3.7/site-packages/torch/tensor.py\u001b[0m in \u001b[0;36mbackward\u001b[0;34m(self, gradient, retain_graph, create_graph)\u001b[0m\n\u001b[1;32m    105\u001b[0m                 \u001b[0mproducts\u001b[0m\u001b[0;34m.\u001b[0m \u001b[0mDefaults\u001b[0m \u001b[0mto\u001b[0m\u001b[0;31m \u001b[0m\u001b[0;31m`\u001b[0m\u001b[0;31m`\u001b[0m\u001b[0;32mFalse\u001b[0m\u001b[0;31m`\u001b[0m\u001b[0;31m`\u001b[0m\u001b[0;34m.\u001b[0m\u001b[0;34m\u001b[0m\u001b[0;34m\u001b[0m\u001b[0m\n\u001b[1;32m    106\u001b[0m         \"\"\"\n\u001b[0;32m--> 107\u001b[0;31m         \u001b[0mtorch\u001b[0m\u001b[0;34m.\u001b[0m\u001b[0mautograd\u001b[0m\u001b[0;34m.\u001b[0m\u001b[0mbackward\u001b[0m\u001b[0;34m(\u001b[0m\u001b[0mself\u001b[0m\u001b[0;34m,\u001b[0m \u001b[0mgradient\u001b[0m\u001b[0;34m,\u001b[0m \u001b[0mretain_graph\u001b[0m\u001b[0;34m,\u001b[0m \u001b[0mcreate_graph\u001b[0m\u001b[0;34m)\u001b[0m\u001b[0;34m\u001b[0m\u001b[0;34m\u001b[0m\u001b[0m\n\u001b[0m\u001b[1;32m    108\u001b[0m \u001b[0;34m\u001b[0m\u001b[0m\n\u001b[1;32m    109\u001b[0m     \u001b[0;32mdef\u001b[0m \u001b[0mregister_hook\u001b[0m\u001b[0;34m(\u001b[0m\u001b[0mself\u001b[0m\u001b[0;34m,\u001b[0m \u001b[0mhook\u001b[0m\u001b[0;34m)\u001b[0m\u001b[0;34m:\u001b[0m\u001b[0;34m\u001b[0m\u001b[0;34m\u001b[0m\u001b[0m\n",
      "\u001b[0;32m~/anaconda3/lib/python3.7/site-packages/torch/autograd/__init__.py\u001b[0m in \u001b[0;36mbackward\u001b[0;34m(tensors, grad_tensors, retain_graph, create_graph, grad_variables)\u001b[0m\n\u001b[1;32m     91\u001b[0m     Variable._execution_engine.run_backward(\n\u001b[1;32m     92\u001b[0m         \u001b[0mtensors\u001b[0m\u001b[0;34m,\u001b[0m \u001b[0mgrad_tensors\u001b[0m\u001b[0;34m,\u001b[0m \u001b[0mretain_graph\u001b[0m\u001b[0;34m,\u001b[0m \u001b[0mcreate_graph\u001b[0m\u001b[0;34m,\u001b[0m\u001b[0;34m\u001b[0m\u001b[0;34m\u001b[0m\u001b[0m\n\u001b[0;32m---> 93\u001b[0;31m         allow_unreachable=True)  # allow_unreachable flag\n\u001b[0m\u001b[1;32m     94\u001b[0m \u001b[0;34m\u001b[0m\u001b[0m\n\u001b[1;32m     95\u001b[0m \u001b[0;34m\u001b[0m\u001b[0m\n",
      "\u001b[0;31mRuntimeError\u001b[0m: merge_sort: failed to synchronize: an illegal memory access was encountered"
     ]
    }
   ],
   "source": [
    "n2v_acc,n2v_model = run_n2v(PubMedReversed)\n",
    "print('Accuracy: {:.4f}'.format(n2v_acc))"
   ]
  },
  {
   "cell_type": "code",
   "execution_count": 11,
   "metadata": {
    "collapsed": true
   },
   "outputs": [
    {
     "ename": "RuntimeError",
     "evalue": "merge_sort: failed to synchronize: an illegal memory access was encountered",
     "output_type": "error",
     "traceback": [
      "\u001b[0;31m---------------------------------------------------------------------------\u001b[0m",
      "\u001b[0;31mRuntimeError\u001b[0m                              Traceback (most recent call last)",
      "\u001b[0;32m<ipython-input-11-48a9bb7438cf>\u001b[0m in \u001b[0;36m<module>\u001b[0;34m\u001b[0m\n\u001b[0;32m----> 1\u001b[0;31m \u001b[0mn2v_acc\u001b[0m\u001b[0;34m,\u001b[0m\u001b[0mn2v_model\u001b[0m \u001b[0;34m=\u001b[0m \u001b[0mrun_n2v\u001b[0m\u001b[0;34m(\u001b[0m\u001b[0mcoraReversed\u001b[0m\u001b[0;34m)\u001b[0m\u001b[0;34m\u001b[0m\u001b[0;34m\u001b[0m\u001b[0m\n\u001b[0m\u001b[1;32m      2\u001b[0m \u001b[0mprint\u001b[0m\u001b[0;34m(\u001b[0m\u001b[0;34m'Accuracy: {:.4f}'\u001b[0m\u001b[0;34m.\u001b[0m\u001b[0mformat\u001b[0m\u001b[0;34m(\u001b[0m\u001b[0mn2v_acc\u001b[0m\u001b[0;34m)\u001b[0m\u001b[0;34m)\u001b[0m\u001b[0;34m\u001b[0m\u001b[0;34m\u001b[0m\u001b[0m\n",
      "\u001b[0;32m<ipython-input-9-50090408f9bc>\u001b[0m in \u001b[0;36mrun_n2v\u001b[0;34m(data, embedding_dim, p, q)\u001b[0m\n\u001b[1;32m     38\u001b[0m \u001b[0;34m\u001b[0m\u001b[0m\n\u001b[1;32m     39\u001b[0m     \u001b[0;32mfor\u001b[0m \u001b[0mepoch\u001b[0m \u001b[0;32min\u001b[0m \u001b[0mrange\u001b[0m\u001b[0;34m(\u001b[0m\u001b[0;36m1\u001b[0m\u001b[0;34m,\u001b[0m \u001b[0;36m100\u001b[0m\u001b[0;34m)\u001b[0m\u001b[0;34m:\u001b[0m\u001b[0;34m\u001b[0m\u001b[0;34m\u001b[0m\u001b[0m\n\u001b[0;32m---> 40\u001b[0;31m         \u001b[0mloss\u001b[0m \u001b[0;34m=\u001b[0m \u001b[0mtrain_n2v\u001b[0m\u001b[0;34m(\u001b[0m\u001b[0mn2v\u001b[0m\u001b[0;34m,\u001b[0m\u001b[0mdata\u001b[0m\u001b[0;34m,\u001b[0m\u001b[0mloader\u001b[0m\u001b[0;34m,\u001b[0m\u001b[0moptimizer\u001b[0m\u001b[0;34m,\u001b[0m\u001b[0mdevice\u001b[0m\u001b[0;34m)\u001b[0m\u001b[0;34m\u001b[0m\u001b[0;34m\u001b[0m\u001b[0m\n\u001b[0m\u001b[1;32m     41\u001b[0m         \u001b[0;32mif\u001b[0m \u001b[0mepoch\u001b[0m \u001b[0;34m%\u001b[0m \u001b[0;36m10\u001b[0m \u001b[0;34m==\u001b[0m \u001b[0;36m0\u001b[0m\u001b[0;34m:\u001b[0m\u001b[0;34m\u001b[0m\u001b[0;34m\u001b[0m\u001b[0m\n\u001b[1;32m     42\u001b[0m             \u001b[0mprint\u001b[0m\u001b[0;34m(\u001b[0m\u001b[0;34m'Epoch: {:02d}, Loss: {:.4f}'\u001b[0m\u001b[0;34m.\u001b[0m\u001b[0mformat\u001b[0m\u001b[0;34m(\u001b[0m\u001b[0mepoch\u001b[0m\u001b[0;34m,\u001b[0m \u001b[0mloss\u001b[0m\u001b[0;34m)\u001b[0m\u001b[0;34m)\u001b[0m\u001b[0;34m\u001b[0m\u001b[0;34m\u001b[0m\u001b[0m\n",
      "\u001b[0;32m<ipython-input-9-50090408f9bc>\u001b[0m in \u001b[0;36mtrain_n2v\u001b[0;34m(n2v, data, loader, optimizer, device)\u001b[0m\n\u001b[1;32m      7\u001b[0m         \u001b[0moptimizer\u001b[0m\u001b[0;34m.\u001b[0m\u001b[0mzero_grad\u001b[0m\u001b[0;34m(\u001b[0m\u001b[0;34m)\u001b[0m\u001b[0;34m\u001b[0m\u001b[0;34m\u001b[0m\u001b[0m\n\u001b[1;32m      8\u001b[0m         \u001b[0mloss\u001b[0m \u001b[0;34m=\u001b[0m \u001b[0mn2v\u001b[0m\u001b[0;34m.\u001b[0m\u001b[0mloss\u001b[0m\u001b[0;34m(\u001b[0m\u001b[0mdata\u001b[0m\u001b[0;34m.\u001b[0m\u001b[0medge_index\u001b[0m\u001b[0;34m,\u001b[0m \u001b[0msubset\u001b[0m\u001b[0;34m.\u001b[0m\u001b[0mto\u001b[0m\u001b[0;34m(\u001b[0m\u001b[0mdevice\u001b[0m\u001b[0;34m)\u001b[0m\u001b[0;34m)\u001b[0m\u001b[0;34m\u001b[0m\u001b[0;34m\u001b[0m\u001b[0m\n\u001b[0;32m----> 9\u001b[0;31m         \u001b[0mloss\u001b[0m\u001b[0;34m.\u001b[0m\u001b[0mbackward\u001b[0m\u001b[0;34m(\u001b[0m\u001b[0;34m)\u001b[0m\u001b[0;34m\u001b[0m\u001b[0;34m\u001b[0m\u001b[0m\n\u001b[0m\u001b[1;32m     10\u001b[0m         \u001b[0moptimizer\u001b[0m\u001b[0;34m.\u001b[0m\u001b[0mstep\u001b[0m\u001b[0;34m(\u001b[0m\u001b[0;34m)\u001b[0m\u001b[0;34m\u001b[0m\u001b[0;34m\u001b[0m\u001b[0m\n\u001b[1;32m     11\u001b[0m         \u001b[0mtotal_loss\u001b[0m \u001b[0;34m+=\u001b[0m \u001b[0mloss\u001b[0m\u001b[0;34m.\u001b[0m\u001b[0mitem\u001b[0m\u001b[0;34m(\u001b[0m\u001b[0;34m)\u001b[0m\u001b[0;34m\u001b[0m\u001b[0;34m\u001b[0m\u001b[0m\n",
      "\u001b[0;32m~/anaconda3/lib/python3.7/site-packages/torch/tensor.py\u001b[0m in \u001b[0;36mbackward\u001b[0;34m(self, gradient, retain_graph, create_graph)\u001b[0m\n\u001b[1;32m    105\u001b[0m                 \u001b[0mproducts\u001b[0m\u001b[0;34m.\u001b[0m \u001b[0mDefaults\u001b[0m \u001b[0mto\u001b[0m\u001b[0;31m \u001b[0m\u001b[0;31m`\u001b[0m\u001b[0;31m`\u001b[0m\u001b[0;32mFalse\u001b[0m\u001b[0;31m`\u001b[0m\u001b[0;31m`\u001b[0m\u001b[0;34m.\u001b[0m\u001b[0;34m\u001b[0m\u001b[0;34m\u001b[0m\u001b[0m\n\u001b[1;32m    106\u001b[0m         \"\"\"\n\u001b[0;32m--> 107\u001b[0;31m         \u001b[0mtorch\u001b[0m\u001b[0;34m.\u001b[0m\u001b[0mautograd\u001b[0m\u001b[0;34m.\u001b[0m\u001b[0mbackward\u001b[0m\u001b[0;34m(\u001b[0m\u001b[0mself\u001b[0m\u001b[0;34m,\u001b[0m \u001b[0mgradient\u001b[0m\u001b[0;34m,\u001b[0m \u001b[0mretain_graph\u001b[0m\u001b[0;34m,\u001b[0m \u001b[0mcreate_graph\u001b[0m\u001b[0;34m)\u001b[0m\u001b[0;34m\u001b[0m\u001b[0;34m\u001b[0m\u001b[0m\n\u001b[0m\u001b[1;32m    108\u001b[0m \u001b[0;34m\u001b[0m\u001b[0m\n\u001b[1;32m    109\u001b[0m     \u001b[0;32mdef\u001b[0m \u001b[0mregister_hook\u001b[0m\u001b[0;34m(\u001b[0m\u001b[0mself\u001b[0m\u001b[0;34m,\u001b[0m \u001b[0mhook\u001b[0m\u001b[0;34m)\u001b[0m\u001b[0;34m:\u001b[0m\u001b[0;34m\u001b[0m\u001b[0;34m\u001b[0m\u001b[0m\n",
      "\u001b[0;32m~/anaconda3/lib/python3.7/site-packages/torch/autograd/__init__.py\u001b[0m in \u001b[0;36mbackward\u001b[0;34m(tensors, grad_tensors, retain_graph, create_graph, grad_variables)\u001b[0m\n\u001b[1;32m     91\u001b[0m     Variable._execution_engine.run_backward(\n\u001b[1;32m     92\u001b[0m         \u001b[0mtensors\u001b[0m\u001b[0;34m,\u001b[0m \u001b[0mgrad_tensors\u001b[0m\u001b[0;34m,\u001b[0m \u001b[0mretain_graph\u001b[0m\u001b[0;34m,\u001b[0m \u001b[0mcreate_graph\u001b[0m\u001b[0;34m,\u001b[0m\u001b[0;34m\u001b[0m\u001b[0;34m\u001b[0m\u001b[0m\n\u001b[0;32m---> 93\u001b[0;31m         allow_unreachable=True)  # allow_unreachable flag\n\u001b[0m\u001b[1;32m     94\u001b[0m \u001b[0;34m\u001b[0m\u001b[0m\n\u001b[1;32m     95\u001b[0m \u001b[0;34m\u001b[0m\u001b[0m\n",
      "\u001b[0;31mRuntimeError\u001b[0m: merge_sort: failed to synchronize: an illegal memory access was encountered"
     ]
    }
   ],
   "source": [
    "n2v_acc,n2v_model = run_n2v(coraReversed)\n",
    "print('Accuracy: {:.4f}'.format(n2v_acc))"
   ]
  },
  {
   "cell_type": "code",
   "execution_count": 8,
   "metadata": {
    "collapsed": true
   },
   "outputs": [
    {
     "ename": "RuntimeError",
     "evalue": "merge_sort: failed to synchronize: an illegal memory access was encountered",
     "output_type": "error",
     "traceback": [
      "\u001b[0;31m---------------------------------------------------------------------------\u001b[0m",
      "\u001b[0;31mRuntimeError\u001b[0m                              Traceback (most recent call last)",
      "\u001b[0;32m<ipython-input-8-e6155b05b018>\u001b[0m in \u001b[0;36m<module>\u001b[0;34m\u001b[0m\n\u001b[0;32m----> 1\u001b[0;31m \u001b[0mn2v_acc\u001b[0m\u001b[0;34m,\u001b[0m\u001b[0mn2v_model\u001b[0m \u001b[0;34m=\u001b[0m \u001b[0mrun_n2v\u001b[0m\u001b[0;34m(\u001b[0m\u001b[0mciteseerDirected\u001b[0m\u001b[0;34m)\u001b[0m\u001b[0;34m\u001b[0m\u001b[0;34m\u001b[0m\u001b[0m\n\u001b[0m\u001b[1;32m      2\u001b[0m \u001b[0mprint\u001b[0m\u001b[0;34m(\u001b[0m\u001b[0;34m'Accuracy: {:.4f}'\u001b[0m\u001b[0;34m.\u001b[0m\u001b[0mformat\u001b[0m\u001b[0;34m(\u001b[0m\u001b[0mn2v_acc\u001b[0m\u001b[0;34m)\u001b[0m\u001b[0;34m)\u001b[0m\u001b[0;34m\u001b[0m\u001b[0;34m\u001b[0m\u001b[0m\n",
      "\u001b[0;32m<ipython-input-7-50090408f9bc>\u001b[0m in \u001b[0;36mrun_n2v\u001b[0;34m(data, embedding_dim, p, q)\u001b[0m\n\u001b[1;32m     38\u001b[0m \u001b[0;34m\u001b[0m\u001b[0m\n\u001b[1;32m     39\u001b[0m     \u001b[0;32mfor\u001b[0m \u001b[0mepoch\u001b[0m \u001b[0;32min\u001b[0m \u001b[0mrange\u001b[0m\u001b[0;34m(\u001b[0m\u001b[0;36m1\u001b[0m\u001b[0;34m,\u001b[0m \u001b[0;36m100\u001b[0m\u001b[0;34m)\u001b[0m\u001b[0;34m:\u001b[0m\u001b[0;34m\u001b[0m\u001b[0;34m\u001b[0m\u001b[0m\n\u001b[0;32m---> 40\u001b[0;31m         \u001b[0mloss\u001b[0m \u001b[0;34m=\u001b[0m \u001b[0mtrain_n2v\u001b[0m\u001b[0;34m(\u001b[0m\u001b[0mn2v\u001b[0m\u001b[0;34m,\u001b[0m\u001b[0mdata\u001b[0m\u001b[0;34m,\u001b[0m\u001b[0mloader\u001b[0m\u001b[0;34m,\u001b[0m\u001b[0moptimizer\u001b[0m\u001b[0;34m,\u001b[0m\u001b[0mdevice\u001b[0m\u001b[0;34m)\u001b[0m\u001b[0;34m\u001b[0m\u001b[0;34m\u001b[0m\u001b[0m\n\u001b[0m\u001b[1;32m     41\u001b[0m         \u001b[0;32mif\u001b[0m \u001b[0mepoch\u001b[0m \u001b[0;34m%\u001b[0m \u001b[0;36m10\u001b[0m \u001b[0;34m==\u001b[0m \u001b[0;36m0\u001b[0m\u001b[0;34m:\u001b[0m\u001b[0;34m\u001b[0m\u001b[0;34m\u001b[0m\u001b[0m\n\u001b[1;32m     42\u001b[0m             \u001b[0mprint\u001b[0m\u001b[0;34m(\u001b[0m\u001b[0;34m'Epoch: {:02d}, Loss: {:.4f}'\u001b[0m\u001b[0;34m.\u001b[0m\u001b[0mformat\u001b[0m\u001b[0;34m(\u001b[0m\u001b[0mepoch\u001b[0m\u001b[0;34m,\u001b[0m \u001b[0mloss\u001b[0m\u001b[0;34m)\u001b[0m\u001b[0;34m)\u001b[0m\u001b[0;34m\u001b[0m\u001b[0;34m\u001b[0m\u001b[0m\n",
      "\u001b[0;32m<ipython-input-7-50090408f9bc>\u001b[0m in \u001b[0;36mtrain_n2v\u001b[0;34m(n2v, data, loader, optimizer, device)\u001b[0m\n\u001b[1;32m      7\u001b[0m         \u001b[0moptimizer\u001b[0m\u001b[0;34m.\u001b[0m\u001b[0mzero_grad\u001b[0m\u001b[0;34m(\u001b[0m\u001b[0;34m)\u001b[0m\u001b[0;34m\u001b[0m\u001b[0;34m\u001b[0m\u001b[0m\n\u001b[1;32m      8\u001b[0m         \u001b[0mloss\u001b[0m \u001b[0;34m=\u001b[0m \u001b[0mn2v\u001b[0m\u001b[0;34m.\u001b[0m\u001b[0mloss\u001b[0m\u001b[0;34m(\u001b[0m\u001b[0mdata\u001b[0m\u001b[0;34m.\u001b[0m\u001b[0medge_index\u001b[0m\u001b[0;34m,\u001b[0m \u001b[0msubset\u001b[0m\u001b[0;34m.\u001b[0m\u001b[0mto\u001b[0m\u001b[0;34m(\u001b[0m\u001b[0mdevice\u001b[0m\u001b[0;34m)\u001b[0m\u001b[0;34m)\u001b[0m\u001b[0;34m\u001b[0m\u001b[0;34m\u001b[0m\u001b[0m\n\u001b[0;32m----> 9\u001b[0;31m         \u001b[0mloss\u001b[0m\u001b[0;34m.\u001b[0m\u001b[0mbackward\u001b[0m\u001b[0;34m(\u001b[0m\u001b[0;34m)\u001b[0m\u001b[0;34m\u001b[0m\u001b[0;34m\u001b[0m\u001b[0m\n\u001b[0m\u001b[1;32m     10\u001b[0m         \u001b[0moptimizer\u001b[0m\u001b[0;34m.\u001b[0m\u001b[0mstep\u001b[0m\u001b[0;34m(\u001b[0m\u001b[0;34m)\u001b[0m\u001b[0;34m\u001b[0m\u001b[0;34m\u001b[0m\u001b[0m\n\u001b[1;32m     11\u001b[0m         \u001b[0mtotal_loss\u001b[0m \u001b[0;34m+=\u001b[0m \u001b[0mloss\u001b[0m\u001b[0;34m.\u001b[0m\u001b[0mitem\u001b[0m\u001b[0;34m(\u001b[0m\u001b[0;34m)\u001b[0m\u001b[0;34m\u001b[0m\u001b[0;34m\u001b[0m\u001b[0m\n",
      "\u001b[0;32m~/anaconda3/lib/python3.7/site-packages/torch/tensor.py\u001b[0m in \u001b[0;36mbackward\u001b[0;34m(self, gradient, retain_graph, create_graph)\u001b[0m\n\u001b[1;32m    105\u001b[0m                 \u001b[0mproducts\u001b[0m\u001b[0;34m.\u001b[0m \u001b[0mDefaults\u001b[0m \u001b[0mto\u001b[0m\u001b[0;31m \u001b[0m\u001b[0;31m`\u001b[0m\u001b[0;31m`\u001b[0m\u001b[0;32mFalse\u001b[0m\u001b[0;31m`\u001b[0m\u001b[0;31m`\u001b[0m\u001b[0;34m.\u001b[0m\u001b[0;34m\u001b[0m\u001b[0;34m\u001b[0m\u001b[0m\n\u001b[1;32m    106\u001b[0m         \"\"\"\n\u001b[0;32m--> 107\u001b[0;31m         \u001b[0mtorch\u001b[0m\u001b[0;34m.\u001b[0m\u001b[0mautograd\u001b[0m\u001b[0;34m.\u001b[0m\u001b[0mbackward\u001b[0m\u001b[0;34m(\u001b[0m\u001b[0mself\u001b[0m\u001b[0;34m,\u001b[0m \u001b[0mgradient\u001b[0m\u001b[0;34m,\u001b[0m \u001b[0mretain_graph\u001b[0m\u001b[0;34m,\u001b[0m \u001b[0mcreate_graph\u001b[0m\u001b[0;34m)\u001b[0m\u001b[0;34m\u001b[0m\u001b[0;34m\u001b[0m\u001b[0m\n\u001b[0m\u001b[1;32m    108\u001b[0m \u001b[0;34m\u001b[0m\u001b[0m\n\u001b[1;32m    109\u001b[0m     \u001b[0;32mdef\u001b[0m \u001b[0mregister_hook\u001b[0m\u001b[0;34m(\u001b[0m\u001b[0mself\u001b[0m\u001b[0;34m,\u001b[0m \u001b[0mhook\u001b[0m\u001b[0;34m)\u001b[0m\u001b[0;34m:\u001b[0m\u001b[0;34m\u001b[0m\u001b[0;34m\u001b[0m\u001b[0m\n",
      "\u001b[0;32m~/anaconda3/lib/python3.7/site-packages/torch/autograd/__init__.py\u001b[0m in \u001b[0;36mbackward\u001b[0;34m(tensors, grad_tensors, retain_graph, create_graph, grad_variables)\u001b[0m\n\u001b[1;32m     91\u001b[0m     Variable._execution_engine.run_backward(\n\u001b[1;32m     92\u001b[0m         \u001b[0mtensors\u001b[0m\u001b[0;34m,\u001b[0m \u001b[0mgrad_tensors\u001b[0m\u001b[0;34m,\u001b[0m \u001b[0mretain_graph\u001b[0m\u001b[0;34m,\u001b[0m \u001b[0mcreate_graph\u001b[0m\u001b[0;34m,\u001b[0m\u001b[0;34m\u001b[0m\u001b[0;34m\u001b[0m\u001b[0m\n\u001b[0;32m---> 93\u001b[0;31m         allow_unreachable=True)  # allow_unreachable flag\n\u001b[0m\u001b[1;32m     94\u001b[0m \u001b[0;34m\u001b[0m\u001b[0m\n\u001b[1;32m     95\u001b[0m \u001b[0;34m\u001b[0m\u001b[0m\n",
      "\u001b[0;31mRuntimeError\u001b[0m: merge_sort: failed to synchronize: an illegal memory access was encountered"
     ]
    }
   ],
   "source": [
    "n2v_acc,n2v_model = run_n2v(citeseerDirected)\n",
    "print('Accuracy: {:.4f}'.format(n2v_acc))"
   ]
  },
  {
   "cell_type": "code",
   "execution_count": null,
   "metadata": {},
   "outputs": [],
   "source": []
  }
 ],
 "metadata": {
  "kernelspec": {
   "display_name": "Python 3",
   "language": "python",
   "name": "python3"
  },
  "language_info": {
   "codemirror_mode": {
    "name": "ipython",
    "version": 3
   },
   "file_extension": ".py",
   "mimetype": "text/x-python",
   "name": "python",
   "nbconvert_exporter": "python",
   "pygments_lexer": "ipython3",
   "version": "3.7.3"
  }
 },
 "nbformat": 4,
 "nbformat_minor": 2
}
