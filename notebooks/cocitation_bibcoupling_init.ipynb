{
 "cells": [
  {
   "cell_type": "code",
   "execution_count": 1,
   "metadata": {},
   "outputs": [],
   "source": [
    "import networkx as nx"
   ]
  },
  {
   "cell_type": "code",
   "execution_count": 43,
   "metadata": {},
   "outputs": [],
   "source": [
    "filename = '../data/raw/citeseer/citeseer.cites'"
   ]
  },
  {
   "cell_type": "code",
   "execution_count": 44,
   "metadata": {},
   "outputs": [],
   "source": [
    "adjlist = {}\n",
    "revlist = {}\n",
    "with open(filename,'r') as f:\n",
    "    for line in f:\n",
    "        if line[0] == '#':\n",
    "            continue\n",
    "        u,v = line.split()\n",
    "        if v not in adjlist:\n",
    "            adjlist[v] = []\n",
    "        if u not in revlist:\n",
    "            revlist[u] = []\n",
    "        adjlist[v].append(u)\n",
    "        revlist[u].append(v)\n",
    "        "
   ]
  },
  {
   "cell_type": "code",
   "execution_count": 45,
   "metadata": {},
   "outputs": [],
   "source": [
    "co = {}\n",
    "bi = {}\n",
    "for u,neighbors in adjlist.items():\n",
    "    for v in neighbors:\n",
    "        for w in revlist[v]:\n",
    "            if w==u:\n",
    "                continue\n",
    "            x = min(u,w)\n",
    "            y = max(u,w)\n",
    "            if x not in co:\n",
    "                co[x] = set()\n",
    "            co[x].add(y)\n",
    "for u,neighbors in revlist.items():\n",
    "    for v in neighbors:\n",
    "        for w in adjlist[v]:\n",
    "            if w==u:\n",
    "                continue\n",
    "            x = min(u,w)\n",
    "            y = max(u,w)\n",
    "            if x not in bi:\n",
    "                bi[x] = set()\n",
    "            bi[x].add(y)"
   ]
  },
  {
   "cell_type": "code",
   "execution_count": 46,
   "metadata": {},
   "outputs": [
    {
     "data": {
      "text/plain": [
       "1472"
      ]
     },
     "execution_count": 46,
     "metadata": {},
     "output_type": "execute_result"
    }
   ],
   "source": [
    "len(co)"
   ]
  },
  {
   "cell_type": "code",
   "execution_count": 47,
   "metadata": {},
   "outputs": [
    {
     "data": {
      "text/plain": [
       "1086"
      ]
     },
     "execution_count": 47,
     "metadata": {},
     "output_type": "execute_result"
    }
   ],
   "source": [
    "len(bi)"
   ]
  },
  {
   "cell_type": "code",
   "execution_count": 48,
   "metadata": {},
   "outputs": [],
   "source": [
    "with open('../data/processed/citeseer/citeseer.cocitation','w') as f:\n",
    "    for u,neighbors in co.items():\n",
    "        for v in neighbors:\n",
    "            f.write(u + ' ' + v  + '\\n')\n",
    "            f.write(v + ' ' + u  + '\\n')"
   ]
  },
  {
   "cell_type": "code",
   "execution_count": 49,
   "metadata": {},
   "outputs": [],
   "source": [
    "with open('../data/processed/citeseer/citeseer.bibcoupling','w') as f:\n",
    "    for u,neighbors in bi.items():\n",
    "        for v in neighbors:\n",
    "            f.write(u + ' ' + v  + '\\n')\n",
    "            f.write(v + ' ' + u  + '\\n')"
   ]
  },
  {
   "cell_type": "code",
   "execution_count": 50,
   "metadata": {},
   "outputs": [
    {
     "data": {
      "text/plain": [
       "18255"
      ]
     },
     "execution_count": 50,
     "metadata": {},
     "output_type": "execute_result"
    }
   ],
   "source": [
    "sum([len(s) for s in co])"
   ]
  },
  {
   "cell_type": "code",
   "execution_count": 51,
   "metadata": {},
   "outputs": [
    {
     "data": {
      "text/plain": [
       "13998"
      ]
     },
     "execution_count": 51,
     "metadata": {},
     "output_type": "execute_result"
    }
   ],
   "source": [
    "sum([len(s) for s in bi])"
   ]
  },
  {
   "cell_type": "code",
   "execution_count": null,
   "metadata": {},
   "outputs": [],
   "source": []
  }
 ],
 "metadata": {
  "kernelspec": {
   "display_name": "Python 3",
   "language": "python",
   "name": "python3"
  },
  "language_info": {
   "codemirror_mode": {
    "name": "ipython",
    "version": 3
   },
   "file_extension": ".py",
   "mimetype": "text/x-python",
   "name": "python",
   "nbconvert_exporter": "python",
   "pygments_lexer": "ipython3",
   "version": "3.7.3"
  }
 },
 "nbformat": 4,
 "nbformat_minor": 2
}
