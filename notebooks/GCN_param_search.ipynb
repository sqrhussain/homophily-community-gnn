{
 "cells": [
  {
   "cell_type": "code",
   "execution_count": 1,
   "metadata": {},
   "outputs": [],
   "source": [
    "import torch\n",
    "from cora_loader import CitationNetwork,CocitationNetwork,ConfigurationModelCitationNetwork\n",
    "from multi_layered_model import MonoModel,BiModel,TriModel\n",
    "from torch_geometric.nn import GCNConv,SAGEConv\n",
    "import time\n",
    "import torch.nn.functional as F\n",
    "import copy"
   ]
  },
  {
   "cell_type": "code",
   "execution_count": 2,
   "metadata": {},
   "outputs": [
    {
     "name": "stdout",
     "output_type": "stream",
     "text": [
      "Processing...\n",
      "Read features: RUNNING\n",
      "Read features: DONE\n",
      "Read edges: RUNNING\n",
      "10858\n",
      "Read edges: DONE\n",
      "False\n",
      "10858\n",
      "10858\n",
      "Done!\n"
     ]
    }
   ],
   "source": [
    "cora = CitationNetwork('/tmp/cora2','cora',directed=False)"
   ]
  },
  {
   "cell_type": "code",
   "execution_count": 4,
   "metadata": {},
   "outputs": [
    {
     "name": "stdout",
     "output_type": "stream",
     "text": [
      "Processing...\n",
      "Read features: RUNNING\n",
      "Read features: DONE\n",
      "Read edges: RUNNING\n",
      "9182\n",
      "Read edges: DONE\n",
      "False\n",
      "18364\n",
      "9182\n"
     ]
    },
    {
     "ename": "AssertionError",
     "evalue": "",
     "output_type": "error",
     "traceback": [
      "\u001b[0;31m---------------------------------------------------------------------------\u001b[0m",
      "\u001b[0;31mAssertionError\u001b[0m                            Traceback (most recent call last)",
      "\u001b[0;32m<ipython-input-4-466d5ff4a9f2>\u001b[0m in \u001b[0;36m<module>\u001b[0;34m\u001b[0m\n\u001b[1;32m      1\u001b[0m \u001b[0mcora\u001b[0m \u001b[0;34m=\u001b[0m \u001b[0mCitationNetwork\u001b[0m\u001b[0;34m(\u001b[0m\u001b[0;34m'/tmp/cora'\u001b[0m\u001b[0;34m,\u001b[0m\u001b[0;34m'cora'\u001b[0m\u001b[0;34m,\u001b[0m\u001b[0mdirected\u001b[0m\u001b[0;34m=\u001b[0m\u001b[0;32mFalse\u001b[0m\u001b[0;34m)\u001b[0m\u001b[0;34m\u001b[0m\u001b[0;34m\u001b[0m\u001b[0m\n\u001b[0;32m----> 2\u001b[0;31m \u001b[0mciteseer\u001b[0m \u001b[0;34m=\u001b[0m \u001b[0mCitationNetwork\u001b[0m\u001b[0;34m(\u001b[0m\u001b[0;34m'/tmp/citeseer'\u001b[0m\u001b[0;34m,\u001b[0m\u001b[0;34m'citeseer'\u001b[0m\u001b[0;34m,\u001b[0m\u001b[0mdirected\u001b[0m\u001b[0;34m=\u001b[0m\u001b[0;32mFalse\u001b[0m\u001b[0;34m)\u001b[0m\u001b[0;34m\u001b[0m\u001b[0;34m\u001b[0m\u001b[0m\n\u001b[0m\u001b[1;32m      3\u001b[0m \u001b[0mPubMed\u001b[0m \u001b[0;34m=\u001b[0m \u001b[0mCitationNetwork\u001b[0m\u001b[0;34m(\u001b[0m\u001b[0;34m'/tmp/PubMed'\u001b[0m\u001b[0;34m,\u001b[0m\u001b[0;34m'PubMed'\u001b[0m\u001b[0;34m,\u001b[0m\u001b[0mdirected\u001b[0m\u001b[0;34m=\u001b[0m\u001b[0;32mFalse\u001b[0m\u001b[0;34m)\u001b[0m\u001b[0;34m\u001b[0m\u001b[0;34m\u001b[0m\u001b[0m\n",
      "\u001b[0;32m~/directed-graphs-learning/notebooks/cora_loader.py\u001b[0m in \u001b[0;36m__init__\u001b[0;34m(self, root, name, directed, reverse)\u001b[0m\n\u001b[1;32m     13\u001b[0m         \u001b[0mself\u001b[0m\u001b[0;34m.\u001b[0m\u001b[0mdirected\u001b[0m \u001b[0;34m=\u001b[0m \u001b[0mdirected\u001b[0m\u001b[0;34m\u001b[0m\u001b[0;34m\u001b[0m\u001b[0m\n\u001b[1;32m     14\u001b[0m         \u001b[0mself\u001b[0m\u001b[0;34m.\u001b[0m\u001b[0mreverse\u001b[0m \u001b[0;34m=\u001b[0m \u001b[0mreverse\u001b[0m\u001b[0;34m\u001b[0m\u001b[0;34m\u001b[0m\u001b[0m\n\u001b[0;32m---> 15\u001b[0;31m         \u001b[0msuper\u001b[0m\u001b[0;34m(\u001b[0m\u001b[0mCitationNetwork\u001b[0m\u001b[0;34m,\u001b[0m \u001b[0mself\u001b[0m\u001b[0;34m)\u001b[0m\u001b[0;34m.\u001b[0m\u001b[0m__init__\u001b[0m\u001b[0;34m(\u001b[0m\u001b[0mroot\u001b[0m\u001b[0;34m,\u001b[0m \u001b[0;32mNone\u001b[0m\u001b[0;34m,\u001b[0m \u001b[0;32mNone\u001b[0m\u001b[0;34m)\u001b[0m\u001b[0;34m\u001b[0m\u001b[0;34m\u001b[0m\u001b[0m\n\u001b[0m\u001b[1;32m     16\u001b[0m         \u001b[0mself\u001b[0m\u001b[0;34m.\u001b[0m\u001b[0mdata\u001b[0m\u001b[0;34m,\u001b[0m \u001b[0mself\u001b[0m\u001b[0;34m.\u001b[0m\u001b[0mslices\u001b[0m \u001b[0;34m=\u001b[0m \u001b[0mtorch\u001b[0m\u001b[0;34m.\u001b[0m\u001b[0mload\u001b[0m\u001b[0;34m(\u001b[0m\u001b[0mself\u001b[0m\u001b[0;34m.\u001b[0m\u001b[0mprocessed_paths\u001b[0m\u001b[0;34m[\u001b[0m\u001b[0;36m0\u001b[0m\u001b[0;34m]\u001b[0m\u001b[0;34m)\u001b[0m\u001b[0;34m\u001b[0m\u001b[0;34m\u001b[0m\u001b[0m\n\u001b[1;32m     17\u001b[0m \u001b[0;34m\u001b[0m\u001b[0m\n",
      "\u001b[0;32m~/anaconda3/envs/nips2/lib/python3.7/site-packages/torch_geometric/data/in_memory_dataset.py\u001b[0m in \u001b[0;36m__init__\u001b[0;34m(self, root, transform, pre_transform, pre_filter)\u001b[0m\n\u001b[1;32m     50\u001b[0m                  pre_filter=None):\n\u001b[1;32m     51\u001b[0m         super(InMemoryDataset, self).__init__(root, transform, pre_transform,\n\u001b[0;32m---> 52\u001b[0;31m                                               pre_filter)\n\u001b[0m\u001b[1;32m     53\u001b[0m         \u001b[0mself\u001b[0m\u001b[0;34m.\u001b[0m\u001b[0mdata\u001b[0m\u001b[0;34m,\u001b[0m \u001b[0mself\u001b[0m\u001b[0;34m.\u001b[0m\u001b[0mslices\u001b[0m \u001b[0;34m=\u001b[0m \u001b[0;32mNone\u001b[0m\u001b[0;34m,\u001b[0m \u001b[0;32mNone\u001b[0m\u001b[0;34m\u001b[0m\u001b[0;34m\u001b[0m\u001b[0m\n\u001b[1;32m     54\u001b[0m \u001b[0;34m\u001b[0m\u001b[0m\n",
      "\u001b[0;32m~/anaconda3/envs/nips2/lib/python3.7/site-packages/torch_geometric/data/dataset.py\u001b[0m in \u001b[0;36m__init__\u001b[0;34m(self, root, transform, pre_transform, pre_filter)\u001b[0m\n\u001b[1;32m    102\u001b[0m \u001b[0;34m\u001b[0m\u001b[0m\n\u001b[1;32m    103\u001b[0m         \u001b[0mself\u001b[0m\u001b[0;34m.\u001b[0m\u001b[0m_download\u001b[0m\u001b[0;34m(\u001b[0m\u001b[0;34m)\u001b[0m\u001b[0;34m\u001b[0m\u001b[0;34m\u001b[0m\u001b[0m\n\u001b[0;32m--> 104\u001b[0;31m         \u001b[0mself\u001b[0m\u001b[0;34m.\u001b[0m\u001b[0m_process\u001b[0m\u001b[0;34m(\u001b[0m\u001b[0;34m)\u001b[0m\u001b[0;34m\u001b[0m\u001b[0;34m\u001b[0m\u001b[0m\n\u001b[0m\u001b[1;32m    105\u001b[0m \u001b[0;34m\u001b[0m\u001b[0m\n\u001b[1;32m    106\u001b[0m     \u001b[0;34m@\u001b[0m\u001b[0mproperty\u001b[0m\u001b[0;34m\u001b[0m\u001b[0;34m\u001b[0m\u001b[0m\n",
      "\u001b[0;32m~/anaconda3/envs/nips2/lib/python3.7/site-packages/torch_geometric/data/dataset.py\u001b[0m in \u001b[0;36m_process\u001b[0;34m(self)\u001b[0m\n\u001b[1;32m    146\u001b[0m \u001b[0;34m\u001b[0m\u001b[0m\n\u001b[1;32m    147\u001b[0m         \u001b[0mmakedirs\u001b[0m\u001b[0;34m(\u001b[0m\u001b[0mself\u001b[0m\u001b[0;34m.\u001b[0m\u001b[0mprocessed_dir\u001b[0m\u001b[0;34m)\u001b[0m\u001b[0;34m\u001b[0m\u001b[0;34m\u001b[0m\u001b[0m\n\u001b[0;32m--> 148\u001b[0;31m         \u001b[0mself\u001b[0m\u001b[0;34m.\u001b[0m\u001b[0mprocess\u001b[0m\u001b[0;34m(\u001b[0m\u001b[0;34m)\u001b[0m\u001b[0;34m\u001b[0m\u001b[0;34m\u001b[0m\u001b[0m\n\u001b[0m\u001b[1;32m    149\u001b[0m \u001b[0;34m\u001b[0m\u001b[0m\n\u001b[1;32m    150\u001b[0m         \u001b[0mpath\u001b[0m \u001b[0;34m=\u001b[0m \u001b[0mosp\u001b[0m\u001b[0;34m.\u001b[0m\u001b[0mjoin\u001b[0m\u001b[0;34m(\u001b[0m\u001b[0mself\u001b[0m\u001b[0;34m.\u001b[0m\u001b[0mprocessed_dir\u001b[0m\u001b[0;34m,\u001b[0m \u001b[0;34m'pre_transform.pt'\u001b[0m\u001b[0;34m)\u001b[0m\u001b[0;34m\u001b[0m\u001b[0;34m\u001b[0m\u001b[0m\n",
      "\u001b[0;32m~/directed-graphs-learning/notebooks/cora_loader.py\u001b[0m in \u001b[0;36mprocess\u001b[0;34m(self)\u001b[0m\n\u001b[1;32m     32\u001b[0m         \u001b[0medge_path\u001b[0m \u001b[0;34m=\u001b[0m \u001b[0mosp\u001b[0m\u001b[0;34m.\u001b[0m\u001b[0mjoin\u001b[0m\u001b[0;34m(\u001b[0m\u001b[0mself\u001b[0m\u001b[0;34m.\u001b[0m\u001b[0mraw_dir\u001b[0m\u001b[0;34m,\u001b[0m\u001b[0mself\u001b[0m\u001b[0;34m.\u001b[0m\u001b[0mraw_file_names\u001b[0m\u001b[0;34m[\u001b[0m\u001b[0;36m0\u001b[0m\u001b[0;34m]\u001b[0m\u001b[0;34m)\u001b[0m\u001b[0;34m\u001b[0m\u001b[0;34m\u001b[0m\u001b[0m\n\u001b[1;32m     33\u001b[0m         \u001b[0mfeatures_path\u001b[0m \u001b[0;34m=\u001b[0m \u001b[0mosp\u001b[0m\u001b[0;34m.\u001b[0m\u001b[0mjoin\u001b[0m\u001b[0;34m(\u001b[0m\u001b[0mself\u001b[0m\u001b[0;34m.\u001b[0m\u001b[0mraw_dir\u001b[0m\u001b[0;34m,\u001b[0m\u001b[0mself\u001b[0m\u001b[0;34m.\u001b[0m\u001b[0mraw_file_names\u001b[0m\u001b[0;34m[\u001b[0m\u001b[0;36m1\u001b[0m\u001b[0;34m]\u001b[0m\u001b[0;34m)\u001b[0m\u001b[0;34m\u001b[0m\u001b[0;34m\u001b[0m\u001b[0m\n\u001b[0;32m---> 34\u001b[0;31m         \u001b[0mdata\u001b[0m \u001b[0;34m=\u001b[0m \u001b[0mread_network\u001b[0m\u001b[0;34m(\u001b[0m\u001b[0mfeatures_path\u001b[0m\u001b[0;34m,\u001b[0m\u001b[0medge_path\u001b[0m\u001b[0;34m,\u001b[0m\u001b[0mself\u001b[0m\u001b[0;34m.\u001b[0m\u001b[0mdirected\u001b[0m\u001b[0;34m,\u001b[0m\u001b[0mself\u001b[0m\u001b[0;34m.\u001b[0m\u001b[0mreverse\u001b[0m\u001b[0;34m)\u001b[0m\u001b[0;34m\u001b[0m\u001b[0;34m\u001b[0m\u001b[0m\n\u001b[0m\u001b[1;32m     35\u001b[0m         \u001b[0mtorch\u001b[0m\u001b[0;34m.\u001b[0m\u001b[0msave\u001b[0m\u001b[0;34m(\u001b[0m\u001b[0mself\u001b[0m\u001b[0;34m.\u001b[0m\u001b[0mcollate\u001b[0m\u001b[0;34m(\u001b[0m\u001b[0;34m[\u001b[0m\u001b[0mdata\u001b[0m\u001b[0;34m]\u001b[0m\u001b[0;34m)\u001b[0m\u001b[0;34m,\u001b[0m \u001b[0mself\u001b[0m\u001b[0;34m.\u001b[0m\u001b[0mprocessed_paths\u001b[0m\u001b[0;34m[\u001b[0m\u001b[0;36m0\u001b[0m\u001b[0;34m]\u001b[0m\u001b[0;34m)\u001b[0m\u001b[0;34m\u001b[0m\u001b[0;34m\u001b[0m\u001b[0m\n\u001b[1;32m     36\u001b[0m \u001b[0;34m\u001b[0m\u001b[0m\n",
      "\u001b[0;32m~/directed-graphs-learning/notebooks/citation_loader.py\u001b[0m in \u001b[0;36mread_network\u001b[0;34m(features_path, edge_path, directed, reverse)\u001b[0m\n\u001b[1;32m    126\u001b[0m         \u001b[0mprint\u001b[0m\u001b[0;34m(\u001b[0m\u001b[0mlen\u001b[0m\u001b[0;34m(\u001b[0m\u001b[0mis_rev\u001b[0m\u001b[0;34m)\u001b[0m\u001b[0;34m)\u001b[0m\u001b[0;34m\u001b[0m\u001b[0;34m\u001b[0m\u001b[0m\n\u001b[1;32m    127\u001b[0m         \u001b[0mprint\u001b[0m\u001b[0;34m(\u001b[0m\u001b[0medge_index\u001b[0m\u001b[0;34m.\u001b[0m\u001b[0mshape\u001b[0m\u001b[0;34m[\u001b[0m\u001b[0;36m1\u001b[0m\u001b[0;34m]\u001b[0m\u001b[0;34m)\u001b[0m\u001b[0;34m\u001b[0m\u001b[0;34m\u001b[0m\u001b[0m\n\u001b[0;32m--> 128\u001b[0;31m         \u001b[0;32massert\u001b[0m \u001b[0;34m(\u001b[0m\u001b[0mlen\u001b[0m\u001b[0;34m(\u001b[0m\u001b[0mis_rev\u001b[0m\u001b[0;34m)\u001b[0m \u001b[0;34m==\u001b[0m \u001b[0medge_index\u001b[0m\u001b[0;34m.\u001b[0m\u001b[0mshape\u001b[0m\u001b[0;34m[\u001b[0m\u001b[0;36m1\u001b[0m\u001b[0;34m]\u001b[0m\u001b[0;34m)\u001b[0m\u001b[0;34m\u001b[0m\u001b[0;34m\u001b[0m\u001b[0m\n\u001b[0m\u001b[1;32m    129\u001b[0m \u001b[0;34m\u001b[0m\u001b[0m\n\u001b[1;32m    130\u001b[0m \u001b[0;31m#         print('Annotate edges: RUNNING')\u001b[0m\u001b[0;34m\u001b[0m\u001b[0;34m\u001b[0m\u001b[0;34m\u001b[0m\u001b[0m\n",
      "\u001b[0;31mAssertionError\u001b[0m: "
     ]
    }
   ],
   "source": [
    "citeseer = CitationNetwork('/tmp/citeseer','citeseer',directed=False)\n",
    "PubMed = CitationNetwork('/tmp/PubMed','PubMed',directed=False)"
   ]
  },
  {
   "cell_type": "code",
   "execution_count": 3,
   "metadata": {},
   "outputs": [],
   "source": [
    "\n",
    "def run_and_eval_model(dataset,channels,modelType,lr,weight_decay,architecture=MonoModel,epochs=200):\n",
    "    # training process (without batches/transforms)\n",
    "    device = torch.device('cuda' if torch.cuda.is_available() else 'cpu')\n",
    "    model = architecture(modelType,dataset,channels).to(device)\n",
    "#     print(model)\n",
    "    data = dataset[0].to(device)\n",
    "    optimizer = torch.optim.Adam(model.parameters(),lr=lr,weight_decay=weight_decay)\n",
    "    model.train() # to enter training phase\n",
    "    maxacc=0\n",
    "    chosen = None\n",
    "    for epoch in range(epochs):\n",
    "        optimizer.zero_grad() # saw this a lot in the beginning, maybe resetting gradients (not to accumulate)\n",
    "        out = model(data) # this calls the forward method apparently\n",
    "        loss = F.nll_loss(out[data.train_mask],data.y[data.train_mask]) # nice indexing, easy and short\n",
    "        loss.backward() # magic: real back propagation step, takes care of the gradients and stuff\n",
    "        optimizer.step() # maybe updates the params to be optimized\n",
    "        \n",
    "        model.eval()\n",
    "        _,pred = model(data).max(dim=1) # take prediction out of softmax\n",
    "        correct = float(pred[data.val_mask].eq(data.y[data.val_mask]).sum().item())\n",
    "        acc = correct / data.val_mask.sum().item()\n",
    "        if acc > maxacc:\n",
    "            maxacc = acc\n",
    "            chosen=copy.deepcopy(model)\n",
    "        model.train()\n",
    "    chosen.eval() # enter eval phase\n",
    "    _,pred = chosen(data).max(dim=1) # take prediction out of softmax\n",
    "    correct = float(pred[data.val_mask].eq(data.y[data.val_mask]).sum().item())\n",
    "    acc = correct / data.val_mask.sum().item()\n",
    "    return acc\n",
    "\n",
    "def eval_multiple(dataset,channels,modelType,architecture=MonoModel,lr=0.1,wd=0.01,runs=100,epochs=200):\n",
    "    best_acc = 0\n",
    "#     for lr in [1e-2,1e-1,1]:\n",
    "#         for wd in [1e-4,1e-3,1e-2,1e-1]:\n",
    "    for lr in [0.01]:\n",
    "        for wd in [5e-4]:\n",
    "            start = time.time()\n",
    "            accs = []\n",
    "            for i in range(runs):\n",
    "                accs.append(run_and_eval_model(dataset,channels,modelType,lr,wd,architecture,epochs))\n",
    "            acc = sum(accs)/len(accs)\n",
    "            print(\"lr={:.4f}\\twd={:.5f}\\t{:.4f}\".format(lr,wd,acc))\n",
    "            if acc > best_acc:\n",
    "                best_lr = lr\n",
    "                best_wd = wd\n",
    "                best_acc =acc\n",
    "            elapsed_time = time.time() - start\n",
    "            print('Elaplsed {}'.format(time.strftime(\"%H:%M:%S\", time.gmtime(elapsed_time))))\n",
    "    return best_lr,best_wd"
   ]
  },
  {
   "cell_type": "code",
   "execution_count": 4,
   "metadata": {},
   "outputs": [],
   "source": [
    "def param_search(conv,data,channels1,channels2,channels3,outFile,runs = 10,epochs=200):\n",
    "    #with open(outFile,'w') as out:\n",
    "        lr,wd = eval_multiple(data,channels1,conv,runs=runs,epochs=epochs)\n",
    "     #   out.write('Mono lr={:.4f}\\twd={:.5f}\\n'.format(lr,wd))\n",
    "        print('Mono lr={:.4f}\\twd={:.5f}\\n'.format(lr,wd))\n",
    "        lr,wd = eval_multiple(data,channels2,conv,runs=runs,epochs=epochs)\n",
    "     #   out.write('Bi   lr={:.4f}\\twd={:.5f}\\n'.format(lr,wd))\n",
    "        print('Bi   lr={:.4f}\\twd={:.5f}\\n'.format(lr,wd))\n",
    "        lr,wd = eval_multiple(data,channels3,conv,runs=runs,epochs=epochs)\n",
    "     #   out.write('Tri  lr={:.4f}\\twd={:.5f}\\n'.format(lr,wd))\n",
    "        print(('Tri  lr={:.4f}\\twd={:.5f}\\n'.format(lr,wd)))"
   ]
  },
  {
   "cell_type": "code",
   "execution_count": 5,
   "metadata": {},
   "outputs": [],
   "source": [
    "def SAGE(conv,data,channels1,channels2,channels3,outFile,runs = 10,epochs=200):\n",
    "    #with open(outFile,'w') as out:\n",
    "        lr,wd = eval_multiple(data,channels1,conv,lr=0.1,wd=0.00001,runs=runs,epochs=epochs)\n",
    "     #   out.write('Mono lr={:.4f}\\twd={:.5f}\\n'.format(lr,wd))\n",
    "        lr,wd = eval_multiple(data,channels2,conv,lr=0.1,wd=0.01,runs=runs,epochs=epochs)\n",
    "     #   out.write('Bi   lr={:.4f}\\twd={:.5f}\\n'.format(lr,wd))\n",
    "        lr,wd = eval_multiple(data,channels3,conv,lr=0.1,wd=0.01,runs=runs,epochs=epochs)\n",
    "     #   out.write('Tri  lr={:.4f}\\twd={:.5f}\\n'.format(lr,wd))"
   ]
  },
  {
   "cell_type": "code",
   "execution_count": 6,
   "metadata": {},
   "outputs": [],
   "source": [
    "def GCN(conv,data,channels1,channels2,channels3,outFile,runs = 10,epochs=200):\n",
    "    with open(outFile,'w') as out:\n",
    "        lr,wd = eval_multiple(data,channels1,conv,lr=0.01,wd=0.0001,runs=runs,epochs=epochs)\n",
    "        out.write('Mono lr={:.4f}\\twd={:.5f}\\n'.format(lr,wd))\n",
    "        lr,wd = eval_multiple(data,channels2,conv,lr=0.01,wd=0.0001,runs=runs,epochs=epochs)\n",
    "        out.write('Bi   lr={:.4f}\\twd={:.5f}\\n'.format(lr,wd))\n",
    "        lr,wd = eval_multiple(data,channels3,conv,lr=0.01,wd=0.0001,runs=runs,epochs=epochs)\n",
    "        out.write('Tri  lr={:.4f}\\twd={:.5f}\\n'.format(lr,wd))"
   ]
  },
  {
   "cell_type": "code",
   "execution_count": 7,
   "metadata": {},
   "outputs": [],
   "source": [
    "import warnings\n",
    "warnings.filterwarnings('ignore')\n"
   ]
  },
  {
   "cell_type": "code",
   "execution_count": 8,
   "metadata": {},
   "outputs": [
    {
     "name": "stdout",
     "output_type": "stream",
     "text": [
      "lr=0.0100\twd=0.00050\t0.7910\n",
      "Elaplsed 00:00:14\n",
      "lr=0.0100\twd=0.00050\t0.7885\n",
      "Elaplsed 00:00:08\n",
      "lr=0.0100\twd=0.00050\t0.7840\n",
      "Elaplsed 00:00:08\n"
     ]
    }
   ],
   "source": [
    "GCN(GCNConv,cora,[128],[64],[42],'xxx.out',4)"
   ]
  },
  {
   "cell_type": "code",
   "execution_count": 34,
   "metadata": {},
   "outputs": [
    {
     "name": "stdout",
     "output_type": "stream",
     "text": [
      "lr=0.1000\twd=0.00001\t0.7832\n",
      "Elaplsed 00:02:15\n",
      "lr=0.1000\twd=0.01000\t0.7827\n",
      "Elaplsed 00:02:11\n",
      "lr=0.1000\twd=0.01000\t0.7838\n",
      "Elaplsed 00:02:10\n"
     ]
    }
   ],
   "source": [
    "SAGE(SAGEConv,cora,[128],[64],[42],'xxx.out',100)"
   ]
  },
  {
   "cell_type": "code",
   "execution_count": 17,
   "metadata": {},
   "outputs": [
    {
     "name": "stdout",
     "output_type": "stream",
     "text": [
      "lr=0.0100\twd=0.00010\t0.7803\n",
      "Elaplsed 00:01:51\n",
      "lr=0.0100\twd=0.00100\t0.7797\n",
      "Elaplsed 00:01:46\n",
      "lr=0.0100\twd=0.01000\t0.7821\n",
      "Elaplsed 00:01:46\n",
      "lr=0.0100\twd=0.10000\t0.7818\n",
      "Elaplsed 00:01:45\n",
      "lr=0.1000\twd=0.00010\t0.7832\n",
      "Elaplsed 00:01:52\n",
      "lr=0.1000\twd=0.00100\t0.7804\n",
      "Elaplsed 00:01:49\n",
      "lr=0.1000\twd=0.01000\t0.7818\n",
      "Elaplsed 00:01:52\n",
      "lr=0.1000\twd=0.10000\t0.7645\n",
      "Elaplsed 00:01:56\n",
      "lr=1.0000\twd=0.00010\t0.7801\n",
      "Elaplsed 00:01:56\n",
      "lr=1.0000\twd=0.00100\t0.7745\n",
      "Elaplsed 00:01:56\n",
      "lr=1.0000\twd=0.01000\t0.6452\n",
      "Elaplsed 00:01:56\n",
      "lr=1.0000\twd=0.10000\t0.5349\n",
      "Elaplsed 00:01:57\n",
      "Mono lr=0.1000\twd=0.00010\n",
      "\n",
      "lr=0.0100\twd=0.00010\t0.7801\n",
      "Elaplsed 00:01:56\n",
      "lr=0.0100\twd=0.00100\t0.7788\n",
      "Elaplsed 00:01:56\n",
      "lr=0.0100\twd=0.01000\t0.7801\n",
      "Elaplsed 00:01:56\n",
      "lr=0.0100\twd=0.10000\t0.7808\n",
      "Elaplsed 00:01:55\n",
      "lr=0.1000\twd=0.00010\t0.7806\n",
      "Elaplsed 00:01:55\n",
      "lr=0.1000\twd=0.00100\t0.7792\n",
      "Elaplsed 00:01:56\n",
      "lr=0.1000\twd=0.01000\t0.7824\n",
      "Elaplsed 00:01:55\n",
      "lr=0.1000\twd=0.10000\t0.7686\n",
      "Elaplsed 00:01:56\n",
      "lr=1.0000\twd=0.00010\t0.7789\n",
      "Elaplsed 00:01:56\n",
      "lr=1.0000\twd=0.00100\t0.7766\n",
      "Elaplsed 00:01:56\n",
      "lr=1.0000\twd=0.01000\t0.6765\n",
      "Elaplsed 00:01:56\n",
      "lr=1.0000\twd=0.10000\t0.5375\n",
      "Elaplsed 00:01:55\n",
      "Bi   lr=0.1000\twd=0.01000\n",
      "\n",
      "lr=0.0100\twd=0.00010\t0.7793\n",
      "Elaplsed 00:01:55\n",
      "lr=0.0100\twd=0.00100\t0.7784\n",
      "Elaplsed 00:01:56\n",
      "lr=0.0100\twd=0.01000\t0.7799\n",
      "Elaplsed 00:01:54\n",
      "lr=0.0100\twd=0.10000\t0.7820\n",
      "Elaplsed 00:01:51\n",
      "lr=0.1000\twd=0.00010\t0.7765\n",
      "Elaplsed 00:01:45\n",
      "lr=0.1000\twd=0.00100\t0.7796\n",
      "Elaplsed 00:01:44\n",
      "lr=0.1000\twd=0.01000\t0.7810\n",
      "Elaplsed 00:01:43\n",
      "lr=0.1000\twd=0.10000\t0.7716\n",
      "Elaplsed 00:01:47\n",
      "lr=1.0000\twd=0.00010\t0.7777\n",
      "Elaplsed 00:01:45\n",
      "lr=1.0000\twd=0.00100\t0.7765\n",
      "Elaplsed 00:01:43\n",
      "lr=1.0000\twd=0.01000\t0.6904\n",
      "Elaplsed 00:01:47\n",
      "lr=1.0000\twd=0.10000\t0.5271\n",
      "Elaplsed 00:01:43\n",
      "Tri  lr=0.0100\twd=0.10000\n",
      "\n"
     ]
    }
   ],
   "source": [
    "param_search(SAGEConv,cora,[64],[32],[21],'SAGE_param_search_extra.out',100)"
   ]
  },
  {
   "cell_type": "code",
   "execution_count": 18,
   "metadata": {},
   "outputs": [
    {
     "name": "stdout",
     "output_type": "stream",
     "text": [
      "lr=0.0100\twd=0.00010\t0.7409\n",
      "Elaplsed 00:01:48\n",
      "lr=0.0100\twd=0.00100\t0.7506\n",
      "Elaplsed 00:01:49\n",
      "lr=0.0100\twd=0.01000\t0.7516\n",
      "Elaplsed 00:01:49\n",
      "lr=0.0100\twd=0.10000\t0.7567\n",
      "Elaplsed 00:01:47\n",
      "lr=0.1000\twd=0.00010\t0.7509\n",
      "Elaplsed 00:01:45\n",
      "lr=0.1000\twd=0.00100\t0.7583\n",
      "Elaplsed 00:01:46\n",
      "lr=0.1000\twd=0.01000\t0.7610\n",
      "Elaplsed 00:01:46\n",
      "lr=0.1000\twd=0.10000\t0.7591\n",
      "Elaplsed 00:01:47\n",
      "lr=1.0000\twd=0.00010\t0.7657\n",
      "Elaplsed 00:01:52\n",
      "lr=1.0000\twd=0.00100\t0.7589\n",
      "Elaplsed 00:01:51\n",
      "lr=1.0000\twd=0.01000\t0.7295\n",
      "Elaplsed 00:01:49\n",
      "lr=1.0000\twd=0.10000\t0.6873\n",
      "Elaplsed 00:01:44\n",
      "Mono lr=1.0000\twd=0.00010\n",
      "\n",
      "lr=0.0100\twd=0.00010\t0.7338\n",
      "Elaplsed 00:01:41\n",
      "lr=0.0100\twd=0.00100\t0.7446\n",
      "Elaplsed 00:01:44\n",
      "lr=0.0100\twd=0.01000\t0.7489\n",
      "Elaplsed 00:01:45\n",
      "lr=0.0100\twd=0.10000\t0.7538\n",
      "Elaplsed 00:01:44\n",
      "lr=0.1000\twd=0.00010\t0.7457\n",
      "Elaplsed 00:01:46\n",
      "lr=0.1000\twd=0.00100\t0.7532\n",
      "Elaplsed 00:01:46\n",
      "lr=0.1000\twd=0.01000\t0.7594\n",
      "Elaplsed 00:01:44\n",
      "lr=0.1000\twd=0.10000\t0.7573\n",
      "Elaplsed 00:01:53\n",
      "lr=1.0000\twd=0.00010\t0.7604\n",
      "Elaplsed 00:02:07\n",
      "lr=1.0000\twd=0.00100\t0.7565\n",
      "Elaplsed 00:01:44\n",
      "lr=1.0000\twd=0.01000\t0.7359\n",
      "Elaplsed 00:01:46\n",
      "lr=1.0000\twd=0.10000\t0.6864\n",
      "Elaplsed 00:01:46\n",
      "Bi   lr=1.0000\twd=0.00010\n",
      "\n",
      "lr=0.0100\twd=0.00010\t0.7314\n",
      "Elaplsed 00:01:45\n",
      "lr=0.0100\twd=0.00100\t0.7410\n",
      "Elaplsed 00:01:41\n",
      "lr=0.0100\twd=0.01000\t0.7474\n",
      "Elaplsed 00:01:43\n",
      "lr=0.0100\twd=0.10000\t0.7513\n",
      "Elaplsed 00:01:43\n",
      "lr=0.1000\twd=0.00010\t0.7420\n",
      "Elaplsed 00:01:48\n",
      "lr=0.1000\twd=0.00100\t0.7494\n",
      "Elaplsed 00:01:44\n",
      "lr=0.1000\twd=0.01000\t0.7551\n",
      "Elaplsed 00:01:49\n",
      "lr=0.1000\twd=0.10000\t0.7572\n",
      "Elaplsed 00:02:28\n",
      "lr=1.0000\twd=0.00010\t0.7559\n",
      "Elaplsed 00:02:50\n",
      "lr=1.0000\twd=0.00100\t0.7533\n",
      "Elaplsed 00:02:26\n",
      "lr=1.0000\twd=0.01000\t0.7386\n",
      "Elaplsed 00:01:49\n",
      "lr=1.0000\twd=0.10000\t0.6828\n",
      "Elaplsed 00:01:53\n",
      "Tri  lr=0.1000\twd=0.10000\n",
      "\n"
     ]
    }
   ],
   "source": [
    "param_search(SAGEConv,citeseer,[64],[32],[21],'SAGE_param_search_extra.out',100)"
   ]
  },
  {
   "cell_type": "code",
   "execution_count": 8,
   "metadata": {},
   "outputs": [],
   "source": [
    "def GCN(conv,data,channels1,channels2,channels3,outFile,runs = 10,epochs=200):\n",
    "    #with open(outFile,'w') as out:\n",
    "        lr,wd = eval_multiple(data,channels1,conv,lr=0.01,wd=0.0005,runs=runs,epochs=epochs)\n",
    "     #   out.write('Mono lr={:.4f}\\twd={:.5f}\\n'.format(lr,wd))\n",
    "        lr,wd = eval_multiple(data,channels2,conv,lr=0.01,wd=0.0005,runs=runs,epochs=epochs)\n",
    "     #   out.write('Bi   lr={:.4f}\\twd={:.5f}\\n'.format(lr,wd))\n",
    "        lr,wd = eval_multiple(data,channels3,conv,lr=0.01,wd=0.0005,runs=runs,epochs=epochs)\n",
    "     #   out.write('Tri  lr={:.4f}\\twd={:.5f}\\n'.format(lr,wd))"
   ]
  },
  {
   "cell_type": "markdown",
   "metadata": {},
   "source": [
    "wd = 0.0001"
   ]
  },
  {
   "cell_type": "code",
   "execution_count": 36,
   "metadata": {},
   "outputs": [
    {
     "name": "stdout",
     "output_type": "stream",
     "text": [
      "lr=0.0100\twd=0.00010\t0.7919\n",
      "Elaplsed 00:03:00\n",
      "lr=0.0100\twd=0.00010\t0.7915\n",
      "Elaplsed 00:03:10\n",
      "lr=0.0100\twd=0.00010\t0.7909\n",
      "Elaplsed 00:16:47\n"
     ]
    }
   ],
   "source": [
    "GCN(GCNConv,cora,[128],[64],[42],'xxx.out',100)"
   ]
  },
  {
   "cell_type": "markdown",
   "metadata": {},
   "source": [
    "wd = 0.0005"
   ]
  },
  {
   "cell_type": "code",
   "execution_count": 39,
   "metadata": {},
   "outputs": [
    {
     "name": "stdout",
     "output_type": "stream",
     "text": [
      "lr=0.0100\twd=0.00050\t0.7909\n",
      "Elaplsed 00:03:31\n",
      "lr=0.0100\twd=0.00050\t0.7915\n",
      "Elaplsed 00:03:13\n",
      "lr=0.0100\twd=0.00050\t0.7906\n",
      "Elaplsed 00:03:11\n"
     ]
    }
   ],
   "source": [
    "GCN(GCNConv,cora,[128],[64],[42],'xxx.out',100)"
   ]
  },
  {
   "cell_type": "code",
   "execution_count": 22,
   "metadata": {},
   "outputs": [
    {
     "name": "stdout",
     "output_type": "stream",
     "text": [
      "lr=0.0001\twd=0.0000\t0.7675\n",
      "lr=0.0001\twd=0.0001\t0.7666\n",
      "lr=0.0001\twd=0.0010\t0.7634\n",
      "lr=0.0001\twd=0.0100\t0.7422\n",
      "lr=0.0010\twd=0.0000\t0.7867\n",
      "lr=0.0010\twd=0.0001\t0.7871\n",
      "lr=0.0010\twd=0.0010\t0.7903\n",
      "lr=0.0010\twd=0.0100\t0.7850\n",
      "lr=0.0100\twd=0.0000\t0.7897\n",
      "lr=0.0100\twd=0.0001\t0.7919\n",
      "lr=0.0100\twd=0.0010\t0.7913\n",
      "lr=0.0100\twd=0.0100\t0.7874\n",
      "lr=0.1000\twd=0.0000\t0.7774\n",
      "lr=0.1000\twd=0.0001\t0.7755\n",
      "lr=0.1000\twd=0.0010\t0.7779\n",
      "lr=0.1000\twd=0.0100\t0.7867\n",
      "Elaplsed 00:03:04\n",
      "Mono lr=0.0100\twd=0.00010\n",
      "lr=0.0001\twd=0.0000\t0.7367\n",
      "lr=0.0001\twd=0.0001\t0.7313\n",
      "lr=0.0001\twd=0.0010\t0.7367\n",
      "lr=0.0001\twd=0.0100\t0.7111\n",
      "lr=0.0010\twd=0.0000\t0.7865\n",
      "lr=0.0010\twd=0.0001\t0.7860\n",
      "lr=0.0010\twd=0.0010\t0.7880\n",
      "lr=0.0010\twd=0.0100\t0.7864\n",
      "lr=0.0100\twd=0.0000\t0.7878\n",
      "lr=0.0100\twd=0.0001\t0.7918\n",
      "lr=0.0100\twd=0.0010\t0.7906\n",
      "lr=0.0100\twd=0.0100\t0.7882\n",
      "lr=0.1000\twd=0.0000\t0.7820\n",
      "lr=0.1000\twd=0.0001\t0.7750\n",
      "lr=0.1000\twd=0.0010\t0.7788\n",
      "lr=0.1000\twd=0.0100\t0.7859\n",
      "Elaplsed 00:02:57\n",
      "Bi   lr=0.0100\twd=0.00010\n",
      "lr=0.0001\twd=0.0000\t0.6966\n",
      "lr=0.0001\twd=0.0001\t0.7035\n",
      "lr=0.0001\twd=0.0010\t0.6936\n",
      "lr=0.0001\twd=0.0100\t0.6699\n",
      "lr=0.0010\twd=0.0000\t0.7861\n",
      "lr=0.0010\twd=0.0001\t0.7874\n",
      "lr=0.0010\twd=0.0010\t0.7879\n",
      "lr=0.0010\twd=0.0100\t0.7879\n",
      "lr=0.0100\twd=0.0000\t0.7868\n",
      "lr=0.0100\twd=0.0001\t0.7911\n",
      "lr=0.0100\twd=0.0010\t0.7894\n",
      "lr=0.0100\twd=0.0100\t0.7868\n",
      "lr=0.1000\twd=0.0000\t0.7808\n",
      "lr=0.1000\twd=0.0001\t0.7796\n",
      "lr=0.1000\twd=0.0010\t0.7797\n",
      "lr=0.1000\twd=0.0100\t0.7866\n",
      "Elaplsed 00:02:54\n",
      "Tri  lr=0.0100\twd=0.00010\n"
     ]
    }
   ],
   "source": [
    "param_search(GCNConv,cora,[128],[64],[42],'GCN_param_search.out',100)"
   ]
  },
  {
   "cell_type": "code",
   "execution_count": null,
   "metadata": {},
   "outputs": [],
   "source": []
  }
 ],
 "metadata": {
  "kernelspec": {
   "display_name": "Python 3",
   "language": "python",
   "name": "python3"
  },
  "language_info": {
   "codemirror_mode": {
    "name": "ipython",
    "version": 3
   },
   "file_extension": ".py",
   "mimetype": "text/x-python",
   "name": "python",
   "nbconvert_exporter": "python",
   "pygments_lexer": "ipython3",
   "version": "3.7.5"
  }
 },
 "nbformat": 4,
 "nbformat_minor": 2
}
