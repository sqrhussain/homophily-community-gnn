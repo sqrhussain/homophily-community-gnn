{
 "cells": [
  {
   "cell_type": "code",
   "execution_count": 1,
   "metadata": {},
   "outputs": [],
   "source": [
    "def transform_line(inFile,outFile,undirected=True):\n",
    "    with open(outFile,'w') as out:\n",
    "        with open(inFile,'r') as f:\n",
    "            for line in f:\n",
    "                out.write('\\t'.join(line.split()) + '\\t1\\n')\n",
    "                if not undirected:\n",
    "                    continue\n",
    "                out.write('\\t'.join(reversed(line.split())) + '\\t1\\n')\n",
    "                \n",
    "     "
   ]
  },
  {
   "cell_type": "code",
   "execution_count": 8,
   "metadata": {},
   "outputs": [],
   "source": [
    "transform_line('../data/raw/cora/cora.cites','../data/processed/line/cora.undirected.cites')"
   ]
  },
  {
   "cell_type": "code",
   "execution_count": 10,
   "metadata": {},
   "outputs": [],
   "source": [
    "transform_line('../data/raw/cora/cora.cites','../data/processed/line/cora.directed.cites',undirected=False)"
   ]
  },
  {
   "cell_type": "code",
   "execution_count": 9,
   "metadata": {},
   "outputs": [],
   "source": [
    "transform_line('../data/raw/citeseer/citeseer.cites','../data/processed/line/citeseer.undirected.cites')"
   ]
  },
  {
   "cell_type": "code",
   "execution_count": 11,
   "metadata": {},
   "outputs": [],
   "source": [
    "transform_line('../data/raw/citeseer/citeseer.cites','../data/processed/line/citeseer.directed.cites',undirected=False)"
   ]
  },
  {
   "cell_type": "code",
   "execution_count": 12,
   "metadata": {},
   "outputs": [],
   "source": [
    "transform_line('../data/raw/PubMed/PubMed.cites','../data/processed/line/PubMed.undirected.cites')"
   ]
  },
  {
   "cell_type": "code",
   "execution_count": 13,
   "metadata": {},
   "outputs": [],
   "source": [
    "transform_line('../data/raw/PubMed/PubMed.cites','../data/processed/line/PubMed.directed.cites',undirected=False)"
   ]
  },
  {
   "cell_type": "code",
   "execution_count": 2,
   "metadata": {},
   "outputs": [],
   "source": [
    "transform_line('../data/raw/cora_full/cora_full.cites','../data/processed/line/cora_full.undirected.cites')"
   ]
  },
  {
   "cell_type": "code",
   "execution_count": 3,
   "metadata": {},
   "outputs": [],
   "source": [
    "transform_line('../data/raw/cora_full/cora_full.cites','../data/processed/line/cora_full.directed.cites',undirected=False)"
   ]
  },
  {
   "cell_type": "code",
   "execution_count": 12,
   "metadata": {},
   "outputs": [],
   "source": [
    "def merge_nerd(in1,in2,out):\n",
    "    feat1 = {}\n",
    "    feat2 = {}\n",
    "    with open(in1,'r') as f:\n",
    "        skip=True\n",
    "        for line in f:\n",
    "            if skip:\n",
    "                skip = False\n",
    "                continue\n",
    "            s = line.split()\n",
    "            feat1[s[0]] = ' '.join(s[1:])\n",
    "\n",
    "    with open(in2,'r') as f:\n",
    "        skip=True\n",
    "        for line in f:\n",
    "            if skip:\n",
    "                skip = False\n",
    "                continue\n",
    "            s = line.split()\n",
    "            feat2[s[0]] = ' '.join(s[1:])\n",
    "    with open(out,'w') as f:\n",
    "        f.write(str(len(feat1)) + ' 256\\n')\n",
    "        for k in feat1.keys():\n",
    "            f.write(k + ' ')\n",
    "            f.write(feat1[k]+ ' ' + feat2[k] + '\\n')\n",
    "        \n",
    "        "
   ]
  },
  {
   "cell_type": "code",
   "execution_count": 19,
   "metadata": {},
   "outputs": [],
   "source": [
    "merge_nerd('../data/embedding/cora.nerd.hub.directed.emb',\n",
    "          '../data/embedding/cora.nerd.aut.directed.emb',\n",
    "          '../data/embedding/cora.nerd.directed.emb')"
   ]
  },
  {
   "cell_type": "code",
   "execution_count": 20,
   "metadata": {},
   "outputs": [],
   "source": [
    "merge_nerd('../data/embedding/PubMed.nerd.hub.directed.emb',\n",
    "          '../data/embedding/PubMed.nerd.aut.directed.emb',\n",
    "          '../data/embedding/PubMed.nerd.directed.emb')"
   ]
  },
  {
   "cell_type": "code",
   "execution_count": 13,
   "metadata": {},
   "outputs": [],
   "source": [
    "merge_nerd('../data/embedding/citeseer.nerd.hub.directed.emb',\n",
    "          '../data/embedding/citeseer.nerd.aut.directed.emb',\n",
    "          '../data/embedding/citeseer.nerd.directed.emb')"
   ]
  },
  {
   "cell_type": "code",
   "execution_count": 6,
   "metadata": {},
   "outputs": [],
   "source": [
    "def reverse_direction(inFile,outFile):\n",
    "    with open(outFile,'w') as out:\n",
    "        with open(inFile,'r') as f:\n",
    "            for line in f:\n",
    "                out.write('\\t'.join(reversed(line.split())) + '\\n')"
   ]
  },
  {
   "cell_type": "code",
   "execution_count": 7,
   "metadata": {},
   "outputs": [],
   "source": [
    "reverse_direction('../data/raw/cora/cora.cites','../data/processed/reversed/cora.reversed.cites')\n",
    "reverse_direction('../data/raw/citeseer/citeseer.cites','../data/processed/reversed/citeseer.reversed.cites')\n",
    "reverse_direction('../data/raw/PubMed/PubMed.cites','../data/processed/reversed/PubMed.reversed.cites')"
   ]
  },
  {
   "cell_type": "code",
   "execution_count": 8,
   "metadata": {},
   "outputs": [],
   "source": [
    "def reverse_direction_line(inFile,outFile):\n",
    "    with open(outFile,'w') as out:\n",
    "        with open(inFile,'r') as f:\n",
    "            for line in f:\n",
    "                out.write('\\t'.join(reversed(line.split())) + '\\t1\\n')"
   ]
  },
  {
   "cell_type": "code",
   "execution_count": 10,
   "metadata": {},
   "outputs": [],
   "source": [
    "reverse_direction_line('../data/raw/cora/cora.cites','../data/processed/line/cora.reversed.cites')\n",
    "reverse_direction_line('../data/raw/citeseer/citeseer.cites','../data/processed/line/citeseer.reversed.cites')\n",
    "reverse_direction_line('../data/raw/PubMed/PubMed.cites','../data/processed/line/PubMed.reversed.cites')"
   ]
  },
  {
   "cell_type": "code",
   "execution_count": null,
   "metadata": {},
   "outputs": [],
   "source": []
  }
 ],
 "metadata": {
  "kernelspec": {
   "display_name": "Python 3",
   "language": "python",
   "name": "python3"
  },
  "language_info": {
   "codemirror_mode": {
    "name": "ipython",
    "version": 3
   },
   "file_extension": ".py",
   "mimetype": "text/x-python",
   "name": "python",
   "nbconvert_exporter": "python",
   "pygments_lexer": "ipython3",
   "version": "3.7.5"
  }
 },
 "nbformat": 4,
 "nbformat_minor": 4
}
