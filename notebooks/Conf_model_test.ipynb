{
 "cells": [
  {
   "cell_type": "code",
   "execution_count": 12,
   "metadata": {},
   "outputs": [],
   "source": [
    "import networkx as nx\n",
    "import random"
   ]
  },
  {
   "cell_type": "code",
   "execution_count": 112,
   "metadata": {},
   "outputs": [],
   "source": [
    "def generate_conf_model(G,seed=0):\n",
    "    din=[x[1] for x in G.in_degree()]\n",
    "    dout=[x[1] for x in G.out_degree()]\n",
    "    GNoisy=nx.directed_configuration_model(din,dout,create_using=nx.DiGraph(),seed=seed)\n",
    "    keys = [x[0] for x in G.in_degree()]\n",
    "    G_mapping = dict(zip(range(len(G.nodes())),keys))\n",
    "    G_rev_mapping = dict(zip(keys,range(len(G.nodes()))))\n",
    "    GNoisy = nx.relabel_nodes(GNoisy,G_mapping)\n",
    "    return GNoisy\n",
    "\n",
    "def generate_modified_conf_model(G, seed=0):\n",
    "    node_labels_dict = nx.get_node_attributes(G,'label')\n",
    "    unique_node_labels = set(node_labels.values())\n",
    "    same_label_subgraphs = {}\n",
    "    for node_label in unique_node_labels:\n",
    "        same_label_subgraphs[node_label] = nx.DiGraph()\n",
    "    edges_to_remove = []\n",
    "    for edge in G.edges:\n",
    "        if node_labels_dict[edge[0]] == node_labels_dict[edge[1]]:\n",
    "            node_label = G.nodes(data=True)[edge[0]]['label']\n",
    "            same_label_subgraphs[node_label].add_edge(edge[0], edge[1])\n",
    "            edges_to_remove.append((edge[0], edge[1]))\n",
    "    G.remove_edges_from(edges_to_remove)\n",
    "    for label in same_label_subgraphs:\n",
    "        G.add_edges_from(generate_conf_model(same_label_subgraphs[label], seed).edges)\n",
    "    return G"
   ]
  },
  {
   "cell_type": "code",
   "execution_count": 115,
   "metadata": {},
   "outputs": [
    {
     "name": "stdout",
     "output_type": "stream",
     "text": [
      "474\n",
      "470\n"
     ]
    }
   ],
   "source": [
    "G = nx.generators.random_graphs.erdos_renyi_graph(100, p=0.05, directed=True)\n",
    "print(len(G.edges))\n",
    "labels = ['cow', 'pig', 'chicken']\n",
    "for node in G.nodes:\n",
    "    G.nodes[node]['label'] = random.choice(labels)\n",
    "G = generate_modified_conf_model(G)\n",
    "print(len(G.edges))"
   ]
  },
  {
   "cell_type": "code",
   "execution_count": null,
   "metadata": {},
   "outputs": [],
   "source": []
  }
 ],
 "metadata": {
  "kernelspec": {
   "display_name": "Python 3",
   "language": "python",
   "name": "python3"
  },
  "language_info": {
   "codemirror_mode": {
    "name": "ipython",
    "version": 3
   },
   "file_extension": ".py",
   "mimetype": "text/x-python",
   "name": "python",
   "nbconvert_exporter": "python",
   "pygments_lexer": "ipython3",
   "version": "3.7.6"
  }
 },
 "nbformat": 4,
 "nbformat_minor": 4
}
