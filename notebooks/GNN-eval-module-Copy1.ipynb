{
 "cells": [
  {
   "cell_type": "code",
   "execution_count": 1,
   "metadata": {
    "scrolled": true
   },
   "outputs": [],
   "source": [
    "%matplotlib notebook\n",
    "import matplotlib.pyplot as plt\n",
    "import torch\n",
    "from cora_loader import CitationNetwork,CocitationNetwork,ConfigurationModelCitationNetwork\n",
    "from multi_layered_model import MonoModel,BiModel,TriModel\n",
    "from torch_geometric.nn import GCNConv,SAGEConv,GATConv\n",
    "import time\n",
    "import torch.nn.functional as F\n",
    "import copy\n",
    "import numpy as np\n",
    "import random\n",
    "import warnings\n",
    "import pandas as pd\n",
    "warnings.filterwarnings('ignore')"
   ]
  },
  {
   "cell_type": "code",
   "execution_count": 2,
   "metadata": {},
   "outputs": [],
   "source": [
    "cora = CitationNetwork('/tmp/cora2','cora',directed=True)\n",
    "# citeseer = CitationNetwork('/tmp/citeseer','citeseer',directed=False)\n",
    "# PubMed = CitationNetwork('/tmp/PubMed','PubMed',directed=False)"
   ]
  },
  {
   "cell_type": "code",
   "execution_count": 3,
   "metadata": {},
   "outputs": [],
   "source": [
    "# coraReversed = CitationNetwork('/tmp/coraReversed','cora',directed=True,reverse=True)\n",
    "# citeseerReversed = CitationNetwork('/tmp/citeseerReversed','citeseer',directed=True,reverse=True)\n",
    "# PubMedReversed = CitationNetwork('/tmp/PubMedReversed','PubMed',directed=True,reverse=True)"
   ]
  },
  {
   "cell_type": "code",
   "execution_count": 4,
   "metadata": {},
   "outputs": [],
   "source": [
    "# coraDirected = CitationNetwork('/tmp/coraDirected','cora',directed=True)\n",
    "# citeseerDirected = CitationNetwork('/tmp/citeseerDirected','citeseer',directed=True)\n",
    "# PubMedDirected = CitationNetwork('/tmp/PubMedDirected','PubMed',directed=True)"
   ]
  },
  {
   "cell_type": "code",
   "execution_count": 5,
   "metadata": {},
   "outputs": [],
   "source": [
    "class MonoGAT(torch.nn.Module):\n",
    "    def __init__(self,dataset,channels,heads=1,dropout=0.6,attention_dropout=0.3):\n",
    "        super(MonoGAT,self).__init__()\n",
    "        channels = [dataset.num_node_features] + channels + [dataset.num_classes]\n",
    "        \n",
    "        self.dropout = dropout\n",
    "        self.attention_dropout = attention_dropout\n",
    "        \n",
    "        self.conv = []\n",
    "        for i in range(1,len(channels)):\n",
    "            if i == 1:\n",
    "                conv = GATConv(channels[i-1],channels[i],heads=heads,dropout=self.attention_dropout)\n",
    "            elif i == len(channels)-1:\n",
    "                if dataset.name=='PubMed':\n",
    "                    conv = GATConv(channels[i-1]*heads,channels[i],heads=heads,concat=False,dropout=self.attention_dropout)\n",
    "                else:\n",
    "                    conv = GATConv(channels[i-1]*heads,channels[i],dropout=self.attention_dropout)\n",
    "            else:\n",
    "                conv = GATConv(channels[i-1]*heads,channels[i],heads=heads,dropout=self.attention_dropout)\n",
    "            self.add_module(str(i),conv)\n",
    "            self.conv.append(conv)\n",
    "        \n",
    "        \n",
    "    def forward(self, data): \n",
    "        x, edge_index = data.x, data.edge_index \n",
    "        \n",
    "        for conv in self.conv[:-1]:\n",
    "            x = conv(x,edge_index)\n",
    "            x = F.elu(x)\n",
    "            x = F.dropout(x,p=self.dropout,training=self.training) # YOU MUST UNDERSTAND DROPOUT (in attention)\n",
    "        \n",
    "        # Last layer\n",
    "        x = self.conv[-1](x,edge_index)\n",
    "        x = F.softmax(x,dim=1)\n",
    "        \n",
    "        return x\n",
    "    \n",
    "\n",
    "class BiGAT(torch.nn.Module):\n",
    "    def __init__(self,dataset,channels,heads=1,dropout=0.6,attention_dropout=0.3):\n",
    "        super(BiGAT,self).__init__()\n",
    "        self.conv_st = []\n",
    "        self.conv_ts = []\n",
    "        self.dropout = dropout\n",
    "        self.attention_dropout = attention_dropout\n",
    "        channels_output = [dataset.num_node_features] + [c*2*heads for c in channels]\n",
    "        channels = [dataset.num_node_features] + channels\n",
    "        for i in range(len(channels)-1):\n",
    "            conv_st = GATConv(channels_output[i], channels[i+1],heads=heads,dropout=self.attention_dropout)\n",
    "            self.add_module('conv_st'+str(i),conv_st)\n",
    "            self.conv_st.append(conv_st)\n",
    "            \n",
    "            conv_ts = GATConv(channels_output[i], channels[i+1],heads=heads,dropout=self.attention_dropout)\n",
    "            self.add_module('conv_ts'+str(i),conv_ts)\n",
    "            self.conv_ts.append(conv_ts)\n",
    "        \n",
    "        if dataset.name=='PubMed':\n",
    "            self.last = GATConv(channels_output[-1], dataset.num_classes,heads=heads,concat=False,dropout=self.attention_dropout)\n",
    "        else:\n",
    "            self.last = GATConv(channels_output[-1], dataset.num_classes,dropout=self.attention_dropout)\n",
    "        \n",
    "    def forward(self, data): \n",
    "        x, edge_index = data.x, data.edge_index\n",
    "        st_edges = data.edge_index.t()[1-data.is_reversed].t()\n",
    "        ts_edges = data.edge_index.t()[data.is_reversed].t()\n",
    "#         print(ts_edges.shape)\n",
    "        for i in range(len(self.conv_st)):\n",
    "            x1 = F.elu(self.conv_st[i](x,st_edges))\n",
    "            x2 = F.elu(self.conv_ts[i](x,ts_edges))\n",
    "            x = torch.cat((x1,x2),dim=1)\n",
    "            x = F.dropout(x,p=self.dropout,training=self.training)\n",
    "        \n",
    "        # last layer\n",
    "        x = self.last(x,edge_index)\n",
    "        x = F.softmax(x,dim=1) \n",
    "        \n",
    "        return x\n",
    "    \n",
    "class TriGAT(torch.nn.Module):\n",
    "    def __init__(self,dataset,channels,heads=1,dropout=0.6,attention_dropout=0.3):\n",
    "        super(TriGAT,self).__init__()\n",
    "        self.conv_st = []\n",
    "        self.conv_ts = []\n",
    "        self.conv = []\n",
    "        self.dropout = dropout\n",
    "        self.attention_dropout = attention_dropout\n",
    "        channels_output = [dataset.num_node_features] + [c*3*heads for c in channels]\n",
    "        channels = [dataset.num_node_features] + channels\n",
    "        for i in range(len(channels)-1):\n",
    "            conv_st = GATConv(channels_output[i], channels[i+1],heads=heads,dropout=self.attention_dropout)\n",
    "            self.add_module('conv_st'+str(i),conv_st)\n",
    "            self.conv_st.append(conv_st)\n",
    "            \n",
    "            conv_ts = GATConv(channels_output[i], channels[i+1],heads=heads,dropout=self.attention_dropout)\n",
    "            self.add_module('conv_ts'+str(i),conv_ts)\n",
    "            self.conv_ts.append(conv_ts)\n",
    "            \n",
    "            conv = GATConv(channels_output[i],channels[i+1],heads=heads,dropout=self.attention_dropout)\n",
    "            self.add_module('conv'+str(i),conv)\n",
    "            self.conv.append(conv)\n",
    "        \n",
    "        if dataset.name=='PubMed':\n",
    "            self.last = GATConv(channels_output[-1], dataset.num_classes,heads=heads,concat=False,dropout=self.attention_dropout)\n",
    "        else:\n",
    "            self.last = GATConv(channels_output[-1], dataset.num_classes,dropout=self.attention_dropout)\n",
    "        \n",
    "    def forward(self, data): \n",
    "        x, edge_index = data.x, data.edge_index\n",
    "        st_edges = data.edge_index.t()[1-data.is_reversed].t()\n",
    "        ts_edges = data.edge_index.t()[data.is_reversed].t()\n",
    "#         print(ts_edges.shape)\n",
    "        for i in range(len(self.conv_st)):\n",
    "            x1 = F.elu(self.conv_st[i](x,st_edges))\n",
    "            x2 = F.elu(self.conv_ts[i](x,ts_edges))\n",
    "            x3 = F.elu(self.conv[i](x,edge_index))\n",
    "            x = torch.cat((x1,x2,x3),dim=1)\n",
    "            x = F.dropout(x,p=self.dropout,training=self.training)\n",
    "        \n",
    "        # last layer\n",
    "        x = self.last(x,edge_index)\n",
    "        x = F.softmax(x,dim=1) \n",
    "        \n",
    "        return x"
   ]
  },
  {
   "cell_type": "code",
   "execution_count": 6,
   "metadata": {},
   "outputs": [],
   "source": [
    "class NetworkSplitShcur:\n",
    "    \n",
    "    def __init__(self, data, train_examples_per_class=20,early_examples_per_class=20,\n",
    "                 val_examples_per_class=30 , split_seed = 0):\n",
    "        self.data = data\n",
    "        \n",
    "        random.seed(split_seed)\n",
    "        target = [x.item() for x in self.data.y]\n",
    "        num_samples = len(target)\n",
    "        indices = range(num_samples)\n",
    "        labels = set(target)\n",
    "        num_classes = len(labels)\n",
    "        \n",
    "        train_idx = []\n",
    "        for c in range(num_classes):\n",
    "            train_idx += [x for x in random.sample([i for i in indices if target[i]==c],\n",
    "                                                   train_examples_per_class)]\n",
    "        self.train_mask = [1 if i in train_idx else 0 for i in range(num_samples)]\n",
    "\n",
    "        rest = [x for x in indices if not self.train_mask[x]]\n",
    "        early_idx = []\n",
    "        for c in range(num_classes):\n",
    "            early_idx += [x for x in random.sample([i for i in indices if i in rest and target[i]==c],\n",
    "                                                   early_examples_per_class)]\n",
    "        self.early_mask = [1 if i in early_idx else 0 for i in range(num_samples)]\n",
    "\n",
    "        rest = [x for x in rest if not self.early_mask[x]]\n",
    "        val_idx = []\n",
    "        for c in range(num_classes):\n",
    "            val_idx += [x for x in random.sample([i for i in indices if i in rest and target[i]==c],\n",
    "                                                   val_examples_per_class)]\n",
    "        self.val_mask = [1 if i in val_idx else 0 for i in range(num_samples)]\n",
    "\n",
    "        rest = [x for x in rest if not self.val_mask[x]]\n",
    "        self.test_mask = [1 if i in rest else 0 for i in indices]\n",
    "        \n",
    "        \n",
    "        self.train_mask = torch.BoolTensor(self.train_mask)\n",
    "        self.early_mask = torch.BoolTensor(self.early_mask)\n",
    "        self.val_mask = torch.BoolTensor(self.val_mask)\n",
    "        self.test_mask = torch.BoolTensor(self.test_mask)\n",
    "        \n",
    "        \n",
    "        all_ones = self.train_mask | self.early_mask | self.val_mask | self.test_mask\n",
    "        assert (all_ones.sum().item() == num_samples)\n",
    "        \n",
    "        "
   ]
  },
  {
   "cell_type": "code",
   "execution_count": 7,
   "metadata": {},
   "outputs": [],
   "source": [
    "class NetworkSplit:\n",
    "    \n",
    "    def __init__(self, data, train_examples_per_class=20,num_early=500, num_val=500,num_test=1000, split_seed = 0):\n",
    "        self.data = data\n",
    "        \n",
    "        random.seed(split_seed)\n",
    "        target = [x.item() for x in self.data.y]\n",
    "        num_samples = len(target)\n",
    "        indices = range(num_samples)\n",
    "        labels = set(target)\n",
    "        num_classes = len(labels)\n",
    "        \n",
    "        train_idx = []\n",
    "        for i in range(num_classes):\n",
    "            train_idx += [x for x in random.sample(np.array(indices)[np.array(target) == i].tolist(),\n",
    "                                                   train_examples_per_class)]\n",
    "        self.train_mask = [1 if i in train_idx else 0 for i in range(num_samples)]\n",
    "\n",
    "        rest = [x for x in indices if not self.train_mask[x]]\n",
    "        early_idx = [x for x in random.sample(rest, num_early)]\n",
    "        self.early_mask = [1 if i in early_idx else 0 for i in range(num_samples)]\n",
    "\n",
    "        rest = [x for x in rest if not self.early_mask[x]]\n",
    "        val_idx = [x for x in random.sample(rest, num_val)]\n",
    "        self.val_mask = [1 if i in val_idx else 0 for i in range(num_samples)]\n",
    "\n",
    "        rest = [x for x in rest if not self.val_mask[x]]\n",
    "        test_idx = [x for x in random.sample(rest, num_test)]\n",
    "        self.test_mask = [1 if i in test_idx else 0 for i in range(num_samples)]\n",
    "        \n",
    "        \n",
    "        self.train_mask = torch.BoolTensor(self.train_mask)\n",
    "        self.early_mask = torch.BoolTensor(self.early_mask)\n",
    "        self.val_mask = torch.BoolTensor(self.val_mask)\n",
    "        self.test_mask = torch.BoolTensor(self.test_mask)\n",
    "        \n",
    "        \n",
    "        all_ones = self.train_mask | self.early_mask | self.val_mask | self.test_mask\n",
    "        assert (all_ones.sum().item() == train_examples_per_class*num_classes + num_early + num_val + num_test)\n",
    "        \n",
    "        "
   ]
  },
  {
   "cell_type": "code",
   "execution_count": 44,
   "metadata": {},
   "outputs": [],
   "source": [
    "\n",
    "def run_and_eval_model(dataset,channels,modelType,architecture=MonoModel,\n",
    "                       lr=0.01,wd=1e-4,heads=1,dropout=0.4,\n",
    "                       epochs=200,\n",
    "                       split_seed=0,init_seed=0):\n",
    "    # training process (without batches/transforms)\n",
    "    \n",
    "    # Uncomment to test sources of randomness\n",
    "    # we assume that the only sources of randomness are the data split and the initialization.\n",
    "    # We can probably use this line when we need the results to be reproducible\n",
    "    torch.manual_seed(init_seed)\n",
    "    \n",
    "    device = torch.device('cuda' if torch.cuda.is_available() else 'cpu')\n",
    "    \n",
    "    data = dataset[0].to(device)\n",
    "#     print(data.edge_index)\n",
    "#     print(data.x)\n",
    "#     print(f'is cuda: {data.x.is_cuda()}')\n",
    "#     dropout = 0.5\n",
    "#     if modelType == GCNConv:\n",
    "#         dropout=0.8\n",
    "#     elif modelType == SAGEConv:\n",
    "#         dropout=0.4\n",
    "#     elif modelType == GATConv:\n",
    "#         dropout=0.6\n",
    "        \n",
    "    if modelType == GATConv:\n",
    "        model = architecture(dataset,channels,dropout=dropout,heads=heads).to(device)\n",
    "    else:\n",
    "        model = architecture(modelType,dataset,channels,dropout).to(device)\n",
    "    \n",
    "    \n",
    "    \n",
    "#     print(model)\n",
    "    \n",
    "    split = NetworkSplitShcur(data,split_seed=split_seed)\n",
    "    \n",
    "    optimizer = torch.optim.Adam(model.parameters(),lr=lr,weight_decay=wd)\n",
    "    model.train() # to enter training phase\n",
    "    maxacc=-1\n",
    "    chosen = None\n",
    "    accs = []\n",
    "    stoped_at = 0\n",
    "    for epoch in range(epochs):\n",
    "        optimizer.zero_grad() # saw this a lot in the beginning, maybe resetting gradients (not to accumulate)\n",
    "        out = model(data) # this calls the forward method apparently\n",
    "        loss = F.nll_loss(out[split.train_mask],data.y[split.train_mask]) # nice indexing, easy and short\n",
    "#         loss = F.nll_loss(out[data.train_mask],data.y[data.train_mask]) # nice indexing, easy and short\n",
    "        loss.backward() # magic: real back propagation step, takes care of the gradients and stuff\n",
    "        optimizer.step() # maybe updates the params to be optimized\n",
    "        \n",
    "        model.eval()\n",
    "        _,pred = model(data).max(dim=1) # take prediction out of softmax\n",
    "        correct = float(pred[split.early_mask].eq(data.y[split.early_mask]).sum().item())\n",
    "        acc = correct / float(split.early_mask.sum().item())\n",
    "#         correct = float(pred[data.val_mask].eq(data.y[data.val_mask]).sum().item())\n",
    "#         acc = correct / float(data.val_mask.sum().item())\n",
    "        accs.append(acc)\n",
    "        if acc > maxacc:\n",
    "            maxacc = acc\n",
    "            chosen=copy.deepcopy(model)\n",
    "        if epoch >20 and acc*10 < sum(accs[-11:-1]):\n",
    "#             print('stopped at epoch {}'.format(epoch))\n",
    "            stopped_at = epoch\n",
    "            break\n",
    "        model.train()\n",
    "    chosen.eval() # enter eval phase\n",
    "    _,pred = chosen(data).max(dim=1) # take prediction out of softmax\n",
    "    correct = float(pred[split.val_mask].eq(data.y[split.val_mask]).sum().item())\n",
    "    acc = correct / float(split.val_mask.sum().item())\n",
    "#     correct = float(pred[data.val_mask].eq(data.y[data.val_mask]).sum().item())\n",
    "#     acc = correct / float(data.val_mask.sum().item())\n",
    "#     plt.figure()\n",
    "#     plt.plot(accs)\n",
    "    return acc,stopped_at\n",
    "\n",
    "def eval_multiple(dataset,channels,modelType,architecture=MonoModel,\n",
    "                  lr=0.01,wd=5e-4,heads=1, dropout=0.4,\n",
    "                  runs=100,epochs=50,split_seed = 0):\n",
    "    start = time.time()\n",
    "    accs = []\n",
    "    stoppeds = []\n",
    "    for i in range(runs):\n",
    "        acc, stopped = run_and_eval_model(dataset,channels,modelType,architecture,lr=lr,wd=wd,epochs=epochs,\n",
    "                                       heads=heads, dropout=dropout,\n",
    "                                       split_seed=split_seed, init_seed=i)\n",
    "        accs.append(acc)\n",
    "        stoppeds.append(stopped)\n",
    "    elapsed_time = time.time() - start\n",
    "#     print('Elaplsed {}'.format(time.strftime(\"%H:%M:%S\", time.gmtime(elapsed_time))))\n",
    "    return sum(accs)/len(accs),np.std(np.array(accs)),accs,stoppeds"
   ]
  },
  {
   "cell_type": "code",
   "execution_count": 45,
   "metadata": {},
   "outputs": [],
   "source": [
    "num_splits = 2\n",
    "num_runs = 2"
   ]
  },
  {
   "cell_type": "code",
   "execution_count": 46,
   "metadata": {},
   "outputs": [],
   "source": [
    "df_val = pd.DataFrame(columns='conv arch ch dropout lr wd heads splits inits accs acc_avg acc_std stopped elapsed'.split())"
   ]
  },
  {
   "cell_type": "code",
   "execution_count": 47,
   "metadata": {},
   "outputs": [],
   "source": [
    "val_out = 'demo_val.csv'"
   ]
  },
  {
   "cell_type": "code",
   "execution_count": 48,
   "metadata": {},
   "outputs": [],
   "source": [
    "def eval_archs(dataset=cora,\n",
    "               conv=GCNConv,\n",
    "               channel_size=64,dropout=0.4,lr=0.01,wd=5e-4,heads=1,\n",
    "               models=[MonoModel, BiModel, TriModel]):\n",
    "    global df_val\n",
    "    chs = 0\n",
    "    for model in models:\n",
    "        chs+=1\n",
    "        accs = []\n",
    "        stoppeds = []\n",
    "        fileout = f'acc_{num_splits}_{num_runs}/{conv.__name__}_{model.__name__}_ch{channel_size}_lr{lr}_wd{wd}_dropout{dropout}_heads{heads}.out'\n",
    "        print(f'>> {fileout}')\n",
    "        with open(fileout,'w') as f:\n",
    "            start = time.time()\n",
    "            for seed in range(num_splits):\n",
    "                monogcn,monogcnstd,monogcns,stopped = eval_multiple(dataset,[channel_size//chs//heads],conv,runs=num_runs,epochs=200,split_seed=seed,\n",
    "                                                            architecture=model,lr=lr,wd=wd,heads=heads,dropout=dropout)\n",
    "                f.write('{} {} accuracy: {:.2f} +-{:.1f}\\n'.format(conv.__name__,model.__name__,monogcn*100,monogcnstd*100))\n",
    "                accs += monogcns\n",
    "                stoppeds+= stopped\n",
    "                \n",
    "            avg = np.array(accs).mean()\n",
    "            std = np.array(accs).std()\n",
    "            f.write('{} {} accuracy: {:.2f} +-{:.1f}\\n'.format(conv.__name__,model.__name__,avg*100,std*100))\n",
    "        elapsed = time.time() - start\n",
    "        df_val = df_val.append({'conv':conv.__name__,'arch':model.__name__[0],'ch':channel_size,\n",
    "                               'dropout':dropout,'lr':lr,'wd':wd,'heads':heads,'splits':num_splits,\n",
    "                               'inits':num_runs,'accs':accs,'acc_avg':avg,'acc_std':std,\n",
    "                                'stopped':stoppeds,'elapsed':elapsed},ignore_index=True)\n",
    "        df_val.to_csv(val_out,index=False)\n",
    "            \n",
    "def eval_archs_gcn(dataset=cora,conv=GCNConv,channel_size=64,dropout=0.4,lr=0.01,wd=5e-4):\n",
    "    eval_archs(dataset,conv,channel_size,dropout,lr,wd,heads=1,\n",
    "               models=[MonoModel, BiModel, TriModel])\n",
    "\n",
    "    \n",
    "def eval_archs_gat(dataset=cora,conv=GCNConv,channel_size=64,dropout=0.4,lr=0.01,wd=5e-4,heads=1):\n",
    "    eval_archs(dataset,conv,channel_size,dropout,lr,wd,heads,\n",
    "               models=[MonoGAT, BiGAT, TriGAT])\n",
    "    "
   ]
  },
  {
   "cell_type": "code",
   "execution_count": 49,
   "metadata": {
    "collapsed": true
   },
   "outputs": [
    {
     "name": "stdout",
     "output_type": "stream",
     "text": [
      ">> acc_2_2/SAGEConv_MonoModel_ch12_lr0.001_wd0.0001_dropout0.2_heads1.out\n",
      ">> acc_2_2/SAGEConv_BiModel_ch12_lr0.001_wd0.0001_dropout0.2_heads1.out\n"
     ]
    },
    {
     "ename": "KeyboardInterrupt",
     "evalue": "",
     "output_type": "error",
     "traceback": [
      "\u001b[0;31m---------------------------------------------------------------------------\u001b[0m",
      "\u001b[0;31mKeyboardInterrupt\u001b[0m                         Traceback (most recent call last)",
      "\u001b[0;32m<ipython-input-49-9ee6babbf2af>\u001b[0m in \u001b[0;36m<module>\u001b[0;34m\u001b[0m\n\u001b[1;32m      4\u001b[0m             \u001b[0;32mfor\u001b[0m \u001b[0mdropout\u001b[0m \u001b[0;32min\u001b[0m \u001b[0;34m[\u001b[0m\u001b[0;36m0.2\u001b[0m\u001b[0;34m,\u001b[0m\u001b[0;36m0.4\u001b[0m\u001b[0;34m,\u001b[0m\u001b[0;36m0.6\u001b[0m\u001b[0;34m,\u001b[0m\u001b[0;36m0.8\u001b[0m\u001b[0;34m]\u001b[0m\u001b[0;34m:\u001b[0m\u001b[0;34m\u001b[0m\u001b[0;34m\u001b[0m\u001b[0m\n\u001b[1;32m      5\u001b[0m                 \u001b[0;32mfor\u001b[0m \u001b[0mwd\u001b[0m \u001b[0;32min\u001b[0m \u001b[0;34m[\u001b[0m\u001b[0;36m1e-4\u001b[0m\u001b[0;34m,\u001b[0m\u001b[0;36m1e-3\u001b[0m\u001b[0;34m,\u001b[0m\u001b[0;36m1e-2\u001b[0m\u001b[0;34m,\u001b[0m\u001b[0;36m1e-1\u001b[0m\u001b[0;34m]\u001b[0m\u001b[0;34m:\u001b[0m\u001b[0;34m\u001b[0m\u001b[0;34m\u001b[0m\u001b[0m\n\u001b[0;32m----> 6\u001b[0;31m                     \u001b[0meval_archs_gcn\u001b[0m\u001b[0;34m(\u001b[0m\u001b[0mdataset\u001b[0m\u001b[0;34m=\u001b[0m\u001b[0mcora\u001b[0m\u001b[0;34m,\u001b[0m\u001b[0mconv\u001b[0m\u001b[0;34m=\u001b[0m\u001b[0mconv\u001b[0m\u001b[0;34m,\u001b[0m\u001b[0mchannel_size\u001b[0m\u001b[0;34m=\u001b[0m\u001b[0mch\u001b[0m\u001b[0;34m,\u001b[0m\u001b[0mlr\u001b[0m\u001b[0;34m=\u001b[0m\u001b[0mlr\u001b[0m\u001b[0;34m,\u001b[0m\u001b[0mdropout\u001b[0m\u001b[0;34m=\u001b[0m\u001b[0mdropout\u001b[0m\u001b[0;34m,\u001b[0m\u001b[0mwd\u001b[0m\u001b[0;34m=\u001b[0m\u001b[0mwd\u001b[0m\u001b[0;34m)\u001b[0m\u001b[0;34m\u001b[0m\u001b[0;34m\u001b[0m\u001b[0m\n\u001b[0m",
      "\u001b[0;32m<ipython-input-48-680e8ec31e0f>\u001b[0m in \u001b[0;36meval_archs_gcn\u001b[0;34m(dataset, conv, channel_size, dropout, lr, wd)\u001b[0m\n\u001b[1;32m     32\u001b[0m \u001b[0;32mdef\u001b[0m \u001b[0meval_archs_gcn\u001b[0m\u001b[0;34m(\u001b[0m\u001b[0mdataset\u001b[0m\u001b[0;34m=\u001b[0m\u001b[0mcora\u001b[0m\u001b[0;34m,\u001b[0m\u001b[0mconv\u001b[0m\u001b[0;34m=\u001b[0m\u001b[0mGCNConv\u001b[0m\u001b[0;34m,\u001b[0m\u001b[0mchannel_size\u001b[0m\u001b[0;34m=\u001b[0m\u001b[0;36m64\u001b[0m\u001b[0;34m,\u001b[0m\u001b[0mdropout\u001b[0m\u001b[0;34m=\u001b[0m\u001b[0;36m0.4\u001b[0m\u001b[0;34m,\u001b[0m\u001b[0mlr\u001b[0m\u001b[0;34m=\u001b[0m\u001b[0;36m0.01\u001b[0m\u001b[0;34m,\u001b[0m\u001b[0mwd\u001b[0m\u001b[0;34m=\u001b[0m\u001b[0;36m5e-4\u001b[0m\u001b[0;34m)\u001b[0m\u001b[0;34m:\u001b[0m\u001b[0;34m\u001b[0m\u001b[0;34m\u001b[0m\u001b[0m\n\u001b[1;32m     33\u001b[0m     eval_archs(dataset,conv,channel_size,dropout,lr,wd,heads=1,\n\u001b[0;32m---> 34\u001b[0;31m                models=[MonoModel, BiModel, TriModel])\n\u001b[0m\u001b[1;32m     35\u001b[0m \u001b[0;34m\u001b[0m\u001b[0m\n\u001b[1;32m     36\u001b[0m \u001b[0;34m\u001b[0m\u001b[0m\n",
      "\u001b[0;32m<ipython-input-48-680e8ec31e0f>\u001b[0m in \u001b[0;36meval_archs\u001b[0;34m(dataset, conv, channel_size, dropout, lr, wd, heads, models)\u001b[0m\n\u001b[1;32m     15\u001b[0m             \u001b[0;32mfor\u001b[0m \u001b[0mseed\u001b[0m \u001b[0;32min\u001b[0m \u001b[0mrange\u001b[0m\u001b[0;34m(\u001b[0m\u001b[0mnum_splits\u001b[0m\u001b[0;34m)\u001b[0m\u001b[0;34m:\u001b[0m\u001b[0;34m\u001b[0m\u001b[0;34m\u001b[0m\u001b[0m\n\u001b[1;32m     16\u001b[0m                 monogcn,monogcnstd,monogcns,stopped = eval_multiple(dataset,[channel_size//chs//heads],conv,runs=num_runs,epochs=200,split_seed=seed,\n\u001b[0;32m---> 17\u001b[0;31m                                                             architecture=model,lr=lr,wd=wd,heads=heads,dropout=dropout)\n\u001b[0m\u001b[1;32m     18\u001b[0m                 \u001b[0mf\u001b[0m\u001b[0;34m.\u001b[0m\u001b[0mwrite\u001b[0m\u001b[0;34m(\u001b[0m\u001b[0;34m'{} {} accuracy: {:.2f} +-{:.1f}\\n'\u001b[0m\u001b[0;34m.\u001b[0m\u001b[0mformat\u001b[0m\u001b[0;34m(\u001b[0m\u001b[0mconv\u001b[0m\u001b[0;34m.\u001b[0m\u001b[0m__name__\u001b[0m\u001b[0;34m,\u001b[0m\u001b[0mmodel\u001b[0m\u001b[0;34m.\u001b[0m\u001b[0m__name__\u001b[0m\u001b[0;34m,\u001b[0m\u001b[0mmonogcn\u001b[0m\u001b[0;34m*\u001b[0m\u001b[0;36m100\u001b[0m\u001b[0;34m,\u001b[0m\u001b[0mmonogcnstd\u001b[0m\u001b[0;34m*\u001b[0m\u001b[0;36m100\u001b[0m\u001b[0;34m)\u001b[0m\u001b[0;34m)\u001b[0m\u001b[0;34m\u001b[0m\u001b[0;34m\u001b[0m\u001b[0m\n\u001b[1;32m     19\u001b[0m                 \u001b[0maccs\u001b[0m \u001b[0;34m+=\u001b[0m \u001b[0mmonogcns\u001b[0m\u001b[0;34m\u001b[0m\u001b[0;34m\u001b[0m\u001b[0m\n",
      "\u001b[0;32m<ipython-input-44-4b37db9c4fc7>\u001b[0m in \u001b[0;36meval_multiple\u001b[0;34m(dataset, channels, modelType, architecture, lr, wd, heads, dropout, runs, epochs, split_seed)\u001b[0m\n\u001b[1;32m     84\u001b[0m         acc, stopped = run_and_eval_model(dataset,channels,modelType,architecture,lr=lr,wd=wd,epochs=epochs,\n\u001b[1;32m     85\u001b[0m                                        \u001b[0mheads\u001b[0m\u001b[0;34m=\u001b[0m\u001b[0mheads\u001b[0m\u001b[0;34m,\u001b[0m \u001b[0mdropout\u001b[0m\u001b[0;34m=\u001b[0m\u001b[0mdropout\u001b[0m\u001b[0;34m,\u001b[0m\u001b[0;34m\u001b[0m\u001b[0;34m\u001b[0m\u001b[0m\n\u001b[0;32m---> 86\u001b[0;31m                                        split_seed=split_seed, init_seed=i)\n\u001b[0m\u001b[1;32m     87\u001b[0m         \u001b[0maccs\u001b[0m\u001b[0;34m.\u001b[0m\u001b[0mappend\u001b[0m\u001b[0;34m(\u001b[0m\u001b[0macc\u001b[0m\u001b[0;34m)\u001b[0m\u001b[0;34m\u001b[0m\u001b[0;34m\u001b[0m\u001b[0m\n\u001b[1;32m     88\u001b[0m         \u001b[0mstoppeds\u001b[0m\u001b[0;34m.\u001b[0m\u001b[0mappend\u001b[0m\u001b[0;34m(\u001b[0m\u001b[0mstopped\u001b[0m\u001b[0;34m)\u001b[0m\u001b[0;34m\u001b[0m\u001b[0;34m\u001b[0m\u001b[0m\n",
      "\u001b[0;32m<ipython-input-44-4b37db9c4fc7>\u001b[0m in \u001b[0;36mrun_and_eval_model\u001b[0;34m(dataset, channels, modelType, architecture, lr, wd, heads, dropout, epochs, split_seed, init_seed)\u001b[0m\n\u001b[1;32m     51\u001b[0m \u001b[0;34m\u001b[0m\u001b[0m\n\u001b[1;32m     52\u001b[0m         \u001b[0mmodel\u001b[0m\u001b[0;34m.\u001b[0m\u001b[0meval\u001b[0m\u001b[0;34m(\u001b[0m\u001b[0;34m)\u001b[0m\u001b[0;34m\u001b[0m\u001b[0;34m\u001b[0m\u001b[0m\n\u001b[0;32m---> 53\u001b[0;31m         \u001b[0m_\u001b[0m\u001b[0;34m,\u001b[0m\u001b[0mpred\u001b[0m \u001b[0;34m=\u001b[0m \u001b[0mmodel\u001b[0m\u001b[0;34m(\u001b[0m\u001b[0mdata\u001b[0m\u001b[0;34m)\u001b[0m\u001b[0;34m.\u001b[0m\u001b[0mmax\u001b[0m\u001b[0;34m(\u001b[0m\u001b[0mdim\u001b[0m\u001b[0;34m=\u001b[0m\u001b[0;36m1\u001b[0m\u001b[0;34m)\u001b[0m \u001b[0;31m# take prediction out of softmax\u001b[0m\u001b[0;34m\u001b[0m\u001b[0;34m\u001b[0m\u001b[0m\n\u001b[0m\u001b[1;32m     54\u001b[0m         \u001b[0mcorrect\u001b[0m \u001b[0;34m=\u001b[0m \u001b[0mfloat\u001b[0m\u001b[0;34m(\u001b[0m\u001b[0mpred\u001b[0m\u001b[0;34m[\u001b[0m\u001b[0msplit\u001b[0m\u001b[0;34m.\u001b[0m\u001b[0mearly_mask\u001b[0m\u001b[0;34m]\u001b[0m\u001b[0;34m.\u001b[0m\u001b[0meq\u001b[0m\u001b[0;34m(\u001b[0m\u001b[0mdata\u001b[0m\u001b[0;34m.\u001b[0m\u001b[0my\u001b[0m\u001b[0;34m[\u001b[0m\u001b[0msplit\u001b[0m\u001b[0;34m.\u001b[0m\u001b[0mearly_mask\u001b[0m\u001b[0;34m]\u001b[0m\u001b[0;34m)\u001b[0m\u001b[0;34m.\u001b[0m\u001b[0msum\u001b[0m\u001b[0;34m(\u001b[0m\u001b[0;34m)\u001b[0m\u001b[0;34m.\u001b[0m\u001b[0mitem\u001b[0m\u001b[0;34m(\u001b[0m\u001b[0;34m)\u001b[0m\u001b[0;34m)\u001b[0m\u001b[0;34m\u001b[0m\u001b[0;34m\u001b[0m\u001b[0m\n\u001b[1;32m     55\u001b[0m         \u001b[0macc\u001b[0m \u001b[0;34m=\u001b[0m \u001b[0mcorrect\u001b[0m \u001b[0;34m/\u001b[0m \u001b[0mfloat\u001b[0m\u001b[0;34m(\u001b[0m\u001b[0msplit\u001b[0m\u001b[0;34m.\u001b[0m\u001b[0mearly_mask\u001b[0m\u001b[0;34m.\u001b[0m\u001b[0msum\u001b[0m\u001b[0;34m(\u001b[0m\u001b[0;34m)\u001b[0m\u001b[0;34m.\u001b[0m\u001b[0mitem\u001b[0m\u001b[0;34m(\u001b[0m\u001b[0;34m)\u001b[0m\u001b[0;34m)\u001b[0m\u001b[0;34m\u001b[0m\u001b[0;34m\u001b[0m\u001b[0m\n",
      "\u001b[0;32m~/anaconda3/lib/python3.7/site-packages/torch/nn/modules/module.py\u001b[0m in \u001b[0;36m__call__\u001b[0;34m(self, *input, **kwargs)\u001b[0m\n\u001b[1;32m    539\u001b[0m             \u001b[0mresult\u001b[0m \u001b[0;34m=\u001b[0m \u001b[0mself\u001b[0m\u001b[0;34m.\u001b[0m\u001b[0m_slow_forward\u001b[0m\u001b[0;34m(\u001b[0m\u001b[0;34m*\u001b[0m\u001b[0minput\u001b[0m\u001b[0;34m,\u001b[0m \u001b[0;34m**\u001b[0m\u001b[0mkwargs\u001b[0m\u001b[0;34m)\u001b[0m\u001b[0;34m\u001b[0m\u001b[0;34m\u001b[0m\u001b[0m\n\u001b[1;32m    540\u001b[0m         \u001b[0;32melse\u001b[0m\u001b[0;34m:\u001b[0m\u001b[0;34m\u001b[0m\u001b[0;34m\u001b[0m\u001b[0m\n\u001b[0;32m--> 541\u001b[0;31m             \u001b[0mresult\u001b[0m \u001b[0;34m=\u001b[0m \u001b[0mself\u001b[0m\u001b[0;34m.\u001b[0m\u001b[0mforward\u001b[0m\u001b[0;34m(\u001b[0m\u001b[0;34m*\u001b[0m\u001b[0minput\u001b[0m\u001b[0;34m,\u001b[0m \u001b[0;34m**\u001b[0m\u001b[0mkwargs\u001b[0m\u001b[0;34m)\u001b[0m\u001b[0;34m\u001b[0m\u001b[0;34m\u001b[0m\u001b[0m\n\u001b[0m\u001b[1;32m    542\u001b[0m         \u001b[0;32mfor\u001b[0m \u001b[0mhook\u001b[0m \u001b[0;32min\u001b[0m \u001b[0mself\u001b[0m\u001b[0;34m.\u001b[0m\u001b[0m_forward_hooks\u001b[0m\u001b[0;34m.\u001b[0m\u001b[0mvalues\u001b[0m\u001b[0;34m(\u001b[0m\u001b[0;34m)\u001b[0m\u001b[0;34m:\u001b[0m\u001b[0;34m\u001b[0m\u001b[0;34m\u001b[0m\u001b[0m\n\u001b[1;32m    543\u001b[0m             \u001b[0mhook_result\u001b[0m \u001b[0;34m=\u001b[0m \u001b[0mhook\u001b[0m\u001b[0;34m(\u001b[0m\u001b[0mself\u001b[0m\u001b[0;34m,\u001b[0m \u001b[0minput\u001b[0m\u001b[0;34m,\u001b[0m \u001b[0mresult\u001b[0m\u001b[0;34m)\u001b[0m\u001b[0;34m\u001b[0m\u001b[0;34m\u001b[0m\u001b[0m\n",
      "\u001b[0;32m~/directed-graphs-learning/notebooks/multi_layered_model.py\u001b[0m in \u001b[0;36mforward\u001b[0;34m(self, data)\u001b[0m\n\u001b[1;32m     62\u001b[0m \u001b[0;34m\u001b[0m\u001b[0m\n\u001b[1;32m     63\u001b[0m         \u001b[0;31m# last layer\u001b[0m\u001b[0;34m\u001b[0m\u001b[0;34m\u001b[0m\u001b[0;34m\u001b[0m\u001b[0m\n\u001b[0;32m---> 64\u001b[0;31m         \u001b[0mx\u001b[0m \u001b[0;34m=\u001b[0m \u001b[0mself\u001b[0m\u001b[0;34m.\u001b[0m\u001b[0mlast\u001b[0m\u001b[0;34m(\u001b[0m\u001b[0mx\u001b[0m\u001b[0;34m,\u001b[0m\u001b[0medge_index\u001b[0m\u001b[0;34m)\u001b[0m\u001b[0;34m\u001b[0m\u001b[0;34m\u001b[0m\u001b[0m\n\u001b[0m\u001b[1;32m     65\u001b[0m         \u001b[0mx\u001b[0m \u001b[0;34m=\u001b[0m \u001b[0mF\u001b[0m\u001b[0;34m.\u001b[0m\u001b[0mlog_softmax\u001b[0m\u001b[0;34m(\u001b[0m\u001b[0mx\u001b[0m\u001b[0;34m,\u001b[0m\u001b[0mdim\u001b[0m\u001b[0;34m=\u001b[0m\u001b[0;36m1\u001b[0m\u001b[0;34m)\u001b[0m\u001b[0;34m\u001b[0m\u001b[0;34m\u001b[0m\u001b[0m\n\u001b[1;32m     66\u001b[0m \u001b[0;34m\u001b[0m\u001b[0m\n",
      "\u001b[0;32m~/anaconda3/lib/python3.7/site-packages/torch/nn/modules/module.py\u001b[0m in \u001b[0;36m__call__\u001b[0;34m(self, *input, **kwargs)\u001b[0m\n\u001b[1;32m    539\u001b[0m             \u001b[0mresult\u001b[0m \u001b[0;34m=\u001b[0m \u001b[0mself\u001b[0m\u001b[0;34m.\u001b[0m\u001b[0m_slow_forward\u001b[0m\u001b[0;34m(\u001b[0m\u001b[0;34m*\u001b[0m\u001b[0minput\u001b[0m\u001b[0;34m,\u001b[0m \u001b[0;34m**\u001b[0m\u001b[0mkwargs\u001b[0m\u001b[0;34m)\u001b[0m\u001b[0;34m\u001b[0m\u001b[0;34m\u001b[0m\u001b[0m\n\u001b[1;32m    540\u001b[0m         \u001b[0;32melse\u001b[0m\u001b[0;34m:\u001b[0m\u001b[0;34m\u001b[0m\u001b[0;34m\u001b[0m\u001b[0m\n\u001b[0;32m--> 541\u001b[0;31m             \u001b[0mresult\u001b[0m \u001b[0;34m=\u001b[0m \u001b[0mself\u001b[0m\u001b[0;34m.\u001b[0m\u001b[0mforward\u001b[0m\u001b[0;34m(\u001b[0m\u001b[0;34m*\u001b[0m\u001b[0minput\u001b[0m\u001b[0;34m,\u001b[0m \u001b[0;34m**\u001b[0m\u001b[0mkwargs\u001b[0m\u001b[0;34m)\u001b[0m\u001b[0;34m\u001b[0m\u001b[0;34m\u001b[0m\u001b[0m\n\u001b[0m\u001b[1;32m    542\u001b[0m         \u001b[0;32mfor\u001b[0m \u001b[0mhook\u001b[0m \u001b[0;32min\u001b[0m \u001b[0mself\u001b[0m\u001b[0;34m.\u001b[0m\u001b[0m_forward_hooks\u001b[0m\u001b[0;34m.\u001b[0m\u001b[0mvalues\u001b[0m\u001b[0;34m(\u001b[0m\u001b[0;34m)\u001b[0m\u001b[0;34m:\u001b[0m\u001b[0;34m\u001b[0m\u001b[0;34m\u001b[0m\u001b[0m\n\u001b[1;32m    543\u001b[0m             \u001b[0mhook_result\u001b[0m \u001b[0;34m=\u001b[0m \u001b[0mhook\u001b[0m\u001b[0;34m(\u001b[0m\u001b[0mself\u001b[0m\u001b[0;34m,\u001b[0m \u001b[0minput\u001b[0m\u001b[0;34m,\u001b[0m \u001b[0mresult\u001b[0m\u001b[0;34m)\u001b[0m\u001b[0;34m\u001b[0m\u001b[0;34m\u001b[0m\u001b[0m\n",
      "\u001b[0;32m~/anaconda3/envs/nips2/lib/python3.7/site-packages/torch_geometric/nn/conv/sage_conv.py\u001b[0m in \u001b[0;36mforward\u001b[0;34m(self, x, edge_index, edge_weight, size)\u001b[0m\n\u001b[1;32m     63\u001b[0m \u001b[0;34m\u001b[0m\u001b[0m\n\u001b[1;32m     64\u001b[0m         return self.propagate(edge_index, size=size, x=x,\n\u001b[0;32m---> 65\u001b[0;31m                               edge_weight=edge_weight)\n\u001b[0m\u001b[1;32m     66\u001b[0m \u001b[0;34m\u001b[0m\u001b[0m\n\u001b[1;32m     67\u001b[0m     \u001b[0;32mdef\u001b[0m \u001b[0mmessage\u001b[0m\u001b[0;34m(\u001b[0m\u001b[0mself\u001b[0m\u001b[0;34m,\u001b[0m \u001b[0mx_j\u001b[0m\u001b[0;34m,\u001b[0m \u001b[0medge_weight\u001b[0m\u001b[0;34m)\u001b[0m\u001b[0;34m:\u001b[0m\u001b[0;34m\u001b[0m\u001b[0;34m\u001b[0m\u001b[0m\n",
      "\u001b[0;32m~/anaconda3/envs/nips2/lib/python3.7/site-packages/torch_geometric/nn/conv/message_passing.py\u001b[0m in \u001b[0;36mpropagate\u001b[0;34m(self, edge_index, size, dim, **kwargs)\u001b[0m\n\u001b[1;32m    125\u001b[0m \u001b[0;34m\u001b[0m\u001b[0m\n\u001b[1;32m    126\u001b[0m         \u001b[0mout\u001b[0m \u001b[0;34m=\u001b[0m \u001b[0mself\u001b[0m\u001b[0;34m.\u001b[0m\u001b[0mmessage\u001b[0m\u001b[0;34m(\u001b[0m\u001b[0;34m*\u001b[0m\u001b[0mmessage_args\u001b[0m\u001b[0;34m)\u001b[0m\u001b[0;34m\u001b[0m\u001b[0;34m\u001b[0m\u001b[0m\n\u001b[0;32m--> 127\u001b[0;31m         \u001b[0mout\u001b[0m \u001b[0;34m=\u001b[0m \u001b[0mscatter_\u001b[0m\u001b[0;34m(\u001b[0m\u001b[0mself\u001b[0m\u001b[0;34m.\u001b[0m\u001b[0maggr\u001b[0m\u001b[0;34m,\u001b[0m \u001b[0mout\u001b[0m\u001b[0;34m,\u001b[0m \u001b[0medge_index\u001b[0m\u001b[0;34m[\u001b[0m\u001b[0mi\u001b[0m\u001b[0;34m]\u001b[0m\u001b[0;34m,\u001b[0m \u001b[0mdim\u001b[0m\u001b[0;34m,\u001b[0m \u001b[0mdim_size\u001b[0m\u001b[0;34m=\u001b[0m\u001b[0msize\u001b[0m\u001b[0;34m[\u001b[0m\u001b[0mi\u001b[0m\u001b[0;34m]\u001b[0m\u001b[0;34m)\u001b[0m\u001b[0;34m\u001b[0m\u001b[0;34m\u001b[0m\u001b[0m\n\u001b[0m\u001b[1;32m    128\u001b[0m         \u001b[0mout\u001b[0m \u001b[0;34m=\u001b[0m \u001b[0mself\u001b[0m\u001b[0;34m.\u001b[0m\u001b[0mupdate\u001b[0m\u001b[0;34m(\u001b[0m\u001b[0mout\u001b[0m\u001b[0;34m,\u001b[0m \u001b[0;34m*\u001b[0m\u001b[0mupdate_args\u001b[0m\u001b[0;34m)\u001b[0m\u001b[0;34m\u001b[0m\u001b[0;34m\u001b[0m\u001b[0m\n\u001b[1;32m    129\u001b[0m \u001b[0;34m\u001b[0m\u001b[0m\n",
      "\u001b[0;32m~/anaconda3/envs/nips2/lib/python3.7/site-packages/torch_geometric/utils/scatter.py\u001b[0m in \u001b[0;36mscatter_\u001b[0;34m(name, src, index, dim, dim_size)\u001b[0m\n\u001b[1;32m     32\u001b[0m \u001b[0;34m\u001b[0m\u001b[0m\n\u001b[1;32m     33\u001b[0m     \u001b[0mop\u001b[0m \u001b[0;34m=\u001b[0m \u001b[0mgetattr\u001b[0m\u001b[0;34m(\u001b[0m\u001b[0mtorch_scatter\u001b[0m\u001b[0;34m,\u001b[0m \u001b[0;34m'scatter_{}'\u001b[0m\u001b[0;34m.\u001b[0m\u001b[0mformat\u001b[0m\u001b[0;34m(\u001b[0m\u001b[0mname\u001b[0m\u001b[0;34m)\u001b[0m\u001b[0;34m)\u001b[0m\u001b[0;34m\u001b[0m\u001b[0;34m\u001b[0m\u001b[0m\n\u001b[0;32m---> 34\u001b[0;31m     \u001b[0mout\u001b[0m \u001b[0;34m=\u001b[0m \u001b[0mop\u001b[0m\u001b[0;34m(\u001b[0m\u001b[0msrc\u001b[0m\u001b[0;34m,\u001b[0m \u001b[0mindex\u001b[0m\u001b[0;34m,\u001b[0m \u001b[0mdim\u001b[0m\u001b[0;34m,\u001b[0m \u001b[0;32mNone\u001b[0m\u001b[0;34m,\u001b[0m \u001b[0mdim_size\u001b[0m\u001b[0;34m,\u001b[0m \u001b[0mfill_value\u001b[0m\u001b[0;34m)\u001b[0m\u001b[0;34m\u001b[0m\u001b[0;34m\u001b[0m\u001b[0m\n\u001b[0m\u001b[1;32m     35\u001b[0m     \u001b[0;32mif\u001b[0m \u001b[0misinstance\u001b[0m\u001b[0;34m(\u001b[0m\u001b[0mout\u001b[0m\u001b[0;34m,\u001b[0m \u001b[0mtuple\u001b[0m\u001b[0;34m)\u001b[0m\u001b[0;34m:\u001b[0m\u001b[0;34m\u001b[0m\u001b[0;34m\u001b[0m\u001b[0m\n\u001b[1;32m     36\u001b[0m         \u001b[0mout\u001b[0m \u001b[0;34m=\u001b[0m \u001b[0mout\u001b[0m\u001b[0;34m[\u001b[0m\u001b[0;36m0\u001b[0m\u001b[0;34m]\u001b[0m\u001b[0;34m\u001b[0m\u001b[0;34m\u001b[0m\u001b[0m\n",
      "\u001b[0;32m~/anaconda3/envs/nips2/lib/python3.7/site-packages/torch_scatter/mean.py\u001b[0m in \u001b[0;36mscatter_mean\u001b[0;34m(src, index, dim, out, dim_size, fill_value)\u001b[0m\n\u001b[1;32m     66\u001b[0m                [1.0000, 4.0000, 2.0000, 0.0000, 0.0000, 0.0000]])\n\u001b[1;32m     67\u001b[0m     \"\"\"\n\u001b[0;32m---> 68\u001b[0;31m     \u001b[0mout\u001b[0m \u001b[0;34m=\u001b[0m \u001b[0mscatter_add\u001b[0m\u001b[0;34m(\u001b[0m\u001b[0msrc\u001b[0m\u001b[0;34m,\u001b[0m \u001b[0mindex\u001b[0m\u001b[0;34m,\u001b[0m \u001b[0mdim\u001b[0m\u001b[0;34m,\u001b[0m \u001b[0mout\u001b[0m\u001b[0;34m,\u001b[0m \u001b[0mdim_size\u001b[0m\u001b[0;34m,\u001b[0m \u001b[0mfill_value\u001b[0m\u001b[0;34m)\u001b[0m\u001b[0;34m\u001b[0m\u001b[0;34m\u001b[0m\u001b[0m\n\u001b[0m\u001b[1;32m     69\u001b[0m     \u001b[0mcount\u001b[0m \u001b[0;34m=\u001b[0m \u001b[0mscatter_add\u001b[0m\u001b[0;34m(\u001b[0m\u001b[0mtorch\u001b[0m\u001b[0;34m.\u001b[0m\u001b[0mones_like\u001b[0m\u001b[0;34m(\u001b[0m\u001b[0msrc\u001b[0m\u001b[0;34m)\u001b[0m\u001b[0;34m,\u001b[0m \u001b[0mindex\u001b[0m\u001b[0;34m,\u001b[0m \u001b[0mdim\u001b[0m\u001b[0;34m,\u001b[0m \u001b[0;32mNone\u001b[0m\u001b[0;34m,\u001b[0m \u001b[0mout\u001b[0m\u001b[0;34m.\u001b[0m\u001b[0msize\u001b[0m\u001b[0;34m(\u001b[0m\u001b[0mdim\u001b[0m\u001b[0;34m)\u001b[0m\u001b[0;34m)\u001b[0m\u001b[0;34m\u001b[0m\u001b[0;34m\u001b[0m\u001b[0m\n\u001b[1;32m     70\u001b[0m     \u001b[0;32mreturn\u001b[0m \u001b[0mout\u001b[0m \u001b[0;34m/\u001b[0m \u001b[0mcount\u001b[0m\u001b[0;34m.\u001b[0m\u001b[0mclamp\u001b[0m\u001b[0;34m(\u001b[0m\u001b[0mmin\u001b[0m\u001b[0;34m=\u001b[0m\u001b[0;36m1\u001b[0m\u001b[0;34m)\u001b[0m\u001b[0;34m\u001b[0m\u001b[0;34m\u001b[0m\u001b[0m\n",
      "\u001b[0;32m~/anaconda3/envs/nips2/lib/python3.7/site-packages/torch_scatter/add.py\u001b[0m in \u001b[0;36mscatter_add\u001b[0;34m(src, index, dim, out, dim_size, fill_value)\u001b[0m\n\u001b[1;32m     72\u001b[0m                [2., 4., 4., 0., 0., 0.]])\n\u001b[1;32m     73\u001b[0m     \"\"\"\n\u001b[0;32m---> 74\u001b[0;31m     \u001b[0msrc\u001b[0m\u001b[0;34m,\u001b[0m \u001b[0mout\u001b[0m\u001b[0;34m,\u001b[0m \u001b[0mindex\u001b[0m\u001b[0;34m,\u001b[0m \u001b[0mdim\u001b[0m \u001b[0;34m=\u001b[0m \u001b[0mgen\u001b[0m\u001b[0;34m(\u001b[0m\u001b[0msrc\u001b[0m\u001b[0;34m,\u001b[0m \u001b[0mindex\u001b[0m\u001b[0;34m,\u001b[0m \u001b[0mdim\u001b[0m\u001b[0;34m,\u001b[0m \u001b[0mout\u001b[0m\u001b[0;34m,\u001b[0m \u001b[0mdim_size\u001b[0m\u001b[0;34m,\u001b[0m \u001b[0mfill_value\u001b[0m\u001b[0;34m)\u001b[0m\u001b[0;34m\u001b[0m\u001b[0;34m\u001b[0m\u001b[0m\n\u001b[0m\u001b[1;32m     75\u001b[0m     \u001b[0;32mreturn\u001b[0m \u001b[0mout\u001b[0m\u001b[0;34m.\u001b[0m\u001b[0mscatter_add_\u001b[0m\u001b[0;34m(\u001b[0m\u001b[0mdim\u001b[0m\u001b[0;34m,\u001b[0m \u001b[0mindex\u001b[0m\u001b[0;34m,\u001b[0m \u001b[0msrc\u001b[0m\u001b[0;34m)\u001b[0m\u001b[0;34m\u001b[0m\u001b[0;34m\u001b[0m\u001b[0m\n",
      "\u001b[0;32m~/anaconda3/envs/nips2/lib/python3.7/site-packages/torch_scatter/utils/gen.py\u001b[0m in \u001b[0;36mgen\u001b[0;34m(src, index, dim, out, dim_size, fill_value)\u001b[0m\n\u001b[1;32m     20\u001b[0m         \u001b[0mindex_size\u001b[0m\u001b[0;34m[\u001b[0m\u001b[0mdim\u001b[0m\u001b[0;34m]\u001b[0m \u001b[0;34m=\u001b[0m \u001b[0msrc\u001b[0m\u001b[0;34m.\u001b[0m\u001b[0msize\u001b[0m\u001b[0;34m(\u001b[0m\u001b[0mdim\u001b[0m\u001b[0;34m)\u001b[0m\u001b[0;34m\u001b[0m\u001b[0;34m\u001b[0m\u001b[0m\n\u001b[1;32m     21\u001b[0m         \u001b[0;32mif\u001b[0m \u001b[0mindex\u001b[0m\u001b[0;34m.\u001b[0m\u001b[0mnumel\u001b[0m\u001b[0;34m(\u001b[0m\u001b[0;34m)\u001b[0m \u001b[0;34m>\u001b[0m \u001b[0;36m0\u001b[0m\u001b[0;34m:\u001b[0m\u001b[0;34m\u001b[0m\u001b[0;34m\u001b[0m\u001b[0m\n\u001b[0;32m---> 22\u001b[0;31m             \u001b[0mindex\u001b[0m \u001b[0;34m=\u001b[0m \u001b[0mindex\u001b[0m\u001b[0;34m.\u001b[0m\u001b[0mview\u001b[0m\u001b[0;34m(\u001b[0m\u001b[0mindex_size\u001b[0m\u001b[0;34m)\u001b[0m\u001b[0;34m.\u001b[0m\u001b[0mexpand_as\u001b[0m\u001b[0;34m(\u001b[0m\u001b[0msrc\u001b[0m\u001b[0;34m)\u001b[0m\u001b[0;34m\u001b[0m\u001b[0;34m\u001b[0m\u001b[0m\n\u001b[0m\u001b[1;32m     23\u001b[0m         \u001b[0;32melse\u001b[0m\u001b[0;34m:\u001b[0m  \u001b[0;31m# pragma: no cover\u001b[0m\u001b[0;34m\u001b[0m\u001b[0;34m\u001b[0m\u001b[0m\n\u001b[1;32m     24\u001b[0m             \u001b[0;31m# PyTorch has a bug when view is used on zero-element tensors.\u001b[0m\u001b[0;34m\u001b[0m\u001b[0;34m\u001b[0m\u001b[0;34m\u001b[0m\u001b[0m\n",
      "\u001b[0;31mKeyboardInterrupt\u001b[0m: "
     ]
    }
   ],
   "source": [
    "for conv in [SAGEConv]:\n",
    "    for ch in [12,24,48,96]:\n",
    "        for lr in [1e-3,1e-3,1e-2]:\n",
    "            for dropout in [0.2,0.4,0.6,0.8]:\n",
    "                for wd in [1e-4,1e-3,1e-2,1e-1]:\n",
    "                    eval_archs_gcn(dataset=cora,conv=conv,channel_size=ch,lr=lr,dropout=dropout,wd=wd)"
   ]
  },
  {
   "cell_type": "code",
   "execution_count": null,
   "metadata": {},
   "outputs": [],
   "source": [
    "for conv in [GATConv]:\n",
    "    for ch in [12,24,48,96]:\n",
    "        for lr in [1e-4,1e-3,1e-2]:\n",
    "            for dropout in [0.2]:#,0.4,0.6,0.8]:\n",
    "                for wd in [1e-4]:#,1e-3,1e-2,1e-1]:\n",
    "                    for heads in [1]:#,2,4]:   # flaw when ch==12 and heads==4 and model is BiGAT (12//2//4 => 1)\n",
    "                                            # resulting in smaller representation size than expected (ch -> 8 not 12)\n",
    "                        eval_archs_gat(dataset=cora,conv=conv,channel_size=ch,lr=lr,\n",
    "                                       dropout=dropout,wd=wd,heads=heads)"
   ]
  },
  {
   "cell_type": "code",
   "execution_count": null,
   "metadata": {},
   "outputs": [],
   "source": [
    "eval_archs(cora,SAGEConv,64,0.1,0.01)"
   ]
  },
  {
   "cell_type": "code",
   "execution_count": null,
   "metadata": {},
   "outputs": [
    {
     "name": "stdout",
     "output_type": "stream",
     "text": [
      ">> acc/GATConv_MonoGAT_lr0.01_wd0.01_ch64.out\n"
     ]
    }
   ],
   "source": [
    "eval_archs_gat(cora,GATConv,64,0.01,0.01)"
   ]
  },
  {
   "cell_type": "code",
   "execution_count": 19,
   "metadata": {},
   "outputs": [
    {
     "ename": "RuntimeError",
     "evalue": "Expected object of device type cuda but got device type cpu for argument #2 'mat2' in call to _th_mm",
     "output_type": "error",
     "traceback": [
      "\u001b[0;31m---------------------------------------------------------------------------\u001b[0m",
      "\u001b[0;31mRuntimeError\u001b[0m                              Traceback (most recent call last)",
      "\u001b[0;32m<ipython-input-19-9871c957b150>\u001b[0m in \u001b[0;36m<module>\u001b[0;34m\u001b[0m\n\u001b[0;32m----> 1\u001b[0;31m \u001b[0meval_archs\u001b[0m\u001b[0;34m(\u001b[0m\u001b[0mcora\u001b[0m\u001b[0;34m,\u001b[0m\u001b[0mSAGEConv\u001b[0m\u001b[0;34m,\u001b[0m\u001b[0;36m64\u001b[0m\u001b[0;34m,\u001b[0m\u001b[0;36m0.1\u001b[0m\u001b[0;34m,\u001b[0m\u001b[0;36m0.01\u001b[0m\u001b[0;34m)\u001b[0m\u001b[0;34m\u001b[0m\u001b[0;34m\u001b[0m\u001b[0m\n\u001b[0m",
      "\u001b[0;32m<ipython-input-18-70b133e4f908>\u001b[0m in \u001b[0;36meval_archs\u001b[0;34m(dataset, conv, channel_size, lr, wd)\u001b[0m\n\u001b[1;32m      7\u001b[0m             \u001b[0;32mfor\u001b[0m \u001b[0mseed\u001b[0m \u001b[0;32min\u001b[0m \u001b[0mrange\u001b[0m\u001b[0;34m(\u001b[0m\u001b[0mnum_splits\u001b[0m\u001b[0;34m)\u001b[0m\u001b[0;34m:\u001b[0m\u001b[0;34m\u001b[0m\u001b[0;34m\u001b[0m\u001b[0m\n\u001b[1;32m      8\u001b[0m                 monogcn,monogcnstd,monogcns = eval_multiple(dataset,[channel_size//chs],conv,runs=num_runs,epochs=200,split_seed=seed,\n\u001b[0;32m----> 9\u001b[0;31m                                                             architecture=model,lr=lr,wd=wd)\n\u001b[0m\u001b[1;32m     10\u001b[0m                 \u001b[0mf\u001b[0m\u001b[0;34m.\u001b[0m\u001b[0mwrite\u001b[0m\u001b[0;34m(\u001b[0m\u001b[0;34m'{} {} accuracy: {:.2f} +-{:.1f}\\n'\u001b[0m\u001b[0;34m.\u001b[0m\u001b[0mformat\u001b[0m\u001b[0;34m(\u001b[0m\u001b[0mconv\u001b[0m\u001b[0;34m.\u001b[0m\u001b[0m__name__\u001b[0m\u001b[0;34m,\u001b[0m\u001b[0mmodel\u001b[0m\u001b[0;34m.\u001b[0m\u001b[0m__name__\u001b[0m\u001b[0;34m,\u001b[0m\u001b[0mmonogcn\u001b[0m\u001b[0;34m*\u001b[0m\u001b[0;36m100\u001b[0m\u001b[0;34m,\u001b[0m\u001b[0mmonogcnstd\u001b[0m\u001b[0;34m*\u001b[0m\u001b[0;36m100\u001b[0m\u001b[0;34m)\u001b[0m\u001b[0;34m)\u001b[0m\u001b[0;34m\u001b[0m\u001b[0;34m\u001b[0m\u001b[0m\n\u001b[1;32m     11\u001b[0m                 \u001b[0mavg\u001b[0m \u001b[0;34m+=\u001b[0m \u001b[0mmonogcn\u001b[0m \u001b[0;34m/\u001b[0m \u001b[0mnum_splits\u001b[0m\u001b[0;34m\u001b[0m\u001b[0;34m\u001b[0m\u001b[0m\n",
      "\u001b[0;32m<ipython-input-12-66dc41e1567d>\u001b[0m in \u001b[0;36meval_multiple\u001b[0;34m(dataset, channels, modelType, architecture, lr, wd, runs, epochs, split_seed)\u001b[0m\n\u001b[1;32m     74\u001b[0m     \u001b[0;32mfor\u001b[0m \u001b[0mi\u001b[0m \u001b[0;32min\u001b[0m \u001b[0mrange\u001b[0m\u001b[0;34m(\u001b[0m\u001b[0mruns\u001b[0m\u001b[0;34m)\u001b[0m\u001b[0;34m:\u001b[0m\u001b[0;34m\u001b[0m\u001b[0;34m\u001b[0m\u001b[0m\n\u001b[1;32m     75\u001b[0m         accs.append(run_and_eval_model(dataset,channels,modelType,architecture,lr,wd,epochs,\n\u001b[0;32m---> 76\u001b[0;31m                                        split_seed=split_seed, init_seed=i))\n\u001b[0m\u001b[1;32m     77\u001b[0m     \u001b[0melapsed_time\u001b[0m \u001b[0;34m=\u001b[0m \u001b[0mtime\u001b[0m\u001b[0;34m.\u001b[0m\u001b[0mtime\u001b[0m\u001b[0;34m(\u001b[0m\u001b[0;34m)\u001b[0m \u001b[0;34m-\u001b[0m \u001b[0mstart\u001b[0m\u001b[0;34m\u001b[0m\u001b[0;34m\u001b[0m\u001b[0m\n\u001b[1;32m     78\u001b[0m \u001b[0;31m#     print('Elaplsed {}'.format(time.strftime(\"%H:%M:%S\", time.gmtime(elapsed_time))))\u001b[0m\u001b[0;34m\u001b[0m\u001b[0;34m\u001b[0m\u001b[0;34m\u001b[0m\u001b[0m\n",
      "\u001b[0;32m<ipython-input-12-66dc41e1567d>\u001b[0m in \u001b[0;36mrun_and_eval_model\u001b[0;34m(dataset, channels, modelType, architecture, lr, wd, epochs, split_seed, init_seed)\u001b[0m\n\u001b[1;32m     39\u001b[0m     \u001b[0;32mfor\u001b[0m \u001b[0mepoch\u001b[0m \u001b[0;32min\u001b[0m \u001b[0mrange\u001b[0m\u001b[0;34m(\u001b[0m\u001b[0mepochs\u001b[0m\u001b[0;34m)\u001b[0m\u001b[0;34m:\u001b[0m\u001b[0;34m\u001b[0m\u001b[0;34m\u001b[0m\u001b[0m\n\u001b[1;32m     40\u001b[0m         \u001b[0moptimizer\u001b[0m\u001b[0;34m.\u001b[0m\u001b[0mzero_grad\u001b[0m\u001b[0;34m(\u001b[0m\u001b[0;34m)\u001b[0m \u001b[0;31m# saw this a lot in the beginning, maybe resetting gradients (not to accumulate)\u001b[0m\u001b[0;34m\u001b[0m\u001b[0;34m\u001b[0m\u001b[0m\n\u001b[0;32m---> 41\u001b[0;31m         \u001b[0mout\u001b[0m \u001b[0;34m=\u001b[0m \u001b[0mmodel\u001b[0m\u001b[0;34m(\u001b[0m\u001b[0mdata\u001b[0m\u001b[0;34m)\u001b[0m \u001b[0;31m# this calls the forward method apparently\u001b[0m\u001b[0;34m\u001b[0m\u001b[0;34m\u001b[0m\u001b[0m\n\u001b[0m\u001b[1;32m     42\u001b[0m         \u001b[0mloss\u001b[0m \u001b[0;34m=\u001b[0m \u001b[0mF\u001b[0m\u001b[0;34m.\u001b[0m\u001b[0mnll_loss\u001b[0m\u001b[0;34m(\u001b[0m\u001b[0mout\u001b[0m\u001b[0;34m[\u001b[0m\u001b[0msplit\u001b[0m\u001b[0;34m.\u001b[0m\u001b[0mtrain_mask\u001b[0m\u001b[0;34m]\u001b[0m\u001b[0;34m,\u001b[0m\u001b[0mdata\u001b[0m\u001b[0;34m.\u001b[0m\u001b[0my\u001b[0m\u001b[0;34m[\u001b[0m\u001b[0msplit\u001b[0m\u001b[0;34m.\u001b[0m\u001b[0mtrain_mask\u001b[0m\u001b[0;34m]\u001b[0m\u001b[0;34m)\u001b[0m \u001b[0;31m# nice indexing, easy and short\u001b[0m\u001b[0;34m\u001b[0m\u001b[0;34m\u001b[0m\u001b[0m\n\u001b[1;32m     43\u001b[0m \u001b[0;31m#         loss = F.nll_loss(out[data.train_mask],data.y[data.train_mask]) # nice indexing, easy and short\u001b[0m\u001b[0;34m\u001b[0m\u001b[0;34m\u001b[0m\u001b[0;34m\u001b[0m\u001b[0m\n",
      "\u001b[0;32m~/anaconda3/lib/python3.7/site-packages/torch/nn/modules/module.py\u001b[0m in \u001b[0;36m__call__\u001b[0;34m(self, *input, **kwargs)\u001b[0m\n\u001b[1;32m    539\u001b[0m             \u001b[0mresult\u001b[0m \u001b[0;34m=\u001b[0m \u001b[0mself\u001b[0m\u001b[0;34m.\u001b[0m\u001b[0m_slow_forward\u001b[0m\u001b[0;34m(\u001b[0m\u001b[0;34m*\u001b[0m\u001b[0minput\u001b[0m\u001b[0;34m,\u001b[0m \u001b[0;34m**\u001b[0m\u001b[0mkwargs\u001b[0m\u001b[0;34m)\u001b[0m\u001b[0;34m\u001b[0m\u001b[0;34m\u001b[0m\u001b[0m\n\u001b[1;32m    540\u001b[0m         \u001b[0;32melse\u001b[0m\u001b[0;34m:\u001b[0m\u001b[0;34m\u001b[0m\u001b[0;34m\u001b[0m\u001b[0m\n\u001b[0;32m--> 541\u001b[0;31m             \u001b[0mresult\u001b[0m \u001b[0;34m=\u001b[0m \u001b[0mself\u001b[0m\u001b[0;34m.\u001b[0m\u001b[0mforward\u001b[0m\u001b[0;34m(\u001b[0m\u001b[0;34m*\u001b[0m\u001b[0minput\u001b[0m\u001b[0;34m,\u001b[0m \u001b[0;34m**\u001b[0m\u001b[0mkwargs\u001b[0m\u001b[0;34m)\u001b[0m\u001b[0;34m\u001b[0m\u001b[0;34m\u001b[0m\u001b[0m\n\u001b[0m\u001b[1;32m    542\u001b[0m         \u001b[0;32mfor\u001b[0m \u001b[0mhook\u001b[0m \u001b[0;32min\u001b[0m \u001b[0mself\u001b[0m\u001b[0;34m.\u001b[0m\u001b[0m_forward_hooks\u001b[0m\u001b[0;34m.\u001b[0m\u001b[0mvalues\u001b[0m\u001b[0;34m(\u001b[0m\u001b[0;34m)\u001b[0m\u001b[0;34m:\u001b[0m\u001b[0;34m\u001b[0m\u001b[0;34m\u001b[0m\u001b[0m\n\u001b[1;32m    543\u001b[0m             \u001b[0mhook_result\u001b[0m \u001b[0;34m=\u001b[0m \u001b[0mhook\u001b[0m\u001b[0;34m(\u001b[0m\u001b[0mself\u001b[0m\u001b[0;34m,\u001b[0m \u001b[0minput\u001b[0m\u001b[0;34m,\u001b[0m \u001b[0mresult\u001b[0m\u001b[0;34m)\u001b[0m\u001b[0;34m\u001b[0m\u001b[0;34m\u001b[0m\u001b[0m\n",
      "\u001b[0;32m~/directed-graphs-learning/notebooks/multi_layered_model.py\u001b[0m in \u001b[0;36mforward\u001b[0;34m(self, data)\u001b[0m\n\u001b[1;32m     20\u001b[0m \u001b[0;34m\u001b[0m\u001b[0m\n\u001b[1;32m     21\u001b[0m         \u001b[0;32mfor\u001b[0m \u001b[0mconv\u001b[0m \u001b[0;32min\u001b[0m \u001b[0mself\u001b[0m\u001b[0;34m.\u001b[0m\u001b[0mconv\u001b[0m\u001b[0;34m[\u001b[0m\u001b[0;34m:\u001b[0m\u001b[0;34m-\u001b[0m\u001b[0;36m1\u001b[0m\u001b[0;34m]\u001b[0m\u001b[0;34m:\u001b[0m\u001b[0;34m\u001b[0m\u001b[0;34m\u001b[0m\u001b[0m\n\u001b[0;32m---> 22\u001b[0;31m             \u001b[0mx\u001b[0m \u001b[0;34m=\u001b[0m \u001b[0mconv\u001b[0m\u001b[0;34m(\u001b[0m\u001b[0mx\u001b[0m\u001b[0;34m,\u001b[0m\u001b[0medge_index\u001b[0m\u001b[0;34m)\u001b[0m\u001b[0;34m\u001b[0m\u001b[0;34m\u001b[0m\u001b[0m\n\u001b[0m\u001b[1;32m     23\u001b[0m             \u001b[0mx\u001b[0m \u001b[0;34m=\u001b[0m \u001b[0mF\u001b[0m\u001b[0;34m.\u001b[0m\u001b[0mrelu\u001b[0m\u001b[0;34m(\u001b[0m\u001b[0mx\u001b[0m\u001b[0;34m)\u001b[0m\u001b[0;34m\u001b[0m\u001b[0;34m\u001b[0m\u001b[0m\n\u001b[1;32m     24\u001b[0m             \u001b[0mx\u001b[0m \u001b[0;34m=\u001b[0m \u001b[0mF\u001b[0m\u001b[0;34m.\u001b[0m\u001b[0mdropout\u001b[0m\u001b[0;34m(\u001b[0m\u001b[0mx\u001b[0m\u001b[0;34m,\u001b[0m\u001b[0mtraining\u001b[0m\u001b[0;34m=\u001b[0m\u001b[0mself\u001b[0m\u001b[0;34m.\u001b[0m\u001b[0mtraining\u001b[0m\u001b[0;34m,\u001b[0m\u001b[0mp\u001b[0m\u001b[0;34m=\u001b[0m\u001b[0mself\u001b[0m\u001b[0;34m.\u001b[0m\u001b[0mdropout\u001b[0m\u001b[0;34m)\u001b[0m\u001b[0;34m\u001b[0m\u001b[0;34m\u001b[0m\u001b[0m\n",
      "\u001b[0;32m~/anaconda3/lib/python3.7/site-packages/torch/nn/modules/module.py\u001b[0m in \u001b[0;36m__call__\u001b[0;34m(self, *input, **kwargs)\u001b[0m\n\u001b[1;32m    539\u001b[0m             \u001b[0mresult\u001b[0m \u001b[0;34m=\u001b[0m \u001b[0mself\u001b[0m\u001b[0;34m.\u001b[0m\u001b[0m_slow_forward\u001b[0m\u001b[0;34m(\u001b[0m\u001b[0;34m*\u001b[0m\u001b[0minput\u001b[0m\u001b[0;34m,\u001b[0m \u001b[0;34m**\u001b[0m\u001b[0mkwargs\u001b[0m\u001b[0;34m)\u001b[0m\u001b[0;34m\u001b[0m\u001b[0;34m\u001b[0m\u001b[0m\n\u001b[1;32m    540\u001b[0m         \u001b[0;32melse\u001b[0m\u001b[0;34m:\u001b[0m\u001b[0;34m\u001b[0m\u001b[0;34m\u001b[0m\u001b[0m\n\u001b[0;32m--> 541\u001b[0;31m             \u001b[0mresult\u001b[0m \u001b[0;34m=\u001b[0m \u001b[0mself\u001b[0m\u001b[0;34m.\u001b[0m\u001b[0mforward\u001b[0m\u001b[0;34m(\u001b[0m\u001b[0;34m*\u001b[0m\u001b[0minput\u001b[0m\u001b[0;34m,\u001b[0m \u001b[0;34m**\u001b[0m\u001b[0mkwargs\u001b[0m\u001b[0;34m)\u001b[0m\u001b[0;34m\u001b[0m\u001b[0;34m\u001b[0m\u001b[0m\n\u001b[0m\u001b[1;32m    542\u001b[0m         \u001b[0;32mfor\u001b[0m \u001b[0mhook\u001b[0m \u001b[0;32min\u001b[0m \u001b[0mself\u001b[0m\u001b[0;34m.\u001b[0m\u001b[0m_forward_hooks\u001b[0m\u001b[0;34m.\u001b[0m\u001b[0mvalues\u001b[0m\u001b[0;34m(\u001b[0m\u001b[0;34m)\u001b[0m\u001b[0;34m:\u001b[0m\u001b[0;34m\u001b[0m\u001b[0;34m\u001b[0m\u001b[0m\n\u001b[1;32m    543\u001b[0m             \u001b[0mhook_result\u001b[0m \u001b[0;34m=\u001b[0m \u001b[0mhook\u001b[0m\u001b[0;34m(\u001b[0m\u001b[0mself\u001b[0m\u001b[0;34m,\u001b[0m \u001b[0minput\u001b[0m\u001b[0;34m,\u001b[0m \u001b[0mresult\u001b[0m\u001b[0;34m)\u001b[0m\u001b[0;34m\u001b[0m\u001b[0;34m\u001b[0m\u001b[0m\n",
      "\u001b[0;32m~/anaconda3/envs/nips2/lib/python3.7/site-packages/torch_geometric/nn/conv/sage_conv.py\u001b[0m in \u001b[0;36mforward\u001b[0;34m(self, x, edge_index, edge_weight, size)\u001b[0m\n\u001b[1;32m     57\u001b[0m \u001b[0;34m\u001b[0m\u001b[0m\n\u001b[1;32m     58\u001b[0m         \u001b[0;32mif\u001b[0m \u001b[0mtorch\u001b[0m\u001b[0;34m.\u001b[0m\u001b[0mis_tensor\u001b[0m\u001b[0;34m(\u001b[0m\u001b[0mx\u001b[0m\u001b[0;34m)\u001b[0m\u001b[0;34m:\u001b[0m\u001b[0;34m\u001b[0m\u001b[0;34m\u001b[0m\u001b[0m\n\u001b[0;32m---> 59\u001b[0;31m             \u001b[0mx\u001b[0m \u001b[0;34m=\u001b[0m \u001b[0mtorch\u001b[0m\u001b[0;34m.\u001b[0m\u001b[0mmatmul\u001b[0m\u001b[0;34m(\u001b[0m\u001b[0mx\u001b[0m\u001b[0;34m,\u001b[0m \u001b[0mself\u001b[0m\u001b[0;34m.\u001b[0m\u001b[0mweight\u001b[0m\u001b[0;34m)\u001b[0m\u001b[0;34m\u001b[0m\u001b[0;34m\u001b[0m\u001b[0m\n\u001b[0m\u001b[1;32m     60\u001b[0m         \u001b[0;32melse\u001b[0m\u001b[0;34m:\u001b[0m\u001b[0;34m\u001b[0m\u001b[0;34m\u001b[0m\u001b[0m\n\u001b[1;32m     61\u001b[0m             x = (None if x[0] is None else torch.matmul(x[0], self.weight),\n",
      "\u001b[0;31mRuntimeError\u001b[0m: Expected object of device type cuda but got device type cpu for argument #2 'mat2' in call to _th_mm"
     ]
    }
   ],
   "source": [
    "eval_archs(cora,SAGEConv,64,0.1,0.01)"
   ]
  },
  {
   "cell_type": "code",
   "execution_count": null,
   "metadata": {},
   "outputs": [],
   "source": [
    "eval_archs(cora,SAGEConv,64,0.001,0.1)"
   ]
  },
  {
   "cell_type": "code",
   "execution_count": null,
   "metadata": {},
   "outputs": [],
   "source": [
    "eval_archs(cora,GCNConv,64,0.01,5e-4)"
   ]
  },
  {
   "cell_type": "code",
   "execution_count": null,
   "metadata": {},
   "outputs": [],
   "source": [
    "avg = 0\n",
    "with open('acc/monogcn.out','w') as f:\n",
    "    for seed in range(num_splits):\n",
    "        monogcn,monogcnstd,monogcns = eval_multiple(cora,[64],GCNConv,runs=num_runs,epochs=200,split_seed=seed,\n",
    "                                                    architecture=MonoModel)\n",
    "        f.write('Mono accuracy: {:.2f} +-{:.1f}\\n'.format(monogcn*100,monogcnstd*100))\n",
    "        avg += monogcn / num_splits\n",
    "    f.write('Mono accuracy: {:.2f}\\n'.format(avg*100))"
   ]
  },
  {
   "cell_type": "code",
   "execution_count": null,
   "metadata": {},
   "outputs": [],
   "source": [
    "avg = 0\n",
    "with open('acc/bigcn.out','w') as f:\n",
    "    for seed in range(num_splits):\n",
    "        monogcn,monogcnstd,monogcns = eval_multiple(cora,[32],GCNConv,runs=num_runs,epochs=200,split_seed=seed,\n",
    "                                                    architecture=BiModel)\n",
    "        f.write('Mono accuracy: {:.2f} +-{:.1f}\\n'.format(monogcn*100,monogcnstd*100))\n",
    "        avg += monogcn / num_splits\n",
    "    f.write('Mono accuracy: {:.2f}\\n'.format(avg*100))"
   ]
  },
  {
   "cell_type": "code",
   "execution_count": null,
   "metadata": {},
   "outputs": [],
   "source": [
    "avg = 0\n",
    "with open('acc/trigcn.out','w') as f:\n",
    "    for seed in range(num_splits):\n",
    "        monogcn,monogcnstd,monogcns = eval_multiple(cora,[20],GCNConv,runs=num_runs,epochs=200,split_seed=seed,\n",
    "                                                    architecture=TriModel)\n",
    "        f.write('Mono accuracy: {:.2f} +-{:.1f}\\n'.format(monogcn*100,monogcnstd*100))\n",
    "        avg += monogcn / num_splits\n",
    "    f.write('Mono accuracy: {:.2f}\\n'.format(avg*100))"
   ]
  },
  {
   "cell_type": "code",
   "execution_count": 12,
   "metadata": {},
   "outputs": [
    {
     "name": "stdout",
     "output_type": "stream",
     "text": [
      "Elaplsed 00:00:03\n",
      "Elaplsed 00:00:03\n",
      "Elaplsed 00:00:03\n",
      "Elaplsed 00:00:03\n",
      "Elaplsed 00:00:03\n",
      "Elaplsed 00:00:03\n",
      "Elaplsed 00:00:03\n",
      "Elaplsed 00:00:03\n",
      "Elaplsed 00:00:03\n",
      "Elaplsed 00:00:03\n",
      "Mono accuracy: 0.7433\n"
     ]
    }
   ],
   "source": [
    "avg = 0\n",
    "for seed in range(10):\n",
    "    monogcn,monogcnstd,monogcns = eval_multiple(cora,[128],SAGEConv,runs=10,epochs=200,split_seed=seed,\n",
    "                                                architecture=MonoModel)\n",
    "    \n",
    "    avg += monogcn / 10\n",
    "print('Mono accuracy: {:.4f}'.format(avg))"
   ]
  },
  {
   "cell_type": "code",
   "execution_count": 13,
   "metadata": {},
   "outputs": [
    {
     "name": "stdout",
     "output_type": "stream",
     "text": [
      "Elaplsed 00:00:04\n",
      "Elaplsed 00:00:03\n",
      "Elaplsed 00:00:04\n",
      "Elaplsed 00:00:04\n",
      "Elaplsed 00:00:04\n",
      "Elaplsed 00:00:05\n",
      "Elaplsed 00:00:05\n",
      "Elaplsed 00:00:05\n",
      "Elaplsed 00:00:05\n",
      "Elaplsed 00:00:05\n",
      "Mono accuracy: 0.7463\n"
     ]
    }
   ],
   "source": [
    "avg = 0\n",
    "for seed in range(10):\n",
    "    monogcn,monogcnstd,monogcns = eval_multiple(cora,[64],SAGEConv,runs=10,epochs=200,split_seed=seed,\n",
    "                                                architecture=BiModel)\n",
    "    avg += monogcn / 10\n",
    "print('Mono accuracy: {:.4f}'.format(avg))"
   ]
  },
  {
   "cell_type": "code",
   "execution_count": 14,
   "metadata": {},
   "outputs": [
    {
     "name": "stdout",
     "output_type": "stream",
     "text": [
      "Elaplsed 00:00:05\n",
      "Elaplsed 00:00:05\n",
      "Elaplsed 00:00:05\n",
      "Elaplsed 00:00:05\n",
      "Elaplsed 00:00:05\n",
      "Elaplsed 00:00:05\n",
      "Elaplsed 00:00:04\n",
      "Elaplsed 00:00:04\n",
      "Elaplsed 00:00:04\n",
      "Elaplsed 00:00:04\n",
      "Mono accuracy: 0.7429\n"
     ]
    }
   ],
   "source": [
    "avg = 0\n",
    "for seed in range(10):\n",
    "    monogcn,monogcnstd,monogcns = eval_multiple(cora,[45],SAGEConv,runs=10,epochs=200,split_seed=seed,\n",
    "                                                architecture=TriModel)\n",
    "    avg += monogcn / 10\n",
    "print('Mono accuracy: {:.4f}'.format(avg))"
   ]
  },
  {
   "cell_type": "code",
   "execution_count": 54,
   "metadata": {},
   "outputs": [],
   "source": [
    "model= MonoModel(GCNConv,cora,[8])"
   ]
  },
  {
   "cell_type": "code",
   "execution_count": 89,
   "metadata": {},
   "outputs": [],
   "source": [
    "split0 = NetworkSplit(cora[0])"
   ]
  },
  {
   "cell_type": "code",
   "execution_count": 96,
   "metadata": {},
   "outputs": [
    {
     "data": {
      "text/plain": [
       "601"
      ]
     },
     "execution_count": 96,
     "metadata": {},
     "output_type": "execute_result"
    }
   ],
   "source": [
    "(split0.train_mask | (split0.val_mask)).sum().item()"
   ]
  },
  {
   "cell_type": "markdown",
   "metadata": {},
   "source": [
    "### GCN"
   ]
  },
  {
   "cell_type": "code",
   "execution_count": 25,
   "metadata": {},
   "outputs": [
    {
     "name": "stdout",
     "output_type": "stream",
     "text": [
      "Elaplsed 00:03:52\n",
      "Mono accuracy: 0.2926+-0.0196\n"
     ]
    }
   ],
   "source": [
    "monogcn,monogcnstd,monogcns = eval_multiple(coraConfDirected,[128],GCNConv,runs=100,epochs=200)\n",
    "print('Mono accuracy: {:.4f}+-{:.4f}'.format(monogcn,monogcnstd))"
   ]
  },
  {
   "cell_type": "code",
   "execution_count": 26,
   "metadata": {},
   "outputs": [
    {
     "name": "stdout",
     "output_type": "stream",
     "text": [
      "Elaplsed 00:02:08\n",
      "Mono accuracy: 0.3161+-0.0118\n"
     ]
    }
   ],
   "source": [
    "monogcn,monogcnstd,monogcns = eval_multiple(coraConfReversed,[128],GCNConv,runs=100,epochs=200)\n",
    "print('Mono accuracy: {:.4f}+-{:.4f}'.format(monogcn,monogcnstd))"
   ]
  },
  {
   "cell_type": "code",
   "execution_count": 29,
   "metadata": {},
   "outputs": [
    {
     "name": "stdout",
     "output_type": "stream",
     "text": [
      "Elaplsed 00:02:28\n",
      "Mono accuracy: 0.3269+-0.0262\n"
     ]
    }
   ],
   "source": [
    "monogcn,monogcnstd,monogcns = eval_multiple(citeseerConfDirected,[128],GCNConv,runs=100,epochs=200)\n",
    "print('Mono accuracy: {:.4f}+-{:.4f}'.format(monogcn,monogcnstd))"
   ]
  },
  {
   "cell_type": "code",
   "execution_count": 31,
   "metadata": {},
   "outputs": [
    {
     "name": "stdout",
     "output_type": "stream",
     "text": [
      "Elaplsed 00:02:30\n",
      "Mono accuracy: 0.3490+-0.0145\n"
     ]
    }
   ],
   "source": [
    "monogcn,monogcnstd,monogcns = eval_multiple(citeseerConfReversed,[128],GCNConv,runs=100,epochs=200)\n",
    "print('Mono accuracy: {:.4f}+-{:.4f}'.format(monogcn,monogcnstd))"
   ]
  },
  {
   "cell_type": "code",
   "execution_count": 30,
   "metadata": {},
   "outputs": [
    {
     "name": "stdout",
     "output_type": "stream",
     "text": [
      "Elaplsed 00:02:52\n",
      "Mono accuracy: 0.5589+-0.0201\n"
     ]
    }
   ],
   "source": [
    "monogcn,monogcnstd,monogcns = eval_multiple(PubMedConfDirected,[128],GCNConv,runs=100,epochs=200)\n",
    "print('Mono accuracy: {:.4f}+-{:.4f}'.format(monogcn,monogcnstd))"
   ]
  },
  {
   "cell_type": "code",
   "execution_count": 32,
   "metadata": {},
   "outputs": [
    {
     "name": "stdout",
     "output_type": "stream",
     "text": [
      "Elaplsed 00:03:02\n",
      "Mono accuracy: 0.5972+-0.0054\n"
     ]
    }
   ],
   "source": [
    "monogcn,monogcnstd,monogcns = eval_multiple(PubMedConfReversed,[128],GCNConv,runs=100,epochs=200)\n",
    "print('Mono accuracy: {:.4f}+-{:.4f}'.format(monogcn,monogcnstd))"
   ]
  },
  {
   "cell_type": "code",
   "execution_count": 16,
   "metadata": {},
   "outputs": [
    {
     "name": "stdout",
     "output_type": "stream",
     "text": [
      "Elaplsed 00:04:44\n",
      "Mono accuracy: 0.7026+-0.0108\n",
      "Elaplsed 00:03:35\n",
      "Mono accuracy: 0.6541+-0.0190\n"
     ]
    }
   ],
   "source": [
    "monogcn,monogcnstd,monogcns = eval_multiple(coraDirected,[128],GCNConv,runs=100,epochs=200)\n",
    "print('Mono accuracy: {:.4f}+-{:.4f}'.format(monogcn,monogcnstd))\n",
    "monogcn,monogcnstd,monogcns = eval_multiple(citeseerDirected,[128],GCNConv,runs=100,epochs=200)\n",
    "print('Mono accuracy: {:.4f}+-{:.4f}'.format(monogcn,monogcnstd))"
   ]
  },
  {
   "cell_type": "code",
   "execution_count": 13,
   "metadata": {},
   "outputs": [
    {
     "name": "stdout",
     "output_type": "stream",
     "text": [
      "Elaplsed 00:03:26\n",
      "Mono accuracy: 0.6575+-0.0075\n"
     ]
    }
   ],
   "source": [
    "monogcn,monogcnstd,monogcns = eval_multiple(PubMedDirected,[128],GCNConv,runs=100,epochs=200)\n",
    "print('Mono accuracy: {:.4f}+-{:.4f}'.format(monogcn,monogcnstd))"
   ]
  },
  {
   "cell_type": "code",
   "execution_count": 17,
   "metadata": {},
   "outputs": [
    {
     "name": "stdout",
     "output_type": "stream",
     "text": [
      "Elaplsed 00:03:17\n",
      "Mono accuracy: 0.6368+-0.0120\n",
      "Elaplsed 00:03:59\n",
      "Mono accuracy: 0.6290+-0.0104\n"
     ]
    }
   ],
   "source": [
    "monogcn,monogcnstd,monogcns = eval_multiple(coraReversed,[128],GCNConv,runs=100,epochs=200)\n",
    "print('Mono accuracy: {:.4f}+-{:.4f}'.format(monogcn,monogcnstd))\n",
    "monogcn,monogcnstd,monogcns = eval_multiple(citeseerReversed,[128],GCNConv,runs=100,epochs=200)\n",
    "print('Mono accuracy: {:.4f}+-{:.4f}'.format(monogcn,monogcnstd))"
   ]
  },
  {
   "cell_type": "code",
   "execution_count": 12,
   "metadata": {},
   "outputs": [
    {
     "name": "stdout",
     "output_type": "stream",
     "text": [
      "Elaplsed 00:02:57\n",
      "Mono accuracy: 0.6680+-0.0045\n"
     ]
    }
   ],
   "source": [
    "monogcn,monogcnstd,monogcns = eval_multiple(PubMedReversed,[128],GCNConv,runs=100,epochs=200)\n",
    "print('Mono accuracy: {:.4f}+-{:.4f}'.format(monogcn,monogcnstd))"
   ]
  },
  {
   "cell_type": "code",
   "execution_count": 23,
   "metadata": {},
   "outputs": [
    {
     "name": "stdout",
     "output_type": "stream",
     "text": [
      "Elaplsed 00:02:38\n",
      "Mono accuracy: 0.8093\n",
      "Elaplsed 00:02:05\n",
      "Bi   accuracy: 0.8049\n",
      "Elaplsed 00:02:05\n",
      "Tri  accuracy: 0.8021\n",
      "Elaplsed 00:02:31\n",
      "Mono accuracy: 0.7212\n",
      "Elaplsed 00:02:15\n",
      "Bi   accuracy: 0.7189\n",
      "Elaplsed 00:02:27\n",
      "Tri  accuracy: 0.7179\n",
      "Elaplsed 00:03:57\n",
      "Mono accuracy: 0.7734\n",
      "Elaplsed 00:02:50\n",
      "Bi   accuracy: 0.7721\n",
      "Elaplsed 00:02:32\n",
      "Tri  accuracy: 0.7716\n"
     ]
    }
   ],
   "source": [
    "eval_all(GCNConv,cora,[128],[64],[42])\n",
    "eval_all(GCNConv,citeseer,[128],[64],[42])\n",
    "eval_all(GCNConv,PubMed,[128],[64],[42],runs=100)"
   ]
  },
  {
   "cell_type": "code",
   "execution_count": 17,
   "metadata": {},
   "outputs": [
    {
     "name": "stdout",
     "output_type": "stream",
     "text": [
      "Elaplsed 00:03:11\n",
      "Mono accuracy: 0.8096\n",
      "Elaplsed 00:02:59\n",
      "Bi   accuracy: 0.8036\n",
      "Elaplsed 00:02:57\n",
      "Tri  accuracy: 0.8019\n"
     ]
    }
   ],
   "source": [
    "eval_all(GCNConv,cora,[128],[64],[42])"
   ]
  },
  {
   "cell_type": "code",
   "execution_count": 20,
   "metadata": {},
   "outputs": [
    {
     "name": "stdout",
     "output_type": "stream",
     "text": [
      "Elaplsed 00:03:45\n",
      "Mono accuracy: 0.7218\n",
      "Elaplsed 00:03:27\n",
      "Bi   accuracy: 0.7192\n",
      "Elaplsed 00:03:24\n",
      "Tri  accuracy: 0.7171\n"
     ]
    }
   ],
   "source": [
    "eval_all(GCNConv,citeseer,[128],[64],[42])"
   ]
  },
  {
   "cell_type": "code",
   "execution_count": 8,
   "metadata": {},
   "outputs": [
    {
     "name": "stdout",
     "output_type": "stream",
     "text": [
      "Elaplsed 00:05:03\n",
      "Mono accuracy: 0.7729\n",
      "Elaplsed 00:07:13\n",
      "Bi   accuracy: 0.7725\n",
      "Elaplsed 00:03:11\n",
      "Tri  accuracy: 0.7720\n"
     ]
    }
   ],
   "source": [
    "eval_all(GCNConv,PubMed,[128],[64],[42],runs=100)"
   ]
  },
  {
   "cell_type": "markdown",
   "metadata": {},
   "source": [
    "### SAGE"
   ]
  },
  {
   "cell_type": "code",
   "execution_count": 33,
   "metadata": {},
   "outputs": [
    {
     "name": "stdout",
     "output_type": "stream",
     "text": [
      "Elaplsed 00:01:40\n",
      "Mono accuracy: 0.7320+-0.0113\n",
      "Elaplsed 00:02:03\n",
      "Mono accuracy: 0.6821+-0.0112\n"
     ]
    }
   ],
   "source": [
    "monogcn,monogcnstd,monogcns = eval_multiple(coraDirected,[128],SAGEConv,lr=0.1,wd=1e-5,runs=100,epochs=200)\n",
    "print('Mono accuracy: {:.4f}+-{:.4f}'.format(monogcn,monogcnstd))\n",
    "monogcn,monogcnstd,monogcns = eval_multiple(citeseerDirected,[128],SAGEConv,lr=0.1,wd=1e-5,runs=100,epochs=200)\n",
    "print('Mono accuracy: {:.4f}+-{:.4f}'.format(monogcn,monogcnstd))"
   ]
  },
  {
   "cell_type": "code",
   "execution_count": 15,
   "metadata": {},
   "outputs": [
    {
     "name": "stdout",
     "output_type": "stream",
     "text": [
      "Elaplsed 00:03:59\n",
      "Mono accuracy: 0.6816+-0.0090\n"
     ]
    }
   ],
   "source": [
    "monogcn,monogcnstd,monogcns = eval_multiple(PubMedDirected,[128],SAGEConv,lr=0.1,wd=1e-5,runs=100,epochs=200)\n",
    "print('Mono accuracy: {:.4f}+-{:.4f}'.format(monogcn,monogcnstd))"
   ]
  },
  {
   "cell_type": "code",
   "execution_count": 34,
   "metadata": {
    "scrolled": true
   },
   "outputs": [
    {
     "name": "stdout",
     "output_type": "stream",
     "text": [
      "Elaplsed 00:01:40\n",
      "Mono accuracy: 0.6675+-0.0126\n",
      "Elaplsed 00:02:04\n",
      "Mono accuracy: 0.6229+-0.0239\n"
     ]
    }
   ],
   "source": [
    "monogcn,monogcnstd,monogcns = eval_multiple(coraReversed,[128],SAGEConv,lr=0.1,wd=1e-5,runs=100,epochs=200)\n",
    "print('Mono accuracy: {:.4f}+-{:.4f}'.format(monogcn,monogcnstd))\n",
    "monogcn,monogcnstd,monogcns = eval_multiple(citeseerReversed,[128],SAGEConv,lr=0.1,wd=1e-5,runs=100,epochs=200)\n",
    "print('Mono accuracy: {:.4f}+-{:.4f}'.format(monogcn,monogcnstd))\n"
   ]
  },
  {
   "cell_type": "code",
   "execution_count": 14,
   "metadata": {
    "scrolled": true
   },
   "outputs": [
    {
     "name": "stdout",
     "output_type": "stream",
     "text": [
      "Elaplsed 00:03:56\n",
      "Mono accuracy: 0.6921+-0.0092\n"
     ]
    }
   ],
   "source": [
    "monogcn,monogcnstd,monogcns = eval_multiple(PubMedReversed,[128],SAGEConv,lr=0.1,wd=1e-5,runs=100,epochs=200)\n",
    "print('Mono accuracy: {:.4f}+-{:.4f}'.format(monogcn,monogcnstd))"
   ]
  },
  {
   "cell_type": "code",
   "execution_count": 35,
   "metadata": {},
   "outputs": [
    {
     "name": "stdout",
     "output_type": "stream",
     "text": [
      "Elaplsed 00:01:47\n",
      "Mono accuracy: 0.2034+-0.0435\n",
      "Elaplsed 00:02:07\n",
      "Mono accuracy: 0.2685+-0.0209\n",
      "Elaplsed 00:03:10\n",
      "Mono accuracy: 0.4124+-0.0173\n"
     ]
    }
   ],
   "source": [
    "monogcn,monogcnstd,monogcns = eval_multiple(coraConfDirected,[128],SAGEConv,lr=0.1,wd=1e-5,runs=100,epochs=200)\n",
    "print('Mono accuracy: {:.4f}+-{:.4f}'.format(monogcn,monogcnstd))\n",
    "monogcn,monogcnstd,monogcns = eval_multiple(citeseerConfDirected,[128],SAGEConv,lr=0.1,wd=1e-5,runs=100,epochs=200)\n",
    "print('Mono accuracy: {:.4f}+-{:.4f}'.format(monogcn,monogcnstd))\n",
    "monogcn,monogcnstd,monogcns = eval_multiple(PubMedConfDirected,[128],SAGEConv,lr=0.1,wd=1e-5,runs=100,epochs=200)\n",
    "print('Mono accuracy: {:.4f}+-{:.4f}'.format(monogcn,monogcnstd))"
   ]
  },
  {
   "cell_type": "code",
   "execution_count": 37,
   "metadata": {},
   "outputs": [
    {
     "name": "stdout",
     "output_type": "stream",
     "text": [
      "Elaplsed 00:00:53\n",
      "Mono accuracy: 0.2674+-0.0215\n",
      "Elaplsed 00:01:03\n",
      "Mono accuracy: 0.2658+-0.0173\n",
      "Elaplsed 00:01:34\n",
      "Mono accuracy: 0.5926+-0.0099\n"
     ]
    }
   ],
   "source": [
    "monogcn,monogcnstd,monogcns = eval_multiple(coraConfReversed,[128],SAGEConv,lr=0.1,wd=1e-5,runs=50,epochs=200)\n",
    "print('Mono accuracy: {:.4f}+-{:.4f}'.format(monogcn,monogcnstd))\n",
    "monogcn,monogcnstd,monogcns = eval_multiple(citeseerConfReversed,[128],SAGEConv,lr=0.1,wd=1e-5,runs=50,epochs=200)\n",
    "print('Mono accuracy: {:.4f}+-{:.4f}'.format(monogcn,monogcnstd))\n",
    "monogcn,monogcnstd,monogcns = eval_multiple(PubMedConfReversed,[128],SAGEConv,lr=0.1,wd=1e-5,runs=50,epochs=200)\n",
    "print('Mono accuracy: {:.4f}+-{:.4f}'.format(monogcn,monogcnstd))"
   ]
  },
  {
   "cell_type": "code",
   "execution_count": 41,
   "metadata": {},
   "outputs": [
    {
     "name": "stdout",
     "output_type": "stream",
     "text": [
      "Elaplsed 00:00:53\n",
      "Mono accuracy: 0.2650+-0.0194\n",
      "Elaplsed 00:00:54\n",
      "Bi   accuracy: 0.3101+-0.0153\n",
      "Elaplsed 00:00:54\n",
      "Tri  accuracy: 0.3042+-0.0176\n",
      "Elaplsed 00:01:04\n",
      "Mono accuracy: 0.3002+-0.0312\n",
      "Elaplsed 00:00:56\n",
      "Bi   accuracy: 0.3455+-0.0201\n",
      "Elaplsed 00:00:54\n",
      "Tri  accuracy: 0.3403+-0.0144\n",
      "Elaplsed 00:01:44\n",
      "Mono accuracy: 0.4851+-0.0149\n",
      "Elaplsed 00:01:15\n",
      "Bi   accuracy: 0.4836+-0.0155\n",
      "Elaplsed 00:01:06\n",
      "Tri  accuracy: 0.4838+-0.0158\n"
     ]
    }
   ],
   "source": [
    "eval_all_SAGE(coraConf,[128],[64],[42],runs=50)\n",
    "eval_all_SAGE(citeseerConf,[128],[64],[42],runs=50)\n",
    "eval_all_SAGE(PubMedConf,[128],[64],[42],runs=50)"
   ]
  },
  {
   "cell_type": "code",
   "execution_count": 19,
   "metadata": {
    "scrolled": false
   },
   "outputs": [
    {
     "name": "stdout",
     "output_type": "stream",
     "text": [
      "Elaplsed 00:02:19\n",
      "Mono accuracy: 0.8045\n",
      "Elaplsed 00:02:27\n",
      "Bi   accuracy: 0.8005\n",
      "Elaplsed 00:03:13\n",
      "Tri  accuracy: 0.7979\n"
     ]
    }
   ],
   "source": [
    "eval_all_SAGE(cora,[128],[64],[42])"
   ]
  },
  {
   "cell_type": "code",
   "execution_count": 20,
   "metadata": {},
   "outputs": [
    {
     "name": "stdout",
     "output_type": "stream",
     "text": [
      "Elaplsed 00:04:00\n",
      "Mono accuracy: 0.7214\n",
      "Elaplsed 00:04:43\n",
      "Bi   accuracy: 0.7300\n",
      "Elaplsed 00:04:33\n",
      "Tri  accuracy: 0.7273\n"
     ]
    }
   ],
   "source": [
    "eval_all_SAGE(citeseer,[128],[64],[42])"
   ]
  },
  {
   "cell_type": "code",
   "execution_count": 21,
   "metadata": {},
   "outputs": [
    {
     "name": "stdout",
     "output_type": "stream",
     "text": [
      "Elaplsed 00:08:02\n",
      "Mono accuracy: 0.7707\n",
      "Elaplsed 00:06:13\n",
      "Bi   accuracy: 0.7764\n",
      "Elaplsed 00:04:54\n",
      "Tri  accuracy: 0.7783\n"
     ]
    }
   ],
   "source": [
    "eval_all_SAGE(PubMed,[128],[64],[42],runs=100)"
   ]
  },
  {
   "cell_type": "markdown",
   "metadata": {},
   "source": [
    "OLD"
   ]
  },
  {
   "cell_type": "code",
   "execution_count": 22,
   "metadata": {
    "scrolled": true
   },
   "outputs": [
    {
     "name": "stdout",
     "output_type": "stream",
     "text": [
      "Elaplsed 00:02:21\n",
      "Mono accuracy: 0.8029\n",
      "Elaplsed 00:02:18\n",
      "Bi   accuracy: 0.7998\n",
      "Elaplsed 00:02:19\n",
      "Tri  accuracy: 0.8003\n"
     ]
    }
   ],
   "source": [
    "eval_all(SAGEConv,cora,[128],[64],[42])"
   ]
  },
  {
   "cell_type": "code",
   "execution_count": 23,
   "metadata": {},
   "outputs": [
    {
     "name": "stdout",
     "output_type": "stream",
     "text": [
      "Elaplsed 00:02:42\n",
      "Mono accuracy: 0.7196\n",
      "Elaplsed 00:01:48\n",
      "Bi   accuracy: 0.7164\n",
      "Elaplsed 00:01:43\n",
      "Tri  accuracy: 0.7122\n"
     ]
    }
   ],
   "source": [
    "eval_all(SAGEConv,citeseer,[128],[64],[42])"
   ]
  },
  {
   "cell_type": "code",
   "execution_count": 9,
   "metadata": {
    "scrolled": true
   },
   "outputs": [
    {
     "name": "stdout",
     "output_type": "stream",
     "text": [
      "Elaplsed 00:04:16\n",
      "Mono accuracy: 0.7728\n",
      "Elaplsed 00:06:08\n",
      "Bi   accuracy: 0.7702\n",
      "Elaplsed 00:06:08\n",
      "Tri  accuracy: 0.7703\n"
     ]
    }
   ],
   "source": [
    "eval_all(SAGEConv,PubMed,[128],[64],[42],runs=100)"
   ]
  },
  {
   "cell_type": "markdown",
   "metadata": {},
   "source": [
    "---------------------------------------- The rest is test --------------------------------------------"
   ]
  },
  {
   "cell_type": "code",
   "execution_count": 15,
   "metadata": {
    "scrolled": true
   },
   "outputs": [
    {
     "name": "stdout",
     "output_type": "stream",
     "text": [
      "Elaplsed 00:03:13\n",
      "Mono accuracy: 0.7970\n",
      "Elaplsed 00:03:03\n",
      "Bi   accuracy: 0.7813\n",
      "Elaplsed 00:03:03\n",
      "Tri  accuracy: 0.7425\n"
     ]
    }
   ],
   "source": [
    "eval_all(GCNConv,cora,[16],[8],[5])"
   ]
  },
  {
   "cell_type": "code",
   "execution_count": 16,
   "metadata": {},
   "outputs": [
    {
     "name": "stdout",
     "output_type": "stream",
     "text": [
      "Elaplsed 00:03:05\n",
      "Mono accuracy: 0.8043\n",
      "Elaplsed 00:03:03\n",
      "Bi   accuracy: 0.8017\n",
      "Elaplsed 00:03:04\n",
      "Tri  accuracy: 0.7995\n"
     ]
    }
   ],
   "source": [
    "eval_all(GCNConv,cora,[64],[32],[20])"
   ]
  },
  {
   "cell_type": "markdown",
   "metadata": {},
   "source": []
  },
  {
   "cell_type": "code",
   "execution_count": 18,
   "metadata": {},
   "outputs": [
    {
     "name": "stdout",
     "output_type": "stream",
     "text": [
      "Elaplsed 00:03:01\n",
      "Mono accuracy: 0.7175\n",
      "Elaplsed 00:03:01\n",
      "Bi   accuracy: 0.7054\n",
      "Elaplsed 00:03:05\n",
      "Tri  accuracy: 0.6618\n"
     ]
    }
   ],
   "source": [
    "eval_all(GCNConv,citeseer,[16],[8],[5])"
   ]
  },
  {
   "cell_type": "code",
   "execution_count": 19,
   "metadata": {},
   "outputs": [
    {
     "name": "stdout",
     "output_type": "stream",
     "text": [
      "Elaplsed 00:03:38\n",
      "Mono accuracy: 0.7197\n",
      "Elaplsed 00:03:15\n",
      "Bi   accuracy: 0.7170\n",
      "Elaplsed 00:03:12\n",
      "Tri  accuracy: 0.7186\n"
     ]
    }
   ],
   "source": [
    "eval_all(GCNConv,citeseer,[64],[32],[20])"
   ]
  },
  {
   "cell_type": "code",
   "execution_count": null,
   "metadata": {},
   "outputs": [],
   "source": []
  },
  {
   "cell_type": "code",
   "execution_count": null,
   "metadata": {},
   "outputs": [],
   "source": []
  }
 ],
 "metadata": {
  "kernelspec": {
   "display_name": "Python 3",
   "language": "python",
   "name": "python3"
  },
  "language_info": {
   "codemirror_mode": {
    "name": "ipython",
    "version": 3
   },
   "file_extension": ".py",
   "mimetype": "text/x-python",
   "name": "python",
   "nbconvert_exporter": "python",
   "pygments_lexer": "ipython3",
   "version": "3.7.5"
  }
 },
 "nbformat": 4,
 "nbformat_minor": 2
}
