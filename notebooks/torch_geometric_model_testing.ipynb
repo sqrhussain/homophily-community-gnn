{
 "cells": [
  {
   "cell_type": "code",
   "execution_count": 1,
   "metadata": {},
   "outputs": [],
   "source": [
    "# Let's start learning\n",
    "import torch\n",
    "from torch_geometric.datasets import Planetoid\n",
    "from cora_loader import CitationNetwork,CocitationNetwork\n",
    "from torch.utils.data import DataLoader\n",
    "from torch_geometric.nn import GCNConv,SAGEConv,GATConv,GraphConv,SGConv\n",
    "\n",
    "\n",
    "from torch_geometric_node2vec import Node2Vec\n",
    "\n",
    "# from models import MonoModel,BiModel,TriModel\n",
    "# from multi_layered_model import MonoModel\n",
    "from models_eval import eval_multiple,eval_multiple_bi,eval_multiple_tri,eval_multiple_tripre"
   ]
  },
  {
   "cell_type": "code",
   "execution_count": 4,
   "metadata": {},
   "outputs": [],
   "source": [
    "bib_cora = CocitationNetwork('/tmp/bib_cora','cora','bibcoupling')"
   ]
  },
  {
   "cell_type": "code",
   "execution_count": 5,
   "metadata": {},
   "outputs": [],
   "source": [
    "coc_cora = CocitationNetwork('/tmp/coc_cora','cora','cocitation')"
   ]
  },
  {
   "cell_type": "code",
   "execution_count": 6,
   "metadata": {},
   "outputs": [],
   "source": [
    "coc_citeseer = CocitationNetwork('/tmp/coc_citeseer','citeseer','cocitation')\n",
    "bib_citeseer = CocitationNetwork('/tmp/bib_citeseer','citeseer','bibcoupling')"
   ]
  },
  {
   "cell_type": "code",
   "execution_count": 3,
   "metadata": {},
   "outputs": [],
   "source": [
    "citeseer = CitationNetwork('/tmp/citeseer','citeseer',directed=False)"
   ]
  },
  {
   "cell_type": "code",
   "execution_count": 2,
   "metadata": {},
   "outputs": [],
   "source": [
    "cora = CitationNetwork('/tmp/cora','cora',directed=False)"
   ]
  },
  {
   "cell_type": "code",
   "execution_count": 4,
   "metadata": {},
   "outputs": [],
   "source": [
    "def eval_all(conv,data,runs = 100,epochs=50):\n",
    "    monogcn,monogcns = eval_multiple(data,128,conv,runs=runs,epochs=epochs)\n",
    "    print('Mono accuracy: {:.4f}'.format(monogcn))\n",
    "    bigcn,bigcns = eval_multiple_bi(data,64,64,conv,runs=runs,epochs=epochs)\n",
    "    print('Bi   accuracy: {:.4f}'.format(bigcn))\n",
    "    trigcn,trigcns = eval_multiple_tri(data,64,32,32,conv,runs=runs,epochs=epochs)\n",
    "    print('Tri  accuracy: {:.4f}'.format(trigcn))"
   ]
  },
  {
   "cell_type": "code",
   "execution_count": 11,
   "metadata": {},
   "outputs": [
    {
     "name": "stdout",
     "output_type": "stream",
     "text": [
      "Processing...\n",
      "Done!\n",
      "Processing...\n",
      "Done!\n"
     ]
    }
   ],
   "source": [
    "coraDirected = CitationNetwork('/tmp/coraDirected','cora',directed=True)\n",
    "coraReversed = CitationNetwork('/tmp/coraReversed','cora',directed=True,reverse=True)\n",
    "citeseerDirected = CitationNetwork('/tmp/citeseerDirected','citeseer',directed=True)\n",
    "citeseerReversed = CitationNetwork('/tmp/citeseerReversed','citeseer',directed=True,reverse=True)"
   ]
  },
  {
   "cell_type": "code",
   "execution_count": 5,
   "metadata": {},
   "outputs": [
    {
     "name": "stdout",
     "output_type": "stream",
     "text": [
      "Elaplsed 00:01:33\n",
      "cora accuracy: 0.8013\n"
     ]
    }
   ],
   "source": [
    "print('cora accuracy: {:.4f}'.format(\n",
    "    eval_multiple(cora,128,GCNConv,runs=100,epochs=200)[0]))"
   ]
  },
  {
   "cell_type": "code",
   "execution_count": 7,
   "metadata": {},
   "outputs": [
    {
     "name": "stdout",
     "output_type": "stream",
     "text": [
      "Elaplsed 00:01:13\n",
      "cora accuracy: 0.7640\n"
     ]
    }
   ],
   "source": [
    "print('cora accuracy: {:.4f}'.format(\n",
    "    eval_multiple(cora,128,SAGEConv,runs=100,epochs=200)[0]))"
   ]
  },
  {
   "cell_type": "code",
   "execution_count": null,
   "metadata": {},
   "outputs": [],
   "source": [
    "print('cora accuracy: {:.4f}'.format(\n",
    "    eval_multiple(cora,128,GCNConv,runs=100,epochs=200)[0]))"
   ]
  },
  {
   "cell_type": "markdown",
   "metadata": {},
   "source": [
    "## Directed"
   ]
  },
  {
   "cell_type": "code",
   "execution_count": 13,
   "metadata": {
    "scrolled": true
   },
   "outputs": [
    {
     "name": "stdout",
     "output_type": "stream",
     "text": [
      "Elaplsed 00:01:42\n",
      "coraDirected accuracy: 0.5709\n"
     ]
    }
   ],
   "source": [
    "print('coraDirected accuracy: {:.4f}'.format(\n",
    "    eval_multiple(coraDirected,128,GCNConv,runs=100,epochs=200)[0]))"
   ]
  },
  {
   "cell_type": "code",
   "execution_count": 14,
   "metadata": {},
   "outputs": [
    {
     "name": "stdout",
     "output_type": "stream",
     "text": [
      "Elaplsed 00:02:04\n",
      "citeseerDirected accuracy: 0.5881\n"
     ]
    }
   ],
   "source": [
    "print('citeseerDirected accuracy: {:.4f}'.format(\n",
    "    eval_multiple(citeseerDirected,128,GCNConv,runs=100,epochs=200)[0]))"
   ]
  },
  {
   "cell_type": "markdown",
   "metadata": {},
   "source": [
    "## Reversed"
   ]
  },
  {
   "cell_type": "code",
   "execution_count": 15,
   "metadata": {},
   "outputs": [
    {
     "name": "stdout",
     "output_type": "stream",
     "text": [
      "Elaplsed 00:05:32\n",
      "coraReversed accuracy: 0.5970\n"
     ]
    }
   ],
   "source": [
    "print('coraReversed accuracy: {:.4f}'.format(\n",
    "    eval_multiple(coraReversed,128,GCNConv,runs=100,epochs=200)[0]))"
   ]
  },
  {
   "cell_type": "code",
   "execution_count": 16,
   "metadata": {},
   "outputs": [
    {
     "name": "stdout",
     "output_type": "stream",
     "text": [
      "Elaplsed 00:01:39\n",
      "citeseerReversed accuracy: 0.5547\n"
     ]
    }
   ],
   "source": [
    "print('citeseerReversed accuracy: {:.4f}'.format(\n",
    "    eval_multiple(citeseerReversed,128,GCNConv,runs=100,epochs=200)[0]))"
   ]
  },
  {
   "cell_type": "markdown",
   "metadata": {},
   "source": [
    "## Undirected"
   ]
  },
  {
   "cell_type": "code",
   "execution_count": 15,
   "metadata": {
    "scrolled": false
   },
   "outputs": [
    {
     "name": "stdout",
     "output_type": "stream",
     "text": [
      "Elaplsed 00:01:17\n",
      "Mono accuracy: 0.8011\n",
      "Elaplsed 00:01:50\n",
      "Bi   accuracy: 0.8071\n",
      "Elaplsed 00:02:19\n",
      "Tri  accuracy: 0.8061\n"
     ]
    }
   ],
   "source": [
    "eval_all(GCNConv,cora,100,200)"
   ]
  },
  {
   "cell_type": "code",
   "execution_count": 16,
   "metadata": {
    "scrolled": false
   },
   "outputs": [
    {
     "name": "stdout",
     "output_type": "stream",
     "text": [
      "Elaplsed 00:01:31\n",
      "Mono accuracy: 0.7223\n",
      "Elaplsed 00:02:02\n",
      "Bi   accuracy: 0.7184\n",
      "Elaplsed 00:02:25\n",
      "Tri  accuracy: 0.7201\n"
     ]
    }
   ],
   "source": [
    "eval_all(GCNConv,citeseer,100,200)"
   ]
  },
  {
   "cell_type": "markdown",
   "metadata": {},
   "source": [
    "## Cocitation"
   ]
  },
  {
   "cell_type": "code",
   "execution_count": 10,
   "metadata": {
    "scrolled": true
   },
   "outputs": [
    {
     "name": "stdout",
     "output_type": "stream",
     "text": [
      "Elaplsed 00:00:10\n",
      "Mono accuracy: 0.7045\n",
      "Elaplsed 00:00:11\n",
      "Bi   accuracy: 0.7111\n",
      "Elaplsed 00:00:14\n",
      "Tri  accuracy: 0.7072\n"
     ]
    }
   ],
   "source": [
    "eval_all(GCNConv,coc_cora,10,200)"
   ]
  },
  {
   "cell_type": "code",
   "execution_count": 13,
   "metadata": {
    "scrolled": true
   },
   "outputs": [
    {
     "name": "stdout",
     "output_type": "stream",
     "text": [
      "Elaplsed 00:00:10\n",
      "Mono accuracy: 0.6969\n",
      "Elaplsed 00:00:11\n",
      "Bi   accuracy: 0.6998\n",
      "Elaplsed 00:00:14\n",
      "Tri  accuracy: 0.7015\n"
     ]
    }
   ],
   "source": [
    "eval_all(GCNConv,coc_citeseer,10,200)"
   ]
  },
  {
   "cell_type": "markdown",
   "metadata": {},
   "source": [
    "## Bibliographic coupling"
   ]
  },
  {
   "cell_type": "code",
   "execution_count": 11,
   "metadata": {
    "scrolled": true
   },
   "outputs": [
    {
     "name": "stdout",
     "output_type": "stream",
     "text": [
      "Elaplsed 00:00:08\n",
      "Mono accuracy: 0.6882\n",
      "Elaplsed 00:00:10\n",
      "Bi   accuracy: 0.6809\n",
      "Elaplsed 00:00:13\n",
      "Tri  accuracy: 0.6887\n"
     ]
    }
   ],
   "source": [
    "eval_all(GCNConv,bib_cora,10,200)"
   ]
  },
  {
   "cell_type": "code",
   "execution_count": 14,
   "metadata": {
    "scrolled": true
   },
   "outputs": [
    {
     "name": "stdout",
     "output_type": "stream",
     "text": [
      "Elaplsed 00:00:09\n",
      "Mono accuracy: 0.6721\n",
      "Elaplsed 00:00:11\n",
      "Bi   accuracy: 0.6674\n",
      "Elaplsed 00:00:14\n",
      "Tri  accuracy: 0.6664\n"
     ]
    }
   ],
   "source": [
    "eval_all(GCNConv,bib_citeseer,10,200)"
   ]
  },
  {
   "cell_type": "markdown",
   "metadata": {},
   "source": [
    "## More epochs"
   ]
  },
  {
   "cell_type": "code",
   "execution_count": 18,
   "metadata": {
    "scrolled": false
   },
   "outputs": [
    {
     "name": "stdout",
     "output_type": "stream",
     "text": [
      "Elaplsed 00:03:21\n",
      "Mono accuracy: 0.7991\n",
      "Elaplsed 00:04:34\n",
      "Bi   accuracy: 0.8029\n",
      "Elaplsed 00:05:44\n",
      "Tri  accuracy: 0.8033\n"
     ]
    }
   ],
   "source": [
    "eval_all(GCNConv,cora,100,500)"
   ]
  },
  {
   "cell_type": "code",
   "execution_count": 19,
   "metadata": {},
   "outputs": [
    {
     "name": "stdout",
     "output_type": "stream",
     "text": [
      "Elaplsed 00:03:46\n",
      "Mono accuracy: 0.7203\n",
      "Elaplsed 00:04:57\n",
      "Bi   accuracy: 0.7163\n",
      "Elaplsed 00:05:57\n",
      "Tri  accuracy: 0.7162\n"
     ]
    }
   ],
   "source": [
    "eval_all(GCNConv,citeseer,100,500)"
   ]
  },
  {
   "cell_type": "markdown",
   "metadata": {},
   "source": [
    "## Other models"
   ]
  },
  {
   "cell_type": "code",
   "execution_count": 28,
   "metadata": {
    "scrolled": true
   },
   "outputs": [
    {
     "name": "stdout",
     "output_type": "stream",
     "text": [
      "Elaplsed 00:00:17\n",
      "Mono accuracy: 0.7814\n",
      "Elaplsed 00:00:24\n",
      "Bi   accuracy: 0.7728\n",
      "Elaplsed 00:00:30\n",
      "Tri  accuracy: 0.7774\n"
     ]
    }
   ],
   "source": [
    "eval_all(SAGEConv,100)"
   ]
  },
  {
   "cell_type": "code",
   "execution_count": 33,
   "metadata": {},
   "outputs": [
    {
     "name": "stdout",
     "output_type": "stream",
     "text": [
      "Elaplsed 00:00:56\n",
      "Mono accuracy: 0.7532\n",
      "Elaplsed 00:01:23\n",
      "Bi   accuracy: 0.7680\n",
      "Elaplsed 00:01:47\n",
      "Tri  accuracy: 0.7707\n"
     ]
    }
   ],
   "source": [
    "eval_all(GATConv,100)"
   ]
  },
  {
   "cell_type": "code",
   "execution_count": 30,
   "metadata": {},
   "outputs": [
    {
     "name": "stdout",
     "output_type": "stream",
     "text": [
      "Elaplsed 00:00:13\n",
      "Mono accuracy: 0.7496\n",
      "Elaplsed 00:00:20\n",
      "Bi   accuracy: 0.7304\n",
      "Elaplsed 00:00:34\n",
      "Tri  accuracy: 0.7425\n"
     ]
    }
   ],
   "source": [
    "eval_all(GraphConv,100)"
   ]
  },
  {
   "cell_type": "code",
   "execution_count": 32,
   "metadata": {},
   "outputs": [
    {
     "name": "stdout",
     "output_type": "stream",
     "text": [
      "Elaplsed 00:00:32\n",
      "Mono accuracy: 0.7960\n",
      "Elaplsed 00:00:47\n",
      "Bi   accuracy: 0.7823\n",
      "Elaplsed 00:00:58\n",
      "Tri  accuracy: 0.7865\n"
     ]
    }
   ],
   "source": [
    "eval_all(SGConv,100)"
   ]
  },
  {
   "cell_type": "code",
   "execution_count": 40,
   "metadata": {
    "scrolled": true
   },
   "outputs": [
    {
     "name": "stdout",
     "output_type": "stream",
     "text": [
      "Elaplsed 00:00:34\n",
      "Mono accuracy: 0.7978\n",
      "Elaplsed 00:00:59\n",
      "Tri  accuracy: 0.7970\n",
      "Elaplsed 00:00:58\n",
      "Tri  accuracy: 0.7973\n"
     ]
    }
   ],
   "source": [
    "monogcn,monogcns = eval_multiple(coraUndirected,128,GCNConv,runs=100)\n",
    "print('Mono accuracy: {:.4f}'.format(monogcn))\n",
    "trigcn,trigcns = eval_multiple_tri(coraUndirected,128,8,8,GCNConv,runs=100)\n",
    "print('Tri  accuracy: {:.4f}'.format(trigcn))\n",
    "trigcn,trigcns = eval_multiple_tri(coraUndirected,128,1,1,GCNConv,runs=100)\n",
    "print('Tri  accuracy: {:.4f}'.format(trigcn))"
   ]
  },
  {
   "cell_type": "code",
   "execution_count": 42,
   "metadata": {},
   "outputs": [
    {
     "name": "stdout",
     "output_type": "stream",
     "text": [
      "Elaplsed 00:00:59\n",
      "Tri  accuracy: 0.7978\n"
     ]
    }
   ],
   "source": [
    "trigcn,trigcns = eval_multiple_tri(coraUndirected,112,8,8,GCNConv,runs=100)\n",
    "print('Tri  accuracy: {:.4f}'.format(trigcn))"
   ]
  },
  {
   "cell_type": "code",
   "execution_count": 43,
   "metadata": {},
   "outputs": [
    {
     "name": "stdout",
     "output_type": "stream",
     "text": [
      "Elaplsed 00:00:59\n",
      "Tri  accuracy: 0.7977\n"
     ]
    }
   ],
   "source": [
    "trigcn,trigcns = eval_multiple_tri(coraUndirected,64,32,32,GCNConv,runs=100)\n",
    "print('Tri  accuracy: {:.4f}'.format(trigcn))"
   ]
  },
  {
   "cell_type": "code",
   "execution_count": null,
   "metadata": {},
   "outputs": [],
   "source": []
  }
 ],
 "metadata": {
  "kernelspec": {
   "display_name": "Python 3",
   "language": "python",
   "name": "python3"
  },
  "language_info": {
   "codemirror_mode": {
    "name": "ipython",
    "version": 3
   },
   "file_extension": ".py",
   "mimetype": "text/x-python",
   "name": "python",
   "nbconvert_exporter": "python",
   "pygments_lexer": "ipython3",
   "version": "3.7.3"
  }
 },
 "nbformat": 4,
 "nbformat_minor": 2
}
