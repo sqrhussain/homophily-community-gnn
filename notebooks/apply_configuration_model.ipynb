{
 "cells": [
  {
   "cell_type": "code",
   "execution_count": 2,
   "metadata": {},
   "outputs": [],
   "source": [
    "import networkx as nx\n",
    "from networkx.utils import powerlaw_sequence"
   ]
  },
  {
   "cell_type": "code",
   "execution_count": 2,
   "metadata": {},
   "outputs": [],
   "source": [
    "cora=nx.read_edgelist(\"../data/raw/cora/cora.cites\",create_using=nx.DiGraph())\n",
    "din=list(cora.in_degree().values())\n",
    "dout=list(cora.out_degree().values())\n",
    "coraNoisy=nx.directed_configuration_model(din,dout,create_using=nx.DiGraph())"
   ]
  },
  {
   "cell_type": "code",
   "execution_count": 3,
   "metadata": {},
   "outputs": [],
   "source": [
    "cora_mapping = dict(zip(range(len(cora.nodes())),cora.in_degree().keys()))"
   ]
  },
  {
   "cell_type": "code",
   "execution_count": 4,
   "metadata": {},
   "outputs": [],
   "source": [
    "cora_rev_mapping = dict(zip(cora.in_degree().keys(),range(len(cora.nodes()))))"
   ]
  },
  {
   "cell_type": "code",
   "execution_count": 5,
   "metadata": {},
   "outputs": [],
   "source": [
    "coraNoisy = nx.relabel_nodes(coraNoisy,cora_mapping)"
   ]
  },
  {
   "cell_type": "code",
   "execution_count": 11,
   "metadata": {},
   "outputs": [],
   "source": [
    "nx.write_edgelist(coraNoisy,'../data/processed/conf_model/cora/cora.cites')"
   ]
  },
  {
   "cell_type": "code",
   "execution_count": 6,
   "metadata": {},
   "outputs": [],
   "source": [
    "citeseer=nx.read_edgelist(\"../data/raw/citeseer/citeseer.cites\",create_using=nx.DiGraph())\n",
    "din=list(citeseer.in_degree().values())\n",
    "dout=list(citeseer.out_degree().values())\n",
    "citeseerNoisy=nx.directed_configuration_model(din,dout,create_using=nx.DiGraph())"
   ]
  },
  {
   "cell_type": "code",
   "execution_count": 7,
   "metadata": {},
   "outputs": [],
   "source": [
    "citeseer_mapping = dict(zip(range(len(citeseer.nodes())),citeseer.in_degree().keys()))"
   ]
  },
  {
   "cell_type": "code",
   "execution_count": 8,
   "metadata": {},
   "outputs": [],
   "source": [
    "citeseer_rev_mapping = dict(zip(citeseer.in_degree().keys(),range(len(citeseer.nodes()))))"
   ]
  },
  {
   "cell_type": "code",
   "execution_count": 9,
   "metadata": {},
   "outputs": [],
   "source": [
    "citeseerNoisy = nx.relabel_nodes(citeseerNoisy,citeseer_mapping)"
   ]
  },
  {
   "cell_type": "code",
   "execution_count": 10,
   "metadata": {},
   "outputs": [],
   "source": [
    "nx.write_edgelist(citeseerNoisy,'../data/processed/conf_model/citeseer/citeseer.cites')"
   ]
  },
  {
   "cell_type": "code",
   "execution_count": 4,
   "metadata": {},
   "outputs": [],
   "source": [
    "PubMed=nx.read_edgelist(\"../data/raw/PubMed/PubMed.cites\",create_using=nx.DiGraph())\n",
    "din=list(PubMed.in_degree().values())\n",
    "dout=list(PubMed.out_degree().values())\n",
    "PubMedNoisy=nx.directed_configuration_model(din,dout,create_using=nx.DiGraph())\n",
    "PubMed_mapping = dict(zip(range(len(PubMed.nodes())),PubMed.in_degree().keys()))\n",
    "PubMed_rev_mapping = dict(zip(PubMed.in_degree().keys(),range(len(PubMed.nodes()))))\n",
    "PubMedNoisy = nx.relabel_nodes(PubMedNoisy,PubMed_mapping)\n",
    "nx.write_edgelist(PubMedNoisy,'../data/processed/conf_model/PubMed/PubMed.cites')"
   ]
  },
  {
   "cell_type": "code",
   "execution_count": null,
   "metadata": {},
   "outputs": [],
   "source": []
  }
 ],
 "metadata": {
  "kernelspec": {
   "display_name": "Python 3",
   "language": "python",
   "name": "python3"
  },
  "language_info": {
   "codemirror_mode": {
    "name": "ipython",
    "version": 3
   },
   "file_extension": ".py",
   "mimetype": "text/x-python",
   "name": "python",
   "nbconvert_exporter": "python",
   "pygments_lexer": "ipython3",
   "version": "3.7.3"
  }
 },
 "nbformat": 4,
 "nbformat_minor": 2
}
