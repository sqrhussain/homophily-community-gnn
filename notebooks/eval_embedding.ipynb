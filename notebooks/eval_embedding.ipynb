{
 "cells": [
  {
   "cell_type": "code",
   "execution_count": 1,
   "metadata": {},
   "outputs": [],
   "source": [
    "import torch\n",
    "import numpy as np\n",
    "import pandas as pd\n",
    "from torch_geometric.utils import remove_self_loops\n",
    "from torch_sparse import coalesce\n",
    "from random import sample, seed\n",
    "from torch_geometric.data import Data\n",
    "from torch_geometric_node2vec import Node2Vec"
   ]
  },
  {
   "cell_type": "code",
   "execution_count": 2,
   "metadata": {},
   "outputs": [],
   "source": [
    "def load_embedding(embFile,featFile = None):\n",
    "    xDict = {}\n",
    "    yDict = {}\n",
    "    \n",
    "    rename_class = {}\n",
    "    cnt_class = 0\n",
    "    with open(featFile, 'r') as f:\n",
    "        for line in f:\n",
    "            s = line.split()\n",
    "            id = s[0]\n",
    "            emb = [float(x) for x in s[1:-1]]\n",
    "            xDict[id] = emb\n",
    "            if s[-1] not in rename_class:\n",
    "                rename_class[s[-1]] = cnt_class\n",
    "                cnt_class += 1\n",
    "            yDict[id] = rename_class[s[-1]]\n",
    "\n",
    "    rename_id={}\n",
    "    cnt = 0\n",
    "    for k in xDict.keys():\n",
    "        rename_id[cnt] = k\n",
    "        cnt += 1\n",
    "            \n",
    "    # Read embedding\n",
    "    err = 0\n",
    "    with open(embFile, 'r') as f:\n",
    "        skip = True\n",
    "        for line in f:\n",
    "            s = line.split()\n",
    "            if skip and len(s)==2:\n",
    "                skip = False\n",
    "                continue\n",
    "            skip = False\n",
    "            id = s[0]\n",
    "            emb = [float(x) for x in s[1:]]\n",
    "            if id in xDict:\n",
    "                xDict[id] = xDict[id] + emb\n",
    "            else:\n",
    "                err +=1\n",
    "\n",
    "    print(err)\n",
    "\n",
    "    \n",
    "    x = []\n",
    "    target = []\n",
    "    err = 0\n",
    "    for i in range(cnt):\n",
    "#         if (len(xDict[rename_id[i]])!=1561):\n",
    "#             err+=1\n",
    "#             continue\n",
    "        x.append(np.array(xDict[rename_id[i]]))\n",
    "        target.append(yDict[rename_id[i]])\n",
    "    print(err)\n",
    "\n",
    "    \n",
    "    \n",
    "    x = torch.tensor(np.array(x),dtype=torch.float)\n",
    "    y = torch.tensor(np.array(target),dtype=torch.long)\n",
    "    \n",
    "    num_classes = len(set(target))\n",
    "    df = pd.DataFrame(target)\n",
    "    df.columns = ['target']\n",
    "    train = []\n",
    "    \n",
    "    n = len(target)\n",
    "    \n",
    "    seed(1)\n",
    "    for i in range(num_classes):\n",
    "        train = train + sample(df[df['target']==i].index.values.tolist() ,20)\n",
    "    rest = [i for i in range(n) if i not in train]\n",
    "    val = rest[:500]\n",
    "    test = rest[500:1500]\n",
    "    train_ind = [1 if i in train else 0 for i in range(n)]\n",
    "    val_ind = [1 if i in val else 0 for i in range(n)]\n",
    "    test_ind = [1 if i in test else 0 for i in range(n)]\n",
    "\n",
    "    data = Data(x=x, y=y)\n",
    "    data.test_mask = torch.tensor(test_ind,dtype=torch.uint8)\n",
    "    data.train_mask = torch.tensor(train_ind,dtype=torch.uint8)\n",
    "    data.val_mask = torch.tensor(val_ind,dtype=torch.uint8)\n",
    "\n",
    "    \n",
    "    return data\n",
    "    \n",
    "\n",
    "\n"
   ]
  },
  {
   "cell_type": "code",
   "execution_count": 12,
   "metadata": {},
   "outputs": [],
   "source": [
    "import torch\n",
    "from torch_geometric.data import InMemoryDataset, Data\n",
    "import os.path as osp\n",
    "from citation_loader import read_network\n",
    "from shutil import copyfile\n",
    "\n",
    "class EmbeddingData(InMemoryDataset):\n",
    "    \n",
    "    embUrl = '../data/embedding'\n",
    "    featsUrl = '../data/raw'\n",
    "\n",
    "    def __init__(self, root, name, method, directed,reverse=False): #, transform=None, pre_transform=None):\n",
    "        self.name = name\n",
    "        self.method = method\n",
    "        self.directed = directed\n",
    "        self.reverse = reverse\n",
    "        \n",
    "        super(EmbeddingData, self).__init__(root, None, None)\n",
    "        self.data, self.slices = torch.load(self.processed_paths[0])\n",
    "\n",
    "    @property\n",
    "    def raw_file_names(self):\n",
    "        return ['{}.{}.{}.emb'.format(self.name,self.method,'reversed' if self.reverse else \n",
    "                                      ('directed' if self.directed else 'undirected')),\n",
    "                '{}.content'.format(self.name)]\n",
    "\n",
    "    @property\n",
    "    def processed_file_names(self):\n",
    "        return 'data.pt'\n",
    "\n",
    "    def download(self):\n",
    "        copyfile('{}/{}'.format(self.embUrl, self.raw_file_names[0]),'{}/{}'.format(self.raw_dir, self.raw_file_names[0]))\n",
    "        copyfile('{}/{}/{}'.format(self.featsUrl, self.name, self.raw_file_names[1]),'{}/{}'.format(self.raw_dir, self.raw_file_names[1]))\n",
    "\n",
    "    def process(self):\n",
    "        emb_path = osp.join(self.raw_dir,self.raw_file_names[0])\n",
    "        features_path = osp.join(self.raw_dir,self.raw_file_names[1])\n",
    "        data = load_embedding(emb_path,features_path)\n",
    "        torch.save(self.collate([data]), self.processed_paths[0])\n",
    "        \n",
    "    def __repr__(self):\n",
    "        return '{}()'.format(self.name)"
   ]
  },
  {
   "cell_type": "code",
   "execution_count": 4,
   "metadata": {},
   "outputs": [],
   "source": [
    "class FeatureNNClassifier(torch.nn.Module):\n",
    "    def __init__(self, n_in, n_h, n_out):\n",
    "        super(FeatureNNClassifier, self).__init__()\n",
    "        self.linear1 = torch.nn.Linear(n_in, n_h)\n",
    "        self.linear2 = torch.nn.Linear(n_h, n_out)\n",
    "\n",
    "    def forward(self, x):\n",
    "        x = self.linear1(x)\n",
    "        x = F.relu(x)\n",
    "        x = self.linear2(x)\n",
    "        x = F.log_softmax(x,dim=1)\n",
    "        return x\n"
   ]
  },
  {
   "cell_type": "code",
   "execution_count": 5,
   "metadata": {},
   "outputs": [],
   "source": [
    "import torch.nn.functional as F"
   ]
  },
  {
   "cell_type": "code",
   "execution_count": 6,
   "metadata": {},
   "outputs": [],
   "source": [
    "# Define a baseline\n",
    "def eval_baseline_run(dataset,data,n_h=128,n_out=7):\n",
    "    n_in = dataset.num_features\n",
    "#     n_out = dataset.num_classes\n",
    "    baseline = FeatureNNClassifier(n_in,n_h,n_out)\n",
    "    device = 'cpu'\n",
    "    data = dataset[0].x.to(device)\n",
    "    optimizer = torch.optim.Adam(baseline.parameters(),lr=0.01,weight_decay=5e-4)\n",
    "    baseline.train() # to enter training phase\n",
    "    for epoch in range(200):\n",
    "        optimizer.zero_grad() # saw this a lot in the beginning, maybe resetting gradients (not to accumulate)\n",
    "        out = baseline(data) # this calls the forward method apparently\n",
    "        loss = F.nll_loss(out[dataset[0].train_mask],dataset[0].y[dataset[0].train_mask]) # nice indexing, easy and short\n",
    "        loss.backward() # magic: real back propagation step, takes care of the gradients and stuff\n",
    "        optimizer.step() # maybe updates the params to be optimized\n",
    "    baseline.eval() # enter eval phase\n",
    "    _,pred = baseline(data).max(dim=1) # take prediction out of softmax\n",
    "    correct = float(pred[dataset[0].test_mask].eq(dataset[0].y[dataset[0].test_mask]).sum().item())\n",
    "    acc = correct / dataset[0].test_mask.sum().item()\n",
    "    return acc\n",
    "def eval_baseline(dataset,n_h=128,runs=100):\n",
    "    accs = []\n",
    "    for i in range(runs):\n",
    "        accs.append(eval_baseline_run(dataset,n_h))\n",
    "    return sum(accs)/len(accs),accs"
   ]
  },
  {
   "cell_type": "code",
   "execution_count": 7,
   "metadata": {},
   "outputs": [],
   "source": [
    "def test_n2v(data):\n",
    "    device = 'cuda' if torch.cuda.is_available() else 'cpu'\n",
    "    z = data.x\n",
    "    z = z.to(device)\n",
    "    n2v = Node2Vec(num_nodes=data.num_nodes,\n",
    "              embedding_dim=data.x.shape[1],\n",
    "              walk_length=80,\n",
    "              context_size=10,\n",
    "              walks_per_node=10,\n",
    "              p=1,q=1)\n",
    "    n2v = n2v.to(device)\n",
    "    acc = n2v.test(z[data.train_mask], data.y[data.train_mask],\n",
    "                     z[data.test_mask], data.y[data.test_mask], max_iter=150)\n",
    "    print(\"{:.2f}\".format(acc*100))\n",
    "#     return acc"
   ]
  },
  {
   "cell_type": "code",
   "execution_count": 11,
   "metadata": {},
   "outputs": [],
   "source": [
    "from network_split import NetworkSplitShcur"
   ]
  },
  {
   "cell_type": "code",
   "execution_count": 15,
   "metadata": {},
   "outputs": [],
   "source": [
    "def eval_n2v(data,num_splits=100):\n",
    "    device = 'cuda' if torch.cuda.is_available() else 'cpu'\n",
    "    z = data.x\n",
    "    z = z.to(device)\n",
    "    n2v = Node2Vec(num_nodes=data.num_nodes,\n",
    "              embedding_dim=data.x.shape[1],\n",
    "              walk_length=80,\n",
    "              context_size=10,\n",
    "              walks_per_node=10,\n",
    "              p=1,q=1)\n",
    "    accs = []\n",
    "    for i in range(num_splits):\n",
    "        split = NetworkSplitShcur(data,early_examples_per_class=0,split_seed=i)\n",
    "        n2v = n2v.to(device)\n",
    "        acc = n2v.test(z[split.train_mask], data.y[split.train_mask],\n",
    "                         z[split.val_mask], data.y[split.val_mask], max_iter=150)\n",
    "#         print(\"{:.2f}\".format(acc*100))\n",
    "        accs.append(acc)\n",
    "    return np.mean(accs)"
   ]
  },
  {
   "cell_type": "markdown",
   "metadata": {},
   "source": [
    "### Cora\n",
    "Baseline Accuracy: 0.5581"
   ]
  },
  {
   "cell_type": "markdown",
   "metadata": {},
   "source": [
    "#### node2vec"
   ]
  },
  {
   "cell_type": "markdown",
   "metadata": {},
   "source": [
    "Param search"
   ]
  },
  {
   "cell_type": "code",
   "execution_count": 16,
   "metadata": {},
   "outputs": [
    {
     "name": "stdout",
     "output_type": "stream",
     "text": [
      "72.38\n",
      "64.76\n",
      "75.71\n",
      "70.95\n"
     ]
    },
    {
     "ename": "KeyboardInterrupt",
     "evalue": "",
     "output_type": "error",
     "traceback": [
      "\u001b[0;31m---------------------------------------------------------------------------\u001b[0m",
      "\u001b[0;31mKeyboardInterrupt\u001b[0m                         Traceback (most recent call last)",
      "\u001b[0;32m<ipython-input-16-700e638e2885>\u001b[0m in \u001b[0;36m<module>\u001b[0;34m\u001b[0m\n\u001b[1;32m      1\u001b[0m \u001b[0memb\u001b[0m \u001b[0;34m=\u001b[0m \u001b[0mEmbeddingData\u001b[0m\u001b[0;34m(\u001b[0m\u001b[0;34m'/tmp/n2vUndp0.25EmbCora'\u001b[0m\u001b[0;34m,\u001b[0m\u001b[0;34m'cora'\u001b[0m\u001b[0;34m,\u001b[0m\u001b[0;34m'node2vec_rw.p0.25.q1.75'\u001b[0m\u001b[0;34m,\u001b[0m\u001b[0mdirected\u001b[0m\u001b[0;34m=\u001b[0m\u001b[0;32mFalse\u001b[0m\u001b[0;34m)\u001b[0m\u001b[0;34m\u001b[0m\u001b[0;34m\u001b[0m\u001b[0m\n\u001b[0;32m----> 2\u001b[0;31m \u001b[0meval_n2v\u001b[0m\u001b[0;34m(\u001b[0m\u001b[0memb\u001b[0m\u001b[0;34m[\u001b[0m\u001b[0;36m0\u001b[0m\u001b[0;34m]\u001b[0m\u001b[0;34m)\u001b[0m\u001b[0;34m\u001b[0m\u001b[0;34m\u001b[0m\u001b[0m\n\u001b[0m",
      "\u001b[0;32m<ipython-input-15-106725a3da50>\u001b[0m in \u001b[0;36meval_n2v\u001b[0;34m(data, num_splits)\u001b[0m\n\u001b[1;32m     13\u001b[0m         \u001b[0mn2v\u001b[0m \u001b[0;34m=\u001b[0m \u001b[0mn2v\u001b[0m\u001b[0;34m.\u001b[0m\u001b[0mto\u001b[0m\u001b[0;34m(\u001b[0m\u001b[0mdevice\u001b[0m\u001b[0;34m)\u001b[0m\u001b[0;34m\u001b[0m\u001b[0;34m\u001b[0m\u001b[0m\n\u001b[1;32m     14\u001b[0m         acc = n2v.test(z[split.train_mask], data.y[split.train_mask],\n\u001b[0;32m---> 15\u001b[0;31m                          z[split.val_mask], data.y[split.val_mask], max_iter=150)\n\u001b[0m\u001b[1;32m     16\u001b[0m         \u001b[0mprint\u001b[0m\u001b[0;34m(\u001b[0m\u001b[0;34m\"{:.2f}\"\u001b[0m\u001b[0;34m.\u001b[0m\u001b[0mformat\u001b[0m\u001b[0;34m(\u001b[0m\u001b[0macc\u001b[0m\u001b[0;34m*\u001b[0m\u001b[0;36m100\u001b[0m\u001b[0;34m)\u001b[0m\u001b[0;34m)\u001b[0m\u001b[0;34m\u001b[0m\u001b[0;34m\u001b[0m\u001b[0m\n",
      "\u001b[0;32m/home/s-hussain/directed-graphs-learning/notebooks/torch_geometric_node2vec.py\u001b[0m in \u001b[0;36mtest\u001b[0;34m(self, train_z, train_y, test_z, test_y, solver, multi_class, *args, **kwargs)\u001b[0m\n\u001b[1;32m    103\u001b[0m         clf = LogisticRegression(solver=solver, multi_class=multi_class, *args,\n\u001b[1;32m    104\u001b[0m                                  \u001b[0;34m**\u001b[0m\u001b[0mkwargs\u001b[0m\u001b[0;34m)\u001b[0m\u001b[0;34m.\u001b[0m\u001b[0mfit\u001b[0m\u001b[0;34m(\u001b[0m\u001b[0mtrain_z\u001b[0m\u001b[0;34m.\u001b[0m\u001b[0mdetach\u001b[0m\u001b[0;34m(\u001b[0m\u001b[0;34m)\u001b[0m\u001b[0;34m.\u001b[0m\u001b[0mcpu\u001b[0m\u001b[0;34m(\u001b[0m\u001b[0;34m)\u001b[0m\u001b[0;34m.\u001b[0m\u001b[0mnumpy\u001b[0m\u001b[0;34m(\u001b[0m\u001b[0;34m)\u001b[0m\u001b[0;34m,\u001b[0m\u001b[0;34m\u001b[0m\u001b[0;34m\u001b[0m\u001b[0m\n\u001b[0;32m--> 105\u001b[0;31m                                                train_y.detach().cpu().numpy())\n\u001b[0m\u001b[1;32m    106\u001b[0m         return clf.score(test_z.detach().cpu().numpy(),\n\u001b[1;32m    107\u001b[0m                          test_y.detach().cpu().numpy())\n",
      "\u001b[0;32m~/anaconda3/envs/nips2/lib/python3.7/site-packages/sklearn/linear_model/logistic.py\u001b[0m in \u001b[0;36mfit\u001b[0;34m(self, X, y, sample_weight)\u001b[0m\n\u001b[1;32m   1361\u001b[0m                       \u001b[0mmax_squared_sum\u001b[0m\u001b[0;34m=\u001b[0m\u001b[0mmax_squared_sum\u001b[0m\u001b[0;34m,\u001b[0m\u001b[0;34m\u001b[0m\u001b[0;34m\u001b[0m\u001b[0m\n\u001b[1;32m   1362\u001b[0m                       sample_weight=sample_weight)\n\u001b[0;32m-> 1363\u001b[0;31m             for class_, warm_start_coef_ in zip(classes_, warm_start_coef))\n\u001b[0m\u001b[1;32m   1364\u001b[0m \u001b[0;34m\u001b[0m\u001b[0m\n\u001b[1;32m   1365\u001b[0m         \u001b[0mfold_coefs_\u001b[0m\u001b[0;34m,\u001b[0m \u001b[0m_\u001b[0m\u001b[0;34m,\u001b[0m \u001b[0mn_iter_\u001b[0m \u001b[0;34m=\u001b[0m \u001b[0mzip\u001b[0m\u001b[0;34m(\u001b[0m\u001b[0;34m*\u001b[0m\u001b[0mfold_coefs_\u001b[0m\u001b[0;34m)\u001b[0m\u001b[0;34m\u001b[0m\u001b[0;34m\u001b[0m\u001b[0m\n",
      "\u001b[0;32m~/anaconda3/envs/nips2/lib/python3.7/site-packages/sklearn/externals/joblib/parallel.py\u001b[0m in \u001b[0;36m__call__\u001b[0;34m(self, iterable)\u001b[0m\n\u001b[1;32m    915\u001b[0m             \u001b[0;31m# remaining jobs.\u001b[0m\u001b[0;34m\u001b[0m\u001b[0;34m\u001b[0m\u001b[0;34m\u001b[0m\u001b[0m\n\u001b[1;32m    916\u001b[0m             \u001b[0mself\u001b[0m\u001b[0;34m.\u001b[0m\u001b[0m_iterating\u001b[0m \u001b[0;34m=\u001b[0m \u001b[0;32mFalse\u001b[0m\u001b[0;34m\u001b[0m\u001b[0;34m\u001b[0m\u001b[0m\n\u001b[0;32m--> 917\u001b[0;31m             \u001b[0;32mif\u001b[0m \u001b[0mself\u001b[0m\u001b[0;34m.\u001b[0m\u001b[0mdispatch_one_batch\u001b[0m\u001b[0;34m(\u001b[0m\u001b[0miterator\u001b[0m\u001b[0;34m)\u001b[0m\u001b[0;34m:\u001b[0m\u001b[0;34m\u001b[0m\u001b[0;34m\u001b[0m\u001b[0m\n\u001b[0m\u001b[1;32m    918\u001b[0m                 \u001b[0mself\u001b[0m\u001b[0;34m.\u001b[0m\u001b[0m_iterating\u001b[0m \u001b[0;34m=\u001b[0m \u001b[0mself\u001b[0m\u001b[0;34m.\u001b[0m\u001b[0m_original_iterator\u001b[0m \u001b[0;32mis\u001b[0m \u001b[0;32mnot\u001b[0m \u001b[0;32mNone\u001b[0m\u001b[0;34m\u001b[0m\u001b[0;34m\u001b[0m\u001b[0m\n\u001b[1;32m    919\u001b[0m \u001b[0;34m\u001b[0m\u001b[0m\n",
      "\u001b[0;32m~/anaconda3/envs/nips2/lib/python3.7/site-packages/sklearn/externals/joblib/parallel.py\u001b[0m in \u001b[0;36mdispatch_one_batch\u001b[0;34m(self, iterator)\u001b[0m\n\u001b[1;32m    757\u001b[0m                 \u001b[0;32mreturn\u001b[0m \u001b[0;32mFalse\u001b[0m\u001b[0;34m\u001b[0m\u001b[0;34m\u001b[0m\u001b[0m\n\u001b[1;32m    758\u001b[0m             \u001b[0;32melse\u001b[0m\u001b[0;34m:\u001b[0m\u001b[0;34m\u001b[0m\u001b[0;34m\u001b[0m\u001b[0m\n\u001b[0;32m--> 759\u001b[0;31m                 \u001b[0mself\u001b[0m\u001b[0;34m.\u001b[0m\u001b[0m_dispatch\u001b[0m\u001b[0;34m(\u001b[0m\u001b[0mtasks\u001b[0m\u001b[0;34m)\u001b[0m\u001b[0;34m\u001b[0m\u001b[0;34m\u001b[0m\u001b[0m\n\u001b[0m\u001b[1;32m    760\u001b[0m                 \u001b[0;32mreturn\u001b[0m \u001b[0;32mTrue\u001b[0m\u001b[0;34m\u001b[0m\u001b[0;34m\u001b[0m\u001b[0m\n\u001b[1;32m    761\u001b[0m \u001b[0;34m\u001b[0m\u001b[0m\n",
      "\u001b[0;32m~/anaconda3/envs/nips2/lib/python3.7/site-packages/sklearn/externals/joblib/parallel.py\u001b[0m in \u001b[0;36m_dispatch\u001b[0;34m(self, batch)\u001b[0m\n\u001b[1;32m    714\u001b[0m         \u001b[0;32mwith\u001b[0m \u001b[0mself\u001b[0m\u001b[0;34m.\u001b[0m\u001b[0m_lock\u001b[0m\u001b[0;34m:\u001b[0m\u001b[0;34m\u001b[0m\u001b[0;34m\u001b[0m\u001b[0m\n\u001b[1;32m    715\u001b[0m             \u001b[0mjob_idx\u001b[0m \u001b[0;34m=\u001b[0m \u001b[0mlen\u001b[0m\u001b[0;34m(\u001b[0m\u001b[0mself\u001b[0m\u001b[0;34m.\u001b[0m\u001b[0m_jobs\u001b[0m\u001b[0;34m)\u001b[0m\u001b[0;34m\u001b[0m\u001b[0;34m\u001b[0m\u001b[0m\n\u001b[0;32m--> 716\u001b[0;31m             \u001b[0mjob\u001b[0m \u001b[0;34m=\u001b[0m \u001b[0mself\u001b[0m\u001b[0;34m.\u001b[0m\u001b[0m_backend\u001b[0m\u001b[0;34m.\u001b[0m\u001b[0mapply_async\u001b[0m\u001b[0;34m(\u001b[0m\u001b[0mbatch\u001b[0m\u001b[0;34m,\u001b[0m \u001b[0mcallback\u001b[0m\u001b[0;34m=\u001b[0m\u001b[0mcb\u001b[0m\u001b[0;34m)\u001b[0m\u001b[0;34m\u001b[0m\u001b[0;34m\u001b[0m\u001b[0m\n\u001b[0m\u001b[1;32m    717\u001b[0m             \u001b[0;31m# A job can complete so quickly than its callback is\u001b[0m\u001b[0;34m\u001b[0m\u001b[0;34m\u001b[0m\u001b[0;34m\u001b[0m\u001b[0m\n\u001b[1;32m    718\u001b[0m             \u001b[0;31m# called before we get here, causing self._jobs to\u001b[0m\u001b[0;34m\u001b[0m\u001b[0;34m\u001b[0m\u001b[0;34m\u001b[0m\u001b[0m\n",
      "\u001b[0;32m~/anaconda3/envs/nips2/lib/python3.7/site-packages/sklearn/externals/joblib/_parallel_backends.py\u001b[0m in \u001b[0;36mapply_async\u001b[0;34m(self, func, callback)\u001b[0m\n\u001b[1;32m    180\u001b[0m     \u001b[0;32mdef\u001b[0m \u001b[0mapply_async\u001b[0m\u001b[0;34m(\u001b[0m\u001b[0mself\u001b[0m\u001b[0;34m,\u001b[0m \u001b[0mfunc\u001b[0m\u001b[0;34m,\u001b[0m \u001b[0mcallback\u001b[0m\u001b[0;34m=\u001b[0m\u001b[0;32mNone\u001b[0m\u001b[0;34m)\u001b[0m\u001b[0;34m:\u001b[0m\u001b[0;34m\u001b[0m\u001b[0;34m\u001b[0m\u001b[0m\n\u001b[1;32m    181\u001b[0m         \u001b[0;34m\"\"\"Schedule a func to be run\"\"\"\u001b[0m\u001b[0;34m\u001b[0m\u001b[0;34m\u001b[0m\u001b[0m\n\u001b[0;32m--> 182\u001b[0;31m         \u001b[0mresult\u001b[0m \u001b[0;34m=\u001b[0m \u001b[0mImmediateResult\u001b[0m\u001b[0;34m(\u001b[0m\u001b[0mfunc\u001b[0m\u001b[0;34m)\u001b[0m\u001b[0;34m\u001b[0m\u001b[0;34m\u001b[0m\u001b[0m\n\u001b[0m\u001b[1;32m    183\u001b[0m         \u001b[0;32mif\u001b[0m \u001b[0mcallback\u001b[0m\u001b[0;34m:\u001b[0m\u001b[0;34m\u001b[0m\u001b[0;34m\u001b[0m\u001b[0m\n\u001b[1;32m    184\u001b[0m             \u001b[0mcallback\u001b[0m\u001b[0;34m(\u001b[0m\u001b[0mresult\u001b[0m\u001b[0;34m)\u001b[0m\u001b[0;34m\u001b[0m\u001b[0;34m\u001b[0m\u001b[0m\n",
      "\u001b[0;32m~/anaconda3/envs/nips2/lib/python3.7/site-packages/sklearn/externals/joblib/_parallel_backends.py\u001b[0m in \u001b[0;36m__init__\u001b[0;34m(self, batch)\u001b[0m\n\u001b[1;32m    547\u001b[0m         \u001b[0;31m# Don't delay the application, to avoid keeping the input\u001b[0m\u001b[0;34m\u001b[0m\u001b[0;34m\u001b[0m\u001b[0;34m\u001b[0m\u001b[0m\n\u001b[1;32m    548\u001b[0m         \u001b[0;31m# arguments in memory\u001b[0m\u001b[0;34m\u001b[0m\u001b[0;34m\u001b[0m\u001b[0;34m\u001b[0m\u001b[0m\n\u001b[0;32m--> 549\u001b[0;31m         \u001b[0mself\u001b[0m\u001b[0;34m.\u001b[0m\u001b[0mresults\u001b[0m \u001b[0;34m=\u001b[0m \u001b[0mbatch\u001b[0m\u001b[0;34m(\u001b[0m\u001b[0;34m)\u001b[0m\u001b[0;34m\u001b[0m\u001b[0;34m\u001b[0m\u001b[0m\n\u001b[0m\u001b[1;32m    550\u001b[0m \u001b[0;34m\u001b[0m\u001b[0m\n\u001b[1;32m    551\u001b[0m     \u001b[0;32mdef\u001b[0m \u001b[0mget\u001b[0m\u001b[0;34m(\u001b[0m\u001b[0mself\u001b[0m\u001b[0;34m)\u001b[0m\u001b[0;34m:\u001b[0m\u001b[0;34m\u001b[0m\u001b[0;34m\u001b[0m\u001b[0m\n",
      "\u001b[0;32m~/anaconda3/envs/nips2/lib/python3.7/site-packages/sklearn/externals/joblib/parallel.py\u001b[0m in \u001b[0;36m__call__\u001b[0;34m(self)\u001b[0m\n\u001b[1;32m    223\u001b[0m         \u001b[0;32mwith\u001b[0m \u001b[0mparallel_backend\u001b[0m\u001b[0;34m(\u001b[0m\u001b[0mself\u001b[0m\u001b[0;34m.\u001b[0m\u001b[0m_backend\u001b[0m\u001b[0;34m,\u001b[0m \u001b[0mn_jobs\u001b[0m\u001b[0;34m=\u001b[0m\u001b[0mself\u001b[0m\u001b[0;34m.\u001b[0m\u001b[0m_n_jobs\u001b[0m\u001b[0;34m)\u001b[0m\u001b[0;34m:\u001b[0m\u001b[0;34m\u001b[0m\u001b[0;34m\u001b[0m\u001b[0m\n\u001b[1;32m    224\u001b[0m             return [func(*args, **kwargs)\n\u001b[0;32m--> 225\u001b[0;31m                     for func, args, kwargs in self.items]\n\u001b[0m\u001b[1;32m    226\u001b[0m \u001b[0;34m\u001b[0m\u001b[0m\n\u001b[1;32m    227\u001b[0m     \u001b[0;32mdef\u001b[0m \u001b[0m__len__\u001b[0m\u001b[0;34m(\u001b[0m\u001b[0mself\u001b[0m\u001b[0;34m)\u001b[0m\u001b[0;34m:\u001b[0m\u001b[0;34m\u001b[0m\u001b[0;34m\u001b[0m\u001b[0m\n",
      "\u001b[0;32m~/anaconda3/envs/nips2/lib/python3.7/site-packages/sklearn/externals/joblib/parallel.py\u001b[0m in \u001b[0;36m<listcomp>\u001b[0;34m(.0)\u001b[0m\n\u001b[1;32m    223\u001b[0m         \u001b[0;32mwith\u001b[0m \u001b[0mparallel_backend\u001b[0m\u001b[0;34m(\u001b[0m\u001b[0mself\u001b[0m\u001b[0;34m.\u001b[0m\u001b[0m_backend\u001b[0m\u001b[0;34m,\u001b[0m \u001b[0mn_jobs\u001b[0m\u001b[0;34m=\u001b[0m\u001b[0mself\u001b[0m\u001b[0;34m.\u001b[0m\u001b[0m_n_jobs\u001b[0m\u001b[0;34m)\u001b[0m\u001b[0;34m:\u001b[0m\u001b[0;34m\u001b[0m\u001b[0;34m\u001b[0m\u001b[0m\n\u001b[1;32m    224\u001b[0m             return [func(*args, **kwargs)\n\u001b[0;32m--> 225\u001b[0;31m                     for func, args, kwargs in self.items]\n\u001b[0m\u001b[1;32m    226\u001b[0m \u001b[0;34m\u001b[0m\u001b[0m\n\u001b[1;32m    227\u001b[0m     \u001b[0;32mdef\u001b[0m \u001b[0m__len__\u001b[0m\u001b[0;34m(\u001b[0m\u001b[0mself\u001b[0m\u001b[0;34m)\u001b[0m\u001b[0;34m:\u001b[0m\u001b[0;34m\u001b[0m\u001b[0;34m\u001b[0m\u001b[0m\n",
      "\u001b[0;32m~/anaconda3/envs/nips2/lib/python3.7/site-packages/sklearn/linear_model/logistic.py\u001b[0m in \u001b[0;36mlogistic_regression_path\u001b[0;34m(X, y, pos_class, Cs, fit_intercept, max_iter, tol, verbose, solver, coef, class_weight, dual, penalty, intercept_scaling, multi_class, random_state, check_input, max_squared_sum, sample_weight)\u001b[0m\n\u001b[1;32m    753\u001b[0m                 \u001b[0mfunc\u001b[0m\u001b[0;34m,\u001b[0m \u001b[0mw0\u001b[0m\u001b[0;34m,\u001b[0m \u001b[0mfprime\u001b[0m\u001b[0;34m=\u001b[0m\u001b[0;32mNone\u001b[0m\u001b[0;34m,\u001b[0m\u001b[0;34m\u001b[0m\u001b[0;34m\u001b[0m\u001b[0m\n\u001b[1;32m    754\u001b[0m                 \u001b[0margs\u001b[0m\u001b[0;34m=\u001b[0m\u001b[0;34m(\u001b[0m\u001b[0mX\u001b[0m\u001b[0;34m,\u001b[0m \u001b[0mtarget\u001b[0m\u001b[0;34m,\u001b[0m \u001b[0;36m1.\u001b[0m \u001b[0;34m/\u001b[0m \u001b[0mC\u001b[0m\u001b[0;34m,\u001b[0m \u001b[0msample_weight\u001b[0m\u001b[0;34m)\u001b[0m\u001b[0;34m,\u001b[0m\u001b[0;34m\u001b[0m\u001b[0;34m\u001b[0m\u001b[0m\n\u001b[0;32m--> 755\u001b[0;31m                 iprint=iprint, pgtol=tol, maxiter=max_iter)\n\u001b[0m\u001b[1;32m    756\u001b[0m             \u001b[0;32mif\u001b[0m \u001b[0minfo\u001b[0m\u001b[0;34m[\u001b[0m\u001b[0;34m\"warnflag\"\u001b[0m\u001b[0;34m]\u001b[0m \u001b[0;34m==\u001b[0m \u001b[0;36m1\u001b[0m\u001b[0;34m:\u001b[0m\u001b[0;34m\u001b[0m\u001b[0;34m\u001b[0m\u001b[0m\n\u001b[1;32m    757\u001b[0m                 warnings.warn(\"lbfgs failed to converge. Increase the number \"\n",
      "\u001b[0;32m~/anaconda3/envs/nips2/lib/python3.7/site-packages/scipy/optimize/lbfgsb.py\u001b[0m in \u001b[0;36mfmin_l_bfgs_b\u001b[0;34m(func, x0, fprime, args, approx_grad, bounds, m, factr, pgtol, epsilon, iprint, maxfun, maxiter, disp, callback, maxls)\u001b[0m\n\u001b[1;32m    197\u001b[0m \u001b[0;34m\u001b[0m\u001b[0m\n\u001b[1;32m    198\u001b[0m     res = _minimize_lbfgsb(fun, x0, args=args, jac=jac, bounds=bounds,\n\u001b[0;32m--> 199\u001b[0;31m                            **opts)\n\u001b[0m\u001b[1;32m    200\u001b[0m     d = {'grad': res['jac'],\n\u001b[1;32m    201\u001b[0m          \u001b[0;34m'task'\u001b[0m\u001b[0;34m:\u001b[0m \u001b[0mres\u001b[0m\u001b[0;34m[\u001b[0m\u001b[0;34m'message'\u001b[0m\u001b[0;34m]\u001b[0m\u001b[0;34m,\u001b[0m\u001b[0;34m\u001b[0m\u001b[0;34m\u001b[0m\u001b[0m\n",
      "\u001b[0;32m~/anaconda3/envs/nips2/lib/python3.7/site-packages/scipy/optimize/lbfgsb.py\u001b[0m in \u001b[0;36m_minimize_lbfgsb\u001b[0;34m(fun, x0, args, jac, bounds, disp, maxcor, ftol, gtol, eps, maxfun, maxiter, iprint, callback, maxls, **unknown_options)\u001b[0m\n\u001b[1;32m    326\u001b[0m         _lbfgsb.setulb(m, x, low_bnd, upper_bnd, nbd, f, g, factr,\n\u001b[1;32m    327\u001b[0m                        \u001b[0mpgtol\u001b[0m\u001b[0;34m,\u001b[0m \u001b[0mwa\u001b[0m\u001b[0;34m,\u001b[0m \u001b[0miwa\u001b[0m\u001b[0;34m,\u001b[0m \u001b[0mtask\u001b[0m\u001b[0;34m,\u001b[0m \u001b[0miprint\u001b[0m\u001b[0;34m,\u001b[0m \u001b[0mcsave\u001b[0m\u001b[0;34m,\u001b[0m \u001b[0mlsave\u001b[0m\u001b[0;34m,\u001b[0m\u001b[0;34m\u001b[0m\u001b[0;34m\u001b[0m\u001b[0m\n\u001b[0;32m--> 328\u001b[0;31m                        isave, dsave, maxls)\n\u001b[0m\u001b[1;32m    329\u001b[0m         \u001b[0mtask_str\u001b[0m \u001b[0;34m=\u001b[0m \u001b[0mtask\u001b[0m\u001b[0;34m.\u001b[0m\u001b[0mtostring\u001b[0m\u001b[0;34m(\u001b[0m\u001b[0;34m)\u001b[0m\u001b[0;34m\u001b[0m\u001b[0;34m\u001b[0m\u001b[0m\n\u001b[1;32m    330\u001b[0m         \u001b[0;32mif\u001b[0m \u001b[0mtask_str\u001b[0m\u001b[0;34m.\u001b[0m\u001b[0mstartswith\u001b[0m\u001b[0;34m(\u001b[0m\u001b[0;34mb'FG'\u001b[0m\u001b[0;34m)\u001b[0m\u001b[0;34m:\u001b[0m\u001b[0;34m\u001b[0m\u001b[0;34m\u001b[0m\u001b[0m\n",
      "\u001b[0;31mKeyboardInterrupt\u001b[0m: "
     ]
    }
   ],
   "source": [
    "emb = EmbeddingData('/tmp/n2vUndp0.25EmbCora','cora','node2vec_rw.p0.25.q1.75',directed=False)\n",
    "eval_n2v(emb[0])"
   ]
  },
  {
   "cell_type": "code",
   "execution_count": 120,
   "metadata": {},
   "outputs": [
    {
     "name": "stdout",
     "output_type": "stream",
     "text": [
      "68.40\n"
     ]
    }
   ],
   "source": [
    "emb = EmbeddingData('/tmp/n2vUndp0.75EmbCora','cora','node2vec_rw.p0.75.q1.25',directed=False)\n",
    "eval_n2v(emb[0])"
   ]
  },
  {
   "cell_type": "code",
   "execution_count": 121,
   "metadata": {},
   "outputs": [
    {
     "name": "stdout",
     "output_type": "stream",
     "text": [
      "68.60\n"
     ]
    }
   ],
   "source": [
    "emb = EmbeddingData('/tmp/n2vUndp1.25EmbCora','cora','node2vec_rw.p1.25.q0.75',directed=False)\n",
    "eval_n2v(emb[0])"
   ]
  },
  {
   "cell_type": "code",
   "execution_count": 122,
   "metadata": {},
   "outputs": [
    {
     "name": "stdout",
     "output_type": "stream",
     "text": [
      "68.60\n"
     ]
    }
   ],
   "source": [
    "emb = EmbeddingData('/tmp/n2vUndp1.75EmbCora','cora','node2vec_rw.p1.75.q0.25',directed=False)\n",
    "eval_n2v(emb[0])"
   ]
  },
  {
   "cell_type": "code",
   "execution_count": 123,
   "metadata": {},
   "outputs": [
    {
     "name": "stdout",
     "output_type": "stream",
     "text": [
      "67.80\n"
     ]
    }
   ],
   "source": [
    "emb = EmbeddingData('/tmp/n2vUndEmbCora','cora','node2vec_rw',directed=False)\n",
    "eval_n2v(emb[0])"
   ]
  },
  {
   "cell_type": "markdown",
   "metadata": {},
   "source": [
    "p = 0.25, q = 1.75"
   ]
  },
  {
   "cell_type": "code",
   "execution_count": 124,
   "metadata": {},
   "outputs": [
    {
     "name": "stdout",
     "output_type": "stream",
     "text": [
      "72.30\n"
     ]
    }
   ],
   "source": [
    "emb = EmbeddingData('/tmp/n2vUndp0.25EmbCora','cora','node2vec_rw.p0.25.q1.75',directed=False)\n",
    "test_n2v(emb[0])"
   ]
  },
  {
   "cell_type": "code",
   "execution_count": 126,
   "metadata": {},
   "outputs": [
    {
     "name": "stdout",
     "output_type": "stream",
     "text": [
      "56.40\n"
     ]
    }
   ],
   "source": [
    "emb = EmbeddingData('/tmp/n2vDirp0.25EmbCora','cora','node2vec_rw.p0.25.q1.75',directed=True)\n",
    "test_n2v(emb[0])"
   ]
  },
  {
   "cell_type": "code",
   "execution_count": 202,
   "metadata": {},
   "outputs": [
    {
     "data": {
      "text/plain": [
       "0.558"
      ]
     },
     "execution_count": 202,
     "metadata": {},
     "output_type": "execute_result"
    }
   ],
   "source": [
    "emb = EmbeddingData('/tmp/n2vRevEmbCora','cora','node2vec_rw',directed=True,reverse=True)\n",
    "eval_baseline_run(emb,None,n_h=16,n_out=emb.num_classes)"
   ]
  },
  {
   "cell_type": "markdown",
   "metadata": {},
   "source": [
    "#### HOPE"
   ]
  },
  {
   "cell_type": "markdown",
   "metadata": {},
   "source": [
    "param search"
   ]
  },
  {
   "cell_type": "code",
   "execution_count": 238,
   "metadata": {},
   "outputs": [
    {
     "name": "stdout",
     "output_type": "stream",
     "text": [
      "Processing...\n",
      "0\n",
      "0\n",
      "Done!\n",
      "54.80\n"
     ]
    }
   ],
   "source": [
    "emb = EmbeddingData('/tmp/Hopeadamic-adarUndEmbCora','cora','hope_adamic-adar',directed=False)\n",
    "eval_n2v(emb[0])"
   ]
  },
  {
   "cell_type": "code",
   "execution_count": 239,
   "metadata": {},
   "outputs": [
    {
     "name": "stdout",
     "output_type": "stream",
     "text": [
      "Processing...\n",
      "0\n",
      "0\n",
      "Done!\n",
      "60.60\n"
     ]
    }
   ],
   "source": [
    "emb = EmbeddingData('/tmp/Hopecommon-neighborsUndEmbCora','cora','hope_common-neighbors',directed=False)\n",
    "eval_n2v(emb[0])"
   ]
  },
  {
   "cell_type": "code",
   "execution_count": 240,
   "metadata": {},
   "outputs": [
    {
     "name": "stdout",
     "output_type": "stream",
     "text": [
      "Processing...\n",
      "0\n",
      "0\n",
      "Done!\n",
      "55.40\n"
     ]
    }
   ],
   "source": [
    "emb = EmbeddingData('/tmp/Hopekatz_0.1UndEmbCora','cora','hope_katz_0.1',directed=False)\n",
    "eval_n2v(emb[0])"
   ]
  },
  {
   "cell_type": "code",
   "execution_count": 241,
   "metadata": {},
   "outputs": [
    {
     "name": "stdout",
     "output_type": "stream",
     "text": [
      "Processing...\n",
      "0\n",
      "0\n",
      "Done!\n",
      "54.00\n"
     ]
    }
   ],
   "source": [
    "emb = EmbeddingData('/tmp/Hopekatz_0.01UndEmbCora','cora','hope_katz_0.01',directed=False)\n",
    "eval_n2v(emb[0])"
   ]
  },
  {
   "cell_type": "code",
   "execution_count": 242,
   "metadata": {},
   "outputs": [
    {
     "name": "stdout",
     "output_type": "stream",
     "text": [
      "Processing...\n",
      "0\n",
      "0\n",
      "Done!\n",
      "50.00\n"
     ]
    }
   ],
   "source": [
    "emb = EmbeddingData('/tmp/Hopekatz_0.9UndEmbCora','cora','hope_katz_0.9',directed=False)\n",
    "eval_n2v(emb[0])"
   ]
  },
  {
   "cell_type": "code",
   "execution_count": 243,
   "metadata": {},
   "outputs": [
    {
     "name": "stdout",
     "output_type": "stream",
     "text": [
      "Processing...\n",
      "0\n",
      "0\n",
      "Done!\n",
      "54.00\n"
     ]
    }
   ],
   "source": [
    "emb = EmbeddingData('/tmp/Hoperpr_0.5UndEmbCora','cora','hope_rpr_0.5',directed=False)\n",
    "eval_n2v(emb[0])"
   ]
  },
  {
   "cell_type": "code",
   "execution_count": 244,
   "metadata": {},
   "outputs": [
    {
     "name": "stdout",
     "output_type": "stream",
     "text": [
      "Processing...\n",
      "0\n",
      "0\n",
      "Done!\n",
      "54.00\n"
     ]
    }
   ],
   "source": [
    "emb = EmbeddingData('/tmp/Hoperpr_0.85UndEmbCora','cora','hope_rpr_0.85',directed=False)\n",
    "eval_n2v(emb[0])"
   ]
  },
  {
   "cell_type": "code",
   "execution_count": 245,
   "metadata": {},
   "outputs": [
    {
     "name": "stdout",
     "output_type": "stream",
     "text": [
      "Processing...\n",
      "0\n",
      "0\n",
      "Done!\n",
      "54.00\n"
     ]
    }
   ],
   "source": [
    "emb = EmbeddingData('/tmp/Hoperpr_0.99UndEmbCora','cora','hope_rpr_0.99',directed=False)\n",
    "eval_n2v(emb[0])"
   ]
  },
  {
   "cell_type": "code",
   "execution_count": 246,
   "metadata": {},
   "outputs": [
    {
     "name": "stdout",
     "output_type": "stream",
     "text": [
      "64.00\n"
     ]
    }
   ],
   "source": [
    "emb = EmbeddingData('/tmp/Hopecommon-neighborsUndEmbCora','cora','hope_common-neighbors',directed=False)\n",
    "test_n2v(emb[0])"
   ]
  },
  {
   "cell_type": "code",
   "execution_count": 210,
   "metadata": {},
   "outputs": [
    {
     "name": "stdout",
     "output_type": "stream",
     "text": [
      "59.50\n",
      "59.50\n"
     ]
    }
   ],
   "source": [
    "emb = EmbeddingData('/tmp/Hopecommon-neighborsDirEmbCora','cora','hope.common-neighbors',directed=True)\n",
    "test_n2v(emb[0])\n",
    "emb = EmbeddingData('/tmp/Hopecommon-neighborsRevEmbCora','cora','hope.common-neighbors',directed=True,reverse=True)\n",
    "test_n2v(emb[0])"
   ]
  },
  {
   "cell_type": "markdown",
   "metadata": {},
   "source": [
    "#### LINE(1)"
   ]
  },
  {
   "cell_type": "markdown",
   "metadata": {},
   "source": [
    "Param search"
   ]
  },
  {
   "cell_type": "code",
   "execution_count": 60,
   "metadata": {},
   "outputs": [
    {
     "name": "stdout",
     "output_type": "stream",
     "text": [
      "65.60\n"
     ]
    }
   ],
   "source": [
    "emb = EmbeddingData('/tmp/Line1.5UndEmbCora','cora','line1.5',directed=False)\n",
    "eval_n2v(emb[0])"
   ]
  },
  {
   "cell_type": "code",
   "execution_count": 63,
   "metadata": {},
   "outputs": [
    {
     "name": "stdout",
     "output_type": "stream",
     "text": [
      "63.40\n"
     ]
    }
   ],
   "source": [
    "emb = EmbeddingData('/tmp/Line1.10UndEmbCora','cora','line1.10',directed=False)\n",
    "eval_n2v(emb[0])"
   ]
  },
  {
   "cell_type": "code",
   "execution_count": 64,
   "metadata": {},
   "outputs": [
    {
     "name": "stdout",
     "output_type": "stream",
     "text": [
      "61.60\n"
     ]
    }
   ],
   "source": [
    "emb = EmbeddingData('/tmp/Line1.15UndEmbCora','cora','line1.15',directed=False)\n",
    "eval_n2v(emb[0])"
   ]
  },
  {
   "cell_type": "code",
   "execution_count": 65,
   "metadata": {},
   "outputs": [
    {
     "name": "stdout",
     "output_type": "stream",
     "text": [
      "61.80\n"
     ]
    }
   ],
   "source": [
    "emb = EmbeddingData('/tmp/Line1UndEmbCora','cora','line1',directed=False)\n",
    "eval_n2v(emb[0])"
   ]
  },
  {
   "cell_type": "markdown",
   "metadata": {},
   "source": [
    "We set NS=5"
   ]
  },
  {
   "cell_type": "code",
   "execution_count": 173,
   "metadata": {},
   "outputs": [
    {
     "name": "stdout",
     "output_type": "stream",
     "text": [
      "67.00\n"
     ]
    }
   ],
   "source": [
    "emb = EmbeddingData('/tmp/Line1.5UndEmbCora','cora','line1.5',directed=False)\n",
    "test_n2v(emb[0])"
   ]
  },
  {
   "cell_type": "code",
   "execution_count": 207,
   "metadata": {
    "collapsed": true,
    "jupyter": {
     "outputs_hidden": true
    }
   },
   "outputs": [
    {
     "name": "stdout",
     "output_type": "stream",
     "text": [
      "57.60\n"
     ]
    }
   ],
   "source": [
    "emb = EmbeddingData('/tmp/Line1DirEmbCora','cora','line1',directed=True)\n",
    "test_n2v(emb[0])"
   ]
  },
  {
   "cell_type": "code",
   "execution_count": 208,
   "metadata": {
    "collapsed": true,
    "jupyter": {
     "outputs_hidden": true
    }
   },
   "outputs": [
    {
     "name": "stdout",
     "output_type": "stream",
     "text": [
      "58.10\n"
     ]
    }
   ],
   "source": [
    "emb = EmbeddingData('/tmp/Line1RevEmbCora','cora','line1',directed=True,reverse=True)\n",
    "test_n2v(emb[0])"
   ]
  },
  {
   "cell_type": "markdown",
   "metadata": {},
   "source": [
    "#### LINE(2)"
   ]
  },
  {
   "cell_type": "markdown",
   "metadata": {},
   "source": [
    "Param search"
   ]
  },
  {
   "cell_type": "code",
   "execution_count": 77,
   "metadata": {},
   "outputs": [
    {
     "name": "stdout",
     "output_type": "stream",
     "text": [
      "64.400000\n"
     ]
    }
   ],
   "source": [
    "emb = EmbeddingData('/tmp/Line2.5UndEmbCora','cora','line2.5',directed=False)\n",
    "eval_n2v(emb[0])"
   ]
  },
  {
   "cell_type": "code",
   "execution_count": 78,
   "metadata": {},
   "outputs": [
    {
     "name": "stdout",
     "output_type": "stream",
     "text": [
      "64.400000\n"
     ]
    }
   ],
   "source": [
    "emb = EmbeddingData('/tmp/Line2.10UndEmbCora','cora','line2.10',directed=False)\n",
    "eval_n2v(emb[0])"
   ]
  },
  {
   "cell_type": "code",
   "execution_count": 72,
   "metadata": {},
   "outputs": [
    {
     "name": "stdout",
     "output_type": "stream",
     "text": [
      "61.20\n"
     ]
    }
   ],
   "source": [
    "emb = EmbeddingData('/tmp/Line2.15UndEmbCora','cora','line2.15',directed=False)\n",
    "eval_n2v(emb[0])"
   ]
  },
  {
   "cell_type": "code",
   "execution_count": 66,
   "metadata": {},
   "outputs": [
    {
     "name": "stdout",
     "output_type": "stream",
     "text": [
      "61.60\n"
     ]
    }
   ],
   "source": [
    "emb = EmbeddingData('/tmp/Line2UndEmbCora','cora','line2',directed=False)\n",
    "eval_n2v(emb[0])"
   ]
  },
  {
   "cell_type": "markdown",
   "metadata": {},
   "source": [
    "We set NS=5"
   ]
  },
  {
   "cell_type": "code",
   "execution_count": 80,
   "metadata": {},
   "outputs": [
    {
     "name": "stdout",
     "output_type": "stream",
     "text": [
      "67.00\n"
     ]
    }
   ],
   "source": [
    "emb = EmbeddingData('/tmp/Line2.5UndEmbCora','cora','line2.5',directed=False)\n",
    "test_n2v(emb[0])"
   ]
  },
  {
   "cell_type": "code",
   "execution_count": 83,
   "metadata": {},
   "outputs": [
    {
     "name": "stdout",
     "output_type": "stream",
     "text": [
      "57.20\n"
     ]
    }
   ],
   "source": [
    "emb = EmbeddingData('/tmp/Line2.5DirEmbCora','cora','line2.5',directed=True)\n",
    "test_n2v(emb[0])"
   ]
  },
  {
   "cell_type": "code",
   "execution_count": 211,
   "metadata": {},
   "outputs": [
    {
     "name": "stdout",
     "output_type": "stream",
     "text": [
      "58.70\n"
     ]
    }
   ],
   "source": [
    "emb = EmbeddingData('/tmp/Line2.5RevEmbCora','cora','line2.5',directed=True,reverse=True)\n",
    "test_n2v(emb[0])"
   ]
  },
  {
   "cell_type": "markdown",
   "metadata": {},
   "source": [
    "#### NERD"
   ]
  },
  {
   "cell_type": "markdown",
   "metadata": {},
   "source": [
    "Param search"
   ]
  },
  {
   "cell_type": "code",
   "execution_count": 46,
   "metadata": {},
   "outputs": [
    {
     "name": "stdout",
     "output_type": "stream",
     "text": [
      "57.60\n",
      "59.60\n"
     ]
    }
   ],
   "source": [
    "# WL=3\n",
    "emb = EmbeddingData('/tmp/NerdDirHubEmbCora','cora','nerd.hub',directed=True)\n",
    "eval_n2v(emb[0])\n",
    "emb = EmbeddingData('/tmp/NerdDirHubEmbCora','cora','nerd.hub',directed=True)\n",
    "test_n2v(emb[0])"
   ]
  },
  {
   "cell_type": "code",
   "execution_count": 45,
   "metadata": {},
   "outputs": [
    {
     "name": "stdout",
     "output_type": "stream",
     "text": [
      "61.00\n",
      "62.80\n"
     ]
    }
   ],
   "source": [
    "# WL=5\n",
    "emb = EmbeddingData('/tmp/NerdDirHub5EmbCora','cora','nerd.hub.5',directed=True)\n",
    "eval_n2v(emb[0])\n",
    "emb = EmbeddingData('/tmp/NerdDirAut5EmbCora','cora','nerd.aut.5',directed=True)\n",
    "eval_n2v(emb[0])"
   ]
  },
  {
   "cell_type": "code",
   "execution_count": 41,
   "metadata": {},
   "outputs": [
    {
     "name": "stdout",
     "output_type": "stream",
     "text": [
      "59.00\n",
      "66.60\n"
     ]
    }
   ],
   "source": [
    "# WL=10\n",
    "emb = EmbeddingData('/tmp/NerdDirHub10EmbCora','cora','nerd.hub.10',directed=True)\n",
    "eval_n2v(emb[0])\n",
    "emb = EmbeddingData('/tmp/NerdDirAut10EmbCora','cora','nerd.aut.10',directed=True)\n",
    "eval_n2v(emb[0])"
   ]
  },
  {
   "cell_type": "code",
   "execution_count": 48,
   "metadata": {},
   "outputs": [
    {
     "name": "stdout",
     "output_type": "stream",
     "text": [
      "58.60\n",
      "67.00\n"
     ]
    }
   ],
   "source": [
    "# WL=15\n",
    "emb = EmbeddingData('/tmp/NerdDirHub15EmbCora','cora','nerd.hub.15',directed=True)\n",
    "eval_n2v(emb[0])\n",
    "emb = EmbeddingData('/tmp/NerdDirAut15EmbCora','cora','nerd.aut.15',directed=True)\n",
    "eval_n2v(emb[0])"
   ]
  },
  {
   "cell_type": "code",
   "execution_count": 51,
   "metadata": {},
   "outputs": [
    {
     "name": "stdout",
     "output_type": "stream",
     "text": [
      "57.40\n",
      "66.20\n"
     ]
    }
   ],
   "source": [
    "# WL=20\n",
    "emb = EmbeddingData('/tmp/NerdDirHub20EmbCora','cora','nerd.hub.20',directed=True)\n",
    "eval_n2v(emb[0])\n",
    "emb = EmbeddingData('/tmp/NerdDirAut20EmbCora','cora','nerd.aut.20',directed=True)\n",
    "eval_n2v(emb[0])"
   ]
  },
  {
   "cell_type": "markdown",
   "metadata": {},
   "source": [
    "Seems WL=15 is the solution"
   ]
  },
  {
   "cell_type": "code",
   "execution_count": 53,
   "metadata": {},
   "outputs": [
    {
     "name": "stdout",
     "output_type": "stream",
     "text": [
      "59.20\n",
      "67.20\n"
     ]
    }
   ],
   "source": [
    "# NS=15\n",
    "emb = EmbeddingData('/tmp/NerdDirHub15.15EmbCora','cora','nerd.hub.15.15',directed=True)\n",
    "eval_n2v(emb[0])\n",
    "emb = EmbeddingData('/tmp/NerdDirAut15.15EmbCora','cora','nerd.aut.15.15',directed=True)\n",
    "eval_n2v(emb[0])"
   ]
  },
  {
   "cell_type": "code",
   "execution_count": 55,
   "metadata": {},
   "outputs": [
    {
     "name": "stdout",
     "output_type": "stream",
     "text": [
      "58.00\n",
      "64.40\n"
     ]
    }
   ],
   "source": [
    "# NS=10\n",
    "emb = EmbeddingData('/tmp/NerdDirHub15.10EmbCora','cora','nerd.hub.15.10',directed=True)\n",
    "eval_n2v(emb[0])\n",
    "emb = EmbeddingData('/tmp/NerdDirAut15.10EmbCora','cora','nerd.aut.15.10',directed=True)\n",
    "eval_n2v(emb[0])"
   ]
  },
  {
   "cell_type": "code",
   "execution_count": 57,
   "metadata": {},
   "outputs": [
    {
     "name": "stdout",
     "output_type": "stream",
     "text": [
      "58.80\n",
      "66.00\n"
     ]
    }
   ],
   "source": [
    "# NS=5\n",
    "emb = EmbeddingData('/tmp/NerdDirHub15.5EmbCora','cora','nerd.hub.15.5',directed=True)\n",
    "eval_n2v(emb[0])\n",
    "emb = EmbeddingData('/tmp/NerdDirAut15.5EmbCora','cora','nerd.aut.15.5',directed=True)\n",
    "eval_n2v(emb[0])"
   ]
  },
  {
   "cell_type": "markdown",
   "metadata": {},
   "source": [
    "Seems NS=15 is the solution"
   ]
  },
  {
   "cell_type": "code",
   "execution_count": 58,
   "metadata": {},
   "outputs": [
    {
     "name": "stdout",
     "output_type": "stream",
     "text": [
      "61.20\n",
      "67.90\n"
     ]
    }
   ],
   "source": [
    "emb = EmbeddingData('/tmp/NerdDirHub15.15EmbCora','cora','nerd.hub.15.15',directed=True)\n",
    "test_n2v(emb[0])\n",
    "emb = EmbeddingData('/tmp/NerdDirAut15.15EmbCora','cora','nerd.aut.15.15',directed=True)\n",
    "test_n2v(emb[0])"
   ]
  },
  {
   "cell_type": "code",
   "execution_count": 146,
   "metadata": {},
   "outputs": [
    {
     "name": "stdout",
     "output_type": "stream",
     "text": [
      "75.70\n",
      "75.30\n"
     ]
    }
   ],
   "source": [
    "emb = EmbeddingData('/tmp/NerdUndHub15.15EmbCora','cora','nerd.hub.15.15',directed=False)\n",
    "test_n2v(emb[0])\n",
    "emb = EmbeddingData('/tmp/NerdUndAut15.15EmbCora','cora','nerd.aut.15.15',directed=False)\n",
    "test_n2v(emb[0])"
   ]
  },
  {
   "cell_type": "markdown",
   "metadata": {},
   "source": [
    "### CiteSeer\n",
    "Baseline Accuracy: 0.6123"
   ]
  },
  {
   "cell_type": "markdown",
   "metadata": {},
   "source": [
    "#### node2vec"
   ]
  },
  {
   "cell_type": "code",
   "execution_count": 129,
   "metadata": {},
   "outputs": [
    {
     "name": "stdout",
     "output_type": "stream",
     "text": [
      "65.30\n"
     ]
    }
   ],
   "source": [
    "emb = EmbeddingData('/tmp/n2vUndp0.25EmbCiteseer','citeseer','node2vec_rw.p0.25.q1.75',directed=False)\n",
    "test_n2v(emb[0])"
   ]
  },
  {
   "cell_type": "code",
   "execution_count": 130,
   "metadata": {},
   "outputs": [
    {
     "name": "stdout",
     "output_type": "stream",
     "text": [
      "60.60\n"
     ]
    }
   ],
   "source": [
    "emb = EmbeddingData('/tmp/n2vDirp0.25EmbCiteseer','citeseer','node2vec_rw.p0.25.q1.75',directed=True)\n",
    "test_n2v(emb[0])"
   ]
  },
  {
   "cell_type": "code",
   "execution_count": 217,
   "metadata": {},
   "outputs": [
    {
     "name": "stdout",
     "output_type": "stream",
     "text": [
      "61.70\n"
     ]
    }
   ],
   "source": [
    "emb = EmbeddingData('/tmp/n2vRevEmbCiteseer','citeseer','node2vec_rw',directed=True,reverse=True)\n",
    "test_n2v(emb[0])"
   ]
  },
  {
   "cell_type": "markdown",
   "metadata": {},
   "source": [
    "#### HOPE"
   ]
  },
  {
   "cell_type": "code",
   "execution_count": 247,
   "metadata": {},
   "outputs": [
    {
     "name": "stdout",
     "output_type": "stream",
     "text": [
      "Processing...\n",
      "15\n",
      "0\n",
      "Done!\n",
      "61.40\n"
     ]
    }
   ],
   "source": [
    "emb = EmbeddingData('/tmp/Hopecommon-neighbors_UndEmbCiteseer','citeseer','hope_common-neighbors',directed=False)\n",
    "test_n2v(emb[0])"
   ]
  },
  {
   "cell_type": "code",
   "execution_count": 208,
   "metadata": {},
   "outputs": [
    {
     "name": "stdout",
     "output_type": "stream",
     "text": [
      "61.20\n",
      "61.20\n"
     ]
    }
   ],
   "source": [
    "emb = EmbeddingData('/tmp/Hopecommon-neighborsDirEmbCiteseer','citeseer','hope.common-neighbors',directed=True)\n",
    "test_n2v(emb[0])\n",
    "emb = EmbeddingData('/tmp/Hopecommon-neighborsRevEmbCiteseer','citeseer','hope.common-neighbors',directed=True,reverse=True)\n",
    "test_n2v(emb[0])"
   ]
  },
  {
   "cell_type": "markdown",
   "metadata": {},
   "source": [
    "LINE did not work for citeseer in directed and reversed cases"
   ]
  },
  {
   "cell_type": "markdown",
   "metadata": {},
   "source": [
    "#### LINE(1)"
   ]
  },
  {
   "cell_type": "code",
   "execution_count": 159,
   "metadata": {},
   "outputs": [
    {
     "name": "stdout",
     "output_type": "stream",
     "text": [
      "63.90\n"
     ]
    }
   ],
   "source": [
    "emb = EmbeddingData('/tmp/Line1.5UndEmbCiteseer','citeseer','line1.5',directed=False)\n",
    "test_n2v(emb[0])"
   ]
  },
  {
   "cell_type": "markdown",
   "metadata": {},
   "source": [
    "#### LINE(2)"
   ]
  },
  {
   "cell_type": "code",
   "execution_count": 163,
   "metadata": {},
   "outputs": [
    {
     "name": "stdout",
     "output_type": "stream",
     "text": [
      "Processing...\n",
      "15\n",
      "0\n",
      "Done!\n",
      "66.40\n"
     ]
    }
   ],
   "source": [
    "emb = EmbeddingData('/tmp/Line2.5UndEmbCiteseer','citeseer','line2.5',directed=False)\n",
    "test_n2v(emb[0])"
   ]
  },
  {
   "cell_type": "code",
   "execution_count": 166,
   "metadata": {},
   "outputs": [
    {
     "name": "stdout",
     "output_type": "stream",
     "text": [
      "Processing...\n",
      "15\n",
      "0\n",
      "Done!\n",
      "56.90\n"
     ]
    }
   ],
   "source": [
    "emb = EmbeddingData('/tmp/Line2.5DirEmbCiteseer','citeseer','line2.5',directed=True)\n",
    "test_n2v(emb[0])"
   ]
  },
  {
   "cell_type": "code",
   "execution_count": 167,
   "metadata": {},
   "outputs": [
    {
     "name": "stdout",
     "output_type": "stream",
     "text": [
      "Processing...\n",
      "15\n",
      "0\n",
      "Done!\n",
      "62.30\n"
     ]
    }
   ],
   "source": [
    "emb = EmbeddingData('/tmp/Line2.5RevEmbCiteseer','citeseer','line2.5',directed=True,reverse=True)\n",
    "test_n2v(emb[0])"
   ]
  },
  {
   "cell_type": "markdown",
   "metadata": {},
   "source": [
    "#### NERD"
   ]
  },
  {
   "cell_type": "code",
   "execution_count": 258,
   "metadata": {},
   "outputs": [
    {
     "name": "stdout",
     "output_type": "stream",
     "text": [
      "62.10\n"
     ]
    }
   ],
   "source": [
    "emb = EmbeddingData('/tmp/NerdDirAutEmbCiteseer','citeseer','nerd.aut',directed=True)\n",
    "test_n2v(emb[0])"
   ]
  },
  {
   "cell_type": "code",
   "execution_count": 259,
   "metadata": {},
   "outputs": [
    {
     "name": "stdout",
     "output_type": "stream",
     "text": [
      "57.40\n"
     ]
    }
   ],
   "source": [
    "emb = EmbeddingData('/tmp/NerdDirHubEmbCiteseer','citeseer','nerd.hub',directed=True)\n",
    "test_n2v(emb[0])"
   ]
  },
  {
   "cell_type": "code",
   "execution_count": 260,
   "metadata": {},
   "outputs": [
    {
     "name": "stdout",
     "output_type": "stream",
     "text": [
      "58.50\n"
     ]
    }
   ],
   "source": [
    "emb = EmbeddingData('/tmp/NerdDirEmbCiteseer','citeseer','nerd',directed=True)\n",
    "test_n2v(emb[0])"
   ]
  },
  {
   "cell_type": "code",
   "execution_count": 155,
   "metadata": {},
   "outputs": [
    {
     "name": "stdout",
     "output_type": "stream",
     "text": [
      "57.60\n",
      "62.40\n"
     ]
    }
   ],
   "source": [
    "emb = EmbeddingData('/tmp/NerdDirHub15.15EmbCiteseer','citeseer','nerd.hub.15.15',directed=True)\n",
    "test_n2v(emb[0])\n",
    "emb = EmbeddingData('/tmp/NerdDirAut15.15EmbCiteseer','citeseer','nerd.aut.15.15',directed=True)\n",
    "test_n2v(emb[0])"
   ]
  },
  {
   "cell_type": "code",
   "execution_count": 158,
   "metadata": {},
   "outputs": [
    {
     "name": "stdout",
     "output_type": "stream",
     "text": [
      "Processing...\n",
      "15\n",
      "0\n",
      "Done!\n",
      "65.10\n",
      "Processing...\n",
      "15\n",
      "0\n",
      "Done!\n",
      "66.30\n"
     ]
    }
   ],
   "source": [
    "emb = EmbeddingData('/tmp/NerdUndHub15.15EmbCiteseer','citeseer','nerd.hub.15.15',directed=False)\n",
    "test_n2v(emb[0])\n",
    "emb = EmbeddingData('/tmp/NerdUndAut15.15EmbCiteseer','citeseer','nerd.aut.15.15',directed=False)\n",
    "test_n2v(emb[0])"
   ]
  },
  {
   "cell_type": "markdown",
   "metadata": {},
   "source": [
    "### PubMed\n",
    "Baseline Accuracy: 0.6127"
   ]
  },
  {
   "cell_type": "markdown",
   "metadata": {},
   "source": [
    "#### node2vec"
   ]
  },
  {
   "cell_type": "code",
   "execution_count": 138,
   "metadata": {},
   "outputs": [
    {
     "name": "stdout",
     "output_type": "stream",
     "text": [
      "55.50\n"
     ]
    }
   ],
   "source": [
    "emb = EmbeddingData('/tmp/n2vUndp0.25EmbPubMed','PubMed','node2vec_rw.p0.25.q1.75',directed=False)\n",
    "test_n2v(emb[0])"
   ]
  },
  {
   "cell_type": "code",
   "execution_count": 139,
   "metadata": {},
   "outputs": [
    {
     "name": "stdout",
     "output_type": "stream",
     "text": [
      "54.30\n"
     ]
    }
   ],
   "source": [
    "emb = EmbeddingData('/tmp/n2vDirp0.25EmbPubMed','PubMed','node2vec_rw.p0.25.q1.75',directed=True)\n",
    "test_n2v(emb[0])"
   ]
  },
  {
   "cell_type": "code",
   "execution_count": 225,
   "metadata": {},
   "outputs": [
    {
     "name": "stdout",
     "output_type": "stream",
     "text": [
      "39.40\n"
     ]
    },
    {
     "name": "stderr",
     "output_type": "stream",
     "text": [
      "/home/s-hussain/anaconda3/lib/python3.7/site-packages/sklearn/linear_model/logistic.py:758: ConvergenceWarning: lbfgs failed to converge. Increase the number of iterations.\n",
      "  \"of iterations.\", ConvergenceWarning)\n"
     ]
    }
   ],
   "source": [
    "emb = EmbeddingData('/tmp/n2vRevEmbPubMed','PubMed','node2vec_rw',directed=True,reverse=True)\n",
    "test_n2v(emb[0])"
   ]
  },
  {
   "cell_type": "markdown",
   "metadata": {},
   "source": [
    "#### HOPE"
   ]
  },
  {
   "cell_type": "code",
   "execution_count": 248,
   "metadata": {},
   "outputs": [
    {
     "name": "stdout",
     "output_type": "stream",
     "text": [
      "Processing...\n",
      "0\n",
      "0\n",
      "Done!\n",
      "70.00\n"
     ]
    }
   ],
   "source": [
    "emb = EmbeddingData('/tmp/Hopecommon-neighbors_UndEmbPubMed','PubMed','hope_common-neighbors',directed=False)\n",
    "test_n2v(emb[0])"
   ]
  },
  {
   "cell_type": "code",
   "execution_count": 204,
   "metadata": {},
   "outputs": [
    {
     "name": "stdout",
     "output_type": "stream",
     "text": [
      "68.20\n"
     ]
    }
   ],
   "source": [
    "emb = EmbeddingData('/tmp/Hopecommon-neighborsDirEmbPubMed','PubMed','hope.common-neighbors',directed=True)\n",
    "test_n2v(emb[0])"
   ]
  },
  {
   "cell_type": "code",
   "execution_count": 205,
   "metadata": {},
   "outputs": [
    {
     "name": "stdout",
     "output_type": "stream",
     "text": [
      "68.20\n"
     ]
    }
   ],
   "source": [
    "emb = EmbeddingData('/tmp/Hopecommon-neighborsRevEmbPubMed','PubMed','hope.common-neighbors',directed=True,reverse=True)\n",
    "test_n2v(emb[0])"
   ]
  },
  {
   "cell_type": "code",
   "execution_count": 226,
   "metadata": {},
   "outputs": [
    {
     "name": "stdout",
     "output_type": "stream",
     "text": [
      "67.30\n"
     ]
    }
   ],
   "source": [
    "emb = EmbeddingData('/tmp/HopeUndEmbPubMed','PubMed','hope_gsvd',directed=False)\n",
    "test_n2v(emb[0])"
   ]
  },
  {
   "cell_type": "code",
   "execution_count": 227,
   "metadata": {},
   "outputs": [
    {
     "name": "stdout",
     "output_type": "stream",
     "text": [
      "67.30\n"
     ]
    }
   ],
   "source": [
    "emb = EmbeddingData('/tmp/HopeDirEmbPubMed','PubMed','hope_gsvd',directed=True)\n",
    "test_n2v(emb[0])"
   ]
  },
  {
   "cell_type": "code",
   "execution_count": 228,
   "metadata": {},
   "outputs": [
    {
     "name": "stdout",
     "output_type": "stream",
     "text": [
      "66.90\n"
     ]
    }
   ],
   "source": [
    "emb = EmbeddingData('/tmp/HopeRevEmbPubMed','PubMed','hope_gsvd',directed=True,reverse=True)\n",
    "test_n2v(emb[0])"
   ]
  },
  {
   "cell_type": "markdown",
   "metadata": {},
   "source": [
    "#### LINE(1)"
   ]
  },
  {
   "cell_type": "code",
   "execution_count": 171,
   "metadata": {},
   "outputs": [
    {
     "name": "stdout",
     "output_type": "stream",
     "text": [
      "72.50\n"
     ]
    }
   ],
   "source": [
    "emb = EmbeddingData('/tmp/Line1.5UndEmbPubMed','PubMed','line1.5',directed=False)\n",
    "test_n2v(emb[0])"
   ]
  },
  {
   "cell_type": "code",
   "execution_count": 230,
   "metadata": {
    "collapsed": true,
    "jupyter": {
     "outputs_hidden": true
    }
   },
   "outputs": [
    {
     "name": "stdout",
     "output_type": "stream",
     "text": [
      "45.80\n"
     ]
    }
   ],
   "source": [
    "emb = EmbeddingData('/tmp/Line1DirEmbPubMed','PubMed','line1',directed=True)\n",
    "test_n2v(emb[0])"
   ]
  },
  {
   "cell_type": "code",
   "execution_count": 231,
   "metadata": {
    "collapsed": true,
    "jupyter": {
     "outputs_hidden": true
    }
   },
   "outputs": [
    {
     "name": "stdout",
     "output_type": "stream",
     "text": [
      "49.60\n"
     ]
    }
   ],
   "source": [
    "emb = EmbeddingData('/tmp/Line1RevEmbPubMed','PubMed','line1',directed=True,reverse=True)\n",
    "test_n2v(emb[0])"
   ]
  },
  {
   "cell_type": "markdown",
   "metadata": {},
   "source": [
    "#### LINE(2)"
   ]
  },
  {
   "cell_type": "code",
   "execution_count": 87,
   "metadata": {},
   "outputs": [
    {
     "name": "stdout",
     "output_type": "stream",
     "text": [
      "65.20\n"
     ]
    }
   ],
   "source": [
    "emb = EmbeddingData('/tmp/Line2.5UndEmbPubMed','PubMed','line2.5',directed=False)\n",
    "test_n2v(emb[0])"
   ]
  },
  {
   "cell_type": "code",
   "execution_count": 90,
   "metadata": {},
   "outputs": [
    {
     "name": "stdout",
     "output_type": "stream",
     "text": [
      "49.30\n"
     ]
    }
   ],
   "source": [
    "emb = EmbeddingData('/tmp/Line2.5DirEmbPubMed','PubMed','line2.5',directed=True)\n",
    "test_n2v(emb[0])"
   ]
  },
  {
   "cell_type": "code",
   "execution_count": 91,
   "metadata": {},
   "outputs": [
    {
     "name": "stdout",
     "output_type": "stream",
     "text": [
      "58.20\n"
     ]
    }
   ],
   "source": [
    "emb = EmbeddingData('/tmp/Line2.5RevEmbPubMed','PubMed','line2.5',directed=True,reverse=True)\n",
    "test_n2v(emb[0])"
   ]
  },
  {
   "cell_type": "markdown",
   "metadata": {},
   "source": [
    "#### NERD"
   ]
  },
  {
   "cell_type": "code",
   "execution_count": 235,
   "metadata": {},
   "outputs": [
    {
     "name": "stdout",
     "output_type": "stream",
     "text": [
      "67.90\n"
     ]
    }
   ],
   "source": [
    "emb = EmbeddingData('/tmp/NerdDirAutEmbPubMed','PubMed','nerd.aut',directed=True)\n",
    "test_n2v(emb[0])"
   ]
  },
  {
   "cell_type": "code",
   "execution_count": 236,
   "metadata": {},
   "outputs": [
    {
     "name": "stdout",
     "output_type": "stream",
     "text": [
      "52.50\n"
     ]
    }
   ],
   "source": [
    "emb = EmbeddingData('/tmp/NerdDirHubEmbPubMed','PubMed','nerd.hub',directed=True)\n",
    "test_n2v(emb[0])"
   ]
  },
  {
   "cell_type": "code",
   "execution_count": 237,
   "metadata": {},
   "outputs": [
    {
     "name": "stdout",
     "output_type": "stream",
     "text": [
      "67.90\n"
     ]
    }
   ],
   "source": [
    "emb = EmbeddingData('/tmp/NerdDirEmbPubMed','PubMed','nerd',directed=True)\n",
    "test_n2v(emb[0])"
   ]
  },
  {
   "cell_type": "code",
   "execution_count": 148,
   "metadata": {},
   "outputs": [
    {
     "name": "stdout",
     "output_type": "stream",
     "text": [
      "53.60\n",
      "71.50\n"
     ]
    }
   ],
   "source": [
    "emb = EmbeddingData('/tmp/NerdDirHub15.15EmbPubMed','PubMed','nerd.hub.15.15',directed=True)\n",
    "test_n2v(emb[0])\n",
    "emb = EmbeddingData('/tmp/NerdDirAut15.15EmbPubMed','PubMed','nerd.aut.15.15',directed=True)\n",
    "test_n2v(emb[0])"
   ]
  },
  {
   "cell_type": "code",
   "execution_count": 151,
   "metadata": {},
   "outputs": [
    {
     "name": "stdout",
     "output_type": "stream",
     "text": [
      "72.70\n",
      "72.80\n"
     ]
    }
   ],
   "source": [
    "emb = EmbeddingData('/tmp/NerdUndHub15.15EmbPubMed','PubMed','nerd.hub.15.15',directed=False)\n",
    "test_n2v(emb[0])\n",
    "emb = EmbeddingData('/tmp/NerdUndAut15.15EmbPubMed','PubMed','nerd.aut.15.15',directed=False)\n",
    "test_n2v(emb[0])"
   ]
  },
  {
   "cell_type": "code",
   "execution_count": null,
   "metadata": {},
   "outputs": [],
   "source": []
  }
 ],
 "metadata": {
  "kernelspec": {
   "display_name": "Python 3",
   "language": "python",
   "name": "python3"
  },
  "language_info": {
   "codemirror_mode": {
    "name": "ipython",
    "version": 3
   },
   "file_extension": ".py",
   "mimetype": "text/x-python",
   "name": "python",
   "nbconvert_exporter": "python",
   "pygments_lexer": "ipython3",
   "version": "3.7.5"
  }
 },
 "nbformat": 4,
 "nbformat_minor": 4
}
