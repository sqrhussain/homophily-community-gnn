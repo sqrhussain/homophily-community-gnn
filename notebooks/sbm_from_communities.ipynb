{
 "cells": [
  {
   "cell_type": "code",
   "execution_count": null,
   "outputs": [],
   "source": [
    "import networkx as nx\n",
    "import numpy as np\n",
    "import community as comms\n",
    "import pickle\n",
    "from networkx.algorithms.community import greedy_modularity_communities\n",
    "from networkx.generators.community import stochastic_block_model\n",
    "from scipy.sparse import csr_matrix"
   ],
   "metadata": {
    "collapsed": false,
    "pycharm": {
     "name": "#%%\n"
    }
   }
  },
  {
   "cell_type": "code",
   "execution_count": null,
   "outputs": [],
   "source": [
    "def create_graph_and_node_mappings_from_file(filepath, type='undirected'):\n",
    "    if type == 'undirected':\n",
    "        G = nx.Graph()\n",
    "    else:\n",
    "        G = nx.DiGraph()\n",
    "    node_mappings = {}\n",
    "    reverse_node_mappings = {}\n",
    "    with open(filepath, 'r') as f:\n",
    "        counter = 0\n",
    "        for line in f:\n",
    "            edge = line.strip().split()\n",
    "            node1 = str(edge[0])\n",
    "            node2 = str(edge[1])\n",
    "            if node1 not in node_mappings:\n",
    "                node_mappings[node1] = counter\n",
    "                reverse_node_mappings[counter] = node1\n",
    "                counter += 1\n",
    "            if node2 not in node_mappings:\n",
    "                node_mappings[node2] = counter\n",
    "                reverse_node_mappings[counter] = node2 \n",
    "                counter += 1\n",
    "            if type == 'undirected' or type == 'directed':\n",
    "                source_node = node_mappings[node1]\n",
    "                target_node = node_mappings[node2]\n",
    "            elif type == 'reverse_directed':\n",
    "                source_node = node_mappings[node2]\n",
    "                target_node = node_mappings[node1]\n",
    "            G.add_edge(source_node, target_node)\n",
    "    return G, node_mappings, reverse_node_mappings\n",
    "\n",
    "def create_greedy_modularity_communities_dict(G, reverse_node_mappings):\n",
    "    gm_communities = greedy_modularity_communities(G)\n",
    "    node_communities_gm = {}\n",
    "    community_counter = 0\n",
    "    for community in gm_communities:\n",
    "        for node in community:\n",
    "            node_communities_gm[reverse_node_mappings[node]] = community_counter\n",
    "        community_counter += 1\n",
    "    return node_communities_gm, community_counter + 1\n",
    "\n",
    "def create_louvain_communities_dict(G, reverse_node_mappings):\n",
    "    node_communities_louvain = comms.best_partition(G)\n",
    "    node_communities_louvain_original_ids = {}\n",
    "    distinct_communities = []\n",
    "    for reverse_node_id in node_communities_louvain:\n",
    "        node_communities_louvain_original_ids[reverse_node_mappings[reverse_node_id]] = node_communities_louvain[reverse_node_id]\n",
    "        if node_communities_louvain[reverse_node_id] not in distinct_communities:\n",
    "            distinct_communities.append(node_communities_louvain[reverse_node_id])\n",
    "    return node_communities_louvain_original_ids, len(distinct_communities)\n",
    "\n",
    "def store_community_dict_as_file(community_dict, filepath):\n",
    "    with open(filepath, 'wb') as handle:\n",
    "        pickle.dump(community_dict, handle, protocol=2)\n",
    "\n",
    "def calculate_edge_probabilities(G, communities, node_id_community_id_dict, reverse_node_mappings=None):\n",
    "    between_community_stats = {}\n",
    "    for edge in G.edges():\n",
    "        # set source and target id\n",
    "        source_id = edge[0]\n",
    "        target_id = edge[1]\n",
    "        if reverse_node_mappings is not None:\n",
    "            source_id = reverse_node_mappings[source_id]\n",
    "            target_id = reverse_node_mappings[target_id]\n",
    "        source_community_id = node_id_community_id_dict[source_id]\n",
    "        target_community_id = node_id_community_id_dict[target_id]\n",
    "        if (source_community_id, target_community_id) not in between_community_stats:\n",
    "            source_community_size = len(communities[source_community_id])\n",
    "            target_community_size = len(communities[target_community_id])\n",
    "            if G.is_directed():\n",
    "                if source_community_id == target_community_id:\n",
    "                    max_edge_count = (source_community_size*(source_community_size-1))\n",
    "                    if has_selfloops(G):\n",
    "                        max_edge_count += source_community_size\n",
    "                else:\n",
    "                    max_edge_count = 2*source_community_size*target_community_size\n",
    "            else:\n",
    "                if source_community_id == target_community_id:\n",
    "                    max_edge_count = (source_community_size*(source_community_size-1))/2\n",
    "                    if has_selfloops(G):\n",
    "                        max_edge_count += source_community_size\n",
    "                else:\n",
    "                    max_edge_count = source_community_size*target_community_size                  \n",
    "            between_community_stats[(source_community_id, target_community_id)] = {\"existing_edge_count\":0, \"max_edge_count\": max_edge_count}\n",
    "            if not G.is_directed() and source_community_id != target_community_id:\n",
    "                between_community_stats[(target_community_id, source_community_id)] = {\"existing_edge_count\":0, \"max_edge_count\": max_edge_count}\n",
    "        between_community_stats[(source_community_id, target_community_id)]['existing_edge_count'] += 1\n",
    "        if not G.is_directed() and source_community_id != target_community_id:\n",
    "            between_community_stats[(target_community_id, source_community_id)]['existing_edge_count'] += 1\n",
    "    for key in between_community_stats:\n",
    "        between_community_stats[key]['edge_probability'] = between_community_stats[key]['existing_edge_count'] /  between_community_stats[key]['max_edge_count']\n",
    "    rows = []\n",
    "    cols = []\n",
    "    data = []\n",
    "    for key in between_community_stats:\n",
    "        rows.append(key[0])\n",
    "        cols.append(key[1])\n",
    "        if between_community_stats[key]['edge_probability'] < 0 or between_community_stats[key]['edge_probability'] > 1:\n",
    "            print(key)\n",
    "        data.append(between_community_stats[key]['edge_probability'])\n",
    "    communities_count = len(communities)\n",
    "    return csr_matrix((data, (rows,cols)), shape=(communities_count, communities_count), dtype=float).todense().tolist()\n",
    "\n",
    "def has_selfloops(G):\n",
    "    return G.number_of_selfloops() > 0\n",
    "\n",
    "def get_block_sizes(communities):\n",
    "    block_sizes = []\n",
    "    for community_id in communities:\n",
    "        block_sizes.append(len(communities[community_id]))\n",
    "    return block_sizes\n",
    "\n",
    "def get_nodelist(communities, node_mappings=None):\n",
    "    nodelist = []\n",
    "    for community_id in communities:\n",
    "        community = communities[community_id]\n",
    "        for node_id in community:\n",
    "            if node_mappings is not None:\n",
    "                nodelist.append(node_mappings[node_id])\n",
    "            else:\n",
    "                nodelist.append(node_id)\n",
    "    return nodelist\n",
    "\n",
    "def check_symmetric(a, rtol=1e-05, atol=1e-08):\n",
    "    return np.allclose(a, a.T, rtol=rtol, atol=atol)        "
   ],
   "metadata": {
    "collapsed": false,
    "pycharm": {
     "name": "#%%\n"
    }
   }
  },
  {
   "cell_type": "code",
   "execution_count": null,
   "outputs": [],
   "source": [
    "datasets = ['citeseer', 'cora', 'cora_full', 'PubMed']\n",
    "# graph_types = ['undirected']#, 'directed', 'reverse_directed']\n",
    "community_count = {}\n",
    "graphs = {}\n",
    "node_mappings_dict = {}\n",
    "reverse_node_mappings_dict = {}\n",
    "\n",
    "data_directory = '../data/raw/'\n",
    "communities_directory = '../data/community_id_dicts/'"
   ],
   "metadata": {
    "collapsed": false,
    "pycharm": {
     "name": "#%%\n"
    }
   }
  },
  {
   "cell_type": "code",
   "execution_count": null,
   "outputs": [],
   "source": [
    "for dataset in datasets:\n",
    "    filepath = data_directory + dataset + '/' + dataset + '.cites'\n",
    "    G, node_mappings, reverse_node_mappings = create_graph_and_node_mappings_from_file(filepath, type)\n",
    "    graphs[dataset] = G\n",
    "    node_mappings_dict[dataset] = node_mappings\n",
    "    reverse_node_mappings_dict[dataset] = reverse_node_mappings\n",
    "    node_communities_gm, distinct_gm_count = create_greedy_modularity_communities_dict(G, reverse_node_mappings)\n",
    "    node_communities_louvain, distinct_louvain_count = create_louvain_communities_dict(G, reverse_node_mappings)\n",
    "    community_count[dataset] = {'distinct_gm_count': distinct_gm_count, 'distinct_louvain_count': distinct_louvain_count}\n",
    "    store_community_dict_as_file(node_communities_gm, communities_directory + dataset + '/' + dataset + '_greedy_modularity.pickle')\n",
    "    store_community_dict_as_file(node_communities_louvain, communities_directory + dataset + '/' + dataset + '_louvain.pickle')"
   ],
   "metadata": {
    "collapsed": false,
    "pycharm": {
     "name": "#%%\n"
    }
   }
  },
  {
   "cell_type": "code",
   "execution_count": null,
   "outputs": [],
   "source": [
    "data_directory = '../data/raw/'"
   ],
   "metadata": {
    "collapsed": false,
    "pycharm": {
     "name": "#%%\n"
    }
   }
  },
  {
   "cell_type": "code",
   "execution_count": null,
   "outputs": [],
   "source": [
    "# create_and_store_graph_transformations(data_directory + 'cora_full' + '/' + 'cora_full' + '.cites')\n",
    "# create_and_store_graph_transformations_reverse_directed(data_directory + 'cora_full' + '/' + 'cora_full' + '.cites')"
   ],
   "metadata": {
    "collapsed": false,
    "pycharm": {
     "name": "#%%\n"
    }
   }
  },
  {
   "cell_type": "code",
   "execution_count": null,
   "outputs": [],
   "source": [
    "print(community_count)"
   ],
   "metadata": {
    "collapsed": false,
    "pycharm": {
     "name": "#%%\n"
    }
   }
  },
  {
   "cell_type": "code",
   "execution_count": null,
   "outputs": [],
   "source": [
    "gm_node_id_to_community_id = {}\n",
    "for dataset in datasets:\n",
    "    with open(communities_directory + dataset + '/' + dataset + '_greedy_modularity.pickle', 'rb') as handle:\n",
    "        gm_node_id_to_community_id[dataset] = pickle.load(handle)\n",
    "        \n",
    "louvain_node_id_to_community_id = {}\n",
    "for dataset in datasets:\n",
    "    with open(communities_directory + dataset + '/' + dataset + '_louvain.pickle', 'rb') as handle:\n",
    "        louvain_node_id_to_community_id[dataset] = pickle.load(handle)\n",
    "        "
   ],
   "metadata": {
    "collapsed": false,
    "pycharm": {
     "name": "#%%\n"
    }
   }
  },
  {
   "cell_type": "code",
   "execution_count": null,
   "outputs": [],
   "source": [
    "gm_community_id_to_node_id = {}\n",
    "\n",
    "for dataset in datasets:\n",
    "    gm_community_id_to_node_id[dataset] = {}\n",
    "    for node_id in gm_node_id_to_community_id[dataset]:\n",
    "        community_id = gm_node_id_to_community_id[dataset][node_id]\n",
    "        if community_id not in gm_community_id_to_node_id[dataset]:\n",
    "            gm_community_id_to_node_id[dataset][community_id] = []\n",
    "        gm_community_id_to_node_id[dataset][community_id].append(node_id)\n"
   ],
   "metadata": {
    "collapsed": false,
    "pycharm": {
     "name": "#%%\n"
    }
   }
  },
  {
   "cell_type": "code",
   "execution_count": null,
   "outputs": [],
   "source": [
    "louvain_community_id_to_node_id = {}\n",
    "\n",
    "for dataset in datasets:\n",
    "    louvain_community_id_to_node_id[dataset] = {}\n",
    "    for node_id in louvain_node_id_to_community_id[dataset]:\n",
    "        community_id = louvain_node_id_to_community_id[dataset][node_id]\n",
    "        if community_id not in louvain_community_id_to_node_id[dataset]:\n",
    "            louvain_community_id_to_node_id[dataset][community_id] = []\n",
    "        louvain_community_id_to_node_id[dataset][community_id].append(node_id)"
   ],
   "metadata": {
    "collapsed": false,
    "pycharm": {
     "name": "#%%\n"
    }
   }
  },
  {
   "cell_type": "code",
   "execution_count": null,
   "outputs": [],
   "source": [
    "gm_edge_probabilities = {}\n",
    "gm_block_sizes = {}\n",
    "gm_nodelists = {}\n",
    "\n",
    "louvain_edge_probabilities = {}\n",
    "louvain_block_sizes = {}\n",
    "louvain_nodelists = {}\n",
    "\n",
    "for dataset in datasets:\n",
    "    G = graphs[dataset]\n",
    "    node_mappings = node_mappings_dict[dataset]\n",
    "    reverse_node_mappings = reverse_node_mappings_dict[dataset]\n",
    "    gm_edge_probabilities[dataset] = calculate_edge_probabilities(G, gm_community_id_to_node_id[dataset], gm_node_id_to_community_id[dataset], reverse_node_mappings)\n",
    "    gm_block_sizes[dataset] = get_block_sizes(gm_community_id_to_node_id[dataset])\n",
    "    gm_nodelists[dataset] = get_nodelist(gm_community_id_to_node_id[dataset], node_mappings_dict[dataset])\n",
    "    louvain_edge_probabilities[dataset] = calculate_edge_probabilities(G, louvain_community_id_to_node_id[dataset], louvain_node_id_to_community_id[dataset], reverse_node_mappings)\n",
    "    louvain_block_sizes[dataset] = get_block_sizes(louvain_community_id_to_node_id[dataset])\n",
    "    louvain_nodelists[dataset] = get_nodelist(louvain_community_id_to_node_id[dataset], node_mappings_dict[dataset])"
   ],
   "metadata": {
    "collapsed": false,
    "pycharm": {
     "name": "#%%\n"
    }
   }
  },
  {
   "cell_type": "code",
   "execution_count": null,
   "outputs": [],
   "source": [
    "gm_stochastic_block_model_graphs = {}\n",
    "louvain_stochastic_block_model_graphs = {}"
   ],
   "metadata": {
    "collapsed": false,
    "pycharm": {
     "name": "#%%\n"
    }
   }
  },
  {
   "cell_type": "code",
   "execution_count": null,
   "outputs": [],
   "source": [
    "# create greedy modularity-based stochastic block model graphs\n",
    "for dataset in datasets:\n",
    "    gm_stochastic_block_model_graphs[dataset] =  []\n",
    "    louvain_stochastic_block_model_graphs[dataset] =  []\n",
    "    for seed in range(10):\n",
    "        G = stochastic_block_model(gm_block_sizes[dataset],\n",
    "                                   gm_edge_probabilities[dataset],\n",
    "                                   gm_nodelists[dataset],\n",
    "                                   seed,\n",
    "                                   False,\n",
    "                                   has_selfloops(graphs[dataset]),\n",
    "                                   True)\n",
    "        gm_stochastic_block_model_graphs[dataset].append({'seed':seed, 'graph':G})\n",
    "        G = stochastic_block_model(louvain_block_sizes[dataset],\n",
    "                                   louvain_edge_probabilities[dataset],\n",
    "                                   louvain_nodelists[dataset],\n",
    "                                   seed,\n",
    "                                   False,\n",
    "                                   has_selfloops(graphs[dataset]),\n",
    "                                   True)\n",
    "        louvain_stochastic_block_model_graphs[dataset].append({'seed':seed, 'graph':G})\n"
   ],
   "metadata": {
    "collapsed": false,
    "pycharm": {
     "name": "#%%\n"
    }
   }
  },
  {
   "cell_type": "code",
   "execution_count": null,
   "outputs": [],
   "source": [
    "for dataset in datasets:\n",
    "    for entry in gm_stochastic_block_model_graphs[dataset]:\n",
    "        print(len(entry['graph'].edges()))\n",
    "    print()"
   ],
   "metadata": {
    "collapsed": false,
    "pycharm": {
     "name": "#%%\n"
    }
   }
  },
  {
   "cell_type": "code",
   "execution_count": null,
   "outputs": [],
   "source": [
    "for dataset in datasets:\n",
    "    for entry in louvain_stochastic_block_model_graphs[dataset]:\n",
    "        print(len(entry['graph'].edges()))\n",
    "    print()"
   ],
   "metadata": {
    "collapsed": false,
    "pycharm": {
     "name": "#%%\n"
    }
   }
  },
  {
   "cell_type": "code",
   "execution_count": null,
   "outputs": [],
   "source": [
    "for dataset in graphs:\n",
    "    print(len(graphs[dataset].edges()))"
   ],
   "metadata": {
    "collapsed": false,
    "pycharm": {
     "name": "#%%\n"
    }
   }
  },
  {
   "cell_type": "code",
   "execution_count": 187,
   "outputs": [],
   "source": [
    "for dataset in datasets:\n",
    "    for entry in gm_stochastic_block_model_graphs[dataset]:\n",
    "        with open('../data/sbm_graphs/greedy_modularity_based/' + dataset + '/' + dataset + 'undirected_sbm_gm_seed_' + str(entry['seed']) + '.cites', 'a') as output_file:\n",
    "            for edge in list(entry['graph'].edges()):\n",
    "                source_id = reverse_node_mappings_dict[dataset][edge[0]]\n",
    "                target_id = reverse_node_mappings_dict[dataset][edge[1]]\n",
    "                output_file.write(source_id + ' ' + target_id + '\\n')"
   ],
   "metadata": {
    "collapsed": false,
    "pycharm": {
     "name": "#%%\n",
     "is_executing": false
    }
   }
  },
  {
   "cell_type": "code",
   "execution_count": 189,
   "outputs": [],
   "source": [
    "for dataset in datasets:\n",
    "    for entry in louvain_stochastic_block_model_graphs[dataset]:\n",
    "        with open('../data/sbm_graphs/louvain_based/' + dataset + '/' + dataset + 'undirected_sbm_louvain_seed_' + str(entry['seed']) + '.cites', 'a') as output_file:\n",
    "            for edge in list(entry['graph'].edges()):\n",
    "                source_id = reverse_node_mappings_dict[dataset][edge[0]]\n",
    "                target_id = reverse_node_mappings_dict[dataset][edge[1]]\n",
    "                output_file.write(source_id + ' ' + target_id + '\\n')\n"
   ],
   "metadata": {
    "collapsed": false,
    "pycharm": {
     "name": "#%%\n",
     "is_executing": false
    }
   }
  },
  {
   "cell_type": "code",
   "execution_count": null,
   "outputs": [],
   "source": [
    "# def create_and_store_graph_transformations(filepath):\n",
    "#     node_mappings = {}\n",
    "#     reverse_node_mappings = {}\n",
    "#     with open(filepath, 'r') as f1:\n",
    "#         with open('../data/raw/cora_full/cora_full_remapped.cites', 'w') as f2:\n",
    "#             counter = 0\n",
    "#             for line in f1:\n",
    "#                 edge = line.strip().split()\n",
    "#                 source_node = str(edge[0])\n",
    "#                 if source_node not in node_mappings:\n",
    "#                     node_mappings[source_node] = counter\n",
    "#                     reverse_node_mappings[counter] = source_node\n",
    "#                     counter += 1\n",
    "#                 target_node = str(edge[1])\n",
    "#                 if target_node not in node_mappings:\n",
    "#                     node_mappings[target_node] = counter\n",
    "#                     reverse_node_mappings[counter] = target_node\n",
    "#                     counter += 1\n",
    "#                 source_node = node_mappings[edge[0]]\n",
    "#                 target_node = node_mappings[edge[1]]\n",
    "#                 f2.write(str(source_node) + ' ' + str(target_node) + '\\n')\n",
    "#             store_community_dict_as_file(reverse_node_mappings, '../data/raw/cora_full/cora_full_remapped.pkl')\n",
    "# \n",
    "# \n",
    "# def create_and_store_graph_transformations_reverse_directed(filepath):\n",
    "#     node_mappings = {}\n",
    "#     reverse_node_mappings = {}\n",
    "#     with open(filepath, 'r') as f3:\n",
    "#         with open('../data/raw/cora_full/cora_full_remapped_reverse-directed.cites', 'w') as f4:\n",
    "#             counter = 0\n",
    "#             for line in f3:\n",
    "#                 edge = line.strip().split()\n",
    "#                 source_node = str(edge[1])\n",
    "#                 if source_node not in node_mappings:\n",
    "#                     node_mappings[source_node] = counter\n",
    "#                     reverse_node_mappings[counter] = source_node\n",
    "#                     counter += 1\n",
    "#                 target_node = str(edge[0])\n",
    "#                 if target_node not in node_mappings:\n",
    "#                     node_mappings[target_node] = counter\n",
    "#                     reverse_node_mappings[counter] = target_node\n",
    "#                     counter += 1\n",
    "#                 source_node = node_mappings[edge[1]]\n",
    "#                 target_node = node_mappings[edge[0]]\n",
    "#                 f4.write(str(source_node) + ' ' + str(target_node) + '\\n')\n",
    "#             store_community_dict_as_file(reverse_node_mappings, '../data/raw/cora_full/cora_full_remapped_reverse-directed.pkl')\n"
   ],
   "metadata": {
    "collapsed": false,
    "pycharm": {
     "name": "#%%\n"
    }
   }
  },
  {
   "cell_type": "code",
   "execution_count": null,
   "outputs": [],
   "source": [
    "\n"
   ],
   "metadata": {
    "collapsed": false,
    "pycharm": {
     "name": "#%%\n"
    }
   }
  }
 ],
 "metadata": {
  "kernelspec": {
   "display_name": "Python 3",
   "language": "python",
   "name": "python3"
  },
  "language_info": {
   "codemirror_mode": {
    "name": "ipython",
    "version": 2
   },
   "file_extension": ".py",
   "mimetype": "text/x-python",
   "name": "python",
   "nbconvert_exporter": "python",
   "pygments_lexer": "ipython2",
   "version": "2.7.6"
  },
  "pycharm": {
   "stem_cell": {
    "cell_type": "raw",
    "source": [],
    "metadata": {
     "collapsed": false
    }
   }
  }
 },
 "nbformat": 4,
 "nbformat_minor": 0
}