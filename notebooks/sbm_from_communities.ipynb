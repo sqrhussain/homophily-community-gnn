{
 "cells": [
  {
   "cell_type": "code",
   "execution_count": 28,
   "outputs": [],
   "source": [
    "import networkx as nx\n",
    "import numpy as np\n",
    "import community as comms\n",
    "import pickle\n",
    "from networkx.algorithms.community import greedy_modularity_communities\n",
    "from networkx.generators.community import stochastic_block_model\n",
    "from scipy.sparse import csr_matrix"
   ],
   "metadata": {
    "collapsed": false,
    "pycharm": {
     "name": "#%%\n",
     "is_executing": false
    }
   }
  },
  {
   "cell_type": "code",
   "execution_count": 43,
   "outputs": [],
   "source": [
    "def create_graph_and_node_mappings_from_file(filepath, dataset, node_mappings_dict, reverse_node_mappings_dict, graph_type='undirected'):\n",
    "    if graph_type == 'undirected':\n",
    "        G = nx.Graph()\n",
    "        node_mappings = {}\n",
    "        reverse_node_mappings = {}\n",
    "    else:\n",
    "        G = nx.DiGraph()\n",
    "        node_mappings = node_mappings_dict[dataset]\n",
    "        reverse_node_mappings = reverse_node_mappings_dict[dataset]\n",
    "    with open(filepath, 'r') as f:\n",
    "        counter = 0\n",
    "        for line in f:\n",
    "            edge = line.strip().split()\n",
    "            node1 = str(edge[0])\n",
    "            node2 = str(edge[1])\n",
    "            if node1 not in node_mappings:\n",
    "                node_mappings[node1] = counter\n",
    "                reverse_node_mappings[counter] = node1\n",
    "                counter += 1\n",
    "            if node2 not in node_mappings:\n",
    "                node_mappings[node2] = counter\n",
    "                reverse_node_mappings[counter] = node2 \n",
    "                counter += 1\n",
    "            if graph_type == 'undirected' or graph_type == 'directed':\n",
    "                source_node = node_mappings[node1]\n",
    "                target_node = node_mappings[node2]\n",
    "            elif graph_type == 'reverse_directed':\n",
    "                source_node = node_mappings[node2]\n",
    "                target_node = node_mappings[node1]\n",
    "            G.add_edge(source_node, target_node)\n",
    "    return G, node_mappings, reverse_node_mappings\n",
    "\n",
    "def create_greedy_modularity_communities_dict(G, reverse_node_mappings):\n",
    "    gm_communities = greedy_modularity_communities(G)\n",
    "    node_communities_gm = {}\n",
    "    community_counter = 0\n",
    "    for community in gm_communities:\n",
    "        for node in community:\n",
    "            node_communities_gm[reverse_node_mappings[node]] = community_counter\n",
    "        community_counter += 1\n",
    "    return node_communities_gm, community_counter + 1\n",
    "\n",
    "def create_louvain_communities_dict(G, reverse_node_mappings):\n",
    "    node_communities_louvain = comms.best_partition(G)\n",
    "    node_communities_louvain_original_ids = {}\n",
    "    distinct_communities = []\n",
    "    for reverse_node_id in node_communities_louvain:\n",
    "        node_communities_louvain_original_ids[reverse_node_mappings[reverse_node_id]] = node_communities_louvain[reverse_node_id]\n",
    "        if node_communities_louvain[reverse_node_id] not in distinct_communities:\n",
    "            distinct_communities.append(node_communities_louvain[reverse_node_id])\n",
    "    return node_communities_louvain_original_ids, len(distinct_communities)\n",
    "\n",
    "def store_community_dict_as_file(community_dict, filepath):\n",
    "    with open(filepath, 'wb') as handle:\n",
    "        pickle.dump(community_dict, handle, protocol=2)\n",
    "\n",
    "def calculate_edge_probabilities(G, communities, node_id_community_id_dict, reverse_node_mappings=None):\n",
    "    between_community_stats = {}\n",
    "    for edge in G.edges():\n",
    "        # set source and target id\n",
    "        source_id = edge[0]\n",
    "        target_id = edge[1]\n",
    "        if reverse_node_mappings is not None:\n",
    "            source_id = reverse_node_mappings[source_id]\n",
    "            target_id = reverse_node_mappings[target_id]\n",
    "        source_community_id = node_id_community_id_dict[source_id]\n",
    "        target_community_id = node_id_community_id_dict[target_id]\n",
    "        if (source_community_id, target_community_id) not in between_community_stats:\n",
    "            source_community_size = len(communities[source_community_id])\n",
    "            target_community_size = len(communities[target_community_id])\n",
    "            if G.is_directed():\n",
    "                if source_community_id == target_community_id:\n",
    "                    max_edge_count = (source_community_size*(source_community_size-1))\n",
    "                    if has_selfloops(G):\n",
    "                        max_edge_count += source_community_size\n",
    "                else:\n",
    "                    max_edge_count = 2*source_community_size*target_community_size\n",
    "            else:\n",
    "                if source_community_id == target_community_id:\n",
    "                    max_edge_count = (source_community_size*(source_community_size-1))/2\n",
    "                    if has_selfloops(G):\n",
    "                        max_edge_count += source_community_size\n",
    "                else:\n",
    "                    max_edge_count = source_community_size*target_community_size                  \n",
    "            between_community_stats[(source_community_id, target_community_id)] = {\"existing_edge_count\":0, \"max_edge_count\": max_edge_count}\n",
    "            if not G.is_directed() and source_community_id != target_community_id:\n",
    "                between_community_stats[(target_community_id, source_community_id)] = {\"existing_edge_count\":0, \"max_edge_count\": max_edge_count}\n",
    "        between_community_stats[(source_community_id, target_community_id)]['existing_edge_count'] += 1\n",
    "        if not G.is_directed() and source_community_id != target_community_id:\n",
    "            between_community_stats[(target_community_id, source_community_id)]['existing_edge_count'] += 1\n",
    "    for key in between_community_stats:\n",
    "        between_community_stats[key]['edge_probability'] = between_community_stats[key]['existing_edge_count'] /  between_community_stats[key]['max_edge_count']\n",
    "    rows = []\n",
    "    cols = []\n",
    "    data = []\n",
    "    for key in between_community_stats:\n",
    "        rows.append(key[0])\n",
    "        cols.append(key[1])\n",
    "        if between_community_stats[key]['edge_probability'] < 0 or between_community_stats[key]['edge_probability'] > 1:\n",
    "            print(key)\n",
    "        data.append(between_community_stats[key]['edge_probability'])\n",
    "    communities_count = len(communities)\n",
    "    return csr_matrix((data, (rows,cols)), shape=(communities_count, communities_count), dtype=float).todense().tolist()\n",
    "\n",
    "def has_selfloops(G):\n",
    "    return G.number_of_selfloops() > 0\n",
    "\n",
    "def get_block_sizes(communities):\n",
    "    block_sizes = []\n",
    "    for community_id in communities:\n",
    "        block_sizes.append(len(communities[community_id]))\n",
    "    return block_sizes\n",
    "\n",
    "def get_nodelist(communities, node_mappings=None):\n",
    "    nodelist = []\n",
    "    for community_id in communities:\n",
    "        community = communities[community_id]\n",
    "        for node_id in community:\n",
    "            if node_mappings is not None:\n",
    "                nodelist.append(node_mappings[node_id])\n",
    "            else:\n",
    "                nodelist.append(node_id)\n",
    "    return nodelist\n",
    "\n",
    "def check_symmetric(a, rtol=1e-05, atol=1e-08):\n",
    "    return np.allclose(a, a.T, rtol=rtol, atol=atol)        "
   ],
   "metadata": {
    "collapsed": false,
    "pycharm": {
     "name": "#%%\n",
     "is_executing": false
    }
   }
  },
  {
   "cell_type": "code",
   "execution_count": 71,
   "outputs": [],
   "source": [
    "datasets = ['citeseer', 'cora', 'cora_full', 'PubMed']\n",
    "graph_types = ['undirected', 'directed', 'reverse_directed']\n",
    "community_count = {}\n",
    "graphs = {}\n",
    "node_mappings_dict = {}\n",
    "reverse_node_mappings_dict = {}\n",
    "\n",
    "data_directory = '../data/raw/'\n",
    "communities_directory = '../data/community_id_dicts/'"
   ],
   "metadata": {
    "collapsed": false,
    "pycharm": {
     "name": "#%%\n",
     "is_executing": false
    }
   }
  },
  {
   "cell_type": "code",
   "execution_count": 72,
   "outputs": [],
   "source": [
    "for dataset in datasets:\n",
    "    filepath = data_directory + dataset + '/' + dataset + '.cites'\n",
    "    for graph_type in graph_types:\n",
    "        G, node_mappings, reverse_node_mappings = create_graph_and_node_mappings_from_file(filepath, dataset, node_mappings_dict, reverse_node_mappings_dict, graph_type)\n",
    "        graphs[dataset + '_' + graph_type] = G\n",
    "        if graph_type == 'undirected':\n",
    "            node_mappings_dict[dataset] = node_mappings\n",
    "            reverse_node_mappings_dict[dataset] = reverse_node_mappings\n",
    "            node_communities_gm, distinct_gm_count = create_greedy_modularity_communities_dict(G, reverse_node_mappings)\n",
    "            node_communities_louvain, distinct_louvain_count = create_louvain_communities_dict(G, reverse_node_mappings)\n",
    "            community_count[dataset] = {'distinct_gm_count': distinct_gm_count, 'distinct_louvain_count': distinct_louvain_count}\n",
    "            store_community_dict_as_file(node_communities_gm, communities_directory + dataset + '/' + dataset + '_greedy_modularity.pickle')\n",
    "            store_community_dict_as_file(node_communities_louvain, communities_directory + dataset + '/' + dataset + '_louvain.pickle')"
   ],
   "metadata": {
    "collapsed": false,
    "pycharm": {
     "name": "#%%\n",
     "is_executing": false
    }
   }
  },
  {
   "cell_type": "code",
   "execution_count": 73,
   "outputs": [],
   "source": [
    "data_directory = '../data/raw/'"
   ],
   "metadata": {
    "collapsed": false,
    "pycharm": {
     "name": "#%%\n",
     "is_executing": false
    }
   }
  },
  {
   "cell_type": "code",
   "execution_count": 74,
   "outputs": [],
   "source": [
    "# create_and_store_graph_transformations(data_directory + 'cora_full' + '/' + 'cora_full' + '.cites')\n",
    "# create_and_store_graph_transformations_reverse_directed(data_directory + 'cora_full' + '/' + 'cora_full' + '.cites')"
   ],
   "metadata": {
    "collapsed": false,
    "pycharm": {
     "name": "#%%\n",
     "is_executing": false
    }
   }
  },
  {
   "cell_type": "code",
   "execution_count": 75,
   "outputs": [
    {
     "name": "stdout",
     "text": [
      "{'citeseer': {'distinct_gm_count': 489, 'distinct_louvain_count': 468}, 'cora': {'distinct_gm_count': 106, 'distinct_louvain_count': 104}, 'cora_full': {'distinct_gm_count': 140, 'distinct_louvain_count': 45}, 'PubMed': {'distinct_gm_count': 115, 'distinct_louvain_count': 38}}\n"
     ],
     "output_type": "stream"
    }
   ],
   "source": [
    "print(community_count)"
   ],
   "metadata": {
    "collapsed": false,
    "pycharm": {
     "name": "#%%\n",
     "is_executing": false
    }
   }
  },
  {
   "cell_type": "code",
   "execution_count": 76,
   "outputs": [],
   "source": [
    "gm_node_id_to_community_id = {}\n",
    "for dataset in datasets:\n",
    "    with open(communities_directory + dataset + '/' + dataset + '_greedy_modularity.pickle', 'rb') as handle:\n",
    "        gm_node_id_to_community_id[dataset] = pickle.load(handle)\n",
    "        \n",
    "louvain_node_id_to_community_id = {}\n",
    "for dataset in datasets:\n",
    "    with open(communities_directory + dataset + '/' + dataset + '_louvain.pickle', 'rb') as handle:\n",
    "        louvain_node_id_to_community_id[dataset] = pickle.load(handle)\n",
    "        "
   ],
   "metadata": {
    "collapsed": false,
    "pycharm": {
     "name": "#%%\n",
     "is_executing": false
    }
   }
  },
  {
   "cell_type": "code",
   "execution_count": 77,
   "outputs": [],
   "source": [
    "gm_community_id_to_node_id = {}\n",
    "\n",
    "for dataset in datasets:\n",
    "    gm_community_id_to_node_id[dataset] = {}\n",
    "    for node_id in gm_node_id_to_community_id[dataset]:\n",
    "        community_id = gm_node_id_to_community_id[dataset][node_id]\n",
    "        if community_id not in gm_community_id_to_node_id[dataset]:\n",
    "            gm_community_id_to_node_id[dataset][community_id] = []\n",
    "        gm_community_id_to_node_id[dataset][community_id].append(node_id)\n"
   ],
   "metadata": {
    "collapsed": false,
    "pycharm": {
     "name": "#%%\n",
     "is_executing": false
    }
   }
  },
  {
   "cell_type": "code",
   "execution_count": 78,
   "outputs": [],
   "source": [
    "louvain_community_id_to_node_id = {}\n",
    "\n",
    "for dataset in datasets:\n",
    "    louvain_community_id_to_node_id[dataset] = {}\n",
    "    for node_id in louvain_node_id_to_community_id[dataset]:\n",
    "        community_id = louvain_node_id_to_community_id[dataset][node_id]\n",
    "        if community_id not in louvain_community_id_to_node_id[dataset]:\n",
    "            louvain_community_id_to_node_id[dataset][community_id] = []\n",
    "        louvain_community_id_to_node_id[dataset][community_id].append(node_id)"
   ],
   "metadata": {
    "collapsed": false,
    "pycharm": {
     "name": "#%%\n",
     "is_executing": false
    }
   }
  },
  {
   "cell_type": "code",
   "execution_count": 79,
   "outputs": [],
   "source": [
    "gm_edge_probabilities = {}\n",
    "gm_block_sizes = {}\n",
    "gm_nodelists = {}\n",
    "\n",
    "louvain_edge_probabilities = {}\n",
    "louvain_block_sizes = {}\n",
    "louvain_nodelists = {}\n",
    "\n",
    "for dataset in datasets:\n",
    "    for graph_type in graph_types:\n",
    "        G = graphs[dataset + '_' + graph_type]\n",
    "        node_mappings = node_mappings_dict[dataset]\n",
    "        reverse_node_mappings = reverse_node_mappings_dict[dataset]\n",
    "        gm_edge_probabilities[dataset + '_' + graph_type] = calculate_edge_probabilities(G, gm_community_id_to_node_id[dataset], gm_node_id_to_community_id[dataset], reverse_node_mappings)\n",
    "        gm_block_sizes[dataset + '_' + graph_type] = get_block_sizes(gm_community_id_to_node_id[dataset])\n",
    "        gm_nodelists[dataset + '_' + graph_type] = get_nodelist(gm_community_id_to_node_id[dataset], node_mappings_dict[dataset])\n",
    "        louvain_edge_probabilities[dataset + '_' + graph_type] = calculate_edge_probabilities(G, louvain_community_id_to_node_id[dataset], louvain_node_id_to_community_id[dataset], reverse_node_mappings)\n",
    "        louvain_block_sizes[dataset + '_' + graph_type] = get_block_sizes(louvain_community_id_to_node_id[dataset])\n",
    "        louvain_nodelists[dataset + '_' + graph_type] = get_nodelist(louvain_community_id_to_node_id[dataset], node_mappings_dict[dataset])"
   ],
   "metadata": {
    "collapsed": false,
    "pycharm": {
     "name": "#%%\n",
     "is_executing": false
    }
   }
  },
  {
   "cell_type": "code",
   "execution_count": 80,
   "outputs": [],
   "source": [
    "gm_stochastic_block_model_graphs = {}\n",
    "louvain_stochastic_block_model_graphs = {}"
   ],
   "metadata": {
    "collapsed": false,
    "pycharm": {
     "name": "#%%\n",
     "is_executing": false
    }
   }
  },
  {
   "cell_type": "code",
   "execution_count": 81,
   "outputs": [
    {
     "name": "stdout",
     "text": [
      "False\n",
      "True\n",
      "True\n",
      "False\n",
      "True\n",
      "True\n",
      "False\n",
      "True\n",
      "True\n",
      "False\n",
      "True\n",
      "True\n"
     ],
     "output_type": "stream"
    }
   ],
   "source": [
    "# create greedy modularity-based stochastic block model graphs\n",
    "for dataset in datasets:\n",
    "    for graph_type in graph_types:\n",
    "        gm_stochastic_block_model_graphs[dataset + '_' + graph_type] =  []\n",
    "        louvain_stochastic_block_model_graphs[dataset + '_' + graph_type] =  []\n",
    "        original_graph = graphs[dataset + '_' + graph_type]\n",
    "        print(original_graph.is_directed())\n",
    "        for seed in range(10):\n",
    "            G = stochastic_block_model(gm_block_sizes[dataset + '_' + graph_type],\n",
    "                                       gm_edge_probabilities[dataset + '_' + graph_type],\n",
    "                                       gm_nodelists[dataset + '_' + graph_type],\n",
    "                                       seed,\n",
    "                                       original_graph.is_directed(),\n",
    "                                       has_selfloops(graphs[dataset + '_' + graph_type]),\n",
    "                                       True)\n",
    "            gm_stochastic_block_model_graphs[dataset + '_' + graph_type].append({'seed':seed, 'graph':G})\n",
    "            G = stochastic_block_model(louvain_block_sizes[dataset + '_' + graph_type],\n",
    "                                       louvain_edge_probabilities[dataset + '_' + graph_type],\n",
    "                                       louvain_nodelists[dataset + '_' + graph_type],\n",
    "                                       seed,\n",
    "                                       original_graph.is_directed(),\n",
    "                                       has_selfloops(graphs[dataset + '_' + graph_type]),\n",
    "                                       True)\n",
    "            louvain_stochastic_block_model_graphs[dataset + '_' + graph_type].append({'seed':seed, 'graph':G})\n"
   ],
   "metadata": {
    "collapsed": false,
    "pycharm": {
     "name": "#%%\n",
     "is_executing": false
    }
   }
  },
  {
   "cell_type": "code",
   "execution_count": 82,
   "outputs": [
    {
     "name": "stdout",
     "text": [
      "citeseer_undirected\n4735\n4724\n4780\n4736\n4610\n4731\n4703\n4667\n4640\n4682\n\nciteseer_directed\n4557\n4601\n4560\n4674\n4667\n4580\n4609\n4684\n4613\n4666\n\nciteseer_reverse_directed\n4537\n4576\n4581\n4680\n4676\n4577\n4599\n4700\n4624\n4643\n\ncora_undirected\n5304\n5209\n5290\n5311\n5346\n5321\n5231\n5256\n5118\n5337\n\ncora_directed\n5207\n5105\n5187\n5051\n5127\n5321\n5156\n5177\n5042\n5193\n\ncora_reverse_directed\n5189\n5113\n5167\n5105\n5145\n5329\n5146\n5164\n5056\n5157\n\ncora_full_undirected\n62653\n62340\n62152\n62438\n62414\n62008\n62406\n62524\n62303\n62013\n\ncora_full_directed\n61750\n61650\n61533\n61726\n61537\n61733\n61399\n61665\n61552\n61030\n\ncora_full_reverse_directed\n61711\n61636\n61533\n61743\n61486\n61645\n61365\n61709\n61504\n60990\n\nPubMed_undirected\n44588\n44438\n44115\n44268\n44533\n44113\n44440\n44504\n44186\n44230\n\nPubMed_directed\n42257\n42290\n41998\n42325\n41935\n42201\n42088\n42144\n42179\n41865\n\nPubMed_reverse_directed\n42259\n42291\n41984\n42318\n41955\n42176\n42097\n42114\n42145\n41915\n\n"
     ],
     "output_type": "stream"
    }
   ],
   "source": [
    "for dataset in datasets:\n",
    "    for graph_type in graph_types:\n",
    "        print(dataset + '_' + graph_type)\n",
    "        for entry in gm_stochastic_block_model_graphs[dataset + '_' + graph_type]:\n",
    "            print(len(entry['graph'].edges()))\n",
    "        print()"
   ],
   "metadata": {
    "collapsed": false,
    "pycharm": {
     "name": "#%%\n",
     "is_executing": false
    }
   }
  },
  {
   "cell_type": "code",
   "execution_count": 87,
   "outputs": [
    {
     "name": "stdout",
     "text": [
      "citeseer_undirected\n4669\n4683\n4702\n4654\n4731\n4650\n4635\n4676\n4630\n4778\n\nciteseer_directed\n4593\n4566\n4583\n4657\n4577\n4717\n4485\n4562\n4494\n4625\n\nciteseer_reverse_directed\n4586\n4579\n4570\n4622\n4569\n4682\n4480\n4567\n4470\n4628\n\ncora_undirected\n5338\n5257\n5219\n5317\n5322\n5333\n5268\n5270\n5285\n5366\n\ncora_directed\n5198\n5167\n5063\n5059\n5113\n5180\n5067\n5184\n5055\n5229\n\ncora_reverse_directed\n5203\n5158\n5133\n5080\n5113\n5162\n5011\n5177\n5056\n5233\n\ncora_full_undirected\n62695\n62180\n62159\n61909\n62697\n62075\n62509\n62772\n62079\n62341\n\ncora_full_directed\n60442\n59932\n60037\n60160\n60088\n60279\n59605\n60242\n60171\n60228\n\ncora_full_reverse_directed\n60499\n59979\n60059",
      "\n60206\n60095\n60313\n59626\n60249\n60169\n60244\n\nPubMed_undirected\n44674\n44152\n44414\n44353\n44251\n44065\n44364\n44523\n44210\n44076\n\nPubMed_directed\n41198\n41047\n41045\n40872\n40802\n40888\n41114\n40921\n40809\n40791\n\nPubMed_reverse_directed\n41215\n40991\n41000\n40911\n40805\n40836\n41077\n40934\n40773\n40735\n\n"
     ],
     "output_type": "stream"
    }
   ],
   "source": [
    "for dataset in datasets:\n",
    "    for graph_type in graph_types:\n",
    "        print(dataset + '_' + graph_type)\n",
    "        for entry in louvain_stochastic_block_model_graphs[dataset + '_' + graph_type]:\n",
    "            print(len(entry['graph'].edges()))\n",
    "        print()"
   ],
   "metadata": {
    "collapsed": false,
    "pycharm": {
     "name": "#%%\n",
     "is_executing": false
    }
   }
  },
  {
   "cell_type": "code",
   "execution_count": 88,
   "outputs": [
    {
     "name": "stdout",
     "text": [
      "citeseer_undirected\n4676\nciteseer_directed\n4732\nciteseer_reverse_directed\n4732\ncora_undirected\n5278\ncora_directed\n5429\ncora_reverse_directed\n5429\ncora_full_undirected\n62421\ncora_full_directed\n64259\ncora_full_reverse_directed\n64259\nPubMed_undirected\n44327\nPubMed_directed\n44338\nPubMed_reverse_directed\n44338\n"
     ],
     "output_type": "stream"
    }
   ],
   "source": [
    "for dataset in graphs:\n",
    "    print(dataset)    \n",
    "    print(len(graphs[dataset].edges()))"
   ],
   "metadata": {
    "collapsed": false,
    "pycharm": {
     "name": "#%%\n",
     "is_executing": false
    }
   }
  },
  {
   "cell_type": "code",
   "execution_count": 89,
   "outputs": [],
   "source": [
    "for dataset in datasets:\n",
    "    for graph_type in graph_types:\n",
    "        for entry in gm_stochastic_block_model_graphs[dataset + '_' + graph_type]:\n",
    "            with open('../data/sbm_graphs/greedy_modularity_based/' + dataset + '/' + dataset + '_' + graph_type + '_sbm_gm_seed_' + str(entry['seed']) + '.cites', 'a') as output_file:\n",
    "                for edge in list(entry['graph'].edges()):\n",
    "                    source_id = reverse_node_mappings_dict[dataset][edge[0]]\n",
    "                    target_id = reverse_node_mappings_dict[dataset][edge[1]]\n",
    "                    output_file.write(source_id + ' ' + target_id + '\\n')"
   ],
   "metadata": {
    "collapsed": false,
    "pycharm": {
     "name": "#%%\n",
     "is_executing": false
    }
   }
  },
  {
   "cell_type": "code",
   "execution_count": 90,
   "outputs": [],
   "source": [
    "for dataset in datasets:\n",
    "    for graph_type in graph_types:\n",
    "        for entry in louvain_stochastic_block_model_graphs[dataset + '_' + graph_type]:\n",
    "            with open('../data/sbm_graphs/louvain_based/' + dataset + '/' + dataset + '_' + graph_type + '_sbm_louvain_seed_' + str(entry['seed']) + '.cites', 'a') as output_file:\n",
    "                for edge in list(entry['graph'].edges()):\n",
    "                    source_id = reverse_node_mappings_dict[dataset][edge[0]]\n",
    "                    target_id = reverse_node_mappings_dict[dataset][edge[1]]\n",
    "                    output_file.write(source_id + ' ' + target_id + '\\n')"
   ],
   "metadata": {
    "collapsed": false,
    "pycharm": {
     "name": "#%%\n",
     "is_executing": false
    }
   }
  },
  {
   "cell_type": "code",
   "execution_count": null,
   "outputs": [],
   "source": [
    "\n"
   ],
   "metadata": {
    "collapsed": false,
    "pycharm": {
     "name": "#%%\n"
    }
   }
  }
 ],
 "metadata": {
  "kernelspec": {
   "display_name": "Python 3",
   "language": "python",
   "name": "python3"
  },
  "language_info": {
   "codemirror_mode": {
    "name": "ipython",
    "version": 2
   },
   "file_extension": ".py",
   "mimetype": "text/x-python",
   "name": "python",
   "nbconvert_exporter": "python",
   "pygments_lexer": "ipython2",
   "version": "2.7.6"
  },
  "pycharm": {
   "stem_cell": {
    "cell_type": "raw",
    "source": [],
    "metadata": {
     "collapsed": false
    }
   }
  }
 },
 "nbformat": 4,
 "nbformat_minor": 0
}