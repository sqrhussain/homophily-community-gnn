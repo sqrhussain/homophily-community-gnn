{
 "cells": [
  {
   "cell_type": "code",
   "execution_count": 9,
   "metadata": {},
   "outputs": [],
   "source": [
    "from embedding_evaluation_framework import EmbeddingData, eval_n2v, test_n2v\n",
    "import pandas as pd\n",
    "import numpy as np\n",
    "import os\n",
    "import seaborn as sns\n",
    "import matplotlib.pyplot as plt"
   ]
  },
  {
   "cell_type": "code",
   "execution_count": 2,
   "metadata": {},
   "outputs": [],
   "source": [
    "settings = ['adamic-adar','common-neighbors','katz_0.1','katz_0.01','katz_0.9','rpr_0.5','rpr_0.85','rpr_0.99']"
   ]
  },
  {
   "cell_type": "code",
   "execution_count": 3,
   "metadata": {},
   "outputs": [],
   "source": [
    "# inits = 20\n",
    "splits = 100"
   ]
  },
  {
   "cell_type": "code",
   "execution_count": 4,
   "metadata": {},
   "outputs": [],
   "source": [
    "val_out = 'eval/hope.csv'"
   ]
  },
  {
   "cell_type": "code",
   "execution_count": 5,
   "metadata": {},
   "outputs": [],
   "source": [
    "if os.path.exists(val_out):\n",
    "    df_hope = pd.read_csv(val_out)\n",
    "else:\n",
    "    df_hope = pd.DataFrame(columns='splits setting val_acc val_avg val_std'.split())\n",
    "# df_hope"
   ]
  },
  {
   "cell_type": "code",
   "execution_count": 6,
   "metadata": {},
   "outputs": [
    {
     "data": {
      "text/html": [
       "<div>\n",
       "<style scoped>\n",
       "    .dataframe tbody tr th:only-of-type {\n",
       "        vertical-align: middle;\n",
       "    }\n",
       "\n",
       "    .dataframe tbody tr th {\n",
       "        vertical-align: top;\n",
       "    }\n",
       "\n",
       "    .dataframe thead th {\n",
       "        text-align: right;\n",
       "    }\n",
       "</style>\n",
       "<table border=\"1\" class=\"dataframe\">\n",
       "  <thead>\n",
       "    <tr style=\"text-align: right;\">\n",
       "      <th></th>\n",
       "      <th>splits</th>\n",
       "      <th>setting</th>\n",
       "      <th>val_acc</th>\n",
       "      <th>val_avg</th>\n",
       "      <th>val_std</th>\n",
       "    </tr>\n",
       "  </thead>\n",
       "  <tbody>\n",
       "  </tbody>\n",
       "</table>\n",
       "</div>"
      ],
      "text/plain": [
       "Empty DataFrame\n",
       "Columns: [splits, setting, val_acc, val_avg, val_std]\n",
       "Index: []"
      ]
     },
     "execution_count": 6,
     "metadata": {},
     "output_type": "execute_result"
    }
   ],
   "source": [
    "df_hope"
   ]
  },
  {
   "cell_type": "code",
   "execution_count": 7,
   "metadata": {},
   "outputs": [],
   "source": [
    "def contains(df_val,setting):\n",
    "    return ((df_val['setting']==setting)).any()"
   ]
  },
  {
   "cell_type": "code",
   "execution_count": 8,
   "metadata": {},
   "outputs": [
    {
     "name": "stdout",
     "output_type": "stream",
     "text": [
      "evaluating adamic-adar\n",
      "Processing...\n",
      "0\n",
      "0\n",
      "Done!\n",
      "evaluating common-neighbors\n",
      "Processing...\n",
      "0\n",
      "0\n",
      "Done!\n",
      "evaluating katz_0.1\n",
      "Processing...\n",
      "0\n",
      "0\n",
      "Done!\n",
      "evaluating katz_0.01\n",
      "Processing...\n",
      "0\n",
      "0\n",
      "Done!\n",
      "evaluating katz_0.9\n",
      "Processing...\n",
      "0\n",
      "0\n",
      "Done!\n",
      "evaluating rpr_0.5\n",
      "Processing...\n",
      "0\n",
      "0\n",
      "Done!\n",
      "evaluating rpr_0.85\n",
      "Processing...\n",
      "0\n",
      "0\n",
      "Done!\n",
      "evaluating rpr_0.99\n",
      "Processing...\n",
      "0\n",
      "0\n",
      "Done!\n"
     ]
    }
   ],
   "source": [
    "for setting in settings:\n",
    "    if contains(df_hope,setting):\n",
    "        print('already calculated!')\n",
    "        continue\n",
    "    print(f'evaluating {setting}')\n",
    "    vals = []\n",
    "    tests = []\n",
    "    emb = EmbeddingData(f'/tmp/hopeUnd{setting}EmbCora','cora',f'hope.{setting}',directed=False,initialization=f'hope')\n",
    "    val = eval_n2v(emb[0],num_splits=splits)\n",
    "    vals = vals + val\n",
    "#             tests = tests + test\n",
    "    df_hope = df_hope.append({'splits':splits,'setting':setting,\n",
    "                            'val_acc':vals, 'val_avg':np.mean(vals), 'val_std':np.std(vals),\n",
    "#                                 'test_acc':tests, 'test_avg':np.mean(tests), 'test_std':np.std(tests)\n",
    "                           },ignore_index=True)\n",
    "    df_hope.to_csv(val_out,index=False)"
   ]
  },
  {
   "cell_type": "code",
   "execution_count": 9,
   "metadata": {},
   "outputs": [
    {
     "data": {
      "text/html": [
       "<div>\n",
       "<style scoped>\n",
       "    .dataframe tbody tr th:only-of-type {\n",
       "        vertical-align: middle;\n",
       "    }\n",
       "\n",
       "    .dataframe tbody tr th {\n",
       "        vertical-align: top;\n",
       "    }\n",
       "\n",
       "    .dataframe thead th {\n",
       "        text-align: right;\n",
       "    }\n",
       "</style>\n",
       "<table border=\"1\" class=\"dataframe\">\n",
       "  <thead>\n",
       "    <tr style=\"text-align: right;\">\n",
       "      <th></th>\n",
       "      <th>splits</th>\n",
       "      <th>setting</th>\n",
       "      <th>val_acc</th>\n",
       "      <th>val_avg</th>\n",
       "      <th>val_std</th>\n",
       "    </tr>\n",
       "  </thead>\n",
       "  <tbody>\n",
       "    <tr>\n",
       "      <th>0</th>\n",
       "      <td>100</td>\n",
       "      <td>adamic-adar</td>\n",
       "      <td>[0.5619047619047619, 0.5142857142857142, 0.642...</td>\n",
       "      <td>0.583381</td>\n",
       "      <td>0.037335</td>\n",
       "    </tr>\n",
       "    <tr>\n",
       "      <th>1</th>\n",
       "      <td>100</td>\n",
       "      <td>common-neighbors</td>\n",
       "      <td>[0.5666666666666667, 0.5428571428571428, 0.652...</td>\n",
       "      <td>0.597810</td>\n",
       "      <td>0.037109</td>\n",
       "    </tr>\n",
       "    <tr>\n",
       "      <th>2</th>\n",
       "      <td>100</td>\n",
       "      <td>katz_0.1</td>\n",
       "      <td>[0.5571428571428572, 0.5142857142857142, 0.642...</td>\n",
       "      <td>0.582238</td>\n",
       "      <td>0.036842</td>\n",
       "    </tr>\n",
       "    <tr>\n",
       "      <th>3</th>\n",
       "      <td>100</td>\n",
       "      <td>katz_0.01</td>\n",
       "      <td>[0.5571428571428572, 0.5190476190476191, 0.642...</td>\n",
       "      <td>0.581619</td>\n",
       "      <td>0.036941</td>\n",
       "    </tr>\n",
       "    <tr>\n",
       "      <th>4</th>\n",
       "      <td>100</td>\n",
       "      <td>katz_0.9</td>\n",
       "      <td>[0.5571428571428572, 0.5142857142857142, 0.614...</td>\n",
       "      <td>0.588381</td>\n",
       "      <td>0.038417</td>\n",
       "    </tr>\n",
       "    <tr>\n",
       "      <th>5</th>\n",
       "      <td>100</td>\n",
       "      <td>rpr_0.5</td>\n",
       "      <td>[0.5571428571428572, 0.5142857142857142, 0.642...</td>\n",
       "      <td>0.581286</td>\n",
       "      <td>0.036429</td>\n",
       "    </tr>\n",
       "    <tr>\n",
       "      <th>6</th>\n",
       "      <td>100</td>\n",
       "      <td>rpr_0.85</td>\n",
       "      <td>[0.5571428571428572, 0.5190476190476191, 0.642...</td>\n",
       "      <td>0.581381</td>\n",
       "      <td>0.036584</td>\n",
       "    </tr>\n",
       "    <tr>\n",
       "      <th>7</th>\n",
       "      <td>100</td>\n",
       "      <td>rpr_0.99</td>\n",
       "      <td>[0.5571428571428572, 0.5190476190476191, 0.642...</td>\n",
       "      <td>0.581333</td>\n",
       "      <td>0.036581</td>\n",
       "    </tr>\n",
       "  </tbody>\n",
       "</table>\n",
       "</div>"
      ],
      "text/plain": [
       "  splits           setting                                            val_acc  \\\n",
       "0    100       adamic-adar  [0.5619047619047619, 0.5142857142857142, 0.642...   \n",
       "1    100  common-neighbors  [0.5666666666666667, 0.5428571428571428, 0.652...   \n",
       "2    100          katz_0.1  [0.5571428571428572, 0.5142857142857142, 0.642...   \n",
       "3    100         katz_0.01  [0.5571428571428572, 0.5190476190476191, 0.642...   \n",
       "4    100          katz_0.9  [0.5571428571428572, 0.5142857142857142, 0.614...   \n",
       "5    100           rpr_0.5  [0.5571428571428572, 0.5142857142857142, 0.642...   \n",
       "6    100          rpr_0.85  [0.5571428571428572, 0.5190476190476191, 0.642...   \n",
       "7    100          rpr_0.99  [0.5571428571428572, 0.5190476190476191, 0.642...   \n",
       "\n",
       "    val_avg   val_std  \n",
       "0  0.583381  0.037335  \n",
       "1  0.597810  0.037109  \n",
       "2  0.582238  0.036842  \n",
       "3  0.581619  0.036941  \n",
       "4  0.588381  0.038417  \n",
       "5  0.581286  0.036429  \n",
       "6  0.581381  0.036584  \n",
       "7  0.581333  0.036581  "
      ]
     },
     "execution_count": 9,
     "metadata": {},
     "output_type": "execute_result"
    }
   ],
   "source": [
    "df_hope"
   ]
  },
  {
   "cell_type": "code",
   "execution_count": 8,
   "metadata": {},
   "outputs": [
    {
     "data": {
      "text/plain": [
       "1    common-neighbors\n",
       "Name: setting, dtype: object"
      ]
     },
     "execution_count": 8,
     "metadata": {},
     "output_type": "execute_result"
    }
   ],
   "source": [
    "df_hope[df_hope.val_avg == df_hope.val_avg.max()].setting"
   ]
  },
  {
   "cell_type": "code",
   "execution_count": 13,
   "metadata": {},
   "outputs": [
    {
     "data": {
      "text/html": [
       "<div>\n",
       "<style scoped>\n",
       "    .dataframe tbody tr th:only-of-type {\n",
       "        vertical-align: middle;\n",
       "    }\n",
       "\n",
       "    .dataframe tbody tr th {\n",
       "        vertical-align: top;\n",
       "    }\n",
       "\n",
       "    .dataframe thead th {\n",
       "        text-align: right;\n",
       "    }\n",
       "</style>\n",
       "<table border=\"1\" class=\"dataframe\">\n",
       "  <thead>\n",
       "    <tr style=\"text-align: right;\">\n",
       "      <th></th>\n",
       "      <th>splits</th>\n",
       "      <th>setting</th>\n",
       "      <th>val_acc</th>\n",
       "      <th>val_avg</th>\n",
       "      <th>val_std</th>\n",
       "    </tr>\n",
       "  </thead>\n",
       "  <tbody>\n",
       "  </tbody>\n",
       "</table>\n",
       "</div>"
      ],
      "text/plain": [
       "Empty DataFrame\n",
       "Columns: [splits, setting, val_acc, val_avg, val_std]\n",
       "Index: []"
      ]
     },
     "execution_count": 13,
     "metadata": {},
     "output_type": "execute_result"
    }
   ],
   "source": [
    "test_out = 'test_acc/hope.csv'\n",
    "if os.path.exists(test_out):\n",
    "    df_hope_all = pd.read_csv(test_out)\n",
    "else:\n",
    "    df_hope_all = pd.DataFrame(columns='splits setting val_acc val_avg val_std'.split())\n",
    "df_hope_all"
   ]
  },
  {
   "cell_type": "code",
   "execution_count": 20,
   "metadata": {},
   "outputs": [],
   "source": [
    "def report_test_acc_unsupervised_embedding(cache_prefix,dataset,filename,method,speedup=False):\n",
    "    tests = []\n",
    "    emb = EmbeddingData(f'/tmp/{cache_prefix}Emb{dataset.capitalize()}',dataset,filename,directed=False,initialization=f'{method}')\n",
    "    test = test_n2v(emb[0],num_splits=splits,speedup=speedup)\n",
    "    tests = tests + test\n",
    "    return tests"
   ]
  },
  {
   "cell_type": "code",
   "execution_count": null,
   "metadata": {},
   "outputs": [
    {
     "name": "stdout",
     "output_type": "stream",
     "text": [
      "evaluating common-neighbors on cora\n",
      "evaluating common-neighbors on citeseer\n",
      "Processing...\n",
      "15\n",
      "0\n",
      "Done!\n",
      "evaluating common-neighbors on PubMed\n",
      "Processing...\n",
      "0\n",
      "0\n",
      "Done!\n"
     ]
    }
   ],
   "source": [
    "setting = 'common-neighbors'\n",
    "for dataset in ['cora','citeseer','PubMed']:\n",
    "#     if contains(df_hope_all,setting):\n",
    "#         print('already calculated!')\n",
    "#         continue\n",
    "    print(f'evaluating {setting} on {dataset}')\n",
    "    vals = report_test_acc_unsupervised_embedding(cache_prefix=f'hopeUnd{setting}',dataset=dataset,filename=f'hope.{setting}',method='hope',\n",
    "                                                  speedup=(dataset=='cora_full'))\n",
    "    df_hope_all = df_hope_all.append({'splits':splits,'setting':setting,\n",
    "                                      'method':'hope', 'dataset':dataset,\n",
    "                            'test_acc':vals, 'test_avg':np.mean(vals), 'test_std':np.std(vals)},ignore_index=True)\n",
    "    df_hope_all.to_csv(test_out,index=False)"
   ]
  },
  {
   "cell_type": "code",
   "execution_count": null,
   "metadata": {},
   "outputs": [],
   "source": []
  }
 ],
 "metadata": {
  "kernelspec": {
   "display_name": "Python 3",
   "language": "python",
   "name": "python3"
  },
  "language_info": {
   "codemirror_mode": {
    "name": "ipython",
    "version": 3
   },
   "file_extension": ".py",
   "mimetype": "text/x-python",
   "name": "python",
   "nbconvert_exporter": "python",
   "pygments_lexer": "ipython3",
   "version": "3.7.5"
  }
 },
 "nbformat": 4,
 "nbformat_minor": 4
}
