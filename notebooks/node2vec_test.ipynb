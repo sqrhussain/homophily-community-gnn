{
 "cells": [
  {
   "cell_type": "code",
   "execution_count": 5,
   "metadata": {},
   "outputs": [
    {
     "name": "stdout",
     "output_type": "stream",
     "text": [
      "Epoch: 01, Loss: 8.0818\n",
      "Epoch: 02, Loss: 6.0601\n",
      "Epoch: 03, Loss: 4.9704\n",
      "Epoch: 04, Loss: 4.1561\n",
      "Epoch: 05, Loss: 3.5119\n",
      "Epoch: 06, Loss: 3.0022\n",
      "Epoch: 07, Loss: 2.5892\n",
      "Epoch: 08, Loss: 2.2635\n",
      "Epoch: 09, Loss: 2.0013\n",
      "Epoch: 10, Loss: 1.7883\n",
      "Epoch: 11, Loss: 1.6192\n",
      "Epoch: 12, Loss: 1.4800\n",
      "Epoch: 13, Loss: 1.3672\n",
      "Epoch: 14, Loss: 1.2765\n",
      "Epoch: 15, Loss: 1.2033\n",
      "Epoch: 16, Loss: 1.1429\n",
      "Epoch: 17, Loss: 1.0958\n",
      "Epoch: 18, Loss: 1.0570\n",
      "Epoch: 19, Loss: 1.0247\n",
      "Epoch: 20, Loss: 1.0010\n",
      "Epoch: 21, Loss: 0.9788\n",
      "Epoch: 22, Loss: 0.9621\n",
      "Epoch: 23, Loss: 0.9472\n",
      "Epoch: 24, Loss: 0.9331\n",
      "Epoch: 25, Loss: 0.9235\n",
      "Epoch: 26, Loss: 0.9135\n",
      "Epoch: 27, Loss: 0.9074\n",
      "Epoch: 28, Loss: 0.8986\n",
      "Epoch: 29, Loss: 0.8932\n",
      "Epoch: 30, Loss: 0.8893\n",
      "Epoch: 31, Loss: 0.8847\n",
      "Epoch: 32, Loss: 0.8794\n",
      "Epoch: 33, Loss: 0.8773\n",
      "Epoch: 34, Loss: 0.8741\n",
      "Epoch: 35, Loss: 0.8707\n",
      "Epoch: 36, Loss: 0.8694\n",
      "Epoch: 37, Loss: 0.8671\n",
      "Epoch: 38, Loss: 0.8640\n",
      "Epoch: 39, Loss: 0.8618\n",
      "Epoch: 40, Loss: 0.8606\n",
      "Epoch: 41, Loss: 0.8604\n",
      "Epoch: 42, Loss: 0.8580\n",
      "Epoch: 43, Loss: 0.8562\n",
      "Epoch: 44, Loss: 0.8544\n",
      "Epoch: 45, Loss: 0.8549\n",
      "Epoch: 46, Loss: 0.8539\n",
      "Epoch: 47, Loss: 0.8530\n",
      "Epoch: 48, Loss: 0.8522\n",
      "Epoch: 49, Loss: 0.8501\n",
      "Epoch: 50, Loss: 0.8502\n",
      "Epoch: 51, Loss: 0.8479\n",
      "Epoch: 52, Loss: 0.8501\n",
      "Epoch: 53, Loss: 0.8491\n",
      "Epoch: 54, Loss: 0.8477\n",
      "Epoch: 55, Loss: 0.8463\n",
      "Epoch: 56, Loss: 0.8472\n",
      "Epoch: 57, Loss: 0.8470\n",
      "Epoch: 58, Loss: 0.8462\n",
      "Epoch: 59, Loss: 0.8461\n",
      "Epoch: 60, Loss: 0.8449\n",
      "Epoch: 61, Loss: 0.8454\n",
      "Epoch: 62, Loss: 0.8444\n",
      "Epoch: 63, Loss: 0.8451\n",
      "Epoch: 64, Loss: 0.8448\n",
      "Epoch: 65, Loss: 0.8441\n",
      "Epoch: 66, Loss: 0.8440\n",
      "Epoch: 67, Loss: 0.8423\n",
      "Epoch: 68, Loss: 0.8439\n",
      "Epoch: 69, Loss: 0.8428\n",
      "Epoch: 70, Loss: 0.8429\n",
      "Epoch: 71, Loss: 0.8434\n",
      "Epoch: 72, Loss: 0.8418\n",
      "Epoch: 73, Loss: 0.8400\n",
      "Epoch: 74, Loss: 0.8412\n",
      "Epoch: 75, Loss: 0.8425\n",
      "Epoch: 76, Loss: 0.8433\n",
      "Epoch: 77, Loss: 0.8411\n",
      "Epoch: 78, Loss: 0.8422\n",
      "Epoch: 79, Loss: 0.8419\n",
      "Epoch: 80, Loss: 0.8438\n",
      "Epoch: 81, Loss: 0.8414\n",
      "Epoch: 82, Loss: 0.8403\n",
      "Epoch: 83, Loss: 0.8417\n",
      "Epoch: 84, Loss: 0.8409\n",
      "Epoch: 85, Loss: 0.8402\n",
      "Epoch: 86, Loss: 0.8411\n",
      "Epoch: 87, Loss: 0.8404\n",
      "Epoch: 88, Loss: 0.8398\n",
      "Epoch: 89, Loss: 0.8418\n",
      "Epoch: 90, Loss: 0.8406\n",
      "Epoch: 91, Loss: 0.8400\n",
      "Epoch: 92, Loss: 0.8392\n",
      "Epoch: 93, Loss: 0.8414\n",
      "Epoch: 94, Loss: 0.8407\n",
      "Epoch: 95, Loss: 0.8384\n",
      "Epoch: 96, Loss: 0.8412\n",
      "Epoch: 97, Loss: 0.8387\n",
      "Epoch: 98, Loss: 0.8400\n",
      "Epoch: 99, Loss: 0.8405\n",
      "Epoch: 100, Loss: 0.8404\n",
      "Accuracy: 0.7020\n"
     ]
    }
   ],
   "source": [
    "import os.path as osp\n",
    "\n",
    "import torch\n",
    "from torch.utils.data import DataLoader\n",
    "from torch_geometric.datasets import Planetoid\n",
    "from torch_geometric_node2vec import Node2Vec\n",
    "\n",
    "dataset = 'Cora'\n",
    "dataset = Planetoid('/tmp/n2vtest', dataset)\n",
    "data = dataset[0]\n",
    "loader = DataLoader(torch.arange(data.num_nodes), batch_size=128, shuffle=True)\n",
    "\n",
    "device = 'cpu'\n",
    "model = Node2Vec(data.num_nodes, embedding_dim=128, walk_length=20,\n",
    "                 context_size=10, walks_per_node=10)\n",
    "model, data = model.to(device), data.to(device)\n",
    "optimizer = torch.optim.Adam(model.parameters(), lr=0.01)\n",
    "\n",
    "\n",
    "def train():\n",
    "    model.train()\n",
    "    total_loss = 0\n",
    "    for subset in loader:\n",
    "        optimizer.zero_grad()\n",
    "        loss = model.loss(data.edge_index, subset.to(device))\n",
    "        loss.backward()\n",
    "        optimizer.step()\n",
    "        total_loss += loss.item()\n",
    "    return total_loss / len(loader)\n",
    "\n",
    "\n",
    "def test():\n",
    "    model.eval()\n",
    "    z = model(torch.arange(data.num_nodes, device=device))\n",
    "    acc = model.test(z[data.train_mask], data.y[data.train_mask],\n",
    "                     z[data.test_mask], data.y[data.test_mask], max_iter=150)\n",
    "    return acc\n",
    "\n",
    "\n",
    "for epoch in range(1, 101):\n",
    "    loss = train()\n",
    "    print('Epoch: {:02d}, Loss: {:.4f}'.format(epoch, loss))\n",
    "acc = test()\n",
    "print('Accuracy: {:.4f}'.format(acc))"
   ]
  },
  {
   "cell_type": "code",
   "execution_count": 10,
   "metadata": {},
   "outputs": [
    {
     "data": {
      "text/plain": [
       "torch.Size([2, 128])"
      ]
     },
     "execution_count": 10,
     "metadata": {},
     "output_type": "execute_result"
    }
   ],
   "source": [
    "model(torch.tensor([1,2])).shape"
   ]
  },
  {
   "cell_type": "code",
   "execution_count": 11,
   "metadata": {},
   "outputs": [
    {
     "data": {
      "text/plain": [
       "torch.Size([2, 1433])"
      ]
     },
     "execution_count": 11,
     "metadata": {},
     "output_type": "execute_result"
    }
   ],
   "source": [
    "data.x[[1,2]].shape"
   ]
  },
  {
   "cell_type": "code",
   "execution_count": 17,
   "metadata": {},
   "outputs": [],
   "source": [
    "c = torch.cat((model(torch.tensor([1,2])),data.x[[1,2]]),dim=1)"
   ]
  },
  {
   "cell_type": "code",
   "execution_count": 18,
   "metadata": {},
   "outputs": [
    {
     "data": {
      "text/plain": [
       "torch.Size([2, 1561])"
      ]
     },
     "execution_count": 18,
     "metadata": {},
     "output_type": "execute_result"
    }
   ],
   "source": [
    "c.shape"
   ]
  },
  {
   "cell_type": "code",
   "execution_count": 26,
   "metadata": {},
   "outputs": [
    {
     "data": {
      "text/plain": [
       "tensor([[0.0010, 0.0006, 0.0006,  ..., 0.0006, 0.0006, 0.0006],\n",
       "        [0.0009, 0.0006, 0.0007,  ..., 0.0006, 0.0006, 0.0006]],\n",
       "       grad_fn=<SoftmaxBackward>)"
      ]
     },
     "execution_count": 26,
     "metadata": {},
     "output_type": "execute_result"
    }
   ],
   "source": [
    "torch.nn.functional.softmax(c,dim=1)"
   ]
  },
  {
   "cell_type": "code",
   "execution_count": null,
   "metadata": {},
   "outputs": [],
   "source": []
  }
 ],
 "metadata": {
  "kernelspec": {
   "display_name": "Python 3",
   "language": "python",
   "name": "python3"
  },
  "language_info": {
   "codemirror_mode": {
    "name": "ipython",
    "version": 3
   },
   "file_extension": ".py",
   "mimetype": "text/x-python",
   "name": "python",
   "nbconvert_exporter": "python",
   "pygments_lexer": "ipython3",
   "version": "3.7.3"
  }
 },
 "nbformat": 4,
 "nbformat_minor": 2
}
