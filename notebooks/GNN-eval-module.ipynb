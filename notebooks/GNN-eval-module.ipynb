{
 "cells": [
  {
   "cell_type": "code",
   "execution_count": 127,
   "metadata": {
    "scrolled": true
   },
   "outputs": [],
   "source": [
    "%matplotlib notebook\n",
    "import matplotlib.pyplot as plt\n",
    "import torch\n",
    "from cora_loader import CitationNetwork,CocitationNetwork,ConfigurationModelCitationNetwork\n",
    "from multi_layered_model import MonoModel,BiModel,TriModel\n",
    "from torch_geometric.nn import GCNConv,SAGEConv,GATConv\n",
    "import time\n",
    "import torch.nn.functional as F\n",
    "import copy\n",
    "import numpy as np\n",
    "import random\n",
    "import warnings\n",
    "import pandas as pd\n",
    "from bayes_opt import BayesianOptimization\n",
    "warnings.filterwarnings('ignore')"
   ]
  },
  {
   "cell_type": "code",
   "execution_count": 4,
   "metadata": {},
   "outputs": [],
   "source": [
    "cora = CitationNetwork('/tmp/cora2','cora',directed=True)\n",
    "# citeseer = CitationNetwork('/tmp/citeseer','citeseer',directed=False)\n",
    "# PubMed = CitationNetwork('/tmp/PubMed','PubMed',directed=False)"
   ]
  },
  {
   "cell_type": "code",
   "execution_count": 5,
   "metadata": {},
   "outputs": [],
   "source": [
    "# coraReversed = CitationNetwork('/tmp/coraReversed','cora',directed=True,reverse=True)\n",
    "# citeseerReversed = CitationNetwork('/tmp/citeseerReversed','citeseer',directed=True,reverse=True)\n",
    "# PubMedReversed = CitationNetwork('/tmp/PubMedReversed','PubMed',directed=True,reverse=True)"
   ]
  },
  {
   "cell_type": "code",
   "execution_count": 6,
   "metadata": {},
   "outputs": [],
   "source": [
    "# coraDirected = CitationNetwork('/tmp/coraDirected','cora',directed=True)\n",
    "# citeseerDirected = CitationNetwork('/tmp/citeseerDirected','citeseer',directed=True)\n",
    "# PubMedDirected = CitationNetwork('/tmp/PubMedDirected','PubMed',directed=True)"
   ]
  },
  {
   "cell_type": "code",
   "execution_count": 7,
   "metadata": {},
   "outputs": [],
   "source": [
    "class MonoGAT(torch.nn.Module):\n",
    "    def __init__(self,dataset,channels,heads=1,dropout=0.6,attention_dropout=0.3):\n",
    "        super(MonoGAT,self).__init__()\n",
    "        channels = [dataset.num_node_features] + channels + [dataset.num_classes]\n",
    "        \n",
    "        self.dropout = dropout\n",
    "        self.attention_dropout = attention_dropout\n",
    "        \n",
    "        self.conv = []\n",
    "        for i in range(1,len(channels)):\n",
    "            if i == 1:\n",
    "                conv = GATConv(channels[i-1],channels[i],heads=heads,dropout=self.attention_dropout)\n",
    "            elif i == len(channels)-1:\n",
    "                if dataset.name=='PubMed':\n",
    "                    conv = GATConv(channels[i-1]*heads,channels[i],heads=heads,concat=False,dropout=self.attention_dropout)\n",
    "                else:\n",
    "                    conv = GATConv(channels[i-1]*heads,channels[i],dropout=self.attention_dropout)\n",
    "            else:\n",
    "                conv = GATConv(channels[i-1]*heads,channels[i],heads=heads,dropout=self.attention_dropout)\n",
    "            self.add_module(str(i),conv)\n",
    "            self.conv.append(conv)\n",
    "        \n",
    "        \n",
    "    def forward(self, data): \n",
    "        x, edge_index = data.x, data.edge_index \n",
    "        \n",
    "        for conv in self.conv[:-1]:\n",
    "            x = conv(x,edge_index)\n",
    "            x = F.elu(x)\n",
    "            x = F.dropout(x,p=self.dropout,training=self.training) # YOU MUST UNDERSTAND DROPOUT (in attention)\n",
    "        \n",
    "        # Last layer\n",
    "        x = self.conv[-1](x,edge_index)\n",
    "        x = F.softmax(x,dim=1)\n",
    "        \n",
    "        return x\n",
    "    \n",
    "\n",
    "class BiGAT(torch.nn.Module):\n",
    "    def __init__(self,dataset,channels,heads=1,dropout=0.6,attention_dropout=0.3):\n",
    "        super(BiGAT,self).__init__()\n",
    "        self.conv_st = []\n",
    "        self.conv_ts = []\n",
    "        self.dropout = dropout\n",
    "        self.attention_dropout = attention_dropout\n",
    "        channels_output = [dataset.num_node_features] + [c*2*heads for c in channels]\n",
    "        channels = [dataset.num_node_features] + channels\n",
    "        for i in range(len(channels)-1):\n",
    "            conv_st = GATConv(channels_output[i], channels[i+1],heads=heads,dropout=self.attention_dropout)\n",
    "            self.add_module('conv_st'+str(i),conv_st)\n",
    "            self.conv_st.append(conv_st)\n",
    "            \n",
    "            conv_ts = GATConv(channels_output[i], channels[i+1],heads=heads,dropout=self.attention_dropout)\n",
    "            self.add_module('conv_ts'+str(i),conv_ts)\n",
    "            self.conv_ts.append(conv_ts)\n",
    "        \n",
    "        if dataset.name=='PubMed':\n",
    "            self.last = GATConv(channels_output[-1], dataset.num_classes,heads=heads,concat=False,dropout=self.attention_dropout)\n",
    "        else:\n",
    "            self.last = GATConv(channels_output[-1], dataset.num_classes,dropout=self.attention_dropout)\n",
    "        \n",
    "    def forward(self, data): \n",
    "        x, edge_index = data.x, data.edge_index\n",
    "        st_edges = data.edge_index.t()[1-data.is_reversed].t()\n",
    "        ts_edges = data.edge_index.t()[data.is_reversed].t()\n",
    "#         print(ts_edges.shape)\n",
    "        for i in range(len(self.conv_st)):\n",
    "            x1 = F.elu(self.conv_st[i](x,st_edges))\n",
    "            x2 = F.elu(self.conv_ts[i](x,ts_edges))\n",
    "            x = torch.cat((x1,x2),dim=1)\n",
    "            x = F.dropout(x,p=self.dropout,training=self.training)\n",
    "        \n",
    "        # last layer\n",
    "        x = self.last(x,edge_index)\n",
    "        x = F.softmax(x,dim=1) \n",
    "        \n",
    "        return x\n",
    "    \n",
    "class TriGAT(torch.nn.Module):\n",
    "    def __init__(self,dataset,channels,heads=1,dropout=0.6,attention_dropout=0.3):\n",
    "        super(TriGAT,self).__init__()\n",
    "        self.conv_st = []\n",
    "        self.conv_ts = []\n",
    "        self.conv = []\n",
    "        self.dropout = dropout\n",
    "        self.attention_dropout = attention_dropout\n",
    "        channels_output = [dataset.num_node_features] + [c*3*heads for c in channels]\n",
    "        channels = [dataset.num_node_features] + channels\n",
    "        for i in range(len(channels)-1):\n",
    "            conv_st = GATConv(channels_output[i], channels[i+1],heads=heads,dropout=self.attention_dropout)\n",
    "            self.add_module('conv_st'+str(i),conv_st)\n",
    "            self.conv_st.append(conv_st)\n",
    "            \n",
    "            conv_ts = GATConv(channels_output[i], channels[i+1],heads=heads,dropout=self.attention_dropout)\n",
    "            self.add_module('conv_ts'+str(i),conv_ts)\n",
    "            self.conv_ts.append(conv_ts)\n",
    "            \n",
    "            conv = GATConv(channels_output[i],channels[i+1],heads=heads,dropout=self.attention_dropout)\n",
    "            self.add_module('conv'+str(i),conv)\n",
    "            self.conv.append(conv)\n",
    "        \n",
    "        if dataset.name=='PubMed':\n",
    "            self.last = GATConv(channels_output[-1], dataset.num_classes,heads=heads,concat=False,dropout=self.attention_dropout)\n",
    "        else:\n",
    "            self.last = GATConv(channels_output[-1], dataset.num_classes,dropout=self.attention_dropout)\n",
    "        \n",
    "    def forward(self, data): \n",
    "        x, edge_index = data.x, data.edge_index\n",
    "        st_edges = data.edge_index.t()[1-data.is_reversed].t()\n",
    "        ts_edges = data.edge_index.t()[data.is_reversed].t()\n",
    "#         print(ts_edges.shape)\n",
    "        for i in range(len(self.conv_st)):\n",
    "            x1 = F.elu(self.conv_st[i](x,st_edges))\n",
    "            x2 = F.elu(self.conv_ts[i](x,ts_edges))\n",
    "            x3 = F.elu(self.conv[i](x,edge_index))\n",
    "            x = torch.cat((x1,x2,x3),dim=1)\n",
    "            x = F.dropout(x,p=self.dropout,training=self.training)\n",
    "        \n",
    "        # last layer\n",
    "        x = self.last(x,edge_index)\n",
    "        x = F.softmax(x,dim=1) \n",
    "        \n",
    "        return x"
   ]
  },
  {
   "cell_type": "code",
   "execution_count": 116,
   "metadata": {},
   "outputs": [],
   "source": [
    "class NetworkSplitShcur:\n",
    "    \n",
    "    def __init__(self, data, train_examples_per_class=20,early_examples_per_class=20,\n",
    "                 val_examples_per_class=30 , split_seed = 0):\n",
    "        self.data = data\n",
    "        \n",
    "        random.seed(split_seed)\n",
    "        target = [x.item() for x in self.data.y]\n",
    "        num_samples = len(target)\n",
    "        indices = range(num_samples)\n",
    "        labels = set(target)\n",
    "        num_classes = len(labels)\n",
    "        \n",
    "        train_idx = []\n",
    "        for c in range(num_classes):\n",
    "            train_idx += [x for x in random.sample([i for i in indices if target[i]==c],\n",
    "                                                   train_examples_per_class)]\n",
    "        self.train_mask = [1 if i in train_idx else 0 for i in range(num_samples)]\n",
    "\n",
    "        rest = [x for x in indices if not self.train_mask[x]]\n",
    "        early_idx = []\n",
    "        for c in range(num_classes):\n",
    "            early_idx += [x for x in random.sample([i for i in indices if i in rest and target[i]==c],\n",
    "                                                   early_examples_per_class)]\n",
    "        self.early_mask = [1 if i in early_idx else 0 for i in range(num_samples)]\n",
    "\n",
    "        rest = [x for x in rest if not self.early_mask[x]]\n",
    "        val_idx = []\n",
    "        for c in range(num_classes):\n",
    "            val_idx += [x for x in random.sample([i for i in indices if i in rest and target[i]==c],\n",
    "                                                   val_examples_per_class)]\n",
    "        self.val_mask = [1 if i in val_idx else 0 for i in range(num_samples)]\n",
    "\n",
    "        rest = [x for x in rest if not self.val_mask[x]]\n",
    "        self.test_mask = [1 if i in rest else 0 for i in indices]\n",
    "        \n",
    "        \n",
    "        self.train_mask = torch.BoolTensor(self.train_mask)\n",
    "        self.early_mask = torch.BoolTensor(self.early_mask)\n",
    "        self.val_mask = torch.BoolTensor(self.val_mask)\n",
    "        self.test_mask = torch.BoolTensor(self.test_mask)\n",
    "        \n",
    "        \n",
    "        all_ones = self.train_mask | self.early_mask | self.val_mask | self.test_mask\n",
    "        assert (all_ones.sum().item() == num_samples)\n",
    "        \n",
    "        "
   ]
  },
  {
   "cell_type": "code",
   "execution_count": 117,
   "metadata": {},
   "outputs": [],
   "source": [
    "class NetworkSplit:\n",
    "    \n",
    "    def __init__(self, data, train_examples_per_class=20,num_early=500, num_val=500,num_test=1000, split_seed = 0):\n",
    "        self.data = data\n",
    "        \n",
    "        random.seed(split_seed)\n",
    "        target = [x.item() for x in self.data.y]\n",
    "        num_samples = len(target)\n",
    "        indices = range(num_samples)\n",
    "        labels = set(target)\n",
    "        num_classes = len(labels)\n",
    "        \n",
    "        train_idx = []\n",
    "        for i in range(num_classes):\n",
    "            train_idx += [x for x in random.sample(np.array(indices)[np.array(target) == i].tolist(),\n",
    "                                                   train_examples_per_class)]\n",
    "        self.train_mask = [1 if i in train_idx else 0 for i in range(num_samples)]\n",
    "\n",
    "        rest = [x for x in indices if not self.train_mask[x]]\n",
    "        early_idx = [x for x in random.sample(rest, num_early)]\n",
    "        self.early_mask = [1 if i in early_idx else 0 for i in range(num_samples)]\n",
    "\n",
    "        rest = [x for x in rest if not self.early_mask[x]]\n",
    "        val_idx = [x for x in random.sample(rest, num_val)]\n",
    "        self.val_mask = [1 if i in val_idx else 0 for i in range(num_samples)]\n",
    "\n",
    "        rest = [x for x in rest if not self.val_mask[x]]\n",
    "        test_idx = [x for x in random.sample(rest, num_test)]\n",
    "        self.test_mask = [1 if i in test_idx else 0 for i in range(num_samples)]\n",
    "        \n",
    "        \n",
    "        self.train_mask = torch.BoolTensor(self.train_mask)\n",
    "        self.early_mask = torch.BoolTensor(self.early_mask)\n",
    "        self.val_mask = torch.BoolTensor(self.val_mask)\n",
    "        self.test_mask = torch.BoolTensor(self.test_mask)\n",
    "        \n",
    "        \n",
    "        all_ones = self.train_mask | self.early_mask | self.val_mask | self.test_mask\n",
    "        assert (all_ones.sum().item() == train_examples_per_class*num_classes + num_early + num_val + num_test)\n",
    "        \n",
    "        "
   ]
  },
  {
   "cell_type": "code",
   "execution_count": 118,
   "metadata": {},
   "outputs": [],
   "source": [
    "\n",
    "def run_and_eval_model(dataset,channels,modelType,architecture,\n",
    "                       lr,wd,heads,dropout,\n",
    "                       epochs=200,\n",
    "                       split_seed=0,init_seed=0):\n",
    "    # training process (without batches/transforms)\n",
    "    \n",
    "    # Uncomment to test sources of randomness\n",
    "    # we assume that the only sources of randomness are the data split and the initialization.\n",
    "    # We can probably use this line when we need the results to be reproducible\n",
    "    torch.manual_seed(init_seed)\n",
    "    \n",
    "    device = torch.device('cuda' if torch.cuda.is_available() else 'cpu')\n",
    "    \n",
    "    data = dataset[0].to(device)\n",
    "#     print(data.edge_index)\n",
    "#     print(data.x)\n",
    "#     print(f'is cuda: {data.x.is_cuda()}')\n",
    "#     dropout = 0.5\n",
    "#     if modelType == GCNConv:\n",
    "#         dropout=0.8\n",
    "#     elif modelType == SAGEConv:\n",
    "#         dropout=0.4\n",
    "#     elif modelType == GATConv:\n",
    "#         dropout=0.6\n",
    "        \n",
    "    if modelType == GATConv:\n",
    "        model = architecture(dataset,channels,dropout=dropout,heads=heads).to(device)\n",
    "    else:\n",
    "        model = architecture(modelType,dataset,channels,dropout).to(device)\n",
    "    \n",
    "    \n",
    "    \n",
    "#     print(model)\n",
    "    \n",
    "    split = NetworkSplitShcur(data,early_examples_per_class=0,split_seed=split_seed)\n",
    "    \n",
    "    optimizer = torch.optim.Adam(model.parameters(),lr=lr,weight_decay=wd)\n",
    "    model.train() # to enter training phase\n",
    "    maxacc=-1\n",
    "    chosen = None\n",
    "    accs = []\n",
    "    stopped_at = epochs\n",
    "    for epoch in range(epochs):\n",
    "        optimizer.zero_grad() # saw this a lot in the beginning, maybe resetting gradients (not to accumulate)\n",
    "        out = model(data) # this calls the forward method apparently\n",
    "        loss = F.nll_loss(out[split.train_mask],data.y[split.train_mask]) # nice indexing, easy and short\n",
    "#         loss = F.nll_loss(out[data.train_mask],data.y[data.train_mask]) # nice indexing, easy and short\n",
    "        loss.backward() # magic: real back propagation step, takes care of the gradients and stuff\n",
    "        optimizer.step() # maybe updates the params to be optimized\n",
    "        \n",
    "        model.eval()\n",
    "        _,pred = model(data).max(dim=1) # take prediction out of softmax\n",
    "        correct = float(pred[split.val_mask].eq(data.y[split.val_mask]).sum().item())\n",
    "        acc = correct / float(split.val_mask.sum().item())\n",
    "#         correct = float(pred[data.val_mask].eq(data.y[data.val_mask]).sum().item())\n",
    "#         acc = correct / float(data.val_mask.sum().item())\n",
    "        accs.append(acc)\n",
    "        if acc > maxacc:\n",
    "            maxacc = acc\n",
    "            chosen=copy.deepcopy(model)\n",
    "        if epoch > 10 and acc*10 < sum(accs[-11:-1]):\n",
    "#             print('stopped at epoch {}'.format(epoch))\n",
    "            stopped_at = epoch\n",
    "            break\n",
    "        model.train()\n",
    "    chosen.eval() # enter eval phase\n",
    "    _,pred = chosen(data).max(dim=1) # take prediction out of softmax\n",
    "    correct = float(pred[split.val_mask].eq(data.y[split.val_mask]).sum().item())\n",
    "    val_acc = correct / float(split.val_mask.sum().item())\n",
    "    \n",
    "    correct = float(pred[split.test_mask].eq(data.y[split.test_mask]).sum().item())\n",
    "    test_acc = correct / float(split.test_mask.sum().item())\n",
    "    \n",
    "#     correct = float(pred[data.val_mask].eq(data.y[data.val_mask]).sum().item())\n",
    "#     acc = correct / float(data.val_mask.sum().item())\n",
    "#     plt.figure()\n",
    "#     plt.plot(accs)\n",
    "    return val_acc,test_acc,stopped_at\n",
    "\n",
    "def eval_multiple(dataset,channels,modelType,architecture,\n",
    "                  lr,wd,heads, dropout,\n",
    "                  runs=100,epochs=50,split_seed = 0):\n",
    "    start = time.time()\n",
    "    val_accs = []\n",
    "    test_accs = []\n",
    "    stoppeds = []\n",
    "    for i in range(runs):\n",
    "        val_acc,test_acc, stopped = run_and_eval_model(dataset,channels,modelType,architecture,lr=lr,wd=wd,epochs=epochs,\n",
    "                                       heads=heads, dropout=dropout,\n",
    "                                       split_seed=split_seed, init_seed=i)\n",
    "        val_accs.append(val_acc)\n",
    "        test_accs.append(test_acc)\n",
    "        stoppeds.append(stopped)\n",
    "    elapsed_time = time.time() - start\n",
    "#     print('Elaplsed {}'.format(time.strftime(\"%H:%M:%S\", time.gmtime(elapsed_time))))\n",
    "    return val_accs,test_accs,stoppeds"
   ]
  },
  {
   "cell_type": "code",
   "execution_count": 119,
   "metadata": {},
   "outputs": [],
   "source": [
    "num_splits = 2\n",
    "num_runs = 2"
   ]
  },
  {
   "cell_type": "code",
   "execution_count": 128,
   "metadata": {},
   "outputs": [],
   "source": [
    "df_val = pd.DataFrame(columns='conv arch ch dropout lr wd heads splits inits val_accs val_avg val_std test_accs test_avg test_std stopped elapsed'.split())\n",
    "val_out = 'demo2-val.csv'"
   ]
  },
  {
   "cell_type": "code",
   "execution_count": 136,
   "metadata": {},
   "outputs": [],
   "source": [
    "def eval_archs(dataset,\n",
    "               conv,\n",
    "               channel_size,dropout,lr,wd,heads,\n",
    "               models=[MonoModel, BiModel, TriModel]):\n",
    "    global df_val\n",
    "    chs = 0\n",
    "    for model in models:\n",
    "        chs+=1\n",
    "        val_accs = []\n",
    "        test_accs = []\n",
    "        stoppeds = []\n",
    "        fileout = f'acc_{num_splits}_{num_runs}/{conv.__name__}_{model.__name__}_ch{channel_size}_lr{lr}_wd{wd}_dropout{dropout}_heads{heads}.out'\n",
    "        print(f'>> {fileout}')\n",
    "        with open(fileout,'w') as f:\n",
    "            start = time.time()\n",
    "            for seed in range(num_splits):\n",
    "                val_acc,test_acc,stopped = eval_multiple(dataset,[channel_size//chs//heads],conv,runs=num_runs,epochs=200,split_seed=seed,\n",
    "                                                            architecture=model,lr=lr,wd=wd,heads=heads,dropout=dropout)\n",
    "#                 f.write('{} {} accuracy: {:.2f} +-{:.1f}\\n'.format(conv.__name__,model.__name__,monogcn*100,monogcnstd*100))\n",
    "                val_accs += val_acc\n",
    "                test_accs += test_acc\n",
    "                stoppeds+= stopped\n",
    "                \n",
    "            val_avg = np.array(val_accs).mean()\n",
    "            val_std = np.array(val_accs).std()\n",
    "            \n",
    "            test_avg = np.array(test_accs).mean()\n",
    "            test_std = np.array(test_accs).std()\n",
    "            f.write('{} {} accuracy: {:.2f} +-{:.1f}\\n'.format(conv.__name__,model.__name__,val_avg*100,val_std*100))\n",
    "        elapsed = time.time() - start\n",
    "        df_val = df_val.append({'conv':conv.__name__,'arch':model.__name__[0],'ch':channel_size,\n",
    "                               'dropout':dropout,'lr':lr,'wd':wd,'heads':heads,\n",
    "                                'splits':num_splits,'inits':num_runs,\n",
    "                                'val_accs':val_accs,'val_avg':val_avg,'val_std':val_std,\n",
    "                                'test_accs':test_accs,'test_avg':test_avg,'test_std':test_std,\n",
    "                                'stopped':stoppeds,'elapsed':elapsed},ignore_index=True)\n",
    "        df_val.to_csv(val_out,index=False)\n",
    "    if len(models) == 1:\n",
    "        return val_avg\n",
    "            \n",
    "def eval_archs_gcn(dataset,conv,channel_size,dropout,lr,wd,models=[MonoModel, BiModel, TriModel]):\n",
    "    return eval_archs(dataset,conv,channel_size,dropout,lr,wd,heads=1,\n",
    "               models=models)\n",
    "\n",
    "def eval_gcn(dropout,lr,wd):\n",
    "    global global_ch\n",
    "    ret =  eval_archs_gcn(cora,GCNConv,global_ch,dropout,lr,wd,models=[MonoModel])\n",
    "    return ret\n",
    "    \n",
    "def eval_archs_gat(dataset,conv,channel_size,dropout,lr,wd,heads,models=[MonoGAT, BiGAT, TriGAT]):\n",
    "    eval_archs(dataset,conv,channel_size,dropout,lr,wd,heads,\n",
    "               models=models)"
   ]
  },
  {
   "cell_type": "code",
   "execution_count": 137,
   "metadata": {
    "scrolled": true
   },
   "outputs": [
    {
     "name": "stdout",
     "output_type": "stream",
     "text": [
      "|   iter    |  target   |  dropout  |    lr     |    wd     |\n",
      "-------------------------------------------------------------\n",
      ">> acc_2_2/GCNConv_MonoModel_ch12_lr0.003091264184572679_wd0.033058107286692937_dropout0.567555825914471_heads1.out\n",
      "| \u001b[0m 1       \u001b[0m | \u001b[0m 0.7667  \u001b[0m | \u001b[0m 0.5676  \u001b[0m | \u001b[0m 0.003091\u001b[0m | \u001b[0m 0.03306 \u001b[0m |\n",
      ">> acc_2_2/GCNConv_MonoModel_ch12_lr0.008705340452405362_wd0.019161619525799988_dropout0.21057016485126262_heads1.out\n",
      "| \u001b[95m 2       \u001b[0m | \u001b[95m 0.794   \u001b[0m | \u001b[95m 0.2106  \u001b[0m | \u001b[95m 0.008705\u001b[0m | \u001b[95m 0.01916 \u001b[0m |\n",
      ">> acc_2_2/GCNConv_MonoModel_ch12_lr0.008927871818006358_wd0.09085682814342717_dropout0.7246811211985036_heads1.out\n",
      "| \u001b[0m 3       \u001b[0m | \u001b[0m 0.7405  \u001b[0m | \u001b[0m 0.7247  \u001b[0m | \u001b[0m 0.008928\u001b[0m | \u001b[0m 0.09086 \u001b[0m |\n",
      ">> acc_2_2/GCNConv_MonoModel_ch12_lr0.001_wd0.0001_dropout0.2_heads1.out\n",
      "| \u001b[0m 4       \u001b[0m | \u001b[0m 0.7595  \u001b[0m | \u001b[0m 0.2     \u001b[0m | \u001b[0m 0.001   \u001b[0m | \u001b[0m 0.0001  \u001b[0m |\n",
      ">> acc_2_2/GCNConv_MonoModel_ch12_lr0.001_wd0.1_dropout0.3585996778188622_heads1.out\n",
      "| \u001b[0m 5       \u001b[0m | \u001b[0m 0.7095  \u001b[0m | \u001b[0m 0.3586  \u001b[0m | \u001b[0m 0.001   \u001b[0m | \u001b[0m 0.1     \u001b[0m |\n",
      ">> acc_2_2/GCNConv_MonoModel_ch12_lr0.01_wd0.0001_dropout0.8_heads1.out\n",
      "| \u001b[95m 6       \u001b[0m | \u001b[95m 0.7952  \u001b[0m | \u001b[95m 0.8     \u001b[0m | \u001b[95m 0.01    \u001b[0m | \u001b[95m 0.0001  \u001b[0m |\n",
      ">> acc_2_2/GCNConv_MonoModel_ch12_lr0.01_wd0.1_dropout0.2_heads1.out\n",
      "| \u001b[0m 7       \u001b[0m | \u001b[0m 0.7345  \u001b[0m | \u001b[0m 0.2     \u001b[0m | \u001b[0m 0.01    \u001b[0m | \u001b[0m 0.1     \u001b[0m |\n",
      ">> acc_2_2/GCNConv_MonoModel_ch12_lr0.01_wd0.0001_dropout0.38385223986301087_heads1.out\n",
      "| \u001b[0m 8       \u001b[0m | \u001b[0m 0.7952  \u001b[0m | \u001b[0m 0.3839  \u001b[0m | \u001b[0m 0.01    \u001b[0m | \u001b[0m 0.0001  \u001b[0m |\n",
      ">> acc_2_2/GCNConv_MonoModel_ch12_lr0.01_wd0.0001_dropout0.6827018974202244_heads1.out\n",
      "| \u001b[0m 9       \u001b[0m | \u001b[0m 0.7952  \u001b[0m | \u001b[0m 0.6827  \u001b[0m | \u001b[0m 0.01    \u001b[0m | \u001b[0m 0.0001  \u001b[0m |\n",
      ">> acc_2_2/GCNConv_MonoModel_ch12_lr0.01_wd0.0001_dropout0.28315506970582094_heads1.out\n",
      "| \u001b[0m 10      \u001b[0m | \u001b[0m 0.794   \u001b[0m | \u001b[0m 0.2832  \u001b[0m | \u001b[0m 0.01    \u001b[0m | \u001b[0m 0.0001  \u001b[0m |\n",
      ">> acc_2_2/GCNConv_MonoModel_ch12_lr0.01_wd0.0001_dropout0.5112706489007152_heads1.out\n",
      "| \u001b[95m 11      \u001b[0m | \u001b[95m 0.7976  \u001b[0m | \u001b[95m 0.5113  \u001b[0m | \u001b[95m 0.01    \u001b[0m | \u001b[95m 0.0001  \u001b[0m |\n",
      ">> acc_2_2/GCNConv_MonoModel_ch12_lr0.01_wd0.1_dropout0.5153735003569834_heads1.out\n",
      "| \u001b[0m 12      \u001b[0m | \u001b[0m 0.7357  \u001b[0m | \u001b[0m 0.5154  \u001b[0m | \u001b[0m 0.01    \u001b[0m | \u001b[0m 0.1     \u001b[0m |\n",
      ">> acc_2_2/GCNConv_MonoModel_ch12_lr0.01_wd0.0001_dropout0.5985326613700247_heads1.out\n",
      "| \u001b[0m 13      \u001b[0m | \u001b[0m 0.7964  \u001b[0m | \u001b[0m 0.5985  \u001b[0m | \u001b[0m 0.01    \u001b[0m | \u001b[0m 0.0001  \u001b[0m |\n",
      "=============================================================\n",
      "|   iter    |  target   |  dropout  |    lr     |    wd     |\n",
      "-------------------------------------------------------------\n",
      ">> acc_2_2/GCNConv_MonoModel_ch24_lr0.00812993668945441_wd0.022608668297954163_dropout0.2257442119258838_heads1.out\n",
      "| \u001b[0m 1       \u001b[0m | \u001b[0m 0.7917  \u001b[0m | \u001b[0m 0.2257  \u001b[0m | \u001b[0m 0.00813 \u001b[0m | \u001b[0m 0.02261 \u001b[0m |\n",
      ">> acc_2_2/GCNConv_MonoModel_ch24_lr0.007675439459161438_wd0.03457210259858416_dropout0.564322944168997_heads1.out\n",
      "| \u001b[95m 2       \u001b[0m | \u001b[95m 0.7929  \u001b[0m | \u001b[95m 0.5643  \u001b[0m | \u001b[95m 0.007675\u001b[0m | \u001b[95m 0.03457 \u001b[0m |\n",
      ">> acc_2_2/GCNConv_MonoModel_ch24_lr0.005321372675354302_wd0.0705075905609352_dropout0.3521636782954901_heads1.out\n",
      "| \u001b[0m 3       \u001b[0m | \u001b[0m 0.7762  \u001b[0m | \u001b[0m 0.3522  \u001b[0m | \u001b[0m 0.005321\u001b[0m | \u001b[0m 0.07051 \u001b[0m |\n",
      ">> acc_2_2/GCNConv_MonoModel_ch24_lr0.001_wd0.0001_dropout0.8_heads1.out\n",
      "| \u001b[0m 4       \u001b[0m | \u001b[0m 0.7845  \u001b[0m | \u001b[0m 0.8     \u001b[0m | \u001b[0m 0.001   \u001b[0m | \u001b[0m 0.0001  \u001b[0m |\n",
      ">> acc_2_2/GCNConv_MonoModel_ch24_lr0.001_wd0.0001_dropout0.42808288926379356_heads1.out\n",
      "| \u001b[0m 5       \u001b[0m | \u001b[0m 0.7905  \u001b[0m | \u001b[0m 0.4281  \u001b[0m | \u001b[0m 0.001   \u001b[0m | \u001b[0m 0.0001  \u001b[0m |\n",
      ">> acc_2_2/GCNConv_MonoModel_ch24_lr0.01_wd0.1_dropout0.8_heads1.out\n",
      "| \u001b[0m 6       \u001b[0m | \u001b[0m 0.7738  \u001b[0m | \u001b[0m 0.8     \u001b[0m | \u001b[0m 0.01    \u001b[0m | \u001b[0m 0.1     \u001b[0m |\n",
      ">> acc_2_2/GCNConv_MonoModel_ch24_lr0.01_wd0.0001_dropout0.6256746694479993_heads1.out\n",
      "| \u001b[95m 7       \u001b[0m | \u001b[95m 0.8095  \u001b[0m | \u001b[95m 0.6257  \u001b[0m | \u001b[95m 0.01    \u001b[0m | \u001b[95m 0.0001  \u001b[0m |\n",
      ">> acc_2_2/GCNConv_MonoModel_ch24_lr0.01_wd0.00010000000000004432_dropout0.6813063826606086_heads1.out\n",
      "| \u001b[0m 8       \u001b[0m | \u001b[0m 0.8     \u001b[0m | \u001b[0m 0.6813  \u001b[0m | \u001b[0m 0.01    \u001b[0m | \u001b[0m 0.0001  \u001b[0m |\n",
      ">> acc_2_2/GCNConv_MonoModel_ch24_lr0.001_wd0.1_dropout0.2_heads1.out\n",
      "| \u001b[0m 9       \u001b[0m | \u001b[0m 0.7476  \u001b[0m | \u001b[0m 0.2     \u001b[0m | \u001b[0m 0.001   \u001b[0m | \u001b[0m 0.1     \u001b[0m |\n",
      ">> acc_2_2/GCNConv_MonoModel_ch24_lr0.01_wd0.0001_dropout0.5009997658976572_heads1.out\n",
      "| \u001b[0m 10      \u001b[0m | \u001b[0m 0.8024  \u001b[0m | \u001b[0m 0.501   \u001b[0m | \u001b[0m 0.01    \u001b[0m | \u001b[0m 0.0001  \u001b[0m |\n",
      ">> acc_2_2/GCNConv_MonoModel_ch24_lr0.01_wd0.0001_dropout0.31003989589339415_heads1.out\n",
      "| \u001b[0m 11      \u001b[0m | \u001b[0m 0.806   \u001b[0m | \u001b[0m 0.31    \u001b[0m | \u001b[0m 0.01    \u001b[0m | \u001b[0m 0.0001  \u001b[0m |\n",
      ">> acc_2_2/GCNConv_MonoModel_ch24_lr0.01_wd0.0001_dropout0.2_heads1.out\n",
      "| \u001b[0m 12      \u001b[0m | \u001b[0m 0.8048  \u001b[0m | \u001b[0m 0.2     \u001b[0m | \u001b[0m 0.01    \u001b[0m | \u001b[0m 0.0001  \u001b[0m |\n",
      ">> acc_2_2/GCNConv_MonoModel_ch24_lr0.01_wd0.00010000061281350295_dropout0.5891754224068102_heads1.out\n",
      "| \u001b[0m 13      \u001b[0m | \u001b[0m 0.8048  \u001b[0m | \u001b[0m 0.5892  \u001b[0m | \u001b[0m 0.01    \u001b[0m | \u001b[0m 0.0001  \u001b[0m |\n",
      "=============================================================\n",
      "|   iter    |  target   |  dropout  |    lr     |    wd     |\n",
      "-------------------------------------------------------------\n",
      ">> acc_2_2/GCNConv_MonoModel_ch48_lr0.007159105943869758_wd0.028368960989797652_dropout0.20876821257442363_heads1.out\n",
      "| \u001b[0m 1       \u001b[0m | \u001b[0m 0.7917  \u001b[0m | \u001b[0m 0.2088  \u001b[0m | \u001b[0m 0.007159\u001b[0m | \u001b[0m 0.02837 \u001b[0m |\n",
      ">> acc_2_2/GCNConv_MonoModel_ch48_lr0.0018392907814560196_wd0.07838097778798907_dropout0.27641398879309365_heads1.out\n",
      "| \u001b[0m 2       \u001b[0m | \u001b[0m 0.775   \u001b[0m | \u001b[0m 0.2764  \u001b[0m | \u001b[0m 0.001839\u001b[0m | \u001b[0m 0.07838 \u001b[0m |\n",
      ">> acc_2_2/GCNConv_MonoModel_ch48_lr0.006013783800497167_wd0.01466820958074139_dropout0.7859683157632293_heads1.out\n",
      "| \u001b[95m 3       \u001b[0m | \u001b[95m 0.7988  \u001b[0m | \u001b[95m 0.786   \u001b[0m | \u001b[95m 0.006014\u001b[0m | \u001b[95m 0.01467 \u001b[0m |\n",
      ">> acc_2_2/GCNConv_MonoModel_ch48_lr0.001_wd0.0001_dropout0.5018462381131398_heads1.out\n",
      "| \u001b[0m 4       \u001b[0m | \u001b[0m 0.781   \u001b[0m | \u001b[0m 0.5018  \u001b[0m | \u001b[0m 0.001   \u001b[0m | \u001b[0m 0.0001  \u001b[0m |\n",
      ">> acc_2_2/GCNConv_MonoModel_ch48_lr0.001_wd0.0001_dropout0.8_heads1.out\n",
      "| \u001b[0m 5       \u001b[0m | \u001b[0m 0.7869  \u001b[0m | \u001b[0m 0.8     \u001b[0m | \u001b[0m 0.001   \u001b[0m | \u001b[0m 0.0001  \u001b[0m |\n",
      ">> acc_2_2/GCNConv_MonoModel_ch48_lr0.001_wd0.1_dropout0.8_heads1.out\n",
      "| \u001b[0m 6       \u001b[0m | \u001b[0m 0.7655  \u001b[0m | \u001b[0m 0.8     \u001b[0m | \u001b[0m 0.001   \u001b[0m | \u001b[0m 0.1     \u001b[0m |\n",
      ">> acc_2_2/GCNConv_MonoModel_ch48_lr0.01_wd0.1_dropout0.6160846835693732_heads1.out\n",
      "| \u001b[0m 7       \u001b[0m | \u001b[0m 0.769   \u001b[0m | \u001b[0m 0.6161  \u001b[0m | \u001b[0m 0.01    \u001b[0m | \u001b[0m 0.1     \u001b[0m |\n",
      ">> acc_2_2/GCNConv_MonoModel_ch48_lr0.01_wd0.0001_dropout0.32316109022809275_heads1.out\n",
      "| \u001b[95m 8       \u001b[0m | \u001b[95m 0.8036  \u001b[0m | \u001b[95m 0.3232  \u001b[0m | \u001b[95m 0.01    \u001b[0m | \u001b[95m 0.0001  \u001b[0m |\n",
      ">> acc_2_2/GCNConv_MonoModel_ch48_lr0.01_wd0.0001_dropout0.6857457894748266_heads1.out\n",
      "| \u001b[0m 9       \u001b[0m | \u001b[0m 0.8036  \u001b[0m | \u001b[0m 0.6857  \u001b[0m | \u001b[0m 0.01    \u001b[0m | \u001b[0m 0.0001  \u001b[0m |\n",
      ">> acc_2_2/GCNConv_MonoModel_ch48_lr0.01_wd0.0001_dropout0.8_heads1.out\n",
      "| \u001b[95m 10      \u001b[0m | \u001b[95m 0.8048  \u001b[0m | \u001b[95m 0.8     \u001b[0m | \u001b[95m 0.01    \u001b[0m | \u001b[95m 0.0001  \u001b[0m |\n",
      ">> acc_2_2/GCNConv_MonoModel_ch48_lr0.00994267164806608_wd0.0013456896598727588_dropout0.7410518050182253_heads1.out\n",
      "| \u001b[0m 11      \u001b[0m | \u001b[0m 0.7988  \u001b[0m | \u001b[0m 0.7411  \u001b[0m | \u001b[0m 0.009943\u001b[0m | \u001b[0m 0.001346\u001b[0m |\n",
      ">> acc_2_2/GCNConv_MonoModel_ch48_lr0.01_wd0.1_dropout0.2_heads1.out\n",
      "| \u001b[0m 12      \u001b[0m | \u001b[0m 0.7738  \u001b[0m | \u001b[0m 0.2     \u001b[0m | \u001b[0m 0.01    \u001b[0m | \u001b[0m 0.1     \u001b[0m |\n",
      ">> acc_2_2/GCNConv_MonoModel_ch48_lr0.01_wd0.04833188207688417_dropout0.4067957259367175_heads1.out\n",
      "| \u001b[0m 13      \u001b[0m | \u001b[0m 0.7857  \u001b[0m | \u001b[0m 0.4068  \u001b[0m | \u001b[0m 0.01    \u001b[0m | \u001b[0m 0.04833 \u001b[0m |\n",
      "=============================================================\n",
      "|   iter    |  target   |  dropout  |    lr     |    wd     |\n",
      "-------------------------------------------------------------\n",
      ">> acc_2_2/GCNConv_MonoModel_ch96_lr0.00969363377000974_wd0.06579484544171593_dropout0.23221138730118465_heads1.out\n"
     ]
    },
    {
     "name": "stdout",
     "output_type": "stream",
     "text": [
      "| \u001b[0m 1       \u001b[0m | \u001b[0m 0.7726  \u001b[0m | \u001b[0m 0.2322  \u001b[0m | \u001b[0m 0.009694\u001b[0m | \u001b[0m 0.06579 \u001b[0m |\n",
      ">> acc_2_2/GCNConv_MonoModel_ch96_lr0.0010639054133033186_wd0.026462653564673085_dropout0.6218908596933719_heads1.out\n",
      "| \u001b[95m 2       \u001b[0m | \u001b[95m 0.7774  \u001b[0m | \u001b[95m 0.6219  \u001b[0m | \u001b[95m 0.001064\u001b[0m | \u001b[95m 0.02646 \u001b[0m |\n",
      ">> acc_2_2/GCNConv_MonoModel_ch96_lr0.00769793273865096_wd0.03745569550962197_dropout0.6521152491418363_heads1.out\n",
      "| \u001b[95m 3       \u001b[0m | \u001b[95m 0.7833  \u001b[0m | \u001b[95m 0.6521  \u001b[0m | \u001b[95m 0.007698\u001b[0m | \u001b[95m 0.03746 \u001b[0m |\n",
      ">> acc_2_2/GCNConv_MonoModel_ch96_lr0.001_wd0.1_dropout0.8_heads1.out\n",
      "| \u001b[0m 4       \u001b[0m | \u001b[0m 0.7452  \u001b[0m | \u001b[0m 0.8     \u001b[0m | \u001b[0m 0.001   \u001b[0m | \u001b[0m 0.1     \u001b[0m |\n",
      ">> acc_2_2/GCNConv_MonoModel_ch96_lr0.01_wd0.1_dropout0.4830924420402448_heads1.out\n",
      "| \u001b[0m 5       \u001b[0m | \u001b[0m 0.7655  \u001b[0m | \u001b[0m 0.4831  \u001b[0m | \u001b[0m 0.01    \u001b[0m | \u001b[0m 0.1     \u001b[0m |\n",
      ">> acc_2_2/GCNConv_MonoModel_ch96_lr0.01_wd0.0001_dropout0.8_heads1.out\n",
      "| \u001b[95m 6       \u001b[0m | \u001b[95m 0.8048  \u001b[0m | \u001b[95m 0.8     \u001b[0m | \u001b[95m 0.01    \u001b[0m | \u001b[95m 0.0001  \u001b[0m |\n",
      ">> acc_2_2/GCNConv_MonoModel_ch96_lr0.01_wd0.0001_dropout0.3652247100524925_heads1.out\n",
      "| \u001b[0m 7       \u001b[0m | \u001b[0m 0.8048  \u001b[0m | \u001b[0m 0.3652  \u001b[0m | \u001b[0m 0.01    \u001b[0m | \u001b[0m 0.0001  \u001b[0m |\n",
      ">> acc_2_2/GCNConv_MonoModel_ch96_lr0.01_wd0.0001_dropout0.2_heads1.out\n",
      "| \u001b[95m 8       \u001b[0m | \u001b[95m 0.8083  \u001b[0m | \u001b[95m 0.2     \u001b[0m | \u001b[95m 0.01    \u001b[0m | \u001b[95m 0.0001  \u001b[0m |\n",
      ">> acc_2_2/GCNConv_MonoModel_ch96_lr0.01_wd0.0001_dropout0.5089141601117287_heads1.out\n",
      "| \u001b[95m 9       \u001b[0m | \u001b[95m 0.8107  \u001b[0m | \u001b[95m 0.5089  \u001b[0m | \u001b[95m 0.01    \u001b[0m | \u001b[95m 0.0001  \u001b[0m |\n",
      ">> acc_2_2/GCNConv_MonoModel_ch96_lr0.01_wd0.0001_dropout0.48228610557621093_heads1.out\n",
      "| \u001b[0m 10      \u001b[0m | \u001b[0m 0.8095  \u001b[0m | \u001b[0m 0.4823  \u001b[0m | \u001b[0m 0.01    \u001b[0m | \u001b[0m 0.0001  \u001b[0m |\n",
      ">> acc_2_2/GCNConv_MonoModel_ch96_lr0.009900940998471618_wd0.00045587379334062635_dropout0.5355545136203013_heads1.out\n",
      "| \u001b[0m 11      \u001b[0m | \u001b[0m 0.8071  \u001b[0m | \u001b[0m 0.5356  \u001b[0m | \u001b[0m 0.009901\u001b[0m | \u001b[0m 0.000455\u001b[0m |\n",
      ">> acc_2_2/GCNConv_MonoModel_ch96_lr0.009967432260642593_wd0.00029281987291277276_dropout0.4703461136293022_heads1.out\n",
      "| \u001b[0m 12      \u001b[0m | \u001b[0m 0.8083  \u001b[0m | \u001b[0m 0.4703  \u001b[0m | \u001b[0m 0.009967\u001b[0m | \u001b[0m 0.000292\u001b[0m |\n",
      "| \u001b[0m 13      \u001b[0m | \u001b[0m 0.8083  \u001b[0m | \u001b[0m 0.4703  \u001b[0m | \u001b[0m 0.009967\u001b[0m | \u001b[0m 0.000292\u001b[0m |\n",
      "=============================================================\n"
     ]
    }
   ],
   "source": [
    "# for ch in [12,24,48,96]:\n",
    "#     global_ch = ch\n",
    "#     gcn_bayes = BayesianOptimization(eval_gcn, {'lr': (1e-3,1e-2), 'dropout': (0.2,0.8), 'wd': (1e-4,1e-1)})\n",
    "#     gcn_bayes.maximize(init_points=3, n_iter=10)"
   ]
  },
  {
   "cell_type": "code",
   "execution_count": 144,
   "metadata": {
    "collapsed": true
   },
   "outputs": [
    {
     "data": {
      "text/html": [
       "<div>\n",
       "<style scoped>\n",
       "    .dataframe tbody tr th:only-of-type {\n",
       "        vertical-align: middle;\n",
       "    }\n",
       "\n",
       "    .dataframe tbody tr th {\n",
       "        vertical-align: top;\n",
       "    }\n",
       "\n",
       "    .dataframe thead th {\n",
       "        text-align: right;\n",
       "    }\n",
       "</style>\n",
       "<table border=\"1\" class=\"dataframe\">\n",
       "  <thead>\n",
       "    <tr style=\"text-align: right;\">\n",
       "      <th></th>\n",
       "      <th>conv</th>\n",
       "      <th>arch</th>\n",
       "      <th>ch</th>\n",
       "      <th>dropout</th>\n",
       "      <th>lr</th>\n",
       "      <th>wd</th>\n",
       "      <th>heads</th>\n",
       "      <th>splits</th>\n",
       "      <th>inits</th>\n",
       "      <th>val_accs</th>\n",
       "      <th>val_avg</th>\n",
       "      <th>val_std</th>\n",
       "      <th>test_accs</th>\n",
       "      <th>test_avg</th>\n",
       "      <th>test_std</th>\n",
       "      <th>stopped</th>\n",
       "      <th>elapsed</th>\n",
       "    </tr>\n",
       "  </thead>\n",
       "  <tbody>\n",
       "    <tr>\n",
       "      <th>49</th>\n",
       "      <td>GCNConv</td>\n",
       "      <td>M</td>\n",
       "      <td>96</td>\n",
       "      <td>0.232211</td>\n",
       "      <td>0.009694</td>\n",
       "      <td>0.065795</td>\n",
       "      <td>1</td>\n",
       "      <td>2</td>\n",
       "      <td>2</td>\n",
       "      <td>[0.7857142857142857, 0.8047619047619048, 0.766...</td>\n",
       "      <td>0.772619</td>\n",
       "      <td>0.026379</td>\n",
       "      <td>[0.7921967769296013, 0.7913486005089059, 0.768...</td>\n",
       "      <td>0.774067</td>\n",
       "      <td>0.019663</td>\n",
       "      <td>[12, 33, 14, 14]</td>\n",
       "      <td>3.759738</td>\n",
       "    </tr>\n",
       "    <tr>\n",
       "      <th>50</th>\n",
       "      <td>GCNConv</td>\n",
       "      <td>M</td>\n",
       "      <td>96</td>\n",
       "      <td>0.621891</td>\n",
       "      <td>0.001064</td>\n",
       "      <td>0.026463</td>\n",
       "      <td>1</td>\n",
       "      <td>2</td>\n",
       "      <td>2</td>\n",
       "      <td>[0.7761904761904762, 0.7857142857142857, 0.780...</td>\n",
       "      <td>0.777381</td>\n",
       "      <td>0.007043</td>\n",
       "      <td>[0.787531806615776, 0.7985581000848176, 0.7680...</td>\n",
       "      <td>0.783079</td>\n",
       "      <td>0.011290</td>\n",
       "      <td>[40, 42, 44, 50]</td>\n",
       "      <td>4.535901</td>\n",
       "    </tr>\n",
       "    <tr>\n",
       "      <th>51</th>\n",
       "      <td>GCNConv</td>\n",
       "      <td>M</td>\n",
       "      <td>96</td>\n",
       "      <td>0.652115</td>\n",
       "      <td>0.007698</td>\n",
       "      <td>0.037456</td>\n",
       "      <td>1</td>\n",
       "      <td>2</td>\n",
       "      <td>2</td>\n",
       "      <td>[0.8, 0.7904761904761904, 0.7666666666666667, ...</td>\n",
       "      <td>0.783333</td>\n",
       "      <td>0.012822</td>\n",
       "      <td>[0.7947413061916879, 0.8095843935538592, 0.767...</td>\n",
       "      <td>0.791455</td>\n",
       "      <td>0.015120</td>\n",
       "      <td>[16, 15, 16, 29]</td>\n",
       "      <td>3.881413</td>\n",
       "    </tr>\n",
       "    <tr>\n",
       "      <th>52</th>\n",
       "      <td>GCNConv</td>\n",
       "      <td>M</td>\n",
       "      <td>96</td>\n",
       "      <td>0.800000</td>\n",
       "      <td>0.001000</td>\n",
       "      <td>0.100000</td>\n",
       "      <td>1</td>\n",
       "      <td>2</td>\n",
       "      <td>2</td>\n",
       "      <td>[0.7761904761904762, 0.7666666666666667, 0.714...</td>\n",
       "      <td>0.745238</td>\n",
       "      <td>0.026620</td>\n",
       "      <td>[0.7726887192536047, 0.7222222222222222, 0.726...</td>\n",
       "      <td>0.743109</td>\n",
       "      <td>0.020319</td>\n",
       "      <td>[50, 38, 44, 54]</td>\n",
       "      <td>4.733586</td>\n",
       "    </tr>\n",
       "    <tr>\n",
       "      <th>53</th>\n",
       "      <td>GCNConv</td>\n",
       "      <td>M</td>\n",
       "      <td>96</td>\n",
       "      <td>0.483092</td>\n",
       "      <td>0.010000</td>\n",
       "      <td>0.100000</td>\n",
       "      <td>1</td>\n",
       "      <td>2</td>\n",
       "      <td>2</td>\n",
       "      <td>[0.7857142857142857, 0.7857142857142857, 0.757...</td>\n",
       "      <td>0.765476</td>\n",
       "      <td>0.021919</td>\n",
       "      <td>[0.7659033078880407, 0.7777777777777778, 0.761...</td>\n",
       "      <td>0.761450</td>\n",
       "      <td>0.013483</td>\n",
       "      <td>[11, 13, 12, 13]</td>\n",
       "      <td>3.663426</td>\n",
       "    </tr>\n",
       "    <tr>\n",
       "      <th>54</th>\n",
       "      <td>GCNConv</td>\n",
       "      <td>M</td>\n",
       "      <td>96</td>\n",
       "      <td>0.800000</td>\n",
       "      <td>0.010000</td>\n",
       "      <td>0.000100</td>\n",
       "      <td>1</td>\n",
       "      <td>2</td>\n",
       "      <td>2</td>\n",
       "      <td>[0.8, 0.8095238095238095, 0.8142857142857143, ...</td>\n",
       "      <td>0.804762</td>\n",
       "      <td>0.007529</td>\n",
       "      <td>[0.7930449533502969, 0.7977099236641222, 0.801...</td>\n",
       "      <td>0.794317</td>\n",
       "      <td>0.005884</td>\n",
       "      <td>[17, 15, 15, 13]</td>\n",
       "      <td>3.677222</td>\n",
       "    </tr>\n",
       "    <tr>\n",
       "      <th>55</th>\n",
       "      <td>GCNConv</td>\n",
       "      <td>M</td>\n",
       "      <td>96</td>\n",
       "      <td>0.365225</td>\n",
       "      <td>0.010000</td>\n",
       "      <td>0.000100</td>\n",
       "      <td>1</td>\n",
       "      <td>2</td>\n",
       "      <td>2</td>\n",
       "      <td>[0.7952380952380952, 0.8047619047619048, 0.814...</td>\n",
       "      <td>0.804762</td>\n",
       "      <td>0.006734</td>\n",
       "      <td>[0.7909245122985581, 0.8036471586089907, 0.795...</td>\n",
       "      <td>0.795165</td>\n",
       "      <td>0.005288</td>\n",
       "      <td>[13, 12, 11, 12]</td>\n",
       "      <td>3.560556</td>\n",
       "    </tr>\n",
       "    <tr>\n",
       "      <th>56</th>\n",
       "      <td>GCNConv</td>\n",
       "      <td>M</td>\n",
       "      <td>96</td>\n",
       "      <td>0.200000</td>\n",
       "      <td>0.010000</td>\n",
       "      <td>0.000100</td>\n",
       "      <td>1</td>\n",
       "      <td>2</td>\n",
       "      <td>2</td>\n",
       "      <td>[0.7952380952380952, 0.8095238095238095, 0.814...</td>\n",
       "      <td>0.808333</td>\n",
       "      <td>0.007806</td>\n",
       "      <td>[0.806615776081425, 0.8019508057675997, 0.7955...</td>\n",
       "      <td>0.796438</td>\n",
       "      <td>0.009421</td>\n",
       "      <td>[11, 13, 11, 18]</td>\n",
       "      <td>3.681033</td>\n",
       "    </tr>\n",
       "    <tr>\n",
       "      <th>57</th>\n",
       "      <td>GCNConv</td>\n",
       "      <td>M</td>\n",
       "      <td>96</td>\n",
       "      <td>0.508914</td>\n",
       "      <td>0.010000</td>\n",
       "      <td>0.000100</td>\n",
       "      <td>1</td>\n",
       "      <td>2</td>\n",
       "      <td>2</td>\n",
       "      <td>[0.8, 0.8142857142857143, 0.8142857142857143, ...</td>\n",
       "      <td>0.810714</td>\n",
       "      <td>0.006186</td>\n",
       "      <td>[0.7964376590330788, 0.8061916878710772, 0.799...</td>\n",
       "      <td>0.798028</td>\n",
       "      <td>0.005794</td>\n",
       "      <td>[13, 13, 12, 22]</td>\n",
       "      <td>3.723216</td>\n",
       "    </tr>\n",
       "    <tr>\n",
       "      <th>58</th>\n",
       "      <td>GCNConv</td>\n",
       "      <td>M</td>\n",
       "      <td>96</td>\n",
       "      <td>0.482286</td>\n",
       "      <td>0.010000</td>\n",
       "      <td>0.000100</td>\n",
       "      <td>1</td>\n",
       "      <td>2</td>\n",
       "      <td>2</td>\n",
       "      <td>[0.8047619047619048, 0.8142857142857143, 0.809...</td>\n",
       "      <td>0.809524</td>\n",
       "      <td>0.003367</td>\n",
       "      <td>[0.7905004240882103, 0.8036471586089907, 0.798...</td>\n",
       "      <td>0.795589</td>\n",
       "      <td>0.005650</td>\n",
       "      <td>[13, 12, 12, 20]</td>\n",
       "      <td>3.758506</td>\n",
       "    </tr>\n",
       "    <tr>\n",
       "      <th>59</th>\n",
       "      <td>GCNConv</td>\n",
       "      <td>M</td>\n",
       "      <td>96</td>\n",
       "      <td>0.535555</td>\n",
       "      <td>0.009901</td>\n",
       "      <td>0.000456</td>\n",
       "      <td>1</td>\n",
       "      <td>2</td>\n",
       "      <td>2</td>\n",
       "      <td>[0.8, 0.8047619047619048, 0.8142857142857143, ...</td>\n",
       "      <td>0.807143</td>\n",
       "      <td>0.005324</td>\n",
       "      <td>[0.7943172179813401, 0.806615776081425, 0.8006...</td>\n",
       "      <td>0.797180</td>\n",
       "      <td>0.007262</td>\n",
       "      <td>[13, 13, 13, 19]</td>\n",
       "      <td>3.772188</td>\n",
       "    </tr>\n",
       "    <tr>\n",
       "      <th>60</th>\n",
       "      <td>GCNConv</td>\n",
       "      <td>M</td>\n",
       "      <td>96</td>\n",
       "      <td>0.470346</td>\n",
       "      <td>0.009967</td>\n",
       "      <td>0.000293</td>\n",
       "      <td>1</td>\n",
       "      <td>2</td>\n",
       "      <td>2</td>\n",
       "      <td>[0.8, 0.8142857142857143, 0.8095238095238095, ...</td>\n",
       "      <td>0.808333</td>\n",
       "      <td>0.005189</td>\n",
       "      <td>[0.7998303647158609, 0.8070398642917727, 0.797...</td>\n",
       "      <td>0.798982</td>\n",
       "      <td>0.005602</td>\n",
       "      <td>[13, 13, 12, 18]</td>\n",
       "      <td>3.860164</td>\n",
       "    </tr>\n",
       "  </tbody>\n",
       "</table>\n",
       "</div>"
      ],
      "text/plain": [
       "       conv arch  ch   dropout        lr        wd heads splits inits  \\\n",
       "49  GCNConv    M  96  0.232211  0.009694  0.065795     1      2     2   \n",
       "50  GCNConv    M  96  0.621891  0.001064  0.026463     1      2     2   \n",
       "51  GCNConv    M  96  0.652115  0.007698  0.037456     1      2     2   \n",
       "52  GCNConv    M  96  0.800000  0.001000  0.100000     1      2     2   \n",
       "53  GCNConv    M  96  0.483092  0.010000  0.100000     1      2     2   \n",
       "54  GCNConv    M  96  0.800000  0.010000  0.000100     1      2     2   \n",
       "55  GCNConv    M  96  0.365225  0.010000  0.000100     1      2     2   \n",
       "56  GCNConv    M  96  0.200000  0.010000  0.000100     1      2     2   \n",
       "57  GCNConv    M  96  0.508914  0.010000  0.000100     1      2     2   \n",
       "58  GCNConv    M  96  0.482286  0.010000  0.000100     1      2     2   \n",
       "59  GCNConv    M  96  0.535555  0.009901  0.000456     1      2     2   \n",
       "60  GCNConv    M  96  0.470346  0.009967  0.000293     1      2     2   \n",
       "\n",
       "                                             val_accs   val_avg   val_std  \\\n",
       "49  [0.7857142857142857, 0.8047619047619048, 0.766...  0.772619  0.026379   \n",
       "50  [0.7761904761904762, 0.7857142857142857, 0.780...  0.777381  0.007043   \n",
       "51  [0.8, 0.7904761904761904, 0.7666666666666667, ...  0.783333  0.012822   \n",
       "52  [0.7761904761904762, 0.7666666666666667, 0.714...  0.745238  0.026620   \n",
       "53  [0.7857142857142857, 0.7857142857142857, 0.757...  0.765476  0.021919   \n",
       "54  [0.8, 0.8095238095238095, 0.8142857142857143, ...  0.804762  0.007529   \n",
       "55  [0.7952380952380952, 0.8047619047619048, 0.814...  0.804762  0.006734   \n",
       "56  [0.7952380952380952, 0.8095238095238095, 0.814...  0.808333  0.007806   \n",
       "57  [0.8, 0.8142857142857143, 0.8142857142857143, ...  0.810714  0.006186   \n",
       "58  [0.8047619047619048, 0.8142857142857143, 0.809...  0.809524  0.003367   \n",
       "59  [0.8, 0.8047619047619048, 0.8142857142857143, ...  0.807143  0.005324   \n",
       "60  [0.8, 0.8142857142857143, 0.8095238095238095, ...  0.808333  0.005189   \n",
       "\n",
       "                                            test_accs  test_avg  test_std  \\\n",
       "49  [0.7921967769296013, 0.7913486005089059, 0.768...  0.774067  0.019663   \n",
       "50  [0.787531806615776, 0.7985581000848176, 0.7680...  0.783079  0.011290   \n",
       "51  [0.7947413061916879, 0.8095843935538592, 0.767...  0.791455  0.015120   \n",
       "52  [0.7726887192536047, 0.7222222222222222, 0.726...  0.743109  0.020319   \n",
       "53  [0.7659033078880407, 0.7777777777777778, 0.761...  0.761450  0.013483   \n",
       "54  [0.7930449533502969, 0.7977099236641222, 0.801...  0.794317  0.005884   \n",
       "55  [0.7909245122985581, 0.8036471586089907, 0.795...  0.795165  0.005288   \n",
       "56  [0.806615776081425, 0.8019508057675997, 0.7955...  0.796438  0.009421   \n",
       "57  [0.7964376590330788, 0.8061916878710772, 0.799...  0.798028  0.005794   \n",
       "58  [0.7905004240882103, 0.8036471586089907, 0.798...  0.795589  0.005650   \n",
       "59  [0.7943172179813401, 0.806615776081425, 0.8006...  0.797180  0.007262   \n",
       "60  [0.7998303647158609, 0.8070398642917727, 0.797...  0.798982  0.005602   \n",
       "\n",
       "             stopped   elapsed  \n",
       "49  [12, 33, 14, 14]  3.759738  \n",
       "50  [40, 42, 44, 50]  4.535901  \n",
       "51  [16, 15, 16, 29]  3.881413  \n",
       "52  [50, 38, 44, 54]  4.733586  \n",
       "53  [11, 13, 12, 13]  3.663426  \n",
       "54  [17, 15, 15, 13]  3.677222  \n",
       "55  [13, 12, 11, 12]  3.560556  \n",
       "56  [11, 13, 11, 18]  3.681033  \n",
       "57  [13, 13, 12, 22]  3.723216  \n",
       "58  [13, 12, 12, 20]  3.758506  \n",
       "59  [13, 13, 13, 19]  3.772188  \n",
       "60  [13, 13, 12, 18]  3.860164  "
      ]
     },
     "execution_count": 144,
     "metadata": {},
     "output_type": "execute_result"
    }
   ],
   "source": [
    "df_val[df_val.ch==96]"
   ]
  },
  {
   "cell_type": "code",
   "execution_count": 126,
   "metadata": {
    "collapsed": true
   },
   "outputs": [
    {
     "name": "stdout",
     "output_type": "stream",
     "text": [
      ">> acc_2_2/GCNConv_MonoModel_ch12_lr0.001_wd0.0001_dropout0.2_heads1.out\n",
      ">> acc_2_2/GCNConv_BiModel_ch12_lr0.001_wd0.0001_dropout0.2_heads1.out\n",
      ">> acc_2_2/GCNConv_TriModel_ch12_lr0.001_wd0.0001_dropout0.2_heads1.out\n",
      ">> acc_2_2/GCNConv_MonoModel_ch12_lr0.001_wd0.001_dropout0.2_heads1.out\n",
      ">> acc_2_2/GCNConv_BiModel_ch12_lr0.001_wd0.001_dropout0.2_heads1.out\n",
      ">> acc_2_2/GCNConv_TriModel_ch12_lr0.001_wd0.001_dropout0.2_heads1.out\n",
      ">> acc_2_2/GCNConv_MonoModel_ch12_lr0.001_wd0.01_dropout0.2_heads1.out\n",
      ">> acc_2_2/GCNConv_BiModel_ch12_lr0.001_wd0.01_dropout0.2_heads1.out\n"
     ]
    },
    {
     "ename": "KeyboardInterrupt",
     "evalue": "",
     "output_type": "error",
     "traceback": [
      "\u001b[0;31m---------------------------------------------------------------------------\u001b[0m",
      "\u001b[0;31mKeyboardInterrupt\u001b[0m                         Traceback (most recent call last)",
      "\u001b[0;32m<ipython-input-126-990f00fa2d2b>\u001b[0m in \u001b[0;36m<module>\u001b[0;34m\u001b[0m\n\u001b[1;32m      4\u001b[0m             \u001b[0;32mfor\u001b[0m \u001b[0mdropout\u001b[0m \u001b[0;32min\u001b[0m \u001b[0;34m[\u001b[0m\u001b[0;36m0.2\u001b[0m\u001b[0;34m,\u001b[0m\u001b[0;36m0.4\u001b[0m\u001b[0;34m,\u001b[0m\u001b[0;36m0.6\u001b[0m\u001b[0;34m,\u001b[0m\u001b[0;36m0.8\u001b[0m\u001b[0;34m]\u001b[0m\u001b[0;34m:\u001b[0m\u001b[0;34m\u001b[0m\u001b[0;34m\u001b[0m\u001b[0m\n\u001b[1;32m      5\u001b[0m                 \u001b[0;32mfor\u001b[0m \u001b[0mwd\u001b[0m \u001b[0;32min\u001b[0m \u001b[0;34m[\u001b[0m\u001b[0;36m1e-4\u001b[0m\u001b[0;34m,\u001b[0m\u001b[0;36m1e-3\u001b[0m\u001b[0;34m,\u001b[0m\u001b[0;36m1e-2\u001b[0m\u001b[0;34m,\u001b[0m\u001b[0;36m1e-1\u001b[0m\u001b[0;34m]\u001b[0m\u001b[0;34m:\u001b[0m\u001b[0;34m\u001b[0m\u001b[0;34m\u001b[0m\u001b[0m\n\u001b[0;32m----> 6\u001b[0;31m                     \u001b[0meval_archs_gcn\u001b[0m\u001b[0;34m(\u001b[0m\u001b[0mdataset\u001b[0m\u001b[0;34m=\u001b[0m\u001b[0mcora\u001b[0m\u001b[0;34m,\u001b[0m\u001b[0mconv\u001b[0m\u001b[0;34m=\u001b[0m\u001b[0mconv\u001b[0m\u001b[0;34m,\u001b[0m\u001b[0mchannel_size\u001b[0m\u001b[0;34m=\u001b[0m\u001b[0mch\u001b[0m\u001b[0;34m,\u001b[0m\u001b[0mlr\u001b[0m\u001b[0;34m=\u001b[0m\u001b[0mlr\u001b[0m\u001b[0;34m,\u001b[0m\u001b[0mdropout\u001b[0m\u001b[0;34m=\u001b[0m\u001b[0mdropout\u001b[0m\u001b[0;34m,\u001b[0m\u001b[0mwd\u001b[0m\u001b[0;34m=\u001b[0m\u001b[0mwd\u001b[0m\u001b[0;34m)\u001b[0m\u001b[0;34m\u001b[0m\u001b[0;34m\u001b[0m\u001b[0m\n\u001b[0m",
      "\u001b[0;32m<ipython-input-125-528297750e00>\u001b[0m in \u001b[0;36meval_archs_gcn\u001b[0;34m(dataset, conv, channel_size, dropout, lr, wd)\u001b[0m\n\u001b[1;32m     39\u001b[0m \u001b[0;32mdef\u001b[0m \u001b[0meval_archs_gcn\u001b[0m\u001b[0;34m(\u001b[0m\u001b[0mdataset\u001b[0m\u001b[0;34m,\u001b[0m\u001b[0mconv\u001b[0m\u001b[0;34m,\u001b[0m\u001b[0mchannel_size\u001b[0m\u001b[0;34m,\u001b[0m\u001b[0mdropout\u001b[0m\u001b[0;34m,\u001b[0m\u001b[0mlr\u001b[0m\u001b[0;34m,\u001b[0m\u001b[0mwd\u001b[0m\u001b[0;34m)\u001b[0m\u001b[0;34m:\u001b[0m\u001b[0;34m\u001b[0m\u001b[0;34m\u001b[0m\u001b[0m\n\u001b[1;32m     40\u001b[0m     eval_archs(dataset,conv,channel_size,dropout,lr,wd,heads=1,\n\u001b[0;32m---> 41\u001b[0;31m                models=[MonoModel, BiModel, TriModel])\n\u001b[0m\u001b[1;32m     42\u001b[0m \u001b[0;34m\u001b[0m\u001b[0m\n\u001b[1;32m     43\u001b[0m \u001b[0;34m\u001b[0m\u001b[0m\n",
      "\u001b[0;32m<ipython-input-125-528297750e00>\u001b[0m in \u001b[0;36meval_archs\u001b[0;34m(dataset, conv, channel_size, dropout, lr, wd, heads, models)\u001b[0m\n\u001b[1;32m     16\u001b[0m             \u001b[0;32mfor\u001b[0m \u001b[0mseed\u001b[0m \u001b[0;32min\u001b[0m \u001b[0mrange\u001b[0m\u001b[0;34m(\u001b[0m\u001b[0mnum_splits\u001b[0m\u001b[0;34m)\u001b[0m\u001b[0;34m:\u001b[0m\u001b[0;34m\u001b[0m\u001b[0;34m\u001b[0m\u001b[0m\n\u001b[1;32m     17\u001b[0m                 val_acc,test_acc,stopped = eval_multiple(dataset,[channel_size//chs//heads],conv,runs=num_runs,epochs=200,split_seed=seed,\n\u001b[0;32m---> 18\u001b[0;31m                                                             architecture=model,lr=lr,wd=wd,heads=heads,dropout=dropout)\n\u001b[0m\u001b[1;32m     19\u001b[0m \u001b[0;31m#                 f.write('{} {} accuracy: {:.2f} +-{:.1f}\\n'.format(conv.__name__,model.__name__,monogcn*100,monogcnstd*100))\u001b[0m\u001b[0;34m\u001b[0m\u001b[0;34m\u001b[0m\u001b[0;34m\u001b[0m\u001b[0m\n\u001b[1;32m     20\u001b[0m                 \u001b[0mval_accs\u001b[0m \u001b[0;34m+=\u001b[0m \u001b[0mval_acc\u001b[0m\u001b[0;34m\u001b[0m\u001b[0;34m\u001b[0m\u001b[0m\n",
      "\u001b[0;32m<ipython-input-118-401f3882367b>\u001b[0m in \u001b[0;36meval_multiple\u001b[0;34m(dataset, channels, modelType, architecture, lr, wd, heads, dropout, runs, epochs, split_seed)\u001b[0m\n\u001b[1;32m     89\u001b[0m         val_acc,test_acc, stopped = run_and_eval_model(dataset,channels,modelType,architecture,lr=lr,wd=wd,epochs=epochs,\n\u001b[1;32m     90\u001b[0m                                        \u001b[0mheads\u001b[0m\u001b[0;34m=\u001b[0m\u001b[0mheads\u001b[0m\u001b[0;34m,\u001b[0m \u001b[0mdropout\u001b[0m\u001b[0;34m=\u001b[0m\u001b[0mdropout\u001b[0m\u001b[0;34m,\u001b[0m\u001b[0;34m\u001b[0m\u001b[0;34m\u001b[0m\u001b[0m\n\u001b[0;32m---> 91\u001b[0;31m                                        split_seed=split_seed, init_seed=i)\n\u001b[0m\u001b[1;32m     92\u001b[0m         \u001b[0mval_accs\u001b[0m\u001b[0;34m.\u001b[0m\u001b[0mappend\u001b[0m\u001b[0;34m(\u001b[0m\u001b[0mval_acc\u001b[0m\u001b[0;34m)\u001b[0m\u001b[0;34m\u001b[0m\u001b[0;34m\u001b[0m\u001b[0m\n\u001b[1;32m     93\u001b[0m         \u001b[0mtest_accs\u001b[0m\u001b[0;34m.\u001b[0m\u001b[0mappend\u001b[0m\u001b[0;34m(\u001b[0m\u001b[0mtest_acc\u001b[0m\u001b[0;34m)\u001b[0m\u001b[0;34m\u001b[0m\u001b[0;34m\u001b[0m\u001b[0m\n",
      "\u001b[0;32m<ipython-input-118-401f3882367b>\u001b[0m in \u001b[0;36mrun_and_eval_model\u001b[0;34m(dataset, channels, modelType, architecture, lr, wd, heads, dropout, epochs, split_seed, init_seed)\u001b[0m\n\u001b[1;32m     44\u001b[0m     \u001b[0;32mfor\u001b[0m \u001b[0mepoch\u001b[0m \u001b[0;32min\u001b[0m \u001b[0mrange\u001b[0m\u001b[0;34m(\u001b[0m\u001b[0mepochs\u001b[0m\u001b[0;34m)\u001b[0m\u001b[0;34m:\u001b[0m\u001b[0;34m\u001b[0m\u001b[0;34m\u001b[0m\u001b[0m\n\u001b[1;32m     45\u001b[0m         \u001b[0moptimizer\u001b[0m\u001b[0;34m.\u001b[0m\u001b[0mzero_grad\u001b[0m\u001b[0;34m(\u001b[0m\u001b[0;34m)\u001b[0m \u001b[0;31m# saw this a lot in the beginning, maybe resetting gradients (not to accumulate)\u001b[0m\u001b[0;34m\u001b[0m\u001b[0;34m\u001b[0m\u001b[0m\n\u001b[0;32m---> 46\u001b[0;31m         \u001b[0mout\u001b[0m \u001b[0;34m=\u001b[0m \u001b[0mmodel\u001b[0m\u001b[0;34m(\u001b[0m\u001b[0mdata\u001b[0m\u001b[0;34m)\u001b[0m \u001b[0;31m# this calls the forward method apparently\u001b[0m\u001b[0;34m\u001b[0m\u001b[0;34m\u001b[0m\u001b[0m\n\u001b[0m\u001b[1;32m     47\u001b[0m         \u001b[0mloss\u001b[0m \u001b[0;34m=\u001b[0m \u001b[0mF\u001b[0m\u001b[0;34m.\u001b[0m\u001b[0mnll_loss\u001b[0m\u001b[0;34m(\u001b[0m\u001b[0mout\u001b[0m\u001b[0;34m[\u001b[0m\u001b[0msplit\u001b[0m\u001b[0;34m.\u001b[0m\u001b[0mtrain_mask\u001b[0m\u001b[0;34m]\u001b[0m\u001b[0;34m,\u001b[0m\u001b[0mdata\u001b[0m\u001b[0;34m.\u001b[0m\u001b[0my\u001b[0m\u001b[0;34m[\u001b[0m\u001b[0msplit\u001b[0m\u001b[0;34m.\u001b[0m\u001b[0mtrain_mask\u001b[0m\u001b[0;34m]\u001b[0m\u001b[0;34m)\u001b[0m \u001b[0;31m# nice indexing, easy and short\u001b[0m\u001b[0;34m\u001b[0m\u001b[0;34m\u001b[0m\u001b[0m\n\u001b[1;32m     48\u001b[0m \u001b[0;31m#         loss = F.nll_loss(out[data.train_mask],data.y[data.train_mask]) # nice indexing, easy and short\u001b[0m\u001b[0;34m\u001b[0m\u001b[0;34m\u001b[0m\u001b[0;34m\u001b[0m\u001b[0m\n",
      "\u001b[0;32m~/anaconda3/lib/python3.7/site-packages/torch/nn/modules/module.py\u001b[0m in \u001b[0;36m__call__\u001b[0;34m(self, *input, **kwargs)\u001b[0m\n\u001b[1;32m    539\u001b[0m             \u001b[0mresult\u001b[0m \u001b[0;34m=\u001b[0m \u001b[0mself\u001b[0m\u001b[0;34m.\u001b[0m\u001b[0m_slow_forward\u001b[0m\u001b[0;34m(\u001b[0m\u001b[0;34m*\u001b[0m\u001b[0minput\u001b[0m\u001b[0;34m,\u001b[0m \u001b[0;34m**\u001b[0m\u001b[0mkwargs\u001b[0m\u001b[0;34m)\u001b[0m\u001b[0;34m\u001b[0m\u001b[0;34m\u001b[0m\u001b[0m\n\u001b[1;32m    540\u001b[0m         \u001b[0;32melse\u001b[0m\u001b[0;34m:\u001b[0m\u001b[0;34m\u001b[0m\u001b[0;34m\u001b[0m\u001b[0m\n\u001b[0;32m--> 541\u001b[0;31m             \u001b[0mresult\u001b[0m \u001b[0;34m=\u001b[0m \u001b[0mself\u001b[0m\u001b[0;34m.\u001b[0m\u001b[0mforward\u001b[0m\u001b[0;34m(\u001b[0m\u001b[0;34m*\u001b[0m\u001b[0minput\u001b[0m\u001b[0;34m,\u001b[0m \u001b[0;34m**\u001b[0m\u001b[0mkwargs\u001b[0m\u001b[0;34m)\u001b[0m\u001b[0;34m\u001b[0m\u001b[0;34m\u001b[0m\u001b[0m\n\u001b[0m\u001b[1;32m    542\u001b[0m         \u001b[0;32mfor\u001b[0m \u001b[0mhook\u001b[0m \u001b[0;32min\u001b[0m \u001b[0mself\u001b[0m\u001b[0;34m.\u001b[0m\u001b[0m_forward_hooks\u001b[0m\u001b[0;34m.\u001b[0m\u001b[0mvalues\u001b[0m\u001b[0;34m(\u001b[0m\u001b[0;34m)\u001b[0m\u001b[0;34m:\u001b[0m\u001b[0;34m\u001b[0m\u001b[0;34m\u001b[0m\u001b[0m\n\u001b[1;32m    543\u001b[0m             \u001b[0mhook_result\u001b[0m \u001b[0;34m=\u001b[0m \u001b[0mhook\u001b[0m\u001b[0;34m(\u001b[0m\u001b[0mself\u001b[0m\u001b[0;34m,\u001b[0m \u001b[0minput\u001b[0m\u001b[0;34m,\u001b[0m \u001b[0mresult\u001b[0m\u001b[0;34m)\u001b[0m\u001b[0;34m\u001b[0m\u001b[0;34m\u001b[0m\u001b[0m\n",
      "\u001b[0;32m~/directed-graphs-learning/notebooks/multi_layered_model.py\u001b[0m in \u001b[0;36mforward\u001b[0;34m(self, data)\u001b[0m\n\u001b[1;32m     62\u001b[0m \u001b[0;34m\u001b[0m\u001b[0m\n\u001b[1;32m     63\u001b[0m         \u001b[0;31m# last layer\u001b[0m\u001b[0;34m\u001b[0m\u001b[0;34m\u001b[0m\u001b[0;34m\u001b[0m\u001b[0m\n\u001b[0;32m---> 64\u001b[0;31m         \u001b[0mx\u001b[0m \u001b[0;34m=\u001b[0m \u001b[0mself\u001b[0m\u001b[0;34m.\u001b[0m\u001b[0mlast\u001b[0m\u001b[0;34m(\u001b[0m\u001b[0mx\u001b[0m\u001b[0;34m,\u001b[0m\u001b[0medge_index\u001b[0m\u001b[0;34m)\u001b[0m\u001b[0;34m\u001b[0m\u001b[0;34m\u001b[0m\u001b[0m\n\u001b[0m\u001b[1;32m     65\u001b[0m         \u001b[0mx\u001b[0m \u001b[0;34m=\u001b[0m \u001b[0mF\u001b[0m\u001b[0;34m.\u001b[0m\u001b[0mlog_softmax\u001b[0m\u001b[0;34m(\u001b[0m\u001b[0mx\u001b[0m\u001b[0;34m,\u001b[0m\u001b[0mdim\u001b[0m\u001b[0;34m=\u001b[0m\u001b[0;36m1\u001b[0m\u001b[0;34m)\u001b[0m\u001b[0;34m\u001b[0m\u001b[0;34m\u001b[0m\u001b[0m\n\u001b[1;32m     66\u001b[0m \u001b[0;34m\u001b[0m\u001b[0m\n",
      "\u001b[0;32m~/anaconda3/lib/python3.7/site-packages/torch/nn/modules/module.py\u001b[0m in \u001b[0;36m__call__\u001b[0;34m(self, *input, **kwargs)\u001b[0m\n\u001b[1;32m    539\u001b[0m             \u001b[0mresult\u001b[0m \u001b[0;34m=\u001b[0m \u001b[0mself\u001b[0m\u001b[0;34m.\u001b[0m\u001b[0m_slow_forward\u001b[0m\u001b[0;34m(\u001b[0m\u001b[0;34m*\u001b[0m\u001b[0minput\u001b[0m\u001b[0;34m,\u001b[0m \u001b[0;34m**\u001b[0m\u001b[0mkwargs\u001b[0m\u001b[0;34m)\u001b[0m\u001b[0;34m\u001b[0m\u001b[0;34m\u001b[0m\u001b[0m\n\u001b[1;32m    540\u001b[0m         \u001b[0;32melse\u001b[0m\u001b[0;34m:\u001b[0m\u001b[0;34m\u001b[0m\u001b[0;34m\u001b[0m\u001b[0m\n\u001b[0;32m--> 541\u001b[0;31m             \u001b[0mresult\u001b[0m \u001b[0;34m=\u001b[0m \u001b[0mself\u001b[0m\u001b[0;34m.\u001b[0m\u001b[0mforward\u001b[0m\u001b[0;34m(\u001b[0m\u001b[0;34m*\u001b[0m\u001b[0minput\u001b[0m\u001b[0;34m,\u001b[0m \u001b[0;34m**\u001b[0m\u001b[0mkwargs\u001b[0m\u001b[0;34m)\u001b[0m\u001b[0;34m\u001b[0m\u001b[0;34m\u001b[0m\u001b[0m\n\u001b[0m\u001b[1;32m    542\u001b[0m         \u001b[0;32mfor\u001b[0m \u001b[0mhook\u001b[0m \u001b[0;32min\u001b[0m \u001b[0mself\u001b[0m\u001b[0;34m.\u001b[0m\u001b[0m_forward_hooks\u001b[0m\u001b[0;34m.\u001b[0m\u001b[0mvalues\u001b[0m\u001b[0;34m(\u001b[0m\u001b[0;34m)\u001b[0m\u001b[0;34m:\u001b[0m\u001b[0;34m\u001b[0m\u001b[0;34m\u001b[0m\u001b[0m\n\u001b[1;32m    543\u001b[0m             \u001b[0mhook_result\u001b[0m \u001b[0;34m=\u001b[0m \u001b[0mhook\u001b[0m\u001b[0;34m(\u001b[0m\u001b[0mself\u001b[0m\u001b[0;34m,\u001b[0m \u001b[0minput\u001b[0m\u001b[0;34m,\u001b[0m \u001b[0mresult\u001b[0m\u001b[0;34m)\u001b[0m\u001b[0;34m\u001b[0m\u001b[0;34m\u001b[0m\u001b[0m\n",
      "\u001b[0;32m~/anaconda3/envs/nips2/lib/python3.7/site-packages/torch_geometric/nn/conv/gcn_conv.py\u001b[0m in \u001b[0;36mforward\u001b[0;34m(self, x, edge_index, edge_weight)\u001b[0m\n\u001b[1;32m     83\u001b[0m     \u001b[0;32mdef\u001b[0m \u001b[0mforward\u001b[0m\u001b[0;34m(\u001b[0m\u001b[0mself\u001b[0m\u001b[0;34m,\u001b[0m \u001b[0mx\u001b[0m\u001b[0;34m,\u001b[0m \u001b[0medge_index\u001b[0m\u001b[0;34m,\u001b[0m \u001b[0medge_weight\u001b[0m\u001b[0;34m=\u001b[0m\u001b[0;32mNone\u001b[0m\u001b[0;34m)\u001b[0m\u001b[0;34m:\u001b[0m\u001b[0;34m\u001b[0m\u001b[0;34m\u001b[0m\u001b[0m\n\u001b[1;32m     84\u001b[0m         \u001b[0;34m\"\"\"\"\"\"\u001b[0m\u001b[0;34m\u001b[0m\u001b[0;34m\u001b[0m\u001b[0m\n\u001b[0;32m---> 85\u001b[0;31m         \u001b[0mx\u001b[0m \u001b[0;34m=\u001b[0m \u001b[0mtorch\u001b[0m\u001b[0;34m.\u001b[0m\u001b[0mmatmul\u001b[0m\u001b[0;34m(\u001b[0m\u001b[0mx\u001b[0m\u001b[0;34m,\u001b[0m \u001b[0mself\u001b[0m\u001b[0;34m.\u001b[0m\u001b[0mweight\u001b[0m\u001b[0;34m)\u001b[0m\u001b[0;34m\u001b[0m\u001b[0;34m\u001b[0m\u001b[0m\n\u001b[0m\u001b[1;32m     86\u001b[0m \u001b[0;34m\u001b[0m\u001b[0m\n\u001b[1;32m     87\u001b[0m         \u001b[0;32mif\u001b[0m \u001b[0mself\u001b[0m\u001b[0;34m.\u001b[0m\u001b[0mcached\u001b[0m \u001b[0;32mand\u001b[0m \u001b[0mself\u001b[0m\u001b[0;34m.\u001b[0m\u001b[0mcached_result\u001b[0m \u001b[0;32mis\u001b[0m \u001b[0;32mnot\u001b[0m \u001b[0;32mNone\u001b[0m\u001b[0;34m:\u001b[0m\u001b[0;34m\u001b[0m\u001b[0;34m\u001b[0m\u001b[0m\n",
      "\u001b[0;31mKeyboardInterrupt\u001b[0m: "
     ]
    }
   ],
   "source": [
    "for conv in [GCNConv]:\n",
    "    for ch in [12,24,48,96]:\n",
    "        for lr in [1e-3,5e-3,1e-2]:\n",
    "            for dropout in [0.2,0.4,0.6,0.8]:\n",
    "                for wd in [1e-4,1e-3,1e-2,1e-1]:\n",
    "                    eval_archs_gcn(dataset=cora,conv=conv,channel_size=ch,lr=lr,dropout=dropout,wd=wd,models=[MonoGAT])"
   ]
  },
  {
   "cell_type": "code",
   "execution_count": 114,
   "metadata": {},
   "outputs": [],
   "source": [
    "import seaborn as sns\n",
    "import matplotlib.pyplot as plt"
   ]
  },
  {
   "cell_type": "code",
   "execution_count": 115,
   "metadata": {
    "collapsed": true
   },
   "outputs": [
    {
     "data": {
      "application/javascript": [
       "/* Put everything inside the global mpl namespace */\n",
       "window.mpl = {};\n",
       "\n",
       "\n",
       "mpl.get_websocket_type = function() {\n",
       "    if (typeof(WebSocket) !== 'undefined') {\n",
       "        return WebSocket;\n",
       "    } else if (typeof(MozWebSocket) !== 'undefined') {\n",
       "        return MozWebSocket;\n",
       "    } else {\n",
       "        alert('Your browser does not have WebSocket support.' +\n",
       "              'Please try Chrome, Safari or Firefox ≥ 6. ' +\n",
       "              'Firefox 4 and 5 are also supported but you ' +\n",
       "              'have to enable WebSockets in about:config.');\n",
       "    };\n",
       "}\n",
       "\n",
       "mpl.figure = function(figure_id, websocket, ondownload, parent_element) {\n",
       "    this.id = figure_id;\n",
       "\n",
       "    this.ws = websocket;\n",
       "\n",
       "    this.supports_binary = (this.ws.binaryType != undefined);\n",
       "\n",
       "    if (!this.supports_binary) {\n",
       "        var warnings = document.getElementById(\"mpl-warnings\");\n",
       "        if (warnings) {\n",
       "            warnings.style.display = 'block';\n",
       "            warnings.textContent = (\n",
       "                \"This browser does not support binary websocket messages. \" +\n",
       "                    \"Performance may be slow.\");\n",
       "        }\n",
       "    }\n",
       "\n",
       "    this.imageObj = new Image();\n",
       "\n",
       "    this.context = undefined;\n",
       "    this.message = undefined;\n",
       "    this.canvas = undefined;\n",
       "    this.rubberband_canvas = undefined;\n",
       "    this.rubberband_context = undefined;\n",
       "    this.format_dropdown = undefined;\n",
       "\n",
       "    this.image_mode = 'full';\n",
       "\n",
       "    this.root = $('<div/>');\n",
       "    this._root_extra_style(this.root)\n",
       "    this.root.attr('style', 'display: inline-block');\n",
       "\n",
       "    $(parent_element).append(this.root);\n",
       "\n",
       "    this._init_header(this);\n",
       "    this._init_canvas(this);\n",
       "    this._init_toolbar(this);\n",
       "\n",
       "    var fig = this;\n",
       "\n",
       "    this.waiting = false;\n",
       "\n",
       "    this.ws.onopen =  function () {\n",
       "            fig.send_message(\"supports_binary\", {value: fig.supports_binary});\n",
       "            fig.send_message(\"send_image_mode\", {});\n",
       "            if (mpl.ratio != 1) {\n",
       "                fig.send_message(\"set_dpi_ratio\", {'dpi_ratio': mpl.ratio});\n",
       "            }\n",
       "            fig.send_message(\"refresh\", {});\n",
       "        }\n",
       "\n",
       "    this.imageObj.onload = function() {\n",
       "            if (fig.image_mode == 'full') {\n",
       "                // Full images could contain transparency (where diff images\n",
       "                // almost always do), so we need to clear the canvas so that\n",
       "                // there is no ghosting.\n",
       "                fig.context.clearRect(0, 0, fig.canvas.width, fig.canvas.height);\n",
       "            }\n",
       "            fig.context.drawImage(fig.imageObj, 0, 0);\n",
       "        };\n",
       "\n",
       "    this.imageObj.onunload = function() {\n",
       "        fig.ws.close();\n",
       "    }\n",
       "\n",
       "    this.ws.onmessage = this._make_on_message_function(this);\n",
       "\n",
       "    this.ondownload = ondownload;\n",
       "}\n",
       "\n",
       "mpl.figure.prototype._init_header = function() {\n",
       "    var titlebar = $(\n",
       "        '<div class=\"ui-dialog-titlebar ui-widget-header ui-corner-all ' +\n",
       "        'ui-helper-clearfix\"/>');\n",
       "    var titletext = $(\n",
       "        '<div class=\"ui-dialog-title\" style=\"width: 100%; ' +\n",
       "        'text-align: center; padding: 3px;\"/>');\n",
       "    titlebar.append(titletext)\n",
       "    this.root.append(titlebar);\n",
       "    this.header = titletext[0];\n",
       "}\n",
       "\n",
       "\n",
       "\n",
       "mpl.figure.prototype._canvas_extra_style = function(canvas_div) {\n",
       "\n",
       "}\n",
       "\n",
       "\n",
       "mpl.figure.prototype._root_extra_style = function(canvas_div) {\n",
       "\n",
       "}\n",
       "\n",
       "mpl.figure.prototype._init_canvas = function() {\n",
       "    var fig = this;\n",
       "\n",
       "    var canvas_div = $('<div/>');\n",
       "\n",
       "    canvas_div.attr('style', 'position: relative; clear: both; outline: 0');\n",
       "\n",
       "    function canvas_keyboard_event(event) {\n",
       "        return fig.key_event(event, event['data']);\n",
       "    }\n",
       "\n",
       "    canvas_div.keydown('key_press', canvas_keyboard_event);\n",
       "    canvas_div.keyup('key_release', canvas_keyboard_event);\n",
       "    this.canvas_div = canvas_div\n",
       "    this._canvas_extra_style(canvas_div)\n",
       "    this.root.append(canvas_div);\n",
       "\n",
       "    var canvas = $('<canvas/>');\n",
       "    canvas.addClass('mpl-canvas');\n",
       "    canvas.attr('style', \"left: 0; top: 0; z-index: 0; outline: 0\")\n",
       "\n",
       "    this.canvas = canvas[0];\n",
       "    this.context = canvas[0].getContext(\"2d\");\n",
       "\n",
       "    var backingStore = this.context.backingStorePixelRatio ||\n",
       "\tthis.context.webkitBackingStorePixelRatio ||\n",
       "\tthis.context.mozBackingStorePixelRatio ||\n",
       "\tthis.context.msBackingStorePixelRatio ||\n",
       "\tthis.context.oBackingStorePixelRatio ||\n",
       "\tthis.context.backingStorePixelRatio || 1;\n",
       "\n",
       "    mpl.ratio = (window.devicePixelRatio || 1) / backingStore;\n",
       "\n",
       "    var rubberband = $('<canvas/>');\n",
       "    rubberband.attr('style', \"position: absolute; left: 0; top: 0; z-index: 1;\")\n",
       "\n",
       "    var pass_mouse_events = true;\n",
       "\n",
       "    canvas_div.resizable({\n",
       "        start: function(event, ui) {\n",
       "            pass_mouse_events = false;\n",
       "        },\n",
       "        resize: function(event, ui) {\n",
       "            fig.request_resize(ui.size.width, ui.size.height);\n",
       "        },\n",
       "        stop: function(event, ui) {\n",
       "            pass_mouse_events = true;\n",
       "            fig.request_resize(ui.size.width, ui.size.height);\n",
       "        },\n",
       "    });\n",
       "\n",
       "    function mouse_event_fn(event) {\n",
       "        if (pass_mouse_events)\n",
       "            return fig.mouse_event(event, event['data']);\n",
       "    }\n",
       "\n",
       "    rubberband.mousedown('button_press', mouse_event_fn);\n",
       "    rubberband.mouseup('button_release', mouse_event_fn);\n",
       "    // Throttle sequential mouse events to 1 every 20ms.\n",
       "    rubberband.mousemove('motion_notify', mouse_event_fn);\n",
       "\n",
       "    rubberband.mouseenter('figure_enter', mouse_event_fn);\n",
       "    rubberband.mouseleave('figure_leave', mouse_event_fn);\n",
       "\n",
       "    canvas_div.on(\"wheel\", function (event) {\n",
       "        event = event.originalEvent;\n",
       "        event['data'] = 'scroll'\n",
       "        if (event.deltaY < 0) {\n",
       "            event.step = 1;\n",
       "        } else {\n",
       "            event.step = -1;\n",
       "        }\n",
       "        mouse_event_fn(event);\n",
       "    });\n",
       "\n",
       "    canvas_div.append(canvas);\n",
       "    canvas_div.append(rubberband);\n",
       "\n",
       "    this.rubberband = rubberband;\n",
       "    this.rubberband_canvas = rubberband[0];\n",
       "    this.rubberband_context = rubberband[0].getContext(\"2d\");\n",
       "    this.rubberband_context.strokeStyle = \"#000000\";\n",
       "\n",
       "    this._resize_canvas = function(width, height) {\n",
       "        // Keep the size of the canvas, canvas container, and rubber band\n",
       "        // canvas in synch.\n",
       "        canvas_div.css('width', width)\n",
       "        canvas_div.css('height', height)\n",
       "\n",
       "        canvas.attr('width', width * mpl.ratio);\n",
       "        canvas.attr('height', height * mpl.ratio);\n",
       "        canvas.attr('style', 'width: ' + width + 'px; height: ' + height + 'px;');\n",
       "\n",
       "        rubberband.attr('width', width);\n",
       "        rubberband.attr('height', height);\n",
       "    }\n",
       "\n",
       "    // Set the figure to an initial 600x600px, this will subsequently be updated\n",
       "    // upon first draw.\n",
       "    this._resize_canvas(600, 600);\n",
       "\n",
       "    // Disable right mouse context menu.\n",
       "    $(this.rubberband_canvas).bind(\"contextmenu\",function(e){\n",
       "        return false;\n",
       "    });\n",
       "\n",
       "    function set_focus () {\n",
       "        canvas.focus();\n",
       "        canvas_div.focus();\n",
       "    }\n",
       "\n",
       "    window.setTimeout(set_focus, 100);\n",
       "}\n",
       "\n",
       "mpl.figure.prototype._init_toolbar = function() {\n",
       "    var fig = this;\n",
       "\n",
       "    var nav_element = $('<div/>')\n",
       "    nav_element.attr('style', 'width: 100%');\n",
       "    this.root.append(nav_element);\n",
       "\n",
       "    // Define a callback function for later on.\n",
       "    function toolbar_event(event) {\n",
       "        return fig.toolbar_button_onclick(event['data']);\n",
       "    }\n",
       "    function toolbar_mouse_event(event) {\n",
       "        return fig.toolbar_button_onmouseover(event['data']);\n",
       "    }\n",
       "\n",
       "    for(var toolbar_ind in mpl.toolbar_items) {\n",
       "        var name = mpl.toolbar_items[toolbar_ind][0];\n",
       "        var tooltip = mpl.toolbar_items[toolbar_ind][1];\n",
       "        var image = mpl.toolbar_items[toolbar_ind][2];\n",
       "        var method_name = mpl.toolbar_items[toolbar_ind][3];\n",
       "\n",
       "        if (!name) {\n",
       "            // put a spacer in here.\n",
       "            continue;\n",
       "        }\n",
       "        var button = $('<button/>');\n",
       "        button.addClass('ui-button ui-widget ui-state-default ui-corner-all ' +\n",
       "                        'ui-button-icon-only');\n",
       "        button.attr('role', 'button');\n",
       "        button.attr('aria-disabled', 'false');\n",
       "        button.click(method_name, toolbar_event);\n",
       "        button.mouseover(tooltip, toolbar_mouse_event);\n",
       "\n",
       "        var icon_img = $('<span/>');\n",
       "        icon_img.addClass('ui-button-icon-primary ui-icon');\n",
       "        icon_img.addClass(image);\n",
       "        icon_img.addClass('ui-corner-all');\n",
       "\n",
       "        var tooltip_span = $('<span/>');\n",
       "        tooltip_span.addClass('ui-button-text');\n",
       "        tooltip_span.html(tooltip);\n",
       "\n",
       "        button.append(icon_img);\n",
       "        button.append(tooltip_span);\n",
       "\n",
       "        nav_element.append(button);\n",
       "    }\n",
       "\n",
       "    var fmt_picker_span = $('<span/>');\n",
       "\n",
       "    var fmt_picker = $('<select/>');\n",
       "    fmt_picker.addClass('mpl-toolbar-option ui-widget ui-widget-content');\n",
       "    fmt_picker_span.append(fmt_picker);\n",
       "    nav_element.append(fmt_picker_span);\n",
       "    this.format_dropdown = fmt_picker[0];\n",
       "\n",
       "    for (var ind in mpl.extensions) {\n",
       "        var fmt = mpl.extensions[ind];\n",
       "        var option = $(\n",
       "            '<option/>', {selected: fmt === mpl.default_extension}).html(fmt);\n",
       "        fmt_picker.append(option)\n",
       "    }\n",
       "\n",
       "    // Add hover states to the ui-buttons\n",
       "    $( \".ui-button\" ).hover(\n",
       "        function() { $(this).addClass(\"ui-state-hover\");},\n",
       "        function() { $(this).removeClass(\"ui-state-hover\");}\n",
       "    );\n",
       "\n",
       "    var status_bar = $('<span class=\"mpl-message\"/>');\n",
       "    nav_element.append(status_bar);\n",
       "    this.message = status_bar[0];\n",
       "}\n",
       "\n",
       "mpl.figure.prototype.request_resize = function(x_pixels, y_pixels) {\n",
       "    // Request matplotlib to resize the figure. Matplotlib will then trigger a resize in the client,\n",
       "    // which will in turn request a refresh of the image.\n",
       "    this.send_message('resize', {'width': x_pixels, 'height': y_pixels});\n",
       "}\n",
       "\n",
       "mpl.figure.prototype.send_message = function(type, properties) {\n",
       "    properties['type'] = type;\n",
       "    properties['figure_id'] = this.id;\n",
       "    this.ws.send(JSON.stringify(properties));\n",
       "}\n",
       "\n",
       "mpl.figure.prototype.send_draw_message = function() {\n",
       "    if (!this.waiting) {\n",
       "        this.waiting = true;\n",
       "        this.ws.send(JSON.stringify({type: \"draw\", figure_id: this.id}));\n",
       "    }\n",
       "}\n",
       "\n",
       "\n",
       "mpl.figure.prototype.handle_save = function(fig, msg) {\n",
       "    var format_dropdown = fig.format_dropdown;\n",
       "    var format = format_dropdown.options[format_dropdown.selectedIndex].value;\n",
       "    fig.ondownload(fig, format);\n",
       "}\n",
       "\n",
       "\n",
       "mpl.figure.prototype.handle_resize = function(fig, msg) {\n",
       "    var size = msg['size'];\n",
       "    if (size[0] != fig.canvas.width || size[1] != fig.canvas.height) {\n",
       "        fig._resize_canvas(size[0], size[1]);\n",
       "        fig.send_message(\"refresh\", {});\n",
       "    };\n",
       "}\n",
       "\n",
       "mpl.figure.prototype.handle_rubberband = function(fig, msg) {\n",
       "    var x0 = msg['x0'] / mpl.ratio;\n",
       "    var y0 = (fig.canvas.height - msg['y0']) / mpl.ratio;\n",
       "    var x1 = msg['x1'] / mpl.ratio;\n",
       "    var y1 = (fig.canvas.height - msg['y1']) / mpl.ratio;\n",
       "    x0 = Math.floor(x0) + 0.5;\n",
       "    y0 = Math.floor(y0) + 0.5;\n",
       "    x1 = Math.floor(x1) + 0.5;\n",
       "    y1 = Math.floor(y1) + 0.5;\n",
       "    var min_x = Math.min(x0, x1);\n",
       "    var min_y = Math.min(y0, y1);\n",
       "    var width = Math.abs(x1 - x0);\n",
       "    var height = Math.abs(y1 - y0);\n",
       "\n",
       "    fig.rubberband_context.clearRect(\n",
       "        0, 0, fig.canvas.width, fig.canvas.height);\n",
       "\n",
       "    fig.rubberband_context.strokeRect(min_x, min_y, width, height);\n",
       "}\n",
       "\n",
       "mpl.figure.prototype.handle_figure_label = function(fig, msg) {\n",
       "    // Updates the figure title.\n",
       "    fig.header.textContent = msg['label'];\n",
       "}\n",
       "\n",
       "mpl.figure.prototype.handle_cursor = function(fig, msg) {\n",
       "    var cursor = msg['cursor'];\n",
       "    switch(cursor)\n",
       "    {\n",
       "    case 0:\n",
       "        cursor = 'pointer';\n",
       "        break;\n",
       "    case 1:\n",
       "        cursor = 'default';\n",
       "        break;\n",
       "    case 2:\n",
       "        cursor = 'crosshair';\n",
       "        break;\n",
       "    case 3:\n",
       "        cursor = 'move';\n",
       "        break;\n",
       "    }\n",
       "    fig.rubberband_canvas.style.cursor = cursor;\n",
       "}\n",
       "\n",
       "mpl.figure.prototype.handle_message = function(fig, msg) {\n",
       "    fig.message.textContent = msg['message'];\n",
       "}\n",
       "\n",
       "mpl.figure.prototype.handle_draw = function(fig, msg) {\n",
       "    // Request the server to send over a new figure.\n",
       "    fig.send_draw_message();\n",
       "}\n",
       "\n",
       "mpl.figure.prototype.handle_image_mode = function(fig, msg) {\n",
       "    fig.image_mode = msg['mode'];\n",
       "}\n",
       "\n",
       "mpl.figure.prototype.updated_canvas_event = function() {\n",
       "    // Called whenever the canvas gets updated.\n",
       "    this.send_message(\"ack\", {});\n",
       "}\n",
       "\n",
       "// A function to construct a web socket function for onmessage handling.\n",
       "// Called in the figure constructor.\n",
       "mpl.figure.prototype._make_on_message_function = function(fig) {\n",
       "    return function socket_on_message(evt) {\n",
       "        if (evt.data instanceof Blob) {\n",
       "            /* FIXME: We get \"Resource interpreted as Image but\n",
       "             * transferred with MIME type text/plain:\" errors on\n",
       "             * Chrome.  But how to set the MIME type?  It doesn't seem\n",
       "             * to be part of the websocket stream */\n",
       "            evt.data.type = \"image/png\";\n",
       "\n",
       "            /* Free the memory for the previous frames */\n",
       "            if (fig.imageObj.src) {\n",
       "                (window.URL || window.webkitURL).revokeObjectURL(\n",
       "                    fig.imageObj.src);\n",
       "            }\n",
       "\n",
       "            fig.imageObj.src = (window.URL || window.webkitURL).createObjectURL(\n",
       "                evt.data);\n",
       "            fig.updated_canvas_event();\n",
       "            fig.waiting = false;\n",
       "            return;\n",
       "        }\n",
       "        else if (typeof evt.data === 'string' && evt.data.slice(0, 21) == \"data:image/png;base64\") {\n",
       "            fig.imageObj.src = evt.data;\n",
       "            fig.updated_canvas_event();\n",
       "            fig.waiting = false;\n",
       "            return;\n",
       "        }\n",
       "\n",
       "        var msg = JSON.parse(evt.data);\n",
       "        var msg_type = msg['type'];\n",
       "\n",
       "        // Call the  \"handle_{type}\" callback, which takes\n",
       "        // the figure and JSON message as its only arguments.\n",
       "        try {\n",
       "            var callback = fig[\"handle_\" + msg_type];\n",
       "        } catch (e) {\n",
       "            console.log(\"No handler for the '\" + msg_type + \"' message type: \", msg);\n",
       "            return;\n",
       "        }\n",
       "\n",
       "        if (callback) {\n",
       "            try {\n",
       "                // console.log(\"Handling '\" + msg_type + \"' message: \", msg);\n",
       "                callback(fig, msg);\n",
       "            } catch (e) {\n",
       "                console.log(\"Exception inside the 'handler_\" + msg_type + \"' callback:\", e, e.stack, msg);\n",
       "            }\n",
       "        }\n",
       "    };\n",
       "}\n",
       "\n",
       "// from http://stackoverflow.com/questions/1114465/getting-mouse-location-in-canvas\n",
       "mpl.findpos = function(e) {\n",
       "    //this section is from http://www.quirksmode.org/js/events_properties.html\n",
       "    var targ;\n",
       "    if (!e)\n",
       "        e = window.event;\n",
       "    if (e.target)\n",
       "        targ = e.target;\n",
       "    else if (e.srcElement)\n",
       "        targ = e.srcElement;\n",
       "    if (targ.nodeType == 3) // defeat Safari bug\n",
       "        targ = targ.parentNode;\n",
       "\n",
       "    // jQuery normalizes the pageX and pageY\n",
       "    // pageX,Y are the mouse positions relative to the document\n",
       "    // offset() returns the position of the element relative to the document\n",
       "    var x = e.pageX - $(targ).offset().left;\n",
       "    var y = e.pageY - $(targ).offset().top;\n",
       "\n",
       "    return {\"x\": x, \"y\": y};\n",
       "};\n",
       "\n",
       "/*\n",
       " * return a copy of an object with only non-object keys\n",
       " * we need this to avoid circular references\n",
       " * http://stackoverflow.com/a/24161582/3208463\n",
       " */\n",
       "function simpleKeys (original) {\n",
       "  return Object.keys(original).reduce(function (obj, key) {\n",
       "    if (typeof original[key] !== 'object')\n",
       "        obj[key] = original[key]\n",
       "    return obj;\n",
       "  }, {});\n",
       "}\n",
       "\n",
       "mpl.figure.prototype.mouse_event = function(event, name) {\n",
       "    var canvas_pos = mpl.findpos(event)\n",
       "\n",
       "    if (name === 'button_press')\n",
       "    {\n",
       "        this.canvas.focus();\n",
       "        this.canvas_div.focus();\n",
       "    }\n",
       "\n",
       "    var x = canvas_pos.x * mpl.ratio;\n",
       "    var y = canvas_pos.y * mpl.ratio;\n",
       "\n",
       "    this.send_message(name, {x: x, y: y, button: event.button,\n",
       "                             step: event.step,\n",
       "                             guiEvent: simpleKeys(event)});\n",
       "\n",
       "    /* This prevents the web browser from automatically changing to\n",
       "     * the text insertion cursor when the button is pressed.  We want\n",
       "     * to control all of the cursor setting manually through the\n",
       "     * 'cursor' event from matplotlib */\n",
       "    event.preventDefault();\n",
       "    return false;\n",
       "}\n",
       "\n",
       "mpl.figure.prototype._key_event_extra = function(event, name) {\n",
       "    // Handle any extra behaviour associated with a key event\n",
       "}\n",
       "\n",
       "mpl.figure.prototype.key_event = function(event, name) {\n",
       "\n",
       "    // Prevent repeat events\n",
       "    if (name == 'key_press')\n",
       "    {\n",
       "        if (event.which === this._key)\n",
       "            return;\n",
       "        else\n",
       "            this._key = event.which;\n",
       "    }\n",
       "    if (name == 'key_release')\n",
       "        this._key = null;\n",
       "\n",
       "    var value = '';\n",
       "    if (event.ctrlKey && event.which != 17)\n",
       "        value += \"ctrl+\";\n",
       "    if (event.altKey && event.which != 18)\n",
       "        value += \"alt+\";\n",
       "    if (event.shiftKey && event.which != 16)\n",
       "        value += \"shift+\";\n",
       "\n",
       "    value += 'k';\n",
       "    value += event.which.toString();\n",
       "\n",
       "    this._key_event_extra(event, name);\n",
       "\n",
       "    this.send_message(name, {key: value,\n",
       "                             guiEvent: simpleKeys(event)});\n",
       "    return false;\n",
       "}\n",
       "\n",
       "mpl.figure.prototype.toolbar_button_onclick = function(name) {\n",
       "    if (name == 'download') {\n",
       "        this.handle_save(this, null);\n",
       "    } else {\n",
       "        this.send_message(\"toolbar_button\", {name: name});\n",
       "    }\n",
       "};\n",
       "\n",
       "mpl.figure.prototype.toolbar_button_onmouseover = function(tooltip) {\n",
       "    this.message.textContent = tooltip;\n",
       "};\n",
       "mpl.toolbar_items = [[\"Home\", \"Reset original view\", \"fa fa-home icon-home\", \"home\"], [\"Back\", \"Back to previous view\", \"fa fa-arrow-left icon-arrow-left\", \"back\"], [\"Forward\", \"Forward to next view\", \"fa fa-arrow-right icon-arrow-right\", \"forward\"], [\"\", \"\", \"\", \"\"], [\"Pan\", \"Pan axes with left mouse, zoom with right\", \"fa fa-arrows icon-move\", \"pan\"], [\"Zoom\", \"Zoom to rectangle\", \"fa fa-square-o icon-check-empty\", \"zoom\"], [\"\", \"\", \"\", \"\"], [\"Download\", \"Download plot\", \"fa fa-floppy-o icon-save\", \"download\"]];\n",
       "\n",
       "mpl.extensions = [\"eps\", \"jpeg\", \"pdf\", \"png\", \"ps\", \"raw\", \"svg\", \"tif\"];\n",
       "\n",
       "mpl.default_extension = \"png\";var comm_websocket_adapter = function(comm) {\n",
       "    // Create a \"websocket\"-like object which calls the given IPython comm\n",
       "    // object with the appropriate methods. Currently this is a non binary\n",
       "    // socket, so there is still some room for performance tuning.\n",
       "    var ws = {};\n",
       "\n",
       "    ws.close = function() {\n",
       "        comm.close()\n",
       "    };\n",
       "    ws.send = function(m) {\n",
       "        //console.log('sending', m);\n",
       "        comm.send(m);\n",
       "    };\n",
       "    // Register the callback with on_msg.\n",
       "    comm.on_msg(function(msg) {\n",
       "        //console.log('receiving', msg['content']['data'], msg);\n",
       "        // Pass the mpl event to the overridden (by mpl) onmessage function.\n",
       "        ws.onmessage(msg['content']['data'])\n",
       "    });\n",
       "    return ws;\n",
       "}\n",
       "\n",
       "mpl.mpl_figure_comm = function(comm, msg) {\n",
       "    // This is the function which gets called when the mpl process\n",
       "    // starts-up an IPython Comm through the \"matplotlib\" channel.\n",
       "\n",
       "    var id = msg.content.data.id;\n",
       "    // Get hold of the div created by the display call when the Comm\n",
       "    // socket was opened in Python.\n",
       "    var element = $(\"#\" + id);\n",
       "    var ws_proxy = comm_websocket_adapter(comm)\n",
       "\n",
       "    function ondownload(figure, format) {\n",
       "        window.open(figure.imageObj.src);\n",
       "    }\n",
       "\n",
       "    var fig = new mpl.figure(id, ws_proxy,\n",
       "                           ondownload,\n",
       "                           element.get(0));\n",
       "\n",
       "    // Call onopen now - mpl needs it, as it is assuming we've passed it a real\n",
       "    // web socket which is closed, not our websocket->open comm proxy.\n",
       "    ws_proxy.onopen();\n",
       "\n",
       "    fig.parent_element = element.get(0);\n",
       "    fig.cell_info = mpl.find_output_cell(\"<div id='\" + id + \"'></div>\");\n",
       "    if (!fig.cell_info) {\n",
       "        console.error(\"Failed to find cell for figure\", id, fig);\n",
       "        return;\n",
       "    }\n",
       "\n",
       "    var output_index = fig.cell_info[2]\n",
       "    var cell = fig.cell_info[0];\n",
       "\n",
       "};\n",
       "\n",
       "mpl.figure.prototype.handle_close = function(fig, msg) {\n",
       "    var width = fig.canvas.width/mpl.ratio\n",
       "    fig.root.unbind('remove')\n",
       "\n",
       "    // Update the output cell to use the data from the current canvas.\n",
       "    fig.push_to_output();\n",
       "    var dataURL = fig.canvas.toDataURL();\n",
       "    // Re-enable the keyboard manager in IPython - without this line, in FF,\n",
       "    // the notebook keyboard shortcuts fail.\n",
       "    IPython.keyboard_manager.enable()\n",
       "    $(fig.parent_element).html('<img src=\"' + dataURL + '\" width=\"' + width + '\">');\n",
       "    fig.close_ws(fig, msg);\n",
       "}\n",
       "\n",
       "mpl.figure.prototype.close_ws = function(fig, msg){\n",
       "    fig.send_message('closing', msg);\n",
       "    // fig.ws.close()\n",
       "}\n",
       "\n",
       "mpl.figure.prototype.push_to_output = function(remove_interactive) {\n",
       "    // Turn the data on the canvas into data in the output cell.\n",
       "    var width = this.canvas.width/mpl.ratio\n",
       "    var dataURL = this.canvas.toDataURL();\n",
       "    this.cell_info[1]['text/html'] = '<img src=\"' + dataURL + '\" width=\"' + width + '\">';\n",
       "}\n",
       "\n",
       "mpl.figure.prototype.updated_canvas_event = function() {\n",
       "    // Tell IPython that the notebook contents must change.\n",
       "    IPython.notebook.set_dirty(true);\n",
       "    this.send_message(\"ack\", {});\n",
       "    var fig = this;\n",
       "    // Wait a second, then push the new image to the DOM so\n",
       "    // that it is saved nicely (might be nice to debounce this).\n",
       "    setTimeout(function () { fig.push_to_output() }, 1000);\n",
       "}\n",
       "\n",
       "mpl.figure.prototype._init_toolbar = function() {\n",
       "    var fig = this;\n",
       "\n",
       "    var nav_element = $('<div/>')\n",
       "    nav_element.attr('style', 'width: 100%');\n",
       "    this.root.append(nav_element);\n",
       "\n",
       "    // Define a callback function for later on.\n",
       "    function toolbar_event(event) {\n",
       "        return fig.toolbar_button_onclick(event['data']);\n",
       "    }\n",
       "    function toolbar_mouse_event(event) {\n",
       "        return fig.toolbar_button_onmouseover(event['data']);\n",
       "    }\n",
       "\n",
       "    for(var toolbar_ind in mpl.toolbar_items){\n",
       "        var name = mpl.toolbar_items[toolbar_ind][0];\n",
       "        var tooltip = mpl.toolbar_items[toolbar_ind][1];\n",
       "        var image = mpl.toolbar_items[toolbar_ind][2];\n",
       "        var method_name = mpl.toolbar_items[toolbar_ind][3];\n",
       "\n",
       "        if (!name) { continue; };\n",
       "\n",
       "        var button = $('<button class=\"btn btn-default\" href=\"#\" title=\"' + name + '\"><i class=\"fa ' + image + ' fa-lg\"></i></button>');\n",
       "        button.click(method_name, toolbar_event);\n",
       "        button.mouseover(tooltip, toolbar_mouse_event);\n",
       "        nav_element.append(button);\n",
       "    }\n",
       "\n",
       "    // Add the status bar.\n",
       "    var status_bar = $('<span class=\"mpl-message\" style=\"text-align:right; float: right;\"/>');\n",
       "    nav_element.append(status_bar);\n",
       "    this.message = status_bar[0];\n",
       "\n",
       "    // Add the close button to the window.\n",
       "    var buttongrp = $('<div class=\"btn-group inline pull-right\"></div>');\n",
       "    var button = $('<button class=\"btn btn-mini btn-primary\" href=\"#\" title=\"Stop Interaction\"><i class=\"fa fa-power-off icon-remove icon-large\"></i></button>');\n",
       "    button.click(function (evt) { fig.handle_close(fig, {}); } );\n",
       "    button.mouseover('Stop Interaction', toolbar_mouse_event);\n",
       "    buttongrp.append(button);\n",
       "    var titlebar = this.root.find($('.ui-dialog-titlebar'));\n",
       "    titlebar.prepend(buttongrp);\n",
       "}\n",
       "\n",
       "mpl.figure.prototype._root_extra_style = function(el){\n",
       "    var fig = this\n",
       "    el.on(\"remove\", function(){\n",
       "\tfig.close_ws(fig, {});\n",
       "    });\n",
       "}\n",
       "\n",
       "mpl.figure.prototype._canvas_extra_style = function(el){\n",
       "    // this is important to make the div 'focusable\n",
       "    el.attr('tabindex', 0)\n",
       "    // reach out to IPython and tell the keyboard manager to turn it's self\n",
       "    // off when our div gets focus\n",
       "\n",
       "    // location in version 3\n",
       "    if (IPython.notebook.keyboard_manager) {\n",
       "        IPython.notebook.keyboard_manager.register_events(el);\n",
       "    }\n",
       "    else {\n",
       "        // location in version 2\n",
       "        IPython.keyboard_manager.register_events(el);\n",
       "    }\n",
       "\n",
       "}\n",
       "\n",
       "mpl.figure.prototype._key_event_extra = function(event, name) {\n",
       "    var manager = IPython.notebook.keyboard_manager;\n",
       "    if (!manager)\n",
       "        manager = IPython.keyboard_manager;\n",
       "\n",
       "    // Check for shift+enter\n",
       "    if (event.shiftKey && event.which == 13) {\n",
       "        this.canvas_div.blur();\n",
       "        event.shiftKey = false;\n",
       "        // Send a \"J\" for go to next cell\n",
       "        event.which = 74;\n",
       "        event.keyCode = 74;\n",
       "        manager.command_mode();\n",
       "        manager.handle_keydown(event);\n",
       "    }\n",
       "}\n",
       "\n",
       "mpl.figure.prototype.handle_save = function(fig, msg) {\n",
       "    fig.ondownload(fig, null);\n",
       "}\n",
       "\n",
       "\n",
       "mpl.find_output_cell = function(html_output) {\n",
       "    // Return the cell and output element which can be found *uniquely* in the notebook.\n",
       "    // Note - this is a bit hacky, but it is done because the \"notebook_saving.Notebook\"\n",
       "    // IPython event is triggered only after the cells have been serialised, which for\n",
       "    // our purposes (turning an active figure into a static one), is too late.\n",
       "    var cells = IPython.notebook.get_cells();\n",
       "    var ncells = cells.length;\n",
       "    for (var i=0; i<ncells; i++) {\n",
       "        var cell = cells[i];\n",
       "        if (cell.cell_type === 'code'){\n",
       "            for (var j=0; j<cell.output_area.outputs.length; j++) {\n",
       "                var data = cell.output_area.outputs[j];\n",
       "                if (data.data) {\n",
       "                    // IPython >= 3 moved mimebundle to data attribute of output\n",
       "                    data = data.data;\n",
       "                }\n",
       "                if (data['text/html'] == html_output) {\n",
       "                    return [cell, data, j];\n",
       "                }\n",
       "            }\n",
       "        }\n",
       "    }\n",
       "}\n",
       "\n",
       "// Register the function which deals with the matplotlib target/channel.\n",
       "// The kernel may be null if the page has been refreshed.\n",
       "if (IPython.notebook.kernel != null) {\n",
       "    IPython.notebook.kernel.comm_manager.register_target('matplotlib', mpl.mpl_figure_comm);\n",
       "}\n"
      ],
      "text/plain": [
       "<IPython.core.display.Javascript object>"
      ]
     },
     "metadata": {},
     "output_type": "display_data"
    },
    {
     "data": {
      "text/html": [
       "<img src=\"data:image/png;base64,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\" width=\"640\">"
      ],
      "text/plain": [
       "<IPython.core.display.HTML object>"
      ]
     },
     "metadata": {},
     "output_type": "display_data"
    },
    {
     "data": {
      "text/plain": [
       "<matplotlib.axes._subplots.AxesSubplot at 0x7f73284c0610>"
      ]
     },
     "execution_count": 115,
     "metadata": {},
     "output_type": "execute_result"
    }
   ],
   "source": [
    "plt.figure()\n",
    "sns.lineplot(data=df_val, x='wd',y='acc_avg',hue='arch')"
   ]
  },
  {
   "cell_type": "code",
   "execution_count": null,
   "metadata": {},
   "outputs": [],
   "source": [
    "for conv in [GATConv]:\n",
    "    for ch in [12,24,48,96]:\n",
    "        for lr in [1e-3,5e-3,1e-2]:\n",
    "            for dropout in [0.2,0.4,0.6,0.8]:\n",
    "                for wd in [1e-4,1e-3,1e-2,1e-1]:\n",
    "                    for heads in [1,2,4]:   # flaw when ch==12 and heads==4 and model is BiGAT (12//2//4 => 1)\n",
    "                                            # resulting in smaller representation size than expected (ch -> 8 not 12)\n",
    "                        eval_archs_gat(dataset=cora,conv=conv,channel_size=ch,lr=lr,\n",
    "                                       dropout=dropout,wd=wd,heads=heads)"
   ]
  },
  {
   "cell_type": "code",
   "execution_count": null,
   "metadata": {},
   "outputs": [],
   "source": [
    "eval_archs(cora,SAGEConv,64,0.1,0.01)"
   ]
  },
  {
   "cell_type": "code",
   "execution_count": null,
   "metadata": {},
   "outputs": [
    {
     "name": "stdout",
     "output_type": "stream",
     "text": [
      ">> acc/GATConv_MonoGAT_lr0.01_wd0.01_ch64.out\n"
     ]
    }
   ],
   "source": [
    "eval_archs_gat(cora,GATConv,64,0.01,0.01)"
   ]
  },
  {
   "cell_type": "code",
   "execution_count": 19,
   "metadata": {},
   "outputs": [
    {
     "ename": "RuntimeError",
     "evalue": "Expected object of device type cuda but got device type cpu for argument #2 'mat2' in call to _th_mm",
     "output_type": "error",
     "traceback": [
      "\u001b[0;31m---------------------------------------------------------------------------\u001b[0m",
      "\u001b[0;31mRuntimeError\u001b[0m                              Traceback (most recent call last)",
      "\u001b[0;32m<ipython-input-19-9871c957b150>\u001b[0m in \u001b[0;36m<module>\u001b[0;34m\u001b[0m\n\u001b[0;32m----> 1\u001b[0;31m \u001b[0meval_archs\u001b[0m\u001b[0;34m(\u001b[0m\u001b[0mcora\u001b[0m\u001b[0;34m,\u001b[0m\u001b[0mSAGEConv\u001b[0m\u001b[0;34m,\u001b[0m\u001b[0;36m64\u001b[0m\u001b[0;34m,\u001b[0m\u001b[0;36m0.1\u001b[0m\u001b[0;34m,\u001b[0m\u001b[0;36m0.01\u001b[0m\u001b[0;34m)\u001b[0m\u001b[0;34m\u001b[0m\u001b[0;34m\u001b[0m\u001b[0m\n\u001b[0m",
      "\u001b[0;32m<ipython-input-18-70b133e4f908>\u001b[0m in \u001b[0;36meval_archs\u001b[0;34m(dataset, conv, channel_size, lr, wd)\u001b[0m\n\u001b[1;32m      7\u001b[0m             \u001b[0;32mfor\u001b[0m \u001b[0mseed\u001b[0m \u001b[0;32min\u001b[0m \u001b[0mrange\u001b[0m\u001b[0;34m(\u001b[0m\u001b[0mnum_splits\u001b[0m\u001b[0;34m)\u001b[0m\u001b[0;34m:\u001b[0m\u001b[0;34m\u001b[0m\u001b[0;34m\u001b[0m\u001b[0m\n\u001b[1;32m      8\u001b[0m                 monogcn,monogcnstd,monogcns = eval_multiple(dataset,[channel_size//chs],conv,runs=num_runs,epochs=200,split_seed=seed,\n\u001b[0;32m----> 9\u001b[0;31m                                                             architecture=model,lr=lr,wd=wd)\n\u001b[0m\u001b[1;32m     10\u001b[0m                 \u001b[0mf\u001b[0m\u001b[0;34m.\u001b[0m\u001b[0mwrite\u001b[0m\u001b[0;34m(\u001b[0m\u001b[0;34m'{} {} accuracy: {:.2f} +-{:.1f}\\n'\u001b[0m\u001b[0;34m.\u001b[0m\u001b[0mformat\u001b[0m\u001b[0;34m(\u001b[0m\u001b[0mconv\u001b[0m\u001b[0;34m.\u001b[0m\u001b[0m__name__\u001b[0m\u001b[0;34m,\u001b[0m\u001b[0mmodel\u001b[0m\u001b[0;34m.\u001b[0m\u001b[0m__name__\u001b[0m\u001b[0;34m,\u001b[0m\u001b[0mmonogcn\u001b[0m\u001b[0;34m*\u001b[0m\u001b[0;36m100\u001b[0m\u001b[0;34m,\u001b[0m\u001b[0mmonogcnstd\u001b[0m\u001b[0;34m*\u001b[0m\u001b[0;36m100\u001b[0m\u001b[0;34m)\u001b[0m\u001b[0;34m)\u001b[0m\u001b[0;34m\u001b[0m\u001b[0;34m\u001b[0m\u001b[0m\n\u001b[1;32m     11\u001b[0m                 \u001b[0mavg\u001b[0m \u001b[0;34m+=\u001b[0m \u001b[0mmonogcn\u001b[0m \u001b[0;34m/\u001b[0m \u001b[0mnum_splits\u001b[0m\u001b[0;34m\u001b[0m\u001b[0;34m\u001b[0m\u001b[0m\n",
      "\u001b[0;32m<ipython-input-12-66dc41e1567d>\u001b[0m in \u001b[0;36meval_multiple\u001b[0;34m(dataset, channels, modelType, architecture, lr, wd, runs, epochs, split_seed)\u001b[0m\n\u001b[1;32m     74\u001b[0m     \u001b[0;32mfor\u001b[0m \u001b[0mi\u001b[0m \u001b[0;32min\u001b[0m \u001b[0mrange\u001b[0m\u001b[0;34m(\u001b[0m\u001b[0mruns\u001b[0m\u001b[0;34m)\u001b[0m\u001b[0;34m:\u001b[0m\u001b[0;34m\u001b[0m\u001b[0;34m\u001b[0m\u001b[0m\n\u001b[1;32m     75\u001b[0m         accs.append(run_and_eval_model(dataset,channels,modelType,architecture,lr,wd,epochs,\n\u001b[0;32m---> 76\u001b[0;31m                                        split_seed=split_seed, init_seed=i))\n\u001b[0m\u001b[1;32m     77\u001b[0m     \u001b[0melapsed_time\u001b[0m \u001b[0;34m=\u001b[0m \u001b[0mtime\u001b[0m\u001b[0;34m.\u001b[0m\u001b[0mtime\u001b[0m\u001b[0;34m(\u001b[0m\u001b[0;34m)\u001b[0m \u001b[0;34m-\u001b[0m \u001b[0mstart\u001b[0m\u001b[0;34m\u001b[0m\u001b[0;34m\u001b[0m\u001b[0m\n\u001b[1;32m     78\u001b[0m \u001b[0;31m#     print('Elaplsed {}'.format(time.strftime(\"%H:%M:%S\", time.gmtime(elapsed_time))))\u001b[0m\u001b[0;34m\u001b[0m\u001b[0;34m\u001b[0m\u001b[0;34m\u001b[0m\u001b[0m\n",
      "\u001b[0;32m<ipython-input-12-66dc41e1567d>\u001b[0m in \u001b[0;36mrun_and_eval_model\u001b[0;34m(dataset, channels, modelType, architecture, lr, wd, epochs, split_seed, init_seed)\u001b[0m\n\u001b[1;32m     39\u001b[0m     \u001b[0;32mfor\u001b[0m \u001b[0mepoch\u001b[0m \u001b[0;32min\u001b[0m \u001b[0mrange\u001b[0m\u001b[0;34m(\u001b[0m\u001b[0mepochs\u001b[0m\u001b[0;34m)\u001b[0m\u001b[0;34m:\u001b[0m\u001b[0;34m\u001b[0m\u001b[0;34m\u001b[0m\u001b[0m\n\u001b[1;32m     40\u001b[0m         \u001b[0moptimizer\u001b[0m\u001b[0;34m.\u001b[0m\u001b[0mzero_grad\u001b[0m\u001b[0;34m(\u001b[0m\u001b[0;34m)\u001b[0m \u001b[0;31m# saw this a lot in the beginning, maybe resetting gradients (not to accumulate)\u001b[0m\u001b[0;34m\u001b[0m\u001b[0;34m\u001b[0m\u001b[0m\n\u001b[0;32m---> 41\u001b[0;31m         \u001b[0mout\u001b[0m \u001b[0;34m=\u001b[0m \u001b[0mmodel\u001b[0m\u001b[0;34m(\u001b[0m\u001b[0mdata\u001b[0m\u001b[0;34m)\u001b[0m \u001b[0;31m# this calls the forward method apparently\u001b[0m\u001b[0;34m\u001b[0m\u001b[0;34m\u001b[0m\u001b[0m\n\u001b[0m\u001b[1;32m     42\u001b[0m         \u001b[0mloss\u001b[0m \u001b[0;34m=\u001b[0m \u001b[0mF\u001b[0m\u001b[0;34m.\u001b[0m\u001b[0mnll_loss\u001b[0m\u001b[0;34m(\u001b[0m\u001b[0mout\u001b[0m\u001b[0;34m[\u001b[0m\u001b[0msplit\u001b[0m\u001b[0;34m.\u001b[0m\u001b[0mtrain_mask\u001b[0m\u001b[0;34m]\u001b[0m\u001b[0;34m,\u001b[0m\u001b[0mdata\u001b[0m\u001b[0;34m.\u001b[0m\u001b[0my\u001b[0m\u001b[0;34m[\u001b[0m\u001b[0msplit\u001b[0m\u001b[0;34m.\u001b[0m\u001b[0mtrain_mask\u001b[0m\u001b[0;34m]\u001b[0m\u001b[0;34m)\u001b[0m \u001b[0;31m# nice indexing, easy and short\u001b[0m\u001b[0;34m\u001b[0m\u001b[0;34m\u001b[0m\u001b[0m\n\u001b[1;32m     43\u001b[0m \u001b[0;31m#         loss = F.nll_loss(out[data.train_mask],data.y[data.train_mask]) # nice indexing, easy and short\u001b[0m\u001b[0;34m\u001b[0m\u001b[0;34m\u001b[0m\u001b[0;34m\u001b[0m\u001b[0m\n",
      "\u001b[0;32m~/anaconda3/lib/python3.7/site-packages/torch/nn/modules/module.py\u001b[0m in \u001b[0;36m__call__\u001b[0;34m(self, *input, **kwargs)\u001b[0m\n\u001b[1;32m    539\u001b[0m             \u001b[0mresult\u001b[0m \u001b[0;34m=\u001b[0m \u001b[0mself\u001b[0m\u001b[0;34m.\u001b[0m\u001b[0m_slow_forward\u001b[0m\u001b[0;34m(\u001b[0m\u001b[0;34m*\u001b[0m\u001b[0minput\u001b[0m\u001b[0;34m,\u001b[0m \u001b[0;34m**\u001b[0m\u001b[0mkwargs\u001b[0m\u001b[0;34m)\u001b[0m\u001b[0;34m\u001b[0m\u001b[0;34m\u001b[0m\u001b[0m\n\u001b[1;32m    540\u001b[0m         \u001b[0;32melse\u001b[0m\u001b[0;34m:\u001b[0m\u001b[0;34m\u001b[0m\u001b[0;34m\u001b[0m\u001b[0m\n\u001b[0;32m--> 541\u001b[0;31m             \u001b[0mresult\u001b[0m \u001b[0;34m=\u001b[0m \u001b[0mself\u001b[0m\u001b[0;34m.\u001b[0m\u001b[0mforward\u001b[0m\u001b[0;34m(\u001b[0m\u001b[0;34m*\u001b[0m\u001b[0minput\u001b[0m\u001b[0;34m,\u001b[0m \u001b[0;34m**\u001b[0m\u001b[0mkwargs\u001b[0m\u001b[0;34m)\u001b[0m\u001b[0;34m\u001b[0m\u001b[0;34m\u001b[0m\u001b[0m\n\u001b[0m\u001b[1;32m    542\u001b[0m         \u001b[0;32mfor\u001b[0m \u001b[0mhook\u001b[0m \u001b[0;32min\u001b[0m \u001b[0mself\u001b[0m\u001b[0;34m.\u001b[0m\u001b[0m_forward_hooks\u001b[0m\u001b[0;34m.\u001b[0m\u001b[0mvalues\u001b[0m\u001b[0;34m(\u001b[0m\u001b[0;34m)\u001b[0m\u001b[0;34m:\u001b[0m\u001b[0;34m\u001b[0m\u001b[0;34m\u001b[0m\u001b[0m\n\u001b[1;32m    543\u001b[0m             \u001b[0mhook_result\u001b[0m \u001b[0;34m=\u001b[0m \u001b[0mhook\u001b[0m\u001b[0;34m(\u001b[0m\u001b[0mself\u001b[0m\u001b[0;34m,\u001b[0m \u001b[0minput\u001b[0m\u001b[0;34m,\u001b[0m \u001b[0mresult\u001b[0m\u001b[0;34m)\u001b[0m\u001b[0;34m\u001b[0m\u001b[0;34m\u001b[0m\u001b[0m\n",
      "\u001b[0;32m~/directed-graphs-learning/notebooks/multi_layered_model.py\u001b[0m in \u001b[0;36mforward\u001b[0;34m(self, data)\u001b[0m\n\u001b[1;32m     20\u001b[0m \u001b[0;34m\u001b[0m\u001b[0m\n\u001b[1;32m     21\u001b[0m         \u001b[0;32mfor\u001b[0m \u001b[0mconv\u001b[0m \u001b[0;32min\u001b[0m \u001b[0mself\u001b[0m\u001b[0;34m.\u001b[0m\u001b[0mconv\u001b[0m\u001b[0;34m[\u001b[0m\u001b[0;34m:\u001b[0m\u001b[0;34m-\u001b[0m\u001b[0;36m1\u001b[0m\u001b[0;34m]\u001b[0m\u001b[0;34m:\u001b[0m\u001b[0;34m\u001b[0m\u001b[0;34m\u001b[0m\u001b[0m\n\u001b[0;32m---> 22\u001b[0;31m             \u001b[0mx\u001b[0m \u001b[0;34m=\u001b[0m \u001b[0mconv\u001b[0m\u001b[0;34m(\u001b[0m\u001b[0mx\u001b[0m\u001b[0;34m,\u001b[0m\u001b[0medge_index\u001b[0m\u001b[0;34m)\u001b[0m\u001b[0;34m\u001b[0m\u001b[0;34m\u001b[0m\u001b[0m\n\u001b[0m\u001b[1;32m     23\u001b[0m             \u001b[0mx\u001b[0m \u001b[0;34m=\u001b[0m \u001b[0mF\u001b[0m\u001b[0;34m.\u001b[0m\u001b[0mrelu\u001b[0m\u001b[0;34m(\u001b[0m\u001b[0mx\u001b[0m\u001b[0;34m)\u001b[0m\u001b[0;34m\u001b[0m\u001b[0;34m\u001b[0m\u001b[0m\n\u001b[1;32m     24\u001b[0m             \u001b[0mx\u001b[0m \u001b[0;34m=\u001b[0m \u001b[0mF\u001b[0m\u001b[0;34m.\u001b[0m\u001b[0mdropout\u001b[0m\u001b[0;34m(\u001b[0m\u001b[0mx\u001b[0m\u001b[0;34m,\u001b[0m\u001b[0mtraining\u001b[0m\u001b[0;34m=\u001b[0m\u001b[0mself\u001b[0m\u001b[0;34m.\u001b[0m\u001b[0mtraining\u001b[0m\u001b[0;34m,\u001b[0m\u001b[0mp\u001b[0m\u001b[0;34m=\u001b[0m\u001b[0mself\u001b[0m\u001b[0;34m.\u001b[0m\u001b[0mdropout\u001b[0m\u001b[0;34m)\u001b[0m\u001b[0;34m\u001b[0m\u001b[0;34m\u001b[0m\u001b[0m\n",
      "\u001b[0;32m~/anaconda3/lib/python3.7/site-packages/torch/nn/modules/module.py\u001b[0m in \u001b[0;36m__call__\u001b[0;34m(self, *input, **kwargs)\u001b[0m\n\u001b[1;32m    539\u001b[0m             \u001b[0mresult\u001b[0m \u001b[0;34m=\u001b[0m \u001b[0mself\u001b[0m\u001b[0;34m.\u001b[0m\u001b[0m_slow_forward\u001b[0m\u001b[0;34m(\u001b[0m\u001b[0;34m*\u001b[0m\u001b[0minput\u001b[0m\u001b[0;34m,\u001b[0m \u001b[0;34m**\u001b[0m\u001b[0mkwargs\u001b[0m\u001b[0;34m)\u001b[0m\u001b[0;34m\u001b[0m\u001b[0;34m\u001b[0m\u001b[0m\n\u001b[1;32m    540\u001b[0m         \u001b[0;32melse\u001b[0m\u001b[0;34m:\u001b[0m\u001b[0;34m\u001b[0m\u001b[0;34m\u001b[0m\u001b[0m\n\u001b[0;32m--> 541\u001b[0;31m             \u001b[0mresult\u001b[0m \u001b[0;34m=\u001b[0m \u001b[0mself\u001b[0m\u001b[0;34m.\u001b[0m\u001b[0mforward\u001b[0m\u001b[0;34m(\u001b[0m\u001b[0;34m*\u001b[0m\u001b[0minput\u001b[0m\u001b[0;34m,\u001b[0m \u001b[0;34m**\u001b[0m\u001b[0mkwargs\u001b[0m\u001b[0;34m)\u001b[0m\u001b[0;34m\u001b[0m\u001b[0;34m\u001b[0m\u001b[0m\n\u001b[0m\u001b[1;32m    542\u001b[0m         \u001b[0;32mfor\u001b[0m \u001b[0mhook\u001b[0m \u001b[0;32min\u001b[0m \u001b[0mself\u001b[0m\u001b[0;34m.\u001b[0m\u001b[0m_forward_hooks\u001b[0m\u001b[0;34m.\u001b[0m\u001b[0mvalues\u001b[0m\u001b[0;34m(\u001b[0m\u001b[0;34m)\u001b[0m\u001b[0;34m:\u001b[0m\u001b[0;34m\u001b[0m\u001b[0;34m\u001b[0m\u001b[0m\n\u001b[1;32m    543\u001b[0m             \u001b[0mhook_result\u001b[0m \u001b[0;34m=\u001b[0m \u001b[0mhook\u001b[0m\u001b[0;34m(\u001b[0m\u001b[0mself\u001b[0m\u001b[0;34m,\u001b[0m \u001b[0minput\u001b[0m\u001b[0;34m,\u001b[0m \u001b[0mresult\u001b[0m\u001b[0;34m)\u001b[0m\u001b[0;34m\u001b[0m\u001b[0;34m\u001b[0m\u001b[0m\n",
      "\u001b[0;32m~/anaconda3/envs/nips2/lib/python3.7/site-packages/torch_geometric/nn/conv/sage_conv.py\u001b[0m in \u001b[0;36mforward\u001b[0;34m(self, x, edge_index, edge_weight, size)\u001b[0m\n\u001b[1;32m     57\u001b[0m \u001b[0;34m\u001b[0m\u001b[0m\n\u001b[1;32m     58\u001b[0m         \u001b[0;32mif\u001b[0m \u001b[0mtorch\u001b[0m\u001b[0;34m.\u001b[0m\u001b[0mis_tensor\u001b[0m\u001b[0;34m(\u001b[0m\u001b[0mx\u001b[0m\u001b[0;34m)\u001b[0m\u001b[0;34m:\u001b[0m\u001b[0;34m\u001b[0m\u001b[0;34m\u001b[0m\u001b[0m\n\u001b[0;32m---> 59\u001b[0;31m             \u001b[0mx\u001b[0m \u001b[0;34m=\u001b[0m \u001b[0mtorch\u001b[0m\u001b[0;34m.\u001b[0m\u001b[0mmatmul\u001b[0m\u001b[0;34m(\u001b[0m\u001b[0mx\u001b[0m\u001b[0;34m,\u001b[0m \u001b[0mself\u001b[0m\u001b[0;34m.\u001b[0m\u001b[0mweight\u001b[0m\u001b[0;34m)\u001b[0m\u001b[0;34m\u001b[0m\u001b[0;34m\u001b[0m\u001b[0m\n\u001b[0m\u001b[1;32m     60\u001b[0m         \u001b[0;32melse\u001b[0m\u001b[0;34m:\u001b[0m\u001b[0;34m\u001b[0m\u001b[0;34m\u001b[0m\u001b[0m\n\u001b[1;32m     61\u001b[0m             x = (None if x[0] is None else torch.matmul(x[0], self.weight),\n",
      "\u001b[0;31mRuntimeError\u001b[0m: Expected object of device type cuda but got device type cpu for argument #2 'mat2' in call to _th_mm"
     ]
    }
   ],
   "source": [
    "eval_archs(cora,SAGEConv,64,0.1,0.01)"
   ]
  },
  {
   "cell_type": "code",
   "execution_count": null,
   "metadata": {},
   "outputs": [],
   "source": [
    "eval_archs(cora,SAGEConv,64,0.001,0.1)"
   ]
  },
  {
   "cell_type": "code",
   "execution_count": null,
   "metadata": {},
   "outputs": [],
   "source": [
    "eval_archs(cora,GCNConv,64,0.01,5e-4)"
   ]
  },
  {
   "cell_type": "code",
   "execution_count": null,
   "metadata": {},
   "outputs": [],
   "source": [
    "avg = 0\n",
    "with open('acc/monogcn.out','w') as f:\n",
    "    for seed in range(num_splits):\n",
    "        monogcn,monogcnstd,monogcns = eval_multiple(cora,[64],GCNConv,runs=num_runs,epochs=200,split_seed=seed,\n",
    "                                                    architecture=MonoModel)\n",
    "        f.write('Mono accuracy: {:.2f} +-{:.1f}\\n'.format(monogcn*100,monogcnstd*100))\n",
    "        avg += monogcn / num_splits\n",
    "    f.write('Mono accuracy: {:.2f}\\n'.format(avg*100))"
   ]
  },
  {
   "cell_type": "code",
   "execution_count": null,
   "metadata": {},
   "outputs": [],
   "source": [
    "avg = 0\n",
    "with open('acc/bigcn.out','w') as f:\n",
    "    for seed in range(num_splits):\n",
    "        monogcn,monogcnstd,monogcns = eval_multiple(cora,[32],GCNConv,runs=num_runs,epochs=200,split_seed=seed,\n",
    "                                                    architecture=BiModel)\n",
    "        f.write('Mono accuracy: {:.2f} +-{:.1f}\\n'.format(monogcn*100,monogcnstd*100))\n",
    "        avg += monogcn / num_splits\n",
    "    f.write('Mono accuracy: {:.2f}\\n'.format(avg*100))"
   ]
  },
  {
   "cell_type": "code",
   "execution_count": null,
   "metadata": {},
   "outputs": [],
   "source": [
    "avg = 0\n",
    "with open('acc/trigcn.out','w') as f:\n",
    "    for seed in range(num_splits):\n",
    "        monogcn,monogcnstd,monogcns = eval_multiple(cora,[20],GCNConv,runs=num_runs,epochs=200,split_seed=seed,\n",
    "                                                    architecture=TriModel)\n",
    "        f.write('Mono accuracy: {:.2f} +-{:.1f}\\n'.format(monogcn*100,monogcnstd*100))\n",
    "        avg += monogcn / num_splits\n",
    "    f.write('Mono accuracy: {:.2f}\\n'.format(avg*100))"
   ]
  },
  {
   "cell_type": "code",
   "execution_count": 12,
   "metadata": {},
   "outputs": [
    {
     "name": "stdout",
     "output_type": "stream",
     "text": [
      "Elaplsed 00:00:03\n",
      "Elaplsed 00:00:03\n",
      "Elaplsed 00:00:03\n",
      "Elaplsed 00:00:03\n",
      "Elaplsed 00:00:03\n",
      "Elaplsed 00:00:03\n",
      "Elaplsed 00:00:03\n",
      "Elaplsed 00:00:03\n",
      "Elaplsed 00:00:03\n",
      "Elaplsed 00:00:03\n",
      "Mono accuracy: 0.7433\n"
     ]
    }
   ],
   "source": [
    "avg = 0\n",
    "for seed in range(10):\n",
    "    monogcn,monogcnstd,monogcns = eval_multiple(cora,[128],SAGEConv,runs=10,epochs=200,split_seed=seed,\n",
    "                                                architecture=MonoModel)\n",
    "    \n",
    "    avg += monogcn / 10\n",
    "print('Mono accuracy: {:.4f}'.format(avg))"
   ]
  },
  {
   "cell_type": "code",
   "execution_count": 13,
   "metadata": {},
   "outputs": [
    {
     "name": "stdout",
     "output_type": "stream",
     "text": [
      "Elaplsed 00:00:04\n",
      "Elaplsed 00:00:03\n",
      "Elaplsed 00:00:04\n",
      "Elaplsed 00:00:04\n",
      "Elaplsed 00:00:04\n",
      "Elaplsed 00:00:05\n",
      "Elaplsed 00:00:05\n",
      "Elaplsed 00:00:05\n",
      "Elaplsed 00:00:05\n",
      "Elaplsed 00:00:05\n",
      "Mono accuracy: 0.7463\n"
     ]
    }
   ],
   "source": [
    "avg = 0\n",
    "for seed in range(10):\n",
    "    monogcn,monogcnstd,monogcns = eval_multiple(cora,[64],SAGEConv,runs=10,epochs=200,split_seed=seed,\n",
    "                                                architecture=BiModel)\n",
    "    avg += monogcn / 10\n",
    "print('Mono accuracy: {:.4f}'.format(avg))"
   ]
  },
  {
   "cell_type": "code",
   "execution_count": 14,
   "metadata": {},
   "outputs": [
    {
     "name": "stdout",
     "output_type": "stream",
     "text": [
      "Elaplsed 00:00:05\n",
      "Elaplsed 00:00:05\n",
      "Elaplsed 00:00:05\n",
      "Elaplsed 00:00:05\n",
      "Elaplsed 00:00:05\n",
      "Elaplsed 00:00:05\n",
      "Elaplsed 00:00:04\n",
      "Elaplsed 00:00:04\n",
      "Elaplsed 00:00:04\n",
      "Elaplsed 00:00:04\n",
      "Mono accuracy: 0.7429\n"
     ]
    }
   ],
   "source": [
    "avg = 0\n",
    "for seed in range(10):\n",
    "    monogcn,monogcnstd,monogcns = eval_multiple(cora,[45],SAGEConv,runs=10,epochs=200,split_seed=seed,\n",
    "                                                architecture=TriModel)\n",
    "    avg += monogcn / 10\n",
    "print('Mono accuracy: {:.4f}'.format(avg))"
   ]
  },
  {
   "cell_type": "code",
   "execution_count": 54,
   "metadata": {},
   "outputs": [],
   "source": [
    "model= MonoModel(GCNConv,cora,[8])"
   ]
  },
  {
   "cell_type": "code",
   "execution_count": 89,
   "metadata": {},
   "outputs": [],
   "source": [
    "split0 = NetworkSplit(cora[0])"
   ]
  },
  {
   "cell_type": "code",
   "execution_count": 96,
   "metadata": {},
   "outputs": [
    {
     "data": {
      "text/plain": [
       "601"
      ]
     },
     "execution_count": 96,
     "metadata": {},
     "output_type": "execute_result"
    }
   ],
   "source": [
    "(split0.train_mask | (split0.val_mask)).sum().item()"
   ]
  },
  {
   "cell_type": "markdown",
   "metadata": {},
   "source": [
    "### GCN"
   ]
  },
  {
   "cell_type": "code",
   "execution_count": 25,
   "metadata": {},
   "outputs": [
    {
     "name": "stdout",
     "output_type": "stream",
     "text": [
      "Elaplsed 00:03:52\n",
      "Mono accuracy: 0.2926+-0.0196\n"
     ]
    }
   ],
   "source": [
    "monogcn,monogcnstd,monogcns = eval_multiple(coraConfDirected,[128],GCNConv,runs=100,epochs=200)\n",
    "print('Mono accuracy: {:.4f}+-{:.4f}'.format(monogcn,monogcnstd))"
   ]
  },
  {
   "cell_type": "code",
   "execution_count": 26,
   "metadata": {},
   "outputs": [
    {
     "name": "stdout",
     "output_type": "stream",
     "text": [
      "Elaplsed 00:02:08\n",
      "Mono accuracy: 0.3161+-0.0118\n"
     ]
    }
   ],
   "source": [
    "monogcn,monogcnstd,monogcns = eval_multiple(coraConfReversed,[128],GCNConv,runs=100,epochs=200)\n",
    "print('Mono accuracy: {:.4f}+-{:.4f}'.format(monogcn,monogcnstd))"
   ]
  },
  {
   "cell_type": "code",
   "execution_count": 29,
   "metadata": {},
   "outputs": [
    {
     "name": "stdout",
     "output_type": "stream",
     "text": [
      "Elaplsed 00:02:28\n",
      "Mono accuracy: 0.3269+-0.0262\n"
     ]
    }
   ],
   "source": [
    "monogcn,monogcnstd,monogcns = eval_multiple(citeseerConfDirected,[128],GCNConv,runs=100,epochs=200)\n",
    "print('Mono accuracy: {:.4f}+-{:.4f}'.format(monogcn,monogcnstd))"
   ]
  },
  {
   "cell_type": "code",
   "execution_count": 31,
   "metadata": {},
   "outputs": [
    {
     "name": "stdout",
     "output_type": "stream",
     "text": [
      "Elaplsed 00:02:30\n",
      "Mono accuracy: 0.3490+-0.0145\n"
     ]
    }
   ],
   "source": [
    "monogcn,monogcnstd,monogcns = eval_multiple(citeseerConfReversed,[128],GCNConv,runs=100,epochs=200)\n",
    "print('Mono accuracy: {:.4f}+-{:.4f}'.format(monogcn,monogcnstd))"
   ]
  },
  {
   "cell_type": "code",
   "execution_count": 30,
   "metadata": {},
   "outputs": [
    {
     "name": "stdout",
     "output_type": "stream",
     "text": [
      "Elaplsed 00:02:52\n",
      "Mono accuracy: 0.5589+-0.0201\n"
     ]
    }
   ],
   "source": [
    "monogcn,monogcnstd,monogcns = eval_multiple(PubMedConfDirected,[128],GCNConv,runs=100,epochs=200)\n",
    "print('Mono accuracy: {:.4f}+-{:.4f}'.format(monogcn,monogcnstd))"
   ]
  },
  {
   "cell_type": "code",
   "execution_count": 32,
   "metadata": {},
   "outputs": [
    {
     "name": "stdout",
     "output_type": "stream",
     "text": [
      "Elaplsed 00:03:02\n",
      "Mono accuracy: 0.5972+-0.0054\n"
     ]
    }
   ],
   "source": [
    "monogcn,monogcnstd,monogcns = eval_multiple(PubMedConfReversed,[128],GCNConv,runs=100,epochs=200)\n",
    "print('Mono accuracy: {:.4f}+-{:.4f}'.format(monogcn,monogcnstd))"
   ]
  },
  {
   "cell_type": "code",
   "execution_count": 16,
   "metadata": {},
   "outputs": [
    {
     "name": "stdout",
     "output_type": "stream",
     "text": [
      "Elaplsed 00:04:44\n",
      "Mono accuracy: 0.7026+-0.0108\n",
      "Elaplsed 00:03:35\n",
      "Mono accuracy: 0.6541+-0.0190\n"
     ]
    }
   ],
   "source": [
    "monogcn,monogcnstd,monogcns = eval_multiple(coraDirected,[128],GCNConv,runs=100,epochs=200)\n",
    "print('Mono accuracy: {:.4f}+-{:.4f}'.format(monogcn,monogcnstd))\n",
    "monogcn,monogcnstd,monogcns = eval_multiple(citeseerDirected,[128],GCNConv,runs=100,epochs=200)\n",
    "print('Mono accuracy: {:.4f}+-{:.4f}'.format(monogcn,monogcnstd))"
   ]
  },
  {
   "cell_type": "code",
   "execution_count": 13,
   "metadata": {},
   "outputs": [
    {
     "name": "stdout",
     "output_type": "stream",
     "text": [
      "Elaplsed 00:03:26\n",
      "Mono accuracy: 0.6575+-0.0075\n"
     ]
    }
   ],
   "source": [
    "monogcn,monogcnstd,monogcns = eval_multiple(PubMedDirected,[128],GCNConv,runs=100,epochs=200)\n",
    "print('Mono accuracy: {:.4f}+-{:.4f}'.format(monogcn,monogcnstd))"
   ]
  },
  {
   "cell_type": "code",
   "execution_count": 17,
   "metadata": {},
   "outputs": [
    {
     "name": "stdout",
     "output_type": "stream",
     "text": [
      "Elaplsed 00:03:17\n",
      "Mono accuracy: 0.6368+-0.0120\n",
      "Elaplsed 00:03:59\n",
      "Mono accuracy: 0.6290+-0.0104\n"
     ]
    }
   ],
   "source": [
    "monogcn,monogcnstd,monogcns = eval_multiple(coraReversed,[128],GCNConv,runs=100,epochs=200)\n",
    "print('Mono accuracy: {:.4f}+-{:.4f}'.format(monogcn,monogcnstd))\n",
    "monogcn,monogcnstd,monogcns = eval_multiple(citeseerReversed,[128],GCNConv,runs=100,epochs=200)\n",
    "print('Mono accuracy: {:.4f}+-{:.4f}'.format(monogcn,monogcnstd))"
   ]
  },
  {
   "cell_type": "code",
   "execution_count": 12,
   "metadata": {},
   "outputs": [
    {
     "name": "stdout",
     "output_type": "stream",
     "text": [
      "Elaplsed 00:02:57\n",
      "Mono accuracy: 0.6680+-0.0045\n"
     ]
    }
   ],
   "source": [
    "monogcn,monogcnstd,monogcns = eval_multiple(PubMedReversed,[128],GCNConv,runs=100,epochs=200)\n",
    "print('Mono accuracy: {:.4f}+-{:.4f}'.format(monogcn,monogcnstd))"
   ]
  },
  {
   "cell_type": "code",
   "execution_count": 23,
   "metadata": {},
   "outputs": [
    {
     "name": "stdout",
     "output_type": "stream",
     "text": [
      "Elaplsed 00:02:38\n",
      "Mono accuracy: 0.8093\n",
      "Elaplsed 00:02:05\n",
      "Bi   accuracy: 0.8049\n",
      "Elaplsed 00:02:05\n",
      "Tri  accuracy: 0.8021\n",
      "Elaplsed 00:02:31\n",
      "Mono accuracy: 0.7212\n",
      "Elaplsed 00:02:15\n",
      "Bi   accuracy: 0.7189\n",
      "Elaplsed 00:02:27\n",
      "Tri  accuracy: 0.7179\n",
      "Elaplsed 00:03:57\n",
      "Mono accuracy: 0.7734\n",
      "Elaplsed 00:02:50\n",
      "Bi   accuracy: 0.7721\n",
      "Elaplsed 00:02:32\n",
      "Tri  accuracy: 0.7716\n"
     ]
    }
   ],
   "source": [
    "eval_all(GCNConv,cora,[128],[64],[42])\n",
    "eval_all(GCNConv,citeseer,[128],[64],[42])\n",
    "eval_all(GCNConv,PubMed,[128],[64],[42],runs=100)"
   ]
  },
  {
   "cell_type": "code",
   "execution_count": 17,
   "metadata": {},
   "outputs": [
    {
     "name": "stdout",
     "output_type": "stream",
     "text": [
      "Elaplsed 00:03:11\n",
      "Mono accuracy: 0.8096\n",
      "Elaplsed 00:02:59\n",
      "Bi   accuracy: 0.8036\n",
      "Elaplsed 00:02:57\n",
      "Tri  accuracy: 0.8019\n"
     ]
    }
   ],
   "source": [
    "eval_all(GCNConv,cora,[128],[64],[42])"
   ]
  },
  {
   "cell_type": "code",
   "execution_count": 20,
   "metadata": {},
   "outputs": [
    {
     "name": "stdout",
     "output_type": "stream",
     "text": [
      "Elaplsed 00:03:45\n",
      "Mono accuracy: 0.7218\n",
      "Elaplsed 00:03:27\n",
      "Bi   accuracy: 0.7192\n",
      "Elaplsed 00:03:24\n",
      "Tri  accuracy: 0.7171\n"
     ]
    }
   ],
   "source": [
    "eval_all(GCNConv,citeseer,[128],[64],[42])"
   ]
  },
  {
   "cell_type": "code",
   "execution_count": 8,
   "metadata": {},
   "outputs": [
    {
     "name": "stdout",
     "output_type": "stream",
     "text": [
      "Elaplsed 00:05:03\n",
      "Mono accuracy: 0.7729\n",
      "Elaplsed 00:07:13\n",
      "Bi   accuracy: 0.7725\n",
      "Elaplsed 00:03:11\n",
      "Tri  accuracy: 0.7720\n"
     ]
    }
   ],
   "source": [
    "eval_all(GCNConv,PubMed,[128],[64],[42],runs=100)"
   ]
  },
  {
   "cell_type": "markdown",
   "metadata": {},
   "source": [
    "### SAGE"
   ]
  },
  {
   "cell_type": "code",
   "execution_count": 33,
   "metadata": {},
   "outputs": [
    {
     "name": "stdout",
     "output_type": "stream",
     "text": [
      "Elaplsed 00:01:40\n",
      "Mono accuracy: 0.7320+-0.0113\n",
      "Elaplsed 00:02:03\n",
      "Mono accuracy: 0.6821+-0.0112\n"
     ]
    }
   ],
   "source": [
    "monogcn,monogcnstd,monogcns = eval_multiple(coraDirected,[128],SAGEConv,lr=0.1,wd=1e-5,runs=100,epochs=200)\n",
    "print('Mono accuracy: {:.4f}+-{:.4f}'.format(monogcn,monogcnstd))\n",
    "monogcn,monogcnstd,monogcns = eval_multiple(citeseerDirected,[128],SAGEConv,lr=0.1,wd=1e-5,runs=100,epochs=200)\n",
    "print('Mono accuracy: {:.4f}+-{:.4f}'.format(monogcn,monogcnstd))"
   ]
  },
  {
   "cell_type": "code",
   "execution_count": 15,
   "metadata": {},
   "outputs": [
    {
     "name": "stdout",
     "output_type": "stream",
     "text": [
      "Elaplsed 00:03:59\n",
      "Mono accuracy: 0.6816+-0.0090\n"
     ]
    }
   ],
   "source": [
    "monogcn,monogcnstd,monogcns = eval_multiple(PubMedDirected,[128],SAGEConv,lr=0.1,wd=1e-5,runs=100,epochs=200)\n",
    "print('Mono accuracy: {:.4f}+-{:.4f}'.format(monogcn,monogcnstd))"
   ]
  },
  {
   "cell_type": "code",
   "execution_count": 34,
   "metadata": {
    "scrolled": true
   },
   "outputs": [
    {
     "name": "stdout",
     "output_type": "stream",
     "text": [
      "Elaplsed 00:01:40\n",
      "Mono accuracy: 0.6675+-0.0126\n",
      "Elaplsed 00:02:04\n",
      "Mono accuracy: 0.6229+-0.0239\n"
     ]
    }
   ],
   "source": [
    "monogcn,monogcnstd,monogcns = eval_multiple(coraReversed,[128],SAGEConv,lr=0.1,wd=1e-5,runs=100,epochs=200)\n",
    "print('Mono accuracy: {:.4f}+-{:.4f}'.format(monogcn,monogcnstd))\n",
    "monogcn,monogcnstd,monogcns = eval_multiple(citeseerReversed,[128],SAGEConv,lr=0.1,wd=1e-5,runs=100,epochs=200)\n",
    "print('Mono accuracy: {:.4f}+-{:.4f}'.format(monogcn,monogcnstd))\n"
   ]
  },
  {
   "cell_type": "code",
   "execution_count": 14,
   "metadata": {
    "scrolled": true
   },
   "outputs": [
    {
     "name": "stdout",
     "output_type": "stream",
     "text": [
      "Elaplsed 00:03:56\n",
      "Mono accuracy: 0.6921+-0.0092\n"
     ]
    }
   ],
   "source": [
    "monogcn,monogcnstd,monogcns = eval_multiple(PubMedReversed,[128],SAGEConv,lr=0.1,wd=1e-5,runs=100,epochs=200)\n",
    "print('Mono accuracy: {:.4f}+-{:.4f}'.format(monogcn,monogcnstd))"
   ]
  },
  {
   "cell_type": "code",
   "execution_count": 35,
   "metadata": {},
   "outputs": [
    {
     "name": "stdout",
     "output_type": "stream",
     "text": [
      "Elaplsed 00:01:47\n",
      "Mono accuracy: 0.2034+-0.0435\n",
      "Elaplsed 00:02:07\n",
      "Mono accuracy: 0.2685+-0.0209\n",
      "Elaplsed 00:03:10\n",
      "Mono accuracy: 0.4124+-0.0173\n"
     ]
    }
   ],
   "source": [
    "monogcn,monogcnstd,monogcns = eval_multiple(coraConfDirected,[128],SAGEConv,lr=0.1,wd=1e-5,runs=100,epochs=200)\n",
    "print('Mono accuracy: {:.4f}+-{:.4f}'.format(monogcn,monogcnstd))\n",
    "monogcn,monogcnstd,monogcns = eval_multiple(citeseerConfDirected,[128],SAGEConv,lr=0.1,wd=1e-5,runs=100,epochs=200)\n",
    "print('Mono accuracy: {:.4f}+-{:.4f}'.format(monogcn,monogcnstd))\n",
    "monogcn,monogcnstd,monogcns = eval_multiple(PubMedConfDirected,[128],SAGEConv,lr=0.1,wd=1e-5,runs=100,epochs=200)\n",
    "print('Mono accuracy: {:.4f}+-{:.4f}'.format(monogcn,monogcnstd))"
   ]
  },
  {
   "cell_type": "code",
   "execution_count": 37,
   "metadata": {},
   "outputs": [
    {
     "name": "stdout",
     "output_type": "stream",
     "text": [
      "Elaplsed 00:00:53\n",
      "Mono accuracy: 0.2674+-0.0215\n",
      "Elaplsed 00:01:03\n",
      "Mono accuracy: 0.2658+-0.0173\n",
      "Elaplsed 00:01:34\n",
      "Mono accuracy: 0.5926+-0.0099\n"
     ]
    }
   ],
   "source": [
    "monogcn,monogcnstd,monogcns = eval_multiple(coraConfReversed,[128],SAGEConv,lr=0.1,wd=1e-5,runs=50,epochs=200)\n",
    "print('Mono accuracy: {:.4f}+-{:.4f}'.format(monogcn,monogcnstd))\n",
    "monogcn,monogcnstd,monogcns = eval_multiple(citeseerConfReversed,[128],SAGEConv,lr=0.1,wd=1e-5,runs=50,epochs=200)\n",
    "print('Mono accuracy: {:.4f}+-{:.4f}'.format(monogcn,monogcnstd))\n",
    "monogcn,monogcnstd,monogcns = eval_multiple(PubMedConfReversed,[128],SAGEConv,lr=0.1,wd=1e-5,runs=50,epochs=200)\n",
    "print('Mono accuracy: {:.4f}+-{:.4f}'.format(monogcn,monogcnstd))"
   ]
  },
  {
   "cell_type": "code",
   "execution_count": 41,
   "metadata": {},
   "outputs": [
    {
     "name": "stdout",
     "output_type": "stream",
     "text": [
      "Elaplsed 00:00:53\n",
      "Mono accuracy: 0.2650+-0.0194\n",
      "Elaplsed 00:00:54\n",
      "Bi   accuracy: 0.3101+-0.0153\n",
      "Elaplsed 00:00:54\n",
      "Tri  accuracy: 0.3042+-0.0176\n",
      "Elaplsed 00:01:04\n",
      "Mono accuracy: 0.3002+-0.0312\n",
      "Elaplsed 00:00:56\n",
      "Bi   accuracy: 0.3455+-0.0201\n",
      "Elaplsed 00:00:54\n",
      "Tri  accuracy: 0.3403+-0.0144\n",
      "Elaplsed 00:01:44\n",
      "Mono accuracy: 0.4851+-0.0149\n",
      "Elaplsed 00:01:15\n",
      "Bi   accuracy: 0.4836+-0.0155\n",
      "Elaplsed 00:01:06\n",
      "Tri  accuracy: 0.4838+-0.0158\n"
     ]
    }
   ],
   "source": [
    "eval_all_SAGE(coraConf,[128],[64],[42],runs=50)\n",
    "eval_all_SAGE(citeseerConf,[128],[64],[42],runs=50)\n",
    "eval_all_SAGE(PubMedConf,[128],[64],[42],runs=50)"
   ]
  },
  {
   "cell_type": "code",
   "execution_count": 19,
   "metadata": {
    "scrolled": false
   },
   "outputs": [
    {
     "name": "stdout",
     "output_type": "stream",
     "text": [
      "Elaplsed 00:02:19\n",
      "Mono accuracy: 0.8045\n",
      "Elaplsed 00:02:27\n",
      "Bi   accuracy: 0.8005\n",
      "Elaplsed 00:03:13\n",
      "Tri  accuracy: 0.7979\n"
     ]
    }
   ],
   "source": [
    "eval_all_SAGE(cora,[128],[64],[42])"
   ]
  },
  {
   "cell_type": "code",
   "execution_count": 20,
   "metadata": {},
   "outputs": [
    {
     "name": "stdout",
     "output_type": "stream",
     "text": [
      "Elaplsed 00:04:00\n",
      "Mono accuracy: 0.7214\n",
      "Elaplsed 00:04:43\n",
      "Bi   accuracy: 0.7300\n",
      "Elaplsed 00:04:33\n",
      "Tri  accuracy: 0.7273\n"
     ]
    }
   ],
   "source": [
    "eval_all_SAGE(citeseer,[128],[64],[42])"
   ]
  },
  {
   "cell_type": "code",
   "execution_count": 21,
   "metadata": {},
   "outputs": [
    {
     "name": "stdout",
     "output_type": "stream",
     "text": [
      "Elaplsed 00:08:02\n",
      "Mono accuracy: 0.7707\n",
      "Elaplsed 00:06:13\n",
      "Bi   accuracy: 0.7764\n",
      "Elaplsed 00:04:54\n",
      "Tri  accuracy: 0.7783\n"
     ]
    }
   ],
   "source": [
    "eval_all_SAGE(PubMed,[128],[64],[42],runs=100)"
   ]
  },
  {
   "cell_type": "markdown",
   "metadata": {},
   "source": [
    "OLD"
   ]
  },
  {
   "cell_type": "code",
   "execution_count": 22,
   "metadata": {
    "scrolled": true
   },
   "outputs": [
    {
     "name": "stdout",
     "output_type": "stream",
     "text": [
      "Elaplsed 00:02:21\n",
      "Mono accuracy: 0.8029\n",
      "Elaplsed 00:02:18\n",
      "Bi   accuracy: 0.7998\n",
      "Elaplsed 00:02:19\n",
      "Tri  accuracy: 0.8003\n"
     ]
    }
   ],
   "source": [
    "eval_all(SAGEConv,cora,[128],[64],[42])"
   ]
  },
  {
   "cell_type": "code",
   "execution_count": 23,
   "metadata": {},
   "outputs": [
    {
     "name": "stdout",
     "output_type": "stream",
     "text": [
      "Elaplsed 00:02:42\n",
      "Mono accuracy: 0.7196\n",
      "Elaplsed 00:01:48\n",
      "Bi   accuracy: 0.7164\n",
      "Elaplsed 00:01:43\n",
      "Tri  accuracy: 0.7122\n"
     ]
    }
   ],
   "source": [
    "eval_all(SAGEConv,citeseer,[128],[64],[42])"
   ]
  },
  {
   "cell_type": "code",
   "execution_count": 9,
   "metadata": {
    "scrolled": true
   },
   "outputs": [
    {
     "name": "stdout",
     "output_type": "stream",
     "text": [
      "Elaplsed 00:04:16\n",
      "Mono accuracy: 0.7728\n",
      "Elaplsed 00:06:08\n",
      "Bi   accuracy: 0.7702\n",
      "Elaplsed 00:06:08\n",
      "Tri  accuracy: 0.7703\n"
     ]
    }
   ],
   "source": [
    "eval_all(SAGEConv,PubMed,[128],[64],[42],runs=100)"
   ]
  },
  {
   "cell_type": "markdown",
   "metadata": {},
   "source": [
    "---------------------------------------- The rest is test --------------------------------------------"
   ]
  },
  {
   "cell_type": "code",
   "execution_count": 15,
   "metadata": {
    "scrolled": true
   },
   "outputs": [
    {
     "name": "stdout",
     "output_type": "stream",
     "text": [
      "Elaplsed 00:03:13\n",
      "Mono accuracy: 0.7970\n",
      "Elaplsed 00:03:03\n",
      "Bi   accuracy: 0.7813\n",
      "Elaplsed 00:03:03\n",
      "Tri  accuracy: 0.7425\n"
     ]
    }
   ],
   "source": [
    "eval_all(GCNConv,cora,[16],[8],[5])"
   ]
  },
  {
   "cell_type": "code",
   "execution_count": 16,
   "metadata": {},
   "outputs": [
    {
     "name": "stdout",
     "output_type": "stream",
     "text": [
      "Elaplsed 00:03:05\n",
      "Mono accuracy: 0.8043\n",
      "Elaplsed 00:03:03\n",
      "Bi   accuracy: 0.8017\n",
      "Elaplsed 00:03:04\n",
      "Tri  accuracy: 0.7995\n"
     ]
    }
   ],
   "source": [
    "eval_all(GCNConv,cora,[64],[32],[20])"
   ]
  },
  {
   "cell_type": "markdown",
   "metadata": {},
   "source": []
  },
  {
   "cell_type": "code",
   "execution_count": 18,
   "metadata": {},
   "outputs": [
    {
     "name": "stdout",
     "output_type": "stream",
     "text": [
      "Elaplsed 00:03:01\n",
      "Mono accuracy: 0.7175\n",
      "Elaplsed 00:03:01\n",
      "Bi   accuracy: 0.7054\n",
      "Elaplsed 00:03:05\n",
      "Tri  accuracy: 0.6618\n"
     ]
    }
   ],
   "source": [
    "eval_all(GCNConv,citeseer,[16],[8],[5])"
   ]
  },
  {
   "cell_type": "code",
   "execution_count": 19,
   "metadata": {},
   "outputs": [
    {
     "name": "stdout",
     "output_type": "stream",
     "text": [
      "Elaplsed 00:03:38\n",
      "Mono accuracy: 0.7197\n",
      "Elaplsed 00:03:15\n",
      "Bi   accuracy: 0.7170\n",
      "Elaplsed 00:03:12\n",
      "Tri  accuracy: 0.7186\n"
     ]
    }
   ],
   "source": [
    "eval_all(GCNConv,citeseer,[64],[32],[20])"
   ]
  },
  {
   "cell_type": "code",
   "execution_count": null,
   "metadata": {},
   "outputs": [],
   "source": []
  },
  {
   "cell_type": "code",
   "execution_count": null,
   "metadata": {},
   "outputs": [],
   "source": []
  }
 ],
 "metadata": {
  "kernelspec": {
   "display_name": "Python 3",
   "language": "python",
   "name": "python3"
  }
 },
 "nbformat": 4,
 "nbformat_minor": 2
}
