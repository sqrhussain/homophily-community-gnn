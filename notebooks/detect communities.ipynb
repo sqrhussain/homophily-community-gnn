{
 "cells": [
  {
   "cell_type": "code",
   "execution_count": 3,
   "metadata": {},
   "outputs": [],
   "source": [
    "import sys\n",
    "sys.path.insert(0,'..')\n",
    "from src.data.create_stochastic_block_model import create_louvain_communities_dict,store_in_file,create_graph_and_node_mappings_from_file\n",
    "from src.data.data_loader import GraphDataset\n",
    "from torch_geometric.utils import to_networkx\n",
    "import seaborn as sns\n",
    "import matplotlib.pyplot as plt"
   ]
  },
  {
   "cell_type": "code",
   "execution_count": 4,
   "metadata": {},
   "outputs": [],
   "source": [
    "def detect_and_store_communities(graph_path, ouput_path):\n",
    "    graph, node_mappings, reverse_node_mappings = create_graph_and_node_mappings_from_file(graph_path)\n",
    "    node_communities_louvain = create_louvain_communities_dict(graph, reverse_node_mappings)\n",
    "    store_in_file(node_communities_louvain, ouput_path)"
   ]
  },
  {
   "cell_type": "code",
   "execution_count": 5,
   "metadata": {},
   "outputs": [],
   "source": [
    "datasets = datasets = 'twitter'.split()"
   ]
  },
  {
   "cell_type": "code",
   "execution_count": 7,
   "metadata": {},
   "outputs": [],
   "source": [
    "for dataset in datasets:\n",
    "    i = 0\n",
    "    detect_and_store_communities(f'../data/graphs/processed/{dataset}/{dataset}.cites',f'../data/community_id_dicts/{dataset}/{dataset}_louvain.pickle')\n",
    "#     data = GraphDataset(f'../data/tmp/{dataset}_directed-confmodel{i}', dataset,\n",
    "#                        f'../data/graphs/confmodel/{dataset}/{dataset}_confmodel_{i}.cites',\n",
    "#                        f'../data/graphs/processed/{dataset}/{dataset}.content',\n",
    "#                        directed=True, reverse=False)[0]\n",
    "#     G = to_networkx(data)"
   ]
  },
  {
   "cell_type": "code",
   "execution_count": null,
   "metadata": {},
   "outputs": [],
   "source": []
  }
 ],
 "metadata": {
  "kernelspec": {
   "display_name": "Python 3",
   "language": "python",
   "name": "python3"
  },
  "language_info": {
   "codemirror_mode": {
    "name": "ipython",
    "version": 3
   },
   "file_extension": ".py",
   "mimetype": "text/x-python",
   "name": "python",
   "nbconvert_exporter": "python",
   "pygments_lexer": "ipython3",
   "version": "3.7.5"
  }
 },
 "nbformat": 4,
 "nbformat_minor": 4
}
