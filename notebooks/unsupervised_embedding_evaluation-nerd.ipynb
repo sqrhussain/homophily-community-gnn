{
 "cells": [
  {
   "cell_type": "code",
   "execution_count": 1,
   "metadata": {},
   "outputs": [],
   "source": [
    "from embedding_evaluation_framework import EmbeddingData, eval_n2v\n",
    "import pandas as pd\n",
    "import numpy as np\n",
    "import os"
   ]
  },
  {
   "cell_type": "code",
   "execution_count": 2,
   "metadata": {},
   "outputs": [],
   "source": [
    "lrs = [0.005,0.025,0.125]\n",
    "negs = [5,10,15,20]"
   ]
  },
  {
   "cell_type": "code",
   "execution_count": 3,
   "metadata": {},
   "outputs": [],
   "source": [
    "inits = 20\n",
    "splits = 100"
   ]
  },
  {
   "cell_type": "code",
   "execution_count": 4,
   "metadata": {},
   "outputs": [],
   "source": [
    "val_out = 'eval/nerd.csv'"
   ]
  },
  {
   "cell_type": "code",
   "execution_count": 5,
   "metadata": {},
   "outputs": [],
   "source": [
    "if os.path.exists(val_out):\n",
    "    df_nerd = pd.read_csv(val_out)\n",
    "else:\n",
    "    df_nerd = pd.DataFrame(columns='splits inits type lr neg val_acc val_avg val_std'.split())\n",
    "# df_nerd"
   ]
  },
  {
   "cell_type": "code",
   "execution_count": 6,
   "metadata": {},
   "outputs": [],
   "source": [
    "def contains(df_val,tp,lr,neg):\n",
    "    return ((df_val['type']==tp) & (df_val['lr']==lr) & (df_val['neg']==neg)).any()\n"
   ]
  },
  {
   "cell_type": "code",
   "execution_count": 7,
   "metadata": {},
   "outputs": [
    {
     "data": {
      "text/html": [
       "<div>\n",
       "<style scoped>\n",
       "    .dataframe tbody tr th:only-of-type {\n",
       "        vertical-align: middle;\n",
       "    }\n",
       "\n",
       "    .dataframe tbody tr th {\n",
       "        vertical-align: top;\n",
       "    }\n",
       "\n",
       "    .dataframe thead th {\n",
       "        text-align: right;\n",
       "    }\n",
       "</style>\n",
       "<table border=\"1\" class=\"dataframe\">\n",
       "  <thead>\n",
       "    <tr style=\"text-align: right;\">\n",
       "      <th></th>\n",
       "      <th>splits</th>\n",
       "      <th>inits</th>\n",
       "      <th>type</th>\n",
       "      <th>lr</th>\n",
       "      <th>neg</th>\n",
       "      <th>val_acc</th>\n",
       "      <th>val_avg</th>\n",
       "      <th>val_std</th>\n",
       "    </tr>\n",
       "  </thead>\n",
       "  <tbody>\n",
       "  </tbody>\n",
       "</table>\n",
       "</div>"
      ],
      "text/plain": [
       "Empty DataFrame\n",
       "Columns: [splits, inits, type, lr, neg, val_acc, val_avg, val_std]\n",
       "Index: []"
      ]
     },
     "execution_count": 7,
     "metadata": {},
     "output_type": "execute_result"
    }
   ],
   "source": [
    "df_nerd"
   ]
  },
  {
   "cell_type": "code",
   "execution_count": null,
   "metadata": {},
   "outputs": [
    {
     "name": "stdout",
     "output_type": "stream",
     "text": [
      "evaluating type=hub lr=0.005, neg=5\n",
      " init 0\n",
      " init 1\n",
      " init 2\n",
      "Processing...\n",
      "0\n",
      "0\n",
      "Done!\n",
      " init 3\n",
      "Processing...\n",
      "0\n",
      "0\n",
      "Done!\n"
     ]
    }
   ],
   "source": [
    "for neg in negs:\n",
    "    for lr in lrs:\n",
    "        for tp in ['hub','aut']:\n",
    "            if contains(df_nerd,tp,lr,neg):\n",
    "                print('already calculated!')\n",
    "                continue\n",
    "            print(f'evaluating type={tp} lr={lr}, neg={neg}')\n",
    "            vals = []\n",
    "            tests = []\n",
    "            for init in range(inits):\n",
    "                print(f' init {init}')\n",
    "                target_path = f'../data/repeated-embedding/nerd/{init}/cora.line_{neg}_{lr}.undirected.{tp}.emb'\n",
    "                if not os.path.exists(target_path):\n",
    "                    print(f'{target_path} does not exist')\n",
    "                emb = EmbeddingData(f'/tmp/nerdUndlr{lr}neg{neg}EmbCoraInit{init}','cora',f'line_{neg}_{lr}',directed=False,initialization=f'nerd/{init}',nerd='aut')\n",
    "                val = eval_n2v(emb[0],num_splits=splits)\n",
    "                vals = vals + val\n",
    "    #             tests = tests + test\n",
    "            df_nerd = df_nerd.append({'splits':splits, 'inits':inits, 'type':tp, 'lr':lr, 'neg':neg,\n",
    "                                    'val_acc':vals, 'val_avg':np.mean(vals), 'val_std':np.std(vals),\n",
    "    #                                 'test_acc':tests, 'test_avg':np.mean(tests), 'test_std':np.std(tests)\n",
    "                                   },ignore_index=True)\n",
    "            df_nerd.to_csv(val_out,index=False)"
   ]
  },
  {
   "cell_type": "code",
   "execution_count": null,
   "metadata": {},
   "outputs": [],
   "source": [
    "df_nerd"
   ]
  },
  {
   "cell_type": "code",
   "execution_count": null,
   "metadata": {},
   "outputs": [],
   "source": []
  }
 ],
 "metadata": {
  "kernelspec": {
   "display_name": "Python 3",
   "language": "python",
   "name": "python3"
  },
  "language_info": {
   "codemirror_mode": {
    "name": "ipython",
    "version": 3
   },
   "file_extension": ".py",
   "mimetype": "text/x-python",
   "name": "python",
   "nbconvert_exporter": "python",
   "pygments_lexer": "ipython3",
   "version": "3.7.5"
  }
 },
 "nbformat": 4,
 "nbformat_minor": 4
}
