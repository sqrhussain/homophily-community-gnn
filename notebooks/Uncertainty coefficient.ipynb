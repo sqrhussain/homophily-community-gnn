{
 "cells": [
  {
   "cell_type": "code",
   "execution_count": 1,
   "metadata": {},
   "outputs": [],
   "source": [
    "import seaborn as sns\n",
    "import matplotlib.pyplot as plt\n",
    "from torch_geometric.utils import to_networkx\n",
    "import networkx as nx\n",
    "import numpy as np\n",
    "import sys\n",
    "import pandas as pd\n",
    "sys.path.insert(0,'..')\n",
    "from src.data.data_loader import GraphDataset\n",
    "import pickle\n",
    "from src.evaluation.network_split import NetworkSplitShchur"
   ]
  },
  {
   "cell_type": "code",
   "execution_count": 2,
   "metadata": {},
   "outputs": [],
   "source": [
    "datasets = 'cora citeseer pubmed cora_full twitter webkb'.split()"
   ]
  },
  {
   "cell_type": "code",
   "execution_count": 3,
   "metadata": {},
   "outputs": [],
   "source": [
    "def load_communities(path):\n",
    "    with open(path, 'rb') as handle:\n",
    "        ret = pickle.load(handle)\n",
    "    return ret\n",
    "\n",
    "def load_labels(path):\n",
    "    label = {}\n",
    "    with open(path, 'r') as handle:\n",
    "        label = {}\n",
    "        for line in handle:\n",
    "            s = line.strip().split()\n",
    "            label[s[0]] = s[-1]\n",
    "    return label\n",
    "def agg(x):\n",
    "    return len(x.unique())"
   ]
  },
  {
   "cell_type": "code",
   "execution_count": 4,
   "metadata": {},
   "outputs": [],
   "source": [
    "def calc_uncertainty(df_community,dataset_name,labeled=False,seed=0):\n",
    "    \n",
    "    if dataset_name == 'cora':\n",
    "        df_community.label = df_community.label.apply(lambda x : ''.join([c for c in x if c.isupper()]))\n",
    "    \n",
    "    if labeled:\n",
    "        df_community = df_community[df_community[f'labeled{seed}']]\n",
    "    communities = df_community.community.unique()\n",
    "    labels = df_community.label.unique()\n",
    "\n",
    "    mtx = df_community.pivot_table(index='community', columns='label',values='node',aggfunc=agg).fillna(0) / len(df_community)\n",
    "    \n",
    "    def Pmarg(c):\n",
    "        return len(df_community[df_community.community == c]) / len(df_community)\n",
    "    \n",
    "    def Pcond(l,c):\n",
    "        return mtx.loc[c,l]/Pmarg(c)\n",
    "    \n",
    "    H = 0\n",
    "    for c in communities:\n",
    "        h = 0\n",
    "        for l in labels:\n",
    "            if Pcond(l,c) == 0:\n",
    "                continue\n",
    "            h += Pcond(l,c) * np.log2(1./Pcond(l,c))\n",
    "        H += h * Pmarg(c)\n",
    "    \n",
    "    def Pl(l):\n",
    "        return len(df_community[df_community.label == l]) / len(df_community)\n",
    "    \n",
    "    Hl = 0\n",
    "    for l in labels:\n",
    "        if Pl(l) == 0:\n",
    "            continue\n",
    "        Hl += Pl(l) * np.log2(1./Pl(l))\n",
    "    \n",
    "    IG = Hl-H\n",
    "    return IG/Hl\n"
   ]
  },
  {
   "cell_type": "code",
   "execution_count": 5,
   "metadata": {},
   "outputs": [
    {
     "name": "stdout",
     "output_type": "stream",
     "text": [
      "cora\n",
      "citeseer\n",
      "pubmed\n",
      "cora_full\n",
      "twitter\n",
      "webkb\n"
     ]
    }
   ],
   "source": [
    "relIG = {}\n",
    "isDirected = False\n",
    "isReversed = False\n",
    "splits = 20\n",
    "for dataset_name in datasets:\n",
    "    print(dataset_name)\n",
    "    dataset = GraphDataset(f'../data/tmp/{dataset_name}{(\"_\" + directionality) if isDirected else \"\"}-', dataset_name,\n",
    "                           f'../data/graphs/processed/{dataset_name}/{dataset_name}.cites',\n",
    "                           f'../data/graphs/processed/{dataset_name}/{dataset_name}.content',\n",
    "                           directed=isDirected, reverse=isReversed)\n",
    "    data = dataset[0]\n",
    "    community = load_communities(f'../data/community_id_dicts/{dataset_name}/{dataset_name}_louvain.pickle')\n",
    "    mapping = data.node_name_mapping[0]\n",
    "    label = load_labels(f'../data/graphs/processed/{dataset_name}/{dataset_name}.content')\n",
    "    df_community = pd.DataFrame({'dataset':dataset_name, 'node':node, 'community':community[node], 'label':label[node]} for node in community)\n",
    "    df_community['node_id'] = df_community.node.apply(lambda x:mapping[x])\n",
    "    for seed in range(splits):\n",
    "        split = NetworkSplitShchur(dataset, train_examples_per_class=20,early_examples_per_class=0,\n",
    "             val_examples_per_class=30, split_seed=seed)\n",
    "        df_community[f'labeled{seed}'] = df_community.node_id.apply(lambda x: (split.train_mask[x]).numpy())\n",
    "    \n",
    "    ulc = [calc_uncertainty(df_community, dataset_name, True, seed) for seed in range(splits)]\n",
    "    relIG[dataset_name] = ulc"
   ]
  },
  {
   "cell_type": "code",
   "execution_count": 14,
   "metadata": {},
   "outputs": [
    {
     "name": "stdout",
     "output_type": "stream",
     "text": [
      "cora: U(L|C)=0.691±0.03\n",
      "citeseer: U(L|C)=0.647±0.04\n",
      "pubmed: U(L|C)=0.673±0.09\n",
      "cora_full: U(L|C)=0.479±0.01\n",
      "twitter: U(L|C)=0.538±0.13\n",
      "webkb: U(L|C)=0.320±0.07\n"
     ]
    }
   ],
   "source": [
    "for dataset in datasets:\n",
    "    print(f'{dataset}: U(L|C)={np.mean(relIG[dataset]):.3f}' + u\"\\u00B1\" + f'{np.std(relIG[dataset]):.2f}')"
   ]
  },
  {
   "cell_type": "code",
   "execution_count": null,
   "metadata": {},
   "outputs": [],
   "source": []
  }
 ],
 "metadata": {
  "kernelspec": {
   "display_name": "Python 3",
   "language": "python",
   "name": "python3"
  },
  "language_info": {
   "codemirror_mode": {
    "name": "ipython",
    "version": 3
   },
   "file_extension": ".py",
   "mimetype": "text/x-python",
   "name": "python",
   "nbconvert_exporter": "python",
   "pygments_lexer": "ipython3",
   "version": "3.7.5"
  }
 },
 "nbformat": 4,
 "nbformat_minor": 4
}
