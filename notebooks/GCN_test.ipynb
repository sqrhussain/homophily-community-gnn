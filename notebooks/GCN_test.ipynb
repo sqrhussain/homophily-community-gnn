{
 "cells": [
  {
   "cell_type": "code",
   "execution_count": 1,
   "metadata": {
    "scrolled": true
   },
   "outputs": [],
   "source": [
    "%matplotlib notebook\n",
    "import matplotlib.pyplot as plt\n",
    "import torch\n",
    "from cora_loader import CitationNetwork,CocitationNetwork,ConfigurationModelCitationNetwork\n",
    "from multi_layered_model import MonoModel,BiModel,TriModel\n",
    "from torch_geometric.nn import GCNConv,SAGEConv\n",
    "import time\n",
    "import torch.nn.functional as F\n",
    "import copy\n",
    "import numpy as np"
   ]
  },
  {
   "cell_type": "code",
   "execution_count": 2,
   "metadata": {},
   "outputs": [],
   "source": [
    "import random"
   ]
  },
  {
   "cell_type": "code",
   "execution_count": 3,
   "metadata": {},
   "outputs": [],
   "source": [
    "import warnings\n",
    "warnings.filterwarnings('ignore')"
   ]
  },
  {
   "cell_type": "code",
   "execution_count": 20,
   "metadata": {
    "collapsed": true
   },
   "outputs": [
    {
     "name": "stdout",
     "output_type": "stream",
     "text": [
      "Processing...\n",
      "Read features: RUNNING\n",
      "Read features: DONE\n",
      "Read edges: RUNNING\n",
      "5414\n",
      "Read edges: DONE\n",
      "False\n",
      "5414\n",
      "5414\n",
      "Done!\n"
     ]
    }
   ],
   "source": [
    "coraConfDirected = ConfigurationModelCitationNetwork('/tmp/coraConfDirected','cora',directed=True)"
   ]
  },
  {
   "cell_type": "code",
   "execution_count": 23,
   "metadata": {
    "collapsed": true
   },
   "outputs": [
    {
     "name": "stdout",
     "output_type": "stream",
     "text": [
      "Processing...\n",
      "Read features: RUNNING\n",
      "Read features: DONE\n",
      "Read edges: RUNNING\n",
      "5414\n",
      "Read edges: DONE\n",
      "True\n",
      "5414\n",
      "5414\n",
      "Done!\n"
     ]
    }
   ],
   "source": [
    "coraConfReversed = ConfigurationModelCitationNetwork('/tmp/coraConfReversed','cora',directed=True,reverse=True)"
   ]
  },
  {
   "cell_type": "code",
   "execution_count": 27,
   "metadata": {
    "collapsed": true
   },
   "outputs": [
    {
     "name": "stdout",
     "output_type": "stream",
     "text": [
      "Processing...\n",
      "Read features: RUNNING\n",
      "Read features: DONE\n",
      "Read edges: RUNNING\n",
      "4703\n",
      "Read edges: DONE\n",
      "False\n",
      "4703\n",
      "4703\n",
      "Done!\n",
      "Processing...\n",
      "Read features: RUNNING\n",
      "Read features: DONE\n",
      "Read edges: RUNNING\n",
      "44252\n",
      "Read edges: DONE\n",
      "False\n",
      "44252\n",
      "44252\n",
      "Done!\n"
     ]
    }
   ],
   "source": [
    "citeseerConfDirected = ConfigurationModelCitationNetwork('/tmp/citeseerConfDirected','citeseer',directed=True)\n",
    "PubMedConfDirected = ConfigurationModelCitationNetwork('/tmp/PubMedConfDirected','PubMed',directed=True)"
   ]
  },
  {
   "cell_type": "code",
   "execution_count": 28,
   "metadata": {
    "collapsed": true
   },
   "outputs": [
    {
     "name": "stdout",
     "output_type": "stream",
     "text": [
      "Processing...\n",
      "Read features: RUNNING\n",
      "Read features: DONE\n",
      "Read edges: RUNNING\n",
      "4703\n",
      "Read edges: DONE\n",
      "True\n",
      "4703\n",
      "4703\n",
      "Done!\n",
      "Processing...\n",
      "Read features: RUNNING\n",
      "Read features: DONE\n",
      "Read edges: RUNNING\n",
      "44252\n",
      "Read edges: DONE\n",
      "True\n",
      "44252\n",
      "44252\n",
      "Done!\n"
     ]
    }
   ],
   "source": [
    "citeseerConfReversed = ConfigurationModelCitationNetwork('/tmp/citeseerConfReversed','citeseer',directed=True,reverse=True)\n",
    "PubMedConfReversed = ConfigurationModelCitationNetwork('/tmp/PubMedConfReversed','PubMed',directed=True,reverse=True)"
   ]
  },
  {
   "cell_type": "code",
   "execution_count": 38,
   "metadata": {},
   "outputs": [],
   "source": [
    "coraConf = ConfigurationModelCitationNetwork('/tmp/coraConf','cora',directed=False)\n",
    "citeseerConf = ConfigurationModelCitationNetwork('/tmp/citeseerConf','citeseer',directed=False)\n",
    "PubMedConf = ConfigurationModelCitationNetwork('/tmp/PubMedConf','PubMed',directed=False)"
   ]
  },
  {
   "cell_type": "code",
   "execution_count": 4,
   "metadata": {},
   "outputs": [],
   "source": [
    "cora = CitationNetwork('/tmp/cora2','cora',directed=True)\n",
    "# citeseer = CitationNetwork('/tmp/citeseer','citeseer',directed=False)\n",
    "# PubMed = CitationNetwork('/tmp/PubMed','PubMed',directed=False)"
   ]
  },
  {
   "cell_type": "code",
   "execution_count": 5,
   "metadata": {},
   "outputs": [],
   "source": [
    "coraReversed = CitationNetwork('/tmp/coraReversed','cora',directed=True,reverse=True)\n",
    "citeseerReversed = CitationNetwork('/tmp/citeseerReversed','citeseer',directed=True,reverse=True)\n",
    "PubMedReversed = CitationNetwork('/tmp/PubMedReversed','PubMed',directed=True,reverse=True)"
   ]
  },
  {
   "cell_type": "code",
   "execution_count": 7,
   "metadata": {},
   "outputs": [],
   "source": [
    "coraDirected = CitationNetwork('/tmp/coraDirected','cora',directed=True)\n",
    "citeseerDirected = CitationNetwork('/tmp/citeseerDirected','citeseer',directed=True)\n",
    "PubMedDirected = CitationNetwork('/tmp/PubMedDirected','PubMed',directed=True)"
   ]
  },
  {
   "cell_type": "code",
   "execution_count": 5,
   "metadata": {},
   "outputs": [],
   "source": [
    "class NetworkSplitSchur:\n",
    "    \n",
    "    def __init__(self, data, train_examples_per_class=20,early_examples_per_class=20,\n",
    "                 val_examples_per_class=30 , split_seed = 0):\n",
    "        self.data = data\n",
    "        \n",
    "        random.seed(split_seed)\n",
    "        target = [x.item() for x in self.data.y]\n",
    "        num_samples = len(target)\n",
    "        indices = range(num_samples)\n",
    "        labels = set(target)\n",
    "        num_classes = len(labels)\n",
    "        \n",
    "        train_idx = []\n",
    "        for c in range(num_classes):\n",
    "            train_idx += [x for x in random.sample([i for i in indices if target[i]==c],\n",
    "                                                   train_examples_per_class)]\n",
    "        self.train_mask = [1 if i in train_idx else 0 for i in range(num_samples)]\n",
    "\n",
    "        rest = [x for x in indices if not self.train_mask[x]]\n",
    "        early_idx = []\n",
    "        for c in range(num_classes):\n",
    "            early_idx += [x for x in random.sample([i for i in indices if i in rest and target[i]==c],\n",
    "                                                   early_examples_per_class)]\n",
    "        self.early_mask = [1 if i in early_idx else 0 for i in range(num_samples)]\n",
    "\n",
    "        rest = [x for x in rest if not self.early_mask[x]]\n",
    "        val_idx = []\n",
    "        for c in range(num_classes):\n",
    "            val_idx += [x for x in random.sample([i for i in indices if i in rest and target[i]==c],\n",
    "                                                   val_examples_per_class)]\n",
    "        self.val_mask = [1 if i in val_idx else 0 for i in range(num_samples)]\n",
    "\n",
    "        rest = [x for x in rest if not self.val_mask[x]]\n",
    "        self.test_mask = [1 if i in rest else 0 for i in indices]\n",
    "        \n",
    "        \n",
    "        self.train_mask = torch.BoolTensor(self.train_mask)\n",
    "        self.early_mask = torch.BoolTensor(self.early_mask)\n",
    "        self.val_mask = torch.BoolTensor(self.val_mask)\n",
    "        self.test_mask = torch.BoolTensor(self.test_mask)\n",
    "        \n",
    "        \n",
    "        all_ones = self.train_mask | self.early_mask | self.val_mask | self.test_mask\n",
    "        assert (all_ones.sum().item() == num_samples)\n",
    "        \n",
    "        "
   ]
  },
  {
   "cell_type": "code",
   "execution_count": 6,
   "metadata": {},
   "outputs": [],
   "source": [
    "class NetworkSplit:\n",
    "    \n",
    "    def __init__(self, data, train_examples_per_class=20,num_early=500, num_val=500,num_test=1000, split_seed = 0):\n",
    "        self.data = data\n",
    "        \n",
    "        random.seed(split_seed)\n",
    "        target = [x.item() for x in self.data.y]\n",
    "        num_samples = len(target)\n",
    "        indices = range(num_samples)\n",
    "        labels = set(target)\n",
    "        num_classes = len(labels)\n",
    "        \n",
    "        train_idx = []\n",
    "        for i in range(num_classes):\n",
    "            train_idx += [x for x in random.sample(np.array(indices)[np.array(target) == i].tolist(),\n",
    "                                                   train_examples_per_class)]\n",
    "        self.train_mask = [1 if i in train_idx else 0 for i in range(num_samples)]\n",
    "\n",
    "        rest = [x for x in indices if not self.train_mask[x]]\n",
    "        early_idx = [x for x in random.sample(rest, num_early)]\n",
    "        self.early_mask = [1 if i in early_idx else 0 for i in range(num_samples)]\n",
    "\n",
    "        rest = [x for x in rest if not self.early_mask[x]]\n",
    "        val_idx = [x for x in random.sample(rest, num_val)]\n",
    "        self.val_mask = [1 if i in val_idx else 0 for i in range(num_samples)]\n",
    "\n",
    "        rest = [x for x in rest if not self.val_mask[x]]\n",
    "        test_idx = [x for x in random.sample(rest, num_test)]\n",
    "        self.test_mask = [1 if i in test_idx else 0 for i in range(num_samples)]\n",
    "        \n",
    "        \n",
    "        self.train_mask = torch.BoolTensor(self.train_mask)\n",
    "        self.early_mask = torch.BoolTensor(self.early_mask)\n",
    "        self.val_mask = torch.BoolTensor(self.val_mask)\n",
    "        self.test_mask = torch.BoolTensor(self.test_mask)\n",
    "        \n",
    "        \n",
    "        all_ones = self.train_mask | self.early_mask | self.val_mask | self.test_mask\n",
    "        assert (all_ones.sum().item() == train_examples_per_class*num_classes + num_early + num_val + num_test)\n",
    "        \n",
    "        "
   ]
  },
  {
   "cell_type": "code",
   "execution_count": 7,
   "metadata": {},
   "outputs": [],
   "source": [
    "\n",
    "def run_and_eval_model(dataset,channels,modelType,architecture=MonoModel,\n",
    "                       lr=0.01,wd=1e-4,epochs=200,\n",
    "                       split_seed=0,init_seed=0):\n",
    "    # training process (without batches/transforms)\n",
    "    \n",
    "    # Uncomment to test sources of randomness\n",
    "    # we assume that the only sources of randomness are the data split and the initialization.\n",
    "    # We can probably use this line when we need the results to be reproducible\n",
    "    torch.manual_seed(init_seed)\n",
    "    \n",
    "    device = torch.device('cuda' if torch.cuda.is_available() else 'cpu')\n",
    "    \n",
    "    dropout = 0.5\n",
    "    if modelType == GCNConv:\n",
    "        dropout=0.8\n",
    "    elif modelType == SAGEConv:\n",
    "        dropout=0.4\n",
    "    \n",
    "    model = architecture(modelType,dataset,channels,dropout).to(device)\n",
    "    \n",
    "    \n",
    "    \n",
    "#     print(model)\n",
    "    data = dataset[0].to(device)\n",
    "    \n",
    "    split = NetworkSplitSchur(data,split_seed=split_seed)\n",
    "    \n",
    "    optimizer = torch.optim.Adam(model.parameters(),lr=lr,weight_decay=wd)\n",
    "    model.train() # to enter training phase\n",
    "    maxacc=-1\n",
    "    chosen = None\n",
    "    accs = []\n",
    "    for epoch in range(epochs):\n",
    "        optimizer.zero_grad() # saw this a lot in the beginning, maybe resetting gradients (not to accumulate)\n",
    "        out = model(data) # this calls the forward method apparently\n",
    "        loss = F.nll_loss(out[split.train_mask],data.y[split.train_mask]) # nice indexing, easy and short\n",
    "#         loss = F.nll_loss(out[data.train_mask],data.y[data.train_mask]) # nice indexing, easy and short\n",
    "        loss.backward() # magic: real back propagation step, takes care of the gradients and stuff\n",
    "        optimizer.step() # maybe updates the params to be optimized\n",
    "        \n",
    "        model.eval()\n",
    "        _,pred = model(data).max(dim=1) # take prediction out of softmax\n",
    "        correct = float(pred[split.early_mask].eq(data.y[split.early_mask]).sum().item())\n",
    "        acc = correct / float(split.early_mask.sum().item())\n",
    "#         correct = float(pred[data.val_mask].eq(data.y[data.val_mask]).sum().item())\n",
    "#         acc = correct / float(data.val_mask.sum().item())\n",
    "        accs.append(acc)\n",
    "        if acc > maxacc:\n",
    "            maxacc = acc\n",
    "            chosen=copy.deepcopy(model)\n",
    "        if epoch >10 and acc*10 < sum(accs[-11:-1]):\n",
    "#             print('stopped at epoch {}'.format(epoch))\n",
    "            break\n",
    "        model.train()\n",
    "    chosen.eval() # enter eval phase\n",
    "    _,pred = chosen(data).max(dim=1) # take prediction out of softmax\n",
    "    correct = float(pred[split.val_mask].eq(data.y[split.val_mask]).sum().item())\n",
    "    acc = correct / float(split.val_mask.sum().item())\n",
    "#     correct = float(pred[data.val_mask].eq(data.y[data.val_mask]).sum().item())\n",
    "#     acc = correct / float(data.val_mask.sum().item())\n",
    "#     plt.figure()\n",
    "#     plt.plot(accs)\n",
    "    return acc\n",
    "\n",
    "def eval_multiple(dataset,channels,modelType,architecture=MonoModel,lr=0.01,wd=5e-4,runs=100,epochs=50,split_seed = 0):\n",
    "    start = time.time()\n",
    "    accs = []\n",
    "    for i in range(runs):\n",
    "        accs.append(run_and_eval_model(dataset,channels,modelType,architecture,lr,wd,epochs,\n",
    "                                       split_seed=split_seed, init_seed=i))\n",
    "    elapsed_time = time.time() - start\n",
    "#     print('Elaplsed {}'.format(time.strftime(\"%H:%M:%S\", time.gmtime(elapsed_time))))\n",
    "    return sum(accs)/len(accs),np.std(np.array(accs)),accs"
   ]
  },
  {
   "cell_type": "code",
   "execution_count": 8,
   "metadata": {},
   "outputs": [],
   "source": [
    "def eval_all(conv,data,channels1,channels2,channels3,runs = 100,epochs=200):\n",
    "    monogcn,monogcns = eval_multiple(data,channels1,conv,runs=runs,epochs=epochs)\n",
    "    print('Mono accuracy: {:.4f}'.format(monogcn))\n",
    "    bigcn,bigcns = eval_multiple(data,channels2,conv,runs=runs,epochs=epochs)\n",
    "    print('Bi   accuracy: {:.4f}'.format(bigcn))\n",
    "    trigcn,trigcns = eval_multiple(data,channels3,conv,runs=runs,epochs=epochs)\n",
    "    print('Tri  accuracy: {:.4f}'.format(trigcn))"
   ]
  },
  {
   "cell_type": "code",
   "execution_count": 9,
   "metadata": {},
   "outputs": [],
   "source": [
    "def eval_all_SAGE(data,channels1,channels2,channels3,runs = 100,epochs=200):\n",
    "    monogcn,stdgcn,monogcns = eval_multiple(data,channels1,SAGEConv,lr=0.1,wd=1e-5,runs=runs,epochs=epochs)\n",
    "    print('Mono accuracy: {:.4f}+-{:.4f}'.format(monogcn,stdgcn))\n",
    "    bigcn,stdgcn,bigcns = eval_multiple(data,channels2,SAGEConv,lr=0.1,wd=1e-2,runs=runs,epochs=epochs)\n",
    "    print('Bi   accuracy: {:.4f}+-{:.4f}'.format(bigcn,stdgcn))\n",
    "    trigcn,stdgcn,trigcns = eval_multiple(data,channels3,SAGEConv,lr=0.1,wd=1e-2,runs=runs,epochs=epochs)\n",
    "    print('Tri  accuracy: {:.4f}+-{:.4f}'.format(trigcn,stdgcn))"
   ]
  },
  {
   "cell_type": "code",
   "execution_count": 10,
   "metadata": {},
   "outputs": [],
   "source": [
    "num_splits = 2\n",
    "num_runs = 3"
   ]
  },
  {
   "cell_type": "code",
   "execution_count": 14,
   "metadata": {},
   "outputs": [],
   "source": [
    "def eval_archs(dataset=cora,conv=GCNConv,channel_size=64,lr=0.01,wd=5e-4):\n",
    "    chs = 0\n",
    "    for model in [MonoModel, BiModel, TriModel]:\n",
    "        chs+=1\n",
    "        avg = 0\n",
    "        with open(f'acc/x{conv.__name__}_{model.__name__}_lr{lr}_wd{wd}_ch{channel_size}.out','w') as f:\n",
    "            for seed in range(num_splits):\n",
    "                monogcn,monogcnstd,monogcns = eval_multiple(dataset,[channel_size//chs],conv,runs=num_runs,epochs=200,split_seed=seed,\n",
    "                                                            architecture=model,lr=lr,wd=wd)\n",
    "                f.write('{} {} accuracy: {:.2f} +-{:.1f}\\n'.format(conv.__name__,model.__name__,monogcn*100,monogcnstd*100))\n",
    "                avg += monogcn / num_splits\n",
    "            f.write('{} {} accuracy: {:.2f}\\n'.format(conv.__name__,model.__name__,avg*100))"
   ]
  },
  {
   "cell_type": "code",
   "execution_count": 15,
   "metadata": {},
   "outputs": [],
   "source": [
    "eval_archs(cora,SAGEConv,64,0.1,0.01)"
   ]
  },
  {
   "cell_type": "code",
   "execution_count": null,
   "metadata": {},
   "outputs": [],
   "source": [
    "eval_archs(cora,SAGEConv,64,0.001,0.1)"
   ]
  },
  {
   "cell_type": "code",
   "execution_count": null,
   "metadata": {},
   "outputs": [],
   "source": [
    "eval_archs(cora,GCNConv,64,0.01,5e-4)"
   ]
  },
  {
   "cell_type": "code",
   "execution_count": null,
   "metadata": {},
   "outputs": [],
   "source": [
    "avg = 0\n",
    "with open('acc/monogcn.out','w') as f:\n",
    "    for seed in range(num_splits):\n",
    "        monogcn,monogcnstd,monogcns = eval_multiple(cora,[64],GCNConv,runs=num_runs,epochs=200,split_seed=seed,\n",
    "                                                    architecture=MonoModel)\n",
    "        f.write('Mono accuracy: {:.2f} +-{:.1f}\\n'.format(monogcn*100,monogcnstd*100))\n",
    "        avg += monogcn / num_splits\n",
    "    f.write('Mono accuracy: {:.2f}\\n'.format(avg*100))"
   ]
  },
  {
   "cell_type": "code",
   "execution_count": null,
   "metadata": {},
   "outputs": [],
   "source": [
    "avg = 0\n",
    "with open('acc/bigcn.out','w') as f:\n",
    "    for seed in range(num_splits):\n",
    "        monogcn,monogcnstd,monogcns = eval_multiple(cora,[32],GCNConv,runs=num_runs,epochs=200,split_seed=seed,\n",
    "                                                    architecture=BiModel)\n",
    "        f.write('Mono accuracy: {:.2f} +-{:.1f}\\n'.format(monogcn*100,monogcnstd*100))\n",
    "        avg += monogcn / num_splits\n",
    "    f.write('Mono accuracy: {:.2f}\\n'.format(avg*100))"
   ]
  },
  {
   "cell_type": "code",
   "execution_count": null,
   "metadata": {},
   "outputs": [],
   "source": [
    "avg = 0\n",
    "with open('acc/trigcn.out','w') as f:\n",
    "    for seed in range(num_splits):\n",
    "        monogcn,monogcnstd,monogcns = eval_multiple(cora,[20],GCNConv,runs=num_runs,epochs=200,split_seed=seed,\n",
    "                                                    architecture=TriModel)\n",
    "        f.write('Mono accuracy: {:.2f} +-{:.1f}\\n'.format(monogcn*100,monogcnstd*100))\n",
    "        avg += monogcn / num_splits\n",
    "    f.write('Mono accuracy: {:.2f}\\n'.format(avg*100))"
   ]
  },
  {
   "cell_type": "code",
   "execution_count": 12,
   "metadata": {},
   "outputs": [
    {
     "name": "stdout",
     "output_type": "stream",
     "text": [
      "Elaplsed 00:00:03\n",
      "Elaplsed 00:00:03\n",
      "Elaplsed 00:00:03\n",
      "Elaplsed 00:00:03\n",
      "Elaplsed 00:00:03\n",
      "Elaplsed 00:00:03\n",
      "Elaplsed 00:00:03\n",
      "Elaplsed 00:00:03\n",
      "Elaplsed 00:00:03\n",
      "Elaplsed 00:00:03\n",
      "Mono accuracy: 0.7433\n"
     ]
    }
   ],
   "source": [
    "avg = 0\n",
    "for seed in range(10):\n",
    "    monogcn,monogcnstd,monogcns = eval_multiple(cora,[128],SAGEConv,runs=10,epochs=200,split_seed=seed,\n",
    "                                                architecture=MonoModel)\n",
    "    \n",
    "    avg += monogcn / 10\n",
    "print('Mono accuracy: {:.4f}'.format(avg))"
   ]
  },
  {
   "cell_type": "code",
   "execution_count": 13,
   "metadata": {},
   "outputs": [
    {
     "name": "stdout",
     "output_type": "stream",
     "text": [
      "Elaplsed 00:00:04\n",
      "Elaplsed 00:00:03\n",
      "Elaplsed 00:00:04\n",
      "Elaplsed 00:00:04\n",
      "Elaplsed 00:00:04\n",
      "Elaplsed 00:00:05\n",
      "Elaplsed 00:00:05\n",
      "Elaplsed 00:00:05\n",
      "Elaplsed 00:00:05\n",
      "Elaplsed 00:00:05\n",
      "Mono accuracy: 0.7463\n"
     ]
    }
   ],
   "source": [
    "avg = 0\n",
    "for seed in range(10):\n",
    "    monogcn,monogcnstd,monogcns = eval_multiple(cora,[64],SAGEConv,runs=10,epochs=200,split_seed=seed,\n",
    "                                                architecture=BiModel)\n",
    "    avg += monogcn / 10\n",
    "print('Mono accuracy: {:.4f}'.format(avg))"
   ]
  },
  {
   "cell_type": "code",
   "execution_count": 14,
   "metadata": {},
   "outputs": [
    {
     "name": "stdout",
     "output_type": "stream",
     "text": [
      "Elaplsed 00:00:05\n",
      "Elaplsed 00:00:05\n",
      "Elaplsed 00:00:05\n",
      "Elaplsed 00:00:05\n",
      "Elaplsed 00:00:05\n",
      "Elaplsed 00:00:05\n",
      "Elaplsed 00:00:04\n",
      "Elaplsed 00:00:04\n",
      "Elaplsed 00:00:04\n",
      "Elaplsed 00:00:04\n",
      "Mono accuracy: 0.7429\n"
     ]
    }
   ],
   "source": [
    "avg = 0\n",
    "for seed in range(10):\n",
    "    monogcn,monogcnstd,monogcns = eval_multiple(cora,[45],SAGEConv,runs=10,epochs=200,split_seed=seed,\n",
    "                                                architecture=TriModel)\n",
    "    avg += monogcn / 10\n",
    "print('Mono accuracy: {:.4f}'.format(avg))"
   ]
  },
  {
   "cell_type": "code",
   "execution_count": 54,
   "metadata": {},
   "outputs": [],
   "source": [
    "model= MonoModel(GCNConv,cora,[8])"
   ]
  },
  {
   "cell_type": "code",
   "execution_count": 89,
   "metadata": {},
   "outputs": [],
   "source": [
    "split0 = NetworkSplit(cora[0])"
   ]
  },
  {
   "cell_type": "code",
   "execution_count": 96,
   "metadata": {},
   "outputs": [
    {
     "data": {
      "text/plain": [
       "601"
      ]
     },
     "execution_count": 96,
     "metadata": {},
     "output_type": "execute_result"
    }
   ],
   "source": [
    "(split0.train_mask | (split0.val_mask)).sum().item()"
   ]
  },
  {
   "cell_type": "markdown",
   "metadata": {},
   "source": [
    "### GCN"
   ]
  },
  {
   "cell_type": "code",
   "execution_count": 25,
   "metadata": {},
   "outputs": [
    {
     "name": "stdout",
     "output_type": "stream",
     "text": [
      "Elaplsed 00:03:52\n",
      "Mono accuracy: 0.2926+-0.0196\n"
     ]
    }
   ],
   "source": [
    "monogcn,monogcnstd,monogcns = eval_multiple(coraConfDirected,[128],GCNConv,runs=100,epochs=200)\n",
    "print('Mono accuracy: {:.4f}+-{:.4f}'.format(monogcn,monogcnstd))"
   ]
  },
  {
   "cell_type": "code",
   "execution_count": 26,
   "metadata": {},
   "outputs": [
    {
     "name": "stdout",
     "output_type": "stream",
     "text": [
      "Elaplsed 00:02:08\n",
      "Mono accuracy: 0.3161+-0.0118\n"
     ]
    }
   ],
   "source": [
    "monogcn,monogcnstd,monogcns = eval_multiple(coraConfReversed,[128],GCNConv,runs=100,epochs=200)\n",
    "print('Mono accuracy: {:.4f}+-{:.4f}'.format(monogcn,monogcnstd))"
   ]
  },
  {
   "cell_type": "code",
   "execution_count": 29,
   "metadata": {},
   "outputs": [
    {
     "name": "stdout",
     "output_type": "stream",
     "text": [
      "Elaplsed 00:02:28\n",
      "Mono accuracy: 0.3269+-0.0262\n"
     ]
    }
   ],
   "source": [
    "monogcn,monogcnstd,monogcns = eval_multiple(citeseerConfDirected,[128],GCNConv,runs=100,epochs=200)\n",
    "print('Mono accuracy: {:.4f}+-{:.4f}'.format(monogcn,monogcnstd))"
   ]
  },
  {
   "cell_type": "code",
   "execution_count": 31,
   "metadata": {},
   "outputs": [
    {
     "name": "stdout",
     "output_type": "stream",
     "text": [
      "Elaplsed 00:02:30\n",
      "Mono accuracy: 0.3490+-0.0145\n"
     ]
    }
   ],
   "source": [
    "monogcn,monogcnstd,monogcns = eval_multiple(citeseerConfReversed,[128],GCNConv,runs=100,epochs=200)\n",
    "print('Mono accuracy: {:.4f}+-{:.4f}'.format(monogcn,monogcnstd))"
   ]
  },
  {
   "cell_type": "code",
   "execution_count": 30,
   "metadata": {},
   "outputs": [
    {
     "name": "stdout",
     "output_type": "stream",
     "text": [
      "Elaplsed 00:02:52\n",
      "Mono accuracy: 0.5589+-0.0201\n"
     ]
    }
   ],
   "source": [
    "monogcn,monogcnstd,monogcns = eval_multiple(PubMedConfDirected,[128],GCNConv,runs=100,epochs=200)\n",
    "print('Mono accuracy: {:.4f}+-{:.4f}'.format(monogcn,monogcnstd))"
   ]
  },
  {
   "cell_type": "code",
   "execution_count": 32,
   "metadata": {},
   "outputs": [
    {
     "name": "stdout",
     "output_type": "stream",
     "text": [
      "Elaplsed 00:03:02\n",
      "Mono accuracy: 0.5972+-0.0054\n"
     ]
    }
   ],
   "source": [
    "monogcn,monogcnstd,monogcns = eval_multiple(PubMedConfReversed,[128],GCNConv,runs=100,epochs=200)\n",
    "print('Mono accuracy: {:.4f}+-{:.4f}'.format(monogcn,monogcnstd))"
   ]
  },
  {
   "cell_type": "code",
   "execution_count": 16,
   "metadata": {},
   "outputs": [
    {
     "name": "stdout",
     "output_type": "stream",
     "text": [
      "Elaplsed 00:04:44\n",
      "Mono accuracy: 0.7026+-0.0108\n",
      "Elaplsed 00:03:35\n",
      "Mono accuracy: 0.6541+-0.0190\n"
     ]
    }
   ],
   "source": [
    "monogcn,monogcnstd,monogcns = eval_multiple(coraDirected,[128],GCNConv,runs=100,epochs=200)\n",
    "print('Mono accuracy: {:.4f}+-{:.4f}'.format(monogcn,monogcnstd))\n",
    "monogcn,monogcnstd,monogcns = eval_multiple(citeseerDirected,[128],GCNConv,runs=100,epochs=200)\n",
    "print('Mono accuracy: {:.4f}+-{:.4f}'.format(monogcn,monogcnstd))"
   ]
  },
  {
   "cell_type": "code",
   "execution_count": 13,
   "metadata": {},
   "outputs": [
    {
     "name": "stdout",
     "output_type": "stream",
     "text": [
      "Elaplsed 00:03:26\n",
      "Mono accuracy: 0.6575+-0.0075\n"
     ]
    }
   ],
   "source": [
    "monogcn,monogcnstd,monogcns = eval_multiple(PubMedDirected,[128],GCNConv,runs=100,epochs=200)\n",
    "print('Mono accuracy: {:.4f}+-{:.4f}'.format(monogcn,monogcnstd))"
   ]
  },
  {
   "cell_type": "code",
   "execution_count": 17,
   "metadata": {},
   "outputs": [
    {
     "name": "stdout",
     "output_type": "stream",
     "text": [
      "Elaplsed 00:03:17\n",
      "Mono accuracy: 0.6368+-0.0120\n",
      "Elaplsed 00:03:59\n",
      "Mono accuracy: 0.6290+-0.0104\n"
     ]
    }
   ],
   "source": [
    "monogcn,monogcnstd,monogcns = eval_multiple(coraReversed,[128],GCNConv,runs=100,epochs=200)\n",
    "print('Mono accuracy: {:.4f}+-{:.4f}'.format(monogcn,monogcnstd))\n",
    "monogcn,monogcnstd,monogcns = eval_multiple(citeseerReversed,[128],GCNConv,runs=100,epochs=200)\n",
    "print('Mono accuracy: {:.4f}+-{:.4f}'.format(monogcn,monogcnstd))"
   ]
  },
  {
   "cell_type": "code",
   "execution_count": 12,
   "metadata": {},
   "outputs": [
    {
     "name": "stdout",
     "output_type": "stream",
     "text": [
      "Elaplsed 00:02:57\n",
      "Mono accuracy: 0.6680+-0.0045\n"
     ]
    }
   ],
   "source": [
    "monogcn,monogcnstd,monogcns = eval_multiple(PubMedReversed,[128],GCNConv,runs=100,epochs=200)\n",
    "print('Mono accuracy: {:.4f}+-{:.4f}'.format(monogcn,monogcnstd))"
   ]
  },
  {
   "cell_type": "code",
   "execution_count": 23,
   "metadata": {},
   "outputs": [
    {
     "name": "stdout",
     "output_type": "stream",
     "text": [
      "Elaplsed 00:02:38\n",
      "Mono accuracy: 0.8093\n",
      "Elaplsed 00:02:05\n",
      "Bi   accuracy: 0.8049\n",
      "Elaplsed 00:02:05\n",
      "Tri  accuracy: 0.8021\n",
      "Elaplsed 00:02:31\n",
      "Mono accuracy: 0.7212\n",
      "Elaplsed 00:02:15\n",
      "Bi   accuracy: 0.7189\n",
      "Elaplsed 00:02:27\n",
      "Tri  accuracy: 0.7179\n",
      "Elaplsed 00:03:57\n",
      "Mono accuracy: 0.7734\n",
      "Elaplsed 00:02:50\n",
      "Bi   accuracy: 0.7721\n",
      "Elaplsed 00:02:32\n",
      "Tri  accuracy: 0.7716\n"
     ]
    }
   ],
   "source": [
    "eval_all(GCNConv,cora,[128],[64],[42])\n",
    "eval_all(GCNConv,citeseer,[128],[64],[42])\n",
    "eval_all(GCNConv,PubMed,[128],[64],[42],runs=100)"
   ]
  },
  {
   "cell_type": "code",
   "execution_count": 17,
   "metadata": {},
   "outputs": [
    {
     "name": "stdout",
     "output_type": "stream",
     "text": [
      "Elaplsed 00:03:11\n",
      "Mono accuracy: 0.8096\n",
      "Elaplsed 00:02:59\n",
      "Bi   accuracy: 0.8036\n",
      "Elaplsed 00:02:57\n",
      "Tri  accuracy: 0.8019\n"
     ]
    }
   ],
   "source": [
    "eval_all(GCNConv,cora,[128],[64],[42])"
   ]
  },
  {
   "cell_type": "code",
   "execution_count": 20,
   "metadata": {},
   "outputs": [
    {
     "name": "stdout",
     "output_type": "stream",
     "text": [
      "Elaplsed 00:03:45\n",
      "Mono accuracy: 0.7218\n",
      "Elaplsed 00:03:27\n",
      "Bi   accuracy: 0.7192\n",
      "Elaplsed 00:03:24\n",
      "Tri  accuracy: 0.7171\n"
     ]
    }
   ],
   "source": [
    "eval_all(GCNConv,citeseer,[128],[64],[42])"
   ]
  },
  {
   "cell_type": "code",
   "execution_count": 8,
   "metadata": {},
   "outputs": [
    {
     "name": "stdout",
     "output_type": "stream",
     "text": [
      "Elaplsed 00:05:03\n",
      "Mono accuracy: 0.7729\n",
      "Elaplsed 00:07:13\n",
      "Bi   accuracy: 0.7725\n",
      "Elaplsed 00:03:11\n",
      "Tri  accuracy: 0.7720\n"
     ]
    }
   ],
   "source": [
    "eval_all(GCNConv,PubMed,[128],[64],[42],runs=100)"
   ]
  },
  {
   "cell_type": "markdown",
   "metadata": {},
   "source": [
    "### SAGE"
   ]
  },
  {
   "cell_type": "code",
   "execution_count": 33,
   "metadata": {},
   "outputs": [
    {
     "name": "stdout",
     "output_type": "stream",
     "text": [
      "Elaplsed 00:01:40\n",
      "Mono accuracy: 0.7320+-0.0113\n",
      "Elaplsed 00:02:03\n",
      "Mono accuracy: 0.6821+-0.0112\n"
     ]
    }
   ],
   "source": [
    "monogcn,monogcnstd,monogcns = eval_multiple(coraDirected,[128],SAGEConv,lr=0.1,wd=1e-5,runs=100,epochs=200)\n",
    "print('Mono accuracy: {:.4f}+-{:.4f}'.format(monogcn,monogcnstd))\n",
    "monogcn,monogcnstd,monogcns = eval_multiple(citeseerDirected,[128],SAGEConv,lr=0.1,wd=1e-5,runs=100,epochs=200)\n",
    "print('Mono accuracy: {:.4f}+-{:.4f}'.format(monogcn,monogcnstd))"
   ]
  },
  {
   "cell_type": "code",
   "execution_count": 15,
   "metadata": {},
   "outputs": [
    {
     "name": "stdout",
     "output_type": "stream",
     "text": [
      "Elaplsed 00:03:59\n",
      "Mono accuracy: 0.6816+-0.0090\n"
     ]
    }
   ],
   "source": [
    "monogcn,monogcnstd,monogcns = eval_multiple(PubMedDirected,[128],SAGEConv,lr=0.1,wd=1e-5,runs=100,epochs=200)\n",
    "print('Mono accuracy: {:.4f}+-{:.4f}'.format(monogcn,monogcnstd))"
   ]
  },
  {
   "cell_type": "code",
   "execution_count": 34,
   "metadata": {
    "scrolled": true
   },
   "outputs": [
    {
     "name": "stdout",
     "output_type": "stream",
     "text": [
      "Elaplsed 00:01:40\n",
      "Mono accuracy: 0.6675+-0.0126\n",
      "Elaplsed 00:02:04\n",
      "Mono accuracy: 0.6229+-0.0239\n"
     ]
    }
   ],
   "source": [
    "monogcn,monogcnstd,monogcns = eval_multiple(coraReversed,[128],SAGEConv,lr=0.1,wd=1e-5,runs=100,epochs=200)\n",
    "print('Mono accuracy: {:.4f}+-{:.4f}'.format(monogcn,monogcnstd))\n",
    "monogcn,monogcnstd,monogcns = eval_multiple(citeseerReversed,[128],SAGEConv,lr=0.1,wd=1e-5,runs=100,epochs=200)\n",
    "print('Mono accuracy: {:.4f}+-{:.4f}'.format(monogcn,monogcnstd))\n"
   ]
  },
  {
   "cell_type": "code",
   "execution_count": 14,
   "metadata": {
    "scrolled": true
   },
   "outputs": [
    {
     "name": "stdout",
     "output_type": "stream",
     "text": [
      "Elaplsed 00:03:56\n",
      "Mono accuracy: 0.6921+-0.0092\n"
     ]
    }
   ],
   "source": [
    "monogcn,monogcnstd,monogcns = eval_multiple(PubMedReversed,[128],SAGEConv,lr=0.1,wd=1e-5,runs=100,epochs=200)\n",
    "print('Mono accuracy: {:.4f}+-{:.4f}'.format(monogcn,monogcnstd))"
   ]
  },
  {
   "cell_type": "code",
   "execution_count": 35,
   "metadata": {},
   "outputs": [
    {
     "name": "stdout",
     "output_type": "stream",
     "text": [
      "Elaplsed 00:01:47\n",
      "Mono accuracy: 0.2034+-0.0435\n",
      "Elaplsed 00:02:07\n",
      "Mono accuracy: 0.2685+-0.0209\n",
      "Elaplsed 00:03:10\n",
      "Mono accuracy: 0.4124+-0.0173\n"
     ]
    }
   ],
   "source": [
    "monogcn,monogcnstd,monogcns = eval_multiple(coraConfDirected,[128],SAGEConv,lr=0.1,wd=1e-5,runs=100,epochs=200)\n",
    "print('Mono accuracy: {:.4f}+-{:.4f}'.format(monogcn,monogcnstd))\n",
    "monogcn,monogcnstd,monogcns = eval_multiple(citeseerConfDirected,[128],SAGEConv,lr=0.1,wd=1e-5,runs=100,epochs=200)\n",
    "print('Mono accuracy: {:.4f}+-{:.4f}'.format(monogcn,monogcnstd))\n",
    "monogcn,monogcnstd,monogcns = eval_multiple(PubMedConfDirected,[128],SAGEConv,lr=0.1,wd=1e-5,runs=100,epochs=200)\n",
    "print('Mono accuracy: {:.4f}+-{:.4f}'.format(monogcn,monogcnstd))"
   ]
  },
  {
   "cell_type": "code",
   "execution_count": 37,
   "metadata": {},
   "outputs": [
    {
     "name": "stdout",
     "output_type": "stream",
     "text": [
      "Elaplsed 00:00:53\n",
      "Mono accuracy: 0.2674+-0.0215\n",
      "Elaplsed 00:01:03\n",
      "Mono accuracy: 0.2658+-0.0173\n",
      "Elaplsed 00:01:34\n",
      "Mono accuracy: 0.5926+-0.0099\n"
     ]
    }
   ],
   "source": [
    "monogcn,monogcnstd,monogcns = eval_multiple(coraConfReversed,[128],SAGEConv,lr=0.1,wd=1e-5,runs=50,epochs=200)\n",
    "print('Mono accuracy: {:.4f}+-{:.4f}'.format(monogcn,monogcnstd))\n",
    "monogcn,monogcnstd,monogcns = eval_multiple(citeseerConfReversed,[128],SAGEConv,lr=0.1,wd=1e-5,runs=50,epochs=200)\n",
    "print('Mono accuracy: {:.4f}+-{:.4f}'.format(monogcn,monogcnstd))\n",
    "monogcn,monogcnstd,monogcns = eval_multiple(PubMedConfReversed,[128],SAGEConv,lr=0.1,wd=1e-5,runs=50,epochs=200)\n",
    "print('Mono accuracy: {:.4f}+-{:.4f}'.format(monogcn,monogcnstd))"
   ]
  },
  {
   "cell_type": "code",
   "execution_count": 41,
   "metadata": {},
   "outputs": [
    {
     "name": "stdout",
     "output_type": "stream",
     "text": [
      "Elaplsed 00:00:53\n",
      "Mono accuracy: 0.2650+-0.0194\n",
      "Elaplsed 00:00:54\n",
      "Bi   accuracy: 0.3101+-0.0153\n",
      "Elaplsed 00:00:54\n",
      "Tri  accuracy: 0.3042+-0.0176\n",
      "Elaplsed 00:01:04\n",
      "Mono accuracy: 0.3002+-0.0312\n",
      "Elaplsed 00:00:56\n",
      "Bi   accuracy: 0.3455+-0.0201\n",
      "Elaplsed 00:00:54\n",
      "Tri  accuracy: 0.3403+-0.0144\n",
      "Elaplsed 00:01:44\n",
      "Mono accuracy: 0.4851+-0.0149\n",
      "Elaplsed 00:01:15\n",
      "Bi   accuracy: 0.4836+-0.0155\n",
      "Elaplsed 00:01:06\n",
      "Tri  accuracy: 0.4838+-0.0158\n"
     ]
    }
   ],
   "source": [
    "eval_all_SAGE(coraConf,[128],[64],[42],runs=50)\n",
    "eval_all_SAGE(citeseerConf,[128],[64],[42],runs=50)\n",
    "eval_all_SAGE(PubMedConf,[128],[64],[42],runs=50)"
   ]
  },
  {
   "cell_type": "code",
   "execution_count": 19,
   "metadata": {
    "scrolled": false
   },
   "outputs": [
    {
     "name": "stdout",
     "output_type": "stream",
     "text": [
      "Elaplsed 00:02:19\n",
      "Mono accuracy: 0.8045\n",
      "Elaplsed 00:02:27\n",
      "Bi   accuracy: 0.8005\n",
      "Elaplsed 00:03:13\n",
      "Tri  accuracy: 0.7979\n"
     ]
    }
   ],
   "source": [
    "eval_all_SAGE(cora,[128],[64],[42])"
   ]
  },
  {
   "cell_type": "code",
   "execution_count": 20,
   "metadata": {},
   "outputs": [
    {
     "name": "stdout",
     "output_type": "stream",
     "text": [
      "Elaplsed 00:04:00\n",
      "Mono accuracy: 0.7214\n",
      "Elaplsed 00:04:43\n",
      "Bi   accuracy: 0.7300\n",
      "Elaplsed 00:04:33\n",
      "Tri  accuracy: 0.7273\n"
     ]
    }
   ],
   "source": [
    "eval_all_SAGE(citeseer,[128],[64],[42])"
   ]
  },
  {
   "cell_type": "code",
   "execution_count": 21,
   "metadata": {},
   "outputs": [
    {
     "name": "stdout",
     "output_type": "stream",
     "text": [
      "Elaplsed 00:08:02\n",
      "Mono accuracy: 0.7707\n",
      "Elaplsed 00:06:13\n",
      "Bi   accuracy: 0.7764\n",
      "Elaplsed 00:04:54\n",
      "Tri  accuracy: 0.7783\n"
     ]
    }
   ],
   "source": [
    "eval_all_SAGE(PubMed,[128],[64],[42],runs=100)"
   ]
  },
  {
   "cell_type": "markdown",
   "metadata": {},
   "source": [
    "OLD"
   ]
  },
  {
   "cell_type": "code",
   "execution_count": 22,
   "metadata": {
    "scrolled": true
   },
   "outputs": [
    {
     "name": "stdout",
     "output_type": "stream",
     "text": [
      "Elaplsed 00:02:21\n",
      "Mono accuracy: 0.8029\n",
      "Elaplsed 00:02:18\n",
      "Bi   accuracy: 0.7998\n",
      "Elaplsed 00:02:19\n",
      "Tri  accuracy: 0.8003\n"
     ]
    }
   ],
   "source": [
    "eval_all(SAGEConv,cora,[128],[64],[42])"
   ]
  },
  {
   "cell_type": "code",
   "execution_count": 23,
   "metadata": {},
   "outputs": [
    {
     "name": "stdout",
     "output_type": "stream",
     "text": [
      "Elaplsed 00:02:42\n",
      "Mono accuracy: 0.7196\n",
      "Elaplsed 00:01:48\n",
      "Bi   accuracy: 0.7164\n",
      "Elaplsed 00:01:43\n",
      "Tri  accuracy: 0.7122\n"
     ]
    }
   ],
   "source": [
    "eval_all(SAGEConv,citeseer,[128],[64],[42])"
   ]
  },
  {
   "cell_type": "code",
   "execution_count": 9,
   "metadata": {
    "scrolled": true
   },
   "outputs": [
    {
     "name": "stdout",
     "output_type": "stream",
     "text": [
      "Elaplsed 00:04:16\n",
      "Mono accuracy: 0.7728\n",
      "Elaplsed 00:06:08\n",
      "Bi   accuracy: 0.7702\n",
      "Elaplsed 00:06:08\n",
      "Tri  accuracy: 0.7703\n"
     ]
    }
   ],
   "source": [
    "eval_all(SAGEConv,PubMed,[128],[64],[42],runs=100)"
   ]
  },
  {
   "cell_type": "markdown",
   "metadata": {},
   "source": [
    "---------------------------------------- The rest is test --------------------------------------------"
   ]
  },
  {
   "cell_type": "code",
   "execution_count": 15,
   "metadata": {
    "scrolled": true
   },
   "outputs": [
    {
     "name": "stdout",
     "output_type": "stream",
     "text": [
      "Elaplsed 00:03:13\n",
      "Mono accuracy: 0.7970\n",
      "Elaplsed 00:03:03\n",
      "Bi   accuracy: 0.7813\n",
      "Elaplsed 00:03:03\n",
      "Tri  accuracy: 0.7425\n"
     ]
    }
   ],
   "source": [
    "eval_all(GCNConv,cora,[16],[8],[5])"
   ]
  },
  {
   "cell_type": "code",
   "execution_count": 16,
   "metadata": {},
   "outputs": [
    {
     "name": "stdout",
     "output_type": "stream",
     "text": [
      "Elaplsed 00:03:05\n",
      "Mono accuracy: 0.8043\n",
      "Elaplsed 00:03:03\n",
      "Bi   accuracy: 0.8017\n",
      "Elaplsed 00:03:04\n",
      "Tri  accuracy: 0.7995\n"
     ]
    }
   ],
   "source": [
    "eval_all(GCNConv,cora,[64],[32],[20])"
   ]
  },
  {
   "cell_type": "markdown",
   "metadata": {},
   "source": []
  },
  {
   "cell_type": "code",
   "execution_count": 18,
   "metadata": {},
   "outputs": [
    {
     "name": "stdout",
     "output_type": "stream",
     "text": [
      "Elaplsed 00:03:01\n",
      "Mono accuracy: 0.7175\n",
      "Elaplsed 00:03:01\n",
      "Bi   accuracy: 0.7054\n",
      "Elaplsed 00:03:05\n",
      "Tri  accuracy: 0.6618\n"
     ]
    }
   ],
   "source": [
    "eval_all(GCNConv,citeseer,[16],[8],[5])"
   ]
  },
  {
   "cell_type": "code",
   "execution_count": 19,
   "metadata": {},
   "outputs": [
    {
     "name": "stdout",
     "output_type": "stream",
     "text": [
      "Elaplsed 00:03:38\n",
      "Mono accuracy: 0.7197\n",
      "Elaplsed 00:03:15\n",
      "Bi   accuracy: 0.7170\n",
      "Elaplsed 00:03:12\n",
      "Tri  accuracy: 0.7186\n"
     ]
    }
   ],
   "source": [
    "eval_all(GCNConv,citeseer,[64],[32],[20])"
   ]
  },
  {
   "cell_type": "code",
   "execution_count": null,
   "metadata": {},
   "outputs": [],
   "source": []
  },
  {
   "cell_type": "code",
   "execution_count": null,
   "metadata": {},
   "outputs": [],
   "source": []
  }
 ],
 "metadata": {
  "kernelspec": {
   "display_name": "Python 3",
   "language": "python",
   "name": "python3"
  },
  "language_info": {
   "codemirror_mode": {
    "name": "ipython",
    "version": 3
   },
   "file_extension": ".py",
   "mimetype": "text/x-python",
   "name": "python",
   "nbconvert_exporter": "python",
   "pygments_lexer": "ipython3",
   "version": "3.7.5"
  }
 },
 "nbformat": 4,
 "nbformat_minor": 2
}
