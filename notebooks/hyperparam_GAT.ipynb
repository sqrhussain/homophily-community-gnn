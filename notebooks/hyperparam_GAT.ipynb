{
 "cells": [
  {
   "cell_type": "code",
   "execution_count": 1,
   "metadata": {},
   "outputs": [],
   "source": [
    "from gnn_hyperparam_search import eval_archs\n",
    "from gat_models import MonoGAT, BiGAT, TriGAT\n",
    "from torch_geometric.nn import GATConv\n",
    "from cora_loader import CitationNetwork\n",
    "import warnings\n",
    "import pandas as pd\n",
    "import os\n",
    "warnings.filterwarnings('ignore')"
   ]
  },
  {
   "cell_type": "code",
   "execution_count": 2,
   "metadata": {},
   "outputs": [],
   "source": [
    "cora = CitationNetwork('/tmp/cora2','cora',directed=True)"
   ]
  },
  {
   "cell_type": "code",
   "execution_count": 3,
   "metadata": {},
   "outputs": [],
   "source": [
    "num_splits = 100\n",
    "num_runs = 20"
   ]
  },
  {
   "cell_type": "code",
   "execution_count": 11,
   "metadata": {},
   "outputs": [],
   "source": [
    "val_out = 'eval/gat_val.csv'"
   ]
  },
  {
   "cell_type": "code",
   "execution_count": 12,
   "metadata": {},
   "outputs": [],
   "source": [
    "if os.path.exists(val_out):\n",
    "    df_val = pd.read_csv(val_out)\n",
    "else:\n",
    "    df_val = pd.DataFrame(columns='conv arch ch dropout lr wd heads splits inits val_accs val_avg val_std test_accs test_avg test_std stopped elapsed'.split())"
   ]
  },
  {
   "cell_type": "code",
   "execution_count": 13,
   "metadata": {},
   "outputs": [],
   "source": [
    "def eval_archs_gat(dataset,channel_size,dropout,lr,wd,heads,models=[MonoGAT, BiGAT, TriGAT],df=None):\n",
    "    return eval_archs(dataset,GATConv,channel_size,dropout,lr,wd,heads=heads,\n",
    "               models=models,num_runs=num_runs,num_splits=num_splits,df_val = df)"
   ]
  },
  {
   "cell_type": "code",
   "execution_count": 14,
   "metadata": {},
   "outputs": [],
   "source": [
    "def contains(df_val,ch,lr,dropout,wd,heads):\n",
    "    return ((df_val['ch']==ch) & (df_val['lr']==lr) & (df_val['dropout']==dropout) & (df_val['wd']==wd) & (df_val['heads']==heads)).any()"
   ]
  },
  {
   "cell_type": "code",
   "execution_count": 16,
   "metadata": {},
   "outputs": [
    {
     "name": "stdout",
     "output_type": "stream",
     "text": [
      "already calculated!\n",
      "already calculated!\n",
      "already calculated!\n",
      "already calculated!\n",
      "already calculated!\n",
      "already calculated!\n",
      "already calculated!\n",
      "already calculated!\n",
      "already calculated!\n",
      "already calculated!\n",
      "already calculated!\n",
      "already calculated!\n",
      "already calculated!\n",
      "already calculated!\n",
      "already calculated!\n",
      "already calculated!\n",
      "already calculated!\n",
      "already calculated!\n",
      "already calculated!\n",
      "already calculated!\n",
      "already calculated!\n",
      "already calculated!\n",
      "already calculated!\n",
      "already calculated!\n",
      "already calculated!\n",
      "already calculated!\n",
      "already calculated!\n",
      "already calculated!\n",
      "already calculated!\n",
      "already calculated!\n",
      "already calculated!\n",
      "already calculated!\n",
      "already calculated!\n",
      "already calculated!\n",
      "already calculated!\n",
      "already calculated!\n",
      "already calculated!\n",
      "already calculated!\n",
      "already calculated!\n",
      "already calculated!\n",
      "already calculated!\n",
      "already calculated!\n",
      "already calculated!\n",
      "already calculated!\n",
      "already calculated!\n",
      "already calculated!\n",
      "already calculated!\n",
      "already calculated!\n",
      "already calculated!\n",
      "already calculated!\n",
      "already calculated!\n",
      "already calculated!\n",
      "already calculated!\n",
      "already calculated!\n",
      "already calculated!\n",
      "already calculated!\n",
      "already calculated!\n",
      "already calculated!\n",
      "already calculated!\n",
      "already calculated!\n",
      "already calculated!\n",
      "already calculated!\n",
      "already calculated!\n",
      "already calculated!\n",
      "already calculated!\n",
      "already calculated!\n",
      "already calculated!\n",
      "already calculated!\n",
      "already calculated!\n",
      "already calculated!\n",
      "already calculated!\n",
      "already calculated!\n",
      "already calculated!\n",
      ">> acc_100_20/GATConv_MonoGAT_ch12_lr0.005_wd0.0001_dropout0.6_heads2.out\n"
     ]
    },
    {
     "ename": "KeyboardInterrupt",
     "evalue": "",
     "output_type": "error",
     "traceback": [
      "\u001b[0;31m---------------------------------------------------------------------------\u001b[0m",
      "\u001b[0;31mKeyboardInterrupt\u001b[0m                         Traceback (most recent call last)",
      "\u001b[0;32m<ipython-input-16-90b82ea68ff1>\u001b[0m in \u001b[0;36m<module>\u001b[0;34m\u001b[0m\n\u001b[1;32m     10\u001b[0m                             \u001b[0;32mcontinue\u001b[0m\u001b[0;34m\u001b[0m\u001b[0;34m\u001b[0m\u001b[0m\n\u001b[1;32m     11\u001b[0m                         df_val = eval_archs_gat(dataset=cora,channel_size=ch,lr=lr,\n\u001b[0;32m---> 12\u001b[0;31m                                                 dropout=dropout,wd=wd,heads=heads,df=df_val)\n\u001b[0m\u001b[1;32m     13\u001b[0m                         \u001b[0mdf_val\u001b[0m\u001b[0;34m.\u001b[0m\u001b[0mto_csv\u001b[0m\u001b[0;34m(\u001b[0m\u001b[0mval_out\u001b[0m\u001b[0;34m,\u001b[0m\u001b[0mindex\u001b[0m\u001b[0;34m=\u001b[0m\u001b[0;32mFalse\u001b[0m\u001b[0;34m)\u001b[0m\u001b[0;34m\u001b[0m\u001b[0;34m\u001b[0m\u001b[0m\n",
      "\u001b[0;32m<ipython-input-13-aa171d58cbca>\u001b[0m in \u001b[0;36meval_archs_gat\u001b[0;34m(dataset, channel_size, dropout, lr, wd, heads, models, df)\u001b[0m\n\u001b[1;32m      1\u001b[0m \u001b[0;32mdef\u001b[0m \u001b[0meval_archs_gat\u001b[0m\u001b[0;34m(\u001b[0m\u001b[0mdataset\u001b[0m\u001b[0;34m,\u001b[0m\u001b[0mchannel_size\u001b[0m\u001b[0;34m,\u001b[0m\u001b[0mdropout\u001b[0m\u001b[0;34m,\u001b[0m\u001b[0mlr\u001b[0m\u001b[0;34m,\u001b[0m\u001b[0mwd\u001b[0m\u001b[0;34m,\u001b[0m\u001b[0mheads\u001b[0m\u001b[0;34m,\u001b[0m\u001b[0mmodels\u001b[0m\u001b[0;34m=\u001b[0m\u001b[0;34m[\u001b[0m\u001b[0mMonoGAT\u001b[0m\u001b[0;34m,\u001b[0m \u001b[0mBiGAT\u001b[0m\u001b[0;34m,\u001b[0m \u001b[0mTriGAT\u001b[0m\u001b[0;34m]\u001b[0m\u001b[0;34m,\u001b[0m\u001b[0mdf\u001b[0m\u001b[0;34m=\u001b[0m\u001b[0;32mNone\u001b[0m\u001b[0;34m)\u001b[0m\u001b[0;34m:\u001b[0m\u001b[0;34m\u001b[0m\u001b[0;34m\u001b[0m\u001b[0m\n\u001b[1;32m      2\u001b[0m     return eval_archs(dataset,GATConv,channel_size,dropout,lr,wd,heads=heads,\n\u001b[0;32m----> 3\u001b[0;31m                models=models,num_runs=num_runs,num_splits=num_splits,df_val = df)\n\u001b[0m",
      "\u001b[0;32m/home/s-hussain/directed-graphs-learning/notebooks/gnn_hyperparam_search.py\u001b[0m in \u001b[0;36meval_archs\u001b[0;34m(dataset, conv, channel_size, dropout, lr, wd, heads, models, num_splits, num_runs, df_val)\u001b[0m\n\u001b[1;32m    116\u001b[0m                 val_acc,test_acc,stopped = eval_multiple(dataset,[channel_size//chs//heads],conv,runs=num_runs,epochs=200,split_seed=seed,\n\u001b[1;32m    117\u001b[0m                                                             architecture=model,lr=lr,wd=wd,heads=heads,dropout=dropout)\n\u001b[0;32m--> 118\u001b[0;31m \u001b[0;31m#                 f.write('{} {} accuracy: {:.2f} +-{:.1f}\\n'.format(conv.__name__,model.__name__,monogcn*100,monogcnstd*100))\u001b[0m\u001b[0;34m\u001b[0m\u001b[0;34m\u001b[0m\u001b[0;34m\u001b[0m\u001b[0m\n\u001b[0m\u001b[1;32m    119\u001b[0m                 \u001b[0mval_accs\u001b[0m \u001b[0;34m+=\u001b[0m \u001b[0mval_acc\u001b[0m\u001b[0;34m\u001b[0m\u001b[0;34m\u001b[0m\u001b[0m\n\u001b[1;32m    120\u001b[0m                 \u001b[0mtest_accs\u001b[0m \u001b[0;34m+=\u001b[0m \u001b[0mtest_acc\u001b[0m\u001b[0;34m\u001b[0m\u001b[0;34m\u001b[0m\u001b[0m\n",
      "\u001b[0;32m/home/s-hussain/directed-graphs-learning/notebooks/gnn_hyperparam_search.py\u001b[0m in \u001b[0;36meval_multiple\u001b[0;34m(dataset, channels, modelType, architecture, lr, wd, heads, dropout, runs, epochs, split_seed)\u001b[0m\n\u001b[1;32m     86\u001b[0m                                        \u001b[0mheads\u001b[0m\u001b[0;34m=\u001b[0m\u001b[0mheads\u001b[0m\u001b[0;34m,\u001b[0m \u001b[0mdropout\u001b[0m\u001b[0;34m=\u001b[0m\u001b[0mdropout\u001b[0m\u001b[0;34m,\u001b[0m\u001b[0;34m\u001b[0m\u001b[0;34m\u001b[0m\u001b[0m\n\u001b[1;32m     87\u001b[0m                                        split_seed=split_seed, init_seed=i)\n\u001b[0;32m---> 88\u001b[0;31m         \u001b[0mval_accs\u001b[0m\u001b[0;34m.\u001b[0m\u001b[0mappend\u001b[0m\u001b[0;34m(\u001b[0m\u001b[0mval_acc\u001b[0m\u001b[0;34m)\u001b[0m\u001b[0;34m\u001b[0m\u001b[0;34m\u001b[0m\u001b[0m\n\u001b[0m\u001b[1;32m     89\u001b[0m         \u001b[0mtest_accs\u001b[0m\u001b[0;34m.\u001b[0m\u001b[0mappend\u001b[0m\u001b[0;34m(\u001b[0m\u001b[0mtest_acc\u001b[0m\u001b[0;34m)\u001b[0m\u001b[0;34m\u001b[0m\u001b[0;34m\u001b[0m\u001b[0m\n\u001b[1;32m     90\u001b[0m         \u001b[0mstoppeds\u001b[0m\u001b[0;34m.\u001b[0m\u001b[0mappend\u001b[0m\u001b[0;34m(\u001b[0m\u001b[0mstopped\u001b[0m\u001b[0;34m)\u001b[0m\u001b[0;34m\u001b[0m\u001b[0;34m\u001b[0m\u001b[0m\n",
      "\u001b[0;32m/home/s-hussain/directed-graphs-learning/notebooks/gnn_hyperparam_search.py\u001b[0m in \u001b[0;36mrun_and_eval_model\u001b[0;34m(dataset, channels, modelType, architecture, lr, wd, heads, dropout, epochs, split_seed, init_seed)\u001b[0m\n\u001b[1;32m     38\u001b[0m \u001b[0;34m\u001b[0m\u001b[0m\n\u001b[1;32m     39\u001b[0m     \u001b[0msplit\u001b[0m \u001b[0;34m=\u001b[0m \u001b[0mNetworkSplitShcur\u001b[0m\u001b[0;34m(\u001b[0m\u001b[0mdata\u001b[0m\u001b[0;34m,\u001b[0m\u001b[0mearly_examples_per_class\u001b[0m\u001b[0;34m=\u001b[0m\u001b[0;36m0\u001b[0m\u001b[0;34m,\u001b[0m\u001b[0msplit_seed\u001b[0m\u001b[0;34m=\u001b[0m\u001b[0msplit_seed\u001b[0m\u001b[0;34m)\u001b[0m\u001b[0;34m\u001b[0m\u001b[0;34m\u001b[0m\u001b[0m\n\u001b[0;32m---> 40\u001b[0;31m \u001b[0;34m\u001b[0m\u001b[0m\n\u001b[0m\u001b[1;32m     41\u001b[0m     \u001b[0moptimizer\u001b[0m \u001b[0;34m=\u001b[0m \u001b[0mtorch\u001b[0m\u001b[0;34m.\u001b[0m\u001b[0moptim\u001b[0m\u001b[0;34m.\u001b[0m\u001b[0mAdam\u001b[0m\u001b[0;34m(\u001b[0m\u001b[0mmodel\u001b[0m\u001b[0;34m.\u001b[0m\u001b[0mparameters\u001b[0m\u001b[0;34m(\u001b[0m\u001b[0;34m)\u001b[0m\u001b[0;34m,\u001b[0m\u001b[0mlr\u001b[0m\u001b[0;34m=\u001b[0m\u001b[0mlr\u001b[0m\u001b[0;34m,\u001b[0m\u001b[0mweight_decay\u001b[0m\u001b[0;34m=\u001b[0m\u001b[0mwd\u001b[0m\u001b[0;34m)\u001b[0m\u001b[0;34m\u001b[0m\u001b[0;34m\u001b[0m\u001b[0m\n\u001b[1;32m     42\u001b[0m     \u001b[0mmodel\u001b[0m\u001b[0;34m.\u001b[0m\u001b[0mtrain\u001b[0m\u001b[0;34m(\u001b[0m\u001b[0;34m)\u001b[0m \u001b[0;31m# to enter training phase\u001b[0m\u001b[0;34m\u001b[0m\u001b[0;34m\u001b[0m\u001b[0m\n",
      "\u001b[0;32m/home/s-hussain/directed-graphs-learning/notebooks/network_split.py\u001b[0m in \u001b[0;36m__init__\u001b[0;34m(self, data, train_examples_per_class, early_examples_per_class, val_examples_per_class, split_seed)\u001b[0m\n\u001b[1;32m     26\u001b[0m         \u001b[0mearly_idx\u001b[0m \u001b[0;34m=\u001b[0m \u001b[0;34m[\u001b[0m\u001b[0;34m]\u001b[0m\u001b[0;34m\u001b[0m\u001b[0;34m\u001b[0m\u001b[0m\n\u001b[1;32m     27\u001b[0m         \u001b[0;32mfor\u001b[0m \u001b[0mc\u001b[0m \u001b[0;32min\u001b[0m \u001b[0mrange\u001b[0m\u001b[0;34m(\u001b[0m\u001b[0mnum_classes\u001b[0m\u001b[0;34m)\u001b[0m\u001b[0;34m:\u001b[0m\u001b[0;34m\u001b[0m\u001b[0;34m\u001b[0m\u001b[0m\n\u001b[0;32m---> 28\u001b[0;31m             early_idx += [x for x in random.sample([i for i in indices if i in rest and target[i]==c],\n\u001b[0m\u001b[1;32m     29\u001b[0m                                                    early_examples_per_class)]\n\u001b[1;32m     30\u001b[0m         \u001b[0mself\u001b[0m\u001b[0;34m.\u001b[0m\u001b[0mearly_mask\u001b[0m \u001b[0;34m=\u001b[0m \u001b[0;34m[\u001b[0m\u001b[0;36m1\u001b[0m \u001b[0;32mif\u001b[0m \u001b[0mi\u001b[0m \u001b[0;32min\u001b[0m \u001b[0mearly_idx\u001b[0m \u001b[0;32melse\u001b[0m \u001b[0;36m0\u001b[0m \u001b[0;32mfor\u001b[0m \u001b[0mi\u001b[0m \u001b[0;32min\u001b[0m \u001b[0mrange\u001b[0m\u001b[0;34m(\u001b[0m\u001b[0mnum_samples\u001b[0m\u001b[0;34m)\u001b[0m\u001b[0;34m]\u001b[0m\u001b[0;34m\u001b[0m\u001b[0;34m\u001b[0m\u001b[0m\n",
      "\u001b[0;32m/home/s-hussain/directed-graphs-learning/notebooks/network_split.py\u001b[0m in \u001b[0;36m<listcomp>\u001b[0;34m(.0)\u001b[0m\n\u001b[1;32m     26\u001b[0m         \u001b[0mearly_idx\u001b[0m \u001b[0;34m=\u001b[0m \u001b[0;34m[\u001b[0m\u001b[0;34m]\u001b[0m\u001b[0;34m\u001b[0m\u001b[0;34m\u001b[0m\u001b[0m\n\u001b[1;32m     27\u001b[0m         \u001b[0;32mfor\u001b[0m \u001b[0mc\u001b[0m \u001b[0;32min\u001b[0m \u001b[0mrange\u001b[0m\u001b[0;34m(\u001b[0m\u001b[0mnum_classes\u001b[0m\u001b[0;34m)\u001b[0m\u001b[0;34m:\u001b[0m\u001b[0;34m\u001b[0m\u001b[0;34m\u001b[0m\u001b[0m\n\u001b[0;32m---> 28\u001b[0;31m             early_idx += [x for x in random.sample([i for i in indices if i in rest and target[i]==c],\n\u001b[0m\u001b[1;32m     29\u001b[0m                                                    early_examples_per_class)]\n\u001b[1;32m     30\u001b[0m         \u001b[0mself\u001b[0m\u001b[0;34m.\u001b[0m\u001b[0mearly_mask\u001b[0m \u001b[0;34m=\u001b[0m \u001b[0;34m[\u001b[0m\u001b[0;36m1\u001b[0m \u001b[0;32mif\u001b[0m \u001b[0mi\u001b[0m \u001b[0;32min\u001b[0m \u001b[0mearly_idx\u001b[0m \u001b[0;32melse\u001b[0m \u001b[0;36m0\u001b[0m \u001b[0;32mfor\u001b[0m \u001b[0mi\u001b[0m \u001b[0;32min\u001b[0m \u001b[0mrange\u001b[0m\u001b[0;34m(\u001b[0m\u001b[0mnum_samples\u001b[0m\u001b[0;34m)\u001b[0m\u001b[0;34m]\u001b[0m\u001b[0;34m\u001b[0m\u001b[0;34m\u001b[0m\u001b[0m\n",
      "\u001b[0;31mKeyboardInterrupt\u001b[0m: "
     ]
    }
   ],
   "source": [
    "for conv in [GATConv]:\n",
    "    for ch in [12]:\n",
    "        for lr in [1e-3,5e-3,1e-2]:\n",
    "            for dropout in [0.2,0.4,0.6,0.8]:\n",
    "                for wd in [1e-4,1e-3,1e-2,1e-1]:\n",
    "                    for heads in [1,2,4]:   # flaw when ch==12 and heads==4 and model is BiGAT (12//2//4 => 1)\n",
    "                                            # resulting in smaller representation size than expected (ch -> 8 not 12)\n",
    "                        if contains(df_val,ch,lr,dropout,wd,heads):\n",
    "                            print('already calculated!')\n",
    "                            continue\n",
    "                        df_val = eval_archs_gat(dataset=cora,channel_size=ch,lr=lr,\n",
    "                                                dropout=dropout,wd=wd,heads=heads,df=df_val)\n",
    "                        df_val.to_csv(val_out,index=False)"
   ]
  },
  {
   "cell_type": "code",
   "execution_count": 17,
   "metadata": {},
   "outputs": [
    {
     "ename": "NameError",
     "evalue": "name 'a' is not defined",
     "output_type": "error",
     "traceback": [
      "\u001b[0;31m---------------------------------------------------------------------------\u001b[0m",
      "\u001b[0;31mNameError\u001b[0m                                 Traceback (most recent call last)",
      "\u001b[0;32m<ipython-input-17-3f786850e387>\u001b[0m in \u001b[0;36m<module>\u001b[0;34m\u001b[0m\n\u001b[0;32m----> 1\u001b[0;31m \u001b[0ma\u001b[0m\u001b[0;34m\u001b[0m\u001b[0;34m\u001b[0m\u001b[0m\n\u001b[0m",
      "\u001b[0;31mNameError\u001b[0m: name 'a' is not defined"
     ]
    }
   ],
   "source": [
    "a"
   ]
  },
  {
   "cell_type": "code",
   "execution_count": null,
   "metadata": {},
   "outputs": [],
   "source": []
  }
 ],
 "metadata": {
  "kernelspec": {
   "display_name": "Python 3",
   "language": "python",
   "name": "python3"
  },
  "language_info": {
   "codemirror_mode": {
    "name": "ipython",
    "version": 3
   },
   "file_extension": ".py",
   "mimetype": "text/x-python",
   "name": "python",
   "nbconvert_exporter": "python",
   "pygments_lexer": "ipython3",
   "version": "3.7.5"
  }
 },
 "nbformat": 4,
 "nbformat_minor": 4
}
