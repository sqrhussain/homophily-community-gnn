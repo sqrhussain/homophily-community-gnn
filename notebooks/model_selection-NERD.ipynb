{
 "cells": [
  {
   "cell_type": "code",
   "execution_count": 1,
   "metadata": {},
   "outputs": [],
   "source": [
    "import pandas as pd\n",
    "import seaborn as sns\n",
    "import matplotlib.pyplot as plt\n",
    "import numpy as np\n",
    "import os\n",
    "from embedding_evaluation_framework import EmbeddingData, test_n2v\n"
   ]
  },
  {
   "cell_type": "code",
   "execution_count": 2,
   "metadata": {},
   "outputs": [],
   "source": [
    "inits = 20\n",
    "num_splits = 100"
   ]
  },
  {
   "cell_type": "code",
   "execution_count": 3,
   "metadata": {},
   "outputs": [],
   "source": [
    "datasets = ['citeseer','PubMed']"
   ]
  },
  {
   "cell_type": "code",
   "execution_count": 4,
   "metadata": {},
   "outputs": [],
   "source": [
    "out = 'eval/test_acc_nerd.csv'"
   ]
  },
  {
   "cell_type": "code",
   "execution_count": 5,
   "metadata": {},
   "outputs": [],
   "source": [
    "def report_test_acc_unsupervised_embedding(cache_prefix,dataset,filename,method,speedup=False,nerd=None):\n",
    "    tests = []\n",
    "    for init in range(inits):\n",
    "        print(f' init {init}')\n",
    "        emb = EmbeddingData(f'/tmp/{cache_prefix}Emb{dataset.capitalize()}Init{init}',dataset,filename,directed=False,initialization=f'{method}/{init}',nerd=nerd)\n",
    "        test = test_n2v(emb[0],num_splits=num_splits,speedup=speedup)\n",
    "        tests = tests + test\n",
    "    return tests"
   ]
  },
  {
   "cell_type": "code",
   "execution_count": 6,
   "metadata": {},
   "outputs": [],
   "source": [
    "def model_selection_gnn(df):\n",
    "    return df[df.val_avg == df.groupby('arch').val_avg.transform(max)]\n",
    "def model_selection(df):\n",
    "    return df[df.val_avg == df.val_avg.max()]"
   ]
  },
  {
   "cell_type": "code",
   "execution_count": 7,
   "metadata": {},
   "outputs": [],
   "source": [
    "if os.path.exists(out):\n",
    "    test_acc = pd.read_csv(out)\n",
    "else:\n",
    "    test_acc = pd.DataFrame(columns='method dataset test_acc test_avg test_std'.split())"
   ]
  },
  {
   "cell_type": "code",
   "execution_count": 8,
   "metadata": {},
   "outputs": [
    {
     "data": {
      "text/html": [
       "<div>\n",
       "<style scoped>\n",
       "    .dataframe tbody tr th:only-of-type {\n",
       "        vertical-align: middle;\n",
       "    }\n",
       "\n",
       "    .dataframe tbody tr th {\n",
       "        vertical-align: top;\n",
       "    }\n",
       "\n",
       "    .dataframe thead th {\n",
       "        text-align: right;\n",
       "    }\n",
       "</style>\n",
       "<table border=\"1\" class=\"dataframe\">\n",
       "  <thead>\n",
       "    <tr style=\"text-align: right;\">\n",
       "      <th></th>\n",
       "      <th>method</th>\n",
       "      <th>dataset</th>\n",
       "      <th>test_acc</th>\n",
       "      <th>test_avg</th>\n",
       "      <th>test_std</th>\n",
       "    </tr>\n",
       "  </thead>\n",
       "  <tbody>\n",
       "    <tr>\n",
       "      <th>0</th>\n",
       "      <td>nerd</td>\n",
       "      <td>cora</td>\n",
       "      <td>[0.7417302798982188, 0.7408821034775234, 0.752...</td>\n",
       "      <td>0.729139</td>\n",
       "      <td>0.016211</td>\n",
       "    </tr>\n",
       "  </tbody>\n",
       "</table>\n",
       "</div>"
      ],
      "text/plain": [
       "  method dataset                                           test_acc  test_avg  \\\n",
       "0   nerd    cora  [0.7417302798982188, 0.7408821034775234, 0.752...  0.729139   \n",
       "\n",
       "   test_std  \n",
       "0  0.016211  "
      ]
     },
     "execution_count": 8,
     "metadata": {},
     "output_type": "execute_result"
    }
   ],
   "source": [
    "test_acc"
   ]
  },
  {
   "cell_type": "code",
   "execution_count": 9,
   "metadata": {},
   "outputs": [],
   "source": [
    "df_nerd = pd.read_csv('eval/nerd.csv')"
   ]
  },
  {
   "cell_type": "code",
   "execution_count": 10,
   "metadata": {},
   "outputs": [
    {
     "data": {
      "text/html": [
       "<div>\n",
       "<style scoped>\n",
       "    .dataframe tbody tr th:only-of-type {\n",
       "        vertical-align: middle;\n",
       "    }\n",
       "\n",
       "    .dataframe tbody tr th {\n",
       "        vertical-align: top;\n",
       "    }\n",
       "\n",
       "    .dataframe thead th {\n",
       "        text-align: right;\n",
       "    }\n",
       "</style>\n",
       "<table border=\"1\" class=\"dataframe\">\n",
       "  <thead>\n",
       "    <tr style=\"text-align: right;\">\n",
       "      <th></th>\n",
       "      <th>splits</th>\n",
       "      <th>inits</th>\n",
       "      <th>type</th>\n",
       "      <th>lr</th>\n",
       "      <th>neg</th>\n",
       "      <th>val_acc</th>\n",
       "      <th>val_avg</th>\n",
       "      <th>val_std</th>\n",
       "    </tr>\n",
       "  </thead>\n",
       "  <tbody>\n",
       "    <tr>\n",
       "      <th>20</th>\n",
       "      <td>100</td>\n",
       "      <td>20</td>\n",
       "      <td>hub</td>\n",
       "      <td>0.025</td>\n",
       "      <td>20</td>\n",
       "      <td>[0.7238095238095238, 0.6904761904761905, 0.752...</td>\n",
       "      <td>0.74519</td>\n",
       "      <td>0.027754</td>\n",
       "    </tr>\n",
       "    <tr>\n",
       "      <th>21</th>\n",
       "      <td>100</td>\n",
       "      <td>20</td>\n",
       "      <td>aut</td>\n",
       "      <td>0.025</td>\n",
       "      <td>20</td>\n",
       "      <td>[0.7238095238095238, 0.6904761904761905, 0.752...</td>\n",
       "      <td>0.74519</td>\n",
       "      <td>0.027754</td>\n",
       "    </tr>\n",
       "  </tbody>\n",
       "</table>\n",
       "</div>"
      ],
      "text/plain": [
       "    splits  inits type     lr  neg  \\\n",
       "20     100     20  hub  0.025   20   \n",
       "21     100     20  aut  0.025   20   \n",
       "\n",
       "                                              val_acc  val_avg   val_std  \n",
       "20  [0.7238095238095238, 0.6904761904761905, 0.752...  0.74519  0.027754  \n",
       "21  [0.7238095238095238, 0.6904761904761905, 0.752...  0.74519  0.027754  "
      ]
     },
     "execution_count": 10,
     "metadata": {},
     "output_type": "execute_result"
    }
   ],
   "source": [
    "model_selection(df_nerd)"
   ]
  },
  {
   "cell_type": "code",
   "execution_count": null,
   "metadata": {},
   "outputs": [
    {
     "name": "stdout",
     "output_type": "stream",
     "text": [
      "citeseer\n",
      " init 0\n",
      "Processing...\n",
      "15\n",
      "0\n",
      "Done!\n"
     ]
    }
   ],
   "source": [
    "lr = 0.025\n",
    "neg = 20\n",
    "for dataset in datasets:\n",
    "    print(dataset)\n",
    "    tests = report_test_acc_unsupervised_embedding(cache_prefix=f'nerdUndlr{lr}neg{neg}',dataset=dataset,filename=f'line_{neg}_{lr}',method='nerd',\n",
    "                                                   nerd='aut',speedup=(dataset=='cora_full'))\n",
    "    test_acc = test_acc.append({'method':'nerd', 'dataset':dataset,'test_acc':tests, 'test_avg':np.mean(tests), 'test_std':np.std(tests)},ignore_index=True)\n",
    "    test_acc.to_csv(out,index=False)"
   ]
  },
  {
   "cell_type": "code",
   "execution_count": null,
   "metadata": {},
   "outputs": [],
   "source": []
  }
 ],
 "metadata": {
  "kernelspec": {
   "display_name": "Python 3",
   "language": "python",
   "name": "python3"
  },
  "language_info": {
   "codemirror_mode": {
    "name": "ipython",
    "version": 3
   },
   "file_extension": ".py",
   "mimetype": "text/x-python",
   "name": "python",
   "nbconvert_exporter": "python",
   "pygments_lexer": "ipython3",
   "version": "3.7.5"
  }
 },
 "nbformat": 4,
 "nbformat_minor": 4
}
