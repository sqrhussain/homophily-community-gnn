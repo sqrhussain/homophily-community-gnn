{
 "cells": [
  {
   "cell_type": "code",
   "execution_count": 24,
   "metadata": {},
   "outputs": [],
   "source": [
    "import pandas as pd\n",
    "import seaborn as sns\n",
    "import matplotlib.pyplot as plt\n",
    "import numpy as np\n",
    "import os\n",
    "from embedding_evaluation_framework import EmbeddingData, test_n2v"
   ]
  },
  {
   "cell_type": "code",
   "execution_count": 25,
   "metadata": {},
   "outputs": [],
   "source": [
    "def report_test_acc_unsupervised_embedding(cache_prefix,dataset,filename,method,speedup=False):\n",
    "    tests = []\n",
    "    for init in range(inits):\n",
    "        print(f' init {init}')\n",
    "        emb = EmbeddingData(f'/tmp/{cache_prefix}Emb{dataset.capitalize()}Init{init}',dataset,filename,directed=False,initialization=f'{method}/{init}')\n",
    "        test = test_n2v(emb[0],num_splits=num_splits,speedup=speedup)\n",
    "        tests = tests + test\n",
    "    return tests"
   ]
  },
  {
   "cell_type": "code",
   "execution_count": 28,
   "metadata": {},
   "outputs": [],
   "source": [
    "datasets = ['cora','citeseer','PubMed']\n",
    "inits = 20\n",
    "num_splits = 100"
   ]
  },
  {
   "cell_type": "code",
   "execution_count": 30,
   "metadata": {},
   "outputs": [],
   "source": [
    "test_acc = pd.DataFrame(columns='method dataset test_acc test_avg test_std'.split())"
   ]
  },
  {
   "cell_type": "code",
   "execution_count": 31,
   "metadata": {},
   "outputs": [
    {
     "data": {
      "text/html": [
       "<div>\n",
       "<style scoped>\n",
       "    .dataframe tbody tr th:only-of-type {\n",
       "        vertical-align: middle;\n",
       "    }\n",
       "\n",
       "    .dataframe tbody tr th {\n",
       "        vertical-align: top;\n",
       "    }\n",
       "\n",
       "    .dataframe thead th {\n",
       "        text-align: right;\n",
       "    }\n",
       "</style>\n",
       "<table border=\"1\" class=\"dataframe\">\n",
       "  <thead>\n",
       "    <tr style=\"text-align: right;\">\n",
       "      <th></th>\n",
       "      <th>method</th>\n",
       "      <th>dataset</th>\n",
       "      <th>test_acc</th>\n",
       "      <th>test_avg</th>\n",
       "      <th>test_std</th>\n",
       "    </tr>\n",
       "  </thead>\n",
       "  <tbody>\n",
       "  </tbody>\n",
       "</table>\n",
       "</div>"
      ],
      "text/plain": [
       "Empty DataFrame\n",
       "Columns: [method, dataset, test_acc, test_avg, test_std]\n",
       "Index: []"
      ]
     },
     "execution_count": 31,
     "metadata": {},
     "output_type": "execute_result"
    }
   ],
   "source": [
    "test_acc"
   ]
  },
  {
   "cell_type": "code",
   "execution_count": null,
   "metadata": {},
   "outputs": [
    {
     "name": "stdout",
     "output_type": "stream",
     "text": [
      " init 0\n",
      " init 1\n",
      " init 2\n",
      " init 3\n",
      " init 4\n",
      " init 5\n",
      " init 6\n",
      " init 7\n",
      " init 8\n",
      " init 9\n",
      " init 10\n",
      " init 11\n",
      " init 12\n",
      " init 13\n",
      " init 14\n",
      " init 15\n",
      " init 16\n",
      " init 17\n",
      " init 18\n",
      " init 19\n",
      " init 0\n",
      "Processing...\n",
      "15\n",
      "0\n",
      "Done!\n",
      " init 1\n",
      "Processing...\n",
      "15\n",
      "0\n",
      "Done!\n",
      " init 2\n",
      "Processing...\n",
      "15\n",
      "0\n",
      "Done!\n",
      " init 3\n",
      "Processing...\n",
      "15\n",
      "0\n",
      "Done!\n",
      " init 4\n",
      "Processing...\n",
      "15\n",
      "0\n",
      "Done!\n",
      " init 5\n",
      "Processing...\n",
      "15\n",
      "0\n",
      "Done!\n",
      " init 6\n",
      "Processing...\n",
      "15\n",
      "0\n",
      "Done!\n",
      " init 7\n",
      "Processing...\n",
      "15\n",
      "0\n",
      "Done!\n",
      " init 8\n",
      "Processing...\n",
      "15\n",
      "0\n",
      "Done!\n",
      " init 9\n",
      "Processing...\n",
      "15\n",
      "0\n",
      "Done!\n",
      " init 10\n",
      "Processing...\n",
      "15\n",
      "0\n",
      "Done!\n"
     ]
    }
   ],
   "source": [
    "lr = 0.005\n",
    "neg = 5\n",
    "for dataset in datasets:\n",
    "#     tests = report_test_acc_unsupervised_embedding(cache_prefix=f'lineUndlr{lr}neg{neg}',dataset=dataset,filename=f'line_{neg}_{lr}',method='line1',\n",
    "#                                                   speedup=(dataset=='cora_full'))\n",
    "#     test_acc = test_acc.append({'method':'line1', 'dataset':dataset,'test_acc':tests, 'test_avg':np.mean(tests), 'test_std':np.std(tests)},ignore_index=True)\n",
    "#     test_acc.to_csv('eval/test_acc_line.csv',index=True)\n",
    "    tests = report_test_acc_unsupervised_embedding(cache_prefix=f'line2Undlr{lr}neg{neg}',dataset=dataset,filename=f'line_{neg}_{lr}',method='line2',\n",
    "                                                  speedup=(dataset=='cora_full'))\n",
    "    test_acc = test_acc.append({'method':'line2', 'dataset':dataset,'test_acc':tests, 'test_avg':np.mean(tests), 'test_std':np.std(tests)},ignore_index=True)\n",
    "    test_acc.to_csv('eval/test_acc_line.csv',index=True)"
   ]
  },
  {
   "cell_type": "code",
   "execution_count": 4,
   "metadata": {},
   "outputs": [],
   "source": [
    "def model_selection_gnn(df):\n",
    "    return df[df.val_avg == df.groupby('arch').val_avg.transform(max)]\n",
    "def model_selection(df):\n",
    "    return df[df.val_avg == df.val_avg.max()]"
   ]
  },
  {
   "cell_type": "code",
   "execution_count": null,
   "metadata": {},
   "outputs": [],
   "source": [
    "df_val"
   ]
  },
  {
   "cell_type": "code",
   "execution_count": null,
   "metadata": {},
   "outputs": [],
   "source": [
    "a"
   ]
  },
  {
   "cell_type": "code",
   "execution_count": null,
   "metadata": {},
   "outputs": [],
   "source": []
  }
 ],
 "metadata": {
  "kernelspec": {
   "display_name": "Python 3",
   "language": "python",
   "name": "python3"
  },
  "language_info": {
   "codemirror_mode": {
    "name": "ipython",
    "version": 3
   },
   "file_extension": ".py",
   "mimetype": "text/x-python",
   "name": "python",
   "nbconvert_exporter": "python",
   "pygments_lexer": "ipython3",
   "version": "3.7.5"
  }
 },
 "nbformat": 4,
 "nbformat_minor": 4
}
