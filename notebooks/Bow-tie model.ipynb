{
 "cells": [
  {
   "cell_type": "code",
   "execution_count": 1,
   "metadata": {},
   "outputs": [],
   "source": [
    "import networkx as nx\n",
    "import numpy as np\n",
    "\n",
    "# For diplaying figures within the notebook we require: MatPlotLib\n",
    "import matplotlib \n",
    "import matplotlib.pyplot as plt\n"
   ]
  },
  {
   "cell_type": "code",
   "execution_count": 2,
   "metadata": {},
   "outputs": [],
   "source": [
    "import sys\n",
    "sys.path.insert(0,'..')\n",
    "from src.data.create_stochastic_block_model import create_louvain_communities_dict,store_in_file,create_graph_and_node_mappings_from_file\n",
    "from src.data.data_loader import GraphDataset\n",
    "from torch_geometric.utils import to_networkx"
   ]
  },
  {
   "cell_type": "code",
   "execution_count": 3,
   "metadata": {},
   "outputs": [],
   "source": [
    "# SOURCE: https://github.com/jeroenvldj/bow-tie_detection/blob/master/Detecting_Bow-tie_structures_in_directed_networks.ipynb\n",
    "def get_bowtie_components(graph):\n",
    "    '''Classifying the nodes of a network into a bow-tie structure.\n",
    "    Here we follow the paper: \n",
    "    \"Bow-tie Decomposition in Directed Graphs\" - Yang et al. IEEE (2011) \n",
    "    \n",
    "    input:  NetworkX directed graph or numpy adjacency matrix\n",
    "    output: sets of nodes in the specified partitions (following the \n",
    "            NetworkX input graph node labelling or labelled according to\n",
    "            the order of the adjacency matrix [0, n-1])\n",
    "    '''\n",
    "    import networkx as nx\n",
    "    \n",
    "    # Verify graph input format\n",
    "    input_formats = [nx.DiGraph, np.ndarray, np.matrix]\n",
    "    assert type(graph) in input_formats, 'Input should be a NetworkX directed graph or numpy adjacency matrix'\n",
    "    if type(graph) == nx.classes.digraph.DiGraph:\n",
    "        G = graph.copy()\n",
    "    if (type(graph) == np.ndarray) | (type(graph) == np.matrix):\n",
    "        G = nx.from_numpy_matrix(np.matrix(graph), create_using=nx.DiGraph())\n",
    "    \n",
    "    GT = nx.reverse(G, copy=True)\n",
    "    \n",
    "    strongly_con_comp = list(nx.strongly_connected_components(G))    \n",
    "    strongly_con_comp = max(strongly_con_comp, key=len)\n",
    "\n",
    "    S = strongly_con_comp\n",
    "\n",
    "    v_any = list(S)[0]\n",
    "    DFS_G = set(nx.dfs_tree(G,v_any).nodes())\n",
    "    DFS_GT = set(nx.dfs_tree(GT,v_any).nodes())\n",
    "    OUT = DFS_G - S\n",
    "    IN = DFS_GT - S\n",
    "    V_rest = set(G.nodes()) - S - OUT - IN\n",
    "\n",
    "    TUBES = set()\n",
    "    INTENDRILS = set()\n",
    "    OUTTENDRILS = set()\n",
    "    OTHER = set()\n",
    "    for v in V_rest:\n",
    "        irv = len(IN & set(nx.dfs_tree(GT,v).nodes())) is not 0\n",
    "        vro = len(OUT & set(nx.dfs_tree(G,v).nodes())) is not 0\n",
    "        if irv and vro:\n",
    "            TUBES.add(v)\n",
    "        elif irv and not vro:\n",
    "            INTENDRILS.add(v)\n",
    "        elif not irv and vro:\n",
    "            OUTTENDRILS.add(v)\n",
    "        elif not irv and not vro:\n",
    "            OTHER.add(v)\n",
    "            \n",
    "    return S, IN, OUT, TUBES, INTENDRILS, OUTTENDRILS, OTHER\n"
   ]
  },
  {
   "cell_type": "code",
   "execution_count": 4,
   "metadata": {},
   "outputs": [],
   "source": [
    "def get_node_colors(G):\n",
    "    [S, IN, OUT, TUBES, INTENDRILS, OUTTENDRILS, OTHER] = get_bowtie_components(G)\n",
    "    node_colors = []\n",
    "    for i, node in enumerate(G.nodes):\n",
    "        if node in IN:\n",
    "            node_colors.append('blue')\n",
    "        elif node in S:\n",
    "            node_colors.append('red')\n",
    "        elif node in OUT:\n",
    "            node_colors.append('green')\n",
    "        else:\n",
    "            node_colors.append('grey')\n",
    "    return node_colors #,{'S':S, 'IN':IN, 'OUT':OUT, 'TUBES':TUBES, 'INTENDRILS':INTENDRILS, 'OUTTENDRILS':OUTTENDRILS, 'OTHER':OTHER}\n"
   ]
  },
  {
   "cell_type": "code",
   "execution_count": 5,
   "metadata": {},
   "outputs": [],
   "source": [
    "\n",
    "def bow_tie_vis(G):\n",
    "    plt.figure()\n",
    "    node_colors = get_node_colors(G)\n",
    "\n",
    "    nx.draw_shell(G, node_color=node_colors, arrowsize=20)\n",
    "    plt.title('Bow-tie structure of grandom graph')\n",
    "    plt.figtext(1, 0.6, \"IN: nodes linking into the core\", fontsize=15, color='blue')\n",
    "    plt.figtext(1, 0.5, \"Core nodes\", fontsize=15, color='red')\n",
    "    plt.figtext(1, 0.4, 'OUT: nodes reached from the core', fontsize=15, color='green')\n",
    "    plt.show()"
   ]
  },
  {
   "cell_type": "code",
   "execution_count": 6,
   "metadata": {},
   "outputs": [],
   "source": [
    "datasets = datasets = 'webkb twitter'.split()"
   ]
  },
  {
   "cell_type": "code",
   "execution_count": 7,
   "metadata": {},
   "outputs": [
    {
     "name": "stdout",
     "output_type": "stream",
     "text": [
      "\n",
      "webkb\n",
      "|S| = 14\n",
      "|IN| = 3\n",
      "|OUT| = 13\n",
      "|TUBES| = 6\n",
      "|INTENDRILS| = 3\n",
      "|OUTTENDRILS| = 156\n",
      "|OTHER| = 664\n",
      "\n",
      "twitter\n",
      "|S| = 511\n",
      "|IN| = 346\n",
      "|OUT| = 254\n",
      "|TUBES| = 20\n",
      "|INTENDRILS| = 141\n",
      "|OUTTENDRILS| = 303\n",
      "|OTHER| = 559\n"
     ]
    }
   ],
   "source": [
    "for dataset_name in datasets:\n",
    "    dataset = GraphDataset(f'../data/tmp/{dataset_name}_directed', dataset_name,\n",
    "                       f'../data/graphs/processed/{dataset_name}/{dataset_name}.cites',\n",
    "                       f'../data/graphs/processed/{dataset_name}/{dataset_name}.content',\n",
    "                       directed=True, reverse=False)[0]\n",
    "    G = to_networkx(dataset)\n",
    "    [S, IN, OUT, TUBES, INTENDRILS, OUTTENDRILS, OTHER] = get_bowtie_components(G)\n",
    "    d = {'S':S, 'IN':IN, 'OUT':OUT, 'TUBES':TUBES, 'INTENDRILS':INTENDRILS, 'OUTTENDRILS':OUTTENDRILS, 'OTHER':OTHER}\n",
    "    print(f'\\n{dataset_name}')\n",
    "    for group in d:\n",
    "        print(f'|{group}| = {len(d[group])}')\n"
   ]
  },
  {
   "cell_type": "code",
   "execution_count": 8,
   "metadata": {},
   "outputs": [
    {
     "name": "stdout",
     "output_type": "stream",
     "text": [
      "Processing...\n",
      "Read features: RUNNING\n",
      "Read features: DONE\n",
      "Read edges: RUNNING\n",
      "Read edges: DONE\n",
      " 1460 edges\n",
      "Done!\n",
      "\n",
      "webkb\n",
      "|S| = 119\n",
      "|IN| = 31\n",
      "|OUT| = 37\n",
      "|TUBES| = 1\n",
      "|INTENDRILS| = 2\n",
      "|OUTTENDRILS| = 5\n",
      "|OTHER| = 664\n",
      "Processing...\n",
      "Read features: RUNNING\n",
      "Read features: DONE\n",
      "Read edges: RUNNING\n",
      "Read edges: DONE\n",
      " 6643 edges\n",
      "Done!\n",
      "\n",
      "twitter\n",
      "|S| = 1068\n",
      "|IN| = 277\n",
      "|OUT| = 292\n",
      "|TUBES| = 23\n",
      "|INTENDRILS| = 112\n",
      "|OUTTENDRILS| = 103\n",
      "|OTHER| = 259\n"
     ]
    }
   ],
   "source": [
    "for dataset_name in datasets:\n",
    "    i = 0\n",
    "    dataset = GraphDataset(f'../data/tmp/{dataset_name}_directed-sbm{i}', dataset_name,\n",
    "                       f'../data/graphs/sbm/{dataset_name}/{dataset_name}_sbm_{i}.cites',\n",
    "                       f'../data/graphs/processed/{dataset_name}/{dataset_name}.content',\n",
    "                       directed=True, reverse=False)[0]\n",
    "    G = to_networkx(dataset)\n",
    "    [S, IN, OUT, TUBES, INTENDRILS, OUTTENDRILS, OTHER] = get_bowtie_components(G)\n",
    "    d = {'S':S, 'IN':IN, 'OUT':OUT, 'TUBES':TUBES, 'INTENDRILS':INTENDRILS, 'OUTTENDRILS':OUTTENDRILS, 'OTHER':OTHER}\n",
    "    print(f'\\n{dataset_name}')\n",
    "    for group in d:\n",
    "        print(f'|{group}| = {len(d[group])}')"
   ]
  },
  {
   "cell_type": "code",
   "execution_count": 9,
   "metadata": {},
   "outputs": [
    {
     "name": "stdout",
     "output_type": "stream",
     "text": [
      "Processing...\n",
      "Read features: RUNNING\n",
      "Read features: DONE\n",
      "Read edges: RUNNING\n",
      "Read edges: DONE\n",
      " 1473 edges\n",
      "Done!\n",
      "\n",
      "webkb\n",
      "|S| = 40\n",
      "|IN| = 171\n",
      "|OUT| = 138\n",
      "|TUBES| = 81\n",
      "|INTENDRILS| = 62\n",
      "|OUTTENDRILS| = 279\n",
      "|OTHER| = 88\n",
      "Processing...\n",
      "Read features: RUNNING\n",
      "Read features: DONE\n",
      "Read edges: RUNNING\n",
      "Read edges: DONE\n",
      " 6907 edges\n",
      "Done!\n",
      "\n",
      "twitter\n",
      "|S| = 672\n",
      "|IN| = 792\n",
      "|OUT| = 430\n",
      "|TUBES| = 19\n",
      "|INTENDRILS| = 69\n",
      "|OUTTENDRILS| = 126\n",
      "|OTHER| = 26\n"
     ]
    }
   ],
   "source": [
    "for dataset_name in datasets:\n",
    "    i = 0\n",
    "    dataset = GraphDataset(f'../data/tmp/{dataset_name}_directed-confmodel{i}', dataset_name,\n",
    "                       f'../data/graphs/confmodel/{dataset_name}/{dataset_name}_confmodel_{i}.cites',\n",
    "                       f'../data/graphs/processed/{dataset_name}/{dataset_name}.content',\n",
    "                       directed=True, reverse=False)[0]\n",
    "    G = to_networkx(dataset)\n",
    "    [S, IN, OUT, TUBES, INTENDRILS, OUTTENDRILS, OTHER] = get_bowtie_components(G)\n",
    "    d = {'S':S, 'IN':IN, 'OUT':OUT, 'TUBES':TUBES, 'INTENDRILS':INTENDRILS, 'OUTTENDRILS':OUTTENDRILS, 'OTHER':OTHER}\n",
    "    print(f'\\n{dataset_name}')\n",
    "    for group in d:\n",
    "        print(f'|{group}| = {len(d[group])}')"
   ]
  },
  {
   "cell_type": "code",
   "execution_count": null,
   "metadata": {},
   "outputs": [],
   "source": []
  }
 ],
 "metadata": {
  "kernelspec": {
   "display_name": "Python 3",
   "language": "python",
   "name": "python3"
  },
  "language_info": {
   "codemirror_mode": {
    "name": "ipython",
    "version": 3
   },
   "file_extension": ".py",
   "mimetype": "text/x-python",
   "name": "python",
   "nbconvert_exporter": "python",
   "pygments_lexer": "ipython3",
   "version": "3.7.5"
  }
 },
 "nbformat": 4,
 "nbformat_minor": 4
}
