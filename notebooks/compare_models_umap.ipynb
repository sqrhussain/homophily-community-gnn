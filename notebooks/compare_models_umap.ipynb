{
 "cells": [
  {
   "cell_type": "code",
   "execution_count": 1,
   "metadata": {},
   "outputs": [
    {
     "data": {
      "text/plain": [
       "'/home/tduricic/Development/workspace/structure-in-gnn'"
      ]
     },
     "execution_count": 1,
     "metadata": {},
     "output_type": "execute_result"
    }
   ],
   "source": [
    "import os\n",
    "import sys\n",
    "import networkx as nx\n",
    "import pandas as pd\n",
    "import community as community_louvain\n",
    "import networkx.algorithms.community as nx_comm\n",
    "nb_dir = os.path.split(os.getcwd())[0]\n",
    "if nb_dir not in sys.path:\n",
    "    sys.path.append(nb_dir)\n",
    "os.chdir('/home/tduricic/Development/workspace/structure-in-gnn')\n",
    "from src.data import dataset_handle\n",
    "os.getcwd()"
   ]
  },
  {
   "cell_type": "code",
   "execution_count": 2,
   "metadata": {},
   "outputs": [],
   "source": [
    "def generate_conf_model(G,seed=0):\n",
    "    din=[x[1] for x in G.in_degree()]\n",
    "    dout=[x[1] for x in G.out_degree()]\n",
    "    GNoisy=nx.directed_configuration_model(din,dout,create_using=nx.DiGraph(),seed=seed)\n",
    "    keys = [x[0] for x in G.in_degree()]\n",
    "    G_mapping = dict(zip(range(len(G.nodes())),keys))\n",
    "    G_rev_mapping = dict(zip(keys,range(len(G.nodes()))))\n",
    "    GNoisy = nx.relabel_nodes(GNoisy,G_mapping)\n",
    "    return GNoisy\n",
    "\n",
    "def generate_modified_conf_model(G, seed=0):\n",
    "    node_labels_dict = nx.get_node_attributes(G,'label')\n",
    "    unique_node_labels = set(node_labels.values())\n",
    "    same_label_subgraphs = {}\n",
    "    for node_label in unique_node_labels:\n",
    "        same_label_subgraphs[node_label] = nx.DiGraph()\n",
    "    edges_to_remove = []\n",
    "    for edge in G.edges:\n",
    "        if edge[0] in node_labels_dict and edge[1] in node_labels_dict and node_labels_dict[edge[0]] == node_labels_dict[edge[1]]:\n",
    "            node_label = G.nodes(data=True)[edge[0]]['label']\n",
    "            same_label_subgraphs[node_label].add_edge(edge[0], edge[1])\n",
    "            edges_to_remove.append((edge[0], edge[1]))\n",
    "    G.remove_edges_from(edges_to_remove)\n",
    "    for label in same_label_subgraphs:\n",
    "        G.add_edges_from(generate_conf_model(same_label_subgraphs[label], seed).edges)\n",
    "    return G"
   ]
  },
  {
   "cell_type": "code",
   "execution_count": 4,
   "metadata": {},
   "outputs": [
    {
     "name": "stdout",
     "output_type": "stream",
     "text": [
      "File downloaded and extracted!\n",
      "Created data/graphs/processed/cora/cora.cites and data/graphs/processed/cora/cora.content\n",
      "File downloaded and extracted!\n",
      "Created data/graphs/processed/citeseer/citeseer.cites and data/graphs/processed/citeseer/citeseer.content\n",
      "Downloading https://linqs-data.soe.ucsc.edu/public/lbc/WebKB.tgz...\n",
      "File downloaded and extracted!\n",
      "Created data/graphs/processed/texas/texas.cites and data/graphs/processed/texas/texas.content\n",
      "Downloading https://linqs-data.soe.ucsc.edu/public/lbc/WebKB.tgz...\n",
      "File downloaded and extracted!\n",
      "Created data/graphs/processed/washington/washington.cites and data/graphs/processed/washington/washington.content\n",
      "Downloading https://linqs-data.soe.ucsc.edu/public/lbc/WebKB.tgz...\n",
      "File downloaded and extracted!\n",
      "Created data/graphs/processed/wisconsin/wisconsin.cites and data/graphs/processed/wisconsin/wisconsin.content\n",
      "File downloaded and extracted!\n",
      "Created data/graphs/processed/webkb/webkb.cites and data/graphs/processed/webkb/webkb.content\n",
      "Downloading https://linqs-data.soe.ucsc.edu/public/Pubmed-Diabetes.tgz...\n",
      "File downloaded and extracted!\n"
     ]
    }
   ],
   "source": [
    "# Download datasets\n",
    "dataset_handle.create_cora()\n",
    "dataset_handle.create_citeseer()\n",
    "dataset_handle.create_texas()\n",
    "dataset_handle.create_washington()\n",
    "dataset_handle.create_wisconsin()\n",
    "# dataset_handle.create_cornell()\n",
    "dataset_handle.create_webkb()\n",
    "dataset_handle.create_pubmed()"
   ]
  },
  {
   "cell_type": "code",
   "execution_count": 30,
   "metadata": {},
   "outputs": [],
   "source": [
    "# Create G and label CM G from datasets\n",
    "datasets = ['cora', 'citeseer', 'webkb', 'pubmed'] #'cornell']\n",
    "graphs = {}\n",
    "for dataset in datasets:\n",
    "    graph_filepath = 'data/graphs/processed/'+ dataset +'/'+ dataset +'.cites'\n",
    "    original_G = nx.Graph()\n",
    "    with open(graph_filepath, 'r') as f:\n",
    "        for line in f:\n",
    "            edge = line.split()\n",
    "            original_G.add_edge(edge[0], edge[1])\n",
    "    node_labels = {}\n",
    "    features_filepath =  'data/graphs/processed/' + dataset + '/' + dataset + '.content'\n",
    "    with open(features_filepath, 'r') as f:\n",
    "        for line in f:\n",
    "            features = line.split()\n",
    "            node_id = features[0]\n",
    "            label = features[-1]\n",
    "            node_labels[node_id] = label\n",
    "    for node_id in original_G.nodes:\n",
    "        if node_id in node_labels:\n",
    "            original_G.nodes[node_id]['label'] = node_labels[node_id]\n",
    "    label_cm_G = generate_modified_conf_model(original_G)    \n",
    "    graphs[dataset] = {'original': original_G, 'label_cm':label_cm_G}"
   ]
  },
  {
   "cell_type": "code",
   "execution_count": 32,
   "metadata": {},
   "outputs": [
    {
     "name": "stdout",
     "output_type": "stream",
     "text": [
      "1\n",
      "2\n",
      "3\n",
      "4\n",
      "5\n",
      "6\n",
      "7\n",
      "8\n",
      "9\n",
      "10\n"
     ]
    }
   ],
   "source": [
    "# Run community detection and calculate modularity on original and CM graphs\n",
    "for run_iteration in range(1,11):\n",
    "    print(run_iteration)\n",
    "    for dataset in datasets:\n",
    "        if run_iteration not in graphs[dataset]:\n",
    "            graphs[dataset][run_iteration] = {}\n",
    "        original_G_best_partition = community_louvain.best_partition(graphs[dataset]['original'])\n",
    "        label_cm_G_best_partition = community_louvain.best_partition(graphs[dataset]['label_cm'])\n",
    "        graphs[dataset][run_iteration]['num_communities_original'] = len(set(original_G_best_partition.values()))\n",
    "        graphs[dataset][run_iteration]['num_communities_label_cm'] = len(set(label_cm_G_best_partition.values()))\n",
    "        original_communities = {}\n",
    "        for node_id in original_G_best_partition:\n",
    "            community_id = original_G_best_partition[node_id]\n",
    "            if community_id not in original_communities:\n",
    "                original_communities[community_id] = []\n",
    "            original_communities[community_id].append(node_id)\n",
    "        label_cm_communities = {}\n",
    "        for node_id in label_cm_G_best_partition:\n",
    "            community_id = label_cm_G_best_partition[node_id]\n",
    "            if community_id not in label_cm_communities:\n",
    "                label_cm_communities[community_id] = []\n",
    "            label_cm_communities[community_id].append(node_id)\n",
    "        graphs[dataset][run_iteration]['modularity_original'] = nx_comm.modularity(graphs[dataset]['original'], list(original_communities.values()))\n",
    "        graphs[dataset][run_iteration]['modularity_label_cm'] = nx_comm.modularity(graphs[dataset]['label_cm'], list(label_cm_communities.values()))\n",
    "    run_iteration += 1"
   ]
  },
  {
   "cell_type": "code",
   "execution_count": 35,
   "metadata": {},
   "outputs": [],
   "source": [
    "boxplot_values = []\n",
    "for dataset in graphs:\n",
    "    for run_iteration in range(1,11):\n",
    "        boxplot_values.append({\n",
    "            'dataset':dataset,\n",
    "            'Number of communities':graphs[dataset][run_iteration]['num_communities_original'],\n",
    "            'Modularity':graphs[dataset][run_iteration]['modularity_original'],\n",
    "            'Graph type':'Original',\n",
    "            'run_iteration':run_iteration\n",
    "        })\n",
    "        boxplot_values.append({\n",
    "            'dataset':dataset,\n",
    "            'Number of communities':graphs[dataset][run_iteration]['num_communities_label_cm'],\n",
    "            'Modularity':graphs[dataset][run_iteration]['modularity_label_cm'],\n",
    "            'Graph type':'Label CM',\n",
    "            'run_iteration':run_iteration\n",
    "        })\n",
    "df = pd.DataFrame(boxplot_values)"
   ]
  },
  {
   "cell_type": "code",
   "execution_count": 36,
   "metadata": {},
   "outputs": [
    {
     "data": {
      "text/html": [
       "<div>\n",
       "<style scoped>\n",
       "    .dataframe tbody tr th:only-of-type {\n",
       "        vertical-align: middle;\n",
       "    }\n",
       "\n",
       "    .dataframe tbody tr th {\n",
       "        vertical-align: top;\n",
       "    }\n",
       "\n",
       "    .dataframe thead th {\n",
       "        text-align: right;\n",
       "    }\n",
       "</style>\n",
       "<table border=\"1\" class=\"dataframe\">\n",
       "  <thead>\n",
       "    <tr style=\"text-align: right;\">\n",
       "      <th></th>\n",
       "      <th>dataset</th>\n",
       "      <th>Number of communities</th>\n",
       "      <th>Modularity</th>\n",
       "      <th>Graph type</th>\n",
       "      <th>run_iteration</th>\n",
       "    </tr>\n",
       "  </thead>\n",
       "  <tbody>\n",
       "    <tr>\n",
       "      <th>0</th>\n",
       "      <td>cora</td>\n",
       "      <td>14</td>\n",
       "      <td>0.709414</td>\n",
       "      <td>Original</td>\n",
       "      <td>1</td>\n",
       "    </tr>\n",
       "    <tr>\n",
       "      <th>1</th>\n",
       "      <td>cora</td>\n",
       "      <td>17</td>\n",
       "      <td>0.697475</td>\n",
       "      <td>Label CM</td>\n",
       "      <td>1</td>\n",
       "    </tr>\n",
       "    <tr>\n",
       "      <th>2</th>\n",
       "      <td>cora</td>\n",
       "      <td>15</td>\n",
       "      <td>0.712204</td>\n",
       "      <td>Original</td>\n",
       "      <td>2</td>\n",
       "    </tr>\n",
       "    <tr>\n",
       "      <th>3</th>\n",
       "      <td>cora</td>\n",
       "      <td>16</td>\n",
       "      <td>0.705260</td>\n",
       "      <td>Label CM</td>\n",
       "      <td>2</td>\n",
       "    </tr>\n",
       "    <tr>\n",
       "      <th>4</th>\n",
       "      <td>cora</td>\n",
       "      <td>16</td>\n",
       "      <td>0.700362</td>\n",
       "      <td>Original</td>\n",
       "      <td>3</td>\n",
       "    </tr>\n",
       "    <tr>\n",
       "      <th>...</th>\n",
       "      <td>...</td>\n",
       "      <td>...</td>\n",
       "      <td>...</td>\n",
       "      <td>...</td>\n",
       "      <td>...</td>\n",
       "    </tr>\n",
       "    <tr>\n",
       "      <th>75</th>\n",
       "      <td>pubmed</td>\n",
       "      <td>183</td>\n",
       "      <td>0.581904</td>\n",
       "      <td>Label CM</td>\n",
       "      <td>8</td>\n",
       "    </tr>\n",
       "    <tr>\n",
       "      <th>76</th>\n",
       "      <td>pubmed</td>\n",
       "      <td>206</td>\n",
       "      <td>0.585118</td>\n",
       "      <td>Original</td>\n",
       "      <td>9</td>\n",
       "    </tr>\n",
       "    <tr>\n",
       "      <th>77</th>\n",
       "      <td>pubmed</td>\n",
       "      <td>158</td>\n",
       "      <td>0.574047</td>\n",
       "      <td>Label CM</td>\n",
       "      <td>9</td>\n",
       "    </tr>\n",
       "    <tr>\n",
       "      <th>78</th>\n",
       "      <td>pubmed</td>\n",
       "      <td>181</td>\n",
       "      <td>0.583477</td>\n",
       "      <td>Original</td>\n",
       "      <td>10</td>\n",
       "    </tr>\n",
       "    <tr>\n",
       "      <th>79</th>\n",
       "      <td>pubmed</td>\n",
       "      <td>174</td>\n",
       "      <td>0.582387</td>\n",
       "      <td>Label CM</td>\n",
       "      <td>10</td>\n",
       "    </tr>\n",
       "  </tbody>\n",
       "</table>\n",
       "<p>80 rows × 5 columns</p>\n",
       "</div>"
      ],
      "text/plain": [
       "   dataset  Number of communities  Modularity Graph type  run_iteration\n",
       "0     cora                     14    0.709414   Original              1\n",
       "1     cora                     17    0.697475   Label CM              1\n",
       "2     cora                     15    0.712204   Original              2\n",
       "3     cora                     16    0.705260   Label CM              2\n",
       "4     cora                     16    0.700362   Original              3\n",
       "..     ...                    ...         ...        ...            ...\n",
       "75  pubmed                    183    0.581904   Label CM              8\n",
       "76  pubmed                    206    0.585118   Original              9\n",
       "77  pubmed                    158    0.574047   Label CM              9\n",
       "78  pubmed                    181    0.583477   Original             10\n",
       "79  pubmed                    174    0.582387   Label CM             10\n",
       "\n",
       "[80 rows x 5 columns]"
      ]
     },
     "execution_count": 36,
     "metadata": {},
     "output_type": "execute_result"
    }
   ],
   "source": [
    "df"
   ]
  },
  {
   "cell_type": "code",
   "execution_count": 24,
   "metadata": {},
   "outputs": [],
   "source": [
    "# Calculate d=2 UMAP embeddings for original and CM graphs"
   ]
  },
  {
   "cell_type": "code",
   "execution_count": 25,
   "metadata": {},
   "outputs": [],
   "source": [
    "# Visualize UMAP embeddings and color by labels"
   ]
  },
  {
   "cell_type": "code",
   "execution_count": 38,
   "metadata": {},
   "outputs": [
    {
     "data": {
      "text/plain": [
       "<AxesSubplot:xlabel='dataset', ylabel='Modularity'>"
      ]
     },
     "execution_count": 38,
     "metadata": {},
     "output_type": "execute_result"
    },
    {
     "data": {
      "image/png": "[encoded data removed]",
      "text/plain": [
       "<Figure size 432x288 with 1 Axes>"
      ]
     },
     "metadata": {},
     "output_type": "display_data"
    }
   ],
   "source": [
    "sns.boxplot(y='Modularity', x='dataset', \n",
    "                 data=df, \n",
    "                 palette=\"colorblind\",\n",
    "                 hue='Graph type')"
   ]
  },
  {
   "cell_type": "code",
   "execution_count": 39,
   "metadata": {},
   "outputs": [
    {
     "data": {
      "text/plain": [
       "<AxesSubplot:xlabel='dataset', ylabel='Number of communities'>"
      ]
     },
     "execution_count": 39,
     "metadata": {},
     "output_type": "execute_result"
    },
    {
     "data": {
      "image/png": "[encoded data removed]",
      "text/plain": [
       "<Figure size 432x288 with 1 Axes>"
      ]
     },
     "metadata": {},
     "output_type": "display_data"
    }
   ],
   "source": [
    "sns.boxplot(y='Number of communities', x='dataset', \n",
    "                 data=df, \n",
    "                 palette=\"colorblind\",\n",
    "                 hue='Graph type')"
   ]
  },
  {
   "cell_type": "code",
   "execution_count": null,
   "metadata": {},
   "outputs": [],
   "source": []
  }
 ],
 "metadata": {
  "kernelspec": {
   "display_name": "Python 3",
   "language": "python",
   "name": "python3"
  },
  "language_info": {
   "codemirror_mode": {
    "name": "ipython",
    "version": 3
   },
   "file_extension": ".py",
   "mimetype": "text/x-python",
   "name": "python",
   "nbconvert_exporter": "python",
   "pygments_lexer": "ipython3",
   "version": "3.7.6"
  }
 },
 "nbformat": 4,
 "nbformat_minor": 4
}
