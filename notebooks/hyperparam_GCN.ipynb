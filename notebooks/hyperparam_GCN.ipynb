{
 "cells": [
  {
   "cell_type": "code",
   "execution_count": 1,
   "metadata": {},
   "outputs": [],
   "source": [
    "from gnn_hyperparam_search import eval_archs\n",
    "from multi_layered_model import MonoModel,BiModel,TriModel\n",
    "from torch_geometric.nn import GCNConv\n",
    "from cora_loader import CitationNetwork\n",
    "import warnings\n",
    "warnings.filterwarnings('ignore')\n",
    "import pandas as pd \n",
    "import os"
   ]
  },
  {
   "cell_type": "code",
   "execution_count": 20,
   "metadata": {},
   "outputs": [],
   "source": [
    "cora = CitationNetwork('/tmp/cora2','cora',directed=False)"
   ]
  },
  {
   "cell_type": "code",
   "execution_count": 3,
   "metadata": {},
   "outputs": [],
   "source": [
    "num_splits = 100\n",
    "num_runs = 20"
   ]
  },
  {
   "cell_type": "code",
   "execution_count": 12,
   "metadata": {},
   "outputs": [],
   "source": [
    "val_out = 'eval/gcn_val.csv'"
   ]
  },
  {
   "cell_type": "code",
   "execution_count": 13,
   "metadata": {},
   "outputs": [],
   "source": [
    "if os.path.exists(val_out):\n",
    "    df_val = pd.read_csv(val_out)\n",
    "else:\n",
    "    df_val = pd.DataFrame(columns='conv arch ch dropout lr wd heads splits inits val_accs val_avg val_std test_accs test_avg test_std stopped elapsed'.split())"
   ]
  },
  {
   "cell_type": "code",
   "execution_count": 14,
   "metadata": {},
   "outputs": [],
   "source": [
    "def eval_archs_gcn(dataset,conv,channel_size,dropout,lr,wd,models=[MonoModel, BiModel, TriModel],df=None):\n",
    "    return eval_archs(dataset,conv,channel_size,dropout,lr,wd,heads=1,\n",
    "               models=models,num_runs=num_runs,num_splits=num_splits,df_val = df)"
   ]
  },
  {
   "cell_type": "code",
   "execution_count": 15,
   "metadata": {},
   "outputs": [],
   "source": [
    "def contains(df_val,ch,lr,dropout,wd):\n",
    "    return ((df_val['ch']==ch) & (df_val['lr']==lr) & (df_val['dropout']==dropout) & (df_val['wd']==wd)).any()"
   ]
  },
  {
   "cell_type": "code",
   "execution_count": null,
   "metadata": {
    "scrolled": true
   },
   "outputs": [
    {
     "name": "stdout",
     "output_type": "stream",
     "text": [
      "already calculated!\n",
      "already calculated!\n",
      "already calculated!\n",
      "already calculated!\n",
      "already calculated!\n",
      "already calculated!\n",
      "already calculated!\n",
      "already calculated!\n",
      "already calculated!\n",
      "already calculated!\n",
      "already calculated!\n",
      "already calculated!\n",
      "already calculated!\n",
      "already calculated!\n",
      "already calculated!\n",
      "already calculated!\n",
      "already calculated!\n",
      "already calculated!\n",
      "already calculated!\n",
      "already calculated!\n",
      "already calculated!\n",
      "already calculated!\n",
      "already calculated!\n",
      "already calculated!\n",
      "already calculated!\n",
      "already calculated!\n",
      "already calculated!\n",
      "already calculated!\n",
      "already calculated!\n",
      "already calculated!\n",
      "already calculated!\n",
      "already calculated!\n",
      "already calculated!\n",
      "already calculated!\n",
      "already calculated!\n",
      "already calculated!\n",
      "already calculated!\n",
      "already calculated!\n",
      "already calculated!\n",
      "already calculated!\n",
      "already calculated!\n",
      "already calculated!\n",
      "already calculated!\n",
      "already calculated!\n",
      "already calculated!\n",
      "already calculated!\n",
      "already calculated!\n",
      "already calculated!\n",
      "already calculated!\n",
      "already calculated!\n",
      "already calculated!\n",
      "already calculated!\n",
      "already calculated!\n",
      "already calculated!\n",
      "already calculated!\n",
      "already calculated!\n",
      "already calculated!\n",
      "already calculated!\n",
      "already calculated!\n",
      "already calculated!\n",
      "already calculated!\n",
      "already calculated!\n",
      "already calculated!\n",
      "already calculated!\n",
      "already calculated!\n",
      "already calculated!\n",
      "already calculated!\n",
      "already calculated!\n",
      "already calculated!\n",
      "already calculated!\n",
      "already calculated!\n",
      "already calculated!\n",
      "already calculated!\n",
      ">> acc_100_20/GCNConv_MonoModel_ch24_lr0.005_wd0.001_dropout0.6_heads1.out\n",
      ">> acc_100_20/GCNConv_BiModel_ch24_lr0.005_wd0.001_dropout0.6_heads1.out\n"
     ]
    }
   ],
   "source": [
    "for ch in [12,24]:\n",
    "    for lr in [1e-3,5e-3,1e-2]:\n",
    "        for dropout in [0.2,0.4,0.6,0.8]:\n",
    "            for wd in [1e-4,1e-3,1e-2,1e-1]:\n",
    "                if contains(df_val,ch,lr,dropout,wd):\n",
    "                    print('already calculated!')\n",
    "                    continue\n",
    "                df_val = eval_archs_gcn(dataset=cora,conv=GCNConv,channel_size=ch,lr=lr,dropout=dropout,wd=wd,df=df_val)\n",
    "                df_val.to_csv(val_out,index=False)"
   ]
  },
  {
   "cell_type": "code",
   "execution_count": null,
   "metadata": {},
   "outputs": [],
   "source": [
    "a"
   ]
  },
  {
   "cell_type": "code",
   "execution_count": null,
   "metadata": {},
   "outputs": [],
   "source": []
  }
 ],
 "metadata": {
  "kernelspec": {
   "display_name": "Python 3",
   "language": "python",
   "name": "python3"
  },
  "language_info": {
   "codemirror_mode": {
    "name": "ipython",
    "version": 3
   },
   "file_extension": ".py",
   "mimetype": "text/x-python",
   "name": "python",
   "nbconvert_exporter": "python",
   "pygments_lexer": "ipython3",
   "version": "3.7.5"
  }
 },
 "nbformat": 4,
 "nbformat_minor": 4
}
