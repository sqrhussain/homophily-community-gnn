{
 "cells": [
  {
   "cell_type": "code",
   "execution_count": 1,
   "metadata": {},
   "outputs": [],
   "source": [
    "# Let's start learning\n",
    "import torch\n",
    "from torch_geometric.datasets import Planetoid\n",
    "from cora_loader import CitationNetwork,CocitationNetwork\n",
    "from torch.utils.data import DataLoader\n",
    "from torch_geometric.nn import GCNConv,SAGEConv,GATConv,GraphConv,SGConv\n",
    "\n",
    "import torch.nn.functional as F\n",
    "\n",
    "from torch_geometric_node2vec import Node2Vec\n",
    "\n",
    "from multi_layered_model import MonoModel,BiModel,TriModel\n",
    "import time\n",
    "# from models_eval import eval_multiple,eval_multiple_bi,eval_multiple_tri,eval_multiple_tripre"
   ]
  },
  {
   "cell_type": "code",
   "execution_count": 2,
   "metadata": {},
   "outputs": [],
   "source": [
    "citeseer = CitationNetwork('/tmp/citeseer','citeseer',directed=False)\n",
    "cora = CitationNetwork('/tmp/cora','cora',directed=False)"
   ]
  },
  {
   "cell_type": "code",
   "execution_count": 3,
   "metadata": {},
   "outputs": [],
   "source": [
    "coraDirected = CitationNetwork('/tmp/coraDirected','cora',directed=True)\n",
    "coraReversed = CitationNetwork('/tmp/coraReversed','cora',directed=True,reverse=True)\n",
    "citeseerDirected = CitationNetwork('/tmp/citeseerDirected','citeseer',directed=True)\n",
    "citeseerReversed = CitationNetwork('/tmp/citeseerReversed','citeseer',directed=True,reverse=True)"
   ]
  },
  {
   "cell_type": "code",
   "execution_count": 6,
   "metadata": {},
   "outputs": [],
   "source": [
    "def run_and_eval_model(dataset,channels1,arch,modelType,epochs=200):\n",
    "    # training process (without batches/transforms)\n",
    "    device = torch.device('cuda' if torch.cuda.is_available() else 'cpu')\n",
    "    model = arch(modelType,dataset,channels1).to(device)\n",
    "    data = dataset[0].to(device)\n",
    "    optimizer = torch.optim.Adam(model.parameters(),lr=0.01,weight_decay=5e-4)\n",
    "    model.train() # to enter training phase\n",
    "    for epoch in range(epochs):\n",
    "        optimizer.zero_grad() # saw this a lot in the beginning, maybe resetting gradients (not to accumulate)\n",
    "        out = model(data) # this calls the forward method apparently\n",
    "        loss = F.nll_loss(out[data.train_mask],data.y[data.train_mask]) # nice indexing, easy and short\n",
    "        loss.backward() # magic: real back propagation step, takes care of the gradients and stuff\n",
    "        optimizer.step() # maybe updates the params to be optimized\n",
    "    model.eval() # enter eval phase\n",
    "    _,pred = model(data).max(dim=1) # take prediction out of softmax\n",
    "    correct = float(pred[data.test_mask].eq(data.y[data.test_mask]).sum().item())\n",
    "    acc = correct / data.test_mask.sum().item()\n",
    "    return acc\n",
    "\n",
    "def eval_multiple(dataset,channels1,arch,modelType,runs=100,epochs=50):\n",
    "    start = time.time()\n",
    "    accs = []\n",
    "    for i in range(runs):\n",
    "        accs.append(run_and_eval_model(dataset,channels1,arch,modelType,epochs))\n",
    "    elapsed_time = time.time() - start\n",
    "    print('Elaplsed {}'.format(time.strftime(\"%H:%M:%S\", time.gmtime(elapsed_time))))\n",
    "    return sum(accs)/len(accs),accs\n"
   ]
  },
  {
   "cell_type": "code",
   "execution_count": 9,
   "metadata": {},
   "outputs": [
    {
     "name": "stdout",
     "output_type": "stream",
     "text": [
      "Elaplsed 00:00:02\n"
     ]
    },
    {
     "data": {
      "text/plain": [
       "0.20639999999999997"
      ]
     },
     "execution_count": 9,
     "metadata": {},
     "output_type": "execute_result"
    }
   ],
   "source": [
    "eval_multiple(coraDirected,[16],MonoModel,GCNConv,runs=10,epochs=50)[0]"
   ]
  },
  {
   "cell_type": "code",
   "execution_count": 10,
   "metadata": {},
   "outputs": [
    {
     "name": "stdout",
     "output_type": "stream",
     "text": [
      "Elaplsed 00:00:04\n"
     ]
    },
    {
     "data": {
      "text/plain": [
       "0.35540000000000005"
      ]
     },
     "execution_count": 10,
     "metadata": {},
     "output_type": "execute_result"
    }
   ],
   "source": [
    "eval_multiple(cora,[16],MonoModel,GCNConv,runs=10,epochs=50)[0]"
   ]
  },
  {
   "cell_type": "code",
   "execution_count": 12,
   "metadata": {},
   "outputs": [
    {
     "name": "stdout",
     "output_type": "stream",
     "text": [
      "Elaplsed 00:00:03\n"
     ]
    },
    {
     "data": {
      "text/plain": [
       "0.27280000000000004"
      ]
     },
     "execution_count": 12,
     "metadata": {},
     "output_type": "execute_result"
    }
   ],
   "source": [
    "eval_multiple(cora,[16,16,16],MonoModel,GCNConv,runs=10,epochs=50)[0]"
   ]
  },
  {
   "cell_type": "code",
   "execution_count": null,
   "metadata": {},
   "outputs": [],
   "source": []
  }
 ],
 "metadata": {
  "kernelspec": {
   "display_name": "Python 3",
   "language": "python",
   "name": "python3"
  },
  "language_info": {
   "codemirror_mode": {
    "name": "ipython",
    "version": 3
   },
   "file_extension": ".py",
   "mimetype": "text/x-python",
   "name": "python",
   "nbconvert_exporter": "python",
   "pygments_lexer": "ipython3",
   "version": "3.7.3"
  }
 },
 "nbformat": 4,
 "nbformat_minor": 2
}
