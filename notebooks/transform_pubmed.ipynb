{
 "cells": [
  {
   "cell_type": "code",
   "execution_count": 4,
   "metadata": {},
   "outputs": [],
   "source": [
    "import numpy as np"
   ]
  },
  {
   "cell_type": "code",
   "execution_count": 15,
   "metadata": {},
   "outputs": [],
   "source": [
    "\n",
    "def transform_pubmed(inFeat,outFeat,inNet,outNet):\n",
    "    with open(inFeat, 'r') as f:\n",
    "        with open(outFeat,'w') as out:\n",
    "            ignore = True\n",
    "            head = True\n",
    "            target = {}\n",
    "            features = {}\n",
    "            for line in f:\n",
    "                if ignore:\n",
    "                    ignore = False\n",
    "                    continue\n",
    "                if head:\n",
    "                    head = False\n",
    "                    s = line.split()[1:-1]\n",
    "                    s = [x.split(':')[1] for x in s]\n",
    "                    print(len(s))\n",
    "                    feats_nums = {s[i]:i for i in range(len(s))}\n",
    "                    continue\n",
    "                s = line.split()\n",
    "                id = s[0]\n",
    "                target[id] = s[1].split('=')[1]\n",
    "                assert (s[1].split('=')[0] == 'label')\n",
    "                feats = np.zeros((len(feats_nums)))\n",
    "                idx = [feats_nums[x.split('=')[0]] for x in s[2:-1]]\n",
    "                v = [float(x.split('=')[1]) for x in s[2:-1]]\n",
    "                feats[idx]=v\n",
    "                features[id] = feats\n",
    "                out.write(id + ' ')\n",
    "                out.write(' '.join([str(x) for x in feats]))\n",
    "                out.write(' '+target[id]+'\\n')\n",
    "    with open(inNet, 'r') as f:\n",
    "        with open(outNet,'w') as out:\n",
    "            ignore = True\n",
    "            head = True\n",
    "            for line in f:\n",
    "                if ignore:\n",
    "                    ignore = False\n",
    "                    continue\n",
    "                if head:\n",
    "                    head = False\n",
    "                    continue\n",
    "                s = line.split()\n",
    "                u = s[1].split(':')[1]\n",
    "                v = s[3].split(':')[1]\n",
    "                out.write(u + ' ' + v + '\\n')\n",
    "                \n",
    "                \n",
    "                \n",
    "        "
   ]
  },
  {
   "cell_type": "code",
   "execution_count": 18,
   "metadata": {},
   "outputs": [
    {
     "name": "stdout",
     "output_type": "stream",
     "text": [
      "500\n"
     ]
    }
   ],
   "source": [
    "transform_pubmed('../data/raw/Pubmed-Diabetes/data/Pubmed-Diabetes.NODE.paper.tab',\n",
    "                '../data/raw/PubMed/PubMed.content',\n",
    "                '../data/raw/Pubmed-Diabetes/data/Pubmed-Diabetes.DIRECTED.cites.tab',\n",
    "                '../data/raw/PubMed/PubMed.cites')"
   ]
  },
  {
   "cell_type": "code",
   "execution_count": null,
   "metadata": {},
   "outputs": [],
   "source": []
  }
 ],
 "metadata": {
  "kernelspec": {
   "display_name": "Python 3",
   "language": "python",
   "name": "python3"
  },
  "language_info": {
   "codemirror_mode": {
    "name": "ipython",
    "version": 3
   },
   "file_extension": ".py",
   "mimetype": "text/x-python",
   "name": "python",
   "nbconvert_exporter": "python",
   "pygments_lexer": "ipython3",
   "version": "3.7.3"
  }
 },
 "nbformat": 4,
 "nbformat_minor": 2
}
