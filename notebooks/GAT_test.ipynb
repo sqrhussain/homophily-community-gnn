{
 "cells": [
  {
   "cell_type": "code",
   "execution_count": 1,
   "metadata": {},
   "outputs": [],
   "source": [
    "import torch\n",
    "import torch.nn.functional as F\n",
    "import numpy as np\n",
    "from torch_geometric.nn import GATConv\n",
    "import time\n",
    "from cora_loader import CitationNetwork,CocitationNetwork,ConfigurationModelCitationNetwork\n",
    "import copy\n",
    "import numpy as np"
   ]
  },
  {
   "cell_type": "code",
   "execution_count": 1,
   "metadata": {},
   "outputs": [
    {
     "ename": "NameError",
     "evalue": "name 'torch' is not defined",
     "output_type": "error",
     "traceback": [
      "\u001b[0;31m---------------------------------------------------------------------------\u001b[0m",
      "\u001b[0;31mNameError\u001b[0m                                 Traceback (most recent call last)",
      "\u001b[0;32m<ipython-input-1-4e64a5e5287f>\u001b[0m in \u001b[0;36m<module>\u001b[0;34m\u001b[0m\n\u001b[0;32m----> 1\u001b[0;31m \u001b[0;32mclass\u001b[0m \u001b[0mMonoGAT\u001b[0m\u001b[0;34m(\u001b[0m\u001b[0mtorch\u001b[0m\u001b[0;34m.\u001b[0m\u001b[0mnn\u001b[0m\u001b[0;34m.\u001b[0m\u001b[0mModule\u001b[0m\u001b[0;34m)\u001b[0m\u001b[0;34m:\u001b[0m\u001b[0;34m\u001b[0m\u001b[0;34m\u001b[0m\u001b[0m\n\u001b[0m\u001b[1;32m      2\u001b[0m     \u001b[0;32mdef\u001b[0m \u001b[0m__init__\u001b[0m\u001b[0;34m(\u001b[0m\u001b[0mself\u001b[0m\u001b[0;34m,\u001b[0m\u001b[0mdataset\u001b[0m\u001b[0;34m,\u001b[0m\u001b[0mchannels\u001b[0m\u001b[0;34m,\u001b[0m\u001b[0mheads\u001b[0m\u001b[0;34m=\u001b[0m\u001b[0;36m1\u001b[0m\u001b[0;34m)\u001b[0m\u001b[0;34m:\u001b[0m\u001b[0;34m\u001b[0m\u001b[0;34m\u001b[0m\u001b[0m\n\u001b[1;32m      3\u001b[0m         \u001b[0msuper\u001b[0m\u001b[0;34m(\u001b[0m\u001b[0mMonoGAT\u001b[0m\u001b[0;34m,\u001b[0m\u001b[0mself\u001b[0m\u001b[0;34m)\u001b[0m\u001b[0;34m.\u001b[0m\u001b[0m__init__\u001b[0m\u001b[0;34m(\u001b[0m\u001b[0;34m)\u001b[0m\u001b[0;34m\u001b[0m\u001b[0;34m\u001b[0m\u001b[0m\n\u001b[1;32m      4\u001b[0m         \u001b[0mchannels\u001b[0m \u001b[0;34m=\u001b[0m \u001b[0;34m[\u001b[0m\u001b[0mdataset\u001b[0m\u001b[0;34m.\u001b[0m\u001b[0mnum_node_features\u001b[0m\u001b[0;34m]\u001b[0m \u001b[0;34m+\u001b[0m \u001b[0mchannels\u001b[0m \u001b[0;34m+\u001b[0m \u001b[0;34m[\u001b[0m\u001b[0mdataset\u001b[0m\u001b[0;34m.\u001b[0m\u001b[0mnum_classes\u001b[0m\u001b[0;34m]\u001b[0m\u001b[0;34m\u001b[0m\u001b[0;34m\u001b[0m\u001b[0m\n\u001b[1;32m      5\u001b[0m         \u001b[0mself\u001b[0m\u001b[0;34m.\u001b[0m\u001b[0mconv\u001b[0m \u001b[0;34m=\u001b[0m \u001b[0;34m[\u001b[0m\u001b[0;34m]\u001b[0m\u001b[0;34m\u001b[0m\u001b[0;34m\u001b[0m\u001b[0m\n",
      "\u001b[0;31mNameError\u001b[0m: name 'torch' is not defined"
     ]
    }
   ],
   "source": [
    "class MonoGAT(torch.nn.Module):\n",
    "    def __init__(self,dataset,channels,heads=1):\n",
    "        super(MonoGAT,self).__init__()\n",
    "        channels = [dataset.num_node_features] + channels + [dataset.num_classes]\n",
    "        self.conv = []\n",
    "        for i in range(1,len(channels)):\n",
    "            if i == 1:\n",
    "                conv = GATConv(channels[i-1],channels[i],heads=heads)\n",
    "            elif i == len(channels)-1:\n",
    "                if dataset.name=='PubMed':\n",
    "                    conv = GATConv(channels[i-1]*heads,channels[i],heads=heads,concat=False)\n",
    "                else:\n",
    "                    conv = GATConv(channels[i-1]*heads,channels[i])\n",
    "            else:\n",
    "                conv = GATConv(channels[i-1]*heads,channels[i],heads=heads)\n",
    "            self.add_module(str(i),conv)\n",
    "            self.conv.append(conv)\n",
    "        \n",
    "        \n",
    "    def forward(self, data): \n",
    "        x, edge_index = data.x, data.edge_index \n",
    "        \n",
    "        for conv in self.conv[:-1]:\n",
    "            x = conv(x,edge_index)\n",
    "            x = F.elu(x)\n",
    "            x = F.dropout(x,p=0.6,training=self.training) # YOU MUST UNDERSTAND DROPOUT\n",
    "        \n",
    "        # Last layer\n",
    "        x = self.conv[-1](x,edge_index)\n",
    "        x = F.softmax(x,dim=1)\n",
    "        \n",
    "        return x\n",
    "    \n",
    "\n",
    "class BiGAT(torch.nn.Module):\n",
    "    def __init__(self,dataset,channels,heads=1):\n",
    "        super(BiGAT,self).__init__()\n",
    "        self.conv_st = []\n",
    "        self.conv_ts = []\n",
    "        channels_output = [dataset.num_node_features] + [c*2*heads for c in channels]\n",
    "        channels = [dataset.num_node_features] + channels\n",
    "        for i in range(len(channels)-1):\n",
    "            conv_st = GATConv(channels_output[i], channels[i+1],heads=heads)\n",
    "            self.add_module('conv_st'+str(i),conv_st)\n",
    "            self.conv_st.append(conv_st)\n",
    "            \n",
    "            conv_ts = GATConv(channels_output[i], channels[i+1],heads=heads)\n",
    "            self.add_module('conv_ts'+str(i),conv_ts)\n",
    "            self.conv_ts.append(conv_ts)\n",
    "        \n",
    "        if dataset.name=='PubMed':\n",
    "            self.last = GATConv(channels_output[-1], dataset.num_classes,heads=heads,concat=False)\n",
    "        else:\n",
    "            self.last = GATConv(channels_output[-1], dataset.num_classes)\n",
    "        \n",
    "    def forward(self, data): \n",
    "        x, edge_index = data.x, data.edge_index\n",
    "        st_edges = data.edge_index.t()[1-data.is_reversed].t()\n",
    "        ts_edges = data.edge_index.t()[data.is_reversed].t()\n",
    "#         print(ts_edges.shape)\n",
    "        for i in range(len(self.conv_st)):\n",
    "            x1 = F.elu(self.conv_st[i](x,st_edges))\n",
    "            x2 = F.elu(self.conv_ts[i](x,ts_edges))\n",
    "            x = torch.cat((x1,x2),dim=1)\n",
    "            x = F.dropout(x,p=0.6,training=self.training)\n",
    "        \n",
    "        # last layer\n",
    "        x = self.last(x,edge_index)\n",
    "        x = F.softmax(x,dim=1) \n",
    "        \n",
    "        return x\n",
    "    \n",
    "class TriGAT(torch.nn.Module):\n",
    "    def __init__(self,dataset,channels,heads=1):\n",
    "        super(TriGAT,self).__init__()\n",
    "        self.conv_st = []\n",
    "        self.conv_ts = []\n",
    "        self.conv = []\n",
    "        channels_output = [dataset.num_node_features] + [c*3*heads for c in channels]\n",
    "        channels = [dataset.num_node_features] + channels\n",
    "        for i in range(len(channels)-1):\n",
    "            conv_st = GATConv(channels_output[i], channels[i+1],heads=heads)\n",
    "            self.add_module('conv_st'+str(i),conv_st)\n",
    "            self.conv_st.append(conv_st)\n",
    "            \n",
    "            conv_ts = GATConv(channels_output[i], channels[i+1],heads=heads)\n",
    "            self.add_module('conv_ts'+str(i),conv_ts)\n",
    "            self.conv_ts.append(conv_ts)\n",
    "            \n",
    "            conv = GATConv(channels_output[i],channels[i+1],heads=heads)\n",
    "            self.add_module('conv'+str(i),conv)\n",
    "            self.conv.append(conv)\n",
    "        \n",
    "        if dataset.name=='PubMed':\n",
    "            self.last = GATConv(channels_output[-1], dataset.num_classes,heads=heads,concat=False)\n",
    "        else:\n",
    "            self.last = GATConv(channels_output[-1], dataset.num_classes)\n",
    "        \n",
    "    def forward(self, data): \n",
    "        x, edge_index = data.x, data.edge_index\n",
    "        st_edges = data.edge_index.t()[1-data.is_reversed].t()\n",
    "        ts_edges = data.edge_index.t()[data.is_reversed].t()\n",
    "#         print(ts_edges.shape)\n",
    "        for i in range(len(self.conv_st)):\n",
    "            x1 = F.elu(self.conv_st[i](x,st_edges))\n",
    "            x2 = F.elu(self.conv_ts[i](x,ts_edges))\n",
    "            x3 = F.elu(self.conv[i](x,edge_index))\n",
    "            x = torch.cat((x1,x2,x3),dim=1)\n",
    "            x = F.dropout(x,training=self.training)\n",
    "        \n",
    "        # last layer\n",
    "        x = self.last(x,edge_index)\n",
    "        x = F.softmax(x,dim=1) \n",
    "        \n",
    "        return x"
   ]
  },
  {
   "cell_type": "code",
   "execution_count": 7,
   "metadata": {},
   "outputs": [],
   "source": [
    "\n",
    "def run_and_eval_model(dataset,channels,architecture=MonoGAT,heads=1,epochs=200):\n",
    "    # training process (without batches/transforms)\n",
    "    device = torch.device('cuda' if torch.cuda.is_available() else 'cpu')\n",
    "    model = architecture(dataset,channels,heads).to(device)\n",
    "#     print(model)\n",
    "    data = dataset[0].to(device)\n",
    "    reg = 0.0001 if dataset.name=='PubMed' else 0.01\n",
    "    lr = 0.1 if dataset.name=='PubMed' else 0.01\n",
    "    optimizer = torch.optim.Adam(model.parameters(),lr=lr,weight_decay=reg)\n",
    "    model.train() # to enter training phase\n",
    "    maxacc = 0\n",
    "    chosen = None\n",
    "    for epoch in range(epochs):\n",
    "        optimizer.zero_grad() # saw this a lot in the beginning, maybe resetting gradients (not to accumulate)\n",
    "        out = model(data) # this calls the forward method apparently\n",
    "        loss = F.nll_loss(out[data.train_mask],data.y[data.train_mask]) # nice indexing, easy and short\n",
    "        loss.backward() # magic: real back propagation step, takes care of the gradients and stuff\n",
    "        optimizer.step() # maybe updates the params to be optimized\n",
    "        \n",
    "        model.eval()\n",
    "        _,pred = model(data).max(dim=1) # take prediction out of softmax\n",
    "        correct = float(pred[data.val_mask].eq(data.y[data.val_mask]).sum().item())\n",
    "        acc = correct / data.val_mask.sum().item()\n",
    "        if acc > maxacc:\n",
    "            maxacc = acc\n",
    "            chosen=copy.deepcopy(model)\n",
    "        model.train()\n",
    "    chosen.eval() # enter eval phase\n",
    "    _,pred = chosen(data).max(dim=1) # take prediction out of softmax\n",
    "    correct = float(pred[data.test_mask].eq(data.y[data.test_mask]).sum().item())\n",
    "    acc = correct / data.test_mask.sum().item()\n",
    "    return acc\n",
    "\n",
    "def eval_multiple(dataset,channels,architecture=MonoGAT,heads=1,runs=100,epochs=50):\n",
    "    start = time.time()\n",
    "    accs = []\n",
    "    for i in range(runs):\n",
    "        accs.append(run_and_eval_model(dataset,channels,architecture,heads=heads,epochs=epochs))\n",
    "    elapsed_time = time.time() - start\n",
    "    print('Elaplsed {}'.format(time.strftime(\"%H:%M:%S\", time.gmtime(elapsed_time))))\n",
    "    return sum(accs)/len(accs),np.std(np.array(accs)),accs"
   ]
  },
  {
   "cell_type": "code",
   "execution_count": 2,
   "metadata": {},
   "outputs": [],
   "source": [
    "cora = CitationNetwork('/tmp/cora','cora',directed=False)"
   ]
  },
  {
   "cell_type": "code",
   "execution_count": 3,
   "metadata": {},
   "outputs": [],
   "source": [
    "cora = CitationNetwork('/tmp/cora2','cora',directed=False)"
   ]
  },
  {
   "cell_type": "code",
   "execution_count": 19,
   "metadata": {},
   "outputs": [],
   "source": [
    "cora_full = CitationNetwork('/tmp/cora_full2','cora_full',directed=False)"
   ]
  },
  {
   "cell_type": "code",
   "execution_count": 20,
   "metadata": {},
   "outputs": [
    {
     "data": {
      "text/plain": [
       "'cora_full'"
      ]
     },
     "execution_count": 20,
     "metadata": {},
     "output_type": "execute_result"
    }
   ],
   "source": [
    "cora_full.name"
   ]
  },
  {
   "cell_type": "code",
   "execution_count": 15,
   "metadata": {},
   "outputs": [
    {
     "data": {
      "text/plain": [
       "False"
      ]
     },
     "execution_count": 15,
     "metadata": {},
     "output_type": "execute_result"
    }
   ],
   "source": [
    "cora[0].is_reversed.long().is_cuda"
   ]
  },
  {
   "cell_type": "code",
   "execution_count": 5,
   "metadata": {},
   "outputs": [],
   "source": [
    "citeseer = CitationNetwork('/tmp/citeseer','citeseer',directed=False)"
   ]
  },
  {
   "cell_type": "code",
   "execution_count": 4,
   "metadata": {},
   "outputs": [],
   "source": [
    "PubMed = CitationNetwork('/tmp/PubMed','PubMed',directed=False)"
   ]
  },
  {
   "cell_type": "code",
   "execution_count": 26,
   "metadata": {},
   "outputs": [],
   "source": [
    "coraDirected = CitationNetwork('/tmp/coraDirected','cora',directed=True)\n",
    "citeseerDirected = CitationNetwork('/tmp/citeseerDirected','citeseer',directed=True)\n",
    "PubMedDirected = CitationNetwork('/tmp/PubMedDirected','PubMed',directed=True)"
   ]
  },
  {
   "cell_type": "code",
   "execution_count": 27,
   "metadata": {},
   "outputs": [],
   "source": [
    "coraReversed = CitationNetwork('/tmp/coraReversed','cora',directed=True,reverse=True)\n",
    "citeseerReversed = CitationNetwork('/tmp/citeseerReversed','citeseer',directed=True,reverse=True)\n",
    "PubMedReversed = CitationNetwork('/tmp/PubMedReversed','PubMed',directed=True,reverse=True)"
   ]
  },
  {
   "cell_type": "code",
   "execution_count": 24,
   "metadata": {},
   "outputs": [],
   "source": [
    "coraConfDirected = ConfigurationModelCitationNetwork('/tmp/coraConfDirected','cora',directed=True)\n",
    "citeseerConfDirected = ConfigurationModelCitationNetwork('/tmp/citeseerConfDirected','citeseer',directed=True)\n",
    "PubMedConfDirected = ConfigurationModelCitationNetwork('/tmp/PubMedConfDirected','PubMed',directed=True)"
   ]
  },
  {
   "cell_type": "code",
   "execution_count": 17,
   "metadata": {},
   "outputs": [],
   "source": [
    "coraConfReversed = ConfigurationModelCitationNetwork('/tmp/coraConfReversed','cora',directed=True,reverse=True)\n",
    "citeseerConfReversed = ConfigurationModelCitationNetwork('/tmp/citeseerConfReversed','citeseer',directed=True,reverse=True)\n",
    "PubMedConfReversed = ConfigurationModelCitationNetwork('/tmp/PubMedConfReversed','PubMed',directed=True,reverse=True)"
   ]
  },
  {
   "cell_type": "code",
   "execution_count": 40,
   "metadata": {},
   "outputs": [],
   "source": [
    "coraConf = ConfigurationModelCitationNetwork('/tmp/coraConf','cora',directed=False)\n",
    "citeseerConf = ConfigurationModelCitationNetwork('/tmp/citeseerConf','citeseer',directed=False)\n",
    "PubMedConf = ConfigurationModelCitationNetwork('/tmp/PubMedConf','PubMed',directed=False)"
   ]
  },
  {
   "cell_type": "markdown",
   "metadata": {},
   "source": [
    "## Directed"
   ]
  },
  {
   "cell_type": "code",
   "execution_count": 34,
   "metadata": {},
   "outputs": [
    {
     "name": "stdout",
     "output_type": "stream",
     "text": [
      "Elaplsed 00:08:21\n",
      "coraDirected accuracy: 0.7336+-0.0131\n",
      "Elaplsed 00:03:36\n",
      "citeseerDirected accuracy: 0.7031+-0.0063\n",
      "Elaplsed 00:05:25\n",
      "PubMedDirected accuracy: 0.6752+-0.0138\n"
     ]
    }
   ],
   "source": [
    "acc,stdAcc,accs = eval_multiple(coraDirected,[32],architecture=MonoGAT,heads=2,runs=100,epochs=200)\n",
    "print('coraDirected accuracy: {:.4f}+-{:.4f}'.format(acc,stdAcc))\n",
    "acc,stdAcc,accs = eval_multiple(citeseerDirected,[32],architecture=MonoGAT,heads=2,runs=100,epochs=200)\n",
    "print('citeseerDirected accuracy: {:.4f}+-{:.4f}'.format(acc,stdAcc))\n",
    "acc,stdAcc,accs = eval_multiple(PubMedDirected,[32],architecture=MonoGAT,heads=2,runs=100,epochs=200)\n",
    "print('PubMedDirected accuracy: {:.4f}+-{:.4f}'.format(acc,stdAcc))"
   ]
  },
  {
   "cell_type": "markdown",
   "metadata": {},
   "source": [
    "## Reversed"
   ]
  },
  {
   "cell_type": "code",
   "execution_count": 35,
   "metadata": {},
   "outputs": [
    {
     "name": "stdout",
     "output_type": "stream",
     "text": [
      "Elaplsed 00:05:01\n",
      "coraReversed accuracy: 0.6673+-0.0133\n",
      "Elaplsed 00:04:58\n",
      "citeseerReversed accuracy: 0.6532+-0.0077\n",
      "Elaplsed 00:04:16\n",
      "PubMedReversed accuracy: 0.6834+-0.0059\n"
     ]
    }
   ],
   "source": [
    "acc,stdAcc,accs = eval_multiple(coraReversed,[32],architecture=MonoGAT,heads=2,runs=100,epochs=200)\n",
    "print('coraReversed accuracy: {:.4f}+-{:.4f}'.format(acc,stdAcc))\n",
    "acc,stdAcc,accs = eval_multiple(citeseerReversed,[32],architecture=MonoGAT,heads=2,runs=100,epochs=200)\n",
    "print('citeseerReversed accuracy: {:.4f}+-{:.4f}'.format(acc,stdAcc))\n",
    "acc,stdAcc,accs = eval_multiple(PubMedReversed,[32],architecture=MonoGAT,heads=2,runs=100,epochs=200)\n",
    "print('PubMedReversed accuracy: {:.4f}+-{:.4f}'.format(acc,stdAcc))"
   ]
  },
  {
   "cell_type": "markdown",
   "metadata": {},
   "source": [
    "### Directed Conf Model"
   ]
  },
  {
   "cell_type": "code",
   "execution_count": 36,
   "metadata": {
    "collapsed": true,
    "jupyter": {
     "outputs_hidden": true
    }
   },
   "outputs": [
    {
     "name": "stdout",
     "output_type": "stream",
     "text": [
      "Elaplsed 00:03:00\n",
      "coraConfDirected accuracy: 0.1971+-0.0197\n",
      "Elaplsed 00:04:16\n",
      "citeseerConfDirected accuracy: 0.2840+-0.0146\n"
     ]
    },
    {
     "ename": "KeyboardInterrupt",
     "evalue": "",
     "output_type": "error",
     "traceback": [
      "\u001b[0;31m---------------------------------------------------------------------------\u001b[0m",
      "\u001b[0;31mKeyboardInterrupt\u001b[0m                         Traceback (most recent call last)",
      "\u001b[0;32m<ipython-input-36-81e117a3f552>\u001b[0m in \u001b[0;36m<module>\u001b[0;34m\u001b[0m\n\u001b[1;32m      3\u001b[0m \u001b[0macc\u001b[0m\u001b[0;34m,\u001b[0m\u001b[0mstdAcc\u001b[0m\u001b[0;34m,\u001b[0m\u001b[0maccs\u001b[0m \u001b[0;34m=\u001b[0m \u001b[0meval_multiple\u001b[0m\u001b[0;34m(\u001b[0m\u001b[0mciteseerConfDirected\u001b[0m\u001b[0;34m,\u001b[0m\u001b[0;34m[\u001b[0m\u001b[0;36m32\u001b[0m\u001b[0;34m]\u001b[0m\u001b[0;34m,\u001b[0m\u001b[0marchitecture\u001b[0m\u001b[0;34m=\u001b[0m\u001b[0mMonoGAT\u001b[0m\u001b[0;34m,\u001b[0m\u001b[0mheads\u001b[0m\u001b[0;34m=\u001b[0m\u001b[0;36m2\u001b[0m\u001b[0;34m,\u001b[0m\u001b[0mruns\u001b[0m\u001b[0;34m=\u001b[0m\u001b[0;36m100\u001b[0m\u001b[0;34m,\u001b[0m\u001b[0mepochs\u001b[0m\u001b[0;34m=\u001b[0m\u001b[0;36m200\u001b[0m\u001b[0;34m)\u001b[0m\u001b[0;34m\u001b[0m\u001b[0;34m\u001b[0m\u001b[0m\n\u001b[1;32m      4\u001b[0m \u001b[0mprint\u001b[0m\u001b[0;34m(\u001b[0m\u001b[0;34m'citeseerConfDirected accuracy: {:.4f}+-{:.4f}'\u001b[0m\u001b[0;34m.\u001b[0m\u001b[0mformat\u001b[0m\u001b[0;34m(\u001b[0m\u001b[0macc\u001b[0m\u001b[0;34m,\u001b[0m\u001b[0mstdAcc\u001b[0m\u001b[0;34m)\u001b[0m\u001b[0;34m)\u001b[0m\u001b[0;34m\u001b[0m\u001b[0;34m\u001b[0m\u001b[0m\n\u001b[0;32m----> 5\u001b[0;31m \u001b[0macc\u001b[0m\u001b[0;34m,\u001b[0m\u001b[0mstdAcc\u001b[0m\u001b[0;34m,\u001b[0m\u001b[0maccs\u001b[0m \u001b[0;34m=\u001b[0m \u001b[0meval_multiple\u001b[0m\u001b[0;34m(\u001b[0m\u001b[0mPubMedConfDirected\u001b[0m\u001b[0;34m,\u001b[0m\u001b[0;34m[\u001b[0m\u001b[0;36m32\u001b[0m\u001b[0;34m]\u001b[0m\u001b[0;34m,\u001b[0m\u001b[0marchitecture\u001b[0m\u001b[0;34m=\u001b[0m\u001b[0mMonoGAT\u001b[0m\u001b[0;34m,\u001b[0m\u001b[0mheads\u001b[0m\u001b[0;34m=\u001b[0m\u001b[0;36m2\u001b[0m\u001b[0;34m,\u001b[0m\u001b[0mruns\u001b[0m\u001b[0;34m=\u001b[0m\u001b[0;36m100\u001b[0m\u001b[0;34m,\u001b[0m\u001b[0mepochs\u001b[0m\u001b[0;34m=\u001b[0m\u001b[0;36m200\u001b[0m\u001b[0;34m)\u001b[0m\u001b[0;34m\u001b[0m\u001b[0;34m\u001b[0m\u001b[0m\n\u001b[0m\u001b[1;32m      6\u001b[0m \u001b[0mprint\u001b[0m\u001b[0;34m(\u001b[0m\u001b[0;34m'PubMedConfDirected accuracy: {:.4f}+-{:.4f}'\u001b[0m\u001b[0;34m.\u001b[0m\u001b[0mformat\u001b[0m\u001b[0;34m(\u001b[0m\u001b[0macc\u001b[0m\u001b[0;34m,\u001b[0m\u001b[0mstdAcc\u001b[0m\u001b[0;34m)\u001b[0m\u001b[0;34m)\u001b[0m\u001b[0;34m\u001b[0m\u001b[0;34m\u001b[0m\u001b[0m\n",
      "\u001b[0;32m<ipython-input-20-fadf4dac8751>\u001b[0m in \u001b[0;36meval_multiple\u001b[0;34m(dataset, channels, architecture, heads, runs, epochs)\u001b[0m\n\u001b[1;32m     36\u001b[0m     \u001b[0maccs\u001b[0m \u001b[0;34m=\u001b[0m \u001b[0;34m[\u001b[0m\u001b[0;34m]\u001b[0m\u001b[0;34m\u001b[0m\u001b[0;34m\u001b[0m\u001b[0m\n\u001b[1;32m     37\u001b[0m     \u001b[0;32mfor\u001b[0m \u001b[0mi\u001b[0m \u001b[0;32min\u001b[0m \u001b[0mrange\u001b[0m\u001b[0;34m(\u001b[0m\u001b[0mruns\u001b[0m\u001b[0;34m)\u001b[0m\u001b[0;34m:\u001b[0m\u001b[0;34m\u001b[0m\u001b[0;34m\u001b[0m\u001b[0m\n\u001b[0;32m---> 38\u001b[0;31m         \u001b[0maccs\u001b[0m\u001b[0;34m.\u001b[0m\u001b[0mappend\u001b[0m\u001b[0;34m(\u001b[0m\u001b[0mrun_and_eval_model\u001b[0m\u001b[0;34m(\u001b[0m\u001b[0mdataset\u001b[0m\u001b[0;34m,\u001b[0m\u001b[0mchannels\u001b[0m\u001b[0;34m,\u001b[0m\u001b[0marchitecture\u001b[0m\u001b[0;34m,\u001b[0m\u001b[0mheads\u001b[0m\u001b[0;34m=\u001b[0m\u001b[0mheads\u001b[0m\u001b[0;34m,\u001b[0m\u001b[0mepochs\u001b[0m\u001b[0;34m=\u001b[0m\u001b[0mepochs\u001b[0m\u001b[0;34m)\u001b[0m\u001b[0;34m)\u001b[0m\u001b[0;34m\u001b[0m\u001b[0;34m\u001b[0m\u001b[0m\n\u001b[0m\u001b[1;32m     39\u001b[0m     \u001b[0melapsed_time\u001b[0m \u001b[0;34m=\u001b[0m \u001b[0mtime\u001b[0m\u001b[0;34m.\u001b[0m\u001b[0mtime\u001b[0m\u001b[0;34m(\u001b[0m\u001b[0;34m)\u001b[0m \u001b[0;34m-\u001b[0m \u001b[0mstart\u001b[0m\u001b[0;34m\u001b[0m\u001b[0;34m\u001b[0m\u001b[0m\n\u001b[1;32m     40\u001b[0m     \u001b[0mprint\u001b[0m\u001b[0;34m(\u001b[0m\u001b[0;34m'Elaplsed {}'\u001b[0m\u001b[0;34m.\u001b[0m\u001b[0mformat\u001b[0m\u001b[0;34m(\u001b[0m\u001b[0mtime\u001b[0m\u001b[0;34m.\u001b[0m\u001b[0mstrftime\u001b[0m\u001b[0;34m(\u001b[0m\u001b[0;34m\"%H:%M:%S\"\u001b[0m\u001b[0;34m,\u001b[0m \u001b[0mtime\u001b[0m\u001b[0;34m.\u001b[0m\u001b[0mgmtime\u001b[0m\u001b[0;34m(\u001b[0m\u001b[0melapsed_time\u001b[0m\u001b[0;34m)\u001b[0m\u001b[0;34m)\u001b[0m\u001b[0;34m)\u001b[0m\u001b[0;34m)\u001b[0m\u001b[0;34m\u001b[0m\u001b[0;34m\u001b[0m\u001b[0m\n",
      "\u001b[0;32m<ipython-input-20-fadf4dac8751>\u001b[0m in \u001b[0;36mrun_and_eval_model\u001b[0;34m(dataset, channels, architecture, heads, epochs)\u001b[0m\n\u001b[1;32m     15\u001b[0m         \u001b[0mout\u001b[0m \u001b[0;34m=\u001b[0m \u001b[0mmodel\u001b[0m\u001b[0;34m(\u001b[0m\u001b[0mdata\u001b[0m\u001b[0;34m)\u001b[0m \u001b[0;31m# this calls the forward method apparently\u001b[0m\u001b[0;34m\u001b[0m\u001b[0;34m\u001b[0m\u001b[0m\n\u001b[1;32m     16\u001b[0m         \u001b[0mloss\u001b[0m \u001b[0;34m=\u001b[0m \u001b[0mF\u001b[0m\u001b[0;34m.\u001b[0m\u001b[0mnll_loss\u001b[0m\u001b[0;34m(\u001b[0m\u001b[0mout\u001b[0m\u001b[0;34m[\u001b[0m\u001b[0mdata\u001b[0m\u001b[0;34m.\u001b[0m\u001b[0mtrain_mask\u001b[0m\u001b[0;34m]\u001b[0m\u001b[0;34m,\u001b[0m\u001b[0mdata\u001b[0m\u001b[0;34m.\u001b[0m\u001b[0my\u001b[0m\u001b[0;34m[\u001b[0m\u001b[0mdata\u001b[0m\u001b[0;34m.\u001b[0m\u001b[0mtrain_mask\u001b[0m\u001b[0;34m]\u001b[0m\u001b[0;34m)\u001b[0m \u001b[0;31m# nice indexing, easy and short\u001b[0m\u001b[0;34m\u001b[0m\u001b[0;34m\u001b[0m\u001b[0m\n\u001b[0;32m---> 17\u001b[0;31m         \u001b[0mloss\u001b[0m\u001b[0;34m.\u001b[0m\u001b[0mbackward\u001b[0m\u001b[0;34m(\u001b[0m\u001b[0;34m)\u001b[0m \u001b[0;31m# magic: real back propagation step, takes care of the gradients and stuff\u001b[0m\u001b[0;34m\u001b[0m\u001b[0;34m\u001b[0m\u001b[0m\n\u001b[0m\u001b[1;32m     18\u001b[0m         \u001b[0moptimizer\u001b[0m\u001b[0;34m.\u001b[0m\u001b[0mstep\u001b[0m\u001b[0;34m(\u001b[0m\u001b[0;34m)\u001b[0m \u001b[0;31m# maybe updates the params to be optimized\u001b[0m\u001b[0;34m\u001b[0m\u001b[0;34m\u001b[0m\u001b[0m\n\u001b[1;32m     19\u001b[0m \u001b[0;34m\u001b[0m\u001b[0m\n",
      "\u001b[0;32m~/anaconda3/lib/python3.7/site-packages/torch/tensor.py\u001b[0m in \u001b[0;36mbackward\u001b[0;34m(self, gradient, retain_graph, create_graph)\u001b[0m\n\u001b[1;32m    105\u001b[0m                 \u001b[0mproducts\u001b[0m\u001b[0;34m.\u001b[0m \u001b[0mDefaults\u001b[0m \u001b[0mto\u001b[0m\u001b[0;31m \u001b[0m\u001b[0;31m`\u001b[0m\u001b[0;31m`\u001b[0m\u001b[0;32mFalse\u001b[0m\u001b[0;31m`\u001b[0m\u001b[0;31m`\u001b[0m\u001b[0;34m.\u001b[0m\u001b[0;34m\u001b[0m\u001b[0;34m\u001b[0m\u001b[0m\n\u001b[1;32m    106\u001b[0m         \"\"\"\n\u001b[0;32m--> 107\u001b[0;31m         \u001b[0mtorch\u001b[0m\u001b[0;34m.\u001b[0m\u001b[0mautograd\u001b[0m\u001b[0;34m.\u001b[0m\u001b[0mbackward\u001b[0m\u001b[0;34m(\u001b[0m\u001b[0mself\u001b[0m\u001b[0;34m,\u001b[0m \u001b[0mgradient\u001b[0m\u001b[0;34m,\u001b[0m \u001b[0mretain_graph\u001b[0m\u001b[0;34m,\u001b[0m \u001b[0mcreate_graph\u001b[0m\u001b[0;34m)\u001b[0m\u001b[0;34m\u001b[0m\u001b[0;34m\u001b[0m\u001b[0m\n\u001b[0m\u001b[1;32m    108\u001b[0m \u001b[0;34m\u001b[0m\u001b[0m\n\u001b[1;32m    109\u001b[0m     \u001b[0;32mdef\u001b[0m \u001b[0mregister_hook\u001b[0m\u001b[0;34m(\u001b[0m\u001b[0mself\u001b[0m\u001b[0;34m,\u001b[0m \u001b[0mhook\u001b[0m\u001b[0;34m)\u001b[0m\u001b[0;34m:\u001b[0m\u001b[0;34m\u001b[0m\u001b[0;34m\u001b[0m\u001b[0m\n",
      "\u001b[0;32m~/anaconda3/lib/python3.7/site-packages/torch/autograd/__init__.py\u001b[0m in \u001b[0;36mbackward\u001b[0;34m(tensors, grad_tensors, retain_graph, create_graph, grad_variables)\u001b[0m\n\u001b[1;32m     91\u001b[0m     Variable._execution_engine.run_backward(\n\u001b[1;32m     92\u001b[0m         \u001b[0mtensors\u001b[0m\u001b[0;34m,\u001b[0m \u001b[0mgrad_tensors\u001b[0m\u001b[0;34m,\u001b[0m \u001b[0mretain_graph\u001b[0m\u001b[0;34m,\u001b[0m \u001b[0mcreate_graph\u001b[0m\u001b[0;34m,\u001b[0m\u001b[0;34m\u001b[0m\u001b[0;34m\u001b[0m\u001b[0m\n\u001b[0;32m---> 93\u001b[0;31m         allow_unreachable=True)  # allow_unreachable flag\n\u001b[0m\u001b[1;32m     94\u001b[0m \u001b[0;34m\u001b[0m\u001b[0m\n\u001b[1;32m     95\u001b[0m \u001b[0;34m\u001b[0m\u001b[0m\n",
      "\u001b[0;31mKeyboardInterrupt\u001b[0m: "
     ]
    }
   ],
   "source": [
    "acc,stdAcc,accs = eval_multiple(coraConfDirected,[32],architecture=MonoGAT,heads=2,runs=100,epochs=200)\n",
    "print('coraConfDirected accuracy: {:.4f}+-{:.4f}'.format(acc,stdAcc))\n",
    "acc,stdAcc,accs = eval_multiple(citeseerConfDirected,[32],architecture=MonoGAT,heads=2,runs=100,epochs=200)\n",
    "print('citeseerConfDirected accuracy: {:.4f}+-{:.4f}'.format(acc,stdAcc))\n"
   ]
  },
  {
   "cell_type": "code",
   "execution_count": 41,
   "metadata": {},
   "outputs": [
    {
     "name": "stdout",
     "output_type": "stream",
     "text": [
      "Elaplsed 00:01:58\n",
      "PubMedConfDirected accuracy: 0.4283+-0.0085\n"
     ]
    }
   ],
   "source": [
    "\n",
    "acc,stdAcc,accs = eval_multiple(PubMedConfDirected,[32],architecture=MonoGAT,heads=2,runs=50,epochs=200)\n",
    "print('PubMedConfDirected accuracy: {:.4f}+-{:.4f}'.format(acc,stdAcc))"
   ]
  },
  {
   "cell_type": "markdown",
   "metadata": {},
   "source": [
    "### Reversed Conf Model"
   ]
  },
  {
   "cell_type": "code",
   "execution_count": 42,
   "metadata": {},
   "outputs": [
    {
     "name": "stdout",
     "output_type": "stream",
     "text": [
      "Elaplsed 00:01:32\n",
      "coraConfReversed accuracy: 0.3052+-0.0148\n",
      "Elaplsed 00:01:29\n",
      "citeseerConfReversed accuracy: 0.3167+-0.0166\n",
      "Elaplsed 00:01:54\n",
      "PubMedConfReversed accuracy: 0.5844+-0.0145\n"
     ]
    }
   ],
   "source": [
    "acc,stdAcc,accs = eval_multiple(coraConfReversed,[32],architecture=MonoGAT,heads=2,runs=50,epochs=200)\n",
    "print('coraConfReversed accuracy: {:.4f}+-{:.4f}'.format(acc,stdAcc))\n",
    "acc,stdAcc,accs = eval_multiple(citeseerConfReversed,[32],architecture=MonoGAT,heads=2,runs=50,epochs=200)\n",
    "print('citeseerConfReversed accuracy: {:.4f}+-{:.4f}'.format(acc,stdAcc))\n",
    "acc,stdAcc,accs = eval_multiple(PubMedConfReversed,[32],architecture=MonoGAT,heads=2,runs=50,epochs=200)\n",
    "print('PubMedConfReversed accuracy: {:.4f}+-{:.4f}'.format(acc,stdAcc))"
   ]
  },
  {
   "cell_type": "markdown",
   "metadata": {},
   "source": [
    "### Undirected Conf Model"
   ]
  },
  {
   "cell_type": "code",
   "execution_count": 43,
   "metadata": {},
   "outputs": [
    {
     "name": "stdout",
     "output_type": "stream",
     "text": [
      "Elaplsed 00:01:31\n",
      "coraConf accuracy: 0.2274+-0.0499\n",
      "Elaplsed 00:01:31\n",
      "citeseerConf accuracy: 0.3597+-0.0200\n",
      "Elaplsed 00:02:21\n",
      "PubMedConf accuracy: 0.4923+-0.0160\n"
     ]
    }
   ],
   "source": [
    "acc,stdAcc,accs = eval_multiple(coraConf,[32],architecture=MonoGAT,heads=2,runs=50,epochs=200)\n",
    "print('coraConf accuracy: {:.4f}+-{:.4f}'.format(acc,stdAcc))\n",
    "acc,stdAcc,accs = eval_multiple(citeseerConf,[32],architecture=MonoGAT,heads=2,runs=50,epochs=200)\n",
    "print('citeseerConf accuracy: {:.4f}+-{:.4f}'.format(acc,stdAcc))\n",
    "acc,stdAcc,accs = eval_multiple(PubMedConf,[32],architecture=MonoGAT,heads=2,runs=50,epochs=200)\n",
    "print('PubMedConf accuracy: {:.4f}+-{:.4f}'.format(acc,stdAcc))"
   ]
  },
  {
   "cell_type": "code",
   "execution_count": 44,
   "metadata": {},
   "outputs": [
    {
     "name": "stdout",
     "output_type": "stream",
     "text": [
      "Elaplsed 00:02:16\n",
      "coraConf accuracy: 0.2736+-0.0262\n",
      "Elaplsed 00:02:19\n",
      "citeseerConf accuracy: 0.3376+-0.0190\n",
      "Elaplsed 00:03:14\n",
      "PubMedConf accuracy: 0.5490+-0.0315\n"
     ]
    }
   ],
   "source": [
    "acc,stdAcc,accs = eval_multiple(coraConf,[32],architecture=BiGAT,heads=2,runs=50,epochs=200)\n",
    "print('coraConf accuracy: {:.4f}+-{:.4f}'.format(acc,stdAcc))\n",
    "acc,stdAcc,accs = eval_multiple(citeseerConf,[32],architecture=BiGAT,heads=2,runs=50,epochs=200)\n",
    "print('citeseerConf accuracy: {:.4f}+-{:.4f}'.format(acc,stdAcc))\n",
    "acc,stdAcc,accs = eval_multiple(PubMedConf,[32],architecture=BiGAT,heads=2,runs=50,epochs=200)\n",
    "print('PubMedConf accuracy: {:.4f}+-{:.4f}'.format(acc,stdAcc))"
   ]
  },
  {
   "cell_type": "code",
   "execution_count": 45,
   "metadata": {},
   "outputs": [
    {
     "name": "stdout",
     "output_type": "stream",
     "text": [
      "Elaplsed 00:02:55\n",
      "coraConf accuracy: 0.2751+-0.0306\n",
      "Elaplsed 00:02:59\n",
      "citeseerConf accuracy: 0.3504+-0.0209\n",
      "Elaplsed 00:05:07\n",
      "PubMedConf accuracy: 0.5440+-0.0307\n"
     ]
    }
   ],
   "source": [
    "acc,stdAcc,accs = eval_multiple(coraConf,[32],architecture=TriGAT,heads=2,runs=50,epochs=200)\n",
    "print('coraConf accuracy: {:.4f}+-{:.4f}'.format(acc,stdAcc))\n",
    "acc,stdAcc,accs = eval_multiple(citeseerConf,[32],architecture=TriGAT,heads=2,runs=50,epochs=200)\n",
    "print('citeseerConf accuracy: {:.4f}+-{:.4f}'.format(acc,stdAcc))\n",
    "acc,stdAcc,accs = eval_multiple(PubMedConf,[32],architecture=TriGAT,heads=2,runs=50,epochs=200)\n",
    "print('PubMedConf accuracy: {:.4f}+-{:.4f}'.format(acc,stdAcc))"
   ]
  },
  {
   "cell_type": "markdown",
   "metadata": {},
   "source": [
    "### Architecture reported by the authors"
   ]
  },
  {
   "cell_type": "markdown",
   "metadata": {},
   "source": [
    "#### Cora"
   ]
  },
  {
   "cell_type": "code",
   "execution_count": 11,
   "metadata": {},
   "outputs": [
    {
     "name": "stdout",
     "output_type": "stream",
     "text": [
      "Elaplsed 00:03:50\n",
      "cora accuracy: 0.8091\n",
      "Elaplsed 00:05:15\n",
      "cora accuracy: 0.8104\n",
      "Elaplsed 00:07:01\n",
      "cora accuracy: 0.8133\n"
     ]
    }
   ],
   "source": [
    "print('cora accuracy: {:.4f}'.format(\n",
    "    eval_multiple(cora,[32],architecture=MonoGAT,heads=2,runs=100,epochs=200)[0]))\n",
    "print('cora accuracy: {:.4f}'.format(\n",
    "    eval_multiple(cora,[16],architecture=BiGAT,heads=2,runs=100,epochs=200)[0]))\n",
    "print('cora accuracy: {:.4f}'.format(\n",
    "    eval_multiple(cora,[10],architecture=TriGAT,heads=2,runs=100,epochs=200)[0]))"
   ]
  },
  {
   "cell_type": "markdown",
   "metadata": {},
   "source": [
    "AFTER param_search"
   ]
  },
  {
   "cell_type": "code",
   "execution_count": 7,
   "metadata": {},
   "outputs": [
    {
     "name": "stdout",
     "output_type": "stream",
     "text": [
      "Elaplsed 00:05:13\n",
      "cora accuracy: 0.8097\n",
      "Elaplsed 00:09:51\n",
      "cora accuracy: 0.8077\n",
      "Elaplsed 00:15:26\n",
      "cora accuracy: 0.8148\n"
     ]
    }
   ],
   "source": [
    "print('cora accuracy: {:.4f}'.format(\n",
    "    eval_multiple(cora,[8],architecture=MonoGAT,heads=8,runs=100,epochs=200)[0]))\n",
    "print('cora accuracy: {:.4f}'.format(\n",
    "    eval_multiple(cora,[4],architecture=BiGAT,heads=8,runs=100,epochs=200)[0]))\n",
    "print('cora accuracy: {:.4f}'.format(\n",
    "    eval_multiple(cora,[3],architecture=TriGAT,heads=8,runs=100,epochs=200)[0]))"
   ]
  },
  {
   "cell_type": "markdown",
   "metadata": {},
   "source": [
    "Older: before param_search"
   ]
  },
  {
   "cell_type": "code",
   "execution_count": 42,
   "metadata": {},
   "outputs": [
    {
     "name": "stdout",
     "output_type": "stream",
     "text": [
      "Elaplsed 00:03:51\n",
      "cora accuracy: 0.7968\n",
      "Elaplsed 00:06:13\n",
      "cora accuracy: 0.7911\n",
      "Elaplsed 00:08:04\n",
      "cora accuracy: 0.7950\n"
     ]
    }
   ],
   "source": [
    "print('cora accuracy: {:.4f}'.format(\n",
    "    eval_multiple(cora,[8],architecture=MonoGAT,heads=8,runs=100,epochs=200)[0]))\n",
    "print('cora accuracy: {:.4f}'.format(\n",
    "    eval_multiple(cora,[4],architecture=BiGAT,heads=8,runs=100,epochs=200)[0]))\n",
    "print('cora accuracy: {:.4f}'.format(\n",
    "    eval_multiple(cora,[3],architecture=TriGAT,heads=8,runs=100,epochs=200)[0]))"
   ]
  },
  {
   "cell_type": "code",
   "execution_count": 47,
   "metadata": {},
   "outputs": [
    {
     "name": "stdout",
     "output_type": "stream",
     "text": [
      "Elaplsed 00:05:56\n",
      "cora accuracy: 0.7949\n"
     ]
    }
   ],
   "source": [
    "\n",
    "print('cora accuracy: {:.4f}'.format(\n",
    "    eval_multiple(cora,[2],architecture=TriGAT,heads=8,runs=100,epochs=200)[0]))"
   ]
  },
  {
   "cell_type": "markdown",
   "metadata": {},
   "source": [
    "#### CiteSeer"
   ]
  },
  {
   "cell_type": "code",
   "execution_count": 12,
   "metadata": {},
   "outputs": [
    {
     "name": "stdout",
     "output_type": "stream",
     "text": [
      "Elaplsed 00:03:30\n",
      "citeseer accuracy: 0.7364\n",
      "Elaplsed 00:04:35\n",
      "citeseer accuracy: 0.7318\n",
      "Elaplsed 00:05:59\n",
      "citeseer accuracy: 0.7333\n"
     ]
    }
   ],
   "source": [
    "print('citeseer accuracy: {:.4f}'.format(\n",
    "    eval_multiple(citeseer,[32],architecture=MonoGAT,heads=2,runs=100,epochs=200)[0]))\n",
    "print('citeseer accuracy: {:.4f}'.format(\n",
    "    eval_multiple(citeseer,[16],architecture=BiGAT,heads=2,runs=100,epochs=200)[0]))\n",
    "print('citeseer accuracy: {:.4f}'.format(\n",
    "    eval_multiple(citeseer,[10],architecture=TriGAT,heads=2,runs=100,epochs=200)[0]))"
   ]
  },
  {
   "cell_type": "markdown",
   "metadata": {},
   "source": [
    "AFTER param_search"
   ]
  },
  {
   "cell_type": "code",
   "execution_count": 8,
   "metadata": {},
   "outputs": [
    {
     "name": "stdout",
     "output_type": "stream",
     "text": [
      "Elaplsed 00:14:29\n",
      "citeseer accuracy: 0.7377\n",
      "Elaplsed 00:08:29\n",
      "citeseer accuracy: 0.7334\n",
      "Elaplsed 00:08:55\n",
      "citeseer accuracy: 0.7337\n"
     ]
    }
   ],
   "source": [
    "print('citeseer accuracy: {:.4f}'.format(\n",
    "    eval_multiple(citeseer,[8],architecture=MonoGAT,heads=8,runs=100,epochs=200)[0]))\n",
    "print('citeseer accuracy: {:.4f}'.format(\n",
    "    eval_multiple(citeseer,[4],architecture=BiGAT,heads=8,runs=100,epochs=200)[0]))\n",
    "print('citeseer accuracy: {:.4f}'.format(\n",
    "    eval_multiple(citeseer,[3],architecture=TriGAT,heads=8,runs=100,epochs=200)[0]))"
   ]
  },
  {
   "cell_type": "markdown",
   "metadata": {},
   "source": [
    "Older: before param_search"
   ]
  },
  {
   "cell_type": "code",
   "execution_count": 44,
   "metadata": {},
   "outputs": [
    {
     "name": "stdout",
     "output_type": "stream",
     "text": [
      "Elaplsed 00:04:44\n",
      "citeseer accuracy: 0.7212\n",
      "Elaplsed 00:06:40\n",
      "citeseer accuracy: 0.7270\n",
      "Elaplsed 00:09:10\n",
      "citeseer accuracy: 0.7258\n"
     ]
    }
   ],
   "source": [
    "print('citeseer accuracy: {:.4f}'.format(\n",
    "    eval_multiple(citeseer,[8],architecture=MonoGAT,heads=8,runs=100,epochs=200)[0]))\n",
    "print('citeseer accuracy: {:.4f}'.format(\n",
    "    eval_multiple(citeseer,[4],architecture=BiGAT,heads=8,runs=100,epochs=200)[0]))\n",
    "print('citeseer accuracy: {:.4f}'.format(\n",
    "    eval_multiple(citeseer,[3],architecture=TriGAT,heads=8,runs=100,epochs=200)[0]))"
   ]
  },
  {
   "cell_type": "code",
   "execution_count": 46,
   "metadata": {},
   "outputs": [
    {
     "name": "stdout",
     "output_type": "stream",
     "text": [
      "Elaplsed 00:09:26\n",
      "citeseer accuracy: 0.7280\n"
     ]
    }
   ],
   "source": [
    "print('citeseer accuracy: {:.4f}'.format(\n",
    "    eval_multiple(citeseer,[2],architecture=TriGAT,heads=8,runs=100,epochs=200)[0]))"
   ]
  },
  {
   "cell_type": "markdown",
   "metadata": {},
   "source": [
    "#### PubMed"
   ]
  },
  {
   "cell_type": "markdown",
   "metadata": {},
   "source": [
    "After param search for PubMed"
   ]
  },
  {
   "cell_type": "code",
   "execution_count": 8,
   "metadata": {},
   "outputs": [
    {
     "name": "stdout",
     "output_type": "stream",
     "text": [
      "Elaplsed 00:07:20\n",
      "PubMed accuracy: 0.7762\n",
      "Elaplsed 00:07:43\n",
      "PubMed accuracy: 0.7545\n",
      "Elaplsed 00:09:35\n",
      "PubMed accuracy: 0.7626\n"
     ]
    }
   ],
   "source": [
    "print('PubMed accuracy: {:.4f}'.format(\n",
    "    eval_multiple(PubMed,[8],architecture=MonoGAT,heads=8,runs=100,epochs=200)[0]))\n",
    "print('PubMed accuracy: {:.4f}'.format(\n",
    "    eval_multiple(PubMed,[4],architecture=BiGAT,heads=8,runs=100,epochs=200)[0]))\n",
    "print('PubMed accuracy: {:.4f}'.format(\n",
    "    eval_multiple(PubMed,[2],architecture=TriGAT,heads=8,runs=100,epochs=200)[0]))"
   ]
  },
  {
   "cell_type": "code",
   "execution_count": 13,
   "metadata": {},
   "outputs": [
    {
     "name": "stdout",
     "output_type": "stream",
     "text": [
      "Elaplsed 00:05:37\n",
      "PubMed accuracy: 0.7686\n",
      "Elaplsed 00:06:17\n",
      "PubMed accuracy: 0.7502\n",
      "Elaplsed 00:07:37\n",
      "PubMed accuracy: 0.7573\n"
     ]
    }
   ],
   "source": [
    "print('PubMed accuracy: {:.4f}'.format(\n",
    "    eval_multiple(PubMed,[32],architecture=MonoGAT,heads=2,runs=100,epochs=200)[0]))\n",
    "print('PubMed accuracy: {:.4f}'.format(\n",
    "    eval_multiple(PubMed,[16],architecture=BiGAT,heads=2,runs=100,epochs=200)[0]))\n",
    "print('PubMed accuracy: {:.4f}'.format(\n",
    "    eval_multiple(PubMed,[10],architecture=TriGAT,heads=2,runs=100,epochs=200)[0]))"
   ]
  },
  {
   "cell_type": "markdown",
   "metadata": {},
   "source": [
    "AFTER param_search"
   ]
  },
  {
   "cell_type": "code",
   "execution_count": 10,
   "metadata": {},
   "outputs": [
    {
     "name": "stdout",
     "output_type": "stream",
     "text": [
      "Elaplsed 00:09:41\n",
      "PubMed accuracy: 0.7718\n",
      "Elaplsed 00:11:09\n",
      "PubMed accuracy: 0.7461\n",
      "Elaplsed 00:11:15\n",
      "PubMed accuracy: 0.7537\n"
     ]
    }
   ],
   "source": [
    "print('PubMed accuracy: {:.4f}'.format(\n",
    "    eval_multiple(PubMed,[8],architecture=MonoGAT,heads=8,runs=100,epochs=200)[0]))\n",
    "print('PubMed accuracy: {:.4f}'.format(\n",
    "    eval_multiple(PubMed,[4],architecture=BiGAT,heads=8,runs=100,epochs=200)[0]))\n",
    "print('PubMed accuracy: {:.4f}'.format(\n",
    "    eval_multiple(PubMed,[2],architecture=TriGAT,heads=8,runs=100,epochs=200)[0]))"
   ]
  },
  {
   "cell_type": "markdown",
   "metadata": {},
   "source": [
    "Older: before param_search"
   ]
  },
  {
   "cell_type": "code",
   "execution_count": 56,
   "metadata": {},
   "outputs": [
    {
     "name": "stdout",
     "output_type": "stream",
     "text": [
      "Elaplsed 00:12:29\n",
      "PubMed accuracy: 0.7708\n",
      "Elaplsed 00:07:31\n",
      "PubMed accuracy: 0.7446\n",
      "Elaplsed 00:09:15\n",
      "PubMed accuracy: 0.7542\n"
     ]
    }
   ],
   "source": [
    "print('PubMed accuracy: {:.4f}'.format(\n",
    "    eval_multiple(PubMed,[8],architecture=MonoGAT,heads=8,runs=100,epochs=200)[0]))\n",
    "print('PubMed accuracy: {:.4f}'.format(\n",
    "    eval_multiple(PubMed,[4],architecture=BiGAT,heads=8,runs=100,epochs=200)[0]))\n",
    "print('PubMed accuracy: {:.4f}'.format(\n",
    "    eval_multiple(PubMed,[2],architecture=TriGAT,heads=8,runs=100,epochs=200)[0]))"
   ]
  },
  {
   "cell_type": "markdown",
   "metadata": {},
   "source": [
    "### Single-head architecture with same representation size"
   ]
  },
  {
   "cell_type": "markdown",
   "metadata": {},
   "source": [
    "#### Cora"
   ]
  },
  {
   "cell_type": "code",
   "execution_count": 43,
   "metadata": {},
   "outputs": [
    {
     "name": "stdout",
     "output_type": "stream",
     "text": [
      "Elaplsed 00:04:33\n",
      "cora accuracy: 0.7838\n",
      "Elaplsed 00:06:29\n",
      "cora accuracy: 0.7912\n",
      "Elaplsed 00:08:14\n",
      "cora accuracy: 0.7920\n"
     ]
    }
   ],
   "source": [
    "print('cora accuracy: {:.4f}'.format(\n",
    "    eval_multiple(cora,[64],architecture=MonoGAT,heads=1,runs=100,epochs=200)[0]))\n",
    "print('cora accuracy: {:.4f}'.format(\n",
    "    eval_multiple(cora,[32],architecture=BiGAT,heads=1,runs=100,epochs=200)[0]))\n",
    "print('cora accuracy: {:.4f}'.format(\n",
    "    eval_multiple(cora,[20],architecture=TriGAT,heads=1,runs=100,epochs=200)[0]))"
   ]
  },
  {
   "cell_type": "markdown",
   "metadata": {},
   "source": [
    "#### CiteSeer"
   ]
  },
  {
   "cell_type": "code",
   "execution_count": 45,
   "metadata": {},
   "outputs": [
    {
     "name": "stdout",
     "output_type": "stream",
     "text": [
      "Elaplsed 00:03:19\n",
      "citeseer accuracy: 0.7170\n",
      "Elaplsed 00:04:36\n",
      "citeseer accuracy: 0.7232\n",
      "Elaplsed 00:05:51\n",
      "citeseer accuracy: 0.7245\n"
     ]
    }
   ],
   "source": [
    "print('citeseer accuracy: {:.4f}'.format(\n",
    "    eval_multiple(citeseer,[64],architecture=MonoGAT,heads=1,runs=100,epochs=200)[0]))\n",
    "print('citeseer accuracy: {:.4f}'.format(\n",
    "    eval_multiple(citeseer,[32],architecture=BiGAT,heads=1,runs=100,epochs=200)[0]))\n",
    "print('citeseer accuracy: {:.4f}'.format(\n",
    "    eval_multiple(citeseer,[20],architecture=TriGAT,heads=1,runs=100,epochs=200)[0]))"
   ]
  },
  {
   "cell_type": "markdown",
   "metadata": {},
   "source": [
    "#### PubMed"
   ]
  },
  {
   "cell_type": "code",
   "execution_count": 57,
   "metadata": {},
   "outputs": [
    {
     "name": "stdout",
     "output_type": "stream",
     "text": [
      "Elaplsed 00:04:47\n",
      "PubMed accuracy: 0.7601\n",
      "Elaplsed 00:05:23\n",
      "PubMed accuracy: 0.7488\n",
      "Elaplsed 00:06:40\n",
      "PubMed accuracy: 0.7533\n"
     ]
    }
   ],
   "source": [
    "print('PubMed accuracy: {:.4f}'.format(\n",
    "    eval_multiple(PubMed,[64],architecture=MonoGAT,heads=1,runs=100,epochs=200)[0]))\n",
    "print('PubMed accuracy: {:.4f}'.format(\n",
    "    eval_multiple(PubMed,[32],architecture=BiGAT,heads=1,runs=100,epochs=200)[0]))\n",
    "print('PubMed accuracy: {:.4f}'.format(\n",
    "    eval_multiple(PubMed,[20],architecture=TriGAT,heads=1,runs=100,epochs=200)[0]))"
   ]
  },
  {
   "cell_type": "code",
   "execution_count": null,
   "metadata": {},
   "outputs": [],
   "source": []
  }
 ],
 "metadata": {
  "kernelspec": {
   "display_name": "Python 3",
   "language": "python",
   "name": "python3"
  },
  "language_info": {
   "codemirror_mode": {
    "name": "ipython",
    "version": 3
   },
   "file_extension": ".py",
   "mimetype": "text/x-python",
   "name": "python",
   "nbconvert_exporter": "python",
   "pygments_lexer": "ipython3",
   "version": "3.7.5"
  }
 },
 "nbformat": 4,
 "nbformat_minor": 4
}
